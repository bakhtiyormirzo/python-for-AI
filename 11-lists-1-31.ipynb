{
 "cells": [
  {
   "cell_type": "markdown",
   "id": "ee672d7f",
   "metadata": {},
   "source": [
    "# Arrays (Lists) 1-31"
   ]
  },
  {
   "cell_type": "code",
   "execution_count": 64,
   "id": "31c3dd4a",
   "metadata": {},
   "outputs": [
    {
     "name": "stdout",
     "output_type": "stream",
     "text": [
      "n = 5\n",
      "[1, 3, 5, 7, 9]\n"
     ]
    }
   ],
   "source": [
    "# N1\n",
    "\n",
    "def nOdd(n):\n",
    "    a = [] \n",
    "    for i in range(n):\n",
    "        a.append(2*i+1)\n",
    "    return a\n",
    "\n",
    "n = int(input(\"n = \"))\n",
    "print(nOdd(n))"
   ]
  },
  {
   "cell_type": "code",
   "execution_count": 68,
   "id": "12da5d95",
   "metadata": {},
   "outputs": [
    {
     "name": "stdout",
     "output_type": "stream",
     "text": [
      "n = 5\n",
      "[1, 2, 4, 8, 16]\n"
     ]
    }
   ],
   "source": [
    "# N2\n",
    "\n",
    "def nthPowerOfTwo(n):\n",
    "    a = [] \n",
    "    for i in range(n):\n",
    "        a.append(2**i)\n",
    "    return a\n",
    "\n",
    "n = int(input(\"n = \"))\n",
    "print(nthPowerOfTwo(n))"
   ]
  },
  {
   "cell_type": "code",
   "execution_count": 73,
   "id": "c4e42e26",
   "metadata": {},
   "outputs": [
    {
     "name": "stdout",
     "output_type": "stream",
     "text": [
      "n = 5\n",
      "a = 3\n",
      "d = 4\n",
      "[3, 7, 11, 15, 19]\n"
     ]
    }
   ],
   "source": [
    "# N3\n",
    "\n",
    "def arifmetik(n,a,d):\n",
    "    L = [a] \n",
    "    A = 0\n",
    "    for i in range(1,n):\n",
    "        L.append(L[i-1]+d)\n",
    "        \n",
    "    return L\n",
    "\n",
    "n = int(input(\"n = \"))\n",
    "a = int(input(\"a = \"))\n",
    "d = int(input(\"d = \"))\n",
    "print(arifmetik(n,a,d))"
   ]
  },
  {
   "cell_type": "code",
   "execution_count": 72,
   "id": "0febe09b",
   "metadata": {},
   "outputs": [
    {
     "name": "stdout",
     "output_type": "stream",
     "text": [
      "n = 5\n",
      "a = 2\n",
      "d = 3\n",
      "[2, 6, 18, 54, 162]\n"
     ]
    }
   ],
   "source": [
    "# N4\n",
    "\n",
    "def geometrik(n,a,d):\n",
    "    L = [a] \n",
    "    A = 0\n",
    "    for i in range(1,n):\n",
    "        L.append(L[i-1]*d)\n",
    "    return L\n",
    "\n",
    "n = int(input(\"n = \"))\n",
    "a = int(input(\"a = \"))\n",
    "d = int(input(\"d = \"))\n",
    "print(geometrik(n,a,d))"
   ]
  },
  {
   "cell_type": "code",
   "execution_count": 69,
   "id": "8b0f79d4",
   "metadata": {},
   "outputs": [
    {
     "name": "stdout",
     "output_type": "stream",
     "text": [
      "n = 5\n",
      "[0, 1, 1, 2, 3]\n"
     ]
    }
   ],
   "source": [
    "# N5\n",
    "\n",
    "def nFib(n):\n",
    "    fib = [0,1]\n",
    "    for i in range(2,n):\n",
    "        fib.append(fib[i-1]+fib[i-2])\n",
    "    return fib\n",
    "        \n",
    "n = int(input(\"n = \"))\n",
    "print(nFib(n))"
   ]
  },
  {
   "cell_type": "code",
   "execution_count": 77,
   "id": "36c2ab41",
   "metadata": {},
   "outputs": [
    {
     "name": "stdout",
     "output_type": "stream",
     "text": [
      "n = 5\n",
      "A = 2\n",
      "B = 3\n",
      "[2, 3, 5, 10, 20]\n"
     ]
    }
   ],
   "source": [
    "# N6: verisya 1\n",
    "\n",
    "def array6(n,A,B):\n",
    "    L = [A,B]\n",
    "    for _ in range(2,n):\n",
    "        L.append(sum(L))\n",
    "    return L\n",
    "\n",
    "n = int(input(\"n = \"))\n",
    "A = int(input(\"A = \"))\n",
    "B = int(input(\"B = \"))\n",
    "print(array6(n,A,B))"
   ]
  },
  {
   "cell_type": "code",
   "execution_count": 79,
   "id": "24be5ced",
   "metadata": {},
   "outputs": [
    {
     "name": "stdout",
     "output_type": "stream",
     "text": [
      "n = 5\n",
      "A = 2\n",
      "B = 3\n",
      "[2, 3, 5, 10, 20]\n"
     ]
    }
   ],
   "source": [
    "# N6: verisya 2\n",
    "\n",
    "def array6(n,A,B):\n",
    "    s = A + B\n",
    "    L = [A,B,s]\n",
    "    for i in range(2,n-1):\n",
    "        L.append(L[i]*2)\n",
    "    return L\n",
    "\n",
    "n = int(input(\"n = \"))\n",
    "A = int(input(\"A = \"))\n",
    "B = int(input(\"B = \"))\n",
    "print(array6(n,A,B))"
   ]
  },
  {
   "cell_type": "code",
   "execution_count": 29,
   "id": "4180c972",
   "metadata": {},
   "outputs": [
    {
     "name": "stdout",
     "output_type": "stream",
     "text": [
      "n = 3\n",
      "a = 1\n",
      "a = 2\n",
      "a = 3\n",
      "[3, 2, 1]\n"
     ]
    }
   ],
   "source": [
    "# N7\n",
    "\n",
    "def teskari(L):\n",
    "    return L[::-1]\n",
    "\n",
    "n = int(input(\"n = \"))\n",
    "L = []\n",
    "for _ in range(n):\n",
    "    a = int(input(\"a = \"))\n",
    "    L.append(a)\n",
    "print(teskari(L))"
   ]
  },
  {
   "cell_type": "code",
   "execution_count": 37,
   "id": "d48f78f6",
   "metadata": {},
   "outputs": [
    {
     "name": "stdout",
     "output_type": "stream",
     "text": [
      "n = 5\n",
      "a = 2\n",
      "a = 3\n",
      "a = 4\n",
      "a = 5\n",
      "a = 6\n",
      "1\n",
      "3\n",
      "('Toqlar soni:', 2)\n"
     ]
    }
   ],
   "source": [
    "# N8\n",
    "\n",
    "def odd(L):\n",
    "    count = 0\n",
    "    for i in range(len(L)):\n",
    "        if L[i] % 2 == 1:\n",
    "            print(i)\n",
    "            count += 1\n",
    "    return \"Toqlar soni:\", count\n",
    "\n",
    "n = int(input(\"n = \"))\n",
    "L = []\n",
    "for _ in range(n):\n",
    "    a = int(input(\"a = \"))\n",
    "    L.append(a)\n",
    "print(odd(L))"
   ]
  },
  {
   "cell_type": "code",
   "execution_count": 41,
   "id": "c1dcca0a",
   "metadata": {},
   "outputs": [
    {
     "name": "stdout",
     "output_type": "stream",
     "text": [
      "n = 5\n",
      "a = 2\n",
      "a = 3\n",
      "a = 4\n",
      "a = 5\n",
      "a = 6\n",
      "6\n",
      "4\n",
      "('Juftlar soni:', 2)\n"
     ]
    }
   ],
   "source": [
    "# N9\n",
    "\n",
    "def even(L):\n",
    "    count = 0\n",
    "    for i in range(len(L)-1,0,-1):\n",
    "        if L[i] % 2 == 0:\n",
    "            count += 1\n",
    "            print(L[i])\n",
    "    return \"Juftlar soni:\", count\n",
    "\n",
    "n = int(input(\"n = \"))\n",
    "L = []\n",
    "for _ in range(n):\n",
    "    a = int(input(\"a = \"))\n",
    "    L.append(a)\n",
    "print(even(L))"
   ]
  },
  {
   "cell_type": "code",
   "execution_count": 43,
   "id": "cd89a204",
   "metadata": {},
   "outputs": [
    {
     "name": "stdout",
     "output_type": "stream",
     "text": [
      "n = 7\n",
      "a = 1\n",
      "a = 2\n",
      "a = 3\n",
      "a = 4\n",
      "a = 5\n",
      "a = 6\n",
      "a = 7\n",
      "[2, 4, 6, 7, 5, 3]\n"
     ]
    }
   ],
   "source": [
    "# N10\n",
    "\n",
    "def evenOdd(L):\n",
    "    newL = []\n",
    "    for i in range(len(L)):\n",
    "        if L[i] % 2 == 0:\n",
    "            newL.append(L[i])\n",
    "    \n",
    "    for i in range(len(L)-1,0,-1):\n",
    "        if L[i] % 2 == 1:\n",
    "            newL.append(L[i])\n",
    "            \n",
    "    return newL\n",
    "\n",
    "n = int(input(\"n = \"))\n",
    "L = []\n",
    "for _ in range(n):\n",
    "    a = int(input(\"a = \"))\n",
    "    L.append(a)\n",
    "print(evenOdd(L))"
   ]
  },
  {
   "cell_type": "code",
   "execution_count": 5,
   "id": "e5e20c5a",
   "metadata": {},
   "outputs": [
    {
     "name": "stdout",
     "output_type": "stream",
     "text": [
      "n = 10\n",
      "k = 3\n",
      "a = 0\n",
      "a = 1\n",
      "a = 2\n",
      "a = 3\n",
      "a = 4\n",
      "a = 5\n",
      "a = 6\n",
      "a = 7\n",
      "a = 8\n",
      "a = 9\n",
      "[3, 6, 9]\n"
     ]
    }
   ],
   "source": [
    "# N11\n",
    "\n",
    "def factorOfK(L,k):\n",
    "    newL = []\n",
    "    for i in range(k,len(L),k):\n",
    "        newL.append(L[i])\n",
    "    return newL\n",
    "\n",
    "n = int(input(\"n = \"))\n",
    "k = int(input(\"k = \"))\n",
    "L = []\n",
    "for _ in range(n):\n",
    "    a = int(input(\"a = \"))\n",
    "    L.append(a)\n",
    "print(factorOfK(L,k))"
   ]
  },
  {
   "cell_type": "code",
   "execution_count": 6,
   "id": "de69c5f5",
   "metadata": {},
   "outputs": [
    {
     "name": "stdout",
     "output_type": "stream",
     "text": [
      "n (juft son) = 8\n",
      "a = 0\n",
      "a = 1\n",
      "a = 2\n",
      "a = 3\n",
      "a = 4\n",
      "a = 5\n",
      "a = 6\n",
      "a = 7\n",
      "[0, 2, 4, 6]\n"
     ]
    }
   ],
   "source": [
    "# N12\n",
    "\n",
    "def evenIndex(L):\n",
    "    newL = []\n",
    "    for i in range(0,len(L),2):\n",
    "        newL.append(L[i])\n",
    "    return newL\n",
    "\n",
    "n = int(input(\"n (juft son) = \"))\n",
    "L = []\n",
    "for _ in range(n):\n",
    "    a = int(input(\"a = \"))\n",
    "    L.append(a)\n",
    "print(evenIndex(L))"
   ]
  },
  {
   "cell_type": "code",
   "execution_count": 13,
   "id": "f4261730",
   "metadata": {},
   "outputs": [
    {
     "name": "stdout",
     "output_type": "stream",
     "text": [
      "n (toq son) = 9\n",
      "a = 0\n",
      "a = 1\n",
      "a = 2\n",
      "a = 3\n",
      "a = 4\n",
      "a = 5\n",
      "a = 6\n",
      "a = 7\n",
      "a = 8\n",
      "[8, 6, 4, 2]\n"
     ]
    }
   ],
   "source": [
    "# N13\n",
    "\n",
    "def oddIndex(L):\n",
    "    newL = []\n",
    "    for i in range(1,len(L),2):\n",
    "        newL.append(L[n-i])\n",
    "    return newL\n",
    "\n",
    "n = int(input(\"n (toq son) = \"))\n",
    "L = []\n",
    "for _ in range(n):\n",
    "    a = int(input(\"a = \"))\n",
    "    L.append(a)\n",
    "print(oddIndex(L))"
   ]
  },
  {
   "cell_type": "code",
   "execution_count": 14,
   "id": "4bdd691c",
   "metadata": {},
   "outputs": [
    {
     "name": "stdout",
     "output_type": "stream",
     "text": [
      "n = 9\n",
      "a = 0\n",
      "a = 1\n",
      "a = 2\n",
      "a = 3\n",
      "a = 4\n",
      "a = 5\n",
      "a = 6\n",
      "a = 7\n",
      "a = 8\n",
      "[0, 2, 4, 6, 8, 1, 3, 5, 7]\n"
     ]
    }
   ],
   "source": [
    "# N14\n",
    "\n",
    "def evenOdd(L,n):\n",
    "    newL = []\n",
    "    \n",
    "    # juft indexdegi elementlar\n",
    "    for i in range(0,len(L),2):\n",
    "        newL.append(L[i])\n",
    "    \n",
    "    # toq indexdegi elementlar\n",
    "    for j in range(1,len(L),2):\n",
    "        newL.append(L[j])\n",
    "            \n",
    "    return newL\n",
    "\n",
    "n = int(input(\"n = \"))\n",
    "L = []\n",
    "for _ in range(n):\n",
    "    a = int(input(\"a = \"))\n",
    "    L.append(a)\n",
    "print(evenOdd(L,n))"
   ]
  },
  {
   "cell_type": "code",
   "execution_count": 27,
   "id": "d48c06b5",
   "metadata": {},
   "outputs": [
    {
     "name": "stdout",
     "output_type": "stream",
     "text": [
      "n (juft son) = 6\n",
      "a = 0\n",
      "a = 1\n",
      "a = 2\n",
      "a = 3\n",
      "a = 4\n",
      "a = 5\n",
      "[1, 3, 5, 4, 2, 0]\n"
     ]
    }
   ],
   "source": [
    "# N15\n",
    "\n",
    "def oddEven(L,n):\n",
    "    newL = []\n",
    "    \n",
    "    # toq indexdegi elementlar o'sish tartibida\n",
    "    for i in L[1:len(L):2]:\n",
    "        newL.append(i)\n",
    "            \n",
    "    # juft indexdegi elementlar kamayish tartibida\n",
    "    for j in L[len(L)-2::-2]:\n",
    "        newL.append(j)\n",
    "            \n",
    "    return newL\n",
    "\n",
    "n = int(input(\"n (juft son) = \"))\n",
    "L = []\n",
    "for _ in range(n):\n",
    "    a = int(input(\"a = \"))\n",
    "    L.append(a)\n",
    "print(oddEven(L,n))"
   ]
  },
  {
   "cell_type": "code",
   "execution_count": 82,
   "id": "1a6f7210",
   "metadata": {},
   "outputs": [
    {
     "name": "stdout",
     "output_type": "stream",
     "text": [
      "n = 8\n",
      "a = 3\n",
      "a = 4\n",
      "a = 5\n",
      "a = 6\n",
      "a = 7\n",
      "a = 8\n",
      "a = 9\n",
      "a = 10\n",
      "[3, 10, 4, 9, 5, 8, 6, 7]\n"
     ]
    }
   ],
   "source": [
    "# N16\n",
    "\n",
    "def array16(L):\n",
    "    newL = []\n",
    "    n = len(L)\n",
    "    i = 0\n",
    "    while n > 0:\n",
    "        newL.append(L[i])\n",
    "        newL.append(L[len(L)-i-1])\n",
    "        n -= 2\n",
    "        i += 1\n",
    "    return newL\n",
    "\n",
    "n = int(input(\"n = \"))\n",
    "L = []\n",
    "for _ in range(n):\n",
    "    a = int(input(\"a = \"))\n",
    "    L.append(a)\n",
    "print(array16(L))"
   ]
  },
  {
   "cell_type": "code",
   "execution_count": 59,
   "id": "4f88b277",
   "metadata": {},
   "outputs": [
    {
     "name": "stdout",
     "output_type": "stream",
     "text": [
      "n = 9\n",
      "[1, 1, 6, 2, 7, 9, 7, 7, 3]\n",
      "1 1 3 7 6 2 7 9 7 "
     ]
    }
   ],
   "source": [
    "# Array 17\n",
    "\n",
    "from random import randint\n",
    "\n",
    "n = int(input(\"n = \"))\n",
    "a = [randint(1,9) for i in range(n)]\n",
    "print(a)\n",
    "\n",
    "i = 0\n",
    "n = len(a)-1\n",
    "\n",
    "while i<=n:\n",
    "    print(a[i],end=' ')\n",
    "    i+=1\n",
    "    if i > n:\n",
    "        break\n",
    "    print(a[i],end=' ')\n",
    "    i+=1\n",
    "    if i > n:\n",
    "        break\n",
    "    print(a[n],end=' ')\n",
    "    n-=1\n",
    "    if i > n:\n",
    "        break\n",
    "    print(a[n],end=' ')\n",
    "    n-=1"
   ]
  },
  {
   "cell_type": "code",
   "execution_count": 53,
   "id": "84d3f948",
   "metadata": {},
   "outputs": [
    {
     "name": "stdout",
     "output_type": "stream",
     "text": [
      "n = 7\n",
      "[7, 2, 6, 3, 1, 8, 7]\n",
      "2\n"
     ]
    }
   ],
   "source": [
    "# N18\n",
    "\n",
    "from random import randint\n",
    "\n",
    "n = int(input(\"n = \"))\n",
    "L = [randint(1,9) for i in range(n)]\n",
    "print(L)\n",
    "\n",
    "oxirgi = L[-1]\n",
    "bor = False\n",
    "for i in range(len(L)-1):\n",
    "    if L[i] < oxirgi:\n",
    "        print(L[i])\n",
    "        bor = True\n",
    "        break\n",
    "if not bor:\n",
    "    print(\"Oxirgi elementdan kichkina element yo'q\")"
   ]
  },
  {
   "cell_type": "code",
   "execution_count": 11,
   "id": "4229853f",
   "metadata": {},
   "outputs": [
    {
     "name": "stdout",
     "output_type": "stream",
     "text": [
      "n = 7\n",
      "[4, 4, 1, 5, 4, 6, 7]\n",
      "5\n"
     ]
    }
   ],
   "source": [
    "# N19 L[0] < L[k] < L[-1] : k ni top\n",
    "\n",
    "from random import randint\n",
    "\n",
    "n = int(input(\"n = \"))\n",
    "L = [randint(0,n) for i in range(n)]\n",
    "# L = [0,1,2,3,4,5,6,7,8,9]\n",
    "print(L)\n",
    "\n",
    "birinchi = L[0]\n",
    "oxirgi = L[-1]\n",
    "ind = 0\n",
    "\n",
    "for i in range(1,len(L)-1):\n",
    "    if L[i] > birinchi and L[i] < oxirgi:\n",
    "        ind = i\n",
    "print(ind)"
   ]
  },
  {
   "cell_type": "code",
   "execution_count": 64,
   "id": "80a9cb03",
   "metadata": {},
   "outputs": [
    {
     "name": "stdout",
     "output_type": "stream",
     "text": [
      "n = 8\n",
      "k = 2\n",
      "l = 6\n",
      "[1, 3, 3, 6, 7, 5, 8, 5]\n",
      "29\n"
     ]
    }
   ],
   "source": [
    "# N20\n",
    "\n",
    "from random import randint\n",
    "\n",
    "n = int(input(\"n = \"))\n",
    "k = int(input(\"k = \"))\n",
    "l = int(input(\"l = \"))\n",
    "L = [randint(0,n) for i in range(n)]\n",
    "print(L)\n",
    "\n",
    "print(sum(L[k:l+1]))"
   ]
  },
  {
   "cell_type": "code",
   "execution_count": 13,
   "id": "73c515a9",
   "metadata": {},
   "outputs": [
    {
     "name": "stdout",
     "output_type": "stream",
     "text": [
      "n = 8\n",
      "k = 2\n",
      "l = 4\n",
      "[1, 7, 2, 6, 3, 1, 4, 1]\n",
      "3.6666666666666665\n"
     ]
    }
   ],
   "source": [
    "# N21\n",
    "\n",
    "from random import randint\n",
    "\n",
    "n = int(input(\"n = \"))\n",
    "k = int(input(\"k = \"))\n",
    "l = int(input(\"l = \"))\n",
    "L = [randint(0,n) for i in range(n)]\n",
    "print(L)\n",
    "\n",
    "yigindi = sum(L[k:l+1])\n",
    "raqanlar_soni = len(L[k:l+1])\n",
    "arfimetik = yigindi / raqanlar_soni\n",
    "print(arfimetik)"
   ]
  },
  {
   "cell_type": "code",
   "execution_count": 15,
   "id": "7fd9feb9",
   "metadata": {},
   "outputs": [
    {
     "name": "stdout",
     "output_type": "stream",
     "text": [
      "n = 7\n",
      "k = 2\n",
      "l = 4\n",
      "[4, 7, 3, 7, 3, 7, 1]\n",
      "19\n"
     ]
    }
   ],
   "source": [
    "# N22\n",
    "\n",
    "from random import randint\n",
    "\n",
    "n = int(input(\"n = \"))\n",
    "k = int(input(\"k = \"))\n",
    "l = int(input(\"l = \"))\n",
    "L = [randint(0,n) for i in range(n)]\n",
    "print(L)\n",
    "\n",
    "k_gacha = L[:k]\n",
    "l_gacha = L[l+1:]\n",
    "yigindi = sum(k_gacha + l_gacha)\n",
    "print(yigindi)"
   ]
  },
  {
   "cell_type": "code",
   "execution_count": 16,
   "id": "ad0ea252",
   "metadata": {},
   "outputs": [
    {
     "name": "stdout",
     "output_type": "stream",
     "text": [
      "n = 7\n",
      "k = 2\n",
      "l = 4\n",
      "[7, 3, 2, 3, 2, 3, 0]\n",
      "3.25\n"
     ]
    }
   ],
   "source": [
    "# N23\n",
    "\n",
    "from random import randint\n",
    "\n",
    "n = int(input(\"n = \"))\n",
    "k = int(input(\"k = \"))\n",
    "l = int(input(\"l = \"))\n",
    "L = [randint(0,n) for i in range(n)]\n",
    "print(L)\n",
    "\n",
    "k_gacha = L[:k]\n",
    "l_gacha = L[l+1:]\n",
    "yigindi = sum(k_gacha + l_gacha)\n",
    "raqamlar_soni = len(k_gacha) + len(l_gacha)\n",
    "arfimetik = yigindi / raqamlar_soni\n",
    "print(arfimetik)"
   ]
  },
  {
   "cell_type": "code",
   "execution_count": 70,
   "id": "a682fd45",
   "metadata": {},
   "outputs": [
    {
     "name": "stdout",
     "output_type": "stream",
     "text": [
      "n = 10\n",
      "[0, 2, 4, 6, 8, 10, 12, 14, 16, 18]\n",
      "2\n"
     ]
    }
   ],
   "source": [
    "# N24\n",
    "\n",
    "from random import randint\n",
    "\n",
    "n = int(input(\"n = \"))\n",
    "L = [2*i for i in range(n)]\n",
    "print(L)\n",
    "\n",
    "d = L[1] - L[0]\n",
    "for i in range(2,n):\n",
    "    if L[i]-L[i-1] != d:\n",
    "        print(0)\n",
    "        break\n",
    "else:\n",
    "    print(d)"
   ]
  },
  {
   "cell_type": "code",
   "execution_count": 19,
   "id": "4ddf3211",
   "metadata": {},
   "outputs": [
    {
     "name": "stdout",
     "output_type": "stream",
     "text": [
      "n = 7\n",
      "[2, 6, 18, 54, 162, 486, 1458]\n",
      "3.0\n"
     ]
    }
   ],
   "source": [
    "# N25\n",
    "\n",
    "from random import randint\n",
    "\n",
    "n = int(input(\"n = \"))\n",
    "L = [2*3**i for i in range(0,n)]\n",
    "print(L)\n",
    "\n",
    "r = L[1] / L[0]\n",
    "for i in range(2,n):\n",
    "    if L[i]/L[i-1] != r:\n",
    "        print(0)\n",
    "        break\n",
    "else:\n",
    "    print(r)"
   ]
  },
  {
   "cell_type": "code",
   "execution_count": 79,
   "id": "31639947",
   "metadata": {},
   "outputs": [
    {
     "name": "stdout",
     "output_type": "stream",
     "text": [
      "n = 7\n",
      "[0, 1, 2, 3, 4, 5, 6]\n",
      "Done!\n"
     ]
    }
   ],
   "source": [
    "# N26\n",
    "\n",
    "from random import randint\n",
    "\n",
    "n = int(input(\"n = \"))\n",
    "L = [i for i in range(n)]\n",
    "print(L)\n",
    "\n",
    "for i in range(1,n):\n",
    "    if (L[i] + L[i-1]) % 2 != 1:\n",
    "        break\n",
    "else:\n",
    "    print(\"Done!\")"
   ]
  },
  {
   "cell_type": "code",
   "execution_count": 25,
   "id": "3dcbae8c",
   "metadata": {},
   "outputs": [
    {
     "name": "stdout",
     "output_type": "stream",
     "text": [
      "n = 5\n",
      "[3, -1, 1, -1, -3]\n",
      "4\n"
     ]
    }
   ],
   "source": [
    "# N27\n",
    "\n",
    "n = int(input(\"n = \"))\n",
    "a = [randint(-5,5) for i in range(n)]\n",
    "print(a)\n",
    "\n",
    "for i in range(1,n):\n",
    "    if a[i] * a[i-1] > 0:\n",
    "        print(i)\n",
    "        break\n",
    "else:\n",
    "    print(\"Done!\")"
   ]
  },
  {
   "cell_type": "code",
   "execution_count": 27,
   "id": "07ddb799",
   "metadata": {},
   "outputs": [
    {
     "name": "stdout",
     "output_type": "stream",
     "text": [
      "n = 7\n",
      "[3, 5, 5, 4, 5, 6, 1]\n",
      "1\n"
     ]
    }
   ],
   "source": [
    "# N28\n",
    "\n",
    "from random import randint\n",
    "\n",
    "n = int(input(\"n = \"))\n",
    "L = [randint(0,n) for i in range(n)]\n",
    "print(L)\n",
    "\n",
    "juft = L[::2]\n",
    "print(min(juft))"
   ]
  },
  {
   "cell_type": "code",
   "execution_count": 28,
   "id": "89da5cc6",
   "metadata": {},
   "outputs": [
    {
     "name": "stdout",
     "output_type": "stream",
     "text": [
      "n = 7\n",
      "[7, 1, 7, 6, 5, 5, 6]\n",
      "6\n"
     ]
    }
   ],
   "source": [
    "# N29\n",
    "\n",
    "from random import randint\n",
    "\n",
    "n = int(input(\"n = \"))\n",
    "L = [randint(0,n) for i in range(n)]\n",
    "print(L)\n",
    "\n",
    "toq = L[1::2]\n",
    "print(max(toq))"
   ]
  },
  {
   "cell_type": "code",
   "execution_count": 32,
   "id": "625df653",
   "metadata": {},
   "outputs": [
    {
     "name": "stdout",
     "output_type": "stream",
     "text": [
      "n = 7\n",
      "[5, 5, 3, 5, 1, 4, 2]\n",
      "1 3 5 \n",
      " 3\n"
     ]
    }
   ],
   "source": [
    "# N30\n",
    "\n",
    "from random import randint\n",
    "\n",
    "n = int(input(\"n = \"))\n",
    "a = [randint(1,5) for i in range(n)]\n",
    "print(a)\n",
    "S = 0\n",
    "for i in range(len(a)-1):\n",
    "    if a[i] > a[i+1]:\n",
    "        print(i,end=' ')\n",
    "        S+=1\n",
    "print('\\n',S)"
   ]
  },
  {
   "cell_type": "code",
   "execution_count": 30,
   "id": "6a9b776d",
   "metadata": {},
   "outputs": [
    {
     "name": "stdout",
     "output_type": "stream",
     "text": [
      "n = 9\n",
      "[4, 1, 1, 5, 1, 2, 1, 3, 1]\n",
      "7 5 3 \n",
      " 3\n"
     ]
    }
   ],
   "source": [
    "# N31\n",
    "\n",
    "from random import randint\n",
    "\n",
    "n = int(input(\"n = \"))\n",
    "a = [randint(1,5) for i in range(n)]\n",
    "print(a)\n",
    "S = 0\n",
    "for i in range(len(a)-1,0,-1):\n",
    "    if a[i] > a[i-1]:\n",
    "        print(i,end=' ')\n",
    "        S+=1\n",
    "print('\\n',S)"
   ]
  }
 ],
 "metadata": {
  "kernelspec": {
   "display_name": "Python 3 (ipykernel)",
   "language": "python",
   "name": "python3"
  },
  "language_info": {
   "codemirror_mode": {
    "name": "ipython",
    "version": 3
   },
   "file_extension": ".py",
   "mimetype": "text/x-python",
   "name": "python",
   "nbconvert_exporter": "python",
   "pygments_lexer": "ipython3",
   "version": "3.9.7"
  }
 },
 "nbformat": 4,
 "nbformat_minor": 5
}
