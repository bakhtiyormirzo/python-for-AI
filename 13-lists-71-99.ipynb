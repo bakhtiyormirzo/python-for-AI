{
 "cells": [
  {
   "cell_type": "markdown",
   "id": "0ad83ec5",
   "metadata": {},
   "source": [
    "# Arrays (Lists) 71-99"
   ]
  },
  {
   "cell_type": "code",
   "execution_count": 4,
   "id": "d00b1a10",
   "metadata": {},
   "outputs": [
    {
     "name": "stdout",
     "output_type": "stream",
     "text": [
      "n = 5\n",
      "[10, 4, 8, 5, 1]\n",
      "[1, 5, 8, 4, 10]\n"
     ]
    }
   ],
   "source": [
    "# N71\n",
    "\n",
    "from random import randint\n",
    "\n",
    "n = int(input(\"n = \"))\n",
    "a = [randint(1,10) for i in range(n)]\n",
    "print(a)\n",
    "\n",
    "for i in range(len(a)//2):\n",
    "    a[i], a[n-i-1] = a[n-i-1], a[i]\n",
    "\n",
    "print(a)"
   ]
  },
  {
   "cell_type": "code",
   "execution_count": 6,
   "id": "351eb74a",
   "metadata": {},
   "outputs": [
    {
     "name": "stdout",
     "output_type": "stream",
     "text": [
      "n = 9\n",
      "[9, 4, 9, 2, 3, 8, 1, 10, 1]\n",
      "k = 2\n",
      "h = 7\n",
      "[9, 4, 10, 1, 8, 3, 2, 9, 1]\n"
     ]
    }
   ],
   "source": [
    "# N72\n",
    "\n",
    "from random import randint\n",
    "\n",
    "n = int(input(\"n = \"))\n",
    "a = [randint(1,10) for i in range(n)]\n",
    "print(a)\n",
    "\n",
    "k = int(input(\"k = \"))\n",
    "h = int(input(\"h = \"))\n",
    "\n",
    "for i in range(len(a[k:h+1])//2):\n",
    "    a[k+i], a[h-i] = a[h-i], a[k+i]\n",
    "\n",
    "print(a)"
   ]
  },
  {
   "cell_type": "code",
   "execution_count": 10,
   "id": "70ecb45b",
   "metadata": {},
   "outputs": [
    {
     "name": "stdout",
     "output_type": "stream",
     "text": [
      "n = 9\n",
      "[3, 9, 5, 1, 4, 6, 5, 1, 7]\n",
      "k = 1\n",
      "h = 7\n",
      "[3, 9, 5, 6, 4, 1, 5, 1, 7]\n"
     ]
    }
   ],
   "source": [
    "# N73\n",
    "\n",
    "from random import randint\n",
    "\n",
    "n = int(input(\"n = \"))\n",
    "a = [randint(1,10) for i in range(n)]\n",
    "print(a)\n",
    "\n",
    "k = int(input(\"k = \"))\n",
    "h = int(input(\"h = \"))\n",
    "\n",
    "for i in range(len(a[k+1:h])//2):\n",
    "    a[k+i+1], a[h-i-1] = a[h-i-1], a[k+i+1]\n",
    "\n",
    "print(a)"
   ]
  },
  {
   "cell_type": "code",
   "execution_count": 22,
   "id": "f3bd52ef",
   "metadata": {},
   "outputs": [
    {
     "name": "stdout",
     "output_type": "stream",
     "text": [
      "n = 9\n",
      "[10, 8, 2, 1, 8, 5, 2, 10, 2]\n",
      "[10, 0, 0, 1, 8, 5, 2, 10, 2]\n"
     ]
    }
   ],
   "source": [
    "# N74\n",
    "\n",
    "from random import randint\n",
    "\n",
    "n = int(input(\"n = \"))\n",
    "a = [randint(1,10) for i in range(n)]\n",
    "print(a)\n",
    "\n",
    "mini = a.index(min(a))\n",
    "maxi = a.index(max(a))\n",
    "k, h = min(mini, maxi), max(mini, maxi)\n",
    "\n",
    "for i in range(len(a[k+1:h])):\n",
    "    a[k+i+1] = 0\n",
    "    \n",
    "print(a)"
   ]
  },
  {
   "cell_type": "code",
   "execution_count": 26,
   "id": "12e68a35",
   "metadata": {},
   "outputs": [
    {
     "name": "stdout",
     "output_type": "stream",
     "text": [
      "n = 9\n",
      "[9, 1, 4, 3, 8, 7, 10, 2, 1]\n",
      "[9, 10, 7, 3, 8, 4, 1, 2, 1]\n"
     ]
    }
   ],
   "source": [
    "# N75\n",
    "\n",
    "from random import randint\n",
    "\n",
    "n = int(input(\"n = \"))\n",
    "a = [randint(1,10) for i in range(n)]\n",
    "print(a)\n",
    "\n",
    "mini = a.index(min(a))\n",
    "maxi = a.index(max(a))\n",
    "k, h = min(mini, maxi), max(mini, maxi)\n",
    "\n",
    "for i in range(len(a[k+1:h])//2):\n",
    "    a[k+i], a[h-i] = a[h-i], a[k+i]\n",
    "    \n",
    "print(a)"
   ]
  },
  {
   "cell_type": "code",
   "execution_count": 30,
   "id": "39a93f4f",
   "metadata": {},
   "outputs": [
    {
     "name": "stdout",
     "output_type": "stream",
     "text": [
      "n = 9\n",
      "[6, 2, 2, 5, 3, 9, 2, 8, 2]\n",
      "[6, 2, 2, 0, 3, 0, 2, 0, 2]\n"
     ]
    }
   ],
   "source": [
    "# N76\n",
    "\n",
    "from random import randint\n",
    "\n",
    "n = int(input(\"n = \"))\n",
    "a = [randint(1,10) for i in range(n)]\n",
    "print(a)\n",
    "\n",
    "ind = []\n",
    "for i in range(1,len(a)-1):\n",
    "    if a[i] > a[i-1] and a[i] > a[i+1]:\n",
    "        ind.append(i)\n",
    "        \n",
    "for j in ind:\n",
    "    a[j] = 0\n",
    "    \n",
    "print(a)"
   ]
  },
  {
   "cell_type": "code",
   "execution_count": 33,
   "id": "951de237",
   "metadata": {},
   "outputs": [
    {
     "name": "stdout",
     "output_type": "stream",
     "text": [
      "n = 9\n",
      "[1, 7, 5, 8, 7, 8, 5, 10, 3]\n",
      "[1, 7, 25, 8, 49, 8, 25, 10, 3]\n"
     ]
    }
   ],
   "source": [
    "# N77\n",
    "\n",
    "from random import randint\n",
    "\n",
    "n = int(input(\"n = \"))\n",
    "a = [randint(1,10) for i in range(n)]\n",
    "print(a)\n",
    "\n",
    "ind = []\n",
    "for i in range(1,len(a)-1):\n",
    "    if a[i] < a[i-1] and a[i] < a[i+1]:\n",
    "        ind.append(i)\n",
    "        \n",
    "for j in ind:\n",
    "    a[j] = a[j] ** 2\n",
    "    \n",
    "print(a)"
   ]
  },
  {
   "cell_type": "code",
   "execution_count": 34,
   "id": "085d684e",
   "metadata": {},
   "outputs": [
    {
     "name": "stdout",
     "output_type": "stream",
     "text": [
      "n = 9\n",
      "[6, 1, 6, 6, 2, 9, 10, 1, 5]\n",
      "[3.5, 3.5, 6.0, 4.0, 5.5, 9.5, 5.5, 3.0, 5]\n"
     ]
    }
   ],
   "source": [
    "# N78\n",
    "\n",
    "from random import randint\n",
    "\n",
    "n = int(input(\"n = \"))\n",
    "a = [randint(1,10) for i in range(n)]\n",
    "print(a)\n",
    "\n",
    "for i in range(len(a)-1):\n",
    "    a[i] = (a[i] + a[i+1]) / 2\n",
    "\n",
    "print(a)"
   ]
  },
  {
   "cell_type": "code",
   "execution_count": 2,
   "id": "c5b02cf0",
   "metadata": {},
   "outputs": [
    {
     "name": "stdout",
     "output_type": "stream",
     "text": [
      "n = 5\n",
      "[2, 1, 6, 6, 1]\n",
      "[0, 2, 1, 6, 6]\n"
     ]
    }
   ],
   "source": [
    "# N79: bir qadam o'ngga, birinchisi 0\n",
    "\n",
    "from random import randint\n",
    "\n",
    "n = int(input(\"n = \"))\n",
    "a = [randint(1,10) for i in range(n)]\n",
    "print(a)\n",
    "\n",
    "a = [0] + a[:-1]\n",
    "print(a)"
   ]
  },
  {
   "cell_type": "code",
   "execution_count": 31,
   "id": "1ff8b930",
   "metadata": {},
   "outputs": [
    {
     "name": "stdout",
     "output_type": "stream",
     "text": [
      "n = 6\n",
      "[4, 8, 8, 3, 10, 2]\n",
      "[8, 8, 3, 10, 2, 0]\n"
     ]
    }
   ],
   "source": [
    "# N80: bir qadam chapga, oxirgisi 0\n",
    "\n",
    "from random import randint\n",
    "\n",
    "n = int(input(\"n = \"))\n",
    "a = [randint(1,10) for i in range(n)]\n",
    "print(a)\n",
    "\n",
    "a = a[1:] + [0]\n",
    "print(a)"
   ]
  },
  {
   "cell_type": "code",
   "execution_count": 35,
   "id": "562842f1",
   "metadata": {},
   "outputs": [
    {
     "name": "stdout",
     "output_type": "stream",
     "text": [
      "n = 9\n",
      "[6, 7, 5, 1, 4, 10, 9, 4, 2]\n",
      "k = 2\n",
      "[0, 0, 6, 7, 5, 1, 4, 10, 9]\n"
     ]
    }
   ],
   "source": [
    "# N81: k qadam o'ngga, oxirgi k ta element tashlansin, \n",
    "# dastlabki k ta element 0 bo'lsin\n",
    "\n",
    "from random import randint\n",
    "\n",
    "n = int(input(\"n = \"))\n",
    "a = [randint(1,10) for i in range(n)]\n",
    "print(a)\n",
    "\n",
    "k = int(int(input(\"k = \")))\n",
    "\n",
    "a = [0 for _ in range(k)] + a[:-k] \n",
    "print(a)"
   ]
  },
  {
   "cell_type": "code",
   "execution_count": 36,
   "id": "48e40125",
   "metadata": {},
   "outputs": [
    {
     "name": "stdout",
     "output_type": "stream",
     "text": [
      "n = 9\n",
      "[8, 1, 8, 8, 1, 9, 9, 1, 8]\n",
      "k = 2\n",
      "[8, 8, 1, 9, 9, 1, 8, 0, 0]\n"
     ]
    }
   ],
   "source": [
    "# N82: k qadam chapga, dastlabki k ta element tashlansin, \n",
    "# oxirgi k ta element 0 bo'lsin\n",
    "\n",
    "from random import randint\n",
    "\n",
    "n = int(input(\"n = \"))\n",
    "a = [randint(1,10) for i in range(n)]\n",
    "print(a)\n",
    "\n",
    "k = int(int(input(\"k = \")))\n",
    "\n",
    "a = a[k:] + [0 for _ in range(k)]\n",
    "print(a)"
   ]
  },
  {
   "cell_type": "code",
   "execution_count": 9,
   "id": "49ea3f90",
   "metadata": {},
   "outputs": [
    {
     "name": "stdout",
     "output_type": "stream",
     "text": [
      "n = 5\n",
      "[5, 8, 3, 5, 7]\n",
      "[7, 5, 8, 3, 5]\n"
     ]
    }
   ],
   "source": [
    "# N83: bir qadam o'ngga surish, oxirgi element boshiga o'tadi\n",
    "\n",
    "from random import randint\n",
    "\n",
    "n = int(input(\"n = \"))\n",
    "a = [randint(1,10) for i in range(n)]\n",
    "print(a)\n",
    "\n",
    "# a = a[-1:-2:-1] + a[:-1]\n",
    "a = [a[-1]] + a[:-1]\n",
    "print(a)"
   ]
  },
  {
   "cell_type": "code",
   "execution_count": 37,
   "id": "d7645400",
   "metadata": {},
   "outputs": [
    {
     "name": "stdout",
     "output_type": "stream",
     "text": [
      "n = 9\n",
      "[4, 4, 8, 1, 10, 10, 5, 8, 6]\n",
      "[4, 8, 1, 10, 10, 5, 8, 6, 4]\n"
     ]
    }
   ],
   "source": [
    "# N84: bir qadam chapga surish, oxirgi element boshiga o'tadi\n",
    "\n",
    "from random import randint\n",
    "\n",
    "n = int(input(\"n = \"))\n",
    "a = [randint(1,10) for i in range(n)]\n",
    "print(a)\n",
    "\n",
    "a = a[1:] + [a[0]]\n",
    "print(a)"
   ]
  },
  {
   "cell_type": "code",
   "execution_count": 47,
   "id": "82e17762",
   "metadata": {},
   "outputs": [
    {
     "name": "stdout",
     "output_type": "stream",
     "text": [
      "n = 9\n",
      "[4, 5, 8, 4, 7, 2, 3, 1, 3]\n",
      "k = 3\n",
      "[3, 1, 3, 4, 5, 8, 4, 7, 2]\n"
     ]
    }
   ],
   "source": [
    "# N85: k ta o'rin o'ngga siljitish, oxirini boshiga olib o'tish\n",
    "\n",
    "from random import randint\n",
    "\n",
    "n = int(input(\"n = \"))\n",
    "a = [randint(1,10) for i in range(n)]\n",
    "print(a)\n",
    "\n",
    "k = int(int(input(\"k = \")))\n",
    "\n",
    "a = a[n-k:] + a[:-k]\n",
    "print(a)"
   ]
  },
  {
   "cell_type": "code",
   "execution_count": 13,
   "id": "3160e937",
   "metadata": {},
   "outputs": [
    {
     "name": "stdout",
     "output_type": "stream",
     "text": [
      "n = 10\n",
      "[9, 2, 1, 8, 6, 9, 4, 7, 10, 4]\n",
      "k = 5\n",
      "[9, 4, 7, 10, 4, 9, 2, 1, 8, 6]\n"
     ]
    }
   ],
   "source": [
    "# N86: k ta o'rin chapga siljitish\n",
    "\n",
    "from random import randint\n",
    "\n",
    "n = int(input(\"n = \"))\n",
    "a = [randint(1,10) for i in range(n)]\n",
    "print(a)\n",
    "\n",
    "k = int(int(input(\"k = \")))\n",
    "\n",
    "a = a[k:] + a[:k]\n",
    "print(a)"
   ]
  },
  {
   "cell_type": "code",
   "execution_count": 67,
   "id": "7ff1b238",
   "metadata": {},
   "outputs": [
    {
     "name": "stdout",
     "output_type": "stream",
     "text": [
      "n = 9\n",
      "[9, 5, 7, 2, 0, 1, 2, 3, 4]\n",
      "[0, 1, 2, 2, 3, 4, 5, 7, 9]\n"
     ]
    }
   ],
   "source": [
    "# N87: dastlabki elementlari o'sish tartibida emas, \n",
    "# qolganlari o'sish tartibida. Sort qiling.\n",
    "\n",
    "n = int(input(\"n = \"))\n",
    "a = [9,5,7,2] + [i for i in range(n-4)]\n",
    "print(a)\n",
    "\n",
    "for i in range(len(a)):\n",
    "    \n",
    "    # kichinani boshiga olib o'tadi\n",
    "    for j in range(i+1, len(a)):\n",
    "        if a[i] > a[j]:\n",
    "            a[i], a[j] = a[j], a[i]\n",
    "            \n",
    "print(a)"
   ]
  },
  {
   "cell_type": "code",
   "execution_count": 69,
   "id": "daa0379a",
   "metadata": {},
   "outputs": [
    {
     "name": "stdout",
     "output_type": "stream",
     "text": [
      "n = 9\n",
      "[0, 1, 2, 3, 4, 9, 5, 7, 2]\n",
      "[0, 1, 2, 2, 3, 4, 5, 7, 9]\n"
     ]
    }
   ],
   "source": [
    "# N88: oxirgi elementlari o'sish tartibida emas, \n",
    "# qolganlari o'sish tartibida. Sort qiling.\n",
    "\n",
    "n = int(input(\"n = \"))\n",
    "a = [i for i in range(n-4)] + [9,5,7,2]\n",
    "print(a)\n",
    "\n",
    "for i in range(len(a)):\n",
    "    \n",
    "    # kichinani boshiga olib o'tadi\n",
    "    for j in range(i+1, len(a)):\n",
    "        if a[i] > a[j]:\n",
    "            a[i], a[j] = a[j], a[i]\n",
    "            \n",
    "print(a)"
   ]
  },
  {
   "cell_type": "code",
   "execution_count": 27,
   "id": "b79086d8",
   "metadata": {},
   "outputs": [
    {
     "name": "stdout",
     "output_type": "stream",
     "text": [
      "n = 10\n",
      "a = 7\n",
      "[7, 0, 1, 2, 3, 4, 5, 6, 7, 8]\n",
      "0\n",
      "7\n",
      "[0, 1, 2, 3, 4, 5, 6, 7, 7, 8]\n"
     ]
    }
   ],
   "source": [
    "# N89\n",
    "\n",
    "n = int(input(\"n = \"))\n",
    "\n",
    "a = [i for i in range(n-1)]\n",
    "a.insert(0,int(input(\"a = \")))\n",
    "print(a)\n",
    "\n",
    "index = 0; value = 0\n",
    "for i in range(n-1):\n",
    "    if not a[i] <= a[i+1]:\n",
    "        index = i\n",
    "        value = a[index]\n",
    "        del a[index]\n",
    "        break\n",
    "        \n",
    "print(index)\n",
    "print(value)\n",
    "        \n",
    "for i in range(n-1):\n",
    "    if value < a[i]:\n",
    "        a.insert(i,value)\n",
    "        break\n",
    "else:\n",
    "    a.append(value)\n",
    "    \n",
    "print(a)"
   ]
  },
  {
   "cell_type": "code",
   "execution_count": 70,
   "id": "e7e5f8cd",
   "metadata": {},
   "outputs": [
    {
     "name": "stdout",
     "output_type": "stream",
     "text": [
      "n = 9\n",
      "[5, 6, 7, 8, 1, 4, 5, 10, 6]\n",
      "k = 2\n",
      "[5, 6, 8, 1, 4, 5, 10, 6]\n"
     ]
    }
   ],
   "source": [
    "# N90\n",
    "\n",
    "from random import randint\n",
    "\n",
    "n = int(input(\"n = \"))\n",
    "a = [randint(1,10) for i in range(n)]\n",
    "print(a)\n",
    "\n",
    "k = int(int(input(\"k = \")))\n",
    "\n",
    "a.pop(k)\n",
    "print(a)"
   ]
  },
  {
   "cell_type": "code",
   "execution_count": 73,
   "id": "c8c99201",
   "metadata": {},
   "outputs": [
    {
     "name": "stdout",
     "output_type": "stream",
     "text": [
      "n = 9\n",
      "[9, 10, 6, 10, 4, 7, 7, 6, 5]\n",
      "k = 2\n",
      "m = 5\n",
      "Uzunligi: 6 [9, 10, 7, 7, 6, 5]\n"
     ]
    }
   ],
   "source": [
    "# N91: 0 <= k < m < n\n",
    "\n",
    "from random import randint\n",
    "\n",
    "n = int(input(\"n = \"))\n",
    "a = [randint(1,10) for i in range(n)]\n",
    "print(a)\n",
    "\n",
    "k = int(int(input(\"k = \")))\n",
    "m = int(int(input(\"m = \")))\n",
    "\n",
    "a = a[:k] + a[m:]\n",
    "print(\"Uzunligi:\", len(a), a)"
   ]
  },
  {
   "cell_type": "code",
   "execution_count": 78,
   "id": "4487088c",
   "metadata": {},
   "outputs": [
    {
     "name": "stdout",
     "output_type": "stream",
     "text": [
      "n = 9\n",
      "[6, 9, 10, 3, 3, 8, 9, 3, 1]\n",
      "Uzunligi: 3 [6, 10, 8]\n"
     ]
    }
   ],
   "source": [
    "# N92: toql elementlarni o'chirish\n",
    "\n",
    "from random import randint\n",
    "\n",
    "n = int(input(\"n = \"))\n",
    "a = [randint(1,10) for i in range(n)]\n",
    "print(a)\n",
    "\n",
    "i = 0\n",
    "while i < len(a):\n",
    "    if a[i] % 2 == 1:\n",
    "        a.pop(i)\n",
    "    else:\n",
    "        i += 1\n",
    "\n",
    "print(\"Uzunligi:\", len(a), a)"
   ]
  },
  {
   "cell_type": "code",
   "execution_count": 2,
   "id": "e3f30994",
   "metadata": {},
   "outputs": [
    {
     "name": "stdout",
     "output_type": "stream",
     "text": [
      "n = 9\n",
      "[10, 4, 10, 4, 8, 8, 6, 5, 2]\n",
      "Uzunligi: 4 [4, 4, 8, 5]\n"
     ]
    }
   ],
   "source": [
    "# N93: juft indexlardegi elementlarni o'chirish\n",
    "\n",
    "from random import randint\n",
    "\n",
    "n = int(input(\"n = \"))\n",
    "a = [randint(1,10) for i in range(n)]\n",
    "print(a)\n",
    "\n",
    "a = a[1::2]\n",
    "print(\"Uzunligi:\", len(a), a)"
   ]
  },
  {
   "cell_type": "code",
   "execution_count": 3,
   "id": "f16b29bc",
   "metadata": {},
   "outputs": [
    {
     "name": "stdout",
     "output_type": "stream",
     "text": [
      "n = 9\n",
      "[4, 5, 10, 6, 8, 7, 1, 9, 5]\n",
      "Uzunligi: 5 [4, 10, 8, 1, 5]\n"
     ]
    }
   ],
   "source": [
    "# N94: toq indexlardegi elementlarni o'chirish\n",
    "\n",
    "from random import randint\n",
    "\n",
    "n = int(input(\"n = \"))\n",
    "a = [randint(1,10) for i in range(n)]\n",
    "print(a)\n",
    "\n",
    "a = a[::2]\n",
    "print(\"Uzunligi:\", len(a), a)"
   ]
  },
  {
   "cell_type": "code",
   "execution_count": 7,
   "id": "9ff8ca61",
   "metadata": {},
   "outputs": [
    {
     "name": "stdout",
     "output_type": "stream",
     "text": [
      "n = 9\n",
      "[7, 8, 7, 1, 6, 6, 6, 1, 1]\n",
      "[7, 8, 7, 1, 6, 1]\n"
     ]
    }
   ],
   "source": [
    "# N95: bir xil qo'shnilarni o'chirib, birini qoldirish kk\n",
    "\n",
    "from random import randint\n",
    "\n",
    "n = int(input(\"n = \"))\n",
    "a = [randint(1,10) for i in range(n)]\n",
    "print(a)\n",
    "\n",
    "i = 1\n",
    "while i < len(a):\n",
    "    if a[i-1] == a[i]:\n",
    "        del a[i]\n",
    "        continue\n",
    "    i += 1\n",
    "print(a)"
   ]
  },
  {
   "cell_type": "code",
   "execution_count": 21,
   "id": "1704a626",
   "metadata": {},
   "outputs": [
    {
     "name": "stdout",
     "output_type": "stream",
     "text": [
      "n = 13\n",
      "[2, 7, 3, 6, 6, 4, 10, 7, 7, 1, 6, 5, 3]\n",
      "[2, 7, 3, 6, 4, 10, 1, 5]\n"
     ]
    }
   ],
   "source": [
    "# N96: bir xil qiymatlilarni birinchi kelganini qoldirib o'chirish\n",
    "\n",
    "from random import randint\n",
    "\n",
    "n = int(input(\"n = \"))\n",
    "a = [randint(1,10) for i in range(n)]\n",
    "# a = [1,2,3,4,1,1,1,2,3,4,5,6,9,9,6,9]\n",
    "print(a)\n",
    "\n",
    "i = 0\n",
    "j = 0\n",
    "while i < len(a):\n",
    "    j = i+1\n",
    "    while j < len(a):\n",
    "        if a[i] == a[j]:\n",
    "            del a[j]\n",
    "            continue\n",
    "        j += 1\n",
    "    i+=1\n",
    "print(a)"
   ]
  },
  {
   "cell_type": "code",
   "execution_count": 38,
   "id": "74c00297",
   "metadata": {},
   "outputs": [
    {
     "name": "stdout",
     "output_type": "stream",
     "text": [
      "n = 9\n",
      "[1, 5, 2, 5, 2, 6, 4, 6, 1]\n",
      "[5, 2, 4, 6, 1]\n"
     ]
    }
   ],
   "source": [
    "# N97: bir xil qiymatlilarni oxirgi kelganini qoldirib o'chirish\n",
    "\n",
    "from random import randint\n",
    "\n",
    "n = int(input(\"n = \"))\n",
    "a = [randint(1,10) for i in range(n)]\n",
    "# a = [5,4,3,2,1,0,1,2,3,4,5]\n",
    "print(a)\n",
    "\n",
    "i = len(a)-1\n",
    "j = 0\n",
    "while i >= 0:\n",
    "    j = i-1\n",
    "    while j >= 0:\n",
    "        if a[i] == a[j]:\n",
    "            del a[j]\n",
    "            break\n",
    "        j -= 1\n",
    "    i -= 1\n",
    "print(a)"
   ]
  },
  {
   "cell_type": "code",
   "execution_count": 40,
   "id": "63a55833",
   "metadata": {},
   "outputs": [
    {
     "name": "stdout",
     "output_type": "stream",
     "text": [
      "n = 15\n",
      "[5, 4, 3, 9, 2, 4, 5, 4, 7, 7, 7, 1, 7, 8, 9]\n",
      "[4, 4, 4, 7, 7, 7, 7]\n",
      "7\n"
     ]
    }
   ],
   "source": [
    "# N98: 3 martadan kam uchraganlarni o'chirish\n",
    "\n",
    "from random import randint\n",
    "\n",
    "n = int(input(\"n = \"))\n",
    "a = [randint(1,9) for i in range(n)]\n",
    "print(a)\n",
    "i = 0\n",
    "\n",
    "while i < len(a):\n",
    "    soni = a.count(a[i])\n",
    "    if soni < 3:\n",
    "        x = a[i]\n",
    "        for _ in range(soni):\n",
    "            a.remove(x)\n",
    "        continue\n",
    "    i+=1\n",
    "    \n",
    "print(a)\n",
    "print(len(a))"
   ]
  },
  {
   "cell_type": "code",
   "execution_count": 41,
   "id": "01a1742a",
   "metadata": {},
   "outputs": [
    {
     "name": "stdout",
     "output_type": "stream",
     "text": [
      "n = 9\n",
      "[1, 5, 7, 5, 7, 4, 3, 8, 5]\n",
      "[1, 7, 7, 4, 3, 8]\n",
      "6\n"
     ]
    }
   ],
   "source": [
    "# N99: 3 martadan kam uchraganlarni o'chirish\n",
    "\n",
    "from random import randint\n",
    "\n",
    "n = int(input(\"n = \"))\n",
    "a = [randint(1,9) for i in range(n)]\n",
    "print(a)\n",
    "i = 0\n",
    "\n",
    "while i < len(a):\n",
    "    soni = a.count(a[i])\n",
    "    if soni > 2:\n",
    "        x = a[i]\n",
    "        for _ in range(soni):\n",
    "            a.remove(x)\n",
    "        continue\n",
    "    i+=1\n",
    "    \n",
    "print(a)\n",
    "print(len(a))"
   ]
  }
 ],
 "metadata": {
  "kernelspec": {
   "display_name": "Python 3 (ipykernel)",
   "language": "python",
   "name": "python3"
  },
  "language_info": {
   "codemirror_mode": {
    "name": "ipython",
    "version": 3
   },
   "file_extension": ".py",
   "mimetype": "text/x-python",
   "name": "python",
   "nbconvert_exporter": "python",
   "pygments_lexer": "ipython3",
   "version": "3.9.7"
  }
 },
 "nbformat": 4,
 "nbformat_minor": 5
}
