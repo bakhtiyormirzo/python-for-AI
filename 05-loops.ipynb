{
 "cells": [
  {
   "cell_type": "markdown",
   "id": "e8e762a2",
   "metadata": {},
   "source": [
    "# For loop"
   ]
  },
  {
   "cell_type": "code",
   "execution_count": 1,
   "id": "fd412f85",
   "metadata": {},
   "outputs": [
    {
     "name": "stdout",
     "output_type": "stream",
     "text": [
      "n = 2\n",
      "k = 3\n",
      "3 3 "
     ]
    }
   ],
   "source": [
    "# 1-savol\n",
    "\n",
    "n = abs(int(input(\"n = \")))\n",
    "k = int(input(\"k = \"))\n",
    "\n",
    "for i in range(n):\n",
    "    print(k, end=\" \")"
   ]
  },
  {
   "cell_type": "code",
   "execution_count": 5,
   "id": "bb38ace1",
   "metadata": {},
   "outputs": [
    {
     "name": "stdout",
     "output_type": "stream",
     "text": [
      "a = 2\n",
      "a dan katta son: 5\n",
      "2 3 4 5 "
     ]
    }
   ],
   "source": [
    "# 2-savol \n",
    "\n",
    "a = int(input(\"a = \"))\n",
    "b = int(input(\"a dan katta son: \"))\n",
    "\n",
    "for i in range(a,b+1):\n",
    "    print(i, end=\" \")"
   ]
  },
  {
   "cell_type": "code",
   "execution_count": 10,
   "id": "a20919e6",
   "metadata": {},
   "outputs": [
    {
     "name": "stdout",
     "output_type": "stream",
     "text": [
      "a = 5\n",
      "a dan katta son: 9\n",
      "8 | 7 | 6 | raqamlar soni:  3\n"
     ]
    }
   ],
   "source": [
    "# 3-savol\n",
    "\n",
    "a = int(input(\"a = \"))\n",
    "b = int(input(\"a dan katta son: \"))\n",
    "\n",
    "count = 0\n",
    "for i in range(b-1,a,-1):\n",
    "    count += 1\n",
    "    print(i, end=\" | \")\n",
    "print(\"raqamlar soni: \", count)"
   ]
  },
  {
   "cell_type": "code",
   "execution_count": 13,
   "id": "0ffce4d9",
   "metadata": {},
   "outputs": [
    {
     "name": "stdout",
     "output_type": "stream",
     "text": [
      "1 kg konfet narxi: 2\n",
      "0.0 | 2.0 | 4.0 | 6.0 | 8.0 | 10.0 | 12.0 | 14.0 | 16.0 | 18.0 | 20.0 | "
     ]
    }
   ],
   "source": [
    "# 4-savol\n",
    "\n",
    "x = float(input(\"1 kg konfet narxi: \"))\n",
    "\n",
    "for i in range(10+1):\n",
    "    print(i*x, end=\" | \")"
   ]
  },
  {
   "cell_type": "code",
   "execution_count": 19,
   "id": "38a75280",
   "metadata": {},
   "outputs": [
    {
     "name": "stdout",
     "output_type": "stream",
     "text": [
      "1 kg konfet narxi: 2\n",
      "0.2 | 0.4 | 0.6 | 0.8 | 1.0 | 1.2 | 1.4 | 1.6 | 1.8 | 2.0 | "
     ]
    }
   ],
   "source": [
    "# 5-savol\n",
    "\n",
    "x = float(input(\"1 kg konfet narxi: \"))\n",
    "\n",
    "k = 0\n",
    "for i in range(10):\n",
    "    k += 0.1\n",
    "    print(round(k*x,3), end=\" | \")"
   ]
  },
  {
   "cell_type": "code",
   "execution_count": 21,
   "id": "99b5b78e",
   "metadata": {},
   "outputs": [
    {
     "name": "stdout",
     "output_type": "stream",
     "text": [
      "1 kg konfet narxi: 2\n",
      "2.4 | 2.8 | 3.2 | 3.6 | 4.0 | "
     ]
    }
   ],
   "source": [
    "# 6-savol\n",
    "\n",
    "x = float(input(\"1 kg konfet narxi: \"))\n",
    "\n",
    "k = 1.0\n",
    "for i in range(12,22,2):\n",
    "    k += 0.2\n",
    "    print(round(k*x,3), end=\" | \")"
   ]
  },
  {
   "cell_type": "code",
   "execution_count": 23,
   "id": "6ae3a69b",
   "metadata": {},
   "outputs": [
    {
     "name": "stdout",
     "output_type": "stream",
     "text": [
      "a = 1\n",
      "a dan katta son: 9\n",
      "45\n"
     ]
    }
   ],
   "source": [
    "# 7-savol\n",
    "\n",
    "a = int(input(\"a = \"))\n",
    "b = int(input(\"a dan katta son: \"))\n",
    "\n",
    "count = 0\n",
    "for i in range(a,b+1):\n",
    "    count += i\n",
    "print(count)"
   ]
  },
  {
   "cell_type": "code",
   "execution_count": 27,
   "id": "46edb459",
   "metadata": {},
   "outputs": [
    {
     "name": "stdout",
     "output_type": "stream",
     "text": [
      "a = 1\n",
      "a dan katta son: 4\n",
      "24\n"
     ]
    }
   ],
   "source": [
    "# 8-savol\n",
    "\n",
    "a = int(input(\"a = \"))\n",
    "b = int(input(\"a dan katta son: \"))\n",
    "\n",
    "count = 1\n",
    "for i in range(a,b+1):\n",
    "    count *= i\n",
    "print(count)"
   ]
  },
  {
   "cell_type": "code",
   "execution_count": 31,
   "id": "d033733b",
   "metadata": {},
   "outputs": [
    {
     "name": "stdout",
     "output_type": "stream",
     "text": [
      "a = 2\n",
      "a dan katta son: 4\n",
      "29\n"
     ]
    }
   ],
   "source": [
    "# 9-savol\n",
    "\n",
    "a = int(input(\"a = \"))\n",
    "b = int(input(\"a dan katta son: \"))\n",
    "\n",
    "count = 0\n",
    "for i in range(a,b+1):\n",
    "    count += i**2\n",
    "print(count)"
   ]
  },
  {
   "cell_type": "code",
   "execution_count": 32,
   "id": "2bf57c37",
   "metadata": {},
   "outputs": [
    {
     "name": "stdout",
     "output_type": "stream",
     "text": [
      "n = 3\n",
      "1.8333333333333333\n"
     ]
    }
   ],
   "source": [
    "# 10-savol\n",
    "\n",
    "n = abs(int(input(\"n = \")))\n",
    "\n",
    "c = 0\n",
    "for i in range(1,n+1):\n",
    "    c += 1/i\n",
    "print(c)"
   ]
  },
  {
   "cell_type": "code",
   "execution_count": 56,
   "id": "69073ce6",
   "metadata": {},
   "outputs": [
    {
     "name": "stdout",
     "output_type": "stream",
     "text": [
      "n = 4\n",
      "190\n"
     ]
    }
   ],
   "source": [
    "# 11-savol\n",
    "\n",
    "n = abs(int(input(\"n = \")))\n",
    "\n",
    "k = n\n",
    "c = 0\n",
    "\n",
    "for i in range(n+1):\n",
    "    c += (k+i)**2\n",
    "print(c)"
   ]
  },
  {
   "cell_type": "code",
   "execution_count": 33,
   "id": "f90bce7f",
   "metadata": {},
   "outputs": [
    {
     "name": "stdout",
     "output_type": "stream",
     "text": [
      "n = 3\n",
      "1.7160000000000006\n"
     ]
    }
   ],
   "source": [
    "# 12-savol\n",
    "\n",
    "n = abs(int(input(\"n = \")))\n",
    "\n",
    "k = 1.0\n",
    "c = 1\n",
    "for i in range(1,n):\n",
    "    k += 0.1\n",
    "    c *= k\n",
    "print(c)"
   ]
  },
  {
   "cell_type": "code",
   "execution_count": 54,
   "id": "8d0418bc",
   "metadata": {},
   "outputs": [
    {
     "name": "stdout",
     "output_type": "stream",
     "text": [
      "n = 3\n",
      "1.2000000000000002\n"
     ]
    }
   ],
   "source": [
    "# 13-savol\n",
    "\n",
    "n = abs(int(input(\"n = \")))\n",
    "\n",
    "k = 1.1\n",
    "c = 0\n",
    "\n",
    "for i in range(1,n+1):\n",
    "    c += k\n",
    "    \n",
    "    if k > 0:\n",
    "        k = -(abs(k) + 0.1)\n",
    "    else:\n",
    "        k = abs(k) + 0.1\n",
    "    \n",
    "print(c)"
   ]
  },
  {
   "cell_type": "code",
   "execution_count": 38,
   "id": "76a1ae54",
   "metadata": {},
   "outputs": [
    {
     "name": "stdout",
     "output_type": "stream",
     "text": [
      "n = 3\n",
      "1 | 4 | 9 | "
     ]
    }
   ],
   "source": [
    "# 14-savol\n",
    "\n",
    "n = abs(int(input(\"n = \")))\n",
    "\n",
    "c = 0\n",
    "for i in range(1,n+1):\n",
    "    c += 2*i-1\n",
    "    print(c, end=\" | \")\n"
   ]
  },
  {
   "cell_type": "code",
   "execution_count": 42,
   "id": "d38d3fc0",
   "metadata": {},
   "outputs": [
    {
     "name": "stdout",
     "output_type": "stream",
     "text": [
      "n = 3\n",
      "a = 5\n",
      "125.0\n"
     ]
    }
   ],
   "source": [
    "# 15-savol\n",
    "\n",
    "n = abs(int(input(\"n = \")))\n",
    "a = float(input(\"a = \"))\n",
    "\n",
    "b = a\n",
    "\n",
    "c = 1\n",
    "for i in range(1,n):\n",
    "    a *= b\n",
    "print(a)"
   ]
  },
  {
   "cell_type": "code",
   "execution_count": 3,
   "id": "593d313d",
   "metadata": {},
   "outputs": [
    {
     "name": "stdout",
     "output_type": "stream",
     "text": [
      "n = 3\n",
      "a = 2\n",
      "2.0 4.0 8.0 "
     ]
    }
   ],
   "source": [
    "# 16-savol\n",
    "\n",
    "n = abs(int(input(\"n = \")))\n",
    "a = float(input(\"a = \"))\n",
    "\n",
    "for i in range(1,n+1):\n",
    "    print(a**i, end=\" \")"
   ]
  },
  {
   "cell_type": "code",
   "execution_count": 5,
   "id": "05e0d70d",
   "metadata": {},
   "outputs": [
    {
     "name": "stdout",
     "output_type": "stream",
     "text": [
      "n = 3\n",
      "a = 2\n",
      "14.0\n"
     ]
    }
   ],
   "source": [
    "# 17-savol\n",
    "\n",
    "n = abs(int(input(\"n = \")))\n",
    "a = float(input(\"a = \"))\n",
    "\n",
    "s = 0\n",
    "\n",
    "for i in range(1,n+1):\n",
    "    s += a**i \n",
    "    \n",
    "print(s)"
   ]
  },
  {
   "cell_type": "code",
   "execution_count": 50,
   "id": "056f0db3",
   "metadata": {},
   "outputs": [
    {
     "name": "stdout",
     "output_type": "stream",
     "text": [
      "n = 3\n",
      "a = 5\n",
      "6.0 -19.0 106.0 "
     ]
    }
   ],
   "source": [
    "# 18-savol\n",
    "\n",
    "n = abs(int(input(\"n = \")))\n",
    "a = float(input(\"a = \"))\n",
    "\n",
    "s = 1\n",
    "for i in range(1,n+1):\n",
    "    s -= ((-1)**i)*(a**i)\n",
    "    print(s, end=\" \" )"
   ]
  },
  {
   "cell_type": "code",
   "execution_count": 8,
   "id": "089ec676",
   "metadata": {},
   "outputs": [
    {
     "name": "stdout",
     "output_type": "stream",
     "text": [
      "n = 3\n",
      "6\n"
     ]
    }
   ],
   "source": [
    "# 19-savol\n",
    "\n",
    "n = abs(int(input(\"n = \")))\n",
    "s = 1\n",
    "for i in range(1,n+1):\n",
    "    s *= i\n",
    "    \n",
    "print(s)"
   ]
  },
  {
   "cell_type": "code",
   "execution_count": null,
   "id": "cb7da7c1",
   "metadata": {},
   "outputs": [],
   "source": [
    "# 20-savol\n",
    "\n",
    "n = abs(int(input(\"n = \")))\n",
    "\n",
    "r = 0\n",
    "\n",
    "def fact(a):\n",
    "    s = 1\n",
    "    for i in range(1,a+1):\n",
    "        s *= i\n",
    "    return s\n",
    "\n",
    "for i in range(1,n+1):\n",
    "    r += fact(i)\n",
    "print(r)"
   ]
  },
  {
   "cell_type": "code",
   "execution_count": 1,
   "id": "15fcec90",
   "metadata": {},
   "outputs": [
    {
     "name": "stdout",
     "output_type": "stream",
     "text": [
      "n = 3\n",
      "2.6666666666666665\n"
     ]
    }
   ],
   "source": [
    "# 21-savol\n",
    "\n",
    "n = abs(int(input(\"n = \")))\n",
    "\n",
    "r = 1\n",
    "\n",
    "def fact(a):\n",
    "    s = 1\n",
    "    for i in range(1,a+1):\n",
    "        s *= i\n",
    "    return 1/s\n",
    "\n",
    "for i in range(1,n+1):\n",
    "    r += fact(i)\n",
    "print(r)"
   ]
  },
  {
   "cell_type": "code",
   "execution_count": 4,
   "id": "4e6f2e2d",
   "metadata": {},
   "outputs": [
    {
     "name": "stdout",
     "output_type": "stream",
     "text": [
      "n = 3\n",
      "x = 2\n",
      "5.333333333333333\n"
     ]
    }
   ],
   "source": [
    "# 22-savol\n",
    "\n",
    "n = abs(int(input(\"n = \")))\n",
    "x = float(input(\"x = \"))\n",
    "\n",
    "r = 0\n",
    "\n",
    "def fact(a):\n",
    "    s = 1\n",
    "    for i in range(1,a+1):\n",
    "        s *= i\n",
    "    return s\n",
    "\n",
    "for i in range(1,n+1):\n",
    "    r += x**i/fact(i)\n",
    "print(r)"
   ]
  },
  {
   "cell_type": "code",
   "execution_count": 7,
   "id": "1c2f50d5",
   "metadata": {},
   "outputs": [
    {
     "name": "stdout",
     "output_type": "stream",
     "text": [
      "n = 3\n",
      "x = 2\n",
      "-1.092063492063492\n"
     ]
    }
   ],
   "source": [
    "# 23-savol\n",
    "\n",
    "n = abs(int(input(\"n = \")))\n",
    "x = float(input(\"x = \"))\n",
    "\n",
    "r = 0\n",
    "\n",
    "def fact(a):\n",
    "    s = 1\n",
    "    for i in range(1,a+1):\n",
    "        s *= i\n",
    "    return s\n",
    "\n",
    "for i in range(1,n+1):\n",
    "    r += ((-1)**i) * (x ** (2*i+1)) / fact(2*i+1)\n",
    "print(r)"
   ]
  },
  {
   "cell_type": "code",
   "execution_count": 9,
   "id": "24deee22",
   "metadata": {},
   "outputs": [
    {
     "name": "stdout",
     "output_type": "stream",
     "text": [
      "n = 6\n",
      "x = 5\n",
      "-0.6530601881079307\n"
     ]
    }
   ],
   "source": [
    "# 24-savol\n",
    "\n",
    "n = abs(int(input(\"n = \")))\n",
    "x = float(input(\"x = \"))\n",
    "\n",
    "r = 0\n",
    "\n",
    "def fact(a):\n",
    "    s = 1\n",
    "    for i in range(1,a+1):\n",
    "        s *= i\n",
    "    return s\n",
    "\n",
    "for i in range(1,n+1):\n",
    "    r += ((-1)**i) * (x ** (2*i)) / fact(2*i)\n",
    "print(r)"
   ]
  },
  {
   "cell_type": "code",
   "execution_count": 12,
   "id": "02a5ab26",
   "metadata": {},
   "outputs": [
    {
     "name": "stdout",
     "output_type": "stream",
     "text": [
      "n = 3\n",
      "x = 2\n",
      "2.6666666666666665\n"
     ]
    }
   ],
   "source": [
    "# 25-savol\n",
    "\n",
    "n = abs(int(input(\"n = \")))\n",
    "x = float(input(\"x = \"))\n",
    "\n",
    "r = 0\n",
    "\n",
    "for i in range(1,n+1):\n",
    "    r += ((-1)**(i-1) * x**i) / i \n",
    "print(r)"
   ]
  },
  {
   "cell_type": "code",
   "execution_count": 11,
   "id": "1772c425",
   "metadata": {},
   "outputs": [
    {
     "name": "stdout",
     "output_type": "stream",
     "text": [
      "n = 3\n",
      "x = 2\n",
      "-14.55238095238095\n"
     ]
    }
   ],
   "source": [
    "# 26-savol\n",
    "\n",
    "n = abs(int(input(\"n = \")))\n",
    "x = float(input(\"x = \"))\n",
    "\n",
    "r = 0\n",
    "\n",
    "for i in range(1,n+1):\n",
    "    r += ((-1)**i) * (x ** (2*i+1)) / (2*i+1)\n",
    "print(r)"
   ]
  },
  {
   "cell_type": "code",
   "execution_count": 14,
   "id": "5555eb44",
   "metadata": {},
   "outputs": [
    {
     "name": "stdout",
     "output_type": "stream",
     "text": [
      "n = 3\n",
      "x = 2\n",
      "21.37142857142857\n"
     ]
    }
   ],
   "source": [
    "# 27-savol\n",
    "\n",
    "n = abs(int(input(\"n = \")))\n",
    "x = float(input(\"x = \"))\n",
    "\n",
    "r = 0\n",
    "\n",
    "for i in range(1,n+1):\n",
    "    r += ( (2*i-1) * x ** (2*i+1) ) / ( (2*i) * (2*i+1) )\n",
    "print(r)"
   ]
  },
  {
   "cell_type": "code",
   "execution_count": 16,
   "id": "9a173f95",
   "metadata": {},
   "outputs": [
    {
     "name": "stdout",
     "output_type": "stream",
     "text": [
      "n = 3\n",
      "x = 2\n",
      "2.0\n"
     ]
    }
   ],
   "source": [
    "# 28-savol\n",
    "\n",
    "n = abs(int(input(\"n = \")))\n",
    "x = float(input(\"x = \"))\n",
    "\n",
    "r = 0\n",
    "\n",
    "for i in range(1,n+1):\n",
    "    r += ( (-1) ** (i-1) * (2*i-3) * (x**i) ) / (2*i) \n",
    "print(r)"
   ]
  },
  {
   "cell_type": "code",
   "execution_count": 20,
   "id": "b3510a9d",
   "metadata": {},
   "outputs": [
    {
     "name": "stdout",
     "output_type": "stream",
     "text": [
      "n = 2\n",
      "a = 3\n",
      "b = 7\n",
      "3 5 7 "
     ]
    }
   ],
   "source": [
    "# 29-savol\n",
    "\n",
    "n = abs(int(input(\"n = \")))\n",
    "a = float(input(\"a = \"))\n",
    "b = float(input(\"b = \"))\n",
    "\n",
    "x = int(max(a,b))\n",
    "y = int(min(a,b))\n",
    "\n",
    "for i in range(y,x+1,n):\n",
    "    print(i, end=\" \")"
   ]
  },
  {
   "cell_type": "code",
   "execution_count": 23,
   "id": "7c0f488a",
   "metadata": {},
   "outputs": [
    {
     "name": "stdout",
     "output_type": "stream",
     "text": [
      "n = 2\n",
      "a = 3\n",
      "b = 7\n",
      "0.8588799919401328 | 1.9589242746631386 | 0.34301340128121094 | "
     ]
    }
   ],
   "source": [
    "# 30-savol\n",
    "\n",
    "import math\n",
    "\n",
    "n = abs(int(input(\"n = \")))\n",
    "a = float(input(\"a = \"))\n",
    "b = float(input(\"b = \"))\n",
    "\n",
    "x = int(max(a,b))\n",
    "y = int(min(a,b))\n",
    "\n",
    "for i in range(y,x+1,n):\n",
    "    print(1-math.sin(i), end=\" | \")"
   ]
  },
  {
   "cell_type": "code",
   "execution_count": 30,
   "id": "a867e0b7",
   "metadata": {},
   "outputs": [
    {
     "name": "stdout",
     "output_type": "stream",
     "text": [
      "n = 5\n",
      "2 2.5 3.0 2.5 2.3333333333333335 2.25 "
     ]
    }
   ],
   "source": [
    "# 31-savol\n",
    "\n",
    "n = abs(int(input(\"n = \")))\n",
    "\n",
    "k_prev = 2\n",
    "print(k_prev, end=\" \")\n",
    "\n",
    "for i in range(1,n+1):\n",
    "    print(2 + 1/k_prev, end=\" \")\n",
    "    k_prev = i"
   ]
  },
  {
   "cell_type": "code",
   "execution_count": 29,
   "id": "283dcd73",
   "metadata": {},
   "outputs": [
    {
     "name": "stdout",
     "output_type": "stream",
     "text": [
      "n = 5\n",
      "1 2.0 1.0 1.0 1.0 1.0 "
     ]
    }
   ],
   "source": [
    "# 32-savol\n",
    "\n",
    "n = abs(int(input(\"n = \")))\n",
    "\n",
    "k_prev = 1\n",
    "print(k_prev, end=\" \")\n",
    "\n",
    "for i in range(1,n+1):\n",
    "    print((k_prev + 1)/i, end=\" \")\n",
    "    k_prev = i"
   ]
  },
  {
   "cell_type": "code",
   "execution_count": 37,
   "id": "18fe11b3",
   "metadata": {},
   "outputs": [
    {
     "name": "stdout",
     "output_type": "stream",
     "text": [
      "n = 9\n",
      "1 1 2 3 5 8 13 21 34 "
     ]
    }
   ],
   "source": [
    "# 33-savol\n",
    "\n",
    "n = abs(int(input(\"n (n>1) = \")))\n",
    "\n",
    "k1 = 1\n",
    "k2 = 1\n",
    "\n",
    "print(k1, k2, end=\" \")\n",
    "\n",
    "for i in range(3,n+1):\n",
    "    k3 = k1 + k2\n",
    "    \n",
    "    print(k3, end=\" \")\n",
    "    \n",
    "    k1 = k2\n",
    "    k2 = k3"
   ]
  },
  {
   "cell_type": "code",
   "execution_count": 38,
   "id": "2e6cf7c5",
   "metadata": {},
   "outputs": [
    {
     "name": "stdout",
     "output_type": "stream",
     "text": [
      "n = 5\n",
      "1 2 1.6666666666666667 1.777777777777778 1.7407407407407407 "
     ]
    }
   ],
   "source": [
    "# 34-savol\n",
    "\n",
    "n = abs(int(input(\"n (n>1) = \")))\n",
    "\n",
    "a1 = 1\n",
    "a2 = 2\n",
    "\n",
    "print(a1, a2, end=\" \")\n",
    "\n",
    "for i in range(3,n+1):\n",
    "    a3 = (a1 + 2*a2) / 3\n",
    "    \n",
    "    print(a3, end=\" \")\n",
    "    \n",
    "    a1 = a2\n",
    "    a2 = a3"
   ]
  },
  {
   "cell_type": "code",
   "execution_count": 39,
   "id": "a536d4c8",
   "metadata": {},
   "outputs": [
    {
     "name": "stdout",
     "output_type": "stream",
     "text": [
      "n (n>2) = 5\n",
      "1 2 3 3 2 "
     ]
    }
   ],
   "source": [
    "# 35-savol\n",
    "\n",
    "n = abs(int(input(\"n (n>2) = \")))\n",
    "\n",
    "a1 = 1\n",
    "a2 = 2\n",
    "a3 = 3\n",
    "\n",
    "print(a1, a2,a3, end=\" \")\n",
    "\n",
    "for i in range(4,n+1):\n",
    "    a4 = a3 + a2 - 2*a1\n",
    "    \n",
    "    print(a4, end=\" \")\n",
    "    \n",
    "    a1 = a2\n",
    "    a2 = a3\n",
    "    a3 = a4"
   ]
  },
  {
   "cell_type": "code",
   "execution_count": 40,
   "id": "7315643d",
   "metadata": {},
   "outputs": [
    {
     "name": "stdout",
     "output_type": "stream",
     "text": [
      "n = 3\n",
      "k = 3\n",
      "36\n"
     ]
    }
   ],
   "source": [
    "# 36-savol\n",
    "\n",
    "n = abs(int(input(\"n = \")))\n",
    "k = abs(int(input(\"k = \")))\n",
    "\n",
    "s = 0\n",
    "\n",
    "for i in range(n+1):\n",
    "    s += i**k\n",
    "print(s)"
   ]
  },
  {
   "cell_type": "code",
   "execution_count": 42,
   "id": "9988c75d",
   "metadata": {},
   "outputs": [
    {
     "name": "stdout",
     "output_type": "stream",
     "text": [
      "n = 3\n",
      "32\n"
     ]
    }
   ],
   "source": [
    "# 37-savol\n",
    "\n",
    "n = abs(int(input(\"n = \")))\n",
    "\n",
    "s = 0\n",
    "\n",
    "for i in range(1,n+1):\n",
    "    s += i**i\n",
    "print(s)"
   ]
  },
  {
   "cell_type": "code",
   "execution_count": 43,
   "id": "5228d6c2",
   "metadata": {},
   "outputs": [
    {
     "name": "stdout",
     "output_type": "stream",
     "text": [
      "n = 3\n",
      "8\n"
     ]
    }
   ],
   "source": [
    "# 38-savol\n",
    "\n",
    "n = abs(int(input(\"n = \")))\n",
    "\n",
    "k = n\n",
    "s = 0\n",
    "\n",
    "for i in range(1,n+1):\n",
    "    s += i**k\n",
    "    k -= 1\n",
    "print(s)"
   ]
  },
  {
   "cell_type": "code",
   "execution_count": 47,
   "id": "6c1e24ab",
   "metadata": {},
   "outputs": [
    {
     "name": "stdout",
     "output_type": "stream",
     "text": [
      "a = 3\n",
      "b = 7\n",
      "3 3 3 4 4 4 4 5 5 5 5 5 6 6 6 6 6 6 "
     ]
    }
   ],
   "source": [
    "# 39-savol\n",
    "\n",
    "a = int(input(\"a = \"))\n",
    "b = int(input(\"b = \"))\n",
    "\n",
    "x = min(a,b)\n",
    "y = max(a,b)\n",
    "\n",
    "c = 0\n",
    "\n",
    "for i in range(x,y):\n",
    "    c = i\n",
    "    for k in range(i):\n",
    "        print(c, end=\" \")"
   ]
  },
  {
   "cell_type": "code",
   "execution_count": 48,
   "id": "45ddd35d",
   "metadata": {},
   "outputs": [
    {
     "name": "stdout",
     "output_type": "stream",
     "text": [
      "a = 2\n",
      "b = 5\n",
      "2 3 3 4 4 4 "
     ]
    }
   ],
   "source": [
    "# 40-savol\n",
    "\n",
    "a = int(input(\"a = \"))\n",
    "b = int(input(\"b = \"))\n",
    "\n",
    "x = min(a,b)\n",
    "y = max(a,b)\n",
    "\n",
    "c = 1\n",
    "\n",
    "for i in range(x,y):\n",
    "    for k in range(c):\n",
    "        print(i, end=\" \")\n",
    "    c += 1"
   ]
  }
 ],
 "metadata": {
  "kernelspec": {
   "display_name": "Python 3 (ipykernel)",
   "language": "python",
   "name": "python3"
  },
  "language_info": {
   "codemirror_mode": {
    "name": "ipython",
    "version": 3
   },
   "file_extension": ".py",
   "mimetype": "text/x-python",
   "name": "python",
   "nbconvert_exporter": "python",
   "pygments_lexer": "ipython3",
   "version": "3.9.7"
  }
 },
 "nbformat": 4,
 "nbformat_minor": 5
}
