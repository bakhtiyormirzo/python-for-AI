{
 "cells": [
  {
   "cell_type": "markdown",
   "id": "7e0f8c63",
   "metadata": {},
   "source": [
    "# 2nd If problems"
   ]
  },
  {
   "cell_type": "code",
   "execution_count": 1,
   "id": "f1e98d8b",
   "metadata": {},
   "outputs": [
    {
     "name": "stdout",
     "output_type": "stream",
     "text": [
      "1-7 oralig'ida son kiriting: 1\n",
      "Dushanba\n"
     ]
    }
   ],
   "source": [
    "# 1-savol\n",
    "\n",
    "x = int(input(\"1-7 oralig'ida son kiriting: \"))\n",
    "\n",
    "if x == 1:\n",
    "    print(\"Dushanba\")\n",
    "elif x == 2:\n",
    "    print(\"Seshanba\")\n",
    "elif x == 3:\n",
    "    print(\"Chorshanba\")\n",
    "elif x == 4:\n",
    "    print(\"Payshanba\")\n",
    "elif x == 5:\n",
    "    print(\"Juma\")\n",
    "elif x == 6:\n",
    "    print(\"Shanba\")\n",
    "else:\n",
    "    print(\"Yakshanba\")"
   ]
  },
  {
   "cell_type": "code",
   "execution_count": 3,
   "id": "6c2114f9",
   "metadata": {},
   "outputs": [
    {
     "name": "stdout",
     "output_type": "stream",
     "text": [
      "x = 3\n",
      "Qoniqarli\n"
     ]
    }
   ],
   "source": [
    "# 2-savol\n",
    "\n",
    "x = int(input(\"x = \"))\n",
    "\n",
    "if x == 1:\n",
    "    print(\"Yomon\")\n",
    "elif x == 2:\n",
    "    print(\"Qoniqarsiz\")\n",
    "elif x == 3:\n",
    "    print(\"Qoniqarli\")\n",
    "elif x == 4:\n",
    "    print(\"Yaxshi\")\n",
    "elif x == 5:\n",
    "    print(\"A'lo\")\n",
    "else:\n",
    "    print(\"Xato\")"
   ]
  },
  {
   "cell_type": "code",
   "execution_count": 4,
   "id": "ec05396e",
   "metadata": {},
   "outputs": [
    {
     "name": "stdout",
     "output_type": "stream",
     "text": [
      "x = 12\n",
      "Qish\n"
     ]
    }
   ],
   "source": [
    "# 3-savol\n",
    "\n",
    "x = int(input(\"x = \"))\n",
    "\n",
    "if x == 1 or x == 2 or x == 12:\n",
    "    print(\"Qish\")\n",
    "elif x == 3 or x == 4 or x == 5:\n",
    "    print(\"Bahor\")\n",
    "elif x == 6 or x == 7 or x == 8:\n",
    "    print(\"Yoz\")\n",
    "elif x == 9 or x == 10 or x == 11:\n",
    "    print(\"Kuz\")\n",
    "else:\n",
    "    print(\"Xato\")"
   ]
  },
  {
   "cell_type": "code",
   "execution_count": 6,
   "id": "2118ed47",
   "metadata": {},
   "outputs": [
    {
     "name": "stdout",
     "output_type": "stream",
     "text": [
      "x = 3\n",
      "31\n"
     ]
    }
   ],
   "source": [
    "# 4-savol\n",
    "\n",
    "x = int(input(\"x = \"))\n",
    "\n",
    "if x == 1:\n",
    "    print(31)\n",
    "elif x == 2:\n",
    "    print(28)\n",
    "elif x == 3:\n",
    "    print(31)\n",
    "elif x == 4:\n",
    "    print(30)\n",
    "elif x == 5:\n",
    "    print(31)\n",
    "elif x == 6:\n",
    "    print(30)\n",
    "elif x == 7:\n",
    "    print(31)\n",
    "elif x == 8:\n",
    "    print(31)\n",
    "elif x == 9:\n",
    "    print(30)\n",
    "elif x == 10:\n",
    "    print(31)\n",
    "elif x == 11:\n",
    "    print(30)\n",
    "elif x == 12:\n",
    "    print(31)\n",
    "else:\n",
    "    print(\"Xato\")"
   ]
  },
  {
   "cell_type": "code",
   "execution_count": 7,
   "id": "f6bf05b3",
   "metadata": {},
   "outputs": [
    {
     "name": "stdout",
     "output_type": "stream",
     "text": [
      "a = 3\n",
      "b = 4\n",
      "x = 1\n",
      "7\n"
     ]
    }
   ],
   "source": [
    "# 5-savol\n",
    "\n",
    "a = int(input(\"a = \"))\n",
    "b = int(input(\"b = \"))\n",
    "x = int(input(\"x = \"))\n",
    "\n",
    "if x == 1:\n",
    "    print(a+b)\n",
    "elif x == 2:\n",
    "    print(a-b)\n",
    "elif x == 3:\n",
    "    print(a*b)\n",
    "elif x == 4:\n",
    "    print(a/b)\n",
    "else:\n",
    "    print(\"Xato\")"
   ]
  },
  {
   "cell_type": "code",
   "execution_count": 9,
   "id": "7b96f782",
   "metadata": {},
   "outputs": [
    {
     "name": "stdout",
     "output_type": "stream",
     "text": [
      "1-5 oralig'ida son 2\n",
      "b = 23.45\n",
      "23450.0\n"
     ]
    }
   ],
   "source": [
    "# 6-savol x -> m\n",
    "\n",
    "a = int(input(\"1-5 oralig'ida son \"))\n",
    "b = float(input(\"b = \"))\n",
    "\n",
    "if a == 1: # distsimeter\n",
    "    print(b/10)\n",
    "elif a == 2: # km\n",
    "    print(b*1000)\n",
    "elif a == 3: # m\n",
    "    print(b)\n",
    "elif a == 4: # millimeter\n",
    "    print(b/1000)\n",
    "else: # cm\n",
    "    print(b/100)"
   ]
  },
  {
   "cell_type": "code",
   "execution_count": 10,
   "id": "6542f8b7",
   "metadata": {},
   "outputs": [
    {
     "name": "stdout",
     "output_type": "stream",
     "text": [
      "1-5 oralig'ida son 3\n",
      "b = 4\n",
      "0.004\n"
     ]
    }
   ],
   "source": [
    "# 7-savol x-> kg\n",
    "\n",
    "a = int(input(\"1-5 oralig'ida son \"))\n",
    "b = float(input(\"b = \"))\n",
    "\n",
    "if a == 1: # kg\n",
    "    print(b)\n",
    "elif a == 2: # mg\n",
    "    print(b/10**6)\n",
    "elif a == 3: # g\n",
    "    print(b/1000)\n",
    "elif a == 4: # ton\n",
    "    print(b*1000)\n",
    "else: # senter \n",
    "    print(b/10**9)"
   ]
  },
  {
   "cell_type": "code",
   "execution_count": 7,
   "id": "60ea2370",
   "metadata": {},
   "outputs": [
    {
     "name": "stdout",
     "output_type": "stream",
     "text": [
      "day (1-31): 2\n",
      "month (1-12): 2\n",
      "2 - fevral\n"
     ]
    }
   ],
   "source": [
    "# 8-savol: kunni va oyni topish\n",
    "\n",
    "d = int(input(\"day (1-31): \"))\n",
    "m = float(input(\"month (1-12): \"))\n",
    "\n",
    "if m == 1 and d >= 1 and d <= 31:\n",
    "    print(d, \"- yanvar\")\n",
    "elif m == 2 and d >= 1 and d <= 28:\n",
    "    print(d, \"- fevral\")\n",
    "elif m == 3 and d >= 1 and d <= 31:\n",
    "    print(d, \"- mart\")\n",
    "elif m == 4 and d >= 1 and d <= 30:\n",
    "    print(d, \"- aprel\")\n",
    "elif m == 5 and d >= 1 and d <= 31:\n",
    "    print(d, \"- may\")\n",
    "elif m == 6 and d >= 1 and d <= 30:\n",
    "    print(d, \"- iyun\")\n",
    "elif m == 7 and d >= 1 and d <= 31:\n",
    "    print(d, \"- iyul\")\n",
    "elif m == 8 and d >= 1 and d <= 31:\n",
    "    print(d, \"- avgust\")\n",
    "elif m == 9 and d >= 1 and d <= 30:\n",
    "    print(d, \"- sentabr\")\n",
    "elif m == 10 and d >= 1 and d <= 31:\n",
    "    print(d, \"- oktabr\")\n",
    "elif m == 11 and d >= 1 and d <= 30:\n",
    "    print(d, \"- noyabr\")\n",
    "elif m == 12 and d >= 1 and d <= 31:\n",
    "    print(d, \"- dekabr\")\n",
    "else:\n",
    "    print(\"Xato\")\n",
    "    \n"
   ]
  },
  {
   "cell_type": "code",
   "execution_count": 13,
   "id": "e770b9ab",
   "metadata": {},
   "outputs": [
    {
     "name": "stdout",
     "output_type": "stream",
     "text": [
      "d = 28\n",
      "m = 2\n",
      "y = 1996\n",
      "29/2/1996\n"
     ]
    }
   ],
   "source": [
    "# 9-savol: keyingi kunni topish\n",
    "\n",
    "d = int(input(\"d = \"))\n",
    "m = int(input(\"m = \"))\n",
    "y = int(input(\"y = \"))\n",
    "\n",
    "kabisa = False\n",
    "\n",
    "if x % 4 == 0:\n",
    "    kabisa = True\n",
    "if x % 100 == 0 and x % 400 != 0:\n",
    "    kabisa = False\n",
    "\n",
    "d += 1\n",
    "\n",
    "if m == 4 or m == 6 or m == 9 or m == 11:\n",
    "    if d > 30:\n",
    "        d = 1\n",
    "        m += 1\n",
    "elif m == 2:\n",
    "    if d > 28 and not kabisa:\n",
    "        d = 1\n",
    "        m = 3    \n",
    "else:\n",
    "    if d > 31:\n",
    "        d = 1\n",
    "        m += 1\n",
    "    if m > 12:\n",
    "        m = 1\n",
    "        y += 1\n",
    "    \n",
    "print(d,m,y,sep=\"/\")"
   ]
  },
  {
   "cell_type": "code",
   "execution_count": 3,
   "id": "ed8c9926",
   "metadata": {},
   "outputs": [
    {
     "name": "stdout",
     "output_type": "stream",
     "text": [
      "Ro'botni yonalishi (s/j/q/g): s\n",
      "komanda (0/1/2): 1\n",
      "Janub\n"
     ]
    }
   ],
   "source": [
    "# 10-savol\n",
    "\n",
    "y = input(\"Ro'botni yonalishi (s/j/q/g): \")\n",
    "k = input(\"komanda (0/1/2): \")\n",
    "\n",
    "if y == \"s\":\n",
    "    if k == 0:\n",
    "        print(\"Shimol\")\n",
    "    elif k == 1:\n",
    "        print(\"G'arb\")\n",
    "    else:\n",
    "        print(\"Janub\")\n",
    "elif y == \"j\":\n",
    "    if k == 0:\n",
    "        print(\"Janub\")\n",
    "    elif k == 1:\n",
    "        print(\"G'arb\")\n",
    "    else:\n",
    "        print(\"Sharq\")\n",
    "elif y == \"q\":\n",
    "    if k == 0:\n",
    "        print(\"Sharq\")\n",
    "    elif k == 1:\n",
    "        print(\"Janub\")\n",
    "    else:\n",
    "        print(\"Shimol\")\n",
    "else:\n",
    "    if k == 0:\n",
    "        print(\"G'arb\")\n",
    "    elif k == 1:\n",
    "        print(\"Janub\")\n",
    "    else:\n",
    "        print(\"Shimol\")"
   ]
  },
  {
   "cell_type": "code",
   "execution_count": 1,
   "id": "6fef2355",
   "metadata": {},
   "outputs": [
    {
     "name": "stdout",
     "output_type": "stream",
     "text": [
      "Ro'botni boshlang'ich holati (s/j/q/g): s\n",
      "komanda (0/1/2): 2\n",
      "komanda (0/1/2): 2\n",
      "Sharq\n"
     ]
    }
   ],
   "source": [
    "# 11-savol\n",
    "\n",
    "c = input(\"Ro'botni boshlang'ich holati (s/j/q/g): \")\n",
    "k1 = input(\"komanda (0/1/2): \")\n",
    "k2 = input(\"komanda (0/1/2): \")\n",
    "\n",
    "if c == \"s\":\n",
    "    if k1 == 0 and k2 == 1 or k1 == 1 and k2 == 0:\n",
    "        print(\"Shimol\")\n",
    "    elif k1 == 0 and k2 == 2 or k1 == 2 and k2 == 1:\n",
    "        print(\"G'arb\")\n",
    "    else: # k1 == 2 and k2 == 0 or k1 == 1 and k2 == 2\n",
    "        print(\"Sharq\")\n",
    "elif c == \"j\":\n",
    "    if k1 == 0 and k2 == 1 or k1 == 1 and k2 == 0:\n",
    "        print(\"Janub\")\n",
    "    elif k1 == 0 and k2 == 2 or k1 == 2 and k2 == 1:\n",
    "        print(\"G'arb\")\n",
    "    else: # k1 == 2 and k2 == 0 or k1 == 1 and k2 == 2\n",
    "        print(\"Sharq\")\n",
    "elif c == \"q\":\n",
    "    if k1 == 0 and k2 == 1 or k1 == 1 and k2 == 0:\n",
    "        print(\"Sharq\")\n",
    "    elif k1 == 0 and k2 == 2 or k1 == 2 and k2 == 0:\n",
    "        print(\"Janub\")\n",
    "    else: # k1 == 2 and k2 == 1 or k1 == 1 and k2 == 2\n",
    "        print(\"Shimol\")\n",
    "else: #g\n",
    "    if k1 == 0 and k2 == 1 or k1 == 1 and k2 == 0:\n",
    "        print(\"G'arb\")\n",
    "    elif k1 == 0 and k2 == 2 or k1 == 2 and k2 == 0:\n",
    "        print(\"Shimol\")\n",
    "    else: # k1 == 2 and k2 == 1 or k1 == 1 and k2 == 2\n",
    "        print(\"Janub\")"
   ]
  },
  {
   "cell_type": "code",
   "execution_count": 3,
   "id": "28869e6d",
   "metadata": {},
   "outputs": [
    {
     "name": "stdout",
     "output_type": "stream",
     "text": [
      "Radius: 2\n",
      "Buyruq (1/2/3/4): 2\n",
      "4\n"
     ]
    }
   ],
   "source": [
    "# 12-savol\n",
    "\n",
    "import math\n",
    "\n",
    "R = int(input(\"Radius: \"))\n",
    "b = int(input(\"Buyruq (1/2/3/4): \"))\n",
    "\n",
    "if b == 1:\n",
    "    print(R)\n",
    "elif b == 2:\n",
    "    print(2*R)\n",
    "elif b == 3:\n",
    "    print(2*math.pi*R)\n",
    "else:\n",
    "    print(math.pi*R**2)"
   ]
  },
  {
   "cell_type": "code",
   "execution_count": 4,
   "id": "efdaf875",
   "metadata": {},
   "outputs": [
    {
     "name": "stdout",
     "output_type": "stream",
     "text": [
      "katet uzunligi: 2\n",
      "Buyruq (1/2/3/4): 2\n",
      "2.8284271247461903\n"
     ]
    }
   ],
   "source": [
    "# 13-savol\n",
    "\n",
    "a = int(input(\"katet uzunligi: \"))\n",
    "b = int(input(\"Buyruq (1/2/3/4): \"))\n",
    "\n",
    "c = math.sqrt(2)*a\n",
    "h = c/2\n",
    "s = (c*h)/2\n",
    "\n",
    "if b == 1:\n",
    "    print(a)\n",
    "elif b == 2:\n",
    "    print(c)\n",
    "elif b == 3:\n",
    "    print(h)\n",
    "else:\n",
    "    print(s)"
   ]
  },
  {
   "cell_type": "code",
   "execution_count": 6,
   "id": "be79b5db",
   "metadata": {},
   "outputs": [
    {
     "name": "stdout",
     "output_type": "stream",
     "text": [
      "x=123\n",
      "bir yuzi yigirma uch \n"
     ]
    }
   ],
   "source": [
    "# 16, 17, 18: million\n",
    "\n",
    "x = int(input(\"x=\"))\n",
    "\n",
    "s = ''\n",
    "\n",
    "mil = x // 10**5 % 10\n",
    "ming1 = x // 10**4 % 10\n",
    "ming2 = x // 10**3 % 10\n",
    "yuz = x // 10**2 % 10\n",
    "on = x // 10 % 10\n",
    "bir = x%10\n",
    "\n",
    "if mil == 0:\n",
    "    s += \"\"\n",
    "elif mil == 1:\n",
    "    s += 'Bir million '\n",
    "elif mil == 2:\n",
    "    s += 'Ikki million '\n",
    "elif mil == 3:\n",
    "    s += 'Uch million '\n",
    "elif mil == 4:\n",
    "    s += 'Tort million '\n",
    "elif mil == 5:\n",
    "    s += 'Besh million '\n",
    "elif mil == 6:\n",
    "    s += 'Olti million '\n",
    "elif mil == 7:\n",
    "    s += 'Yetti million '\n",
    "elif mil == 8:\n",
    "    s += 'Sakkiz million '\n",
    "elif mil == 9:\n",
    "    s += 'Toqqiz million '\n",
    "\n",
    "if ming1 == 0 and s == \"\":\n",
    "    s += \"\"\n",
    "elif ming1 == 1:\n",
    "    s += 'bir yuzi '\n",
    "elif ming1 == 2:\n",
    "    s += 'ikki yuzi '\n",
    "elif ming1 == 3:\n",
    "    s += 'uch yuzi '\n",
    "elif ming1 == 4:\n",
    "    s += 'tort yuzi '\n",
    "elif ming1 == 5:\n",
    "    s += 'besh yuzi '\n",
    "elif ming1 == 6:\n",
    "    s += 'olti yuzi '\n",
    "elif ming1 == 7:\n",
    "    s += 'yetti yuzi '\n",
    "elif ming1 == 8:\n",
    "    s += 'sakkiz yuzi '\n",
    "elif ming1 == 9:\n",
    "    s += 'toqqiz yuzi '\n",
    "\n",
    "if ming2 == 0 and s == \"\":\n",
    "    s += \"\"\n",
    "elif ming2 == 1:\n",
    "    s += 'bir ming '\n",
    "elif ming2 == 2:\n",
    "    s += 'ikki ming '\n",
    "elif ming2 == 3:\n",
    "    s += 'uch ming '\n",
    "elif ming2 == 4:\n",
    "    s += 'tort ming '\n",
    "elif ming2 == 5:\n",
    "    s += 'besh ming '\n",
    "elif ming2 == 6:\n",
    "    s += 'olti ming '\n",
    "elif ming2 == 7:\n",
    "    s += 'yetti ming '\n",
    "elif ming2 == 8:\n",
    "    s += 'sakkiz ming '\n",
    "elif ming2 == 9:\n",
    "    s += 'toqqiz ming '\n",
    "\n",
    "if yuz == 0 and s == \"\":\n",
    "    s += \"\"\n",
    "elif yuz == 1:\n",
    "    s += 'bir yuzi '\n",
    "elif yuz == 2:\n",
    "    s += 'ikki yuzi '\n",
    "elif yuz == 3:\n",
    "    s += 'uch yuzi '\n",
    "elif yuz == 4:\n",
    "    s += 'tort yuzi '\n",
    "elif yuz == 5:\n",
    "    s += 'besh yuzi '\n",
    "elif yuz == 6:\n",
    "    s += 'olti yuzi '\n",
    "elif yuz == 7:\n",
    "    s += 'yetti yuzi '\n",
    "elif yuz == 8:\n",
    "    s += 'sakkiz yuzi '\n",
    "elif yuz == 9:\n",
    "    s += 'toqqiz yuzi '  \n",
    "\n",
    "if on == 0 and s == \"\":\n",
    "    s += \"\"\n",
    "elif on == 1:\n",
    "    s += 'on '\n",
    "elif on == 2:\n",
    "    s += 'yigirma '\n",
    "elif on == 3:\n",
    "    s += 'ottiz '\n",
    "elif on == 4:\n",
    "    s += 'qirq '\n",
    "elif on == 5:\n",
    "    s += 'ellik '\n",
    "elif on == 6:\n",
    "    s += 'oltmish '\n",
    "elif on == 7:\n",
    "    s += 'yetmish '\n",
    "elif on == 8:\n",
    "    s += 'sakson '\n",
    "elif on == 9:\n",
    "    s += 'toqson ' \n",
    "\n",
    "\n",
    "if bir == 1:\n",
    "    s += 'bir '\n",
    "elif bir == 2:\n",
    "    s += 'ikki '\n",
    "elif bir == 3:\n",
    "    s += 'uch '\n",
    "elif bir == 4:\n",
    "    s += 'tort '\n",
    "elif bir == 5:\n",
    "    s += 'besh '\n",
    "elif bir == 6:\n",
    "    s += 'olti '\n",
    "elif bir == 7:\n",
    "    s += 'yetti '\n",
    "elif bir == 8:\n",
    "    s += 'sakkiz '\n",
    "elif bir == 9:\n",
    "    s += 'toqqiz ' \n",
    "\n",
    "print(s)"
   ]
  },
  {
   "cell_type": "code",
   "execution_count": null,
   "id": "6079eb5e",
   "metadata": {},
   "outputs": [],
   "source": []
  }
 ],
 "metadata": {
  "kernelspec": {
   "display_name": "Python 3 (ipykernel)",
   "language": "python",
   "name": "python3"
  },
  "language_info": {
   "codemirror_mode": {
    "name": "ipython",
    "version": 3
   },
   "file_extension": ".py",
   "mimetype": "text/x-python",
   "name": "python",
   "nbconvert_exporter": "python",
   "pygments_lexer": "ipython3",
   "version": "3.9.7"
  }
 },
 "nbformat": 4,
 "nbformat_minor": 5
}
