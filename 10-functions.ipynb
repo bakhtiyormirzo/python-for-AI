{
 "cells": [
  {
   "cell_type": "markdown",
   "id": "0a59ba37",
   "metadata": {},
   "source": [
    "# Functions"
   ]
  },
  {
   "cell_type": "code",
   "execution_count": 3,
   "id": "c5ebf24a",
   "metadata": {},
   "outputs": [
    {
     "name": "stdout",
     "output_type": "stream",
     "text": [
      "a = 1\n",
      "b = 2\n",
      "c = 3\n",
      "d = 4\n",
      "e = 5\n",
      "(1.0, 8.0, 27.0, 64, 125)\n"
     ]
    }
   ],
   "source": [
    "# N1\n",
    "\n",
    "def PowerA3(a,b,c,d,e):\n",
    "    return a ** 3, b ** 3, c ** 3, d ** 3, e ** 3,\n",
    "\n",
    "a = float(input(\"a = \"))\n",
    "b = float(input(\"b = \"))\n",
    "c = float(input(\"c = \"))\n",
    "\n",
    "d = int(input(\"d = \"))\n",
    "e = int(input(\"e = \"))\n",
    "\n",
    "print(PowerA3(a,b,c,d,e))"
   ]
  },
  {
   "cell_type": "code",
   "execution_count": 4,
   "id": "764745a9",
   "metadata": {},
   "outputs": [
    {
     "name": "stdout",
     "output_type": "stream",
     "text": [
      "a = 2\n",
      "(4.0, 8.0, 16.0)\n",
      "b = 3\n",
      "(9.0, 27.0, 81.0)\n",
      "c = 4\n",
      "(16.0, 64.0, 256.0)\n"
     ]
    }
   ],
   "source": [
    "# N2\n",
    "\n",
    "def PowerA234(a):\n",
    "    return a ** 2, a ** 3, a ** 4\n",
    "\n",
    "a = float(input(\"a = \"))\n",
    "print(PowerA234(a))\n",
    "\n",
    "b = float(input(\"b = \"))\n",
    "print(PowerA234(b))\n",
    "\n",
    "c = float(input(\"c = \"))\n",
    "print(PowerA234(c))"
   ]
  },
  {
   "cell_type": "code",
   "execution_count": 5,
   "id": "dc4c800f",
   "metadata": {},
   "outputs": [
    {
     "name": "stdout",
     "output_type": "stream",
     "text": [
      "a = 2\n",
      "b = 3\n",
      "c = 4\n",
      "d = 5\n",
      "(2.5, 2.449489742783178, 3.0, 2.8284271247461903, 3.5, 3.1622776601683795)\n"
     ]
    }
   ],
   "source": [
    "# N3\n",
    "\n",
    "def MEAN(a,b,c,d):\n",
    "    ab1 = (a+b) / 2\n",
    "    ab2 = (a*b) ** 0.5\n",
    "    \n",
    "    ac1 = (a+c) / 2\n",
    "    ac2 = (a*c) ** 0.5\n",
    "    \n",
    "    ad1 = (a+d) / 2\n",
    "    ad2 = (a*d) ** 0.5\n",
    "    \n",
    "    return ab1, ab2, ac1, ac2, ad1, ad2\n",
    "\n",
    "a = int(input(\"a = \"))\n",
    "b = int(input(\"b = \"))\n",
    "c = int(input(\"c = \"))\n",
    "d = int(input(\"d = \")) \n",
    "\n",
    "print(MEAN(a,b,c,d))"
   ]
  },
  {
   "cell_type": "code",
   "execution_count": 6,
   "id": "f203ab43",
   "metadata": {},
   "outputs": [
    {
     "name": "stdout",
     "output_type": "stream",
     "text": [
      "a = 2\n",
      "(6, 1.7320508075688772)\n",
      "b = 3\n",
      "(9, 3.8971143170299736)\n",
      "c = 4\n",
      "(12, 6.928203230275509)\n"
     ]
    }
   ],
   "source": [
    "# N4\n",
    "\n",
    "def Triangle(a):\n",
    "    yuz = ((3)**0.5 / 4) * (a**2)\n",
    "    per = 3 * a\n",
    "    return per, yuz\n",
    "\n",
    "a = int(input(\"a = \"))\n",
    "print(Triangle(a))\n",
    "\n",
    "b = int(input(\"b = \"))\n",
    "print(Triangle(b))\n",
    "\n",
    "c = int(input(\"c = \"))\n",
    "print(Triangle(c))"
   ]
  },
  {
   "cell_type": "code",
   "execution_count": 9,
   "id": "4acd2c0a",
   "metadata": {},
   "outputs": [
    {
     "name": "stdout",
     "output_type": "stream",
     "text": [
      "x1 = 2\n",
      "x2 = 5\n",
      "y1 = 7\n",
      "y2 = 4\n",
      "(12, 9)\n",
      "\n",
      "x1 = 9\n",
      "x2 = 5\n",
      "y1 = 2\n",
      "y2 = 6\n",
      "(16, 16)\n"
     ]
    }
   ],
   "source": [
    "# N5\n",
    "\n",
    "def RectPS(x1, x2, y1, y2):\n",
    "    y = abs(y1 - y2)\n",
    "    x = abs(x1 - x2)\n",
    "    \n",
    "    yuz = x * y\n",
    "    per = 2*x + 2*y\n",
    "    \n",
    "    return per, yuz\n",
    "\n",
    "x1 = int(input(\"x1 = \"))\n",
    "x2 = int(input(\"x2 = \"))\n",
    "y1 = int(input(\"y1 = \"))\n",
    "y2 = int(input(\"y2 = \"))\n",
    "print(RectPS(x1, x2, y1, y2))\n",
    "\n",
    "print()\n",
    "\n",
    "x1 = int(input(\"x1 = \"))\n",
    "x2 = int(input(\"x2 = \"))\n",
    "y1 = int(input(\"y1 = \"))\n",
    "y2 = int(input(\"y2 = \"))\n",
    "print(RectPS(x1, x2, y1, y2))"
   ]
  },
  {
   "cell_type": "code",
   "execution_count": 10,
   "id": "0786f9a5",
   "metadata": {},
   "outputs": [
    {
     "name": "stdout",
     "output_type": "stream",
     "text": [
      "a = 34\n",
      "(7, 2)\n",
      "b = 555\n",
      "(15, 3)\n",
      "c = 3\n",
      "(3, 1)\n"
     ]
    }
   ],
   "source": [
    "# N6\n",
    "\n",
    "def DigitCountSum(a):\n",
    "    sum_digit = 0\n",
    "    count = 0\n",
    "    \n",
    "    while a > 0:\n",
    "        sum_digit += a % 10\n",
    "        count += 1\n",
    "        a //= 10\n",
    "        \n",
    "    return sum_digit, count\n",
    "\n",
    "a = int(input(\"a = \"))\n",
    "print(DigitCountSum(a))\n",
    "\n",
    "b = int(input(\"b = \"))\n",
    "print(DigitCountSum(b))\n",
    "\n",
    "c = int(input(\"c = \"))\n",
    "print(DigitCountSum(c))"
   ]
  },
  {
   "cell_type": "code",
   "execution_count": 13,
   "id": "7f39eb88",
   "metadata": {},
   "outputs": [
    {
     "name": "stdout",
     "output_type": "stream",
     "text": [
      "a = 345\n",
      "543\n",
      "b = 987\n",
      "789\n",
      "c = 123456789\n",
      "987654321\n"
     ]
    }
   ],
   "source": [
    "# N7\n",
    "\n",
    "def InverDigit(a):\n",
    "    i = 0\n",
    "    while a > 0:\n",
    "        i = i*10 + a%10\n",
    "        a //= 10\n",
    "    return i\n",
    "\n",
    "a = abs(int(input(\"a = \")))\n",
    "print(InverDigit(a))\n",
    "\n",
    "b = abs(int(input(\"b = \")))\n",
    "print(InverDigit(b))\n",
    "\n",
    "c = abs(int(input(\"c = \")))\n",
    "print(InverDigit(c))       "
   ]
  },
  {
   "cell_type": "code",
   "execution_count": 5,
   "id": "eb0c8ad5",
   "metadata": {},
   "outputs": [
    {
     "name": "stdout",
     "output_type": "stream",
     "text": [
      "k = 123\n",
      "r = 4\n",
      "1234\n"
     ]
    }
   ],
   "source": [
    "# N8\n",
    "\n",
    "def AddRightDigit(k, r):\n",
    "    return k*10+r\n",
    "\n",
    "k = abs(int(input(\"k = \")))\n",
    "r = abs(int(input(\"r = \")))\n",
    "print(AddRightDigit(k,r))    "
   ]
  },
  {
   "cell_type": "code",
   "execution_count": 6,
   "id": "b7354e47",
   "metadata": {},
   "outputs": [
    {
     "name": "stdout",
     "output_type": "stream",
     "text": [
      "k = 234\n",
      "r = 1\n",
      "1234\n"
     ]
    }
   ],
   "source": [
    "# N8\n",
    "\n",
    "def AddLeftDigit(k, r):\n",
    "    s = 0; a = k\n",
    "    while a > 0:\n",
    "        s += 1\n",
    "        a //= 10\n",
    "    return r*10**s + k\n",
    "\n",
    "k = abs(int(input(\"k = \")))\n",
    "r = abs(int(input(\"r = \")))\n",
    "print(AddLeftDigit(k,r))   "
   ]
  },
  {
   "cell_type": "code",
   "execution_count": 18,
   "id": "3a3dd8e4",
   "metadata": {},
   "outputs": [
    {
     "name": "stdout",
     "output_type": "stream",
     "text": [
      "a = 3\n",
      "b = 4\n",
      "c = 5\n",
      "d = 6\n",
      "4\n",
      "3\n",
      "6\n",
      "5\n"
     ]
    }
   ],
   "source": [
    "# N10\n",
    "\n",
    "def Swap(a,b):\n",
    "    return b, a\n",
    "\n",
    "a = int(input(\"a = \"))\n",
    "b = int(input(\"b = \"))\n",
    "c = int(input(\"c = \"))\n",
    "d = int(input(\"d = \")) \n",
    "\n",
    "a, b = Swap(a, b)\n",
    "d, c = Swap(d, c)\n",
    "\n",
    "print(a)\n",
    "print(b)\n",
    "print(c)\n",
    "print(d)"
   ]
  },
  {
   "cell_type": "code",
   "execution_count": 7,
   "id": "d9f83217",
   "metadata": {},
   "outputs": [
    {
     "name": "stdout",
     "output_type": "stream",
     "text": [
      "a = 9\n",
      "b = 8\n",
      "c = 1\n",
      "d = 2\n",
      "1 9\n"
     ]
    }
   ],
   "source": [
    "# N11\n",
    "\n",
    "def MinMax(x,y):\n",
    "    \n",
    "    if x > y:\n",
    "        x, y = y, x\n",
    "        \n",
    "    return x, y\n",
    "\n",
    "a = int(input(\"a = \"))\n",
    "b = int(input(\"b = \"))\n",
    "c = int(input(\"c = \"))\n",
    "d = int(input(\"d = \")) \n",
    "\n",
    "x1, y1 = MinMax(a, b)\n",
    "x2, y2 = MinMax(c, d)\n",
    "\n",
    "x3, y3 = MinMax(x1, x2) # minimum\n",
    "x4, y4 = MinMax(y1, y2) # maximum\n",
    "\n",
    "print(x3, y4)"
   ]
  },
  {
   "cell_type": "code",
   "execution_count": 3,
   "id": "a85c85d3",
   "metadata": {},
   "outputs": [
    {
     "name": "stdout",
     "output_type": "stream",
     "text": [
      "a1 = 5\n",
      "b1 = 2\n",
      "c1 = 4\n",
      "(2, 4, 5)\n",
      "a2 = 6\n",
      "b2 = 5\n",
      "c2 = 4\n",
      "(4, 5, 6)\n"
     ]
    }
   ],
   "source": [
    "# N12: a<b<c\n",
    "\n",
    "def SortInc(a,b,c):\n",
    "    if b < a and b < c or c < a and c < b:\n",
    "        if b < c:\n",
    "            a, b = b, a\n",
    "        else:\n",
    "            a, c = c, a\n",
    "    if b > c:\n",
    "        c, b = b, c\n",
    "    return a,b,c\n",
    "\n",
    "a1 = int(input(\"a1 = \"))\n",
    "b1 = int(input(\"b1 = \"))\n",
    "c1 = int(input(\"c1 = \"))\n",
    "print(SortInc(a1,b1,c1))\n",
    "\n",
    "a2 = int(input(\"a2 = \"))\n",
    "b2 = int(input(\"b2 = \"))\n",
    "c2 = int(input(\"c2 = \"))\n",
    "print(SortInc(a2,b2,c2))"
   ]
  },
  {
   "cell_type": "code",
   "execution_count": 5,
   "id": "64805ade",
   "metadata": {},
   "outputs": [
    {
     "name": "stdout",
     "output_type": "stream",
     "text": [
      "a1 = 5\n",
      "b1 = 3\n",
      "c1 = 4\n",
      "(5, 4, 3)\n",
      "a2 = 7\n",
      "b2 = 4\n",
      "c2 = 1\n",
      "(7, 4, 1)\n"
     ]
    }
   ],
   "source": [
    "# N13: a>b>c\n",
    "\n",
    "def SortDec(a,b,c):\n",
    "    if b < a and b < c or a < c and a < b:\n",
    "        if b < a:\n",
    "            c, b = b, c\n",
    "        else:\n",
    "            c, a = a, c\n",
    "    if b > a:\n",
    "        a, b = b, a\n",
    "    return a,b,c\n",
    "\n",
    "a1 = int(input(\"a1 = \"))\n",
    "b1 = int(input(\"b1 = \"))\n",
    "c1 = int(input(\"c1 = \"))\n",
    "print(SortDec(a1,b1,c1))\n",
    "\n",
    "a2 = int(input(\"a2 = \"))\n",
    "b2 = int(input(\"b2 = \"))\n",
    "c2 = int(input(\"c2 = \"))\n",
    "print(SortDec(a2,b2,c2))"
   ]
  },
  {
   "cell_type": "code",
   "execution_count": 14,
   "id": "234bb3db",
   "metadata": {},
   "outputs": [
    {
     "name": "stdout",
     "output_type": "stream",
     "text": [
      "a1 = 2\n",
      "b1 = 3\n",
      "c1 = 4\n",
      "(4, 2, 3)\n",
      "a1 = 6\n",
      "b1 = 54\n",
      "c1 = 3\n",
      "(3, 6, 54)\n"
     ]
    }
   ],
   "source": [
    "# N14: A -> B, B -> C, C -> A\n",
    "\n",
    "def ShiftRight3(a,b,c):\n",
    "    d = a + b + c\n",
    "    a = d - b - a\n",
    "    b = d - b - a\n",
    "    c = d - b - a\n",
    "    return a, b, c\n",
    "\n",
    "a1 = int(input(\"a1 = \"))\n",
    "b1 = int(input(\"b1 = \"))\n",
    "c1 = int(input(\"c1 = \"))\n",
    "print(ShiftRight3(a1,b1,c1))\n",
    "\n",
    "a1 = int(input(\"a1 = \"))\n",
    "b1 = int(input(\"b1 = \"))\n",
    "c1 = int(input(\"c1 = \"))\n",
    "print(ShiftRight3(a1,b1,c1))"
   ]
  },
  {
   "cell_type": "code",
   "execution_count": 18,
   "id": "47aa3ef9",
   "metadata": {},
   "outputs": [
    {
     "name": "stdout",
     "output_type": "stream",
     "text": [
      "a1 = 2\n",
      "b1 = 3\n",
      "c1 = 4\n",
      "(3, 4, 2)\n",
      "a1 = 5\n",
      "b1 = 6\n",
      "c1 = 7\n",
      "(6, 7, 5)\n"
     ]
    }
   ],
   "source": [
    "# N15: C -> B, B -> A, A -> C\n",
    "\n",
    "def ShiftLeft3(a,b,c):\n",
    "    d = a + b + c\n",
    "    c = d - b - c\n",
    "    b = d - b - c\n",
    "    a = d - b - c\n",
    "    \n",
    "    return a, b, c\n",
    "\n",
    "a1 = int(input(\"a1 = \"))\n",
    "b1 = int(input(\"b1 = \"))\n",
    "c1 = int(input(\"c1 = \"))\n",
    "print(ShiftLeft3(a1,b1,c1))\n",
    "\n",
    "a1 = int(input(\"a1 = \"))\n",
    "b1 = int(input(\"b1 = \"))\n",
    "c1 = int(input(\"c1 = \"))\n",
    "print(ShiftLeft3(a1,b1,c1))"
   ]
  },
  {
   "cell_type": "code",
   "execution_count": 20,
   "id": "dd93e19f",
   "metadata": {},
   "outputs": [
    {
     "name": "stdout",
     "output_type": "stream",
     "text": [
      "a = -1\n",
      "b = 2\n",
      "0\n"
     ]
    }
   ],
   "source": [
    "# N16\n",
    "\n",
    "def ishora(a):\n",
    "    if a < 0:\n",
    "        return -1\n",
    "    elif a > 0:\n",
    "        return 1\n",
    "    else:\n",
    "        return 0\n",
    "    \n",
    "a = float(input(\"a = \"))\n",
    "b = float(input(\"b = \"))\n",
    "print(ishora(a) + ishora(b))"
   ]
  },
  {
   "cell_type": "code",
   "execution_count": 22,
   "id": "b05cbae4",
   "metadata": {},
   "outputs": [
    {
     "name": "stdout",
     "output_type": "stream",
     "text": [
      "a = 2\n",
      "b = 3\n",
      "c = 4\n",
      "0\n"
     ]
    }
   ],
   "source": [
    "# N17\n",
    "\n",
    "def ildizlar(a,b,c):\n",
    "    d = b**2 - 4*a*c\n",
    "    \n",
    "    if d < 0:\n",
    "        return 0\n",
    "    elif d > 0:\n",
    "        return 2\n",
    "    else:\n",
    "        return 1\n",
    "    \n",
    "a = int(input(\"a = \"))\n",
    "b = int(input(\"b = \"))\n",
    "c = int(input(\"c = \"))\n",
    "print(ildizlar(a,b,c))"
   ]
  },
  {
   "cell_type": "code",
   "execution_count": 23,
   "id": "793842be",
   "metadata": {},
   "outputs": [
    {
     "name": "stdout",
     "output_type": "stream",
     "text": [
      "r1 = 2\n",
      "12.566370614359172\n",
      "r2 = 3\n",
      "28.274333882308138\n",
      "r2 = 4\n",
      "50.26548245743669\n"
     ]
    }
   ],
   "source": [
    "# N18\n",
    "\n",
    "import math\n",
    "\n",
    "def doiraYuzi(r):\n",
    "    return math.pi * r**2\n",
    "\n",
    "r1 = int(input(\"r1 = \"))\n",
    "print(doiraYuzi(r1))\n",
    "\n",
    "r2 = int(input(\"r2 = \"))\n",
    "print(doiraYuzi(r2))\n",
    "\n",
    "r2 = int(input(\"r2 = \"))\n",
    "print(doiraYuzi(r2))\n",
    "    "
   ]
  },
  {
   "cell_type": "code",
   "execution_count": 24,
   "id": "97f1a9b3",
   "metadata": {},
   "outputs": [
    {
     "name": "stdout",
     "output_type": "stream",
     "text": [
      "r1 = 4\n",
      "r2 = 3\n",
      "21.991148575128552\n"
     ]
    }
   ],
   "source": [
    "# N19\n",
    "\n",
    "import math \n",
    "\n",
    "def doiraYuziFarqi(r1, r2):\n",
    "    s1 = math.pi * r1**2\n",
    "    s2 = math.pi * r2**2\n",
    "    return abs(s1 - s2)\n",
    "\n",
    "r1 = int(input(\"r1 = \"))\n",
    "r2 = int(input(\"r2 = \"))\n",
    "print(doiraYuziFarqi(r1,r2))"
   ]
  },
  {
   "cell_type": "code",
   "execution_count": 25,
   "id": "b1a945ff",
   "metadata": {},
   "outputs": [
    {
     "name": "stdout",
     "output_type": "stream",
     "text": [
      "a = 3\n",
      "b = 4\n",
      "12.0\n"
     ]
    }
   ],
   "source": [
    "# N20\n",
    "\n",
    "def TriangleP(a,b):\n",
    "    c = (a**2 + b**2) ** 0.5\n",
    "    return c + b + a\n",
    "\n",
    "a = int(input(\"a = \"))\n",
    "b = int(input(\"b = \"))\n",
    "print(TriangleP(a,b))    "
   ]
  },
  {
   "cell_type": "code",
   "execution_count": 26,
   "id": "db01f2d5",
   "metadata": {},
   "outputs": [
    {
     "name": "stdout",
     "output_type": "stream",
     "text": [
      "a = 2\n",
      "b = 4\n",
      "c = 6\n",
      "5\n",
      "9\n"
     ]
    }
   ],
   "source": [
    "# N21\n",
    "\n",
    "def SumRange(a,b):\n",
    "    s = 0\n",
    "    if a > b:\n",
    "        return s\n",
    "    else:\n",
    "        for i in range(a,b):\n",
    "            s += i\n",
    "        return s\n",
    "\n",
    "a = int(input(\"a = \"))\n",
    "b = int(input(\"b = \"))\n",
    "c = int(input(\"c = \"))\n",
    "print(SumRange(a,b))\n",
    "print(SumRange(b,c))"
   ]
  },
  {
   "cell_type": "code",
   "execution_count": 27,
   "id": "1f04540b",
   "metadata": {},
   "outputs": [
    {
     "name": "stdout",
     "output_type": "stream",
     "text": [
      "a = 2\n",
      "b = 5\n",
      "n1 = 1\n",
      "-3\n",
      "n2 = 2\n",
      "10\n",
      "n3 = 3\n",
      "0.4\n",
      "n4 = 4\n",
      "7\n"
     ]
    }
   ],
   "source": [
    "# N22\n",
    "\n",
    "def Calc(a, b, op):\n",
    "    if op == 1: # ayrish\n",
    "        return a - b\n",
    "    elif op == 2: # ko'paytirish\n",
    "        return a * b\n",
    "    elif op == 3: # bo'lish\n",
    "        return a / b\n",
    "    else: # qo'shish\n",
    "        return a + b\n",
    "    \n",
    "a = int(input(\"a = \"))\n",
    "b = int(input(\"b = \"))\n",
    "\n",
    "n1 = int(input(\"n1 = \"))\n",
    "print(Calc(a,b,n1))\n",
    "\n",
    "n2 = int(input(\"n2 = \"))\n",
    "print(Calc(a,b,n2))\n",
    "\n",
    "n3 = int(input(\"n3 = \"))\n",
    "print(Calc(a,b,n3))\n",
    "\n",
    "n4 = int(input(\"n4 = \"))\n",
    "print(Calc(a,b,n4))\n",
    "\n"
   ]
  },
  {
   "cell_type": "code",
   "execution_count": 28,
   "id": "5a730a05",
   "metadata": {},
   "outputs": [
    {
     "name": "stdout",
     "output_type": "stream",
     "text": [
      "x1 = 2\n",
      "y1 = 1\n",
      "1\n",
      "x2 = -2\n",
      "y2 = 4\n",
      "2\n",
      "x3 = -4\n",
      "y3 = -5\n",
      "3\n",
      "x4 = 2\n",
      "y4 = -1\n",
      "4\n"
     ]
    }
   ],
   "source": [
    "# N23\n",
    "\n",
    "def Quarter(x,y):\n",
    "    if x > 0 and y > 0:\n",
    "        return 1\n",
    "    elif x < 0 and y > 0:\n",
    "        return 2\n",
    "    elif x < 0 and y < 0:\n",
    "        return 3\n",
    "    else:\n",
    "        return 4\n",
    "    \n",
    "x1 = int(input(\"x1 = \"))\n",
    "y1 = int(input(\"y1 = \"))\n",
    "print(Quarter(x1, y1))\n",
    "\n",
    "x2 = int(input(\"x2 = \"))\n",
    "y2 = int(input(\"y2 = \"))\n",
    "print(Quarter(x2, y2))\n",
    "\n",
    "x3 = int(input(\"x3 = \"))\n",
    "y3 = int(input(\"y3 = \"))\n",
    "print(Quarter(x3, y3))\n",
    "\n",
    "x4 = int(input(\"x4 = \"))\n",
    "y4 = int(input(\"y4 = \"))\n",
    "print(Quarter(x4, y4))"
   ]
  },
  {
   "cell_type": "code",
   "execution_count": 30,
   "id": "0876c9bf",
   "metadata": {},
   "outputs": [
    {
     "name": "stdout",
     "output_type": "stream",
     "text": [
      "k1 = 3\n",
      "False\n",
      "k2 = 4\n",
      "True\n",
      "k3 = 5\n",
      "False\n"
     ]
    }
   ],
   "source": [
    "# N24\n",
    "\n",
    "def Even(k):\n",
    "    if k % 2 == 0:\n",
    "        return True\n",
    "    else:\n",
    "        return False\n",
    "        \n",
    "k1 = int(input(\"k1 = \"))\n",
    "print(Even(k1))\n",
    "\n",
    "k2 = int(input(\"k2 = \"))\n",
    "print(Even(k2))\n",
    "\n",
    "k3 = int(input(\"k3 = \"))\n",
    "print(Even(k3))"
   ]
  },
  {
   "cell_type": "code",
   "execution_count": 55,
   "id": "f8b85a4b",
   "metadata": {},
   "outputs": [
    {
     "name": "stdout",
     "output_type": "stream",
     "text": [
      "k1 = 16\n",
      "True\n",
      "k2 = 15\n",
      "False\n",
      "k3 = 1000\n",
      "False\n"
     ]
    }
   ],
   "source": [
    "# N25\n",
    "\n",
    "def isSquare(k):\n",
    "    r = k ** 0.5\n",
    "    if int(r+0.5)**2 == k:\n",
    "        return True\n",
    "    else:\n",
    "        return False\n",
    "\n",
    "k1 = int(input(\"k1 = \"))\n",
    "print(isSquare(k1))\n",
    "\n",
    "k2 = int(input(\"k2 = \"))\n",
    "print(isSquare(k2))\n",
    "\n",
    "k3 = int(input(\"k3 = \"))\n",
    "print(isSquare(k3))"
   ]
  },
  {
   "cell_type": "code",
   "execution_count": 1,
   "id": "6bb5ba43",
   "metadata": {},
   "outputs": [
    {
     "name": "stdout",
     "output_type": "stream",
     "text": [
      "a1 = 25\n",
      "True\n",
      "a2 = 33\n",
      "False\n",
      "a3 = 16\n",
      "True\n",
      "a4 = 345\n",
      "False\n",
      "a5 = 4\n",
      "True\n"
     ]
    }
   ],
   "source": [
    "# N26\n",
    "\n",
    "def isPower5(k):\n",
    "    if k**0.5 % 1 ==0:\n",
    "        return True\n",
    "    else:\n",
    "        return False\n",
    "\n",
    "\n",
    "print(isPower5(int(input(\"a1 = \"))))\n",
    "print(isPower5(int(input(\"a2 = \"))))\n",
    "print(isPower5(int(input(\"a3 = \"))))\n",
    "print(isPower5(int(input(\"a4 = \"))))\n",
    "print(isPower5(int(input(\"a5 = \"))))"
   ]
  },
  {
   "cell_type": "code",
   "execution_count": 61,
   "id": "d72c9cc5",
   "metadata": {},
   "outputs": [
    {
     "name": "stdout",
     "output_type": "stream",
     "text": [
      "k1 = 4\n",
      "n1 = 2\n",
      "True\n",
      "k2 = 9\n",
      "n2 = 3\n",
      "True\n",
      "k3 = 44445566764356\n",
      "n3 = 3\n",
      "False\n",
      "k4 = 433443\n",
      "n4 = 1234\n",
      "False\n",
      "k5 = 100\n",
      "n5 = 10\n",
      "True\n"
     ]
    }
   ],
   "source": [
    "# N27: n**i == k\n",
    "\n",
    "def isPower5(k,n):\n",
    "    for i in range(int(k**0.5)+1):\n",
    "        if n**i == k:\n",
    "            return True\n",
    "        elif n**i > k:\n",
    "            break\n",
    "    return False\n",
    "\n",
    "k1 = int(input(\"k1 = \"))\n",
    "n1 = int(input(\"n1 = \"))\n",
    "print(isPower5(k1,n1))\n",
    "\n",
    "k2 = int(input(\"k2 = \"))\n",
    "n2 = int(input(\"n2 = \"))\n",
    "print(isPower5(k2,n2))\n",
    "\n",
    "k3 = int(input(\"k3 = \"))\n",
    "n3 = int(input(\"n3 = \"))\n",
    "print(isPower5(k3,n3))\n",
    "\n",
    "k4 = int(input(\"k4 = \"))\n",
    "n4 = int(input(\"n4 = \"))\n",
    "print(isPower5(k4,n4))\n",
    "\n",
    "k5 = int(input(\"k5 = \"))\n",
    "n5 = int(input(\"n5 = \"))\n",
    "print(isPower5(k5,n5))"
   ]
  },
  {
   "cell_type": "code",
   "execution_count": 64,
   "id": "ff565250",
   "metadata": {},
   "outputs": [
    {
     "name": "stdout",
     "output_type": "stream",
     "text": [
      "k = 5\n",
      "a = 27\n",
      "Tub son emas: 27\n",
      "a = 51\n",
      "Tub son emas: 51\n",
      "a = 7\n",
      "Tub son: 7\n",
      "a = 23\n",
      "Tub son: 23\n",
      "a = 56\n",
      "Tub son emas: 56\n",
      "5 ta sonda 2 ta tub son bor.\n"
     ]
    }
   ],
   "source": [
    "# N28\n",
    "\n",
    "def isPrime(n):\n",
    "    if n < 2:\n",
    "        return False\n",
    "    if n == 2:\n",
    "        return True\n",
    "    if n % 2 == 0:\n",
    "        return False\n",
    "    factor = round(n**0.5)\n",
    "    for i in range(3,factor+1,2):\n",
    "        if n%i == 0:\n",
    "            return False\n",
    "    return True\n",
    "\n",
    "k = int(input(\"k = \"))\n",
    "\n",
    "count = 0\n",
    "for i in range(k):\n",
    "    a = int(input(\"a = \"))\n",
    "    if isPrime(a):\n",
    "        count += 1\n",
    "        print(\"Tub son:\", a)\n",
    "    else:\n",
    "        print(\"Tub son emas:\", a)\n",
    "\n",
    "print(k, \"ta sonda\", count, \"ta tub son bor.\")"
   ]
  },
  {
   "cell_type": "code",
   "execution_count": 65,
   "id": "50cfad24",
   "metadata": {},
   "outputs": [
    {
     "name": "stdout",
     "output_type": "stream",
     "text": [
      "k1 = 345\n",
      "3\n",
      "k2 = 65432\n",
      "5\n",
      "k3 = 123456789\n",
      "9\n",
      "k4 = 2345\n",
      "4\n",
      "k5 = 242422424242\n",
      "12\n"
     ]
    }
   ],
   "source": [
    "# N29\n",
    "\n",
    "def DigitCount(k):\n",
    "    count = 0\n",
    "    while k > 0:\n",
    "        count += 1\n",
    "        k //= 10\n",
    "    return count\n",
    "\n",
    "print(DigitCount(int(input(\"k1 = \"))))\n",
    "print(DigitCount(int(input(\"k2 = \"))))\n",
    "print(DigitCount(int(input(\"k3 = \"))))\n",
    "print(DigitCount(int(input(\"k4 = \"))))\n",
    "print(DigitCount(int(input(\"k5 = \"))))"
   ]
  },
  {
   "cell_type": "code",
   "execution_count": 73,
   "id": "35f26bd0",
   "metadata": {},
   "outputs": [
    {
     "name": "stdout",
     "output_type": "stream",
     "text": [
      "k1 = 234567\n",
      "n1 = 1\n",
      "7\n",
      "k2 = 1234\n",
      "n2 = 2\n",
      "3\n",
      "k3 = 12345\n",
      "n3 = 6\n",
      "-1\n"
     ]
    }
   ],
   "source": [
    "# N30\n",
    "\n",
    "def Digit(k, n):\n",
    "    c = (k // 10 ** (n-1)) % 10\n",
    "    if c > 0:\n",
    "        return c\n",
    "    return -1\n",
    "\n",
    "k1 = int(input(\"k1 = \"))\n",
    "n1 = int(input(\"n1 = \"))\n",
    "print(Digit(k1, n1))\n",
    "\n",
    "k2 = int(input(\"k2 = \"))\n",
    "n2 = int(input(\"n2 = \"))\n",
    "print(Digit(k2, n2))\n",
    "\n",
    "k3 = int(input(\"k3 = \"))\n",
    "n3 = int(input(\"n3 = \"))\n",
    "print(Digit(k3, n3))"
   ]
  },
  {
   "cell_type": "code",
   "execution_count": 57,
   "id": "0db39957",
   "metadata": {},
   "outputs": [
    {
     "name": "stdout",
     "output_type": "stream",
     "text": [
      "a = 110\n",
      "False\n",
      "a = 121\n",
      "True\n",
      "a = 111222111\n",
      "True\n",
      "a = 12121212\n",
      "False\n",
      "a = 123454321\n",
      "True\n"
     ]
    }
   ],
   "source": [
    "# N31\n",
    "\n",
    "# sonning raqamlar yig'indisini topadi\n",
    "def DigitCount(k):\n",
    "    count = 0\n",
    "    while k > 0:\n",
    "        count += 1\n",
    "        k //= 10\n",
    "    return count\n",
    "\n",
    "# k sonini n-o'rinda turgan raqamni topadi\n",
    "def Digit(k, n):\n",
    "    c = (k // 10 ** (n-1)) % 10\n",
    "    if c > 0:\n",
    "        return c\n",
    "    return -1\n",
    "\n",
    "# Palindromeligini tekshiradi\n",
    "def isPalindrome(k):\n",
    "    digitCount = DigitCount(k)\n",
    "    \n",
    "    if digitCount == 2:\n",
    "        if Digit(k,1) == Digit(k,2):\n",
    "            return True\n",
    "    if digitCount == 3:\n",
    "        if Digit(k, 3) == Digit(k, 1):\n",
    "            return True\n",
    "    \n",
    "    if digitCount % 2 == 1:\n",
    "        for i in range(1,DigitCount(k)//2):\n",
    "            if Digit(k, digitCount-i+1) == Digit(k, i):\n",
    "                return True\n",
    "    return False\n",
    "\n",
    "print(isPalindrome(int(input(\"a = \"))))\n",
    "print(isPalindrome(int(input(\"a = \"))))\n",
    "print(isPalindrome(int(input(\"a = \"))))\n",
    "print(isPalindrome(int(input(\"a = \"))))\n",
    "print(isPalindrome(int(input(\"a = \"))))"
   ]
  },
  {
   "cell_type": "code",
   "execution_count": 89,
   "id": "6bfcaeb7",
   "metadata": {},
   "outputs": [
    {
     "name": "stdout",
     "output_type": "stream",
     "text": [
      "d1 = 57.29\n",
      "0.9998991284675514\n",
      "d1 = 180\n",
      "3.141592653589793\n",
      "d1 = 360\n",
      "6.283185307179586\n"
     ]
    }
   ],
   "source": [
    "# N32\n",
    "\n",
    "import math\n",
    "\n",
    "def DegToRad(d):\n",
    "    return d * math.pi/180\n",
    "\n",
    "print(DegToRad(float(input(\"d1 = \"))))\n",
    "print(DegToRad(float(input(\"d1 = \"))))\n",
    "print(DegToRad(float(input(\"d1 = \"))))"
   ]
  },
  {
   "cell_type": "code",
   "execution_count": 90,
   "id": "be7ba1ba",
   "metadata": {},
   "outputs": [
    {
     "name": "stdout",
     "output_type": "stream",
     "text": [
      "r1 = 1\n",
      "57.29577951308232\n",
      "r1 = 3.14\n",
      "179.90874767107852\n",
      "r1 = 23\n",
      "1317.8029288008934\n"
     ]
    }
   ],
   "source": [
    "# N33\n",
    "\n",
    "import math\n",
    "\n",
    "def RadToDeg(r):\n",
    "    return r * 180/math.pi\n",
    "\n",
    "print(RadToDeg(float(input(\"r1 = \"))))\n",
    "print(RadToDeg(float(input(\"r1 = \"))))\n",
    "print(RadToDeg(float(input(\"r1 = \"))))"
   ]
  },
  {
   "cell_type": "code",
   "execution_count": 91,
   "id": "ba9cc8a4",
   "metadata": {},
   "outputs": [
    {
     "name": "stdout",
     "output_type": "stream",
     "text": [
      "n1 = 3\n",
      "6\n",
      "n2 = 5\n",
      "120\n",
      "n3 = 1\n",
      "1\n"
     ]
    }
   ],
   "source": [
    "# N34\n",
    "\n",
    "def Fact(n):\n",
    "    f = 1\n",
    "    for i in range(1,n+1):\n",
    "        f *= i\n",
    "    return f\n",
    "\n",
    "print(Fact(int(input(\"n1 = \"))))\n",
    "print(Fact(int(input(\"n2 = \"))))\n",
    "print(Fact(int(input(\"n3 = \"))))"
   ]
  },
  {
   "cell_type": "code",
   "execution_count": 93,
   "id": "2b51ce8d",
   "metadata": {},
   "outputs": [
    {
     "name": "stdout",
     "output_type": "stream",
     "text": [
      "n1 = 5\n",
      "15\n",
      "n2 = 3\n",
      "3\n",
      "n3 = 7\n",
      "105\n"
     ]
    }
   ],
   "source": [
    "# N35\n",
    "\n",
    "def Fact2(n):\n",
    "    f2 = 1\n",
    "    for i in range(1,n+1,2):\n",
    "        f2 *= i\n",
    "    return f2\n",
    "\n",
    "print(Fact2(int(input(\"n1 = \"))))\n",
    "print(Fact2(int(input(\"n2 = \"))))\n",
    "print(Fact2(int(input(\"n3 = \"))))"
   ]
  },
  {
   "cell_type": "code",
   "execution_count": 101,
   "id": "7fbf2e9b",
   "metadata": {},
   "outputs": [
    {
     "name": "stdout",
     "output_type": "stream",
     "text": [
      "n1 = 15\n",
      "377\n"
     ]
    }
   ],
   "source": [
    "# N36\n",
    "\n",
    "def Fib(n):\n",
    "    i = 2\n",
    "    \n",
    "    if n == 1:\n",
    "        return 0\n",
    "    elif n == 2:\n",
    "        return 1\n",
    "    \n",
    "    f1 = 0\n",
    "    f2 = 1\n",
    "    while i < n:\n",
    "        f3 = f1 + f2\n",
    "        f1 = f2\n",
    "        f2 = f3\n",
    "        \n",
    "        i += 1\n",
    "    return f2\n",
    "\n",
    "print(Fib(int(input(\"n1 = \"))))"
   ]
  },
  {
   "cell_type": "code",
   "execution_count": 102,
   "id": "881e0e86",
   "metadata": {},
   "outputs": [
    {
     "name": "stdout",
     "output_type": "stream",
     "text": [
      "a1 = 2\n",
      "b1 = 3\n",
      "8\n",
      "a2 = 3\n",
      "b2 = 3\n",
      "27\n",
      "a3 = 234\n",
      "b3 = 0\n",
      "1\n"
     ]
    }
   ],
   "source": [
    "# N37\n",
    "\n",
    "def Power1(a,b):\n",
    "    s = 1\n",
    "    for i in range(b):\n",
    "        s *= a\n",
    "    return s\n",
    "\n",
    "a1 = int(input(\"a1 = \"))\n",
    "b1 = int(input(\"b1 = \"))\n",
    "print(Power1(a1, b1))\n",
    "\n",
    "a2 = int(input(\"a2 = \"))\n",
    "b2 = int(input(\"b2 = \"))\n",
    "print(Power1(a2, b2))\n",
    "\n",
    "a3 = int(input(\"a3 = \"))\n",
    "b3 = int(input(\"b3 = \"))\n",
    "print(Power1(a3, b3))"
   ]
  },
  {
   "cell_type": "code",
   "execution_count": 108,
   "id": "52e3861e",
   "metadata": {},
   "outputs": [
    {
     "name": "stdout",
     "output_type": "stream",
     "text": [
      "a1 = -2\n",
      "n1 = 3\n",
      "-8\n",
      "a2 = 34\n",
      "n2 = 0\n",
      "1\n",
      "a3 = 3\n",
      "n3 = -2\n",
      "0.1111111111111111\n"
     ]
    }
   ],
   "source": [
    "# N38\n",
    "\n",
    "def Power2(a,n):\n",
    "    s = 1\n",
    "    if n == 0:\n",
    "        return s\n",
    "    elif n > 0:\n",
    "        for i in range(n):\n",
    "            s *= a\n",
    "    else:\n",
    "        for i in range(abs(n)):\n",
    "            s *= 1/a\n",
    "    return s\n",
    "\n",
    "a1 = int(input(\"a1 = \"))\n",
    "n1 = int(input(\"n1 = \"))\n",
    "print(Power2(a1, n1))\n",
    "\n",
    "a2 = int(input(\"a2 = \"))\n",
    "n2 = int(input(\"n2 = \"))\n",
    "print(Power2(a2, n2))\n",
    "\n",
    "a3 = int(input(\"a3 = \"))\n",
    "n3 = int(input(\"n3 = \"))\n",
    "print(Power2(a3, n3))"
   ]
  },
  {
   "cell_type": "code",
   "execution_count": 58,
   "id": "f29755e0",
   "metadata": {},
   "outputs": [
    {
     "name": "stdout",
     "output_type": "stream",
     "text": [
      "a = 2\n",
      "n = 3\n",
      "8\n",
      "k = 3.5\n",
      "8\n",
      "m = 33\n",
      "8589934592\n"
     ]
    }
   ],
   "source": [
    "# N39\n",
    "\n",
    "def Power1(a,b):\n",
    "    s = 1\n",
    "    for i in range(b):\n",
    "        s *= a\n",
    "    return s\n",
    "\n",
    "def Power2(a,n):\n",
    "    s = 1\n",
    "    if n == 0:\n",
    "        return s\n",
    "    elif n > 0:\n",
    "        for i in range(n):\n",
    "            s *= a\n",
    "    else:\n",
    "        for i in range(abs(n)):\n",
    "            s *= 1/a\n",
    "    return s\n",
    "\n",
    "def Power3(a,n):\n",
    "    if n % 1 != 0:\n",
    "        return Power2(a, int(n))\n",
    "    else:\n",
    "        return Power1(a, int(n))\n",
    "        \n",
    "a = int(input(\"a = \"))\n",
    "n = float(input(\"n = \"))\n",
    "print(Power3(a,n))\n",
    "\n",
    "k = float(input(\"k = \"))\n",
    "print(Power3(a,k))\n",
    "\n",
    "m = float(input(\"m = \"))\n",
    "print(Power3(a,m))\n"
   ]
  },
  {
   "cell_type": "code",
   "execution_count": 7,
   "id": "55d99d4f",
   "metadata": {},
   "outputs": [
    {
     "name": "stdout",
     "output_type": "stream",
     "text": [
      "x = 34\n",
      "e1 = 1\n",
      "583461742527487.4\n",
      "e2 = 45\n",
      "0\n",
      "e3 = 0.9\n",
      "583461742527487.4\n"
     ]
    }
   ],
   "source": [
    "# N40\n",
    "\n",
    "import math\n",
    "\n",
    "def Exp1(x,e):\n",
    "    s = 0\n",
    "    hadi = x\n",
    "    i = 1\n",
    "    while hadi > e:\n",
    "        s += hadi\n",
    "        hadi = x**i / math.factorial(i)\n",
    "        i += 1\n",
    "    return s\n",
    "\n",
    "x = float(input(\"x = \"))\n",
    "e1 = abs(float(input(\"e1 = \")))\n",
    "print(Exp1(x,e1))\n",
    "\n",
    "e2 = abs(float(input(\"e2 = \")))\n",
    "print(Exp1(x,e2))\n",
    "\n",
    "e3 = abs(float(input(\"e3 = \")))\n",
    "print(Exp1(x,e3))"
   ]
  },
  {
   "cell_type": "code",
   "execution_count": 1,
   "id": "cedb5499",
   "metadata": {},
   "outputs": [
    {
     "name": "stdout",
     "output_type": "stream",
     "text": [
      "x = 60\n",
      "e = 0.9\n",
      "-1040182834.6738527\n"
     ]
    }
   ],
   "source": [
    "# N41\n",
    "\n",
    "def sin1(x,e):\n",
    "    S = 0\n",
    "    hadi = x; ishora = 1\n",
    "    f = 1; i = 1\n",
    "    while hadi > e:\n",
    "        S += ishora * hadi\n",
    "        f *= (2*i) * (2*i+1)\n",
    "        hadi = x**(2*i+1) / f\n",
    "        ishora *= -1\n",
    "        i+=1\n",
    "    return S\n",
    "\n",
    "x = int(input(\"x = \"))\n",
    "e = float(input(\"e = \"))\n",
    "print(sin1(x,e))"
   ]
  },
  {
   "cell_type": "code",
   "execution_count": 6,
   "id": "20eb3a27",
   "metadata": {},
   "outputs": [
    {
     "name": "stdout",
     "output_type": "stream",
     "text": [
      "x = 23\n",
      "e = 2\n",
      "20.93478477702392\n"
     ]
    }
   ],
   "source": [
    "# N42-45??????????????????\n",
    "\n",
    "# N42\n",
    "\n",
    "import math\n",
    "\n",
    "def cos1(x,e):\n",
    "    s = 0\n",
    "    hadi = x; ishora = 1\n",
    "    i = 1\n",
    "    while hadi > e:\n",
    "        s += ishora * hadi\n",
    "        hadi = x**(2*i) / math.factorial(2*i)\n",
    "        ishora *= -1\n",
    "        i += 1\n",
    "    return s\n",
    "\n",
    "x = int(input(\"x = \"))\n",
    "e = float(input(\"e = \"))\n",
    "print(cos1(x,e))"
   ]
  },
  {
   "cell_type": "code",
   "execution_count": 16,
   "id": "7e052ad8",
   "metadata": {},
   "outputs": [
    {
     "name": "stdout",
     "output_type": "stream",
     "text": [
      "x = 0.9\n",
      "e = 2\n",
      "0\n"
     ]
    }
   ],
   "source": [
    "# N43\n",
    "\n",
    "def Ln1(x,e):\n",
    "    s = 0\n",
    "    hadi = x; ishora = 1\n",
    "    i = 1\n",
    "    while hadi > e:\n",
    "        s += ishora * hadi\n",
    "        hadi = x**(i+1) / (i+1)\n",
    "        ishora *= -1\n",
    "        i += 1\n",
    "    return s\n",
    "\n",
    "x = float(input(\"x = \"))\n",
    "e = float(input(\"e = \"))\n",
    "print(Ln1(x,e))"
   ]
  },
  {
   "cell_type": "code",
   "execution_count": 18,
   "id": "329735ce",
   "metadata": {},
   "outputs": [
    {
     "name": "stdout",
     "output_type": "stream",
     "text": [
      "x = 0.9\n",
      "e = 21\n",
      "0\n"
     ]
    }
   ],
   "source": [
    "# N44\n",
    "\n",
    "def Arctg1(x,e):\n",
    "    s = 0\n",
    "    hadi = x; ishora = 1\n",
    "    i = 1\n",
    "    while hadi > e:\n",
    "        s += ishora * hadi\n",
    "        hadi = x**(2*i+1) / (2*i+1)\n",
    "        ishora *= -1\n",
    "        i += 1\n",
    "    return s\n",
    "\n",
    "x = float(input(\"x = \"))\n",
    "e = float(input(\"e = \"))\n",
    "print(Arctg1(x,e))"
   ]
  },
  {
   "cell_type": "code",
   "execution_count": 23,
   "id": "3f248eab",
   "metadata": {},
   "outputs": [
    {
     "name": "stdout",
     "output_type": "stream",
     "text": [
      "x = 0.9\n",
      "a = 30\n",
      "e = 2\n",
      "0\n"
     ]
    }
   ],
   "source": [
    "# N45\n",
    "\n",
    "import math\n",
    "\n",
    "def Power4(x,a,e):\n",
    "    s = 0\n",
    "    hadi = x\n",
    "    i = 1\n",
    "    while hadi > e:\n",
    "        s += hadi\n",
    "        hadi = (a-i+1)*x**i / math.factorial(i)\n",
    "        i += 1\n",
    "    return s\n",
    "\n",
    "x = float(input(\"x = \"))\n",
    "a = int(input(\"a = \"))\n",
    "e = float(input(\"e = \"))\n",
    "print(Power4(x,a,e))"
   ]
  },
  {
   "cell_type": "code",
   "execution_count": 24,
   "id": "3dc7f8d3",
   "metadata": {},
   "outputs": [
    {
     "name": "stdout",
     "output_type": "stream",
     "text": [
      "a = 18\n",
      "b = 27\n",
      "9\n"
     ]
    }
   ],
   "source": [
    "# 46 EKUB: version 1\n",
    "\n",
    "def EKUB1(a,b):\n",
    "    ekub = 0\n",
    "    y = max(a,b)\n",
    "    for i in range(1,y):\n",
    "        if a % i == 0 and b % i == 0:\n",
    "            ekub = i\n",
    "    return ekub\n",
    "\n",
    "a = int(input(\"a = \"))\n",
    "b = int(input(\"b = \"))\n",
    "print(EKUB1(a,b))"
   ]
  },
  {
   "cell_type": "code",
   "execution_count": 27,
   "id": "0880fa39",
   "metadata": {},
   "outputs": [
    {
     "name": "stdout",
     "output_type": "stream",
     "text": [
      "a = 18\n",
      "b = 27\n",
      "9\n"
     ]
    }
   ],
   "source": [
    "# 46 EKUB: version 2\n",
    "\n",
    "def EKUB2(a, b):\n",
    "    x = max(a,b)\n",
    "    y = min(a,b)\n",
    "    while y != 0:\n",
    "        x, y = y, x-y\n",
    "    return x\n",
    "\n",
    "a = int(input(\"a = \"))\n",
    "b = int(input(\"b = \"))\n",
    "print(EKUB2(a,b))"
   ]
  },
  {
   "cell_type": "code",
   "execution_count": 68,
   "id": "46bcd972",
   "metadata": {},
   "outputs": [
    {
     "name": "stdout",
     "output_type": "stream",
     "text": [
      "a = 2\n",
      "b = 10\n",
      "2\n"
     ]
    }
   ],
   "source": [
    "# 46 EKUB: version 3\n",
    "\n",
    "def EKUB3(a, b):\n",
    "    while b != 0:\n",
    "        a, b = b, a % b\n",
    "    return a\n",
    "\n",
    "a = int(input(\"a = \"))\n",
    "b = int(input(\"b = \"))\n",
    "print(EKUB3(a,b))"
   ]
  },
  {
   "cell_type": "code",
   "execution_count": 17,
   "id": "ca26481c",
   "metadata": {},
   "outputs": [
    {
     "name": "stdout",
     "output_type": "stream",
     "text": [
      "a = 18\n",
      "b = 27\n",
      "9\n"
     ]
    }
   ],
   "source": [
    "# 46 EKUB: version 4\n",
    "\n",
    "def EKUB4(a,b):\n",
    "    while a!=b:\n",
    "        if a>b:\n",
    "            a%=b\n",
    "        else:\n",
    "            b%=a\n",
    "        if a==0:\n",
    "            a=b\n",
    "        if b==0:\n",
    "            b=a\n",
    "    return a\n",
    "\n",
    "a = int(input(\"a = \"))\n",
    "b = int(input(\"b = \"))\n",
    "print(EKUB4(a,b))"
   ]
  },
  {
   "cell_type": "code",
   "execution_count": 71,
   "id": "456de8f7",
   "metadata": {},
   "outputs": [
    {
     "name": "stdout",
     "output_type": "stream",
     "text": [
      "a = 18\n",
      "b = 27\n",
      "2/3\n"
     ]
    }
   ],
   "source": [
    "# 47\n",
    "\n",
    "def EKUB3(a, b):\n",
    "    while b != 0:\n",
    "        a, b = b, a % b\n",
    "    return a\n",
    "\n",
    "def Frac1(a,b):\n",
    "    x = EKUB3(a,b)\n",
    "    return f'{int(a/x)}/{int(b/x)}'\n",
    "\n",
    "a = int(input(\"a = \"))\n",
    "b = int(input(\"b = \"))\n",
    "print(Frac1(a,b))"
   ]
  },
  {
   "cell_type": "code",
   "execution_count": 32,
   "id": "e8475cbe",
   "metadata": {},
   "outputs": [
    {
     "name": "stdout",
     "output_type": "stream",
     "text": [
      "a = 18\n",
      "b = 27\n",
      "54.0\n"
     ]
    }
   ],
   "source": [
    "# 48\n",
    "\n",
    "def EKUB3(a, b):\n",
    "    while b != 0:\n",
    "        a, b = b, a % b\n",
    "    return a\n",
    "\n",
    "def EKUK(a,b):\n",
    "    return a*b / EKUB3(a,b)\n",
    "\n",
    "a = int(input(\"a = \"))\n",
    "b = int(input(\"b = \"))\n",
    "print(EKUK(a,b))"
   ]
  },
  {
   "cell_type": "code",
   "execution_count": 18,
   "id": "8f778c2d",
   "metadata": {},
   "outputs": [
    {
     "name": "stdout",
     "output_type": "stream",
     "text": [
      "n = 5\n",
      "a = 2\n",
      "a = 4\n",
      "a = 6\n",
      "a = 2\n",
      "a = 4\n",
      "a = 12\n",
      "12.0\n"
     ]
    }
   ],
   "source": [
    "# Bonus: n ta sonning ekuk ini topish\n",
    "\n",
    "def EKUB4(a,b):\n",
    "    while a!=b:\n",
    "        if a>b:\n",
    "            a%=b\n",
    "        else:\n",
    "            b%=a\n",
    "        if a==0:\n",
    "            a=b\n",
    "        if b==0:\n",
    "            b=a\n",
    "    return a\n",
    "\n",
    "def EKUK(a,b):\n",
    "    return a*b / EKUB4(a,b)\n",
    "\n",
    "n = int(input(\"n = \"))\n",
    "ekuk = int(input(\"a = \"))\n",
    "\n",
    "for i in range(n):\n",
    "    a = int(input(\"a = \"))\n",
    "    ekuk = EKUK(ekuk,a)\n",
    "    \n",
    "print(ekuk)"
   ]
  },
  {
   "cell_type": "code",
   "execution_count": 37,
   "id": "b832565e",
   "metadata": {},
   "outputs": [
    {
     "name": "stdout",
     "output_type": "stream",
     "text": [
      "t = 400\n",
      "0:6:40\n"
     ]
    }
   ],
   "source": [
    "# 50 \n",
    "\n",
    "def TimeToHMS(t):\n",
    "    h = t // 3600\n",
    "    t %= 3600\n",
    "    \n",
    "    m = t // 60\n",
    "    t %= 60\n",
    "    \n",
    "    return f'{h}:{m}:{t}'\n",
    "\n",
    "t = int(input(\"t = \"))\n",
    "print(TimeToHMS(t))"
   ]
  },
  {
   "cell_type": "code",
   "execution_count": 38,
   "id": "5d0c618e",
   "metadata": {},
   "outputs": [
    {
     "name": "stdout",
     "output_type": "stream",
     "text": [
      "h = 0\n",
      "m = 6\n",
      "s = 40\n",
      "400\n"
     ]
    }
   ],
   "source": [
    "# N51\n",
    "\n",
    "def IncTime(h,m,s):\n",
    "    return h*3600 + m*60 + s\n",
    "\n",
    "h = int(input(\"h = \"))\n",
    "m = int(input(\"m = \"))\n",
    "s = int(input(\"s = \"))\n",
    "print(IncTime(h,m,s))"
   ]
  },
  {
   "cell_type": "code",
   "execution_count": 44,
   "id": "f61eef64",
   "metadata": {},
   "outputs": [
    {
     "name": "stdout",
     "output_type": "stream",
     "text": [
      "y1 = 2000\n",
      "True\n",
      "y2 = 1900\n",
      "False\n",
      "y3 = 2024\n",
      "True\n"
     ]
    }
   ],
   "source": [
    "# N52\n",
    "\n",
    "def isLeapYear(y):\n",
    "    if y % 4 != 0:\n",
    "        return False\n",
    "    elif y % 100 == 0 and y % 400 != 0:\n",
    "        return False\n",
    "    return True\n",
    "\n",
    "y1 = int(input(\"y1 = \"))\n",
    "print(isLeapYear(y1))\n",
    "\n",
    "y2 = int(input(\"y2 = \"))\n",
    "print(isLeapYear(y2))\n",
    "\n",
    "y3 = int(input(\"y3 = \"))\n",
    "print(isLeapYear(y3))"
   ]
  },
  {
   "cell_type": "code",
   "execution_count": 49,
   "id": "654ba9b7",
   "metadata": {},
   "outputs": [
    {
     "name": "stdout",
     "output_type": "stream",
     "text": [
      "y = 2022\n",
      "m = 9\n",
      "30\n"
     ]
    }
   ],
   "source": [
    "# N53\n",
    "\n",
    "def MonthDays(y,m):\n",
    "    if m <= 7 and m % 2 == 1 or m >= 8 and m % 2 == 0:\n",
    "        return 31\n",
    "    elif m == 2:\n",
    "        if isLeapYear(y):\n",
    "            return 29\n",
    "        else:\n",
    "            return 28\n",
    "    return 30\n",
    "\n",
    "y = int(input(\"y = \"))\n",
    "m = int(input(\"m = \"))\n",
    "print(MonthDays(y,m))"
   ]
  },
  {
   "cell_type": "code",
   "execution_count": 50,
   "id": "e48f878d",
   "metadata": {},
   "outputs": [],
   "source": [
    "# N54 ??????????????????????\n",
    "\n",
    "def PrevData(d,m,y):\n",
    "    pass"
   ]
  },
  {
   "cell_type": "code",
   "execution_count": 4,
   "id": "68a5c3ad",
   "metadata": {},
   "outputs": [
    {
     "name": "stdout",
     "output_type": "stream",
     "text": [
      "d = 28\n",
      "m = 2\n",
      "y = 2001\n",
      "(1, 3, 2001)\n"
     ]
    }
   ],
   "source": [
    "# N55\n",
    "\n",
    "def isLeapYear(y):\n",
    "    if y % 4 != 0:\n",
    "        return False\n",
    "    elif y % 100 == 0 and y % 400 != 0:\n",
    "        return False\n",
    "    return True\n",
    "\n",
    "def MonthDays(y,m):\n",
    "    if m <= 7 and m % 2 == 1 or m >= 8 and m % 2 == 0:\n",
    "        return 31\n",
    "    elif m == 2:\n",
    "        return 28 + isLeapYear(y)\n",
    "    return 30\n",
    "\n",
    "def NextDate(d,m,y):\n",
    "    d += 1\n",
    "    if d > MonthDays(y,m):\n",
    "        d = 1\n",
    "        m = m + 1\n",
    "    if m == 13:\n",
    "        m = 1\n",
    "        y = y + 1\n",
    "    return d,m,y\n",
    "\n",
    "\n",
    "d = int(input(\"d = \"))\n",
    "m = int(input(\"m = \"))\n",
    "y = int(input(\"y = \"))\n",
    "print(NextDate(d,m,y))"
   ]
  },
  {
   "cell_type": "code",
   "execution_count": 21,
   "id": "deff4d3c",
   "metadata": {},
   "outputs": [
    {
     "name": "stdout",
     "output_type": "stream",
     "text": [
      "n = 125\n",
      "d = 25\n",
      "m = 9\n",
      "y = 2020\n",
      "(28, 1, 2021)\n"
     ]
    }
   ],
   "source": [
    "# Bonus: berilgan sanadan n kun keyingi sinnni toping\n",
    "\n",
    "def isLeapYear(y):\n",
    "    if y % 4 != 0:\n",
    "        return False\n",
    "    elif y % 100 == 0 and y % 400 != 0:\n",
    "        return False\n",
    "    return True\n",
    "\n",
    "def MonthDays(y,m):\n",
    "    if m <= 7 and m % 2 == 1 or m >= 8 and m % 2 == 0:\n",
    "        return 31\n",
    "    elif m == 2:\n",
    "        return 28 + isLeapYear(y)\n",
    "    return 30\n",
    "\n",
    "def nDayNext(d,m,y,n):\n",
    "    d += n\n",
    "    while d > MonthDays(y,m):\n",
    "        d -= MonthDays(y,m)\n",
    "        m = m + 1\n",
    "        if m == 13:\n",
    "            m = 1\n",
    "            y = y + 1\n",
    "    return d,m,y\n",
    "\n",
    "n = int(input(\"n = \"))\n",
    "d = int(input(\"d = \"))\n",
    "m = int(input(\"m = \"))\n",
    "y = int(input(\"y = \"))\n",
    "print(nDayNext(d,m,y,n))"
   ]
  },
  {
   "cell_type": "code",
   "execution_count": 24,
   "id": "7bed1118",
   "metadata": {},
   "outputs": [
    {
     "name": "stdout",
     "output_type": "stream",
     "text": [
      "x1 = 1\n",
      "y1 = 4\n",
      "x2 = 5\n",
      "y2 = 7\n",
      "5.0\n"
     ]
    }
   ],
   "source": [
    "# N56\n",
    "\n",
    "def Len(x1,y1,x2,y2):\n",
    "    return ((x1-x2)**2 + (y1-y2)**2 )**0.5\n",
    "\n",
    "x1 = int(input(\"x1 = \"))\n",
    "y1 = int(input(\"y1 = \"))\n",
    "x2 = int(input(\"x2 = \"))\n",
    "y2 = int(input(\"y2 = \"))\n",
    "print(Len(x1,y1,x2,y2))"
   ]
  },
  {
   "cell_type": "code",
   "execution_count": 25,
   "id": "eee2422b",
   "metadata": {},
   "outputs": [
    {
     "name": "stdout",
     "output_type": "stream",
     "text": [
      "x1 = 1\n",
      "y1 = 2\n",
      "x2 = 3\n",
      "y2 = 4\n",
      "x3 = 5\n",
      "y3 = 6\n",
      "11.313708498984761\n"
     ]
    }
   ],
   "source": [
    "# N57\n",
    "\n",
    "def Len(x1,y1,x2,y2):\n",
    "    return ((x1-x2)**2 + (y1-y2)**2 )**0.5\n",
    "\n",
    "def Perim(x1,y1,x2,y2,x3,y3):\n",
    "    a = Len(x1,y1,x2,y2)\n",
    "    b = Len(x1,y1,x3,y3)\n",
    "    c = Len(x2,y2,x3,y3)\n",
    "    return a+b+c\n",
    "\n",
    "x1 = int(input(\"x1 = \"))\n",
    "y1 = int(input(\"y1 = \"))\n",
    "x2 = int(input(\"x2 = \"))\n",
    "y2 = int(input(\"y2 = \"))\n",
    "x3 = int(input(\"x3 = \"))\n",
    "y3 = int(input(\"y3 = \"))\n",
    "print(Perim(x1,y1,x2,y2,x3,y3))"
   ]
  },
  {
   "cell_type": "code",
   "execution_count": 28,
   "id": "677c42ae",
   "metadata": {},
   "outputs": [
    {
     "name": "stdout",
     "output_type": "stream",
     "text": [
      "x1 = 2\n",
      "y1 = 7\n",
      "x2 = 1\n",
      "y2 = 5\n",
      "x3 = 9\n",
      "y3 = 8\n",
      "6.499999999999994\n"
     ]
    }
   ],
   "source": [
    "# N58\n",
    "\n",
    "from math import sqrt\n",
    "\n",
    "def Len(x1,y1,x2,y2):\n",
    "    return ((x1-x2)**2 + (y1-y2)**2 )**0.5\n",
    "\n",
    "def Perim(x1,y1,x2,y2,x3,y3):\n",
    "    a = Len(x1,y1,x2,y2)\n",
    "    b = Len(x1,y1,x3,y3)\n",
    "    c = Len(x2,y2,x3,y3)\n",
    "    return a+b+c\n",
    "\n",
    "def Area(x1,y1,x2,y2,x3,y3):\n",
    "    p = Perim(x1,y1,x2,y2,x3,y3) / 2\n",
    "    a = Len(x1,y1,x2,y2)\n",
    "    b = Len(x1,y1,x3,y3)\n",
    "    c = Len(x2,y2,x3,y3)\n",
    "    \n",
    "    s = sqrt(p*(p-a)*(p-b)*(p-c))\n",
    "    \n",
    "    return s\n",
    "\n",
    "x1 = int(input(\"x1 = \"))\n",
    "y1 = int(input(\"y1 = \"))\n",
    "x2 = int(input(\"x2 = \"))\n",
    "y2 = int(input(\"y2 = \"))\n",
    "x3 = int(input(\"x3 = \"))\n",
    "y3 = int(input(\"y3 = \"))\n",
    "print(Area(x1,y1,x2,y2,x3,y3))"
   ]
  },
  {
   "cell_type": "code",
   "execution_count": 27,
   "id": "3eb2a644",
   "metadata": {},
   "outputs": [
    {
     "name": "stdout",
     "output_type": "stream",
     "text": [
      "x1 = 2\n",
      "y1 = 5\n",
      "x2 = 9\n",
      "y2 = 7\n",
      "x3 = 3\n",
      "y3 = 5\n",
      "0.27472112789737985\n"
     ]
    }
   ],
   "source": [
    "# N59\n",
    "\n",
    "from math import sqrt\n",
    "\n",
    "def Len(x1,y1,x2,y2):\n",
    "    return ((x1-x2)**2 + (y1-y2)**2 )**0.5\n",
    "\n",
    "def Perim(x1,y1,x2,y2,x3,y3):\n",
    "    a = Len(x1,y1,x2,y2)\n",
    "    b = Len(x1,y1,x3,y3)\n",
    "    c = Len(x2,y2,x3,y3)\n",
    "    return a+b+c\n",
    "\n",
    "def Area(x1,y1,x2,y2,x3,y3):\n",
    "    p = Perim(x1,y1,x2,y2,x3,y3) / 2\n",
    "    a = Len(x1,y1,x2,y2)\n",
    "    b = Len(x1,y1,x3,y3)\n",
    "    c = Len(x2,y2,x3,y3)\n",
    "    \n",
    "    s = sqrt(p*(p-a)*(p-b)*(p-c))\n",
    "    \n",
    "    return s\n",
    "\n",
    "def Dist(x1,y1,x2,y2,x3,y3):\n",
    "    a = Len(x1,y1,x2,y2)\n",
    "    s = Area(x1,y1,x2,y2,x3,y3)\n",
    "    \n",
    "    return 2*s/a\n",
    "    \n",
    "x1 = int(input(\"x1 = \"))\n",
    "y1 = int(input(\"y1 = \"))\n",
    "x2 = int(input(\"x2 = \"))\n",
    "y2 = int(input(\"y2 = \"))\n",
    "x3 = int(input(\"x3 = \"))\n",
    "y3 = int(input(\"y3 = \"))\n",
    "print(Dist(x1,y1,x2,y2,x3,y3))"
   ]
  },
  {
   "cell_type": "code",
   "execution_count": 30,
   "id": "afc89470",
   "metadata": {},
   "outputs": [
    {
     "name": "stdout",
     "output_type": "stream",
     "text": [
      "x1 = 1\n",
      "y1 = 1\n",
      "x2 = 4\n",
      "y2 = 1\n",
      "x3 = 1\n",
      "y3 = 5\n",
      "(4.0, 3.0, 2.4)\n"
     ]
    }
   ],
   "source": [
    "# N60\n",
    "\n",
    "from math import sqrt\n",
    "\n",
    "def Len(x1,y1,x2,y2):\n",
    "    return ((x1-x2)**2 + (y1-y2)**2 )**0.5\n",
    "\n",
    "def Perim(x1,y1,x2,y2,x3,y3):\n",
    "    a = Len(x1,y1,x2,y2)\n",
    "    b = Len(x1,y1,x3,y3)\n",
    "    c = Len(x2,y2,x3,y3)\n",
    "    return a+b+c\n",
    "\n",
    "def Area(x1,y1,x2,y2,x3,y3):\n",
    "    p = Perim(x1,y1,x2,y2,x3,y3) / 2\n",
    "    a = Len(x1,y1,x2,y2)\n",
    "    b = Len(x1,y1,x3,y3)\n",
    "    c = Len(x2,y2,x3,y3)\n",
    "    \n",
    "    s = sqrt(p*(p-a)*(p-b)*(p-c))\n",
    "    \n",
    "    return s\n",
    "\n",
    "def Dist(x1,y1,x2,y2,x3,y3):\n",
    "    a = Len(x1,y1,x2,y2)\n",
    "    s = Area(x1,y1,x2,y2,x3,y3)\n",
    "    \n",
    "    return 2*s/a\n",
    "\n",
    "def Height(x1,y1,x2,y2,x3,y3):\n",
    "    a_h = Dist(x1,y1,x2,y2,x3,y3)\n",
    "    b_h = Dist(x1,y1,x3,y3,x2,y2)\n",
    "    c_h = Dist(x2,y2,x3,y3,x1,y1)\n",
    "    \n",
    "    return a_h, b_h, c_h\n",
    "\n",
    "x1 = int(input(\"x1 = \"))\n",
    "y1 = int(input(\"y1 = \"))\n",
    "x2 = int(input(\"x2 = \"))\n",
    "y2 = int(input(\"y2 = \"))\n",
    "x3 = int(input(\"x3 = \"))\n",
    "y3 = int(input(\"y3 = \"))\n",
    "print(Height(x1,y1,x2,y2,x3,y3))"
   ]
  }
 ],
 "metadata": {
  "kernelspec": {
   "display_name": "Python 3 (ipykernel)",
   "language": "python",
   "name": "python3"
  },
  "language_info": {
   "codemirror_mode": {
    "name": "ipython",
    "version": 3
   },
   "file_extension": ".py",
   "mimetype": "text/x-python",
   "name": "python",
   "nbconvert_exporter": "python",
   "pygments_lexer": "ipython3",
   "version": "3.9.7"
  }
 },
 "nbformat": 4,
 "nbformat_minor": 5
}
