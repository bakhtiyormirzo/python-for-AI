{
 "cells": [
  {
   "cell_type": "code",
   "execution_count": 3,
   "id": "3c2d99a1",
   "metadata": {},
   "outputs": [
    {
     "name": "stdout",
     "output_type": "stream",
     "text": [
      "n = 5\n",
      "0.0\n"
     ]
    }
   ],
   "source": [
    "# N1\n",
    "\n",
    "n = int(input(\"n = \"))\n",
    "\n",
    "n_copy = n\n",
    "s1 = 0\n",
    "s2 = 0\n",
    "i = 0\n",
    "while n_copy > 0:\n",
    "    s1 += 1/-(n-i)\n",
    "    s2 += 1/(n-i)\n",
    "    i += 1\n",
    "    n_copy -= 1\n",
    "\n",
    "s = s1 + s2\n",
    "print(s)"
   ]
  },
  {
   "cell_type": "code",
   "execution_count": 13,
   "id": "cf92a429",
   "metadata": {},
   "outputs": [
    {
     "name": "stdout",
     "output_type": "stream",
     "text": [
      "a = 50\n",
      "b = 7\n",
      "Butun: 7 | Qoldiq: 1\n"
     ]
    }
   ],
   "source": [
    "# N2\n",
    "\n",
    "a = int(input(\"a = \"))\n",
    "b = int(input(\"b = \"))\n",
    "\n",
    "a_copy = a\n",
    "butun = 0\n",
    "\n",
    "while a >= b:\n",
    "    a -= b\n",
    "    butun += 1\n",
    "    \n",
    "qoldiq = a_copy - butun * b\n",
    "print(\"Butun:\", butun, \"| Qoldiq:\", qoldiq)"
   ]
  },
  {
   "cell_type": "code",
   "execution_count": 15,
   "id": "020d0199",
   "metadata": {},
   "outputs": [
    {
     "name": "stdout",
     "output_type": "stream",
     "text": [
      "n = 5\n",
      "a = 2\n",
      "a = 4\n",
      "a = 6\n",
      "a = 4\n",
      "a = 2\n",
      "12.0\n"
     ]
    }
   ],
   "source": [
    "# N3\n",
    "\n",
    "def EKUB(a,b):\n",
    "    while a!=b:\n",
    "        if a>b:\n",
    "            a%=b\n",
    "        else:\n",
    "            b%=a\n",
    "        if a==0:\n",
    "            a=b\n",
    "        if b==0:\n",
    "            b=a\n",
    "    return a\n",
    "\n",
    "def EKUK(a,b):\n",
    "    return a*b / EKUB(a,b)\n",
    "\n",
    "n = int(input(\"n = \"))\n",
    "ekuk = int(input(\"a = \"))\n",
    "\n",
    "for i in range(n-1):\n",
    "    a = int(input(\"a = \"))\n",
    "    ekuk = EKUK(ekuk,a)\n",
    "    \n",
    "print(ekuk)"
   ]
  },
  {
   "cell_type": "code",
   "execution_count": 18,
   "id": "2220a739",
   "metadata": {},
   "outputs": [
    {
     "name": "stdout",
     "output_type": "stream",
     "text": [
      "n = 9\n",
      "a = 2\n",
      "a = 3\n",
      "a = 4\n",
      "a = 6\n",
      "a = 12\n",
      "a = 2\n",
      "a = 3\n",
      "a = 4\n",
      "a = 5\n",
      "Birinchi katta: 5 | Oxirgi katta: 5\n"
     ]
    }
   ],
   "source": [
    "# N4: n ta son berilgan. Birinchi va oxirgi uchragan eng katta raqam indexi\n",
    "\n",
    "n = int(input(\"n = \"))\n",
    "\n",
    "first = True\n",
    "i = 1\n",
    "\n",
    "while i < n + 1:\n",
    "    a = int(input(\"a = \"))\n",
    "    \n",
    "    # birinchi qiymatni o'zlashtir\n",
    "    if first:\n",
    "        max_bir = a\n",
    "        max_oxir = a\n",
    "        mb = i\n",
    "        mo = i\n",
    "        first = False\n",
    "        \n",
    "    # birinchi uchragan eng katta raqam o'rni\n",
    "    if max_bir < a:\n",
    "        max_bir = a\n",
    "        mb = i\n",
    "        \n",
    "    # oxirgi uchragan eng katta raqam o'rni\n",
    "    if max_oxir <= a:\n",
    "        max_oxir = a\n",
    "        mo = i\n",
    "    \n",
    "    i += 1\n",
    "    \n",
    "print(\"Birinchi katta:\", mb, \"| Oxirgi katta:\", mo)"
   ]
  },
  {
   "cell_type": "code",
   "execution_count": 22,
   "id": "4883a4f5",
   "metadata": {},
   "outputs": [
    {
     "name": "stdout",
     "output_type": "stream",
     "text": [
      "n = 9\n",
      "a = 8\n",
      "a = 9\n",
      "a = 7\n",
      "a = 6\n",
      "a = 5\n",
      "a = 4\n",
      "a = 3\n",
      "a = 2\n",
      "a = 1\n",
      "9 8 7\n"
     ]
    }
   ],
   "source": [
    "# N5: n ta sonlar orasidan eng katta uchta qiymatni aniqlang.\n",
    "\n",
    "n = int(input(\"n = \"))\n",
    "\n",
    "maxi1 = int(input(\"a = \"))\n",
    "maxi2 = int(input(\"a = \"))\n",
    "maxi3 = int(input(\"a = \"))\n",
    "\n",
    "if maxi1 <= maxi2:\n",
    "    maxi1,maxi2 = maxi2,maxi1\n",
    "if maxi1 <= maxi3:\n",
    "    maxi1,maxi3 = maxi3,maxi1\n",
    "if maxi2 <= maxi3:\n",
    "    maxi2,maxi3 = maxi3,maxi2\n",
    "    \n",
    "for _ in range(4, n+1):\n",
    "    a = int(input(\"a = \"))\n",
    "    \n",
    "    if a > maxi1:\n",
    "        maxi3 = maxi2\n",
    "        maxi2 = maxi1\n",
    "        maxi1 = a\n",
    "    elif a > maxi2:\n",
    "        maxi3 = maxi2\n",
    "        maxi2 = a\n",
    "    elif a > maxi3:\n",
    "        maxi3 = a\n",
    "        \n",
    "print(maxi1,maxi2,maxi3)"
   ]
  }
 ],
 "metadata": {
  "kernelspec": {
   "display_name": "Python 3 (ipykernel)",
   "language": "python",
   "name": "python3"
  },
  "language_info": {
   "codemirror_mode": {
    "name": "ipython",
    "version": 3
   },
   "file_extension": ".py",
   "mimetype": "text/x-python",
   "name": "python",
   "nbconvert_exporter": "python",
   "pygments_lexer": "ipython3",
   "version": "3.9.7"
  }
 },
 "nbformat": 4,
 "nbformat_minor": 5
}
