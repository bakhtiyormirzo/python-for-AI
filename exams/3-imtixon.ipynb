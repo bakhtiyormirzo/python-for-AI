{
 "cells": [
  {
   "cell_type": "markdown",
   "id": "fe7d8787",
   "metadata": {},
   "source": [
    "# Imtixon savollariga javoblar"
   ]
  },
  {
   "cell_type": "markdown",
   "id": "f47baa1e",
   "metadata": {},
   "source": [
    "**`1-savol`**"
   ]
  },
  {
   "cell_type": "code",
   "execution_count": 3,
   "id": "4e80fac4",
   "metadata": {},
   "outputs": [
    {
     "name": "stdout",
     "output_type": "stream",
     "text": [
      "n = 19\n",
      "[4, 8, 8, 4, 6, 2, 4, 7, 3, 2, 4, 5, 6, 9, 5, 4, 2, 3, 5]\n",
      "[8, 7, 6, 9, 4, 2, 3, 5]\n"
     ]
    }
   ],
   "source": [
    "from random import randint\n",
    "\n",
    "n = int(input(\"n = \"))\n",
    "a = [randint(1,10) for i in range(n)]\n",
    "print(a)\n",
    "\n",
    "i = len(a)-1\n",
    "j = 0\n",
    "while i >= 0:\n",
    "    j = i-1\n",
    "    while j >= 0:\n",
    "        if a[i] == a[j]:\n",
    "            del a[j]\n",
    "            break\n",
    "        j -= 1\n",
    "    i -= 1\n",
    "print(a)"
   ]
  },
  {
   "cell_type": "markdown",
   "id": "4db6a205",
   "metadata": {},
   "source": [
    "**`2-savol`**"
   ]
  },
  {
   "cell_type": "code",
   "execution_count": 36,
   "id": "b7d166b2",
   "metadata": {},
   "outputs": [
    {
     "name": "stdout",
     "output_type": "stream",
     "text": [
      "n = 12\n",
      "[1, 9, 8, 3, 3, 10, 5, 3, 8, 10, 4, 6]\n",
      "[1, 9, 8, 3, 3, 10, 8, 3, 5, 10, 4, 6]\n"
     ]
    }
   ],
   "source": [
    "from random import randint\n",
    "\n",
    "n = int(input(\"n = \"))\n",
    "a = [randint(1,10) for i in range(n)]\n",
    "print(a)\n",
    "\n",
    "# a = [4, 9, 1, 5, 7, 5, 1, 2, 9]\n",
    "\n",
    "maxi = max(a)\n",
    "maxi_count = a.count(maxi)\n",
    "\n",
    "first_index = a.index(maxi)\n",
    "last_index = a[::-1].index(maxi)\n",
    "last_index = len(a) - 1 - last_index\n",
    "\n",
    "if maxi_count >= 2:\n",
    "    \n",
    "    length = len(a[first_index : last_index]) // 2\n",
    "    i = first_index + 1\n",
    "    j = last_index - 1\n",
    "    \n",
    "    while length > 0:\n",
    "        a[i], a[j] = a[j], a[i]\n",
    "        i += 1\n",
    "        j -= 1\n",
    "        length -= 1\n",
    "        \n",
    "print(a)"
   ]
  },
  {
   "cell_type": "markdown",
   "id": "9421d2bc",
   "metadata": {},
   "source": [
    "**`3-savol`**"
   ]
  },
  {
   "cell_type": "code",
   "execution_count": 77,
   "id": "d01c74f8",
   "metadata": {},
   "outputs": [
    {
     "name": "stdout",
     "output_type": "stream",
     "text": [
      "m=5\n",
      "n=5\n",
      "6 9 3 9 6\n",
      "1 1 8 6 8\n",
      "8 1 2 9 5\n",
      "1 4 2 4 4\n",
      "7 7 1 1 7\n",
      "\n",
      "1 1 1 1 4\n",
      "1 1 2 4 5\n",
      "6 4 2 6 6\n",
      "7 7 3 9 7\n",
      "8 9 8 9 8\n"
     ]
    }
   ],
   "source": [
    "from random import randint\n",
    "\n",
    "m = int(input('m='))\n",
    "n = int(input('n='))\n",
    "matrix = [[randint(1,9) for _ in range(n)] for _ in range(m)]\n",
    "\n",
    "for i in matrix:\n",
    "    print(*i)\n",
    "print()\n",
    "\n",
    "\n",
    "# matrix ustunini satrga aylantishish\n",
    "temp_matrix = []\n",
    "for i in range(n):\n",
    "    s = []\n",
    "    for j in range(m):\n",
    "        s.append(matrix[j][i])\n",
    "    temp_matrix.append(s)\n",
    "    \n",
    "# saralash   \n",
    "for j in range(n):\n",
    "    for i in range(m):\n",
    "        mini = temp_matrix[j][i]\n",
    "        index = i\n",
    "        for k in range(i+1,m):\n",
    "            if mini > temp_matrix[j][k]:\n",
    "                mini = temp_matrix[j][k]\n",
    "                index = k\n",
    "        temp_matrix[j][i], temp_matrix[j][index] = temp_matrix[j][index], temp_matrix[j][i]    \n",
    "    \n",
    "    \n",
    "    \n",
    "# satrni ustunga qaytarish\n",
    "matrix = []\n",
    "for i in range(m):\n",
    "    s = []\n",
    "    for j in range(n):\n",
    "        s.append(temp_matrix[j][i])\n",
    "    matrix.append(s)\n",
    "    \n",
    "for i in matrix:\n",
    "    print(*i)  "
   ]
  },
  {
   "cell_type": "markdown",
   "id": "632ff195",
   "metadata": {},
   "source": [
    "**`4-savol`**"
   ]
  },
  {
   "cell_type": "code",
   "execution_count": 79,
   "id": "8827e8f8",
   "metadata": {},
   "outputs": [
    {
     "name": "stdout",
     "output_type": "stream",
     "text": [
      "m=5\n",
      "n=6\n",
      "2 9 3 3 5 7\n",
      "5 8 5 8 3 4\n",
      "3 1 1 8 4 6\n",
      "4 2 9 9 4 6\n",
      "3 6 4 9 5 8\n",
      "\n",
      "yig'indi:  43\n"
     ]
    }
   ],
   "source": [
    "from random import randint\n",
    "\n",
    "m = int(input('m='))\n",
    "n = int(input('n='))\n",
    "matrix = [[randint(1,9) for _ in range(n)] for _ in range(m)]\n",
    "\n",
    "for i in matrix:\n",
    "    print(*i)\n",
    "print()\n",
    "\n",
    "s = 0\n",
    "for j in range(m):\n",
    "    s += max(matrix[j])\n",
    "print(\"yig'indi: \",s)"
   ]
  },
  {
   "cell_type": "markdown",
   "id": "1c548a95",
   "metadata": {},
   "source": [
    "**`5-savol`**"
   ]
  },
  {
   "cell_type": "code",
   "execution_count": 54,
   "id": "15e69725",
   "metadata": {},
   "outputs": [
    {
     "name": "stdout",
     "output_type": "stream",
     "text": [
      "n = 6\n",
      "0 -1 -2 -3 -4 -5\n",
      "1 0 -1 -2 -3 -4\n",
      "2 1 0 -1 -2 -3\n",
      "3 2 1 0 -1 -2\n",
      "4 3 2 1 0 -1\n",
      "5 4 3 2 1 0\n",
      "\n"
     ]
    }
   ],
   "source": [
    "n = int(input(\"n = \"))\n",
    "\n",
    "matrix = []\n",
    "\n",
    "for i in range(n):\n",
    "    massiv = []\n",
    "    for j in range(n):\n",
    "        massiv.append(i-j)\n",
    "    matrix.append(massiv)\n",
    "    \n",
    "for i in matrix:\n",
    "    print(*i)\n",
    "print()"
   ]
  }
 ],
 "metadata": {
  "kernelspec": {
   "display_name": "Python 3 (ipykernel)",
   "language": "python",
   "name": "python3"
  },
  "language_info": {
   "codemirror_mode": {
    "name": "ipython",
    "version": 3
   },
   "file_extension": ".py",
   "mimetype": "text/x-python",
   "name": "python",
   "nbconvert_exporter": "python",
   "pygments_lexer": "ipython3",
   "version": "3.9.12"
  }
 },
 "nbformat": 4,
 "nbformat_minor": 5
}
