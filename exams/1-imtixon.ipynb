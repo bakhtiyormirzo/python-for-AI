{
 "cells": [
  {
   "cell_type": "code",
   "execution_count": 1,
   "id": "50a12614",
   "metadata": {},
   "outputs": [
    {
     "name": "stdout",
     "output_type": "stream",
     "text": [
      "a = 2\n",
      "b = 3\n",
      "c = 4\n",
      "d = 5\n",
      "a = 5, b = 2, c = 3, d = 4\n"
     ]
    }
   ],
   "source": [
    "# 1-savol\n",
    "\n",
    "a = int(input(\"a = \"))\n",
    "b = int(input(\"b = \"))\n",
    "c = int(input(\"c = \"))\n",
    "d = int(input(\"d = \"))\n",
    "\n",
    "a = a + b + c + d\n",
    "\n",
    "b = a - b - c - d\n",
    "c = a - b - c - d\n",
    "d = a - b - c - d\n",
    "a = a - b - c - d\n",
    "\n",
    "print(f\"a = {a}, b = {b}, c = {c}, d = {d}\")"
   ]
  },
  {
   "cell_type": "code",
   "execution_count": 4,
   "id": "afa1a989",
   "metadata": {},
   "outputs": [
    {
     "name": "stdout",
     "output_type": "stream",
     "text": [
      "To'rt xonalik son kiriting: 1234\n",
      "4321\n"
     ]
    }
   ],
   "source": [
    "# 2-savol\n",
    "\n",
    "n = int(input(\"To'rt xonalik son kiriting: \"))\n",
    "\n",
    "bir = n % 10\n",
    "on = n // 10 % 10\n",
    "yuz = n // 100 % 10\n",
    "ming = n // 1000\n",
    "\n",
    "son = bir * 1000 + on * 100 + yuz * 10 + ming\n",
    "print(son)"
   ]
  },
  {
   "cell_type": "code",
   "execution_count": 10,
   "id": "448e3619",
   "metadata": {},
   "outputs": [
    {
     "name": "stdout",
     "output_type": "stream",
     "text": [
      "a = 6\n",
      "b = 11\n",
      "c = 100\n",
      "11\n"
     ]
    }
   ],
   "source": [
    "# 3-savol\n",
    "\n",
    "a = int(input(\"a = \"))\n",
    "b = int(input(\"b = \"))\n",
    "c = int(input(\"c = \"))\n",
    "\n",
    "if a > b and b > c or a < b and b < c:\n",
    "    print(b)\n",
    "elif b > a and a > c or b < a and a < c:\n",
    "    print(a)\n",
    "else:\n",
    "    print(c)"
   ]
  },
  {
   "cell_type": "code",
   "execution_count": 5,
   "id": "7761dd68",
   "metadata": {},
   "outputs": [
    {
     "name": "stdout",
     "output_type": "stream",
     "text": [
      "n = 3\n",
      "x = 4\n",
      "-5.384126984126984\n"
     ]
    }
   ],
   "source": [
    "# 4-savol\n",
    "\n",
    "n = abs(int(input(\"n = \")))\n",
    "x = float(input(\"x = \"))\n",
    "\n",
    "r = 0\n",
    "\n",
    "def fact(a):\n",
    "    s = 1\n",
    "    for i in range(1,a+1):\n",
    "        s *= i\n",
    "    return s\n",
    "\n",
    "for i in range(1,n+1):\n",
    "    r += ((-1)**i) * (x ** (2*i+1)) / fact(2*i+1)\n",
    "print(r)"
   ]
  },
  {
   "cell_type": "code",
   "execution_count": 8,
   "id": "02970403",
   "metadata": {},
   "outputs": [
    {
     "name": "stdout",
     "output_type": "stream",
     "text": [
      "n = 1\n",
      "To'xtash uchun: 't' \n",
      "Davom etish uchun: 't' dan boshqa istalgan harf: \n",
      "buyruq: d\n",
      "n = 3\n",
      "To'xtash uchun: 't' \n",
      "Davom etish uchun: 't' dan boshqa istalgan harf: \n",
      "buyruq: d\n",
      "n = 4\n",
      "To'xtash uchun: 't' \n",
      "Davom etish uchun: 't' dan boshqa istalgan harf: \n",
      "buyruq: d\n",
      "n = -5\n",
      "To'xtash uchun: 't' \n",
      "Davom etish uchun: 't' dan boshqa istalgan harf: \n",
      "buyruq: o\n",
      "n = -1111\n",
      "To'xtash uchun: 't' \n",
      "Davom etish uchun: 't' dan boshqa istalgan harf: \n",
      "buyruq: t\n",
      "Kiritgan barcha sonlaringiz: [1, 3, 4, -5, -1111]\n",
      "Eng kichik musbat son: 1\n"
     ]
    }
   ],
   "source": [
    "# 5-savol\n",
    "\n",
    "run = True\n",
    "k_min = None\n",
    "first = True\n",
    "L = []\n",
    "\n",
    "while run:\n",
    "    n = int(input(\"n = \"))\n",
    "    print(\"To'xtash uchun: 't' \")\n",
    "    print(\"Davom etish uchun: 't' dan boshqa istalgan harf: \")\n",
    "    a = input(\"buyruq: \")\n",
    "    \n",
    "    L.append(n)\n",
    "    \n",
    "    if first:\n",
    "        k_min = n\n",
    "        first = False\n",
    "        \n",
    "    elif n > 0 and n < k_min:\n",
    "        k_min = n\n",
    "        \n",
    "    if a == \"t\":\n",
    "        run = False\n",
    "\n",
    "print(\"Kiritgan barcha sonlaringiz:\", L)\n",
    "print(\"Eng kichik musbat son:\", k_min)"
   ]
  }
 ],
 "metadata": {
  "kernelspec": {
   "display_name": "Python 3 (ipykernel)",
   "language": "python",
   "name": "python3"
  },
  "language_info": {
   "codemirror_mode": {
    "name": "ipython",
    "version": 3
   },
   "file_extension": ".py",
   "mimetype": "text/x-python",
   "name": "python",
   "nbconvert_exporter": "python",
   "pygments_lexer": "ipython3",
   "version": "3.9.7"
  }
 },
 "nbformat": 4,
 "nbformat_minor": 5
}
