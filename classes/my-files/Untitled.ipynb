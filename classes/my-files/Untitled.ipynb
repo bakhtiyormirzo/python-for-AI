{
 "cells": [
  {
   "cell_type": "markdown",
   "id": "01e8203a",
   "metadata": {},
   "source": [
    "**`Matritsa`**"
   ]
  },
  {
   "cell_type": "code",
   "execution_count": 7,
   "id": "4a24df58",
   "metadata": {},
   "outputs": [
    {
     "name": "stdout",
     "output_type": "stream",
     "text": [
      "m=4\n",
      "n=5\n",
      "9 5 8 6 9\n",
      "5 9 8 5 5\n",
      "9 7 8 7 6\n",
      "9 7 9 5 9\n",
      "\n",
      "10 5 8 6 9\n",
      "6 10 9 6 6\n",
      "10 9 12 15 22\n",
      "10 10 18 32 90\n",
      "\n"
     ]
    }
   ],
   "source": [
    "from random import randint\n",
    "\n",
    "m = int(input('m='))\n",
    "n = int(input('n='))\n",
    "matrix = [[randint(5,9) for _ in range(n)] for _ in range(m)]\n",
    "\n",
    "for i in matrix:\n",
    "    print(*i)\n",
    "print()\n",
    "\n",
    "for i in range(m):\n",
    "    for j in range(n):\n",
    "        matrix[i][j] += i**j\n",
    "\n",
    "\n",
    "for i in matrix:\n",
    "    print(*i)\n",
    "print()"
   ]
  },
  {
   "cell_type": "markdown",
   "id": "03099061",
   "metadata": {},
   "source": [
    "**`Massive`**"
   ]
  },
  {
   "cell_type": "code",
   "execution_count": 14,
   "id": "6b177cd1",
   "metadata": {},
   "outputs": [
    {
     "name": "stdout",
     "output_type": "stream",
     "text": [
      "n=8\n",
      "[4, 5, 9, 6, 8, 7, 6, 5]\n",
      "[4, 9, 8, 6]\n",
      "[9, 8, 6, 4]\n"
     ]
    }
   ],
   "source": [
    "n = int(input('n='))\n",
    "massive = [randint(1,9) for _ in range(n)]\n",
    "print(massive)\n",
    "\n",
    "massive = massive[::2]\n",
    "print(massive)\n",
    "\n",
    "massive.sort(reverse=True)\n",
    "print(massive)"
   ]
  },
  {
   "cell_type": "markdown",
   "id": "5ff0d35c",
   "metadata": {},
   "source": [
    "**`String`**"
   ]
  },
  {
   "cell_type": "code",
   "execution_count": 37,
   "id": "5a09c178",
   "metadata": {},
   "outputs": [
    {
     "data": {
      "text/plain": [
       "'typesetting printing industry simply Lorem Ipsum dummy text the and is of'"
      ]
     },
     "execution_count": 37,
     "metadata": {},
     "output_type": "execute_result"
    }
   ],
   "source": [
    "# 1-usul\n",
    "\n",
    "s = \"Lorem Ipsum is simply dummy text of the printing and typesetting industry\"\n",
    "\n",
    "L = s.split()\n",
    "for _ in range(len(L)):\n",
    "    for j in range(len(L)-1):\n",
    "        if len(L[j]) < len(L[j+1]):\n",
    "            L[j], L[j+1] = L[j+1], L[j]\n",
    "    \n",
    "s = \" \".join(L)\n",
    "s "
   ]
  },
  {
   "cell_type": "code",
   "execution_count": 30,
   "id": "7ccab4c2",
   "metadata": {},
   "outputs": [
    {
     "data": {
      "text/plain": [
       "'typesetting printing industry simply Lorem Ipsum dummy text the and is of'"
      ]
     },
     "execution_count": 30,
     "metadata": {},
     "output_type": "execute_result"
    }
   ],
   "source": [
    "# 2-usul\n",
    "\n",
    "s = \"Lorem Ipsum is simply dummy text of the printing and typesetting industry\"\n",
    "\n",
    "L = s.split()\n",
    "L.sort(key=len, reverse=True)\n",
    "s = \" \".join(L)\n",
    "s"
   ]
  },
  {
   "cell_type": "markdown",
   "id": "b143f2fd",
   "metadata": {},
   "source": [
    "**`Lambda`**"
   ]
  },
  {
   "cell_type": "code",
   "execution_count": 50,
   "id": "b8f6657e",
   "metadata": {},
   "outputs": [
    {
     "name": "stdout",
     "output_type": "stream",
     "text": [
      "[99, 83, 117, 197, 171, 71, 46, 182, 162, 11, 145, 185, 122, 102, 70]\n",
      "[99, 102, 83, 117, 122, 71, 70, 145, 46, 162, 171, 182, 185, 11, 197]\n"
     ]
    }
   ],
   "source": [
    "massive = [randint(1,200) for _ in range(15)]\n",
    "print(massive)\n",
    "\n",
    "print(sorted(massive, key=lambda i: abs(100-i)))"
   ]
  },
  {
   "cell_type": "code",
   "execution_count": 60,
   "id": "0948bde6",
   "metadata": {},
   "outputs": [
    {
     "name": "stdout",
     "output_type": "stream",
     "text": [
      "['and', 'industry', 'the', 'printing', 'simply', 'dummy', 'typesetting', 'lorem', 'ipsum', 'text']\n"
     ]
    }
   ],
   "source": [
    "s = \"Lorem Ipsum is simply dummy text of the printing and typesetting industry\"\n",
    "L = s.split()\n",
    "i = 0\n",
    "while i < len(L):\n",
    "    L[i] = L[i].lower()\n",
    "    if len(L[i]) < 3:\n",
    "        L.pop(i)\n",
    "        continue\n",
    "    i += 1\n",
    "print(sorted(L, key=lambda i: i[2]))"
   ]
  },
  {
   "cell_type": "code",
   "execution_count": 74,
   "id": "c795876f",
   "metadata": {},
   "outputs": [
    {
     "name": "stdout",
     "output_type": "stream",
     "text": [
      "['and', 'the', 'of', 'printing', 'typesetting', 'Lorem', 'Ipsum', 'is', 'text', 'simply', 'dummy', 'industry']\n"
     ]
    }
   ],
   "source": [
    "def oxirgi_belgi(L):\n",
    "    for _ in range(len(L)):\n",
    "        for i in range(len(L)-1):\n",
    "            if L[i][-1] > L[i+1][-1]:\n",
    "                L[i], L[i+1] = L[i+1], L[i]\n",
    "    return L\n",
    "\n",
    "s = \"Lorem Ipsum is simply dummy text of the printing and typesetting industry\"\n",
    "L = s.split()\n",
    "print(oxirgi_belgi(L))"
   ]
  },
  {
   "cell_type": "code",
   "execution_count": 76,
   "id": "cfb62dc3",
   "metadata": {},
   "outputs": [
    {
     "name": "stdout",
     "output_type": "stream",
     "text": [
      "['and', 'the', 'of', 'printing', 'typesetting', 'Lorem', 'Ipsum', 'is', 'text', 'simply', 'dummy', 'industry']\n"
     ]
    }
   ],
   "source": [
    "def oxirgi_belgi(i):\n",
    "    return i[-1]\n",
    "\n",
    "s = \"Lorem Ipsum is simply dummy text of the printing and typesetting industry\"\n",
    "L = s.split()\n",
    "print(sorted(L, key=oxirgi_belgi))"
   ]
  },
  {
   "cell_type": "code",
   "execution_count": null,
   "id": "f571040e",
   "metadata": {},
   "outputs": [],
   "source": []
  }
 ],
 "metadata": {
  "kernelspec": {
   "display_name": "Python 3 (ipykernel)",
   "language": "python",
   "name": "python3"
  },
  "language_info": {
   "codemirror_mode": {
    "name": "ipython",
    "version": 3
   },
   "file_extension": ".py",
   "mimetype": "text/x-python",
   "name": "python",
   "nbconvert_exporter": "python",
   "pygments_lexer": "ipython3",
   "version": "3.9.12"
  }
 },
 "nbformat": 4,
 "nbformat_minor": 5
}
