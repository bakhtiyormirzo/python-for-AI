{
 "cells": [
  {
   "cell_type": "code",
   "execution_count": 10,
   "id": "aa46d7c0",
   "metadata": {},
   "outputs": [],
   "source": [
    "from math import sqrt # faqat sqrt() method import qilinadi\n",
    "import math # method ishlatayotganda math.method() ni ishlatish kerak\n",
    "from math import * # barcha method lar import qilinadi"
   ]
  },
  {
   "cell_type": "code",
   "execution_count": 11,
   "id": "6d11673c",
   "metadata": {},
   "outputs": [
    {
     "data": {
      "text/plain": [
       "25.0"
      ]
     },
     "execution_count": 11,
     "metadata": {},
     "output_type": "execute_result"
    }
   ],
   "source": [
    "pow(5, 2) # pow(son, daraja)"
   ]
  },
  {
   "cell_type": "code",
   "execution_count": 12,
   "id": "ede2215a",
   "metadata": {},
   "outputs": [
    {
     "name": "stdout",
     "output_type": "stream",
     "text": [
      "a = 3\n",
      "b = 4\n",
      "a =  4\n",
      "b =  3\n"
     ]
    }
   ],
   "source": [
    "# 22-savol\n",
    "a = int(input(\"a = \"))\n",
    "b = int(input(\"b = \"))\n",
    "\n",
    "a = a + b\n",
    "b = a - b\n",
    "a = a - b\n",
    "print(\"a = \", a)\n",
    "print(\"b = \", b)"
   ]
  },
  {
   "cell_type": "code",
   "execution_count": 13,
   "id": "b5d3406e",
   "metadata": {},
   "outputs": [
    {
     "name": "stdout",
     "output_type": "stream",
     "text": [
      "1--2--3--4--5!"
     ]
    }
   ],
   "source": [
    "print(1,2,3,4,5, sep=\"--\", end=\"!\")"
   ]
  },
  {
   "cell_type": "markdown",
   "id": "a17ae9c3",
   "metadata": {},
   "source": [
    "# Butun sonlar"
   ]
  },
  {
   "cell_type": "code",
   "execution_count": null,
   "id": "6448a1b3",
   "metadata": {},
   "outputs": [],
   "source": [
    "int() - butun sonlar: 1 2 3 4 5 6 7 8 9 "
   ]
  },
  {
   "cell_type": "code",
   "execution_count": 16,
   "id": "7dcef814",
   "metadata": {},
   "outputs": [
    {
     "name": "stdout",
     "output_type": "stream",
     "text": [
      "Kun = 15\n",
      "2 ta hafta 1 ta kun\n"
     ]
    }
   ],
   "source": [
    "kun = int(input(\"Kun = \"))\n",
    "hafta = kun // 7\n",
    "kun_new = kun % 7\n",
    "print(hafta, \"ta hafta\", kun_new, \"ta kun\")"
   ]
  },
  {
   "cell_type": "code",
   "execution_count": 22,
   "id": "22801338",
   "metadata": {},
   "outputs": [
    {
     "name": "stdout",
     "output_type": "stream",
     "text": [
      "yogoch = 20\n",
      "2 tasi butun, 6 ta qoldiq.\n"
     ]
    }
   ],
   "source": [
    "yogoch = int(input(\"yogoch = \"))\n",
    "butun = yogoch // 7\n",
    "qoldiq = yogoch % 7\n",
    "print(butun, \"tasi butun,\", qoldiq, \"ta qoldiq.\")"
   ]
  },
  {
   "cell_type": "code",
   "execution_count": 24,
   "id": "7bcda5a7",
   "metadata": {},
   "outputs": [
    {
     "name": "stdout",
     "output_type": "stream",
     "text": [
      "lenta uzunligini kiriting: 20\n",
      "kerak qismini uzunligini kiriting: 2\n",
      "10 tasi butun, 0 ta qoldiq.\n"
     ]
    }
   ],
   "source": [
    "lenta = int(input(\"lenta uzunligini kiriting: \"))\n",
    "qismi = int(input(\"kerak qismini uzunligini kiriting: \"))\n",
    "butun = lenta // qismi\n",
    "qoldiq = lenta % qismi\n",
    "print(butun, \"tasi butun,\", qoldiq, \"ta qoldiq.\")"
   ]
  },
  {
   "cell_type": "code",
   "execution_count": 25,
   "id": "04f1eae6",
   "metadata": {},
   "outputs": [
    {
     "name": "stdout",
     "output_type": "stream",
     "text": [
      "13 ta molga yetadi, 1 qismi musurga chiqadi.\n"
     ]
    }
   ],
   "source": [
    "y = 40\n",
    "x = 3\n",
    "butun = y // x\n",
    "musur = y % x\n",
    "print(butun, \"ta molga yetadi,\", musur, \"qismi musurga chiqadi.\")"
   ]
  },
  {
   "cell_type": "code",
   "execution_count": 49,
   "id": "6e3037de",
   "metadata": {},
   "outputs": [
    {
     "name": "stdout",
     "output_type": "stream",
     "text": [
      "Yilning istalgan kunini koriting: 360\n"
     ]
    },
    {
     "data": {
      "text/plain": [
       "1"
      ]
     },
     "execution_count": 49,
     "metadata": {},
     "output_type": "execute_result"
    }
   ],
   "source": [
    "k = 50\n",
    "n = 4\n",
    "new = int(input(\"Yilning istalgan kunini koriting: \"))\n",
    "\n",
    "a = 8 - (k - n) % 7\n",
    "b = new % 7\n",
    "javob = a % b\n",
    "javob"
   ]
  },
  {
   "cell_type": "code",
   "execution_count": 38,
   "id": "0bfd2cde",
   "metadata": {},
   "outputs": [
    {
     "data": {
      "text/plain": [
       "4"
      ]
     },
     "execution_count": 38,
     "metadata": {},
     "output_type": "execute_result"
    }
   ],
   "source": [
    "8 - (50-4)%7 "
   ]
  },
  {
   "cell_type": "code",
   "execution_count": 41,
   "id": "66d4c474",
   "metadata": {},
   "outputs": [
    {
     "data": {
      "text/plain": [
       "3"
      ]
     },
     "execution_count": 41,
     "metadata": {},
     "output_type": "execute_result"
    }
   ],
   "source": [
    "360%7"
   ]
  },
  {
   "cell_type": "code",
   "execution_count": 47,
   "id": "3a54145c",
   "metadata": {},
   "outputs": [
    {
     "data": {
      "text/plain": [
       "3"
      ]
     },
     "execution_count": 47,
     "metadata": {},
     "output_type": "execute_result"
    }
   ],
   "source": [
    "3%(4 + 3)"
   ]
  },
  {
   "cell_type": "code",
   "execution_count": null,
   "id": "48ea7025",
   "metadata": {},
   "outputs": [],
   "source": []
  }
 ],
 "metadata": {
  "kernelspec": {
   "display_name": "Python 3 (ipykernel)",
   "language": "python",
   "name": "python3"
  },
  "language_info": {
   "codemirror_mode": {
    "name": "ipython",
    "version": 3
   },
   "file_extension": ".py",
   "mimetype": "text/x-python",
   "name": "python",
   "nbconvert_exporter": "python",
   "pygments_lexer": "ipython3",
   "version": "3.9.7"
  }
 },
 "nbformat": 4,
 "nbformat_minor": 5
}
