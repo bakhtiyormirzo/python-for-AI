{
 "cells": [
  {
   "cell_type": "markdown",
   "id": "9dc11360",
   "metadata": {},
   "source": [
    "# bir qatorli if"
   ]
  },
  {
   "cell_type": "code",
   "execution_count": 5,
   "id": "709d8980",
   "metadata": {},
   "outputs": [
    {
     "name": "stdout",
     "output_type": "stream",
     "text": [
      "a = 2\n",
      "5\n"
     ]
    }
   ],
   "source": [
    "a = int(input(\"a = \"))\n",
    "b = 5 if a%2==0 else 2\n",
    "print(b)"
   ]
  },
  {
   "cell_type": "code",
   "execution_count": 8,
   "id": "ae5233d5",
   "metadata": {},
   "outputs": [
    {
     "name": "stdout",
     "output_type": "stream",
     "text": [
      "a = 0\n",
      "No'l\n"
     ]
    }
   ],
   "source": [
    "a = int(input(\"a = \"))\n",
    "print(\"Musbat\") if a>0 else print(\"No'l\") if a == 0 else print(\"Manfiy\")"
   ]
  },
  {
   "cell_type": "markdown",
   "id": "18a580a7",
   "metadata": {},
   "source": [
    "# for loop"
   ]
  },
  {
   "cell_type": "code",
   "execution_count": 11,
   "id": "d7bb51db",
   "metadata": {},
   "outputs": [
    {
     "name": "stdout",
     "output_type": "stream",
     "text": [
      "5 10 15 20 25 30 35 40 45 50 55 60 65 70 75 80 85 90 95 100 "
     ]
    }
   ],
   "source": [
    "for i in range(1,100+1):\n",
    "    if i % 5 == 0:\n",
    "        print(i, end=\" \")"
   ]
  },
  {
   "cell_type": "code",
   "execution_count": 15,
   "id": "79efe368",
   "metadata": {},
   "outputs": [
    {
     "name": "stdout",
     "output_type": "stream",
     "text": [
      "0 5 10 15 20 25 30 35 40 45 50 55 60 65 70 75 80 85 90 95 100 "
     ]
    }
   ],
   "source": [
    "for i in range(0,101, 5):\n",
    "    print(i, end=\" \")"
   ]
  },
  {
   "cell_type": "code",
   "execution_count": 18,
   "id": "c0b3634e",
   "metadata": {},
   "outputs": [
    {
     "name": "stdout",
     "output_type": "stream",
     "text": [
      "n = 23\n",
      "23 21 19 17 15 13 11 9 7 5 3 1 "
     ]
    }
   ],
   "source": [
    "n = int(input(\"n = \"))\n",
    "for i in range(n,0,-1):\n",
    "    if i % 2 == 1:\n",
    "        print(i, end=\" \")"
   ]
  },
  {
   "cell_type": "code",
   "execution_count": 21,
   "id": "e65e7974",
   "metadata": {},
   "outputs": [
    {
     "name": "stdout",
     "output_type": "stream",
     "text": [
      "n = 3\n",
      "5\n"
     ]
    }
   ],
   "source": [
    "n = int(input(\"n = \"))\n",
    "s = 0\n",
    "for i in range(n,1,-1):\n",
    "    s += i\n",
    "print(s)"
   ]
  },
  {
   "cell_type": "code",
   "execution_count": 21,
   "id": "49cff30b",
   "metadata": {},
   "outputs": [
    {
     "name": "stdout",
     "output_type": "stream",
     "text": [
      "n = 5\n",
      "0 1 2 3 4 \n",
      "1 0 1 2 3 \n",
      "2 1 0 1 2 \n",
      "3 2 1 0 1 \n",
      "4 3 2 1 0 \n"
     ]
    }
   ],
   "source": [
    "n = int(input(\"n = \"))\n",
    "\n",
    "for i in range(n):\n",
    "    for j in range(i, 0, -1):\n",
    "        print(j, end=\" \")\n",
    "    for j in range(0, n-i):\n",
    "        print(j, end=\" \")\n",
    "    print()\n",
    "    "
   ]
  },
  {
   "cell_type": "code",
   "execution_count": 22,
   "id": "272a60a5",
   "metadata": {},
   "outputs": [
    {
     "name": "stdout",
     "output_type": "stream",
     "text": [
      "n = 4\n",
      "k = 3\n",
      "0.0411522633744856\n"
     ]
    }
   ],
   "source": [
    "n = int(input(\"n = \"))\n",
    "k = int(input(\"k = \"))\n",
    "\n",
    "s = 0\n",
    "\n",
    "for i in range(1,n+1):\n",
    "    s += i/k**5\n",
    "print(s)"
   ]
  },
  {
   "cell_type": "code",
   "execution_count": 24,
   "id": "7306e6b5",
   "metadata": {},
   "outputs": [
    {
     "name": "stdout",
     "output_type": "stream",
     "text": [
      "n = 3\n",
      "x = 4\n",
      "7.666666666666666\n"
     ]
    }
   ],
   "source": [
    "n = int(input(\"n = \"))\n",
    "x = int(input(\"x = \"))\n",
    "\n",
    "s = 0\n",
    "\n",
    "def fact(a):\n",
    "    y = 1\n",
    "    for i in range(1,a+1):\n",
    "        y *= i\n",
    "    return y\n",
    "\n",
    "for i in range(1,n+1):\n",
    "    s += 1/fact(i) + x**0.5\n",
    "print(s)"
   ]
  },
  {
   "cell_type": "code",
   "execution_count": 26,
   "id": "eaa97538",
   "metadata": {},
   "outputs": [
    {
     "name": "stdout",
     "output_type": "stream",
     "text": [
      "n = 6\n",
      "1 2 3 6 "
     ]
    }
   ],
   "source": [
    "# sonning bo'luvchilarini topish\n",
    "\n",
    "n = int(input(\"n = \"))\n",
    "\n",
    "for i in range(1,n+1):\n",
    "    if n%i==0:\n",
    "        print(i, end=\" \")"
   ]
  },
  {
   "cell_type": "code",
   "execution_count": 27,
   "id": "d17c4121",
   "metadata": {},
   "outputs": [
    {
     "name": "stdout",
     "output_type": "stream",
     "text": [
      "n = 6\n",
      "12\n"
     ]
    }
   ],
   "source": [
    "# sonning bo'luvchilar yigindisi\n",
    "n = int(input(\"n = \"))\n",
    "s = 0\n",
    "for i in range(1,n+1):\n",
    "    if n%i==0:\n",
    "        s+=i\n",
    "print(s)"
   ]
  },
  {
   "cell_type": "code",
   "execution_count": 29,
   "id": "bdbb6c35",
   "metadata": {},
   "outputs": [
    {
     "name": "stdout",
     "output_type": "stream",
     "text": [
      "n = 9\n",
      "Mukammal emas\n"
     ]
    }
   ],
   "source": [
    "# mukammal son: o'zindan boshqa bo'luvchilari yig'indisiga teng son\n",
    "\n",
    "n = int(input(\"n = \"))\n",
    "s = 0\n",
    "for i in range(1,n):\n",
    "    if n%i==0:\n",
    "        s+=i\n",
    "if n == s:\n",
    "    print(\"Mukammal\")\n",
    "else:\n",
    "    print(\"Mukammal emas\")"
   ]
  },
  {
   "cell_type": "code",
   "execution_count": 5,
   "id": "40b197bc",
   "metadata": {},
   "outputs": [
    {
     "name": "stdout",
     "output_type": "stream",
     "text": [
      "n = 88\n",
      "6 28 "
     ]
    }
   ],
   "source": [
    "n = int(input(\"n = \"))\n",
    "\n",
    "def muk(a):\n",
    "    s = 0\n",
    "    for i in range(1,a):\n",
    "        if a%i==0:\n",
    "            s+=i\n",
    "            \n",
    "    if a == s:\n",
    "        return True\n",
    "    return False\n",
    " \n",
    "for i in range(1,n):\n",
    "    if muk(i):\n",
    "        print(i, end=\" \")"
   ]
  },
  {
   "cell_type": "code",
   "execution_count": 1,
   "id": "cc897a42",
   "metadata": {},
   "outputs": [
    {
     "name": "stdout",
     "output_type": "stream",
     "text": [
      "n = 5\n",
      "2\n"
     ]
    }
   ],
   "source": [
    "# n sonining bo'luvchilar sonini topish\n",
    "\n",
    "n = int(input(\"n = \"))\n",
    "c = 0\n",
    "for i in range(1,n+1):\n",
    "    if n%i==0:\n",
    "        c+=1\n",
    "print(c)"
   ]
  },
  {
   "cell_type": "code",
   "execution_count": 2,
   "id": "2b656295",
   "metadata": {},
   "outputs": [
    {
     "name": "stdout",
     "output_type": "stream",
     "text": [
      "n = 7\n",
      "True\n"
     ]
    }
   ],
   "source": [
    "# tub sonlar\n",
    "\n",
    "n = int(input(\"n = \"))\n",
    "tub = False\n",
    "c = 0\n",
    "\n",
    "if n == 2:\n",
    "    tub = True\n",
    "else:\n",
    "    for i in range(1,n+1):\n",
    "        if n%i==0:\n",
    "            c+=1\n",
    "    if c == 2:\n",
    "        tub = True\n",
    "print(tub)"
   ]
  },
  {
   "cell_type": "code",
   "execution_count": 5,
   "id": "a634265f",
   "metadata": {},
   "outputs": [
    {
     "name": "stdout",
     "output_type": "stream",
     "text": [
      "n = 87\n",
      "9\n"
     ]
    }
   ],
   "source": [
    "n = int(input(\"n = \"))\n",
    "maxFactor = round(n**0.5)\n",
    "print(maxFactor)"
   ]
  },
  {
   "cell_type": "code",
   "execution_count": 6,
   "id": "a4f9dd65",
   "metadata": {},
   "outputs": [
    {
     "name": "stdout",
     "output_type": "stream",
     "text": [
      "n = 9\n",
      "2\n",
      "3\n",
      "5\n",
      "7\n"
     ]
    }
   ],
   "source": [
    "# n gacha bo'lgan tub sonlar\n",
    "\n",
    "n = int(input(\"n = \"))\n",
    "\n",
    "def tub(n):\n",
    "    c = 0\n",
    "\n",
    "    if n == 2:\n",
    "        return True\n",
    "    else:\n",
    "        for i in range(1,n+1):\n",
    "            if n%i==0:\n",
    "                c+=1\n",
    "        if c == 2:\n",
    "            return True\n",
    "    return False\n",
    "\n",
    "for i in range(1,n):\n",
    "    if tub(i):\n",
    "        print(i)"
   ]
  },
  {
   "cell_type": "code",
   "execution_count": 11,
   "id": "7dfd8b26",
   "metadata": {},
   "outputs": [
    {
     "name": "stdout",
     "output_type": "stream",
     "text": [
      "n = 9\n",
      "2\n",
      "3\n",
      "5\n",
      "7\n"
     ]
    }
   ],
   "source": [
    "# n gacha bo'lgan tub sonlar: to'g'irlash kk?????\n",
    "\n",
    "n = int(input(\"n = \"))\n",
    "\n",
    "def tub_tezroq(n):\n",
    "    if n < 2:\n",
    "        return False\n",
    "    if n == 2:\n",
    "        return True\n",
    "    if n % 2 == 0:\n",
    "        return False\n",
    "    for i in range(3,n,2):\n",
    "        if n%i == 0:\n",
    "            return False\n",
    "    return True\n",
    "\n",
    "for i in range(1,n):\n",
    "    if tub_tezroq(i):\n",
    "        print(i)"
   ]
  },
  {
   "cell_type": "code",
   "execution_count": 12,
   "id": "ee05b13b",
   "metadata": {},
   "outputs": [
    {
     "name": "stdout",
     "output_type": "stream",
     "text": [
      "n = 5\n",
      "2.283333333333333\n"
     ]
    }
   ],
   "source": [
    "# 10-savol: s = 1/1 + 1/2 + 1/3 + ... + 1/n\n",
    "\n",
    "n = abs(int(input(\"n = \")))\n",
    "\n",
    "c = 0\n",
    "for i in range(1,n+1):\n",
    "    c += 1/i\n",
    "print(c)"
   ]
  },
  {
   "cell_type": "code",
   "execution_count": 20,
   "id": "6551a3f8",
   "metadata": {},
   "outputs": [
    {
     "name": "stdout",
     "output_type": "stream",
     "text": [
      "n = 45\n",
      "-0.0\n"
     ]
    }
   ],
   "source": [
    "# s = 1/-n + 1/-(n-1) + ... + 1/n\n",
    "\n",
    "n = abs(int(input(\"n = \")))\n",
    "\n",
    "c = 0\n",
    "for i in range(-n,n+1):\n",
    "    if i == 0:\n",
    "        continue\n",
    "    c += 1/i\n",
    "print(round(c,2))"
   ]
  },
  {
   "cell_type": "code",
   "execution_count": 23,
   "id": "064bebf6",
   "metadata": {},
   "outputs": [
    {
     "name": "stdout",
     "output_type": "stream",
     "text": [
      "n = 2\n",
      "n = 3\n",
      "n = 4\n",
      "n = -3\n",
      "n = -1\n",
      "2 4 3\n"
     ]
    }
   ],
   "source": [
    "run = True\n",
    "\n",
    "c = 0\n",
    "n_min = None\n",
    "n_max = None\n",
    "first = True\n",
    "\n",
    "while run:\n",
    "    n = int(input(\"n = \"))\n",
    "    if n == -1:\n",
    "        run = False\n",
    "        break\n",
    "    if n > 0 and first:\n",
    "        n_min = n\n",
    "        n_max = n\n",
    "        c += 1\n",
    "        first = False\n",
    "        continue\n",
    "    if n > 0:\n",
    "        c += 1\n",
    "        if n > n_max:\n",
    "            n_max = n\n",
    "        if n < n_min:\n",
    "            n_min = n\n",
    "print(n_min, n_max, c)"
   ]
  },
  {
   "cell_type": "code",
   "execution_count": 24,
   "id": "de08c213",
   "metadata": {},
   "outputs": [
    {
     "name": "stdout",
     "output_type": "stream",
     "text": [
      "a = 45\n",
      "b = 135\n",
      "45\n"
     ]
    }
   ],
   "source": [
    "a = int(input(\"a = \"))\n",
    "b = int(input(\"b = \"))\n",
    "r = min(a,b)\n",
    "ekub = 1\n",
    "for i in range(2,r+1):\n",
    "    if a % i == 0 and b % i == 0:\n",
    "        ekub = i\n",
    "print(ekub)"
   ]
  },
  {
   "cell_type": "code",
   "execution_count": null,
   "id": "3c9a021d",
   "metadata": {},
   "outputs": [],
   "source": []
  }
 ],
 "metadata": {
  "kernelspec": {
   "display_name": "Python 3 (ipykernel)",
   "language": "python",
   "name": "python3"
  },
  "language_info": {
   "codemirror_mode": {
    "name": "ipython",
    "version": 3
   },
   "file_extension": ".py",
   "mimetype": "text/x-python",
   "name": "python",
   "nbconvert_exporter": "python",
   "pygments_lexer": "ipython3",
   "version": "3.9.7"
  }
 },
 "nbformat": 4,
 "nbformat_minor": 5
}
