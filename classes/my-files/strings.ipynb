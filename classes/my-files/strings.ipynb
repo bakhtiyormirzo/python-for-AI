{
 "cells": [
  {
   "cell_type": "markdown",
   "id": "649cb614",
   "metadata": {},
   "source": [
    "# Satrlar - STRING"
   ]
  },
  {
   "cell_type": "code",
   "execution_count": null,
   "id": "f567d6fa",
   "metadata": {},
   "outputs": [],
   "source": [
    "int    - Oddiy sonlar, butun sonlar\n",
    "float  - Oddiy sonlar, haqiqiy sonlar\n",
    "bool   - Mantiqiy ifoda\n",
    "list   - Bu elementlar to`plami  []\n",
    "set    - Elementlar to`plami     {}\n",
    "tuple  - Elementlar to`plami     ()\n",
    "dict   - Keyga ega elementlar to`plami   {}"
   ]
  },
  {
   "cell_type": "code",
   "execution_count": null,
   "id": "6bd27df2",
   "metadata": {},
   "outputs": [],
   "source": [
    "str    - Belgilar to`plami - \"\", ''\n",
    "chr    - Bitta belgi bilan ishlovchi klass"
   ]
  },
  {
   "cell_type": "markdown",
   "id": "76248486",
   "metadata": {},
   "source": [
    "# Belgi nima?"
   ]
  },
  {
   "cell_type": "code",
   "execution_count": 1,
   "id": "da17633f",
   "metadata": {},
   "outputs": [
    {
     "data": {
      "text/plain": [
       "'\\\\'"
      ]
     },
     "execution_count": 1,
     "metadata": {},
     "output_type": "execute_result"
    }
   ],
   "source": [
    "chr(92)"
   ]
  },
  {
   "cell_type": "code",
   "execution_count": 2,
   "id": "e2c62fe4",
   "metadata": {},
   "outputs": [
    {
     "data": {
      "text/plain": [
       "92"
      ]
     },
     "execution_count": 2,
     "metadata": {},
     "output_type": "execute_result"
    }
   ],
   "source": [
    "ord(\"\\\\\")"
   ]
  },
  {
   "cell_type": "code",
   "execution_count": 3,
   "id": "c01b06af",
   "metadata": {},
   "outputs": [
    {
     "name": "stdout",
     "output_type": "stream",
     "text": [
      "\u0000 \u0001 \u0002 \u0003 \u0004 \u0005 \u0006 \u0007 \b \t \n",
      " \u000b",
      " \f",
      " \r",
      " \u000e \u000f \u0010 \u0011 \u0012 \u0013 \u0014 \u0015 \u0016 \u0017 \u0018 \u0019 \u001a \u001b \u001c",
      " \u001d",
      " \u001e",
      " \u001f   ! \" # $ % & ' ( ) * + , - . / 0 1 2 3 4 5 6 7 8 9 : ; < = > ? @ A B C D E F G H I J K L M N O P Q R S T U V W X Y Z [ \\ ] ^ _ ` a b c d e f g h i j k l m n o p q r s t u v w x y z { | } ~       ",
      "                             ¡ ¢ £ ¤ ¥ ¦ § ¨ © ª « ¬ ­ ® ¯ ° ± ² ³ ´ µ ¶ · ¸ ¹ º » ¼ ½ ¾ ¿ À Á Â Ã Ä Å Æ Ç È É Ê Ë Ì Í Î Ï Ð Ñ Ò Ó Ô Õ Ö × Ø Ù Ú Û Ü Ý Þ ß à á â ã ä å æ ç è é ê ë ì í î ï ð ñ ò ó ô õ ö ÷ ø ù ú û ü ý þ "
     ]
    }
   ],
   "source": [
    "for i in range(255):\n",
    "    print(chr(i),end=\" \")"
   ]
  },
  {
   "cell_type": "markdown",
   "id": "b4313b38",
   "metadata": {},
   "source": [
    "# Unicode"
   ]
  },
  {
   "cell_type": "code",
   "execution_count": 4,
   "id": "0554ae87",
   "metadata": {},
   "outputs": [
    {
     "name": "stdout",
     "output_type": "stream",
     "text": [
      "⚠\n"
     ]
    }
   ],
   "source": [
    "print(\"\\u26A0\")"
   ]
  },
  {
   "cell_type": "markdown",
   "id": "92eb875a",
   "metadata": {},
   "source": [
    "# String"
   ]
  },
  {
   "cell_type": "code",
   "execution_count": 5,
   "id": "756f408a",
   "metadata": {},
   "outputs": [
    {
     "data": {
      "text/plain": [
       "['__add__',\n",
       " '__class__',\n",
       " '__contains__',\n",
       " '__delattr__',\n",
       " '__dir__',\n",
       " '__doc__',\n",
       " '__eq__',\n",
       " '__format__',\n",
       " '__ge__',\n",
       " '__getattribute__',\n",
       " '__getitem__',\n",
       " '__getnewargs__',\n",
       " '__gt__',\n",
       " '__hash__',\n",
       " '__init__',\n",
       " '__init_subclass__',\n",
       " '__iter__',\n",
       " '__le__',\n",
       " '__len__',\n",
       " '__lt__',\n",
       " '__mod__',\n",
       " '__mul__',\n",
       " '__ne__',\n",
       " '__new__',\n",
       " '__reduce__',\n",
       " '__reduce_ex__',\n",
       " '__repr__',\n",
       " '__rmod__',\n",
       " '__rmul__',\n",
       " '__setattr__',\n",
       " '__sizeof__',\n",
       " '__str__',\n",
       " '__subclasshook__',\n",
       " 'capitalize',\n",
       " 'casefold',\n",
       " 'center',\n",
       " 'count',\n",
       " 'encode',\n",
       " 'endswith',\n",
       " 'expandtabs',\n",
       " 'find',\n",
       " 'format',\n",
       " 'format_map',\n",
       " 'index',\n",
       " 'isalnum',\n",
       " 'isalpha',\n",
       " 'isascii',\n",
       " 'isdecimal',\n",
       " 'isdigit',\n",
       " 'isidentifier',\n",
       " 'islower',\n",
       " 'isnumeric',\n",
       " 'isprintable',\n",
       " 'isspace',\n",
       " 'istitle',\n",
       " 'isupper',\n",
       " 'join',\n",
       " 'ljust',\n",
       " 'lower',\n",
       " 'lstrip',\n",
       " 'maketrans',\n",
       " 'partition',\n",
       " 'removeprefix',\n",
       " 'removesuffix',\n",
       " 'replace',\n",
       " 'rfind',\n",
       " 'rindex',\n",
       " 'rjust',\n",
       " 'rpartition',\n",
       " 'rsplit',\n",
       " 'rstrip',\n",
       " 'split',\n",
       " 'splitlines',\n",
       " 'startswith',\n",
       " 'strip',\n",
       " 'swapcase',\n",
       " 'title',\n",
       " 'translate',\n",
       " 'upper',\n",
       " 'zfill']"
      ]
     },
     "execution_count": 5,
     "metadata": {},
     "output_type": "execute_result"
    }
   ],
   "source": [
    "dir(str)"
   ]
  },
  {
   "cell_type": "code",
   "execution_count": 6,
   "id": "097399bc",
   "metadata": {},
   "outputs": [
    {
     "data": {
      "text/plain": [
       "'Salom'"
      ]
     },
     "execution_count": 6,
     "metadata": {},
     "output_type": "execute_result"
    }
   ],
   "source": [
    "string_1 = 'Salom'\n",
    "string_1"
   ]
  },
  {
   "cell_type": "code",
   "execution_count": 7,
   "id": "1d2075bd",
   "metadata": {},
   "outputs": [
    {
     "data": {
      "text/plain": [
       "'Salom'"
      ]
     },
     "execution_count": 7,
     "metadata": {},
     "output_type": "execute_result"
    }
   ],
   "source": [
    "string_2 = \"Salom\"\n",
    "string_2"
   ]
  },
  {
   "cell_type": "code",
   "execution_count": 8,
   "id": "a33a4fdd",
   "metadata": {},
   "outputs": [
    {
     "name": "stdout",
     "output_type": "stream",
     "text": [
      "Kirit = erta\n"
     ]
    },
    {
     "data": {
      "text/plain": [
       "'erta'"
      ]
     },
     "execution_count": 8,
     "metadata": {},
     "output_type": "execute_result"
    }
   ],
   "source": [
    "string_3 = input(\"Kirit = \")\n",
    "string_3"
   ]
  },
  {
   "cell_type": "code",
   "execution_count": 9,
   "id": "07d00181",
   "metadata": {},
   "outputs": [
    {
     "name": "stdout",
     "output_type": "stream",
     "text": [
      "\n",
      "Uzbekistan (UK: /ʊzˌbɛkɪˈstɑːn, ʌz-, -ˈstæn/, US: /ʊzˈbɛkɪstæn, -stɑːn/;[13][14] Uzbek: \n",
      "Oʻzbekiston, pronounced [ozbekiˈstɒn]), officially the Republic of Uzbekistan \n",
      "(Uzbek: Oʻzbekiston Respublikasi), is a doubly landlocked country in Central Asia. \n",
      "It is surrounded by five landlocked countries: Kazakhstan to the north; Kyrgyzstan \n",
      "to the northeast; Tajikistan to the southeast; Afghanistan to the south; and Turkmenistan \n",
      "to the south-west. Its capital and largest city is Tashkent. Uzbekistan is part of the \n",
      "Turkic languages world, as well as a member of the Organization of Turkic States. \n",
      "Uzbek language is the majority-spoken language in Uzbekistan. Islam is the predominant \n",
      "religion in Uzbekistan, most Uzbeks being Sunni Muslims.[15]\n",
      "\n",
      "The first recorded settlers in what is now Uzbekistan were Eastern Iranian nomads, \n",
      "known as Scythians, who founded kingdoms in Khwarazm (8th–6th centuries BC), Bactria \n",
      "(8th–6th centuries BC), Sogdia (8th–6th centuries BC), Fergana (3rd century BC – sixth century AD), \n",
      "and Margiana (3rd century BC – sixth century AD).[16] The area was incorporated into \n",
      "the Iranian Achaemenid Empire and, after a period of Macedonian rule, was ruled by the \n",
      "Iranian Parthian Empire and later by the Sasanian Empire, until the Muslim conquest \n",
      "of Persia in the seventh century. The Early Muslim conquests and the subsequent \n",
      "Samanid Empire converted most of the people, including the local ruling classes, \n",
      "into adherents of Islam. During this period, cities such as Samarkand, Khiva, and \n",
      "Bukhara began to grow rich from the Silk Road, and witnessed the emergence of \n",
      "leading figures of the Islamic Golden Age, including Muhammad al-Bukhari, Al-Tirmidhi, \n",
      "al Khwarizmi, al-Biruni, Avicenna and Omar Khayyam. The local Khwarazmian dynasty and \n",
      "Central Asia as a whole were decimated by the Mongol invasion in the 13th century, \n",
      "after which the region became dominated by Turkic peoples. The city of Shahrisabz was\n",
      "the birthplace of the Turco-Mongol conqueror Timur (Tamerlane), who in the 14th \n",
      "century established the Timurid Empire and was proclaimed the Supreme Emir of Turan \n",
      "with his capital in Samarkand, which became a centre of science under the rule of \n",
      "Ulugh Beg, giving birth to the Timurid Renaissance. The territories of the Timurid \n",
      "dynasty were conquered by Uzbek Shaybanids in the 16th century, moving the centre of \n",
      "power to Bukhara. The region was split into three states: the Khanate of Khiva, Khanate \n",
      "of Kokand and Emirate of Bukhara. Conquests by Emperor Babur towards the east led to \n",
      "the foundation of India's newest invasions as Mughal Empire. All of Central Asia was \n",
      "gradually incorporated into the Russian Empire during the 19th century, with Tashkent \n",
      "becoming the political center of Russian Turkestan. In 1924, national delimitation created \n",
      "the Uzbek Soviet Socialist Republic as an independent republic within the Soviet Union. \n",
      "Following the dissolution of the Soviet Union, it declared independence as the Republic of \n",
      "Uzbekistan on 31 August 1991.\n",
      "\n"
     ]
    }
   ],
   "source": [
    "a = \"\"\"\n",
    "Uzbekistan (UK: /ʊzˌbɛkɪˈstɑːn, ʌz-, -ˈstæn/, US: /ʊzˈbɛkɪstæn, -stɑːn/;[13][14] Uzbek: \n",
    "Oʻzbekiston, pronounced [ozbekiˈstɒn]), officially the Republic of Uzbekistan \n",
    "(Uzbek: Oʻzbekiston Respublikasi), is a doubly landlocked country in Central Asia. \n",
    "It is surrounded by five landlocked countries: Kazakhstan to the north; Kyrgyzstan \n",
    "to the northeast; Tajikistan to the southeast; Afghanistan to the south; and Turkmenistan \n",
    "to the south-west. Its capital and largest city is Tashkent. Uzbekistan is part of the \n",
    "Turkic languages world, as well as a member of the Organization of Turkic States. \n",
    "Uzbek language is the majority-spoken language in Uzbekistan. Islam is the predominant \n",
    "religion in Uzbekistan, most Uzbeks being Sunni Muslims.[15]\n",
    "\n",
    "The first recorded settlers in what is now Uzbekistan were Eastern Iranian nomads, \n",
    "known as Scythians, who founded kingdoms in Khwarazm (8th–6th centuries BC), Bactria \n",
    "(8th–6th centuries BC), Sogdia (8th–6th centuries BC), Fergana (3rd century BC – sixth century AD), \n",
    "and Margiana (3rd century BC – sixth century AD).[16] The area was incorporated into \n",
    "the Iranian Achaemenid Empire and, after a period of Macedonian rule, was ruled by the \n",
    "Iranian Parthian Empire and later by the Sasanian Empire, until the Muslim conquest \n",
    "of Persia in the seventh century. The Early Muslim conquests and the subsequent \n",
    "Samanid Empire converted most of the people, including the local ruling classes, \n",
    "into adherents of Islam. During this period, cities such as Samarkand, Khiva, and \n",
    "Bukhara began to grow rich from the Silk Road, and witnessed the emergence of \n",
    "leading figures of the Islamic Golden Age, including Muhammad al-Bukhari, Al-Tirmidhi, \n",
    "al Khwarizmi, al-Biruni, Avicenna and Omar Khayyam. The local Khwarazmian dynasty and \n",
    "Central Asia as a whole were decimated by the Mongol invasion in the 13th century, \n",
    "after which the region became dominated by Turkic peoples. The city of Shahrisabz was\n",
    "the birthplace of the Turco-Mongol conqueror Timur (Tamerlane), who in the 14th \n",
    "century established the Timurid Empire and was proclaimed the Supreme Emir of Turan \n",
    "with his capital in Samarkand, which became a centre of science under the rule of \n",
    "Ulugh Beg, giving birth to the Timurid Renaissance. The territories of the Timurid \n",
    "dynasty were conquered by Uzbek Shaybanids in the 16th century, moving the centre of \n",
    "power to Bukhara. The region was split into three states: the Khanate of Khiva, Khanate \n",
    "of Kokand and Emirate of Bukhara. Conquests by Emperor Babur towards the east led to \n",
    "the foundation of India's newest invasions as Mughal Empire. All of Central Asia was \n",
    "gradually incorporated into the Russian Empire during the 19th century, with Tashkent \n",
    "becoming the political center of Russian Turkestan. In 1924, national delimitation created \n",
    "the Uzbek Soviet Socialist Republic as an independent republic within the Soviet Union. \n",
    "Following the dissolution of the Soviet Union, it declared independence as the Republic of \n",
    "Uzbekistan on 31 August 1991.\n",
    "\"\"\"\n",
    "print(a)"
   ]
  },
  {
   "cell_type": "code",
   "execution_count": 10,
   "id": "b9ffa07c",
   "metadata": {},
   "outputs": [
    {
     "name": "stdout",
     "output_type": "stream",
     "text": [
      "Uzbekistan (UK: /ʊzˌbɛkɪˈstɑːn, ʌz-, -ˈstæn/, US: /ʊzˈbɛkɪstæn, -stɑːn/;[13][14] Uzbek:\n",
      " Oʻzbekiston, pronounced [ozbekiˈstɒn]), officially the Republic of Uzbekistan \n"
     ]
    }
   ],
   "source": [
    "string_4 = \"Uzbekistan (UK: /ʊzˌbɛkɪˈstɑːn, ʌz-, -ˈstæn/, US: /ʊzˈbɛkɪstæn, -stɑːn/;[13][14] Uzbek:\\n Oʻzbekiston, pronounced [ozbekiˈstɒn]), officially the Republic of Uzbekistan \"\n",
    "print(string_4)"
   ]
  },
  {
   "cell_type": "markdown",
   "id": "da1d0f31",
   "metadata": {},
   "source": [
    "# Yana belgilar"
   ]
  },
  {
   "cell_type": "code",
   "execution_count": 11,
   "id": "da71a04a",
   "metadata": {},
   "outputs": [
    {
     "name": "stdout",
     "output_type": "stream",
     "text": [
      "a\n",
      "b\n"
     ]
    }
   ],
   "source": [
    "print(\"a\\nb\")"
   ]
  },
  {
   "cell_type": "code",
   "execution_count": 12,
   "id": "19855e86",
   "metadata": {},
   "outputs": [
    {
     "name": "stdout",
     "output_type": "stream",
     "text": [
      "a\tb\n"
     ]
    }
   ],
   "source": [
    "print(\"a\\tb\")"
   ]
  },
  {
   "cell_type": "markdown",
   "id": "ef253c07",
   "metadata": {},
   "source": [
    "# Indeksatsiya"
   ]
  },
  {
   "cell_type": "code",
   "execution_count": 13,
   "id": "e9782cfa",
   "metadata": {},
   "outputs": [
    {
     "data": {
      "text/plain": [
       "'S'"
      ]
     },
     "execution_count": 13,
     "metadata": {},
     "output_type": "execute_result"
    }
   ],
   "source": [
    "string_1[0]"
   ]
  },
  {
   "cell_type": "code",
   "execution_count": 14,
   "id": "bdf16863",
   "metadata": {},
   "outputs": [
    {
     "data": {
      "text/plain": [
       "'Salom'"
      ]
     },
     "execution_count": 14,
     "metadata": {},
     "output_type": "execute_result"
    }
   ],
   "source": [
    "string_1[0:]"
   ]
  },
  {
   "cell_type": "code",
   "execution_count": 15,
   "id": "c9e81dee",
   "metadata": {},
   "outputs": [
    {
     "data": {
      "text/plain": [
       "'Slm'"
      ]
     },
     "execution_count": 15,
     "metadata": {},
     "output_type": "execute_result"
    }
   ],
   "source": [
    "string_1[0:5:2]"
   ]
  },
  {
   "cell_type": "markdown",
   "id": "3fc7c82a",
   "metadata": {},
   "source": [
    "# String xususiyatlari\n",
    "* O'zgartirib bo'lmaydi"
   ]
  },
  {
   "cell_type": "code",
   "execution_count": 16,
   "id": "c113be98",
   "metadata": {},
   "outputs": [
    {
     "data": {
      "text/plain": [
       "'Salom'"
      ]
     },
     "execution_count": 16,
     "metadata": {},
     "output_type": "execute_result"
    }
   ],
   "source": [
    "string_1"
   ]
  },
  {
   "cell_type": "code",
   "execution_count": 17,
   "id": "6005caec",
   "metadata": {},
   "outputs": [
    {
     "ename": "TypeError",
     "evalue": "'str' object does not support item assignment",
     "output_type": "error",
     "traceback": [
      "\u001b[0;31m---------------------------------------------------------------------------\u001b[0m",
      "\u001b[0;31mTypeError\u001b[0m                                 Traceback (most recent call last)",
      "Input \u001b[0;32mIn [17]\u001b[0m, in \u001b[0;36m<cell line: 2>\u001b[0;34m()\u001b[0m\n\u001b[1;32m      1\u001b[0m \u001b[38;5;66;03m# Atayin yozilgan\u001b[39;00m\n\u001b[0;32m----> 2\u001b[0m string_1[\u001b[38;5;241m0\u001b[39m] \u001b[38;5;241m=\u001b[39m \u001b[38;5;124m\"\u001b[39m\u001b[38;5;124mHello\u001b[39m\u001b[38;5;124m\"\u001b[39m\n",
      "\u001b[0;31mTypeError\u001b[0m: 'str' object does not support item assignment"
     ]
    }
   ],
   "source": [
    "# Atayin yozilgan\n",
    "string_1[0] = \"Hello\""
   ]
  },
  {
   "cell_type": "code",
   "execution_count": 18,
   "id": "a55eea30",
   "metadata": {},
   "outputs": [
    {
     "ename": "AttributeError",
     "evalue": "'str' object has no attribute 'remove'",
     "output_type": "error",
     "traceback": [
      "\u001b[0;31m---------------------------------------------------------------------------\u001b[0m",
      "\u001b[0;31mAttributeError\u001b[0m                            Traceback (most recent call last)",
      "Input \u001b[0;32mIn [18]\u001b[0m, in \u001b[0;36m<cell line: 2>\u001b[0;34m()\u001b[0m\n\u001b[1;32m      1\u001b[0m \u001b[38;5;66;03m# Atayin yozilgan\u001b[39;00m\n\u001b[0;32m----> 2\u001b[0m \u001b[43mstring_1\u001b[49m\u001b[38;5;241;43m.\u001b[39;49m\u001b[43mremove\u001b[49m(\u001b[38;5;124m\"\u001b[39m\u001b[38;5;124mS\u001b[39m\u001b[38;5;124m\"\u001b[39m)\n",
      "\u001b[0;31mAttributeError\u001b[0m: 'str' object has no attribute 'remove'"
     ]
    }
   ],
   "source": [
    "# Atayin yozilgan\n",
    "string_1.remove(\"S\")"
   ]
  },
  {
   "cell_type": "markdown",
   "id": "1d066daa",
   "metadata": {},
   "source": [
    "# String methods"
   ]
  },
  {
   "cell_type": "code",
   "execution_count": 19,
   "id": "49a23700",
   "metadata": {},
   "outputs": [],
   "source": [
    "string_5 = \"\"\"\n",
    "Uzbekistan (UK: /ʊzˌbɛkɪˈstɑːn, ʌz-, -ˈstæn/, US: /ʊzˈbɛkɪstæn, -stɑːn/;[13][14] Uzbek: \n",
    "Oʻzbekiston, pronounced [ozbekiˈstɒn]), officially the Republic of Uzbekistan \n",
    "(Uzbek: Oʻzbekiston Respublikasi), is a doubly landlocked country in Central Asia. \n",
    "It is surrounded by five landlocked countries: Kazakhstan to the north; Kyrgyzstan \n",
    "to the northeast; Tajikistan to the southeast; Afghanistan to the south; and Turkmenistan \n",
    "to the south-west. Its capital and largest city is Tashkent. Uzbekistan is part of the \n",
    "Turkic languages world, as well as a member of the Organization of Turkic States. \n",
    "Uzbek language is the majority-spoken language in Uzbekistan. Islam is the predominant \n",
    "religion in Uzbekistan, most Uzbeks being Sunni Muslims.[15]\n",
    "\n",
    "The first recorded settlers in what is now Uzbekistan were Eastern Iranian nomads, \n",
    "known as Scythians, who founded kingdoms in Khwarazm (8th–6th centuries BC), Bactria \n",
    "(8th–6th centuries BC), Sogdia (8th–6th centuries BC), Fergana (3rd century BC – sixth century AD), \n",
    "and Margiana (3rd century BC – sixth century AD).[16] The area was incorporated into \n",
    "the Iranian Achaemenid Empire and, after a period of Macedonian rule, was ruled by the \n",
    "Iranian Parthian Empire and later by the Sasanian Empire, until the Muslim conquest \n",
    "of Persia in the seventh century. The Early Muslim conquests and the subsequent \n",
    "Samanid Empire converted most of the people, including the local ruling classes, \n",
    "into adherents of Islam. During this period, cities such as Samarkand, Khiva, and \n",
    "Bukhara began to grow rich from the Silk Road, and witnessed the emergence of \n",
    "leading figures of the Islamic Golden Age, including Muhammad al-Bukhari, Al-Tirmidhi, \n",
    "al Khwarizmi, al-Biruni, Avicenna and Omar Khayyam. The local Khwarazmian dynasty and \n",
    "Central Asia as a whole were decimated by the Mongol invasion in the 13th century, \n",
    "after which the region became dominated by Turkic peoples. The city of Shahrisabz was\n",
    "the birthplace of the Turco-Mongol conqueror Timur (Tamerlane), who in the 14th \n",
    "century established the Timurid Empire and was proclaimed the Supreme Emir of Turan \n",
    "with his capital in Samarkand, which became a centre of science under the rule of \n",
    "Ulugh Beg, giving birth to the Timurid Renaissance. The territories of the Timurid \n",
    "dynasty were conquered by Uzbek Shaybanids in the 16th century, moving the centre of \n",
    "power to Bukhara. The region was split into three states: the Khanate of Khiva, Khanate \n",
    "of Kokand and Emirate of Bukhara. Conquests by Emperor Babur towards the east led to \n",
    "the foundation of India's newest invasions as Mughal Empire. All of Central Asia was \n",
    "gradually incorporated into the Russian Empire during the 19th century, with Tashkent \n",
    "becoming the political center of Russian Turkestan. In 1924, national delimitation created \n",
    "the Uzbek Soviet Socialist Republic as an independent republic within the Soviet Union. \n",
    "Following the dissolution of the Soviet Union, it declared independence as the Republic of \n",
    "Uzbekistan on 31 August 1991.\n",
    "\"\"\""
   ]
  },
  {
   "cell_type": "code",
   "execution_count": 20,
   "id": "fe919762",
   "metadata": {},
   "outputs": [
    {
     "name": "stdout",
     "output_type": "stream",
     "text": [
      "\n",
      "Uzbekistan (UK: /ʊzˌbɛkɪˈstɑːn, ʌz-, -ˈstæn/, US: /ʊzˈbɛkɪstæn, -stɑːn/;[13][14] Uzbek: \n",
      "Oʻzbekiston, pronounced [ozbekiˈstɒn]), officially the Republic of Uzbekistan \n",
      "(Uzbek: Oʻzbekiston Respublikasi), is a doubly landlocked country in Central Asia. \n",
      "It is surrounded by five landlocked countries: Kazakhstan to the north; Kyrgyzstan \n",
      "to the northeast; Tajikistan to the southeast; Afghanistan to the south; and Turkmenistan \n",
      "to the south-west. Its capital and largest city is Tashkent. Uzbekistan is part of the \n",
      "Turkic languages world, as well as a member of the Organization of Turkic States. \n",
      "Uzbek language is the majority-spoken language in Uzbekistan. Islam is the predominant \n",
      "religion in Uzbekistan, most Uzbeks being Sunni Muslims.[15]\n",
      "\n",
      "The first recorded settlers in what is now Uzbekistan were Eastern Iranian nomads, \n",
      "known as Scythians, who founded kingdoms in Khwarazm (8th–6th centuries BC), Bactria \n",
      "(8th–6th centuries BC), Sogdia (8th–6th centuries BC), Fergana (3rd century BC – sixth century AD), \n",
      "and Margiana (3rd century BC – sixth century AD).[16] The area was incorporated into \n",
      "the Iranian Achaemenid Empire and, after a period of Macedonian rule, was ruled by the \n",
      "Iranian Parthian Empire and later by the Sasanian Empire, until the Muslim conquest \n",
      "of Persia in the seventh century. The Early Muslim conquests and the subsequent \n",
      "Samanid Empire converted most of the people, including the local ruling classes, \n",
      "into adherents of Islam. During this period, cities such as Samarkand, Khiva, and \n",
      "Bukhara began to grow rich from the Silk Road, and witnessed the emergence of \n",
      "leading figures of the Islamic Golden Age, including Muhammad al-Bukhari, Al-Tirmidhi, \n",
      "al Khwarizmi, al-Biruni, Avicenna and Omar Khayyam. The local Khwarazmian dynasty and \n",
      "Central Asia as a whole were decimated by the Mongol invasion in the 13th century, \n",
      "after which the region became dominated by Turkic peoples. The city of Shahrisabz was\n",
      "the birthplace of the Turco-Mongol conqueror Timur (Tamerlane), who in the 14th \n",
      "century established the Timurid Empire and was proclaimed the Supreme Emir of Turan \n",
      "with his capital in Samarkand, which became a centre of science under the rule of \n",
      "Ulugh Beg, giving birth to the Timurid Renaissance. The territories of the Timurid \n",
      "dynasty were conquered by Uzbek Shaybanids in the 16th century, moving the centre of \n",
      "power to Bukhara. The region was split into three states: the Khanate of Khiva, Khanate \n",
      "of Kokand and Emirate of Bukhara. Conquests by Emperor Babur towards the east led to \n",
      "the foundation of India's newest invasions as Mughal Empire. All of Central Asia was \n",
      "gradually incorporated into the Russian Empire during the 19th century, with Tashkent \n",
      "becoming the political center of Russian Turkestan. In 1924, national delimitation created \n",
      "the Uzbek Soviet Socialist Republic as an independent republic within the Soviet Union. \n",
      "Following the dissolution of the Soviet Union, it declared independence as the Republic of \n",
      "Uzbekistan on 31 August 1991.\n",
      "\n"
     ]
    }
   ],
   "source": [
    "print(string_5)"
   ]
  },
  {
   "cell_type": "code",
   "execution_count": 21,
   "id": "e630100e",
   "metadata": {},
   "outputs": [
    {
     "data": {
      "text/plain": [
       "'\\n'"
      ]
     },
     "execution_count": 21,
     "metadata": {},
     "output_type": "execute_result"
    }
   ],
   "source": [
    "string_5[0]"
   ]
  },
  {
   "cell_type": "markdown",
   "id": "158c5ae9",
   "metadata": {},
   "source": [
    "**`count`**"
   ]
  },
  {
   "cell_type": "code",
   "execution_count": 22,
   "id": "41975542",
   "metadata": {},
   "outputs": [
    {
     "data": {
      "text/plain": [
       "13"
      ]
     },
     "execution_count": 22,
     "metadata": {},
     "output_type": "execute_result"
    }
   ],
   "source": [
    "string_5.count(\"Uzbek\")"
   ]
  },
  {
   "cell_type": "code",
   "execution_count": 23,
   "id": "850b9b02",
   "metadata": {},
   "outputs": [
    {
     "data": {
      "text/plain": [
       "12"
      ]
     },
     "execution_count": 23,
     "metadata": {},
     "output_type": "execute_result"
    }
   ],
   "source": [
    "string_5.count(\"A\")"
   ]
  },
  {
   "cell_type": "code",
   "execution_count": 24,
   "id": "180b86a2",
   "metadata": {},
   "outputs": [
    {
     "data": {
      "text/plain": [
       "1"
      ]
     },
     "execution_count": 24,
     "metadata": {},
     "output_type": "execute_result"
    }
   ],
   "source": [
    "# s.count(\"value\", start, end)\n",
    "string_5.count(\"Uzbek\",2,90)"
   ]
  },
  {
   "cell_type": "markdown",
   "id": "ca7c541a",
   "metadata": {},
   "source": [
    "**`find`**"
   ]
  },
  {
   "cell_type": "code",
   "execution_count": 25,
   "id": "190c8669",
   "metadata": {},
   "outputs": [
    {
     "data": {
      "text/plain": [
       "1"
      ]
     },
     "execution_count": 25,
     "metadata": {},
     "output_type": "execute_result"
    }
   ],
   "source": [
    "string_5.find(\"Uzbek\")"
   ]
  },
  {
   "cell_type": "code",
   "execution_count": 26,
   "id": "a7a37d33",
   "metadata": {},
   "outputs": [
    {
     "data": {
      "text/plain": [
       "82"
      ]
     },
     "execution_count": 26,
     "metadata": {},
     "output_type": "execute_result"
    }
   ],
   "source": [
    "string_5.find(\"Uzbek\",2,90)"
   ]
  },
  {
   "cell_type": "code",
   "execution_count": 27,
   "id": "009a7324",
   "metadata": {},
   "outputs": [
    {
     "data": {
      "text/plain": [
       "-1"
      ]
     },
     "execution_count": 27,
     "metadata": {},
     "output_type": "execute_result"
    }
   ],
   "source": [
    "string_5.find(\"TTt\",2,90)"
   ]
  },
  {
   "cell_type": "markdown",
   "id": "33c6fa01",
   "metadata": {},
   "source": [
    "**`index`**"
   ]
  },
  {
   "cell_type": "code",
   "execution_count": 28,
   "id": "5954f389",
   "metadata": {},
   "outputs": [
    {
     "data": {
      "text/plain": [
       "1"
      ]
     },
     "execution_count": 28,
     "metadata": {},
     "output_type": "execute_result"
    }
   ],
   "source": [
    "string_5.index(\"Uzbek\")"
   ]
  },
  {
   "cell_type": "code",
   "execution_count": 29,
   "id": "4cec1c38",
   "metadata": {},
   "outputs": [
    {
     "data": {
      "text/plain": [
       "82"
      ]
     },
     "execution_count": 29,
     "metadata": {},
     "output_type": "execute_result"
    }
   ],
   "source": [
    "string_5.index(\"Uzbek\",2,90)"
   ]
  },
  {
   "cell_type": "code",
   "execution_count": 30,
   "id": "1d0e2892",
   "metadata": {},
   "outputs": [
    {
     "ename": "ValueError",
     "evalue": "substring not found",
     "output_type": "error",
     "traceback": [
      "\u001b[0;31m---------------------------------------------------------------------------\u001b[0m",
      "\u001b[0;31mValueError\u001b[0m                                Traceback (most recent call last)",
      "Input \u001b[0;32mIn [30]\u001b[0m, in \u001b[0;36m<cell line: 1>\u001b[0;34m()\u001b[0m\n\u001b[0;32m----> 1\u001b[0m \u001b[43mstring_5\u001b[49m\u001b[38;5;241;43m.\u001b[39;49m\u001b[43mindex\u001b[49m\u001b[43m(\u001b[49m\u001b[38;5;124;43m\"\u001b[39;49m\u001b[38;5;124;43mTTt\u001b[39;49m\u001b[38;5;124;43m\"\u001b[39;49m\u001b[43m,\u001b[49m\u001b[38;5;241;43m2\u001b[39;49m\u001b[43m,\u001b[49m\u001b[38;5;241;43m90\u001b[39;49m\u001b[43m)\u001b[49m\n",
      "\u001b[0;31mValueError\u001b[0m: substring not found"
     ]
    }
   ],
   "source": [
    "string_5.index(\"TTt\",2,90)"
   ]
  },
  {
   "cell_type": "markdown",
   "id": "23ec8858",
   "metadata": {},
   "source": [
    "**`capitalize`**"
   ]
  },
  {
   "cell_type": "code",
   "execution_count": 31,
   "id": "7bb56e59",
   "metadata": {},
   "outputs": [
    {
     "data": {
      "text/plain": [
       "'Hello'"
      ]
     },
     "execution_count": 31,
     "metadata": {},
     "output_type": "execute_result"
    }
   ],
   "source": [
    "string_6 = \"hello\"\n",
    "string_6.capitalize()"
   ]
  },
  {
   "cell_type": "markdown",
   "id": "48d3f34f",
   "metadata": {},
   "source": [
    "**`upper`**"
   ]
  },
  {
   "cell_type": "code",
   "execution_count": 32,
   "id": "43e1aa26",
   "metadata": {},
   "outputs": [
    {
     "data": {
      "text/plain": [
       "'HELLO'"
      ]
     },
     "execution_count": 32,
     "metadata": {},
     "output_type": "execute_result"
    }
   ],
   "source": [
    "string_6 = \"hello\"\n",
    "string_6.upper()"
   ]
  },
  {
   "cell_type": "markdown",
   "id": "bfbcf3cf",
   "metadata": {},
   "source": [
    "**`lower`**"
   ]
  },
  {
   "cell_type": "code",
   "execution_count": 33,
   "id": "be7ae2c1",
   "metadata": {},
   "outputs": [
    {
     "name": "stdout",
     "output_type": "stream",
     "text": [
      "hello\n",
      "HELLO\n"
     ]
    }
   ],
   "source": [
    "string_6 = \"HELLO\"\n",
    "print(string_6.lower())\n",
    "print(string_6)"
   ]
  },
  {
   "cell_type": "markdown",
   "id": "4f671c5e",
   "metadata": {},
   "source": [
    "**`center`**"
   ]
  },
  {
   "cell_type": "code",
   "execution_count": 34,
   "id": "13eba8e9",
   "metadata": {},
   "outputs": [
    {
     "data": {
      "text/plain": [
       "'                                            Hello Dunyo                                             '"
      ]
     },
     "execution_count": 34,
     "metadata": {},
     "output_type": "execute_result"
    }
   ],
   "source": [
    "string_7 = \"Hello Dunyo\"\n",
    "string_7.center(100)"
   ]
  },
  {
   "cell_type": "markdown",
   "id": "75cf1aad",
   "metadata": {},
   "source": [
    "**`replace`**"
   ]
  },
  {
   "cell_type": "code",
   "execution_count": 35,
   "id": "0f747192",
   "metadata": {},
   "outputs": [
    {
     "name": "stdout",
     "output_type": "stream",
     "text": [
      "Salom Dunyo\n",
      "Hello Dunyo\n"
     ]
    }
   ],
   "source": [
    "string_8 = \"Hello Dunyo\"\n",
    "print(string_8.replace(\"Hello\",\"Salom\"))\n",
    "print(string_8)"
   ]
  },
  {
   "cell_type": "code",
   "execution_count": 36,
   "id": "a0e4180c",
   "metadata": {},
   "outputs": [
    {
     "name": "stdout",
     "output_type": "stream",
     "text": [
      "\n",
      "Uzbekistan (UK: /ʊzˌbɛkɪˈstɑːn, ʌz-, -ˈstæn/, US: /ʊzˈbɛkɪstæn, -stɑːn/;[13][14] Uzbek: \n",
      "Oʻzbekiston, pronounced [ozbekiˈstɒn]), officially the Republic of Uzbekistan \n",
      "(Uzbek: Oʻzbekiston Respublikasi), is a doubly landlocked country in Central Asia. \n",
      "It is surrounded by five landlocked countries: Kazakhstan to the north; Kyrgyzstan \n",
      "to the northeast; Tajikistan to the southeast; Afghanistan to the south; and Turkmenistan \n",
      "to the south-west. Its capital and largest city is Tashkent. Uzbekistan is part of the \n",
      "Turkic languages world, as well as a member of the Organization of Turkic States. \n",
      "Uzbek language is the majority-spoken language in Uzbekistan. Islam is the predominant \n",
      "religion in Uzbekistan, most Uzbeks being Sunni Muslims.[15]\n",
      "\n",
      "The first recorded settlers in what is now Uzbekistan were Eastern Iranian nomads, \n",
      "known as Scythians, who founded kingdoms in Khwarazm (8th–6th centuries BC), Bactria \n",
      "(8th–6th centuries BC), Sogdia (8th–6th centuries BC), Fergana (3rd century BC – sixth century AD), \n",
      "and Margiana (3rd century BC – sixth century AD).[16] The area was incorporated into \n",
      "the Iranian Achaemenid Empire and, after a period of Macedonian rule, was ruled by the \n",
      "Iranian Parthian Empire and later by the Sasanian Empire, until the Muslim conquest \n",
      "of Persia in the seventh century. The Early Muslim conquests and the subsequent \n",
      "Samanid Empire converted most of the people, including the local ruling classes, \n",
      "into adherents of Islam. During this period, cities such as Samarkand, Khiva, and \n",
      "Bukhara began to grow rich from the Silk Road, and witnessed the emergence of \n",
      "leading figures of the Islamic Golden Age, including Muhammad al-Bukhari, Al-Tirmidhi, \n",
      "al Khwarizmi, al-Biruni, Avicenna and Omar Khayyam. The local Khwarazmian dynasty and \n",
      "Central Asia as a whole were decimated by the Mongol invasion in the 13th century, \n",
      "after which the region became dominated by Turkic peoples. The city of Shahrisabz was\n",
      "the birthplace of the Turco-Mongol conqueror Timur (Tamerlane), who in the 14th \n",
      "century established the Timurid Empire and was proclaimed the Supreme Emir of Turan \n",
      "with his capital in Samarkand, which became a centre of science under the rule of \n",
      "Ulugh Beg, giving birth to the Timurid Renaissance. The territories of the Timurid \n",
      "dynasty were conquered by Uzbek Shaybanids in the 16th century, moving the centre of \n",
      "power to Bukhara. The region was split into three states: the Khanate of Khiva, Khanate \n",
      "of Kokand and Emirate of Bukhara. Conquests by Emperor Babur towards the east led to \n",
      "the foundation of India's newest invasions as Mughal Empire. All of Central Asia was \n",
      "gradually incorporated into the Russian Empire during the 19th century, with Tashkent \n",
      "becoming the political center of Russian Turkestan. In 1924, national delimitation created \n",
      "the Uzbek Soviet Socialist Republic as an independent republic within the Soviet Union. \n",
      "Following the dissolution of the Soviet Union, it declared independence as the Republic of \n",
      "Uzbekistan on 31 August 1991.\n",
      "\n"
     ]
    }
   ],
   "source": [
    "print(string_5)"
   ]
  },
  {
   "cell_type": "markdown",
   "id": "cb91e1c5",
   "metadata": {},
   "source": [
    "**`strip`**"
   ]
  },
  {
   "cell_type": "code",
   "execution_count": 37,
   "id": "468dfa58",
   "metadata": {},
   "outputs": [
    {
     "data": {
      "text/plain": [
       "'Salom  hello  S'"
      ]
     },
     "execution_count": 37,
     "metadata": {},
     "output_type": "execute_result"
    }
   ],
   "source": [
    "string_9 = \"   Salom  hello  S \"\n",
    "string_9.strip()"
   ]
  },
  {
   "cell_type": "markdown",
   "id": "c3d5017b",
   "metadata": {},
   "source": [
    "**`rstrip`**"
   ]
  },
  {
   "cell_type": "code",
   "execution_count": 38,
   "id": "ee11ffcd",
   "metadata": {},
   "outputs": [
    {
     "data": {
      "text/plain": [
       "'   Salom  hello  S'"
      ]
     },
     "execution_count": 38,
     "metadata": {},
     "output_type": "execute_result"
    }
   ],
   "source": [
    "string_9 = \"   Salom  hello  S \"\n",
    "string_9.rstrip()"
   ]
  },
  {
   "cell_type": "markdown",
   "id": "e65d4710",
   "metadata": {},
   "source": [
    "**`lstrip`**"
   ]
  },
  {
   "cell_type": "code",
   "execution_count": 1,
   "id": "e5c1e056",
   "metadata": {},
   "outputs": [
    {
     "data": {
      "text/plain": [
       "'Salom  hello  S '"
      ]
     },
     "execution_count": 1,
     "metadata": {},
     "output_type": "execute_result"
    }
   ],
   "source": [
    "string_9 = \"   Salom  hello  S \"\n",
    "string_9.lstrip()"
   ]
  },
  {
   "cell_type": "markdown",
   "id": "b838d4ab",
   "metadata": {},
   "source": [
    "# Funksiyalar"
   ]
  },
  {
   "cell_type": "code",
   "execution_count": 2,
   "id": "8f0d320e",
   "metadata": {},
   "outputs": [
    {
     "data": {
      "text/plain": [
       "['__add__',\n",
       " '__class__',\n",
       " '__contains__',\n",
       " '__delattr__',\n",
       " '__dir__',\n",
       " '__doc__',\n",
       " '__eq__',\n",
       " '__format__',\n",
       " '__ge__',\n",
       " '__getattribute__',\n",
       " '__getitem__',\n",
       " '__getnewargs__',\n",
       " '__gt__',\n",
       " '__hash__',\n",
       " '__init__',\n",
       " '__init_subclass__',\n",
       " '__iter__',\n",
       " '__le__',\n",
       " '__len__',\n",
       " '__lt__',\n",
       " '__mod__',\n",
       " '__mul__',\n",
       " '__ne__',\n",
       " '__new__',\n",
       " '__reduce__',\n",
       " '__reduce_ex__',\n",
       " '__repr__',\n",
       " '__rmod__',\n",
       " '__rmul__',\n",
       " '__setattr__',\n",
       " '__sizeof__',\n",
       " '__str__',\n",
       " '__subclasshook__',\n",
       " 'capitalize',\n",
       " 'casefold',\n",
       " 'center',\n",
       " 'count',\n",
       " 'encode',\n",
       " 'endswith',\n",
       " 'expandtabs',\n",
       " 'find',\n",
       " 'format',\n",
       " 'format_map',\n",
       " 'index',\n",
       " 'isalnum',\n",
       " 'isalpha',\n",
       " 'isascii',\n",
       " 'isdecimal',\n",
       " 'isdigit',\n",
       " 'isidentifier',\n",
       " 'islower',\n",
       " 'isnumeric',\n",
       " 'isprintable',\n",
       " 'isspace',\n",
       " 'istitle',\n",
       " 'isupper',\n",
       " 'join',\n",
       " 'ljust',\n",
       " 'lower',\n",
       " 'lstrip',\n",
       " 'maketrans',\n",
       " 'partition',\n",
       " 'removeprefix',\n",
       " 'removesuffix',\n",
       " 'replace',\n",
       " 'rfind',\n",
       " 'rindex',\n",
       " 'rjust',\n",
       " 'rpartition',\n",
       " 'rsplit',\n",
       " 'rstrip',\n",
       " 'split',\n",
       " 'splitlines',\n",
       " 'startswith',\n",
       " 'strip',\n",
       " 'swapcase',\n",
       " 'title',\n",
       " 'translate',\n",
       " 'upper',\n",
       " 'zfill']"
      ]
     },
     "execution_count": 2,
     "metadata": {},
     "output_type": "execute_result"
    }
   ],
   "source": [
    "dir(str)"
   ]
  },
  {
   "cell_type": "markdown",
   "id": "13f6fbdf",
   "metadata": {},
   "source": [
    "**`split`**"
   ]
  },
  {
   "cell_type": "code",
   "execution_count": 3,
   "id": "8721964c",
   "metadata": {},
   "outputs": [
    {
     "data": {
      "text/plain": [
       "['654654', '89879-64564', '4645-78798']"
      ]
     },
     "execution_count": 3,
     "metadata": {},
     "output_type": "execute_result"
    }
   ],
   "source": [
    "a = \"654654+89879-64564+4645-78798\"\n",
    "a = a.split(\"+\")\n",
    "a"
   ]
  },
  {
   "cell_type": "code",
   "execution_count": 5,
   "id": "edf82bb3",
   "metadata": {},
   "outputs": [
    {
     "name": "stdout",
     "output_type": "stream",
     "text": [
      "a = salom dunyo\n"
     ]
    },
    {
     "data": {
      "text/plain": [
       "['salom', 'dunyo']"
      ]
     },
     "execution_count": 5,
     "metadata": {},
     "output_type": "execute_result"
    }
   ],
   "source": [
    "a = input(\"a = \")\n",
    "b = a.split()\n",
    "b"
   ]
  },
  {
   "cell_type": "code",
   "execution_count": 6,
   "id": "d0d6871e",
   "metadata": {},
   "outputs": [
    {
     "data": {
      "text/plain": [
       "['Salom ', 'hello']"
      ]
     },
     "execution_count": 6,
     "metadata": {},
     "output_type": "execute_result"
    }
   ],
   "source": [
    "a = \"\"\"Salom \n",
    "hello\"\"\"\n",
    "\n",
    "b = a.split(\"\\n\")\n",
    "b"
   ]
  },
  {
   "cell_type": "code",
   "execution_count": 7,
   "id": "6732230c",
   "metadata": {},
   "outputs": [
    {
     "data": {
      "text/plain": [
       "['Salom ', 'hello']"
      ]
     },
     "execution_count": 7,
     "metadata": {},
     "output_type": "execute_result"
    }
   ],
   "source": [
    "a = \"\"\"Salom \n",
    "hello\"\"\"\n",
    "\n",
    "b = a.splitlines()\n",
    "b"
   ]
  },
  {
   "cell_type": "code",
   "execution_count": 8,
   "id": "98804a45",
   "metadata": {},
   "outputs": [
    {
     "data": {
      "text/plain": [
       "['He', 'lo']"
      ]
     },
     "execution_count": 8,
     "metadata": {},
     "output_type": "execute_result"
    }
   ],
   "source": [
    "a = \"Hello\"\n",
    "b = a.split(\"l\",1)\n",
    "b"
   ]
  },
  {
   "cell_type": "markdown",
   "id": "624363fd",
   "metadata": {},
   "source": [
    "**`join`**"
   ]
  },
  {
   "cell_type": "code",
   "execution_count": 9,
   "id": "d527bc3b",
   "metadata": {},
   "outputs": [
    {
     "name": "stdout",
     "output_type": "stream",
     "text": [
      "Hello+Dunyo+Gamma\n"
     ]
    }
   ],
   "source": [
    "a = [\"Hello\",\"Dunyo\",\"Gamma\"]\n",
    "b = \"+\".join(a)\n",
    "print(b)"
   ]
  },
  {
   "cell_type": "code",
   "execution_count": 10,
   "id": "0832b7f9",
   "metadata": {},
   "outputs": [
    {
     "data": {
      "text/plain": [
       "'001'"
      ]
     },
     "execution_count": 10,
     "metadata": {},
     "output_type": "execute_result"
    }
   ],
   "source": [
    "a = \"1\".zfill(3)\n",
    "a"
   ]
  },
  {
   "cell_type": "code",
   "execution_count": 11,
   "id": "efdc5dd2",
   "metadata": {},
   "outputs": [
    {
     "data": {
      "text/plain": [
       "['1', '11', '2', '3', '4']"
      ]
     },
     "execution_count": 11,
     "metadata": {},
     "output_type": "execute_result"
    }
   ],
   "source": [
    "sorting = [\"1\",\"2\",\"3\",\"4\",\"11\"]\n",
    "sorting.sort()\n",
    "sorting"
   ]
  },
  {
   "cell_type": "markdown",
   "id": "bed009b8",
   "metadata": {},
   "source": [
    "**`swapcase()`**"
   ]
  },
  {
   "cell_type": "code",
   "execution_count": 12,
   "id": "f4e04542",
   "metadata": {},
   "outputs": [
    {
     "data": {
      "text/plain": [
       "'aSSALOMU aLAYLUM'"
      ]
     },
     "execution_count": 12,
     "metadata": {},
     "output_type": "execute_result"
    }
   ],
   "source": [
    "\"Assalomu Alaylum\".swapcase()"
   ]
  },
  {
   "cell_type": "markdown",
   "id": "0bd432f9",
   "metadata": {},
   "source": [
    "**`endswith()`**"
   ]
  },
  {
   "cell_type": "code",
   "execution_count": 13,
   "id": "8fb73e1d",
   "metadata": {},
   "outputs": [
    {
     "data": {
      "text/plain": [
       "True"
      ]
     },
     "execution_count": 13,
     "metadata": {},
     "output_type": "execute_result"
    }
   ],
   "source": [
    "a = \"Hello Dunyo\"\n",
    "a.endswith(\"Dunyo\")"
   ]
  },
  {
   "cell_type": "code",
   "execution_count": 14,
   "id": "1b17b286",
   "metadata": {},
   "outputs": [
    {
     "data": {
      "text/plain": [
       "True"
      ]
     },
     "execution_count": 14,
     "metadata": {},
     "output_type": "execute_result"
    }
   ],
   "source": [
    "a = \"Hello Dunyo\"\n",
    "a.endswith(\"o\")"
   ]
  },
  {
   "cell_type": "markdown",
   "id": "d72af222",
   "metadata": {},
   "source": [
    "**`isupper() islower()`**"
   ]
  },
  {
   "cell_type": "code",
   "execution_count": 15,
   "id": "e52ad0e4",
   "metadata": {},
   "outputs": [
    {
     "data": {
      "text/plain": [
       "True"
      ]
     },
     "execution_count": 15,
     "metadata": {},
     "output_type": "execute_result"
    }
   ],
   "source": [
    "a = \"Hello Dunyo\"\n",
    "a[0].isupper()"
   ]
  },
  {
   "cell_type": "code",
   "execution_count": 16,
   "id": "2e1729e8",
   "metadata": {},
   "outputs": [
    {
     "data": {
      "text/plain": [
       "False"
      ]
     },
     "execution_count": 16,
     "metadata": {},
     "output_type": "execute_result"
    }
   ],
   "source": [
    "a = \"Hello Dunyo\"\n",
    "a.isupper()"
   ]
  },
  {
   "cell_type": "markdown",
   "id": "1aefb32f",
   "metadata": {},
   "source": [
    "**`isnumeric(), isdigit(), isdecimal()`**"
   ]
  },
  {
   "cell_type": "code",
   "execution_count": 17,
   "id": "7854e412",
   "metadata": {},
   "outputs": [
    {
     "data": {
      "text/plain": [
       "True"
      ]
     },
     "execution_count": 17,
     "metadata": {},
     "output_type": "execute_result"
    }
   ],
   "source": [
    "a = \"111\"\n",
    "a.isdigit()"
   ]
  },
  {
   "cell_type": "code",
   "execution_count": 18,
   "id": "6e534da0",
   "metadata": {},
   "outputs": [
    {
     "data": {
      "text/plain": [
       "True"
      ]
     },
     "execution_count": 18,
     "metadata": {},
     "output_type": "execute_result"
    }
   ],
   "source": [
    "a.isnumeric()"
   ]
  },
  {
   "cell_type": "code",
   "execution_count": 19,
   "id": "307d2200",
   "metadata": {},
   "outputs": [
    {
     "data": {
      "text/plain": [
       "True"
      ]
     },
     "execution_count": 19,
     "metadata": {},
     "output_type": "execute_result"
    }
   ],
   "source": [
    "a.isdecimal()"
   ]
  },
  {
   "cell_type": "code",
   "execution_count": 20,
   "id": "eb6d8fbf",
   "metadata": {},
   "outputs": [
    {
     "data": {
      "text/plain": [
       "False"
      ]
     },
     "execution_count": 20,
     "metadata": {},
     "output_type": "execute_result"
    }
   ],
   "source": [
    "a = \"111.1\"\n",
    "a.isdigit()"
   ]
  },
  {
   "cell_type": "code",
   "execution_count": 21,
   "id": "7fe6eff6",
   "metadata": {},
   "outputs": [
    {
     "data": {
      "text/plain": [
       "False"
      ]
     },
     "execution_count": 21,
     "metadata": {},
     "output_type": "execute_result"
    }
   ],
   "source": [
    "a.isnumeric()"
   ]
  },
  {
   "cell_type": "code",
   "execution_count": 22,
   "id": "81a825a8",
   "metadata": {},
   "outputs": [
    {
     "data": {
      "text/plain": [
       "False"
      ]
     },
     "execution_count": 22,
     "metadata": {},
     "output_type": "execute_result"
    }
   ],
   "source": [
    "a.isdecimal()"
   ]
  },
  {
   "cell_type": "code",
   "execution_count": 23,
   "id": "b98b790d",
   "metadata": {},
   "outputs": [
    {
     "data": {
      "text/plain": [
       "True"
      ]
     },
     "execution_count": 23,
     "metadata": {},
     "output_type": "execute_result"
    }
   ],
   "source": [
    "a[0].isdigit()"
   ]
  },
  {
   "cell_type": "code",
   "execution_count": 24,
   "id": "0bb45184",
   "metadata": {},
   "outputs": [
    {
     "data": {
      "text/plain": [
       "True"
      ]
     },
     "execution_count": 24,
     "metadata": {},
     "output_type": "execute_result"
    }
   ],
   "source": [
    "a = \"١٢٣\"\n",
    "a.isnumeric()"
   ]
  },
  {
   "cell_type": "code",
   "execution_count": 25,
   "id": "7e7e7907",
   "metadata": {},
   "outputs": [
    {
     "data": {
      "text/plain": [
       "True"
      ]
     },
     "execution_count": 25,
     "metadata": {},
     "output_type": "execute_result"
    }
   ],
   "source": [
    "a.isdigit()"
   ]
  },
  {
   "cell_type": "code",
   "execution_count": 26,
   "id": "d16ae47a",
   "metadata": {},
   "outputs": [
    {
     "data": {
      "text/plain": [
       "True"
      ]
     },
     "execution_count": 26,
     "metadata": {},
     "output_type": "execute_result"
    }
   ],
   "source": [
    "a.isdecimal()"
   ]
  },
  {
   "cell_type": "markdown",
   "id": "547ac255",
   "metadata": {},
   "source": [
    "**`issalpha`**"
   ]
  },
  {
   "cell_type": "code",
   "execution_count": 27,
   "id": "0026a46c",
   "metadata": {},
   "outputs": [
    {
     "data": {
      "text/plain": [
       "True"
      ]
     },
     "execution_count": 27,
     "metadata": {},
     "output_type": "execute_result"
    }
   ],
   "source": [
    "a = \"Salom\"\n",
    "a.isalpha()"
   ]
  },
  {
   "cell_type": "code",
   "execution_count": 28,
   "id": "ab3bf34f",
   "metadata": {},
   "outputs": [
    {
     "data": {
      "text/plain": [
       "False"
      ]
     },
     "execution_count": 28,
     "metadata": {},
     "output_type": "execute_result"
    }
   ],
   "source": [
    "a = \"Salom1\"\n",
    "a.isalpha()"
   ]
  },
  {
   "cell_type": "markdown",
   "id": "642df3bf",
   "metadata": {},
   "source": [
    "**`isalnum`**"
   ]
  },
  {
   "cell_type": "code",
   "execution_count": 29,
   "id": "dac82cfc",
   "metadata": {},
   "outputs": [
    {
     "data": {
      "text/plain": [
       "True"
      ]
     },
     "execution_count": 29,
     "metadata": {},
     "output_type": "execute_result"
    }
   ],
   "source": [
    "a = \"Salom131241\"\n",
    "a.isalnum()"
   ]
  },
  {
   "cell_type": "code",
   "execution_count": 30,
   "id": "11dd4352",
   "metadata": {},
   "outputs": [
    {
     "data": {
      "text/plain": [
       "False"
      ]
     },
     "execution_count": 30,
     "metadata": {},
     "output_type": "execute_result"
    }
   ],
   "source": [
    "a = \"Salom131241#\"\n",
    "a.isalnum()"
   ]
  },
  {
   "cell_type": "code",
   "execution_count": 31,
   "id": "676ec5dc",
   "metadata": {},
   "outputs": [
    {
     "data": {
      "text/plain": [
       "False"
      ]
     },
     "execution_count": 31,
     "metadata": {},
     "output_type": "execute_result"
    }
   ],
   "source": [
    "\"л\".isascii()"
   ]
  },
  {
   "cell_type": "code",
   "execution_count": 32,
   "id": "2211eb4c",
   "metadata": {},
   "outputs": [
    {
     "data": {
      "text/plain": [
       "True"
      ]
     },
     "execution_count": 32,
     "metadata": {},
     "output_type": "execute_result"
    }
   ],
   "source": [
    "\"l\".isascii()"
   ]
  },
  {
   "cell_type": "code",
   "execution_count": 33,
   "id": "538b5b3e",
   "metadata": {},
   "outputs": [
    {
     "name": "stdout",
     "output_type": "stream",
     "text": [
      "0-\u0000\t1-\u0001\t2-\u0002\t3-\u0003\t4-\u0004\t5-\u0005\t6-\u0006\t7-\u0007\t8-\b\t9-\t\t10-\n",
      "\t11-\u000b",
      "\t12-\f",
      "\t13-\r",
      "\t14-\u000e\t15-\u000f\t16-\u0010\t17-\u0011\t18-\u0012\t19-\u0013\t20-\u0014\t21-\u0015\t22-\u0016\t23-\u0017\t24-\u0018\t25-\u0019\t26-\u001a\t27-\u001b\t28-\u001c",
      "\t29-\u001d",
      "\t30-\u001e",
      "\t31-\u001f\t32- \t33-!\t34-\"\t35-#\t36-$\t37-%\t38-&\t39-'\t40-(\t41-)\t42-*\t43-+\t44-,\t45--\t46-.\t47-/\t48-0\t49-1\t50-2\t51-3\t52-4\t53-5\t54-6\t55-7\t56-8\t57-9\t58-:\t59-;\t60-<\t61-=\t62->\t63-?\t64-@\t65-A\t66-B\t67-C\t68-D\t69-E\t70-F\t71-G\t72-H\t73-I\t74-J\t75-K\t76-L\t77-M\t78-N\t79-O\t80-P\t81-Q\t82-R\t83-S\t84-T\t85-U\t86-V\t87-W\t88-X\t89-Y\t90-Z\t91-[\t92-\\\t93-]\t94-^\t95-_\t96-`\t97-a\t98-b\t99-c\t100-d\t101-e\t102-f\t103-g\t104-h\t105-i\t106-j\t107-k\t108-l\t109-m\t110-n\t111-o\t112-p\t113-q\t114-r\t115-s\t116-t\t117-u\t118-v\t119-w\t120-x\t121-y\t122-z\t123-{\t124-|\t125-}\t126-~\t"
     ]
    }
   ],
   "source": [
    "for i in range(0,127):\n",
    "    print(i,chr(i),sep=\"-\",end=\"\\t\")"
   ]
  },
  {
   "cell_type": "code",
   "execution_count": 34,
   "id": "0bc6e7ba",
   "metadata": {},
   "outputs": [
    {
     "name": "stdout",
     "output_type": "stream",
     "text": [
      "0-False\t1-False\t2-False\t3-False\t4-False\t5-False\t6-False\t7-False\t8-False\t9-False\t10-False\t11-False\t12-False\t13-False\t14-False\t15-False\t16-False\t17-False\t18-False\t19-False\t20-False\t21-False\t22-False\t23-False\t24-False\t25-False\t26-False\t27-False\t28-False\t29-False\t30-False\t31-False\t32-True\t33-True\t34-True\t35-True\t36-True\t37-True\t38-True\t39-True\t40-True\t41-True\t42-True\t43-True\t44-True\t45-True\t46-True\t47-True\t48-True\t49-True\t50-True\t51-True\t52-True\t53-True\t54-True\t55-True\t56-True\t57-True\t58-True\t59-True\t60-True\t61-True\t62-True\t63-True\t64-True\t65-True\t66-True\t67-True\t68-True\t69-True\t70-True\t71-True\t72-True\t73-True\t74-True\t75-True\t76-True\t77-True\t78-True\t79-True\t80-True\t81-True\t82-True\t83-True\t84-True\t85-True\t86-True\t87-True\t88-True\t89-True\t90-True\t91-True\t92-True\t93-True\t94-True\t95-True\t96-True\t97-True\t98-True\t99-True\t100-True\t101-True\t102-True\t103-True\t104-True\t105-True\t106-True\t107-True\t108-True\t109-True\t110-True\t111-True\t112-True\t113-True\t114-True\t115-True\t116-True\t117-True\t118-True\t119-True\t120-True\t121-True\t122-True\t123-True\t124-True\t125-True\t126-True\t"
     ]
    }
   ],
   "source": [
    "for i in range(0,127):\n",
    "    print(i,chr(i).isprintable(),sep=\"-\",end=\"\\t\")"
   ]
  },
  {
   "cell_type": "code",
   "execution_count": null,
   "id": "1dd33a7d",
   "metadata": {},
   "outputs": [],
   "source": []
  }
 ],
 "metadata": {
  "kernelspec": {
   "display_name": "Python 3 (ipykernel)",
   "language": "python",
   "name": "python3"
  },
  "language_info": {
   "codemirror_mode": {
    "name": "ipython",
    "version": 3
   },
   "file_extension": ".py",
   "mimetype": "text/x-python",
   "name": "python",
   "nbconvert_exporter": "python",
   "pygments_lexer": "ipython3",
   "version": "3.9.12"
  }
 },
 "nbformat": 4,
 "nbformat_minor": 5
}
