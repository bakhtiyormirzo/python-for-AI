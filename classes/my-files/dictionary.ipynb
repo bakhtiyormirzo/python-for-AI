{
 "cells": [
  {
   "cell_type": "markdown",
   "id": "13d196ed",
   "metadata": {},
   "source": [
    "# Doctionary"
   ]
  },
  {
   "cell_type": "code",
   "execution_count": 1,
   "id": "59ee2eed",
   "metadata": {},
   "outputs": [
    {
     "data": {
      "text/plain": [
       "['__class__',\n",
       " '__class_getitem__',\n",
       " '__contains__',\n",
       " '__delattr__',\n",
       " '__delitem__',\n",
       " '__dir__',\n",
       " '__doc__',\n",
       " '__eq__',\n",
       " '__format__',\n",
       " '__ge__',\n",
       " '__getattribute__',\n",
       " '__getitem__',\n",
       " '__gt__',\n",
       " '__hash__',\n",
       " '__init__',\n",
       " '__init_subclass__',\n",
       " '__ior__',\n",
       " '__iter__',\n",
       " '__le__',\n",
       " '__len__',\n",
       " '__lt__',\n",
       " '__ne__',\n",
       " '__new__',\n",
       " '__or__',\n",
       " '__reduce__',\n",
       " '__reduce_ex__',\n",
       " '__repr__',\n",
       " '__reversed__',\n",
       " '__ror__',\n",
       " '__setattr__',\n",
       " '__setitem__',\n",
       " '__sizeof__',\n",
       " '__str__',\n",
       " '__subclasshook__',\n",
       " 'clear',\n",
       " 'copy',\n",
       " 'fromkeys',\n",
       " 'get',\n",
       " 'items',\n",
       " 'keys',\n",
       " 'pop',\n",
       " 'popitem',\n",
       " 'setdefault',\n",
       " 'update',\n",
       " 'values']"
      ]
     },
     "execution_count": 1,
     "metadata": {},
     "output_type": "execute_result"
    }
   ],
   "source": [
    "dir(dict)"
   ]
  },
  {
   "cell_type": "markdown",
   "id": "4f0f5e59",
   "metadata": {},
   "source": [
    "## Dictinoary yasash\n",
    "* {Key : Value}\n",
    "* dict()\n",
    "* fromkeys()"
   ]
  },
  {
   "cell_type": "code",
   "execution_count": 2,
   "id": "654699b5",
   "metadata": {},
   "outputs": [
    {
     "data": {
      "text/plain": [
       "{'Salom': 1, 'Hello': 2}"
      ]
     },
     "execution_count": 2,
     "metadata": {},
     "output_type": "execute_result"
    }
   ],
   "source": [
    "dict_1 = {\n",
    "    \"Salom\" : 1,\n",
    "    \"Hello\" : 2\n",
    "}\n",
    "dict_1"
   ]
  },
  {
   "cell_type": "code",
   "execution_count": 3,
   "id": "5eea776d",
   "metadata": {},
   "outputs": [
    {
     "data": {
      "text/plain": [
       "1"
      ]
     },
     "execution_count": 3,
     "metadata": {},
     "output_type": "execute_result"
    }
   ],
   "source": [
    "dict_1[\"Salom\"]"
   ]
  },
  {
   "cell_type": "code",
   "execution_count": 4,
   "id": "65145700",
   "metadata": {},
   "outputs": [
    {
     "data": {
      "text/plain": [
       "{'salom': 1, 'hello': 2}"
      ]
     },
     "execution_count": 4,
     "metadata": {},
     "output_type": "execute_result"
    }
   ],
   "source": [
    "dict_2 = dict(salom = 1, hello = 2)\n",
    "dict_2"
   ]
  },
  {
   "cell_type": "code",
   "execution_count": 5,
   "id": "80348525",
   "metadata": {},
   "outputs": [
    {
     "data": {
      "text/plain": [
       "1"
      ]
     },
     "execution_count": 5,
     "metadata": {},
     "output_type": "execute_result"
    }
   ],
   "source": [
    "dict_2[\"salom\"]"
   ]
  },
  {
   "cell_type": "code",
   "execution_count": 6,
   "id": "ef9707dd",
   "metadata": {},
   "outputs": [
    {
     "data": {
      "text/plain": [
       "{'salom': 1, 'hello': 2}"
      ]
     },
     "execution_count": 6,
     "metadata": {},
     "output_type": "execute_result"
    }
   ],
   "source": [
    "dict_7 = dict(((\"salom\",1),(\"hello\",2)))\n",
    "dict_7"
   ]
  },
  {
   "cell_type": "code",
   "execution_count": 7,
   "id": "7d925d67",
   "metadata": {},
   "outputs": [
    {
     "data": {
      "text/plain": [
       "{'key1': 0, 'key2': 0}"
      ]
     },
     "execution_count": 7,
     "metadata": {},
     "output_type": "execute_result"
    }
   ],
   "source": [
    "data_1 = ('key1','key2')\n",
    "data_2 = 0\n",
    "dict_6 = dict.fromkeys(data_1,data_2)\n",
    "dict_6"
   ]
  },
  {
   "cell_type": "markdown",
   "id": "7dd2f312",
   "metadata": {},
   "source": [
    "## Dictionary ga murojaat"
   ]
  },
  {
   "cell_type": "code",
   "execution_count": 8,
   "id": "3240a84a",
   "metadata": {},
   "outputs": [
    {
     "data": {
      "text/plain": [
       "{'Salom': 1, 'Hello': 2}"
      ]
     },
     "execution_count": 8,
     "metadata": {},
     "output_type": "execute_result"
    }
   ],
   "source": [
    "dict_3 = {\n",
    "    \"Salom\" : 1,\n",
    "    \"Hello\" : 2\n",
    "}\n",
    "dict_3"
   ]
  },
  {
   "cell_type": "code",
   "execution_count": 9,
   "id": "8add8db3",
   "metadata": {},
   "outputs": [
    {
     "data": {
      "text/plain": [
       "1"
      ]
     },
     "execution_count": 9,
     "metadata": {},
     "output_type": "execute_result"
    }
   ],
   "source": [
    "dict_3[\"Salom\"]"
   ]
  },
  {
   "cell_type": "code",
   "execution_count": 10,
   "id": "ba7b59e5",
   "metadata": {},
   "outputs": [
    {
     "ename": "TypeError",
     "evalue": "unhashable type: 'slice'",
     "output_type": "error",
     "traceback": [
      "\u001b[0;31m---------------------------------------------------------------------------\u001b[0m",
      "\u001b[0;31mTypeError\u001b[0m                                 Traceback (most recent call last)",
      "Input \u001b[0;32mIn [10]\u001b[0m, in \u001b[0;36m<cell line: 1>\u001b[0;34m()\u001b[0m\n\u001b[0;32m----> 1\u001b[0m \u001b[43mdict_3\u001b[49m\u001b[43m[\u001b[49m\u001b[38;5;124;43m\"\u001b[39;49m\u001b[38;5;124;43mSalom\u001b[39;49m\u001b[38;5;124;43m\"\u001b[39;49m\u001b[43m:\u001b[49m\u001b[43m]\u001b[49m\n",
      "\u001b[0;31mTypeError\u001b[0m: unhashable type: 'slice'"
     ]
    }
   ],
   "source": [
    "dict_3[\"Salom\":]"
   ]
  },
  {
   "cell_type": "code",
   "execution_count": 11,
   "id": "5ccbed42",
   "metadata": {},
   "outputs": [
    {
     "name": "stdout",
     "output_type": "stream",
     "text": [
      "Salom\n",
      "Hello\n"
     ]
    }
   ],
   "source": [
    "for i in dict_3:\n",
    "    print(i)"
   ]
  },
  {
   "cell_type": "code",
   "execution_count": 12,
   "id": "d2a99150",
   "metadata": {},
   "outputs": [
    {
     "name": "stdout",
     "output_type": "stream",
     "text": [
      "1\n",
      "2\n"
     ]
    }
   ],
   "source": [
    "for i in dict_3:\n",
    "    print(dict_3[i])"
   ]
  },
  {
   "cell_type": "markdown",
   "id": "a6204851",
   "metadata": {},
   "source": [
    "## Dictionary ning xossalari"
   ]
  },
  {
   "cell_type": "code",
   "execution_count": 13,
   "id": "f52cc1c4",
   "metadata": {},
   "outputs": [
    {
     "data": {
      "text/plain": [
       "{'Salom': 3, 'Hello': 2, 'salom': 4}"
      ]
     },
     "execution_count": 13,
     "metadata": {},
     "output_type": "execute_result"
    }
   ],
   "source": [
    "dict_4 = {\n",
    "    \"Salom\" : 1,\n",
    "    \"Hello\" : 2,\n",
    "    \"Salom\" : 3,\n",
    "    \"salom\" : 4\n",
    "}\n",
    "dict_4"
   ]
  },
  {
   "cell_type": "markdown",
   "id": "0e2f1dd3",
   "metadata": {},
   "source": [
    "**`Katta salom`**"
   ]
  },
  {
   "cell_type": "code",
   "execution_count": 14,
   "id": "ed7cd423",
   "metadata": {},
   "outputs": [
    {
     "data": {
      "text/plain": [
       "3"
      ]
     },
     "execution_count": 14,
     "metadata": {},
     "output_type": "execute_result"
    }
   ],
   "source": [
    "dict_4[\"Salom\"]"
   ]
  },
  {
   "cell_type": "markdown",
   "id": "4121130b",
   "metadata": {},
   "source": [
    "**`Kichkina salom`**"
   ]
  },
  {
   "cell_type": "code",
   "execution_count": 15,
   "id": "f49966fe",
   "metadata": {},
   "outputs": [
    {
     "data": {
      "text/plain": [
       "4"
      ]
     },
     "execution_count": 15,
     "metadata": {},
     "output_type": "execute_result"
    }
   ],
   "source": [
    "dict_4[\"salom\"]"
   ]
  },
  {
   "cell_type": "markdown",
   "id": "37a42d99",
   "metadata": {},
   "source": [
    "## Element qo'shish, o'chirish, almashtirish"
   ]
  },
  {
   "cell_type": "code",
   "execution_count": 16,
   "id": "02eff3bc",
   "metadata": {},
   "outputs": [
    {
     "data": {
      "text/plain": [
       "{'Salom': 3, 'Hello': 2, 'salom': 4}"
      ]
     },
     "execution_count": 16,
     "metadata": {},
     "output_type": "execute_result"
    }
   ],
   "source": [
    "dict_4"
   ]
  },
  {
   "cell_type": "markdown",
   "id": "7a84ce35",
   "metadata": {},
   "source": [
    "**`Element qo'shish`**"
   ]
  },
  {
   "cell_type": "code",
   "execution_count": 17,
   "id": "27eddade",
   "metadata": {},
   "outputs": [
    {
     "data": {
      "text/plain": [
       "{'Salom': 3, 'Hello': 2, 'salom': 4, 'good': 2}"
      ]
     },
     "execution_count": 17,
     "metadata": {},
     "output_type": "execute_result"
    }
   ],
   "source": [
    "dict_4[\"good\"] = 2\n",
    "dict_4"
   ]
  },
  {
   "cell_type": "code",
   "execution_count": 18,
   "id": "1e98f17b",
   "metadata": {},
   "outputs": [
    {
     "ename": "KeyError",
     "evalue": "'bye'",
     "output_type": "error",
     "traceback": [
      "\u001b[0;31m---------------------------------------------------------------------------\u001b[0m",
      "\u001b[0;31mKeyError\u001b[0m                                  Traceback (most recent call last)",
      "Input \u001b[0;32mIn [18]\u001b[0m, in \u001b[0;36m<cell line: 1>\u001b[0;34m()\u001b[0m\n\u001b[0;32m----> 1\u001b[0m \u001b[43mdict_4\u001b[49m\u001b[43m[\u001b[49m\u001b[38;5;124;43m\"\u001b[39;49m\u001b[38;5;124;43mbye\u001b[39;49m\u001b[38;5;124;43m\"\u001b[39;49m\u001b[43m]\u001b[49m\n",
      "\u001b[0;31mKeyError\u001b[0m: 'bye'"
     ]
    }
   ],
   "source": [
    "dict_4[\"bye\"]"
   ]
  },
  {
   "cell_type": "markdown",
   "id": "f1e10b83",
   "metadata": {},
   "source": [
    "**`Element qiymatini almashtirish`**"
   ]
  },
  {
   "cell_type": "code",
   "execution_count": 19,
   "id": "8cae7bf9",
   "metadata": {},
   "outputs": [
    {
     "data": {
      "text/plain": [
       "{'Salom': 100, 'Hello': 2, 'salom': 4, 'good': 2}"
      ]
     },
     "execution_count": 19,
     "metadata": {},
     "output_type": "execute_result"
    }
   ],
   "source": [
    "dict_4[\"Salom\"] = 100\n",
    "dict_4"
   ]
  },
  {
   "cell_type": "markdown",
   "id": "d7cfa2e3",
   "metadata": {},
   "source": [
    "**`Element o'chirish uchun`**"
   ]
  },
  {
   "cell_type": "code",
   "execution_count": 20,
   "id": "b0b9d8db",
   "metadata": {},
   "outputs": [
    {
     "data": {
      "text/plain": [
       "{'Salom': 100, 'Hello': 2, 'salom': 4, 'good': 2}"
      ]
     },
     "execution_count": 20,
     "metadata": {},
     "output_type": "execute_result"
    }
   ],
   "source": [
    "dict_4"
   ]
  },
  {
   "cell_type": "markdown",
   "id": "0da21f37",
   "metadata": {},
   "source": [
    "**`pop`**"
   ]
  },
  {
   "cell_type": "code",
   "execution_count": 22,
   "id": "ad7326c9",
   "metadata": {},
   "outputs": [
    {
     "data": {
      "text/plain": [
       "{'Hello': 2, 'salom': 4, 'good': 2}"
      ]
     },
     "execution_count": 22,
     "metadata": {},
     "output_type": "execute_result"
    }
   ],
   "source": [
    "dict_5 = dict_4.copy()\n",
    "dict_5.pop(\"Salom\")\n",
    "dict_5"
   ]
  },
  {
   "cell_type": "markdown",
   "id": "b7f1da38",
   "metadata": {},
   "source": [
    "**`popitem`**"
   ]
  },
  {
   "cell_type": "code",
   "execution_count": 23,
   "id": "c8d649b4",
   "metadata": {},
   "outputs": [
    {
     "data": {
      "text/plain": [
       "{'Salom': 100, 'Hello': 2, 'salom': 4, 'good': 2}"
      ]
     },
     "execution_count": 23,
     "metadata": {},
     "output_type": "execute_result"
    }
   ],
   "source": [
    "dict_5 = dict_4.copy()\n",
    "dict_5"
   ]
  },
  {
   "cell_type": "code",
   "execution_count": 24,
   "id": "20bed67c",
   "metadata": {},
   "outputs": [
    {
     "data": {
      "text/plain": [
       "{'Salom': 100, 'Hello': 2, 'salom': 4}"
      ]
     },
     "execution_count": 24,
     "metadata": {},
     "output_type": "execute_result"
    }
   ],
   "source": [
    "dict_5.popitem()\n",
    "dict_5"
   ]
  },
  {
   "cell_type": "markdown",
   "id": "cf2d0e48",
   "metadata": {},
   "source": [
    "## Dictionary methods\n",
    "* get\n",
    "* keys\n",
    "* values\n",
    "* items"
   ]
  },
  {
   "cell_type": "code",
   "execution_count": 25,
   "id": "6e94ef5e",
   "metadata": {},
   "outputs": [
    {
     "data": {
      "text/plain": [
       "{'Salom': 100, 'Hello': 2, 'salom': 4, 'good': 2}"
      ]
     },
     "execution_count": 25,
     "metadata": {},
     "output_type": "execute_result"
    }
   ],
   "source": [
    "dict_4"
   ]
  },
  {
   "cell_type": "code",
   "execution_count": 26,
   "id": "9a887634",
   "metadata": {},
   "outputs": [
    {
     "data": {
      "text/plain": [
       "100"
      ]
     },
     "execution_count": 26,
     "metadata": {},
     "output_type": "execute_result"
    }
   ],
   "source": [
    "dict_4[\"Salom\"]"
   ]
  },
  {
   "cell_type": "code",
   "execution_count": 27,
   "id": "3e8b9809",
   "metadata": {},
   "outputs": [
    {
     "data": {
      "text/plain": [
       "100"
      ]
     },
     "execution_count": 27,
     "metadata": {},
     "output_type": "execute_result"
    }
   ],
   "source": [
    "dict_4.get(\"Salom\")"
   ]
  },
  {
   "cell_type": "code",
   "execution_count": 28,
   "id": "7e1a5af7",
   "metadata": {},
   "outputs": [
    {
     "data": {
      "text/plain": [
       "dict_keys(['Salom', 'Hello', 'salom', 'good'])"
      ]
     },
     "execution_count": 28,
     "metadata": {},
     "output_type": "execute_result"
    }
   ],
   "source": [
    "dict_4.keys()"
   ]
  },
  {
   "cell_type": "code",
   "execution_count": 29,
   "id": "a18b6041",
   "metadata": {},
   "outputs": [
    {
     "data": {
      "text/plain": [
       "dict_values([100, 2, 4, 2])"
      ]
     },
     "execution_count": 29,
     "metadata": {},
     "output_type": "execute_result"
    }
   ],
   "source": [
    "dict_4.values()"
   ]
  },
  {
   "cell_type": "code",
   "execution_count": 30,
   "id": "9d0d3982",
   "metadata": {},
   "outputs": [
    {
     "data": {
      "text/plain": [
       "dict_items([('Salom', 100), ('Hello', 2), ('salom', 4), ('good', 2)])"
      ]
     },
     "execution_count": 30,
     "metadata": {},
     "output_type": "execute_result"
    }
   ],
   "source": [
    "dict_4.items()"
   ]
  },
  {
   "cell_type": "code",
   "execution_count": 34,
   "id": "ec16f14f",
   "metadata": {},
   "outputs": [
    {
     "name": "stdout",
     "output_type": "stream",
     "text": [
      "Hello\n",
      "good\n"
     ]
    }
   ],
   "source": [
    "for key, value in dict_4.items():\n",
    "    if value == 2:\n",
    "        print(key)"
   ]
  },
  {
   "cell_type": "markdown",
   "id": "bd9a4adc",
   "metadata": {},
   "source": [
    "## Dict with massiv"
   ]
  },
  {
   "cell_type": "code",
   "execution_count": 35,
   "id": "30584c92",
   "metadata": {},
   "outputs": [
    {
     "data": {
      "text/plain": [
       "{'Salom': [1, 2, 3, 4, 5, 6], 'Hello': [4, 3, 2, 1, 3, 4]}"
      ]
     },
     "execution_count": 35,
     "metadata": {},
     "output_type": "execute_result"
    }
   ],
   "source": [
    "dict_8 = {\n",
    "    \"Salom\" : [1,2,3,4,5,6],\n",
    "    \"Hello\" : [4,3,2,1,3,4]\n",
    "}\n",
    "dict_8"
   ]
  },
  {
   "cell_type": "code",
   "execution_count": 36,
   "id": "5fe01958",
   "metadata": {},
   "outputs": [
    {
     "data": {
      "text/plain": [
       "[1, 2, 3, 4, 5, 6]"
      ]
     },
     "execution_count": 36,
     "metadata": {},
     "output_type": "execute_result"
    }
   ],
   "source": [
    "dict_8[\"Salom\"]"
   ]
  },
  {
   "cell_type": "code",
   "execution_count": null,
   "id": "422d865d",
   "metadata": {},
   "outputs": [],
   "source": []
  }
 ],
 "metadata": {
  "kernelspec": {
   "display_name": "Python 3 (ipykernel)",
   "language": "python",
   "name": "python3"
  },
  "language_info": {
   "codemirror_mode": {
    "name": "ipython",
    "version": 3
   },
   "file_extension": ".py",
   "mimetype": "text/x-python",
   "name": "python",
   "nbconvert_exporter": "python",
   "pygments_lexer": "ipython3",
   "version": "3.9.12"
  }
 },
 "nbformat": 4,
 "nbformat_minor": 5
}
