{
 "cells": [
  {
   "cell_type": "code",
   "execution_count": 1,
   "id": "21a5840d",
   "metadata": {},
   "outputs": [
    {
     "name": "stdout",
     "output_type": "stream",
     "text": [
      "a = 3\n",
      "b = 4\n",
      "7\n"
     ]
    }
   ],
   "source": [
    "def yig(a,b):\n",
    "    return a + b\n",
    "\n",
    "a = int(input(\"a = \"))\n",
    "b = int(input(\"b = \"))\n",
    "print(yig(a,b))"
   ]
  },
  {
   "cell_type": "code",
   "execution_count": 2,
   "id": "2e075402",
   "metadata": {},
   "outputs": [
    {
     "name": "stdout",
     "output_type": "stream",
     "text": [
      "a = 2\n",
      "b = 3\n",
      "8\n"
     ]
    }
   ],
   "source": [
    "def daraja(a,b):\n",
    "    s = 1\n",
    "    for i in range(b):\n",
    "        s *= a\n",
    "    return s\n",
    "\n",
    " \n",
    "a = int(input(\"a = \"))\n",
    "b = int(input(\"b = \"))\n",
    "print(daraja(a,b))"
   ]
  },
  {
   "cell_type": "code",
   "execution_count": 1,
   "id": "248f9b2e",
   "metadata": {},
   "outputs": [
    {
     "data": {
      "text/plain": [
       "21.071307505705477"
      ]
     },
     "execution_count": 1,
     "metadata": {},
     "output_type": "execute_result"
    }
   ],
   "source": [
    "444**0.5"
   ]
  },
  {
   "cell_type": "code",
   "execution_count": 2,
   "id": "b681e38a",
   "metadata": {},
   "outputs": [
    {
     "data": {
      "text/plain": [
       "441"
      ]
     },
     "execution_count": 2,
     "metadata": {},
     "output_type": "execute_result"
    }
   ],
   "source": [
    "21**2"
   ]
  },
  {
   "cell_type": "code",
   "execution_count": 3,
   "id": "39a971fd",
   "metadata": {},
   "outputs": [
    {
     "data": {
      "text/plain": [
       "10.0"
      ]
     },
     "execution_count": 3,
     "metadata": {},
     "output_type": "execute_result"
    }
   ],
   "source": [
    "100**0.5"
   ]
  },
  {
   "cell_type": "code",
   "execution_count": 6,
   "id": "0ea747e5",
   "metadata": {},
   "outputs": [
    {
     "data": {
      "text/plain": [
       "110"
      ]
     },
     "execution_count": 6,
     "metadata": {},
     "output_type": "execute_result"
    }
   ],
   "source": [
    "int((10.0+0.5)**2)"
   ]
  },
  {
   "cell_type": "code",
   "execution_count": null,
   "id": "581543bb",
   "metadata": {},
   "outputs": [],
   "source": []
  }
 ],
 "metadata": {
  "kernelspec": {
   "display_name": "Python 3 (ipykernel)",
   "language": "python",
   "name": "python3"
  },
  "language_info": {
   "codemirror_mode": {
    "name": "ipython",
    "version": 3
   },
   "file_extension": ".py",
   "mimetype": "text/x-python",
   "name": "python",
   "nbconvert_exporter": "python",
   "pygments_lexer": "ipython3",
   "version": "3.9.7"
  }
 },
 "nbformat": 4,
 "nbformat_minor": 5
}
