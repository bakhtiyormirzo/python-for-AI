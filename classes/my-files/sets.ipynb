{
 "cells": [
  {
   "cell_type": "markdown",
   "id": "2a90e956",
   "metadata": {},
   "source": [
    "# Array types:\n",
    "\n",
    "* List\n",
    "* Set\n",
    "* Tuple\n",
    "* Dictionary"
   ]
  },
  {
   "cell_type": "markdown",
   "id": "4664e746",
   "metadata": {},
   "source": [
    "# Set"
   ]
  },
  {
   "cell_type": "code",
   "execution_count": 1,
   "id": "f3dc1e0e",
   "metadata": {},
   "outputs": [
    {
     "data": {
      "text/plain": [
       "[1, 2, 3, 4, 5, 6, 7, 8, 9, 1, 2, 3, 1, 2]"
      ]
     },
     "execution_count": 1,
     "metadata": {},
     "output_type": "execute_result"
    }
   ],
   "source": [
    "list1 = [1,2,3,4,5,6,7,8,9,1,2,3,1,2]\n",
    "list1"
   ]
  },
  {
   "cell_type": "code",
   "execution_count": 2,
   "id": "f86085be",
   "metadata": {},
   "outputs": [
    {
     "data": {
      "text/plain": [
       "{1, 2, 3, 4, 5}"
      ]
     },
     "execution_count": 2,
     "metadata": {},
     "output_type": "execute_result"
    }
   ],
   "source": [
    "set1 = {2,3,4,5,1,2,4,2,1,2,3,4,1,2,3,4,1}\n",
    "set1"
   ]
  },
  {
   "cell_type": "code",
   "execution_count": 3,
   "id": "8ea20cd0",
   "metadata": {},
   "outputs": [
    {
     "data": {
      "text/plain": [
       "{1, 2, 3, 4, 5, 6, 7, 8, 9}"
      ]
     },
     "execution_count": 3,
     "metadata": {},
     "output_type": "execute_result"
    }
   ],
   "source": [
    "list_2_set = set(list1)\n",
    "list_2_set"
   ]
  },
  {
   "cell_type": "code",
   "execution_count": 4,
   "id": "29b11994",
   "metadata": {},
   "outputs": [
    {
     "data": {
      "text/plain": [
       "[1, 2, 3, 4, 5]"
      ]
     },
     "execution_count": 4,
     "metadata": {},
     "output_type": "execute_result"
    }
   ],
   "source": [
    "set_2_list = list(set1)\n",
    "set_2_list"
   ]
  },
  {
   "cell_type": "code",
   "execution_count": 5,
   "id": "fc156d28",
   "metadata": {},
   "outputs": [
    {
     "data": {
      "text/plain": [
       "{1, 2, 3, 4, 5}"
      ]
     },
     "execution_count": 5,
     "metadata": {},
     "output_type": "execute_result"
    }
   ],
   "source": [
    "set2 = {1,2,3,4,5,2,2}\n",
    "set2"
   ]
  },
  {
   "cell_type": "markdown",
   "id": "b1acb8d5",
   "metadata": {},
   "source": [
    "**`Set ga element qo'shish`**\n",
    "\n",
    "* set_name.add(element)"
   ]
  },
  {
   "cell_type": "code",
   "execution_count": 6,
   "id": "1520970c",
   "metadata": {},
   "outputs": [
    {
     "data": {
      "text/plain": [
       "{1, 2, 3, 4, 5, 10}"
      ]
     },
     "execution_count": 6,
     "metadata": {},
     "output_type": "execute_result"
    }
   ],
   "source": [
    "set2.add(10)\n",
    "set2"
   ]
  },
  {
   "cell_type": "code",
   "execution_count": 7,
   "id": "26475c1d",
   "metadata": {},
   "outputs": [
    {
     "data": {
      "text/plain": [
       "{1, 2, 3, 4, 5, 7, 10}"
      ]
     },
     "execution_count": 7,
     "metadata": {},
     "output_type": "execute_result"
    }
   ],
   "source": [
    "set2.add(7)\n",
    "set2"
   ]
  },
  {
   "cell_type": "markdown",
   "id": "d85b40a2",
   "metadata": {},
   "source": [
    "**`Set ID si va copy`**"
   ]
  },
  {
   "cell_type": "code",
   "execution_count": 8,
   "id": "549765bb",
   "metadata": {},
   "outputs": [],
   "source": [
    "set3 = set2"
   ]
  },
  {
   "cell_type": "code",
   "execution_count": 9,
   "id": "8a968717",
   "metadata": {},
   "outputs": [
    {
     "data": {
      "text/plain": [
       "4565793920"
      ]
     },
     "execution_count": 9,
     "metadata": {},
     "output_type": "execute_result"
    }
   ],
   "source": [
    "id(set3)"
   ]
  },
  {
   "cell_type": "code",
   "execution_count": 10,
   "id": "929898cf",
   "metadata": {},
   "outputs": [
    {
     "data": {
      "text/plain": [
       "4565793920"
      ]
     },
     "execution_count": 10,
     "metadata": {},
     "output_type": "execute_result"
    }
   ],
   "source": [
    "id(set2)"
   ]
  },
  {
   "cell_type": "code",
   "execution_count": 11,
   "id": "eada01a8",
   "metadata": {},
   "outputs": [],
   "source": [
    "set3 = set2.copy()"
   ]
  },
  {
   "cell_type": "code",
   "execution_count": 12,
   "id": "3bbccabd",
   "metadata": {},
   "outputs": [
    {
     "data": {
      "text/plain": [
       "4565794368"
      ]
     },
     "execution_count": 12,
     "metadata": {},
     "output_type": "execute_result"
    }
   ],
   "source": [
    "id(set3)"
   ]
  },
  {
   "cell_type": "code",
   "execution_count": 13,
   "id": "0b32e08a",
   "metadata": {},
   "outputs": [
    {
     "data": {
      "text/plain": [
       "4565793920"
      ]
     },
     "execution_count": 13,
     "metadata": {},
     "output_type": "execute_result"
    }
   ],
   "source": [
    "id(set2)"
   ]
  },
  {
   "cell_type": "markdown",
   "id": "307b790b",
   "metadata": {},
   "source": [
    "**`Set dan element o'chirish`**\n",
    "\n",
    "* set_name.remove(element)\n",
    "* set_name.discard(element)\n",
    "* set_name.pop() --> leave empty"
   ]
  },
  {
   "cell_type": "code",
   "execution_count": 14,
   "id": "a6482cb2",
   "metadata": {},
   "outputs": [],
   "source": [
    "set4 = {1,2,3,4,5,6,7,8}"
   ]
  },
  {
   "cell_type": "markdown",
   "id": "cd6fb7b4",
   "metadata": {},
   "source": [
    "**`remove`**"
   ]
  },
  {
   "cell_type": "code",
   "execution_count": 15,
   "id": "9bb7d61a",
   "metadata": {},
   "outputs": [
    {
     "data": {
      "text/plain": [
       "{1, 2, 3, 5, 6, 7, 8}"
      ]
     },
     "execution_count": 15,
     "metadata": {},
     "output_type": "execute_result"
    }
   ],
   "source": [
    "set4.remove(4)\n",
    "set4"
   ]
  },
  {
   "cell_type": "markdown",
   "id": "b17ac7c5",
   "metadata": {},
   "source": [
    "**`discard`**"
   ]
  },
  {
   "cell_type": "code",
   "execution_count": 16,
   "id": "b827685a",
   "metadata": {},
   "outputs": [
    {
     "data": {
      "text/plain": [
       "{1, 2, 3, 5, 6, 7, 8}"
      ]
     },
     "execution_count": 16,
     "metadata": {},
     "output_type": "execute_result"
    }
   ],
   "source": [
    "set5 = {1,2,3,4,5,6,7,8}\n",
    "set5.discard(4)\n",
    "set5"
   ]
  },
  {
   "cell_type": "markdown",
   "id": "4d3d4721",
   "metadata": {},
   "source": [
    "**`Discard vs Remove`**"
   ]
  },
  {
   "cell_type": "code",
   "execution_count": 17,
   "id": "b7489c09",
   "metadata": {},
   "outputs": [],
   "source": [
    "set6 = {1,2,3,4,5,6,7,8,9,10}"
   ]
  },
  {
   "cell_type": "code",
   "execution_count": 18,
   "id": "2ec3e245",
   "metadata": {},
   "outputs": [
    {
     "ename": "KeyError",
     "evalue": "11",
     "output_type": "error",
     "traceback": [
      "\u001b[0;31m---------------------------------------------------------------------------\u001b[0m",
      "\u001b[0;31mKeyError\u001b[0m                                  Traceback (most recent call last)",
      "Input \u001b[0;32mIn [18]\u001b[0m, in \u001b[0;36m<cell line: 1>\u001b[0;34m()\u001b[0m\n\u001b[0;32m----> 1\u001b[0m \u001b[43mset6\u001b[49m\u001b[38;5;241;43m.\u001b[39;49m\u001b[43mremove\u001b[49m\u001b[43m(\u001b[49m\u001b[38;5;241;43m11\u001b[39;49m\u001b[43m)\u001b[49m\n\u001b[1;32m      2\u001b[0m set6\n",
      "\u001b[0;31mKeyError\u001b[0m: 11"
     ]
    }
   ],
   "source": [
    "set6.remove(11)\n",
    "set6"
   ]
  },
  {
   "cell_type": "code",
   "execution_count": 19,
   "id": "675829c0",
   "metadata": {},
   "outputs": [
    {
     "data": {
      "text/plain": [
       "{1, 2, 3, 4, 5, 6, 7, 8, 9, 10}"
      ]
     },
     "execution_count": 19,
     "metadata": {},
     "output_type": "execute_result"
    }
   ],
   "source": [
    "set6.discard(11)\n",
    "set6"
   ]
  },
  {
   "cell_type": "markdown",
   "id": "329c92d1",
   "metadata": {},
   "source": [
    "**`pop`**"
   ]
  },
  {
   "cell_type": "code",
   "execution_count": 20,
   "id": "98b90150",
   "metadata": {},
   "outputs": [
    {
     "data": {
      "text/plain": [
       "{1, 2, 3, 4, 5, 6, 7, 8, 9, 10}"
      ]
     },
     "execution_count": 20,
     "metadata": {},
     "output_type": "execute_result"
    }
   ],
   "source": [
    "set7 = {1,2,3,4,5,6,7,8,9,10}\n",
    "set7"
   ]
  },
  {
   "cell_type": "code",
   "execution_count": 21,
   "id": "5dfe5bee",
   "metadata": {},
   "outputs": [
    {
     "data": {
      "text/plain": [
       "{2, 3, 4, 5, 6, 7, 8, 9, 10}"
      ]
     },
     "execution_count": 21,
     "metadata": {},
     "output_type": "execute_result"
    }
   ],
   "source": [
    "set7.pop()\n",
    "set7"
   ]
  },
  {
   "cell_type": "markdown",
   "id": "4a31600a",
   "metadata": {},
   "source": [
    "# Set ni tozalash"
   ]
  },
  {
   "cell_type": "code",
   "execution_count": 22,
   "id": "65ae5821",
   "metadata": {},
   "outputs": [
    {
     "data": {
      "text/plain": [
       "set()"
      ]
     },
     "execution_count": 22,
     "metadata": {},
     "output_type": "execute_result"
    }
   ],
   "source": [
    "set8 = {1,2,3,4,5,6}\n",
    "set8.clear()\n",
    "set8"
   ]
  },
  {
   "cell_type": "markdown",
   "id": "67e2ab92",
   "metadata": {},
   "source": [
    "# Set bilan amallar\n",
    "\n",
    "* intersection\n",
    "* union\n",
    "* difference\n",
    "\n",
    "Javob qaytaruvchi funksiyalar"
   ]
  },
  {
   "cell_type": "code",
   "execution_count": 23,
   "id": "1e722b97",
   "metadata": {},
   "outputs": [
    {
     "name": "stdout",
     "output_type": "stream",
     "text": [
      "{1, 2, 3, 4, 5, 6, 7}\n",
      "{2, 3, 4, 8, 9, 10, 11}\n"
     ]
    }
   ],
   "source": [
    "a = {1,2,3,4,5,6,7}\n",
    "b = {4,3,2,8,9,10,11}\n",
    "print(a,b,sep=\"\\n\")"
   ]
  },
  {
   "cell_type": "code",
   "execution_count": 24,
   "id": "1e069b5b",
   "metadata": {},
   "outputs": [
    {
     "data": {
      "text/plain": [
       "{2, 3, 4}"
      ]
     },
     "execution_count": 24,
     "metadata": {},
     "output_type": "execute_result"
    }
   ],
   "source": [
    "a.intersection(b)"
   ]
  },
  {
   "cell_type": "code",
   "execution_count": 25,
   "id": "64b39f51",
   "metadata": {},
   "outputs": [
    {
     "data": {
      "text/plain": [
       "{1, 2, 3, 4, 5, 6, 7, 8, 9, 10, 11}"
      ]
     },
     "execution_count": 25,
     "metadata": {},
     "output_type": "execute_result"
    }
   ],
   "source": [
    "a.union(b)"
   ]
  },
  {
   "cell_type": "code",
   "execution_count": 26,
   "id": "f6239611",
   "metadata": {},
   "outputs": [
    {
     "data": {
      "text/plain": [
       "{1, 5, 6, 7}"
      ]
     },
     "execution_count": 26,
     "metadata": {},
     "output_type": "execute_result"
    }
   ],
   "source": [
    "a.difference(b)"
   ]
  },
  {
   "cell_type": "code",
   "execution_count": 27,
   "id": "93654dd8",
   "metadata": {},
   "outputs": [
    {
     "data": {
      "text/plain": [
       "{8, 9, 10, 11}"
      ]
     },
     "execution_count": 27,
     "metadata": {},
     "output_type": "execute_result"
    }
   ],
   "source": [
    "b.difference(a)"
   ]
  },
  {
   "cell_type": "code",
   "execution_count": 28,
   "id": "66283178",
   "metadata": {},
   "outputs": [
    {
     "data": {
      "text/plain": [
       "{1, 2, 3, 4, 5, 6, 7}"
      ]
     },
     "execution_count": 28,
     "metadata": {},
     "output_type": "execute_result"
    }
   ],
   "source": [
    "a"
   ]
  },
  {
   "cell_type": "code",
   "execution_count": 29,
   "id": "9fe07c64",
   "metadata": {},
   "outputs": [
    {
     "data": {
      "text/plain": [
       "{2, 3, 4, 8, 9, 10, 11}"
      ]
     },
     "execution_count": 29,
     "metadata": {},
     "output_type": "execute_result"
    }
   ],
   "source": [
    "b"
   ]
  },
  {
   "cell_type": "markdown",
   "id": "0a063f1c",
   "metadata": {},
   "source": [
    "# Set python functions\n",
    "* &\n",
    "* |\n",
    "* -"
   ]
  },
  {
   "cell_type": "code",
   "execution_count": 30,
   "id": "21c9f3b9",
   "metadata": {},
   "outputs": [
    {
     "name": "stdout",
     "output_type": "stream",
     "text": [
      "{1, 2, 3, 4, 5, 6, 7}\n",
      "{2, 3, 4, 8, 9, 10, 11}\n"
     ]
    }
   ],
   "source": [
    "a = {1,2,3,4,5,6,7}\n",
    "b = {4,3,2,8,9,10,11}\n",
    "print(a,b,sep=\"\\n\")"
   ]
  },
  {
   "cell_type": "code",
   "execution_count": 31,
   "id": "3bb46c3e",
   "metadata": {},
   "outputs": [
    {
     "data": {
      "text/plain": [
       "{2, 3, 4}"
      ]
     },
     "execution_count": 31,
     "metadata": {},
     "output_type": "execute_result"
    }
   ],
   "source": [
    "a & b"
   ]
  },
  {
   "cell_type": "code",
   "execution_count": 32,
   "id": "9684ef61",
   "metadata": {},
   "outputs": [
    {
     "data": {
      "text/plain": [
       "{1, 2, 3, 4, 5, 6, 7, 8, 9, 10, 11}"
      ]
     },
     "execution_count": 32,
     "metadata": {},
     "output_type": "execute_result"
    }
   ],
   "source": [
    "a | b"
   ]
  },
  {
   "cell_type": "code",
   "execution_count": 33,
   "id": "51757575",
   "metadata": {},
   "outputs": [
    {
     "data": {
      "text/plain": [
       "{1, 5, 6, 7}"
      ]
     },
     "execution_count": 33,
     "metadata": {},
     "output_type": "execute_result"
    }
   ],
   "source": [
    "a - b"
   ]
  },
  {
   "cell_type": "code",
   "execution_count": 34,
   "id": "8b2e1d25",
   "metadata": {},
   "outputs": [
    {
     "data": {
      "text/plain": [
       "{8, 9, 10, 11}"
      ]
     },
     "execution_count": 34,
     "metadata": {},
     "output_type": "execute_result"
    }
   ],
   "source": [
    "b - a"
   ]
  },
  {
   "cell_type": "code",
   "execution_count": null,
   "id": "894742d2",
   "metadata": {},
   "outputs": [],
   "source": []
  }
 ],
 "metadata": {
  "kernelspec": {
   "display_name": "Python 3 (ipykernel)",
   "language": "python",
   "name": "python3"
  },
  "language_info": {
   "codemirror_mode": {
    "name": "ipython",
    "version": 3
   },
   "file_extension": ".py",
   "mimetype": "text/x-python",
   "name": "python",
   "nbconvert_exporter": "python",
   "pygments_lexer": "ipython3",
   "version": "3.9.12"
  }
 },
 "nbformat": 4,
 "nbformat_minor": 5
}
