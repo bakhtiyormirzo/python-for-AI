{
 "cells": [
  {
   "cell_type": "markdown",
   "id": "8588665f",
   "metadata": {},
   "source": [
    "# Arrays (Lists) 100-122"
   ]
  },
  {
   "cell_type": "code",
   "execution_count": 1,
   "id": "e0877aae",
   "metadata": {},
   "outputs": [
    {
     "name": "stdout",
     "output_type": "stream",
     "text": [
      "n = 9\n",
      "[1, 4, 6, 7, 9, 3, 4, 9, 4]\n",
      "[1, 4, 6, 7, 3, 4, 4]\n",
      "7\n"
     ]
    }
   ],
   "source": [
    "# N100: 2 marta kelgan elementlarni o'chiradi\n",
    "\n",
    "from random import randint\n",
    "\n",
    "n = int(input(\"n = \"))\n",
    "a = [randint(1,9) for i in range(n)]\n",
    "print(a)\n",
    "i = 0\n",
    "\n",
    "while i < len(a):\n",
    "    soni = a.count(a[i])\n",
    "    if soni == 2:\n",
    "        x = a[i]\n",
    "        for _ in range(soni):\n",
    "            a.remove(x)\n",
    "        continue\n",
    "    i+=1\n",
    "    \n",
    "print(a)\n",
    "print(len(a))"
   ]
  },
  {
   "cell_type": "code",
   "execution_count": 1,
   "id": "7c61fdbc",
   "metadata": {},
   "outputs": [
    {
     "name": "stdout",
     "output_type": "stream",
     "text": [
      "n = 7\n",
      "[3, 9, 8, 3, 9, 7, 1]\n",
      "k = 2\n",
      "[3, 9, 0, 8, 3, 9, 7, 1]\n"
     ]
    }
   ],
   "source": [
    "# N101: k indexdan oldin 0 qoshish\n",
    "\n",
    "from random import randint\n",
    "\n",
    "n = int(input(\"n = \"))\n",
    "a = [randint(1,9) for i in range(n)]\n",
    "print(a)\n",
    "\n",
    "k = int(input(\"k = \"))\n",
    "\n",
    "a = a[:k] + [0] + a[k:]\n",
    "print(a)"
   ]
  },
  {
   "cell_type": "code",
   "execution_count": 2,
   "id": "54cd013e",
   "metadata": {},
   "outputs": [
    {
     "name": "stdout",
     "output_type": "stream",
     "text": [
      "n = 6\n",
      "[2, 9, 7, 3, 9, 8]\n",
      "k = 2\n",
      "[2, 9, 7, 0, 3, 9, 8]\n"
     ]
    }
   ],
   "source": [
    "# N102: k indexdan keyin 0 qoshish\n",
    "\n",
    "from random import randint\n",
    "\n",
    "n = int(input(\"n = \"))\n",
    "a = [randint(1,9) for i in range(n)]\n",
    "print(a)\n",
    "\n",
    "k = int(input(\"k = \"))\n",
    "\n",
    "a = a[:k+1] + [0] + a[k+1:]\n",
    "print(a)"
   ]
  },
  {
   "cell_type": "code",
   "execution_count": 7,
   "id": "7ffa2229",
   "metadata": {},
   "outputs": [
    {
     "name": "stdout",
     "output_type": "stream",
     "text": [
      "n = 7\n",
      "[4, 3, 8, 3, 1, 7, 8]\n",
      "[4, 3, 8, 0, 3, 0, 1, 7, 8]\n"
     ]
    }
   ],
   "source": [
    "# N103: eng kichik element oldidan va \n",
    "# eng katta elementdan keyin 0 qo'shish\n",
    "\n",
    "from random import randint\n",
    "\n",
    "n = int(input(\"n = \"))\n",
    "a = [randint(1,9) for i in range(n)]\n",
    "print(a)\n",
    "\n",
    "mini_index = a.index(min(a))\n",
    "a = a[:mini_index] + [0] + a[mini_index:]\n",
    "\n",
    "maxi_index = a.index(max(a))\n",
    "a = a[:maxi_index+1] + [0] + a[maxi_index+1:]\n",
    "print(a)"
   ]
  },
  {
   "cell_type": "code",
   "execution_count": 7,
   "id": "91fdc27e",
   "metadata": {},
   "outputs": [
    {
     "name": "stdout",
     "output_type": "stream",
     "text": [
      "n = 9\n",
      "k = 2\n",
      "m = 3\n",
      "[4, 2, 5, 2, 2, 4, 4, 3, 3]\n",
      "[4, 0, 0, 0, 2, 5, 0, 0, 0, 2, 0, 0, 0, 2, 4, 4, 3, 3]\n"
     ]
    }
   ],
   "source": [
    "# N104: (sharti o'zgartirilgan holat) K index emas, array elementi\n",
    "# qiymati K ga teng element oldidan, m ta 0 ni qoshish\n",
    "\n",
    "from random import randint\n",
    "\n",
    "n = int(input('n = '))\n",
    "k = int(input('k = '))\n",
    "m = int(input('m = '))\n",
    "\n",
    "a = [randint(1,5) for i in range(n)]\n",
    "print(a)\n",
    "\n",
    "i = 0\n",
    "while i < len(a):\n",
    "    if a[i] == k:\n",
    "        for j in range(m):\n",
    "            a.insert(i,0)\n",
    "        i += m\n",
    "    i += 1\n",
    "print(a)"
   ]
  },
  {
   "cell_type": "code",
   "execution_count": 9,
   "id": "e05bbc99",
   "metadata": {},
   "outputs": [
    {
     "name": "stdout",
     "output_type": "stream",
     "text": [
      "n = 9\n",
      "k = 3\n",
      "m = 2\n",
      "[1, 2, 1, 4, 5, 5, 2, 3, 3]\n",
      "[1, 2, 0, 0, 1, 4, 5, 5, 2, 3, 3]\n"
     ]
    }
   ],
   "source": [
    "# N104 (original) Indexi K ga teng bo'lgan element oldidan M ta 0 qoshish\n",
    "\n",
    "from random import randint\n",
    "\n",
    "n = int(input('n = '))\n",
    "k = int(input('k = '))\n",
    "m = int(input('m = '))\n",
    "\n",
    "a = [randint(1,5) for i in range(n)]\n",
    "print(a)\n",
    "\n",
    "for _ in range(m):\n",
    "    a.insert(k-1,0)\n",
    "\n",
    "print(a)"
   ]
  },
  {
   "cell_type": "code",
   "execution_count": 13,
   "id": "60803f59",
   "metadata": {},
   "outputs": [
    {
     "name": "stdout",
     "output_type": "stream",
     "text": [
      "n = 9\n",
      "[8, 9, 3, 4, 8, 7, 8, 5, 1]\n",
      "[8, 9, 0, 3, 0, 4, 8, 0, 7, 0, 8, 0, 5, 0, 1]\n"
     ]
    }
   ],
   "source": [
    "# Massiv berilgan, massiv ichidagi tub sonlarning oldiga va orqasiga 0 qo'shamiz\n",
    "\n",
    "from random import randint\n",
    "\n",
    "n = int(input('n = '))\n",
    "\n",
    "a = [randint(1,10) for i in range(n)]\n",
    "print(a)\n",
    "\n",
    "def tub(n):\n",
    "    if n < 2:\n",
    "        return False\n",
    "    if n == 2:\n",
    "        return True\n",
    "    if n % 2 == 0:\n",
    "        return False\n",
    "    factor = round(n**0.5)\n",
    "    for i in range(3,factor+1,2):\n",
    "        if n%i == 0:\n",
    "            return False\n",
    "    return True\n",
    "\n",
    "i = 0\n",
    "while i < len(a):\n",
    "    if tub(a[i]):\n",
    "        a.insert(i,0)\n",
    "        a.insert(i+2,0)\n",
    "        i += 2\n",
    "    i += 1\n",
    "\n",
    "print(a)"
   ]
  },
  {
   "cell_type": "code",
   "execution_count": 8,
   "id": "5c1fb890",
   "metadata": {},
   "outputs": [
    {
     "name": "stdout",
     "output_type": "stream",
     "text": [
      "n = 7\n",
      "k = 2\n",
      "m = 3\n",
      "[5, 3, 1, 2, 2, 2, 5]\n",
      "[5, 3, 0, 0, 0, 1, 2, 2, 2, 5]\n"
     ]
    }
   ],
   "source": [
    "# N105: Indexi K ga teng bo'lgan element keyin M ta 0 qoshish\n",
    "\n",
    "from random import randint\n",
    "\n",
    "n = int(input('n = '))\n",
    "k = int(input('k = '))\n",
    "m = int(input('m = '))\n",
    "\n",
    "a = [randint(1,5) for i in range(n)]\n",
    "print(a)\n",
    "\n",
    "for _ in range(m):\n",
    "    a.insert(k,0)\n",
    "\n",
    "print(a)"
   ]
  },
  {
   "cell_type": "code",
   "execution_count": 11,
   "id": "aa48674f",
   "metadata": {},
   "outputs": [
    {
     "name": "stdout",
     "output_type": "stream",
     "text": [
      "n = 5\n",
      "[2, 9, 9, 1, 7]\n",
      "18\n"
     ]
    }
   ],
   "source": [
    "# N106: juft indexdagi elementlarini qo'shish\n",
    "\n",
    "from random import randint\n",
    "\n",
    "n = int(input(\"n = \"))\n",
    "a = [randint(1,9) for i in range(n)]\n",
    "print(a)\n",
    "\n",
    "print(sum(a[::2]))"
   ]
  },
  {
   "cell_type": "code",
   "execution_count": 12,
   "id": "674858ac",
   "metadata": {},
   "outputs": [
    {
     "name": "stdout",
     "output_type": "stream",
     "text": [
      "n = 7\n",
      "[1, 6, 7, 2, 8, 9, 6]\n",
      "34\n"
     ]
    }
   ],
   "source": [
    "# N107: toq indexdagi elementlarni ikki marta qo'shish\n",
    "\n",
    "from random import randint\n",
    "\n",
    "n = int(input(\"n = \"))\n",
    "a = [randint(1,9) for i in range(n)]\n",
    "print(a)\n",
    "\n",
    "print(2*sum(a[1::2]))"
   ]
  },
  {
   "cell_type": "code",
   "execution_count": 14,
   "id": "da71387b",
   "metadata": {},
   "outputs": [
    {
     "name": "stdout",
     "output_type": "stream",
     "text": [
      "n = 5\n",
      "[-5, 3, -5, -2, 3]\n",
      "[-5, 0, 3, -5, -2, 0, 3]\n"
     ]
    }
   ],
   "source": [
    "# N108: har bir musbat element oldidan 0 qo'shish\n",
    "\n",
    "from random import randint\n",
    "\n",
    "n = int(input(\"n = \"))\n",
    "a = [randint(-n,n) for i in range(n)]\n",
    "print(a)\n",
    "\n",
    "i = 0\n",
    "while i < len(a):\n",
    "    if a[i] > 0:\n",
    "        a.insert(i,0)\n",
    "        i += 1\n",
    "    i += 1\n",
    "\n",
    "print(a)"
   ]
  },
  {
   "cell_type": "code",
   "execution_count": 16,
   "id": "d6ad896f",
   "metadata": {},
   "outputs": [
    {
     "name": "stdout",
     "output_type": "stream",
     "text": [
      "n = 5\n",
      "[1, -3, -4, -2, -1]\n",
      "[1, -3, 0, -4, 0, -2, 0, -1, 0]\n"
     ]
    }
   ],
   "source": [
    "# N109: har bir manfiy sondan keyin 0 qo'shish\n",
    "\n",
    "from random import randint\n",
    "\n",
    "n = int(input(\"n = \"))\n",
    "a = [randint(-n,n) for i in range(n)]\n",
    "print(a)\n",
    "\n",
    "i = 0\n",
    "while i < len(a):\n",
    "    if a[i] < 0:\n",
    "        a.insert(i+1,0)\n",
    "        i += 1\n",
    "    i += 1\n",
    "\n",
    "print(a)"
   ]
  },
  {
   "cell_type": "code",
   "execution_count": 18,
   "id": "4c73e8c4",
   "metadata": {},
   "outputs": [
    {
     "name": "stdout",
     "output_type": "stream",
     "text": [
      "n = 7\n",
      "[6, 5, 1, 3, 2, 4, 4]\n",
      "16\n"
     ]
    }
   ],
   "source": [
    "# N110: juft elementlarni qo'shish\n",
    "\n",
    "from random import randint\n",
    "\n",
    "n = int(input(\"n = \"))\n",
    "a = [randint(1,n) for i in range(n)]\n",
    "print(a)\n",
    "\n",
    "s = 0\n",
    "for i in range(len(a)):\n",
    "    if a[i] % 2 == 0:\n",
    "        s += a[i]\n",
    "\n",
    "print(s)"
   ]
  },
  {
   "cell_type": "code",
   "execution_count": 19,
   "id": "1dfb3c35",
   "metadata": {},
   "outputs": [
    {
     "name": "stdout",
     "output_type": "stream",
     "text": [
      "n = 5\n",
      "[5, 4, 4, 1, 5]\n",
      "22\n"
     ]
    }
   ],
   "source": [
    "# N111: toq elementlarni ikki marta qo'shish\n",
    "\n",
    "from random import randint\n",
    "\n",
    "n = int(input(\"n = \"))\n",
    "a = [randint(1,n) for i in range(n)]\n",
    "print(a)\n",
    "\n",
    "s = 0\n",
    "for i in range(len(a)):\n",
    "    if a[i] % 2 == 1:\n",
    "        s += 2*a[i]\n",
    "\n",
    "print(s)"
   ]
  },
  {
   "cell_type": "code",
   "execution_count": 31,
   "id": "83890e38",
   "metadata": {},
   "outputs": [
    {
     "name": "stdout",
     "output_type": "stream",
     "text": [
      "n = 6\n",
      "[14, 2, 12, 2, 8, 9]\n",
      "[2, 14, 12, 2, 8, 9]\n",
      "[2, 2, 14, 12, 8, 9]\n",
      "[2, 2, 8, 14, 12, 9]\n",
      "[2, 2, 8, 9, 14, 12]\n",
      "[2, 2, 8, 9, 12, 14]\n",
      "[2, 2, 8, 9, 12, 14]\n",
      "[2, 2, 8, 9, 12, 14]\n"
     ]
    }
   ],
   "source": [
    "# N112: Pufaksimon sorting.\n",
    "# o'zidan keyingi element kichik bo'lsa, o'rni almashtiriladi\n",
    "\n",
    "from random import randint\n",
    "\n",
    "n = int(input(\"n = \"))\n",
    "a = [randint(1,15) for _ in range(n)]\n",
    "print(a)\n",
    "\n",
    "for i in range(len(a)):\n",
    "    \n",
    "    # kichinani boshiga olib o'tadi\n",
    "    for j in range(i+1, len(a)):\n",
    "        if a[i] > a[j]:\n",
    "            a[i], a[j] = a[j], a[i]\n",
    "    print(a)\n",
    "            \n",
    "print(a)"
   ]
  },
  {
   "cell_type": "code",
   "execution_count": 30,
   "id": "131d703e",
   "metadata": {},
   "outputs": [
    {
     "name": "stdout",
     "output_type": "stream",
     "text": [
      "n = 6\n",
      "[5, 2, 12, 8, 5, 3]\n",
      "[2, 5, 8, 5, 3, 12]\n",
      "[2, 5, 5, 3, 8, 12]\n",
      "[2, 5, 3, 5, 8, 12]\n",
      "[2, 3, 5, 5, 8, 12]\n",
      "[2, 3, 5, 5, 8, 12]\n",
      "[2, 3, 5, 5, 8, 12]\n"
     ]
    }
   ],
   "source": [
    "# N112: verisya 2 (kattadan boshlab keladi)\n",
    "\n",
    "from random import randint\n",
    "\n",
    "n = int(input(\"n = \"))\n",
    "\n",
    "a = [randint(1,15) for _ in range(n)]\n",
    "print(a)\n",
    "\n",
    "for j in range(n-1):\n",
    "    for i in range(n-1-j):        \n",
    "        if a[i] > a[i+1]:\n",
    "            a[i], a[i+1] = a[i+1], a[i] \n",
    "    print(a)\n",
    "print(a)"
   ]
  },
  {
   "cell_type": "code",
   "execution_count": 32,
   "id": "0e9c15ca",
   "metadata": {},
   "outputs": [
    {
     "name": "stdout",
     "output_type": "stream",
     "text": [
      "n = 9\n",
      "[8, 7, 1, 10, 15, 9, 12, 12, 2]\n",
      "[1, 7, 8, 10, 15, 9, 12, 12, 2]\n",
      "[1, 2, 8, 10, 15, 9, 12, 12, 7]\n",
      "[1, 2, 7, 10, 15, 9, 12, 12, 8]\n",
      "[1, 2, 7, 8, 15, 9, 12, 12, 10]\n",
      "[1, 2, 7, 8, 9, 15, 12, 12, 10]\n",
      "[1, 2, 7, 8, 9, 10, 12, 12, 15]\n",
      "[1, 2, 7, 8, 9, 10, 12, 12, 15]\n",
      "[1, 2, 7, 8, 9, 10, 12, 12, 15]\n",
      "[1, 2, 7, 8, 9, 10, 12, 12, 15]\n",
      "[1, 2, 7, 8, 9, 10, 12, 12, 15]\n"
     ]
    }
   ],
   "source": [
    "# N113: selection sort. o'zidan kelgan eng kichik element bilan almashtiriladi\n",
    "\n",
    "from random import randint\n",
    "\n",
    "n = int(input(\"n = \"))\n",
    "\n",
    "a = [randint(1,15) for _ in range(n)]\n",
    "print(a)\n",
    "\n",
    "for i in range(n):\n",
    "    mini = a[i]\n",
    "    index = i\n",
    "    for j in range(i+1,n):\n",
    "        if mini > a[j]:\n",
    "            mini = a[j]\n",
    "            index = j\n",
    "    a[i], a[index] = a[index], a[i]\n",
    "    print(a)\n",
    "print(a)"
   ]
  },
  {
   "cell_type": "code",
   "execution_count": 33,
   "id": "735c52fc",
   "metadata": {},
   "outputs": [
    {
     "name": "stdout",
     "output_type": "stream",
     "text": [
      "n = 8\n",
      "[0, -1, -1, 3, -8, -2, 7, -4]\n",
      "[-8, -4, -2, -1, -1, 0, 3, 7]\n"
     ]
    }
   ],
   "source": [
    "# N114: Insertion sort. \n",
    "\n",
    "def massiv_yasa(n):\n",
    "    from random import randint\n",
    "    a = [randint(-n,n) for i in range(n)]\n",
    "    return a\n",
    "\n",
    "def sarala(a):\n",
    "    s = 0\n",
    "    for i in range(n):\n",
    "        for j in range(i):\n",
    "            if a[i] < a[j]:\n",
    "                a.insert(j, a.pop(i))\n",
    "                break\n",
    "    return a\n",
    "\n",
    "n = int(input('n = '))\n",
    "a = massiv_yasa(n)\n",
    "print(a)\n",
    "print(sarala(a))"
   ]
  },
  {
   "cell_type": "code",
   "execution_count": 1,
   "id": "feeea6d9",
   "metadata": {},
   "outputs": [
    {
     "name": "stdout",
     "output_type": "stream",
     "text": [
      "N = 5\n",
      "[7, 5, 2, 7, 1]\n",
      "[0, 1, 2, 3, 4]\n",
      "[1, 0, 2, 3, 4]\n",
      "[1, 2, 0, 3, 4]\n",
      "[1, 2, 0, 3, 4]\n",
      "[1, 2, 0, 4, 3]\n",
      "[2, 1, 0, 4, 3]\n",
      "[2, 1, 0, 4, 3]\n",
      "[2, 1, 4, 0, 3]\n",
      "[2, 1, 4, 0, 3]\n",
      "[2, 4, 1, 0, 3]\n",
      "[4, 2, 1, 0, 3]\n",
      "[7, 5, 2, 7, 1]\n"
     ]
    }
   ],
   "source": [
    "# N115\n",
    "\n",
    "from random import randint\n",
    "\n",
    "n = int(input(\"N = \"))\n",
    "a = [randint(1,9) for i in range(n)]\n",
    "print(a)\n",
    "b = [i for i in range(n)]\n",
    "print(b)\n",
    "\n",
    "for i in range(1,n):\n",
    "    for j in range(0,n-i):\n",
    "        \n",
    "        if a[b[j]] > a[b[j+1]]:\n",
    "            b[j], b[j+1] = b[j+1], b[j]\n",
    "        \n",
    "        print(b)\n",
    "            \n",
    "#print(b)\n",
    "print(a)\n",
    "\n",
    "\n",
    "a = matrix = [7,2,9,4,19,6,5,8]\n",
    "b = index = [1,0,3,2,5,4,6,7]"
   ]
  },
  {
   "cell_type": "code",
   "execution_count": 35,
   "id": "5352934e",
   "metadata": {},
   "outputs": [
    {
     "name": "stdout",
     "output_type": "stream",
     "text": [
      "n=8\n",
      "[0, 1, 2, 0, 0, 0, 1, 0]\n",
      "B = [1, 1, 1, 3, 1, 1]\n",
      "C = [0, 1, 2, 0, 1, 0]\n"
     ]
    }
   ],
   "source": [
    "# N116\n",
    "\n",
    "from random import randint\n",
    "\n",
    "n = int(input('n = '))\n",
    "\n",
    "A = [randint(0,2) for i in range(n)]\n",
    "print(A)\n",
    "\n",
    "seriyadagi_raqam = A[0]\n",
    "B = []   # seriyalar soni\n",
    "C = []   # seriyalar tashkil qilgan elementlar soni\n",
    "\n",
    "B.append(1)\n",
    "C.append(seriyadagi_raqam)\n",
    "\n",
    "j = 0\n",
    "for i in range(1,len(A)):\n",
    "    if A[i] == seriyadagi_raqam:\n",
    "        B[j] += 1\n",
    "    else:\n",
    "        seriyadagi_raqam = A[i]\n",
    "        B.append(1)\n",
    "        C.append(seriyadagi_raqam)\n",
    "        j += 1\n",
    "        \n",
    "print('B =',B)\n",
    "print('C =',C)"
   ]
  },
  {
   "cell_type": "code",
   "execution_count": 30,
   "id": "f872821f",
   "metadata": {},
   "outputs": [
    {
     "name": "stdout",
     "output_type": "stream",
     "text": [
      "n = 9\n",
      "[2, 0, 1, 1, 1, 1, 0, 1, 1]\n",
      "[0, 2, 0, 0, 0, 1, 1, 1, 1, 0, 0, 0, 1, 1]\n"
     ]
    }
   ],
   "source": [
    "# N117: har bir seriya oldindan 0 qo'shish\n",
    "\n",
    "from random import randint\n",
    "\n",
    "n = int(input('n = '))\n",
    "a = [randint(0,2) for i in range(n)]\n",
    "print(a)\n",
    "\n",
    "a.insert(0,0)\n",
    "seriyadagi_raqam = a[1]\n",
    "\n",
    "i = 1\n",
    "while i < len(a):\n",
    "    if a[i] == seriyadagi_raqam:\n",
    "        pass\n",
    "    else:\n",
    "        seriyadagi_raqam = a[i]\n",
    "        a.insert(i,0)\n",
    "        i += 1\n",
    "    i += 1\n",
    "print(a)"
   ]
  },
  {
   "cell_type": "code",
   "execution_count": 35,
   "id": "d1c9781e",
   "metadata": {},
   "outputs": [
    {
     "name": "stdout",
     "output_type": "stream",
     "text": [
      "n = 6\n",
      "[2, 1, 0, 2, 2, 0]\n",
      "[2, 0, 1, 0, 0, 0, 2, 2, 0, 0, 0]\n"
     ]
    }
   ],
   "source": [
    "# N118: har bir seriyadan keyin 0 qo'shish\n",
    "\n",
    "from random import randint\n",
    "\n",
    "n = int(input('n = '))\n",
    "a = [randint(0,2) for i in range(n)]\n",
    "print(a)\n",
    "\n",
    "\n",
    "seriyadagi_raqam = a[0]\n",
    "\n",
    "i = 1\n",
    "while i < len(a):\n",
    "    if a[i] == seriyadagi_raqam:\n",
    "        pass\n",
    "    else:\n",
    "        seriyadagi_raqam = a[i]\n",
    "        a.insert(i,0)\n",
    "        i += 1\n",
    "    i += 1\n",
    "    \n",
    "a.insert(-1,0)\n",
    "print(a)"
   ]
  },
  {
   "cell_type": "code",
   "execution_count": 36,
   "id": "452e5030",
   "metadata": {},
   "outputs": [
    {
     "name": "stdout",
     "output_type": "stream",
     "text": [
      "n = 5\n",
      "[1, 1, 1, 0, 2]\n",
      "[1, 1, 1, 1, 0, 0, 2, 2]\n"
     ]
    }
   ],
   "source": [
    "# N119: har bir seriyasiga bir element qo'shish\n",
    "\n",
    "from random import randint\n",
    "\n",
    "n = int(input('n = '))\n",
    "a = [randint(0,2) for i in range(n)]\n",
    "print(a)\n",
    "\n",
    "a.insert(0,a[0])\n",
    "seriyadagi_raqam = a[1]\n",
    "\n",
    "i = 1\n",
    "while i < len(a):\n",
    "    if a[i] == seriyadagi_raqam:\n",
    "        pass\n",
    "    else:\n",
    "        seriyadagi_raqam = a[i]\n",
    "        a.insert(i,a[i])\n",
    "        i += 1\n",
    "    i += 1\n",
    "print(a)"
   ]
  },
  {
   "cell_type": "code",
   "execution_count": 39,
   "id": "51978216",
   "metadata": {},
   "outputs": [
    {
     "name": "stdout",
     "output_type": "stream",
     "text": [
      "[1, 1, 1, 2, 2, 3, 3, 0, 0]\n",
      "[1, 1, 2, 3, 0]\n"
     ]
    }
   ],
   "source": [
    "# N120: har bir seriyasini bir elementga kamaytirish\n",
    "\n",
    "#from random import randint\n",
    "\n",
    "#n = int(input('n = '))\n",
    "#a = [randint(0,2) for i in range(n)]\n",
    "\n",
    "a = [1,1,1,2,2,3,3,0,0]\n",
    "print(a)\n",
    "\n",
    "seriyadagi_raqam = a[0]\n",
    "a.pop(0)\n",
    "\n",
    "i = 1\n",
    "while i < len(a):\n",
    "    if a[i] == seriyadagi_raqam:\n",
    "        pass\n",
    "    else:\n",
    "        seriyadagi_raqam = a[i]\n",
    "        a.pop(i)\n",
    "        i += 1\n",
    "    i += 1\n",
    "\n",
    "a.pop(-1)\n",
    "print(a)"
   ]
  },
  {
   "cell_type": "code",
   "execution_count": 55,
   "id": "edd9edf3",
   "metadata": {},
   "outputs": [
    {
     "name": "stdout",
     "output_type": "stream",
     "text": [
      "n = 9\n",
      "[2, 2, 2, 1, 0, 0, 2, 0, 1]\n",
      "k = 1\n",
      "[2, 2, 2, 2, 2, 2, 1, 0, 0, 2, 0, 1]\n"
     ]
    }
   ],
   "source": [
    "# N121: k inchi seriyani ikki marta uzun qilish\n",
    "# seriyalar soni k dan kichik bolsa, o'zgartirmaymiz\n",
    "\n",
    "from random import randint\n",
    "\n",
    "n = int(input('n = '))\n",
    "\n",
    "A = [randint(0,2) for i in range(n)]\n",
    "print(A)\n",
    "\n",
    "k = int(input(\"k = \"))\n",
    "seriyadagi_raqam = A[0]\n",
    "B = []   # seriyalar soni\n",
    "C = []   # seriyalar tashkil qilgan elementlar soni\n",
    "\n",
    "B.append(1)\n",
    "C.append(seriyadagi_raqam)\n",
    "\n",
    "j = 0\n",
    "for i in range(1,len(A)):\n",
    "    if A[i] == seriyadagi_raqam:\n",
    "        B[j] += 1\n",
    "    else:\n",
    "        seriyadagi_raqam = A[i]\n",
    "        B.append(1)\n",
    "        C.append(seriyadagi_raqam)\n",
    "        j += 1\n",
    "\n",
    "if len(B) < k:\n",
    "    print(A)\n",
    "else:\n",
    "    uzunlik = B[k-1]\n",
    "    element = C[k-1]\n",
    "    index = A.index(element)\n",
    "    \n",
    "    for _ in range(uzunlik):\n",
    "        A.insert(index, element)\n",
    "    print(A)"
   ]
  },
  {
   "cell_type": "code",
   "execution_count": 3,
   "id": "556c89c7",
   "metadata": {},
   "outputs": [
    {
     "name": "stdout",
     "output_type": "stream",
     "text": [
      "n = 10\n",
      "[1, 9, 1, 1, 5, 8, 2, 1, 6, 2]\n",
      "[1, 1, 2, 1, 1, 1, 1, 1, 1]\n",
      "[1, 9, 1, 5, 8, 2, 1, 6, 2]\n",
      "k = 9\n",
      "[1, 9, 1, 1, 5, 8, 2, 1, 6]\n"
     ]
    }
   ],
   "source": [
    "# N122\n",
    "# k inchi seriyani o'chirish\n",
    "# seriyalar soni k dan kichik bolsa, o'zgartirmaymiz\n",
    "\n",
    "from random import randint\n",
    "\n",
    "n = int(input(\"n = \"))\n",
    "a = [randint(1,9) for i in range(n)]\n",
    "print(a)\n",
    "\n",
    "x = a[0]\n",
    "b = []\n",
    "c = []\n",
    "\n",
    "b.append(1)\n",
    "c.append(x)\n",
    "\n",
    "j = 0\n",
    "for i in range(1,n):\n",
    "    if a[i]==x:\n",
    "        b[j]+=1\n",
    "    else:\n",
    "        x = a[i]\n",
    "        b.append(1)\n",
    "        c.append(x)\n",
    "        j += 1\n",
    "        \n",
    "print(b)\n",
    "print(c)\n",
    "\n",
    "k = int(input(\"k = \"))\n",
    "\n",
    "#b.pop(k-1)\n",
    "#c.pop(k-1)\n",
    "\n",
    "b[k-1]=0\n",
    "\n",
    "a.clear()\n",
    "\n",
    "for i in range(len(b)):\n",
    "    for j in range(b[i]):\n",
    "        a.append(c[i])\n",
    "        \n",
    "print(a)"
   ]
  }
 ],
 "metadata": {
  "kernelspec": {
   "display_name": "Python 3 (ipykernel)",
   "language": "python",
   "name": "python3"
  },
  "language_info": {
   "codemirror_mode": {
    "name": "ipython",
    "version": 3
   },
   "file_extension": ".py",
   "mimetype": "text/x-python",
   "name": "python",
   "nbconvert_exporter": "python",
   "pygments_lexer": "ipython3",
   "version": "3.9.12"
  }
 },
 "nbformat": 4,
 "nbformat_minor": 5
}
