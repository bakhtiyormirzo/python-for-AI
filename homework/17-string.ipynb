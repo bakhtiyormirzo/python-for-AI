{
 "cells": [
  {
   "cell_type": "markdown",
   "id": "346447c8",
   "metadata": {},
   "source": [
    "# String problem solutions"
   ]
  },
  {
   "cell_type": "markdown",
   "id": "6f898c37",
   "metadata": {},
   "source": [
    "**`String 1`**"
   ]
  },
  {
   "cell_type": "code",
   "execution_count": 30,
   "id": "a6ab11df",
   "metadata": {},
   "outputs": [
    {
     "name": "stdout",
     "output_type": "stream",
     "text": [
      "Belgini kiriting: a\n",
      "97\n"
     ]
    }
   ],
   "source": [
    "belgi = input(\"Belgini kiriting: \")\n",
    "print(ord(belgi))"
   ]
  },
  {
   "cell_type": "markdown",
   "id": "694ec91d",
   "metadata": {},
   "source": [
    "**`String 2`**"
   ]
  },
  {
   "cell_type": "code",
   "execution_count": 6,
   "id": "77168415",
   "metadata": {},
   "outputs": [
    {
     "name": "stdout",
     "output_type": "stream",
     "text": [
      "n (32<n<=126): 97\n",
      "a\n"
     ]
    }
   ],
   "source": [
    "n = int(input(\"n (32<n<=126): \"))\n",
    "print(chr(n))"
   ]
  },
  {
   "cell_type": "markdown",
   "id": "6984a004",
   "metadata": {},
   "source": [
    "**`String 3`**"
   ]
  },
  {
   "cell_type": "code",
   "execution_count": 29,
   "id": "ccab8d79",
   "metadata": {},
   "outputs": [
    {
     "name": "stdout",
     "output_type": "stream",
     "text": [
      "Belgini kiriting: b\n",
      "a c\n"
     ]
    }
   ],
   "source": [
    "belgi = input(\"Belgini kiriting: \")\n",
    "n = ord(belgi)\n",
    "print(chr(n-1), chr(n+1))"
   ]
  },
  {
   "cell_type": "markdown",
   "id": "7f6d65f8",
   "metadata": {},
   "source": [
    "**`String 4`**"
   ]
  },
  {
   "cell_type": "code",
   "execution_count": 13,
   "id": "b12a3366",
   "metadata": {},
   "outputs": [
    {
     "name": "stdout",
     "output_type": "stream",
     "text": [
      "n (1<n<=26): 26\n",
      "A B C D E F G H I J K L M N O P Q R S T U V W X Y Z "
     ]
    }
   ],
   "source": [
    "n = int(input(\"n (1<n<=26): \"))\n",
    "i = 65\n",
    "for _ in range(n):\n",
    "    print(chr(i), end=\" \")\n",
    "    i += 1"
   ]
  },
  {
   "cell_type": "markdown",
   "id": "17392d03",
   "metadata": {},
   "source": [
    "**`String 5`**"
   ]
  },
  {
   "cell_type": "code",
   "execution_count": 16,
   "id": "d1000220",
   "metadata": {},
   "outputs": [
    {
     "name": "stdout",
     "output_type": "stream",
     "text": [
      "n (1<n<=26): 26\n",
      "z y x w v u t s r q p o n m l k j i h g f e d c b a "
     ]
    }
   ],
   "source": [
    "n = int(input(\"n (1<n<=26): \"))\n",
    "i = 122\n",
    "for _ in range(n):\n",
    "    print(chr(i), end=\" \")\n",
    "    i -= 1"
   ]
  },
  {
   "cell_type": "markdown",
   "id": "a2d061dd",
   "metadata": {},
   "source": [
    "**`String 6`**"
   ]
  },
  {
   "cell_type": "code",
   "execution_count": 28,
   "id": "ec1745bb",
   "metadata": {},
   "outputs": [
    {
     "name": "stdout",
     "output_type": "stream",
     "text": [
      "Belgini kiriting: 4\n",
      "digit\n"
     ]
    }
   ],
   "source": [
    "belgi = input(\"Belgini kiriting: \")\n",
    "n = ord(belgi)\n",
    "\n",
    "if 65<=n<=90 or 97<=n<=122:\n",
    "    print(\"lotin\")\n",
    "elif 48<=n<=57:\n",
    "    print(\"digit\")\n",
    "else:\n",
    "    print(0)"
   ]
  },
  {
   "cell_type": "markdown",
   "id": "3e6c39df",
   "metadata": {},
   "source": [
    "**`String 7`**"
   ]
  },
  {
   "cell_type": "code",
   "execution_count": 27,
   "id": "bb8cc790",
   "metadata": {},
   "outputs": [
    {
     "name": "stdout",
     "output_type": "stream",
     "text": [
      "Satr: abcz\n",
      "97 122\n"
     ]
    }
   ],
   "source": [
    "s = input(\"Satr: \")\n",
    "print(ord(s[0]), ord(s[-1]))"
   ]
  },
  {
   "cell_type": "markdown",
   "id": "e4e68a44",
   "metadata": {},
   "source": [
    "**`String 8`**"
   ]
  },
  {
   "cell_type": "code",
   "execution_count": 32,
   "id": "0cead634",
   "metadata": {},
   "outputs": [
    {
     "name": "stdout",
     "output_type": "stream",
     "text": [
      "n = 5\n",
      "Belgini kiriting: A\n",
      "A A A A A "
     ]
    }
   ],
   "source": [
    "n = int(input(\"n = \"))\n",
    "belgi = input(\"Belgini kiriting: \")\n",
    "num = ord(belgi)\n",
    "\n",
    "for _ in range(n):\n",
    "    print(chr(num), end=\" \")"
   ]
  },
  {
   "cell_type": "markdown",
   "id": "669a6a2d",
   "metadata": {},
   "source": [
    "**`String 9`**"
   ]
  },
  {
   "cell_type": "code",
   "execution_count": 33,
   "id": "db7f4ccd",
   "metadata": {},
   "outputs": [
    {
     "name": "stdout",
     "output_type": "stream",
     "text": [
      "Satr 1: abc\n",
      "Satr 2: hggf\n",
      "abchggf\n"
     ]
    }
   ],
   "source": [
    "s1 = input(\"Satr 1: \")\n",
    "s2 = input(\"Satr 2: \")\n",
    "s3 = s1 + s2\n",
    "print(s3)"
   ]
  },
  {
   "cell_type": "markdown",
   "id": "1fa8e691",
   "metadata": {},
   "source": [
    "**`String 10`**"
   ]
  },
  {
   "cell_type": "code",
   "execution_count": 34,
   "id": "6077a0da",
   "metadata": {},
   "outputs": [
    {
     "name": "stdout",
     "output_type": "stream",
     "text": [
      "Satr: abcd\n",
      "dcba\n"
     ]
    }
   ],
   "source": [
    "s = input(\"Satr: \")\n",
    "s_reverse = s[::-1]\n",
    "print(s_reverse)"
   ]
  },
  {
   "cell_type": "markdown",
   "id": "b9bcc34d",
   "metadata": {},
   "source": [
    "**`String 11`**"
   ]
  },
  {
   "cell_type": "code",
   "execution_count": 35,
   "id": "5e00065b",
   "metadata": {},
   "outputs": [
    {
     "name": "stdout",
     "output_type": "stream",
     "text": [
      "Satr: abcd\n",
      "a b c d\n"
     ]
    }
   ],
   "source": [
    "s = input(\"Satr: \")\n",
    "s_probel = \" \".join(s)\n",
    "print(s_probel)"
   ]
  },
  {
   "cell_type": "markdown",
   "id": "e589e7f3",
   "metadata": {},
   "source": [
    "**`String 12`**"
   ]
  },
  {
   "cell_type": "code",
   "execution_count": 40,
   "id": "11cf7fb2",
   "metadata": {},
   "outputs": [
    {
     "name": "stdout",
     "output_type": "stream",
     "text": [
      "n = 3\n",
      "Satr: abcd\n",
      "a***b***c***d\n"
     ]
    }
   ],
   "source": [
    "n = int(input(\"n = \"))\n",
    "s = input(\"Satr: \")\n",
    "\n",
    "star = n * \"*\"\n",
    "s_new = f\"{star}\".join(s)\n",
    "print(s_new)"
   ]
  },
  {
   "cell_type": "markdown",
   "id": "9d565a9d",
   "metadata": {},
   "source": [
    "**`String 13`**"
   ]
  },
  {
   "cell_type": "code",
   "execution_count": 41,
   "id": "d385ca21",
   "metadata": {},
   "outputs": [
    {
     "name": "stdout",
     "output_type": "stream",
     "text": [
      "Satr: 1234wesf\n",
      "4\n"
     ]
    }
   ],
   "source": [
    "s = input(\"Satr: \")\n",
    "\n",
    "count = 0\n",
    "for i in s:\n",
    "    if i.isdigit():\n",
    "        count += 1\n",
    "print(count)"
   ]
  },
  {
   "cell_type": "markdown",
   "id": "7594fd66",
   "metadata": {},
   "source": [
    "**`String 14`**"
   ]
  },
  {
   "cell_type": "code",
   "execution_count": 42,
   "id": "5955fc00",
   "metadata": {},
   "outputs": [
    {
     "name": "stdout",
     "output_type": "stream",
     "text": [
      "Satr: ABCDasgdjah1653\n",
      "4\n"
     ]
    }
   ],
   "source": [
    "s = input(\"Satr: \")\n",
    "\n",
    "count = 0\n",
    "for i in s:\n",
    "    if 65<=ord(i)<=90:\n",
    "        count += 1\n",
    "print(count)"
   ]
  },
  {
   "cell_type": "markdown",
   "id": "ccb93efc",
   "metadata": {},
   "source": [
    "**`String 15`**"
   ]
  },
  {
   "cell_type": "code",
   "execution_count": 46,
   "id": "46f07206",
   "metadata": {
    "scrolled": true
   },
   "outputs": [
    {
     "name": "stdout",
     "output_type": "stream",
     "text": [
      "Satr: abcASDتالبي\n",
      "8\n"
     ]
    }
   ],
   "source": [
    "s = input(\"Satr: \")\n",
    "\n",
    "count = 0\n",
    "for i in s:\n",
    "    if 97<=ord(i)<=122 or '\\u0600' <= i <= '\\u06FF' or '\\u0750' <= i <= '\\u077F' or '\\u08A0' <= i <= '\\u08FF' or '\\u0870' <= i <= '\\u089F':\n",
    "        count += 1\n",
    "print(count)"
   ]
  },
  {
   "cell_type": "markdown",
   "id": "4ead13fa",
   "metadata": {},
   "source": [
    "**`String 16`**"
   ]
  },
  {
   "cell_type": "code",
   "execution_count": 54,
   "id": "014f13d3",
   "metadata": {},
   "outputs": [
    {
     "name": "stdout",
     "output_type": "stream",
     "text": [
      "Satr: ABCDabcd\n",
      "abcdabcd\n"
     ]
    }
   ],
   "source": [
    "s = input(\"Satr: \")\n",
    "diff = ord(\"a\") - ord(\"A\")\n",
    "n = len(s)\n",
    "i = 0\n",
    "while n > 0:\n",
    "    code = ord(s[i])\n",
    "    if 65<=code<=90:\n",
    "        code += diff\n",
    "        \n",
    "    s = s[:i] + f\"{chr(code)}\" + s[i+1:]\n",
    "    n -= 1\n",
    "    i += 1\n",
    "print(s)"
   ]
  },
  {
   "cell_type": "markdown",
   "id": "0dc7112a",
   "metadata": {},
   "source": [
    "**`String 17`**"
   ]
  },
  {
   "cell_type": "code",
   "execution_count": 143,
   "id": "c22d0cd7",
   "metadata": {},
   "outputs": [
    {
     "name": "stdout",
     "output_type": "stream",
     "text": [
      "Satr: AbdgAdbhbHAFAG\n",
      "abdgadbhbhafag\n"
     ]
    }
   ],
   "source": [
    "s = input(\"Satr: \")\n",
    "s = s.lower()\n",
    "print(s)"
   ]
  },
  {
   "cell_type": "markdown",
   "id": "c9fa3027",
   "metadata": {},
   "source": [
    "**`String 18`**"
   ]
  },
  {
   "cell_type": "code",
   "execution_count": 56,
   "id": "8ebb4eaa",
   "metadata": {},
   "outputs": [
    {
     "name": "stdout",
     "output_type": "stream",
     "text": [
      "Satr: ABCDabcd\n",
      "abcdABCD\n"
     ]
    }
   ],
   "source": [
    "s = input(\"Satr: \")\n",
    "diff = ord(\"a\") - ord(\"A\")\n",
    "n = len(s)\n",
    "i = 0\n",
    "while n > 0:\n",
    "    code = ord(s[i])\n",
    "    if 65<=code<=90:\n",
    "        code += diff\n",
    "    elif 97<=code<=122:\n",
    "        code -= diff\n",
    "        \n",
    "    s = s[:i] + f\"{chr(code)}\" + s[i+1:]\n",
    "    n -= 1\n",
    "    i += 1\n",
    "print(s)"
   ]
  },
  {
   "cell_type": "markdown",
   "id": "a03222d1",
   "metadata": {},
   "source": [
    "**`String 19`**"
   ]
  },
  {
   "cell_type": "code",
   "execution_count": 152,
   "id": "23fcaa77",
   "metadata": {},
   "outputs": [
    {
     "name": "stdout",
     "output_type": "stream",
     "text": [
      "Satr: 12..3\n",
      "0\n"
     ]
    }
   ],
   "source": [
    "s = input(\"Satr: \")\n",
    "butun = False\n",
    "haqiqiy = False\n",
    "nol = False\n",
    "for i in s:\n",
    "    if i.isdigit():\n",
    "        butun = True\n",
    "    elif haqiqiy and i == \".\":\n",
    "        haqiqiy = False\n",
    "        nol = True\n",
    "        break\n",
    "    elif i == \".\":\n",
    "        haqiqiy = True\n",
    "    else:\n",
    "        nol = True\n",
    "\n",
    "if nol:\n",
    "    print(0)\n",
    "elif butun and haqiqiy:\n",
    "    print(\"haqiqiy\")\n",
    "else:\n",
    "    print(\"butun\")"
   ]
  },
  {
   "cell_type": "markdown",
   "id": "203a5de3",
   "metadata": {},
   "source": [
    "**`String 20`**"
   ]
  },
  {
   "cell_type": "code",
   "execution_count": 79,
   "id": "f701f398",
   "metadata": {},
   "outputs": [
    {
     "name": "stdout",
     "output_type": "stream",
     "text": [
      "Satr: 12345\n",
      "1 2 3 4 5 "
     ]
    }
   ],
   "source": [
    "s = input(\"Satr: \")\n",
    "for i in s:\n",
    "    print(i, end=\" \")"
   ]
  },
  {
   "cell_type": "markdown",
   "id": "e9257082",
   "metadata": {},
   "source": [
    "**`String 21`**"
   ]
  },
  {
   "cell_type": "code",
   "execution_count": 153,
   "id": "22df7c5f",
   "metadata": {},
   "outputs": [
    {
     "name": "stdout",
     "output_type": "stream",
     "text": [
      "Satr: 12345\n",
      "5 4 3 2 1 "
     ]
    }
   ],
   "source": [
    "s = input(\"Satr: \")\n",
    "for i in range(len(s)-1, -1, -1):\n",
    "    print(int(s[i]), end=\" \")"
   ]
  },
  {
   "cell_type": "markdown",
   "id": "9e29ba5e",
   "metadata": {},
   "source": [
    "**`String 22`**"
   ]
  },
  {
   "cell_type": "code",
   "execution_count": 83,
   "id": "d5ab5b7e",
   "metadata": {},
   "outputs": [
    {
     "name": "stdout",
     "output_type": "stream",
     "text": [
      "Satr: 123\n",
      "6\n"
     ]
    }
   ],
   "source": [
    "s = input(\"Satr: \")\n",
    "yig = 0\n",
    "for i in s:\n",
    "    yig += int(i)\n",
    "print(yig)"
   ]
  },
  {
   "cell_type": "markdown",
   "id": "c2aaf856",
   "metadata": {},
   "source": [
    "**`String 23`**"
   ]
  },
  {
   "cell_type": "code",
   "execution_count": 124,
   "id": "ecd2829e",
   "metadata": {},
   "outputs": [
    {
     "name": "stdout",
     "output_type": "stream",
     "text": [
      "Satr: 1+2+3+4+10+550\n",
      "570\n"
     ]
    }
   ],
   "source": [
    "s = input(\"Satr: \")\n",
    "\n",
    "son = \"\"\n",
    "natija = 0\n",
    "first = True\n",
    "index = None\n",
    "i = 0\n",
    "while i < len(s):\n",
    "    if first:\n",
    "        if s[i].isdigit():\n",
    "            son += s[i]\n",
    "            i += 1\n",
    "            continue\n",
    "        else:\n",
    "            natija += int(son)\n",
    "            son = \"\"\n",
    "            first = False\n",
    "    if s[i].isdigit() == False:\n",
    "        if index != None:\n",
    "            if s[index] == \"+\":\n",
    "                natija += int(son)\n",
    "            else:\n",
    "                natija -= int(son)\n",
    "        son = \"\"\n",
    "        index = i\n",
    "    else:\n",
    "        son += s[i]\n",
    "    i += 1\n",
    "# oxirgi son\n",
    "if s[index] == \"+\":\n",
    "    natija += int(son)\n",
    "else:\n",
    "    natija -= int(son)\n",
    "    \n",
    "print(natija)"
   ]
  },
  {
   "cell_type": "markdown",
   "id": "4a0db3d8",
   "metadata": {},
   "source": [
    "**`String 24`**"
   ]
  },
  {
   "cell_type": "code",
   "execution_count": 134,
   "id": "5af8cdc4",
   "metadata": {},
   "outputs": [
    {
     "name": "stdout",
     "output_type": "stream",
     "text": [
      "Satr: 1111110111\n",
      "1015\n"
     ]
    }
   ],
   "source": [
    "s = input(\"Satr: \")\n",
    "\n",
    "s = s[::-1]\n",
    "\n",
    "daraja = 0\n",
    "natija = 0\n",
    "for i in s:\n",
    "    if i == \"1\":\n",
    "        natija += 2**daraja\n",
    "    daraja += 1\n",
    "print(natija)"
   ]
  },
  {
   "cell_type": "markdown",
   "id": "9d4163a6",
   "metadata": {},
   "source": [
    "**`String 25`**"
   ]
  },
  {
   "cell_type": "code",
   "execution_count": 140,
   "id": "a881e520",
   "metadata": {},
   "outputs": [
    {
     "name": "stdout",
     "output_type": "stream",
     "text": [
      "n = 100\n",
      "1100100\n"
     ]
    }
   ],
   "source": [
    "n = input(\"n = \")\n",
    "n = int(n)\n",
    "natija = \"\"\n",
    "qoldiq = \"\"\n",
    "while n != 0:\n",
    "    qoldiq = n%2\n",
    "    natija = str(qoldiq) + natija\n",
    "    n //= 2\n",
    "print(natija)"
   ]
  },
  {
   "cell_type": "code",
   "execution_count": 159,
   "id": "fd65c729",
   "metadata": {},
   "outputs": [
    {
     "data": {
      "text/plain": [
       "True"
      ]
     },
     "execution_count": 159,
     "metadata": {},
     "output_type": "execute_result"
    }
   ],
   "source": [
    "a = \"١٢٣\"\n",
    "a.isnumeric()"
   ]
  },
  {
   "cell_type": "code",
   "execution_count": 160,
   "id": "1255cf22",
   "metadata": {},
   "outputs": [
    {
     "data": {
      "text/plain": [
       "True"
      ]
     },
     "execution_count": 160,
     "metadata": {},
     "output_type": "execute_result"
    }
   ],
   "source": [
    "a = \"١٢٣\"\n",
    "a.isdigit()"
   ]
  },
  {
   "cell_type": "code",
   "execution_count": 161,
   "id": "f669763f",
   "metadata": {},
   "outputs": [
    {
     "data": {
      "text/plain": [
       "True"
      ]
     },
     "execution_count": 161,
     "metadata": {},
     "output_type": "execute_result"
    }
   ],
   "source": [
    "a = \"١٢٣\"\n",
    "a.isdecimal()"
   ]
  },
  {
   "cell_type": "code",
   "execution_count": null,
   "id": "41d93675",
   "metadata": {},
   "outputs": [],
   "source": []
  }
 ],
 "metadata": {
  "kernelspec": {
   "display_name": "Python 3 (ipykernel)",
   "language": "python",
   "name": "python3"
  },
  "language_info": {
   "codemirror_mode": {
    "name": "ipython",
    "version": 3
   },
   "file_extension": ".py",
   "mimetype": "text/x-python",
   "name": "python",
   "nbconvert_exporter": "python",
   "pygments_lexer": "ipython3",
   "version": "3.9.12"
  }
 },
 "nbformat": 4,
 "nbformat_minor": 5
}
