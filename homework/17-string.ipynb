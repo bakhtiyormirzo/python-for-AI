{
 "cells": [
  {
   "cell_type": "markdown",
   "id": "8d2e41e3",
   "metadata": {},
   "source": [
    "# String problem solutions"
   ]
  },
  {
   "cell_type": "markdown",
   "id": "48da8e81",
   "metadata": {},
   "source": [
    "**`String 1`**"
   ]
  },
  {
   "cell_type": "code",
   "execution_count": 30,
   "id": "8aea3491",
   "metadata": {},
   "outputs": [
    {
     "name": "stdout",
     "output_type": "stream",
     "text": [
      "Belgini kiriting: a\n",
      "97\n"
     ]
    }
   ],
   "source": [
    "belgi = input(\"Belgini kiriting: \")\n",
    "print(ord(belgi))"
   ]
  },
  {
   "cell_type": "markdown",
   "id": "902af33a",
   "metadata": {},
   "source": [
    "**`String 2`**"
   ]
  },
  {
   "cell_type": "code",
   "execution_count": 6,
   "id": "596d8688",
   "metadata": {},
   "outputs": [
    {
     "name": "stdout",
     "output_type": "stream",
     "text": [
      "n (32<n<=126): 97\n",
      "a\n"
     ]
    }
   ],
   "source": [
    "n = int(input(\"n (32<n<=126): \"))\n",
    "print(chr(n))"
   ]
  },
  {
   "cell_type": "markdown",
   "id": "ce589d82",
   "metadata": {},
   "source": [
    "**`String 3`**"
   ]
  },
  {
   "cell_type": "code",
   "execution_count": 29,
   "id": "7aa922ff",
   "metadata": {},
   "outputs": [
    {
     "name": "stdout",
     "output_type": "stream",
     "text": [
      "Belgini kiriting: b\n",
      "a c\n"
     ]
    }
   ],
   "source": [
    "belgi = input(\"Belgini kiriting: \")\n",
    "n = ord(belgi)\n",
    "print(chr(n-1), chr(n+1))"
   ]
  },
  {
   "cell_type": "markdown",
   "id": "b9217ac9",
   "metadata": {},
   "source": [
    "**`String 4`**"
   ]
  },
  {
   "cell_type": "code",
   "execution_count": 13,
   "id": "733fc15b",
   "metadata": {},
   "outputs": [
    {
     "name": "stdout",
     "output_type": "stream",
     "text": [
      "n (1<n<=26): 26\n",
      "A B C D E F G H I J K L M N O P Q R S T U V W X Y Z "
     ]
    }
   ],
   "source": [
    "n = int(input(\"n (1<n<=26): \"))\n",
    "i = 65\n",
    "for _ in range(n):\n",
    "    print(chr(i), end=\" \")\n",
    "    i += 1"
   ]
  },
  {
   "cell_type": "markdown",
   "id": "f7bfb900",
   "metadata": {},
   "source": [
    "**`String 5`**"
   ]
  },
  {
   "cell_type": "code",
   "execution_count": 16,
   "id": "38b3e8ce",
   "metadata": {},
   "outputs": [
    {
     "name": "stdout",
     "output_type": "stream",
     "text": [
      "n (1<n<=26): 26\n",
      "z y x w v u t s r q p o n m l k j i h g f e d c b a "
     ]
    }
   ],
   "source": [
    "n = int(input(\"n (1<n<=26): \"))\n",
    "i = 122\n",
    "for _ in range(n):\n",
    "    print(chr(i), end=\" \")\n",
    "    i -= 1"
   ]
  },
  {
   "cell_type": "markdown",
   "id": "c81150f8",
   "metadata": {},
   "source": [
    "**`String 6`**"
   ]
  },
  {
   "cell_type": "code",
   "execution_count": 28,
   "id": "6cbe3fd7",
   "metadata": {},
   "outputs": [
    {
     "name": "stdout",
     "output_type": "stream",
     "text": [
      "Belgini kiriting: 4\n",
      "digit\n"
     ]
    }
   ],
   "source": [
    "belgi = input(\"Belgini kiriting: \")\n",
    "n = ord(belgi)\n",
    "\n",
    "if 65<=n<=90 or 97<=n<=122:\n",
    "    print(\"lotin\")\n",
    "elif 48<=n<=57:\n",
    "    print(\"digit\")\n",
    "else:\n",
    "    print(0)"
   ]
  },
  {
   "cell_type": "markdown",
   "id": "846e99cb",
   "metadata": {},
   "source": [
    "**`String 7`**"
   ]
  },
  {
   "cell_type": "code",
   "execution_count": 27,
   "id": "5336f9ff",
   "metadata": {},
   "outputs": [
    {
     "name": "stdout",
     "output_type": "stream",
     "text": [
      "Satr: abcz\n",
      "97 122\n"
     ]
    }
   ],
   "source": [
    "s = input(\"Satr: \")\n",
    "print(ord(s[0]), ord(s[-1]))"
   ]
  },
  {
   "cell_type": "markdown",
   "id": "003a798a",
   "metadata": {},
   "source": [
    "**`String 8`**"
   ]
  },
  {
   "cell_type": "code",
   "execution_count": 32,
   "id": "af1ae4a8",
   "metadata": {},
   "outputs": [
    {
     "name": "stdout",
     "output_type": "stream",
     "text": [
      "n = 5\n",
      "Belgini kiriting: A\n",
      "A A A A A "
     ]
    }
   ],
   "source": [
    "n = int(input(\"n = \"))\n",
    "belgi = input(\"Belgini kiriting: \")\n",
    "num = ord(belgi)\n",
    "\n",
    "for _ in range(n):\n",
    "    print(chr(num), end=\" \")"
   ]
  },
  {
   "cell_type": "markdown",
   "id": "8439f059",
   "metadata": {},
   "source": [
    "**`String 9`**"
   ]
  },
  {
   "cell_type": "code",
   "execution_count": 33,
   "id": "1fdb483f",
   "metadata": {},
   "outputs": [
    {
     "name": "stdout",
     "output_type": "stream",
     "text": [
      "Satr 1: abc\n",
      "Satr 2: hggf\n",
      "abchggf\n"
     ]
    }
   ],
   "source": [
    "s1 = input(\"Satr 1: \")\n",
    "s2 = input(\"Satr 2: \")\n",
    "s3 = s1 + s2\n",
    "print(s3)"
   ]
  },
  {
   "cell_type": "markdown",
   "id": "c6c46e05",
   "metadata": {},
   "source": [
    "**`String 10`**"
   ]
  },
  {
   "cell_type": "code",
   "execution_count": 34,
   "id": "ccf176bf",
   "metadata": {},
   "outputs": [
    {
     "name": "stdout",
     "output_type": "stream",
     "text": [
      "Satr: abcd\n",
      "dcba\n"
     ]
    }
   ],
   "source": [
    "s = input(\"Satr: \")\n",
    "s_reverse = s[::-1]\n",
    "print(s_reverse)"
   ]
  },
  {
   "cell_type": "markdown",
   "id": "78e248a7",
   "metadata": {},
   "source": [
    "**`String 11`**"
   ]
  },
  {
   "cell_type": "code",
   "execution_count": 35,
   "id": "517d461d",
   "metadata": {},
   "outputs": [
    {
     "name": "stdout",
     "output_type": "stream",
     "text": [
      "Satr: abcd\n",
      "a b c d\n"
     ]
    }
   ],
   "source": [
    "s = input(\"Satr: \")\n",
    "s_probel = \" \".join(s)\n",
    "print(s_probel)"
   ]
  },
  {
   "cell_type": "markdown",
   "id": "139837e4",
   "metadata": {},
   "source": [
    "**`String 12`**"
   ]
  },
  {
   "cell_type": "code",
   "execution_count": 40,
   "id": "73cba2cb",
   "metadata": {},
   "outputs": [
    {
     "name": "stdout",
     "output_type": "stream",
     "text": [
      "n = 3\n",
      "Satr: abcd\n",
      "a***b***c***d\n"
     ]
    }
   ],
   "source": [
    "n = int(input(\"n = \"))\n",
    "s = input(\"Satr: \")\n",
    "\n",
    "star = n * \"*\"\n",
    "s_new = f\"{star}\".join(s)\n",
    "print(s_new)"
   ]
  },
  {
   "cell_type": "markdown",
   "id": "773fc1b7",
   "metadata": {},
   "source": [
    "**`String 13`**"
   ]
  },
  {
   "cell_type": "code",
   "execution_count": 41,
   "id": "7731fea9",
   "metadata": {},
   "outputs": [
    {
     "name": "stdout",
     "output_type": "stream",
     "text": [
      "Satr: 1234wesf\n",
      "4\n"
     ]
    }
   ],
   "source": [
    "s = input(\"Satr: \")\n",
    "\n",
    "count = 0\n",
    "for i in s:\n",
    "    if i.isdigit():\n",
    "        count += 1\n",
    "print(count)"
   ]
  },
  {
   "cell_type": "markdown",
   "id": "2e4f80b2",
   "metadata": {},
   "source": [
    "**`String 14`**"
   ]
  },
  {
   "cell_type": "code",
   "execution_count": 42,
   "id": "ec1e0cb8",
   "metadata": {},
   "outputs": [
    {
     "name": "stdout",
     "output_type": "stream",
     "text": [
      "Satr: ABCDasgdjah1653\n",
      "4\n"
     ]
    }
   ],
   "source": [
    "s = input(\"Satr: \")\n",
    "\n",
    "count = 0\n",
    "for i in s:\n",
    "    if 65<=ord(i)<=90:\n",
    "        count += 1\n",
    "print(count)"
   ]
  },
  {
   "cell_type": "markdown",
   "id": "2d8a16a6",
   "metadata": {},
   "source": [
    "**`String 15`**"
   ]
  },
  {
   "cell_type": "code",
   "execution_count": 46,
   "id": "ea30ece7",
   "metadata": {
    "scrolled": true
   },
   "outputs": [
    {
     "name": "stdout",
     "output_type": "stream",
     "text": [
      "Satr: abcASDتالبي\n",
      "8\n"
     ]
    }
   ],
   "source": [
    "s = input(\"Satr: \")\n",
    "\n",
    "count = 0\n",
    "for i in s:\n",
    "    if 97<=ord(i)<=122 or '\\u0600' <= i <= '\\u06FF' or '\\u0750' <= i <= '\\u077F' or '\\u08A0' <= i <= '\\u08FF' or '\\u0870' <= i <= '\\u089F':\n",
    "        count += 1\n",
    "print(count)"
   ]
  },
  {
   "cell_type": "markdown",
   "id": "03327142",
   "metadata": {},
   "source": [
    "**`String 16`**"
   ]
  },
  {
   "cell_type": "code",
   "execution_count": 54,
   "id": "677244e1",
   "metadata": {},
   "outputs": [
    {
     "name": "stdout",
     "output_type": "stream",
     "text": [
      "Satr: ABCDabcd\n",
      "abcdabcd\n"
     ]
    }
   ],
   "source": [
    "s = input(\"Satr: \")\n",
    "diff = ord(\"a\") - ord(\"A\")\n",
    "n = len(s)\n",
    "i = 0\n",
    "while n > 0:\n",
    "    code = ord(s[i])\n",
    "    if 65<=code<=90:\n",
    "        code += diff\n",
    "        \n",
    "    s = s[:i] + f\"{chr(code)}\" + s[i+1:]\n",
    "    n -= 1\n",
    "    i += 1\n",
    "print(s)"
   ]
  },
  {
   "cell_type": "markdown",
   "id": "7f658820",
   "metadata": {},
   "source": [
    "**`String 17`**"
   ]
  },
  {
   "cell_type": "code",
   "execution_count": 143,
   "id": "db97cc0f",
   "metadata": {},
   "outputs": [
    {
     "name": "stdout",
     "output_type": "stream",
     "text": [
      "Satr: AbdgAdbhbHAFAG\n",
      "abdgadbhbhafag\n"
     ]
    }
   ],
   "source": [
    "s = input(\"Satr: \")\n",
    "s = s.lower()\n",
    "print(s)"
   ]
  },
  {
   "cell_type": "markdown",
   "id": "58260961",
   "metadata": {},
   "source": [
    "**`String 18`**"
   ]
  },
  {
   "cell_type": "code",
   "execution_count": 56,
   "id": "333eb238",
   "metadata": {},
   "outputs": [
    {
     "name": "stdout",
     "output_type": "stream",
     "text": [
      "Satr: ABCDabcd\n",
      "abcdABCD\n"
     ]
    }
   ],
   "source": [
    "s = input(\"Satr: \")\n",
    "diff = ord(\"a\") - ord(\"A\")\n",
    "n = len(s)\n",
    "i = 0\n",
    "while n > 0:\n",
    "    code = ord(s[i])\n",
    "    if 65<=code<=90:\n",
    "        code += diff\n",
    "    elif 97<=code<=122:\n",
    "        code -= diff\n",
    "        \n",
    "    s = s[:i] + f\"{chr(code)}\" + s[i+1:]\n",
    "    n -= 1\n",
    "    i += 1\n",
    "print(s)"
   ]
  },
  {
   "cell_type": "markdown",
   "id": "e8ee8033",
   "metadata": {},
   "source": [
    "**`String 19`**"
   ]
  },
  {
   "cell_type": "code",
   "execution_count": 152,
   "id": "bfe8e8c9",
   "metadata": {},
   "outputs": [
    {
     "name": "stdout",
     "output_type": "stream",
     "text": [
      "Satr: 12..3\n",
      "0\n"
     ]
    }
   ],
   "source": [
    "s = input(\"Satr: \")\n",
    "butun = False\n",
    "haqiqiy = False\n",
    "nol = False\n",
    "for i in s:\n",
    "    if i.isdigit():\n",
    "        butun = True\n",
    "    elif haqiqiy and i == \".\":\n",
    "        haqiqiy = False\n",
    "        nol = True\n",
    "        break\n",
    "    elif i == \".\":\n",
    "        haqiqiy = True\n",
    "    else:\n",
    "        nol = True\n",
    "\n",
    "if nol:\n",
    "    print(0)\n",
    "elif butun and haqiqiy:\n",
    "    print(\"haqiqiy\")\n",
    "else:\n",
    "    print(\"butun\")"
   ]
  },
  {
   "cell_type": "markdown",
   "id": "3292cfb6",
   "metadata": {},
   "source": [
    "**`String 20`**"
   ]
  },
  {
   "cell_type": "code",
   "execution_count": 79,
   "id": "a7c83a6a",
   "metadata": {},
   "outputs": [
    {
     "name": "stdout",
     "output_type": "stream",
     "text": [
      "Satr: 12345\n",
      "1 2 3 4 5 "
     ]
    }
   ],
   "source": [
    "s = input(\"Satr: \")\n",
    "for i in s:\n",
    "    print(i, end=\" \")"
   ]
  },
  {
   "cell_type": "markdown",
   "id": "1ffbeb9c",
   "metadata": {},
   "source": [
    "**`String 21`**"
   ]
  },
  {
   "cell_type": "code",
   "execution_count": 153,
   "id": "215b9bc3",
   "metadata": {},
   "outputs": [
    {
     "name": "stdout",
     "output_type": "stream",
     "text": [
      "Satr: 12345\n",
      "5 4 3 2 1 "
     ]
    }
   ],
   "source": [
    "s = input(\"Satr: \")\n",
    "for i in range(len(s)-1, -1, -1):\n",
    "    print(int(s[i]), end=\" \")"
   ]
  },
  {
   "cell_type": "markdown",
   "id": "f633ba7a",
   "metadata": {},
   "source": [
    "**`String 22`**"
   ]
  },
  {
   "cell_type": "code",
   "execution_count": 83,
   "id": "28615be9",
   "metadata": {},
   "outputs": [
    {
     "name": "stdout",
     "output_type": "stream",
     "text": [
      "Satr: 123\n",
      "6\n"
     ]
    }
   ],
   "source": [
    "s = input(\"Satr: \")\n",
    "yig = 0\n",
    "for i in s:\n",
    "    yig += int(i)\n",
    "print(yig)"
   ]
  },
  {
   "cell_type": "markdown",
   "id": "4c66ff49",
   "metadata": {},
   "source": [
    "**`String 23`**"
   ]
  },
  {
   "cell_type": "code",
   "execution_count": null,
   "id": "d4a70741",
   "metadata": {},
   "outputs": [],
   "source": [
    "# bir xonalik\n",
    "\n",
    "# darsda ishlandi\n",
    "\n"
   ]
  },
  {
   "cell_type": "code",
   "execution_count": 4,
   "id": "4afdb017",
   "metadata": {},
   "outputs": [
    {
     "name": "stdout",
     "output_type": "stream",
     "text": [
      "Satr: 1-2+9+9+90-9-9-9-9-9-9\n",
      "53\n"
     ]
    }
   ],
   "source": [
    "# ko'p xonalik (versiya 1)\n",
    "\n",
    "s = input(\"Satr: \")\n",
    "\n",
    "son = \"\"\n",
    "natija = 0\n",
    "first = True\n",
    "index = None\n",
    "i = 0\n",
    "while i < len(s):\n",
    "    if first:\n",
    "        if s[i].isdigit():\n",
    "            son += s[i]\n",
    "            i += 1\n",
    "            continue\n",
    "        else:\n",
    "            natija += int(son)\n",
    "            son = \"\"\n",
    "            first = False\n",
    "    if s[i].isdigit() == False:\n",
    "        if index != None:\n",
    "            if s[index] == \"+\":\n",
    "                natija += int(son)\n",
    "            else:\n",
    "                natija -= int(son)\n",
    "        son = \"\"\n",
    "        index = i\n",
    "    else:\n",
    "        son += s[i]\n",
    "    i += 1\n",
    "# oxirgi son\n",
    "if s[index] == \"+\":\n",
    "    natija += int(son)\n",
    "else:\n",
    "    natija -= int(son)\n",
    "    \n",
    "print(natija)"
   ]
  },
  {
   "cell_type": "code",
   "execution_count": 67,
   "id": "f052e6e1",
   "metadata": {},
   "outputs": [
    {
     "name": "stdout",
     "output_type": "stream",
     "text": [
      "Satr: 5+10-10000+50000-400\n",
      "natija:  39615\n"
     ]
    }
   ],
   "source": [
    "# ko'p xonalik (versiya 2)\n",
    "\n",
    "s = input(\"Satr: \")\n",
    "\n",
    "b = s.split(\"+\")\n",
    "\n",
    "natija = 0\n",
    "i = 0\n",
    "while i < len(b):\n",
    "    if b[i].count('-') == 0:\n",
    "        natija += int(b[i])\n",
    "        b.pop(i)\n",
    "        continue\n",
    "    i += 1\n",
    "        \n",
    "for i in range(len(b)):\n",
    "    b[i] = b[i].split(\"-\")\n",
    "       \n",
    "first = True\n",
    "for i in range(len(b)):\n",
    "    first = True\n",
    "    for j in range(len(b[i])):\n",
    "        if first:\n",
    "            natija += int(b[i][j])\n",
    "            first = False\n",
    "            continue\n",
    "        natija -= int(b[i][j])\n",
    "        \n",
    "print(\"natija: \",natija)"
   ]
  },
  {
   "cell_type": "markdown",
   "id": "84ea45e8",
   "metadata": {},
   "source": [
    "**`String 24`**"
   ]
  },
  {
   "cell_type": "code",
   "execution_count": 134,
   "id": "9ef47035",
   "metadata": {},
   "outputs": [
    {
     "name": "stdout",
     "output_type": "stream",
     "text": [
      "Satr: 1111110111\n",
      "1015\n"
     ]
    }
   ],
   "source": [
    "s = input(\"Satr: \")\n",
    "\n",
    "s = s[::-1]\n",
    "\n",
    "daraja = 0\n",
    "natija = 0\n",
    "for i in s:\n",
    "    if i == \"1\":\n",
    "        natija += 2**daraja\n",
    "    daraja += 1\n",
    "print(natija)"
   ]
  },
  {
   "cell_type": "markdown",
   "id": "72c87806",
   "metadata": {},
   "source": [
    "**`String 25`**"
   ]
  },
  {
   "cell_type": "code",
   "execution_count": 140,
   "id": "d37b1ebe",
   "metadata": {},
   "outputs": [
    {
     "name": "stdout",
     "output_type": "stream",
     "text": [
      "n = 100\n",
      "1100100\n"
     ]
    }
   ],
   "source": [
    "n = input(\"n = \")\n",
    "n = int(n)\n",
    "natija = \"\"\n",
    "qoldiq = \"\"\n",
    "while n != 0:\n",
    "    qoldiq = n%2\n",
    "    natija = str(qoldiq) + natija\n",
    "    n //= 2\n",
    "print(natija)"
   ]
  },
  {
   "cell_type": "markdown",
   "id": "d580859e",
   "metadata": {},
   "source": [
    "**`String 26`**"
   ]
  },
  {
   "cell_type": "code",
   "execution_count": 42,
   "id": "9ac768a5",
   "metadata": {},
   "outputs": [
    {
     "name": "stdout",
     "output_type": "stream",
     "text": [
      "n = 5\n",
      "Satr: abc\n",
      "..abc\n"
     ]
    }
   ],
   "source": [
    "n = int(input(\"n = \"))\n",
    "s = input(\"Satr: \")\n",
    "\n",
    "diff = abs(len(s) - n)\n",
    "if len(s) > n:\n",
    "    s = s[diff:]\n",
    "else:\n",
    "    s = diff * \".\" + s\n",
    "        \n",
    "print(s)"
   ]
  },
  {
   "cell_type": "markdown",
   "id": "157a3735",
   "metadata": {},
   "source": [
    "**`String 27`**"
   ]
  },
  {
   "cell_type": "code",
   "execution_count": 48,
   "id": "9f74a40e",
   "metadata": {},
   "outputs": [
    {
     "name": "stdout",
     "output_type": "stream",
     "text": [
      "n1 = 5\n",
      "n2 = 5\n",
      "Satr1: Salom Hammaga\n",
      "Satr2: Senga Ham Salom Dunyo\n",
      "SalomDunyo\n"
     ]
    }
   ],
   "source": [
    "n1 = int(input(\"n1 = \"))\n",
    "n2 = int(input(\"n2 = \"))\n",
    "s1 = input(\"Satr1: \")\n",
    "s2 = input(\"Satr2: \")\n",
    "\n",
    "s3 = s1[:n1] + s2[(len(s2) - n2):]\n",
    "print(s3)"
   ]
  },
  {
   "cell_type": "markdown",
   "id": "7930876d",
   "metadata": {},
   "source": [
    "**`String 28`**"
   ]
  },
  {
   "cell_type": "code",
   "execution_count": 59,
   "id": "ed084a6f",
   "metadata": {},
   "outputs": [
    {
     "name": "stdout",
     "output_type": "stream",
     "text": [
      "c = *\n",
      "Satr: *salom * senga ***hahahzor*m**\n",
      "**salom ** senga ******hahahzor**m****\n"
     ]
    }
   ],
   "source": [
    "c = input(\"c = \")\n",
    "s = input(\"Satr: \")\n",
    "s = list(s)\n",
    "\n",
    "i = 0\n",
    "while i < len(s):\n",
    "    if s[i] == c:\n",
    "        s.insert(i, c)\n",
    "        i += 1\n",
    "    i += 1\n",
    "s = \"\".join(s)\n",
    "print(s)"
   ]
  },
  {
   "cell_type": "markdown",
   "id": "654aee49",
   "metadata": {},
   "source": [
    "**`String 29`**"
   ]
  },
  {
   "cell_type": "code",
   "execution_count": 5,
   "id": "c7004f46",
   "metadata": {},
   "outputs": [
    {
     "name": "stdout",
     "output_type": "stream",
     "text": [
      "c = *\n",
      "Satr1: bu * birnchi** satr\n",
      "Satr2: HA\n",
      "bu HA* birnchiHA*HA* satr\n"
     ]
    }
   ],
   "source": [
    "c = input(\"c = \")\n",
    "s1 = input(\"Satr1: \")\n",
    "s2 = input(\"Satr2: \")\n",
    "\n",
    "s3 = \"\"\n",
    "for i in range(len(s1)):\n",
    "    if s1[i] == c:\n",
    "        s3 += s2 + s1[i]\n",
    "    else:\n",
    "        s3 += s1[i]\n",
    "print(s3)"
   ]
  },
  {
   "cell_type": "markdown",
   "id": "5852e89c",
   "metadata": {},
   "source": [
    "**`String 30`**"
   ]
  },
  {
   "cell_type": "code",
   "execution_count": 6,
   "id": "00988992",
   "metadata": {},
   "outputs": [
    {
     "name": "stdout",
     "output_type": "stream",
     "text": [
      "c = *\n",
      "Satr1: bu * birnchi** satr**\n",
      "Satr2: HA\n",
      "bu *HA birnchi*HA*HA satr*HA*HA\n"
     ]
    }
   ],
   "source": [
    "# versiya 1\n",
    "\n",
    "c = input(\"c = \")\n",
    "s1 = input(\"Satr1: \")\n",
    "s2 = input(\"Satr2: \")\n",
    "\n",
    "s3 = \"\"\n",
    "for i in range(len(s1)):\n",
    "    if s1[i] == c:\n",
    "        s3 += s1[i] + s2\n",
    "    else:\n",
    "        s3 += s1[i]\n",
    "print(s3)"
   ]
  },
  {
   "cell_type": "code",
   "execution_count": 70,
   "id": "483b1590",
   "metadata": {},
   "outputs": [
    {
     "name": "stdout",
     "output_type": "stream",
     "text": [
      "c = *\n",
      "Satr1: bu * birnchi** satr**\n",
      "Satr2: HA\n",
      "bu *HA birnchi*HA*HA satr*HA*HA\n"
     ]
    }
   ],
   "source": [
    "# versiya 2\n",
    "\n",
    "c = input(\"c = \")\n",
    "s1 = input(\"Satr1: \")\n",
    "s2 = input(\"Satr2: \")\n",
    "\n",
    "s1 = s1.replace(c,c+s2)\n",
    "print(s1)"
   ]
  },
  {
   "cell_type": "markdown",
   "id": "f0417087",
   "metadata": {},
   "source": [
    "**`String 31`**"
   ]
  },
  {
   "cell_type": "code",
   "execution_count": 8,
   "id": "68f5c600",
   "metadata": {},
   "outputs": [
    {
     "name": "stdout",
     "output_type": "stream",
     "text": [
      "Satr1: bu *HA birnchi*HA*HA satr*HA*HA\n",
      "Satr2: birnchi\n",
      "True\n"
     ]
    }
   ],
   "source": [
    "s1 = input(\"Satr1: \")\n",
    "s2 = input(\"Satr2: \")\n",
    "\n",
    "if s2 in s1:\n",
    "    print(True)\n",
    "else:\n",
    "    print(False)"
   ]
  },
  {
   "cell_type": "markdown",
   "id": "b2158719",
   "metadata": {},
   "source": [
    "**`String 32`**"
   ]
  },
  {
   "cell_type": "code",
   "execution_count": 9,
   "id": "278a0693",
   "metadata": {},
   "outputs": [
    {
     "name": "stdout",
     "output_type": "stream",
     "text": [
      "Satr1: bu *HA birnchi*HA*HA satr*HA*HA\n",
      "Satr2: HA\n",
      "5\n"
     ]
    }
   ],
   "source": [
    "s1 = input(\"Satr1: \")\n",
    "s2 = input(\"Satr2: \")\n",
    "print(s1.count(s2))"
   ]
  },
  {
   "cell_type": "markdown",
   "id": "8923bc7c",
   "metadata": {},
   "source": [
    "**`String 33`**"
   ]
  },
  {
   "cell_type": "code",
   "execution_count": 18,
   "id": "9448f158",
   "metadata": {},
   "outputs": [
    {
     "name": "stdout",
     "output_type": "stream",
     "text": [
      "Satr1: bu *HA birnchi*HA*HA satr*HA*HA\n",
      "Satr2: HA\n",
      "bu * birnchi*HA*HA satr*HA*HA\n"
     ]
    }
   ],
   "source": [
    "s1 = input(\"Satr1: \")\n",
    "s2 = input(\"Satr2: \")\n",
    "\n",
    "if s2 in s1:\n",
    "    s1 = s1.replace(s2, \"\", 1)\n",
    "print(s1)"
   ]
  },
  {
   "cell_type": "markdown",
   "id": "4f5d8cbd",
   "metadata": {},
   "source": [
    "**`String 34`**"
   ]
  },
  {
   "cell_type": "code",
   "execution_count": 8,
   "id": "6c541c40",
   "metadata": {},
   "outputs": [
    {
     "name": "stdout",
     "output_type": "stream",
     "text": [
      "Satr1: bu *HA birnchi*HA*HA satr*HA*HA\n",
      "Satr2: HA\n",
      "bu *HA birnchi*HA*HA satr*HA*\n"
     ]
    }
   ],
   "source": [
    "s1 = input(\"Satr1: \")\n",
    "s2 = input(\"Satr2: \")\n",
    "\n",
    "i = s1.rindex(s2)\n",
    "c = len(s2)\n",
    "\n",
    "s1 = s1[:i] + s1[i+c:]\n",
    "print(s1)"
   ]
  },
  {
   "cell_type": "markdown",
   "id": "9120c221",
   "metadata": {},
   "source": [
    "**`String 35`**"
   ]
  },
  {
   "cell_type": "code",
   "execution_count": 20,
   "id": "a0bd3db9",
   "metadata": {},
   "outputs": [
    {
     "name": "stdout",
     "output_type": "stream",
     "text": [
      "Satr1: bu *HA birnchi*HA*HA satr*HA*HA\n",
      "Satr2: HA\n",
      "bu * birnchi** satr**\n"
     ]
    }
   ],
   "source": [
    "s1 = input(\"Satr1: \")\n",
    "s2 = input(\"Satr2: \")\n",
    "\n",
    "if s2 in s1:\n",
    "    s1 = s1.replace(s2, \"\")\n",
    "print(s1)"
   ]
  },
  {
   "cell_type": "markdown",
   "id": "34781436",
   "metadata": {},
   "source": [
    "**`String 36`**"
   ]
  },
  {
   "cell_type": "code",
   "execution_count": 71,
   "id": "afebf789",
   "metadata": {},
   "outputs": [
    {
     "name": "stdout",
     "output_type": "stream",
     "text": [
      "Satr1: bu *HA birnchi*HA*HA satr*HA*HA\n",
      "Satr2: *\n",
      "Satr3: $\n",
      "bu $HA birnchi*HA*HA satr*HA*HA\n"
     ]
    }
   ],
   "source": [
    "s1 = input(\"Satr1: \")\n",
    "s2 = input(\"Satr2: \")\n",
    "s3 = input(\"Satr3: \")\n",
    "\n",
    "s1 = s1.replace(s2, s3, 1)\n",
    "\n",
    "print(s1)"
   ]
  },
  {
   "cell_type": "markdown",
   "id": "1016df2f",
   "metadata": {},
   "source": [
    "**`String 37`**"
   ]
  },
  {
   "cell_type": "code",
   "execution_count": 11,
   "id": "5e6e9145",
   "metadata": {},
   "outputs": [
    {
     "name": "stdout",
     "output_type": "stream",
     "text": [
      "Satr1: bu *HA birnchi*HA*HA satr*HA*HA\n",
      "Satr2: HA\n",
      "Satr3: DAAAA\n",
      "bu *HA birnchi*HA*HA satr*HA*DAAAA\n"
     ]
    }
   ],
   "source": [
    "s1 = input(\"Satr1: \")\n",
    "s2 = input(\"Satr2: \")\n",
    "s3 = input(\"Satr3: \")\n",
    "\n",
    "i = s1.rindex(s2)\n",
    "c = len(s2)\n",
    "\n",
    "s1 = s1[:i] + s3 + s1[i+c:]\n",
    "print(s1)"
   ]
  },
  {
   "cell_type": "markdown",
   "id": "49cf0891",
   "metadata": {},
   "source": [
    "**`String 38`**"
   ]
  },
  {
   "cell_type": "code",
   "execution_count": 12,
   "id": "0ccd421e",
   "metadata": {},
   "outputs": [
    {
     "name": "stdout",
     "output_type": "stream",
     "text": [
      "Satr1: bu *HA birnchi*HA*HA satr*HA*HA\n",
      "Satr2: HA\n",
      "Satr3: ABC\n",
      "bu *ABC birnchi*ABC*ABC satr*ABC*ABC\n"
     ]
    }
   ],
   "source": [
    "s1 = input(\"Satr1: \")\n",
    "s2 = input(\"Satr2: \")\n",
    "s3 = input(\"Satr3: \")\n",
    "\n",
    "c = len(s2)\n",
    "n = s1.count(s2)\n",
    "for _ in range(n):\n",
    "    i = s1.index(s2)\n",
    "    s1 = s1[:i] + s3 + s1[i+c:]   \n",
    "print(s1)"
   ]
  },
  {
   "cell_type": "markdown",
   "id": "ec3d7028",
   "metadata": {},
   "source": [
    "**`String 39`**"
   ]
  },
  {
   "cell_type": "code",
   "execution_count": 13,
   "id": "ed6f7d7a",
   "metadata": {},
   "outputs": [
    {
     "name": "stdout",
     "output_type": "stream",
     "text": [
      "Satr: dunyodagi hamma odamlarga alangali salom\n",
      "hamma\n"
     ]
    }
   ],
   "source": [
    "s = input(\"Satr: \")\n",
    "\n",
    "string = \"\"\n",
    "probel = False\n",
    "if s.count(\" \") >= 2:\n",
    "    for i in range(len(s)):\n",
    "        if probel and s[i] == \" \":\n",
    "            probel = False\n",
    "            continue\n",
    "        if s[i] == \" \":\n",
    "            probel = True\n",
    "            continue\n",
    "        if probel:\n",
    "            string += s[i]\n",
    "        else:\n",
    "            if len(string) > 0:\n",
    "                break\n",
    "print(string)"
   ]
  },
  {
   "cell_type": "markdown",
   "id": "937cdc3a",
   "metadata": {},
   "source": [
    "**`String 40`**"
   ]
  },
  {
   "cell_type": "code",
   "execution_count": 1,
   "id": "e4928063",
   "metadata": {},
   "outputs": [
    {
     "name": "stdout",
     "output_type": "stream",
     "text": [
      "Satr: dunyodagi hamma odamlarga salom\n",
      "hamma odamlarga\n"
     ]
    }
   ],
   "source": [
    "s = input(\"Satr: \")\n",
    "\n",
    "string = \"\"\n",
    "if s.count(\" \") > 1:\n",
    "    boshi = s.find(\" \")\n",
    "    oxiri = s.rfind(\" \")\n",
    "    string = s[boshi+1:oxiri]\n",
    "\n",
    "print(string)"
   ]
  },
  {
   "cell_type": "markdown",
   "id": "0bcd9fcd",
   "metadata": {},
   "source": [
    "**`String 41`**"
   ]
  },
  {
   "cell_type": "code",
   "execution_count": 72,
   "id": "98d2af46",
   "metadata": {},
   "outputs": [
    {
     "name": "stdout",
     "output_type": "stream",
     "text": [
      "Satr: dunyodagi  hamma  odamlarga  salom \n",
      "4\n"
     ]
    }
   ],
   "source": [
    "s = input(\"Satr: \")\n",
    "\n",
    "satr_list = s.split()\n",
    "print(len(satr_list))"
   ]
  },
  {
   "cell_type": "markdown",
   "id": "ecd58386",
   "metadata": {},
   "source": [
    "**`String 42`**"
   ]
  },
  {
   "cell_type": "code",
   "execution_count": 73,
   "id": "0181dbc9",
   "metadata": {},
   "outputs": [
    {
     "name": "stdout",
     "output_type": "stream",
     "text": [
      "Satr: DUNYODAGI HAMMAGAH SALAS BOHOR TUGAB QOLDI\n",
      "2\n"
     ]
    }
   ],
   "source": [
    "s = input(\"Satr: \")\n",
    "\n",
    "s_list = s.split()\n",
    "\n",
    "c = 0\n",
    "for i in s_list:\n",
    "    if i[0] == i[-1]:\n",
    "        c += 1\n",
    "print(c)"
   ]
  },
  {
   "cell_type": "markdown",
   "id": "ab7425c9",
   "metadata": {},
   "source": [
    "**`String 43`**"
   ]
  },
  {
   "cell_type": "code",
   "execution_count": 31,
   "id": "48e919ce",
   "metadata": {},
   "outputs": [
    {
     "name": "stdout",
     "output_type": "stream",
     "text": [
      "Satr: DUNYODAGI HAMMAGAH SALAS BOHOR TUGAB QOLDI\n",
      "DUNYODAGI\n",
      "HAMMAGAH\n",
      "SALAS\n",
      "TUGAB\n"
     ]
    }
   ],
   "source": [
    "s = input(\"Satr: \")\n",
    "\n",
    "j = s.index(\" \")\n",
    "\n",
    "if s[:j].count(\"A\") >= 1:\n",
    "    print(s[:j])\n",
    "    \n",
    "for i in range(j+1,len(s)):\n",
    "    if s[i] == \" \":\n",
    "        if s[j+1:i].count(\"A\") >= 1:\n",
    "            print(s[j+1:i])\n",
    "        j = i  \n",
    "        \n",
    "if s[j+1:].count(\"A\") >= 1:\n",
    "    print(s[j+1:])"
   ]
  },
  {
   "cell_type": "markdown",
   "id": "03ba71ee",
   "metadata": {},
   "source": [
    "**`String 44`**"
   ]
  },
  {
   "cell_type": "code",
   "execution_count": 32,
   "id": "ca0baea4",
   "metadata": {},
   "outputs": [
    {
     "name": "stdout",
     "output_type": "stream",
     "text": [
      "Satr: DUNYODAGI HAMMAGAH SAALAS BOHOR TUGAB QOLDIAAA\n",
      "HAMMAGAH\n",
      "SAALAS\n",
      "QOLDIAAA\n"
     ]
    }
   ],
   "source": [
    "s = input(\"Satr: \")\n",
    "\n",
    "j = s.index(\" \")\n",
    "\n",
    "if s[:j].count(\"A\") == 3:\n",
    "    print(s[:j])\n",
    "    \n",
    "for i in range(j+1,len(s)):\n",
    "    if s[i] == \" \":\n",
    "        if s[j+1:i].count(\"A\") == 3:\n",
    "            print(s[j+1:i])\n",
    "        j = i  \n",
    "        \n",
    "if s[j+1:].count(\"A\") == 3:\n",
    "    print(s[j+1:])"
   ]
  },
  {
   "cell_type": "markdown",
   "id": "48f2578e",
   "metadata": {},
   "source": [
    "**`String 45`**"
   ]
  },
  {
   "cell_type": "code",
   "execution_count": 36,
   "id": "2570f90a",
   "metadata": {},
   "outputs": [
    {
     "name": "stdout",
     "output_type": "stream",
     "text": [
      "Satr: DUNYODAGI HAMMAGAH SAALAS BOHOR TUGAB QOLDIAAA\n",
      "BOHOR 5\n"
     ]
    }
   ],
   "source": [
    "s = input(\"Satr: \")\n",
    "\n",
    "j = s.index(\" \")\n",
    "mini = len(s[:j])\n",
    "soz = s[:j]\n",
    "\n",
    "for i in range(j+1,len(s)):\n",
    "    if s[i] == \" \":\n",
    "        if len(s[j+1:i]) < mini:\n",
    "            mini = len(s[j+1:i])\n",
    "            soz = s[j+1:i]\n",
    "        j = i\n",
    "        \n",
    "if len(s[j+1:]) < mini:\n",
    "    mini = s[j+1:]\n",
    "    soz = s[j+1:]\n",
    "print(soz, mini)"
   ]
  },
  {
   "cell_type": "markdown",
   "id": "861ba8c9",
   "metadata": {},
   "source": [
    "**`String 46`**"
   ]
  },
  {
   "cell_type": "code",
   "execution_count": 74,
   "id": "d9fdfcaa",
   "metadata": {},
   "outputs": [
    {
     "name": "stdout",
     "output_type": "stream",
     "text": [
      "Satr: HAMMAGAH SAALAS BOHOR DUNYODAGI TUGAB QOLDIAAA\n",
      "DUNYODAGI 9\n"
     ]
    }
   ],
   "source": [
    "s = input(\"Satr: \")\n",
    "\n",
    "s_list = s.split()\n",
    "\n",
    "maxi = len(s_list[0])\n",
    "soz = s_list[0]\n",
    "\n",
    "for i in range(1, len(s_list)):\n",
    "    if len(s_list[i]) > maxi:\n",
    "        maxi = len(s_list[i])\n",
    "        soz = s_list[i]\n",
    "    \n",
    "print(soz, maxi)"
   ]
  },
  {
   "cell_type": "markdown",
   "id": "b3e01157",
   "metadata": {},
   "source": [
    "**`String 47`**"
   ]
  },
  {
   "cell_type": "code",
   "execution_count": 39,
   "id": "216c6d2d",
   "metadata": {},
   "outputs": [
    {
     "name": "stdout",
     "output_type": "stream",
     "text": [
      "Satr: HAMMAGAH SAALAS BOHOR DUNYODAGI TUGAB QOLDIAAA\n",
      "HAMMAGAH.SAALAS.BOHOR.DUNYODAGI.TUGAB.QOLDIAAA\n"
     ]
    }
   ],
   "source": [
    "s = input(\"Satr: \")\n",
    "s = s.replace(\" \", \".\")\n",
    "print(s)"
   ]
  },
  {
   "cell_type": "markdown",
   "id": "ff5b09c0",
   "metadata": {},
   "source": [
    "**`String 48`**"
   ]
  },
  {
   "cell_type": "code",
   "execution_count": 34,
   "id": "7c86ba1e",
   "metadata": {},
   "outputs": [
    {
     "name": "stdout",
     "output_type": "stream",
     "text": [
      "Satr: DUUYODAGU HAMMAGAH SAALAS BOHOR DUNYODAGI TUGAB QOLQIAQA\n",
      "DUUYO.AGU HAMMAGA. SAALA. BOHOR DUNYO.AGI TUGAB QOL.IA.A\n"
     ]
    }
   ],
   "source": [
    "s = input(\"Satr: \")\n",
    "\n",
    "first = True\n",
    "skip = 0\n",
    "letter = None\n",
    "for i in range(len(s)):\n",
    "    if first:\n",
    "        i += 1\n",
    "        while s[i] != \" \":\n",
    "            if s[i] == s[0]:\n",
    "                s = s[:i] + \".\" + s[i+1:]\n",
    "            i += 1\n",
    "        skip = i\n",
    "        first = False\n",
    "    \n",
    "    else:\n",
    "        if i < skip:\n",
    "            continue\n",
    "        elif s[i] == \" \":\n",
    "            letter = s[i+1]\n",
    "        else:\n",
    "            i += 1\n",
    "            while i < len(s) and s[i] != \" \":\n",
    "                if s[i] == letter:\n",
    "                    s = s[:i] + \".\" + s[i+1:]\n",
    "                i += 1\n",
    "            \n",
    "print(s)"
   ]
  },
  {
   "cell_type": "markdown",
   "id": "9baea9c4",
   "metadata": {},
   "source": [
    "**`String 49`**"
   ]
  },
  {
   "cell_type": "code",
   "execution_count": 50,
   "id": "6416718b",
   "metadata": {},
   "outputs": [
    {
     "name": "stdout",
     "output_type": "stream",
     "text": [
      "Satr: DIUNYODAGII HAMMHAGAH SASALAS RBORHOR DUNYODAGI TUGAB QOLQIAQA\n",
      "D.UNYODAG.I .AMM.AGAH .A.ALAS .BO.HOR DUNYODAGI TUGAB QOLQI.QA\n"
     ]
    }
   ],
   "source": [
    "s = input(\"Satr: \")\n",
    "\n",
    "last = True\n",
    "letter = None\n",
    "skip = 0\n",
    "for i in range(len(s)-1,-1,-1):\n",
    "    if last:\n",
    "        i -= 1\n",
    "        while s[i] != \" \":\n",
    "            if s[i] == s[-1]:\n",
    "                s = s[:i] + \".\" + s[i+1:]\n",
    "            i -= 1\n",
    "        skip = i\n",
    "        last = False\n",
    "    else:\n",
    "        if i > skip:\n",
    "            continue\n",
    "        elif s[i] == \" \":\n",
    "            letter = s[i-1]\n",
    "        else:\n",
    "            i -= 1\n",
    "            while i > -1 and s[i] != \" \":\n",
    "                if s[i] == letter:\n",
    "                    s = s[:i] + \".\" + s[i+1:]\n",
    "                i -= 1\n",
    "            \n",
    "print(s)"
   ]
  },
  {
   "cell_type": "markdown",
   "id": "60550751",
   "metadata": {},
   "source": [
    "**`String 50`**"
   ]
  },
  {
   "cell_type": "code",
   "execution_count": 76,
   "id": "48298921",
   "metadata": {},
   "outputs": [
    {
     "name": "stdout",
     "output_type": "stream",
     "text": [
      "Satr: bu  textdaortiqcha.   probellar     kopp\n",
      "ppok ralleborp .ahcqitroadtxet ub\n"
     ]
    }
   ],
   "source": [
    "s = input(\"Satr: \")\n",
    "\n",
    "s_list = s.split()\n",
    "s = \" \".join(s_list)\n",
    "s = s[::-1]\n",
    "\n",
    "print(s)"
   ]
  },
  {
   "cell_type": "markdown",
   "id": "a3f793e8",
   "metadata": {},
   "source": [
    "**`String 51`**"
   ]
  },
  {
   "cell_type": "code",
   "execution_count": 75,
   "id": "92238d87",
   "metadata": {},
   "outputs": [
    {
     "name": "stdout",
     "output_type": "stream",
     "text": [
      "Satr: DIUNYODAGII        HAMMHAGAH       SASALAS     RBORHOR DUNYODAGI TUGAB     QOLQIAQA \n",
      "DIUNYODAGII DUNYODAGI HAMMHAGAH QOLQIAQA RBORHOR SASALAS TUGAB\n"
     ]
    }
   ],
   "source": [
    "s = input(\"Satr: \")\n",
    "\n",
    "L = s.split()\n",
    "L.sort()\n",
    "s = \" \".join(L)\n",
    "print(s)"
   ]
  },
  {
   "cell_type": "markdown",
   "id": "a097dd6e",
   "metadata": {},
   "source": [
    "**`String 52`**"
   ]
  },
  {
   "cell_type": "code",
   "execution_count": 10,
   "id": "107d35e7",
   "metadata": {},
   "outputs": [
    {
     "name": "stdout",
     "output_type": "stream",
     "text": [
      "Satr: bu dastur birinchi harfni    joyini     ozgartirishi yoki     ozgartirmashi     kerak\n",
      "ub rastud iirinchb iarfnh jjoyini oozgartirishi yyoki oozgartirmashi kkerak\n"
     ]
    }
   ],
   "source": [
    "s = input(\"Satr: \")\n",
    "\n",
    "L = s.split()\n",
    "\n",
    "\n",
    "for i in range(len(L)):\n",
    "    maxi = None\n",
    "    for j in range(1,len(L[i])):\n",
    "        maxi = 0\n",
    "        if L[i][maxi] < L[i][j]:\n",
    "            maxi = j\n",
    "    \n",
    "    L[i] = L[i][maxi] + L[i][1:maxi] + L[i][0] + L[i][maxi+1:]\n",
    "\n",
    "s = \" \".join(L)\n",
    "print(s)"
   ]
  },
  {
   "cell_type": "markdown",
   "id": "830911ab",
   "metadata": {},
   "source": [
    "**`String 53`**"
   ]
  },
  {
   "cell_type": "code",
   "execution_count": 11,
   "id": "9f51c6af",
   "metadata": {},
   "outputs": [
    {
     "name": "stdout",
     "output_type": "stream",
     "text": [
      "Satr: bu dastur ;';#birinchi harfni/'    joyini     ozgartirishi yoki???     ozgartirmashi !!!    kerak.\n",
      "13\n"
     ]
    }
   ],
   "source": [
    "import string\n",
    "\n",
    "s = input(\"Satr: \")\n",
    "\n",
    "count = 0\n",
    "for i in s:\n",
    "    if i in string.punctuation:\n",
    "        count += 1\n",
    "print(count)"
   ]
  },
  {
   "cell_type": "markdown",
   "id": "bd0c836a",
   "metadata": {},
   "source": [
    "**`String 54`**"
   ]
  },
  {
   "cell_type": "code",
   "execution_count": 12,
   "id": "77880b4c",
   "metadata": {},
   "outputs": [
    {
     "name": "stdout",
     "output_type": "stream",
     "text": [
      "Satr: Bu Ellik Tortinchi Misol Javobi Toqqizta Katta Harf Bir\n",
      "9\n"
     ]
    }
   ],
   "source": [
    "s = input(\"Satr: \")\n",
    "\n",
    "count = 0\n",
    "for i in s:\n",
    "    if \"A\" <= i <= \"Z\":\n",
    "        count += 1\n",
    "print(count)"
   ]
  },
  {
   "cell_type": "markdown",
   "id": "4b4e4700",
   "metadata": {},
   "source": [
    "**`String 55`**"
   ]
  },
  {
   "cell_type": "code",
   "execution_count": 21,
   "id": "31fb522d",
   "metadata": {},
   "outputs": [
    {
     "name": "stdout",
     "output_type": "stream",
     "text": [
      "Satr: Bjshfjajk Bu Ellik Tortinchi Misol Javobi Toqqizta Katta Harf Bir\n",
      "Bjshfjajk\n"
     ]
    }
   ],
   "source": [
    "s = input(\"Satr: \")\n",
    "\n",
    "L = s.split()\n",
    "\n",
    "maxi = len(L[0])\n",
    "uzuni = L[0]\n",
    "for i in range(1,len(L)):\n",
    "    if len(L[i]) > maxi:\n",
    "        maxi = len(L[i])\n",
    "        uzuni = L[i]\n",
    "        \n",
    "print(uzuni)"
   ]
  },
  {
   "cell_type": "markdown",
   "id": "c6cf1764",
   "metadata": {},
   "source": [
    "**`String 56`**"
   ]
  },
  {
   "cell_type": "code",
   "execution_count": 23,
   "id": "311ac7c0",
   "metadata": {},
   "outputs": [
    {
     "name": "stdout",
     "output_type": "stream",
     "text": [
      "Satr: Bu Ellik Tortinchi Misol Javobi Toqqizta Katta Harf Bir Sh\n",
      "Sh\n"
     ]
    }
   ],
   "source": [
    "s = input(\"Satr: \")\n",
    "\n",
    "L = s.split()\n",
    "\n",
    "mini = len(L[0])\n",
    "qisqa = L[0]\n",
    "for i in range(1,len(L)):\n",
    "    if len(L[i]) <= mini:\n",
    "        mini = len(L[i])\n",
    "        qisqa = L[i]\n",
    "        \n",
    "print(qisqa)"
   ]
  },
  {
   "cell_type": "markdown",
   "id": "cb239163",
   "metadata": {},
   "source": [
    "**`String 57`**"
   ]
  },
  {
   "cell_type": "code",
   "execution_count": 24,
   "id": "112d0a2d",
   "metadata": {},
   "outputs": [
    {
     "name": "stdout",
     "output_type": "stream",
     "text": [
      "Satr: Bu     Ellik    Tortinchi      Misol       Javobi Toqqizta       Katta      Harf Bir Sh\n",
      "Bu Ellik Tortinchi Misol Javobi Toqqizta Katta Harf Bir Sh\n"
     ]
    }
   ],
   "source": [
    "s = input(\"Satr: \")\n",
    "\n",
    "L = s.split()\n",
    "s = \" \".join(L)\n",
    "print(s)"
   ]
  },
  {
   "cell_type": "markdown",
   "id": "8156f242",
   "metadata": {},
   "source": [
    "**`String 58`**"
   ]
  },
  {
   "cell_type": "code",
   "execution_count": 17,
   "id": "04af7836",
   "metadata": {},
   "outputs": [
    {
     "name": "stdout",
     "output_type": "stream",
     "text": [
      "My_Book\n"
     ]
    }
   ],
   "source": [
    "path = 'D:\\Qudrat_c++\\books\\My_Book.exe'\n",
    "\n",
    "L = path.split(\"\\\\\")\n",
    "fayl = L[-1].split(\".\")\n",
    "print(fayl[0])\n",
    "            \n",
    "# D:\\Qudrat_c++\\books\\My_Book.exe"
   ]
  },
  {
   "cell_type": "markdown",
   "id": "a732b49c",
   "metadata": {},
   "source": [
    "**`String 59`**"
   ]
  },
  {
   "cell_type": "code",
   "execution_count": 38,
   "id": "4e7feb21",
   "metadata": {},
   "outputs": [
    {
     "name": "stdout",
     "output_type": "stream",
     "text": [
      "Satr: D:\\Qudrat_c++\\books\\My_Book.exe\n",
      "exe\n"
     ]
    }
   ],
   "source": [
    "s = input(\"Satr: \")\n",
    "\n",
    "L = s.split(\"\\\\\")\n",
    "\n",
    "dot = L[-1].find(\".\")\n",
    "fayl = L[-1][dot+1:]\n",
    "            \n",
    "print(fayl)\n",
    "            \n",
    "# D:\\Qudrat_c++\\books\\My_Book.exe"
   ]
  },
  {
   "cell_type": "markdown",
   "id": "49074911",
   "metadata": {},
   "source": [
    "**`String 60`**"
   ]
  },
  {
   "cell_type": "code",
   "execution_count": 44,
   "id": "0d56b6fb",
   "metadata": {},
   "outputs": [
    {
     "name": "stdout",
     "output_type": "stream",
     "text": [
      "Satr: D:\\Qudrat_c++\\books\\My_Book.exe\n",
      "Qudrat_c++\n"
     ]
    }
   ],
   "source": [
    "s = input(\"Satr: \")\n",
    "\n",
    "L = s.split(\"\\\\\")\n",
    "\n",
    "if len(L) > 2:\n",
    "    print(L[1])\n",
    "else:\n",
    "    print(\"\\\\\")\n",
    "            \n",
    "# D:\\Qudrat_c++\\books\\My_Book.exe"
   ]
  },
  {
   "cell_type": "markdown",
   "id": "4a25dcbf",
   "metadata": {},
   "source": [
    "**`String 61`**"
   ]
  },
  {
   "cell_type": "code",
   "execution_count": 21,
   "id": "a6f67b2e",
   "metadata": {},
   "outputs": [
    {
     "name": "stdout",
     "output_type": "stream",
     "text": [
      "Satr: D:\\My_Book.exe\n",
      "\"Tub papka\"\n"
     ]
    }
   ],
   "source": [
    "s = input(\"Satr: \")\n",
    "\n",
    "L = s.split(\"\\\\\")\n",
    "\n",
    "if len(L) > 2:\n",
    "    print(L[-2])\n",
    "else:\n",
    "    print('\"Tub papka\"')\n",
    "            \n",
    "# D:\\Qudrat_c++\\books\\My_Book.exe"
   ]
  },
  {
   "cell_type": "markdown",
   "id": "ee425a21",
   "metadata": {},
   "source": [
    "**`String 62`**"
   ]
  },
  {
   "cell_type": "code",
   "execution_count": 52,
   "id": "d2ed160f",
   "metadata": {},
   "outputs": [
    {
     "name": "stdout",
     "output_type": "stream",
     "text": [
      "Satr: Bu Ellik Tortinchi Misol Javobi Toqqizta Katta Harf Bir Sh\n",
      "Cv Fmmjl Upsujodij Njtpm Kbwpcj Uprrjzub Lbuub Ibsg Cjs Ti\n"
     ]
    }
   ],
   "source": [
    "import string\n",
    "\n",
    "s = input(\"Satr: \")\n",
    "\n",
    "for i in range(len(s)):\n",
    "    if s[i] != \" \" and s[i] != \"Z\" and s[i] != \"z\" and s[i] not in string.punctuation:\n",
    "        s = s[:i] + chr(ord(s[i])+1) + s[i+1:]\n",
    "print(s)"
   ]
  },
  {
   "cell_type": "markdown",
   "id": "2a236e5a",
   "metadata": {},
   "source": [
    "**`String 63`**"
   ]
  },
  {
   "cell_type": "code",
   "execution_count": 24,
   "id": "59954c89",
   "metadata": {},
   "outputs": [
    {
     "name": "stdout",
     "output_type": "stream",
     "text": [
      "Satr kiriting\n",
      ">>> Salom dunyo\n",
      "k = 3\n",
      "Vdorp gxqbr\n"
     ]
    }
   ],
   "source": [
    "satr = input('Satr kiriting\\n>>> ')\n",
    "k = int(input('k = '))\n",
    "shfirlangan_satr = ''\n",
    "\n",
    "for i in satr:\n",
    "    if i.islower():\n",
    "        shfirlangan_satr += chr((ord(i)+k-97)%26+97)\n",
    "    elif i.isupper():\n",
    "        shfirlangan_satr += chr((ord(i)+k-65)%26+65)\n",
    "    else:\n",
    "        shfirlangan_satr += i\n",
    "print(shfirlangan_satr)"
   ]
  },
  {
   "cell_type": "markdown",
   "id": "24f3b8a5",
   "metadata": {},
   "source": [
    "**`String 64`**"
   ]
  },
  {
   "cell_type": "code",
   "execution_count": 23,
   "id": "0635be3b",
   "metadata": {},
   "outputs": [],
   "source": [
    "# 63 ga qarab ozlashtirish kerak"
   ]
  },
  {
   "cell_type": "markdown",
   "id": "98007ac1",
   "metadata": {},
   "source": [
    "**`String 65`**"
   ]
  },
  {
   "cell_type": "code",
   "execution_count": 25,
   "id": "e5e4439a",
   "metadata": {},
   "outputs": [
    {
     "name": "stdout",
     "output_type": "stream",
     "text": [
      "Shfirlangan Satrni kiriting\n",
      ">>> Vdorp gxqbr\n",
      "Birinchi belgini kiriting\n",
      ">>> S\n",
      "Salom dunyo\n"
     ]
    }
   ],
   "source": [
    "shfirlangan_satr = input('Shfirlangan Satrni kiriting\\n>>> ')\n",
    "birinchi_belgi = input('Birinchi belgini kiriting\\n>>> ')\n",
    "k = ord(shfirlangan_satr[0]) - ord(birinchi_belgi)\n",
    "satr = ''\n",
    "\n",
    "for i in shfirlangan_satr:\n",
    "    if i.islower():\n",
    "        satr += chr((ord(i)-k-97)%26+97)\n",
    "    elif i.isupper():\n",
    "        satr += chr((ord(i)-k-65)%26+65)\n",
    "    else:\n",
    "        satr += i\n",
    "print(satr)"
   ]
  },
  {
   "cell_type": "markdown",
   "id": "f5b7ffca",
   "metadata": {},
   "source": [
    "**`String 66`**"
   ]
  },
  {
   "cell_type": "code",
   "execution_count": 7,
   "id": "e32a4c2f",
   "metadata": {},
   "outputs": [
    {
     "name": "stdout",
     "output_type": "stream",
     "text": [
      "Satr: Programma\n",
      "Pormargam\n"
     ]
    }
   ],
   "source": [
    "s = input('Satr: ')\n",
    "\n",
    "k = s[0:len(s):2] + s[1:len(s):2]\n",
    "\n",
    "print(k)"
   ]
  },
  {
   "cell_type": "markdown",
   "id": "2faf9550",
   "metadata": {},
   "source": [
    "**`String 67`**"
   ]
  },
  {
   "cell_type": "code",
   "execution_count": 15,
   "id": "89b4a70b",
   "metadata": {},
   "outputs": [
    {
     "name": "stdout",
     "output_type": "stream",
     "text": [
      "Satr: Pormargam\n",
      "4\n",
      "Pragm\n"
     ]
    }
   ],
   "source": [
    "s = input('Satr: ')\n",
    "print(len(s)//2)\n",
    "k = ''\n",
    "for i in range(0,len(s),2):\n",
    "    k += s[i]\n",
    "    \n",
    "print(k)"
   ]
  },
  {
   "cell_type": "markdown",
   "id": "0fe860e3",
   "metadata": {},
   "source": [
    "**`String 68`**"
   ]
  },
  {
   "cell_type": "code",
   "execution_count": 26,
   "id": "dc5f0920",
   "metadata": {},
   "outputs": [
    {
     "name": "stdout",
     "output_type": "stream",
     "text": [
      "Satr kiriting: a234bc4d0005ehgjka\n",
      "g\n"
     ]
    }
   ],
   "source": [
    "satr = input(\"Satr kiriting: \")\n",
    "\n",
    "harflar = []\n",
    "for i in satr:\n",
    "    if \"a\"<=i<=\"z\":\n",
    "        harflar.append(i)\n",
    "\n",
    "for i in range(len(harflar)-1):\n",
    "    if harflar[i]<harflar[i+1]:\n",
    "        continue\n",
    "    print(harflar[i+1])\n",
    "    break\n",
    "else:\n",
    "    print(0)"
   ]
  },
  {
   "cell_type": "markdown",
   "id": "6e8bb883",
   "metadata": {},
   "source": [
    "**`String 70`**"
   ]
  },
  {
   "cell_type": "code",
   "execution_count": 21,
   "id": "7c7239aa",
   "metadata": {},
   "outputs": [
    {
     "name": "stdout",
     "output_type": "stream",
     "text": [
      "Qavs yetishmayapti\n"
     ]
    }
   ],
   "source": [
    "# N70 - versiya 1\n",
    "\n",
    "# satr = input('Satr: ')\n",
    "# satr = 'abd()[]{}(ajnsnxsan)[xjkasxnjkas]axkjmxk{234nnwe.c!}'\n",
    "\n",
    "satr = '()[]())'\n",
    "\n",
    "\n",
    "# yetarlicha qavs borligini tekshirish\n",
    "o_o = satr.count('(')\n",
    "o_y = satr.count(')')\n",
    "\n",
    "t_o = satr.count('[')\n",
    "t_y = satr.count(']')\n",
    "\n",
    "q_o = satr.count('{')\n",
    "q_y = satr.count('}')\n",
    "\n",
    "skip = False\n",
    "if o_o != o_y or t_o != t_y or q_o != q_y:\n",
    "    print(\"Qavs yetishmayapti\")\n",
    "    skip = True\n",
    "\n",
    "    \n",
    "togri = False\n",
    "breaking = False\n",
    "i = 0\n",
    "while i < len(satr) and not skip:\n",
    "    if satr[i] == '(':\n",
    "        j = i + 1\n",
    "        while j < len(satr):\n",
    "            if satr[j] in '([]{}':\n",
    "                print(\"Hato indexi:\", j)\n",
    "                breaking = True\n",
    "                break\n",
    "            if satr[j] == ')':\n",
    "                break\n",
    "                \n",
    "            j += 1\n",
    "        i = j\n",
    "\n",
    "    elif satr[i] == '[':\n",
    "        j = i + 1\n",
    "        while j < len(satr):\n",
    "            if satr[j] in '[(){}':\n",
    "                print(\"Hato indexi:\", j)\n",
    "                breaking = True\n",
    "                break\n",
    "            if satr[j] == ']':\n",
    "                break\n",
    "            \n",
    "            j += 1\n",
    "        i = j\n",
    "    \n",
    "    elif satr[i] == '{':\n",
    "        j = i + 1\n",
    "        while j < len(satr):\n",
    "            if satr[j] in '()[]{':\n",
    "                print(\"Hato indexi:\", j)\n",
    "                breaking = True\n",
    "                break\n",
    "            if satr[j] == '}':\n",
    "                break\n",
    "            \n",
    "            j += 1\n",
    "        i = j\n",
    "        \n",
    "    elif satr[i] in ')]}':\n",
    "        print(\"Hato indexi:\", i)\n",
    "        breaking = True\n",
    "    \n",
    "    if breaking:\n",
    "        togri = False\n",
    "        break\n",
    "    else:\n",
    "        togri = True\n",
    "    \n",
    "    i += 1\n",
    "\n",
    "if togri:\n",
    "    print(\"Tog'ri\")"
   ]
  },
  {
   "cell_type": "code",
   "execution_count": 44,
   "id": "33753a4f",
   "metadata": {},
   "outputs": [
    {
     "name": "stdout",
     "output_type": "stream",
     "text": [
      "Satr: (}\n",
      "Hato indexi: 1\n"
     ]
    }
   ],
   "source": [
    "# N70 - versiya 2\n",
    "\n",
    "satr = input('Satr: ')\n",
    "\n",
    "# yetarlicha qavs borligini tekshirish\n",
    "\n",
    "skip = False\n",
    "ochish = satr.count('(') + satr.count('[') + satr.count('{')\n",
    "yopish = satr.count(')') + satr.count(']') + satr.count('}')\n",
    "if ochish > yopish:\n",
    "    print(\"Qavs yetishmayapti\")\n",
    "    skip = True\n",
    "\n",
    "\n",
    "# skip = False\n",
    "# if satr.count('(') > satr.count(')'):\n",
    "#     print(\"Qavs yetishmayapti\")\n",
    "#     skip = True\n",
    "# if satr.count('[') > satr.count(']'):\n",
    "#     print(\"Qavs yetishmayapti\")\n",
    "#     skip = True\n",
    "# if satr.count('{') > satr.count('}'):\n",
    "#     print(\"Qavs yetishmayapti\")\n",
    "#     skip = True\n",
    "\n",
    "\n",
    "QARSHI = {\n",
    "    \"(\" : \"([]{}\",\n",
    "    \"[\" : \"[(){}\",\n",
    "    \"{\" : \"{()[]\"\n",
    "}\n",
    "\n",
    "JUFT = {\n",
    "    \"(\" : \")\",\n",
    "    \"[\" : \"]\",\n",
    "    \"{\" : \"}\"\n",
    "}\n",
    "\n",
    "togri = False\n",
    "breaking = False\n",
    "i = 0\n",
    "while i < len(satr) and not skip:\n",
    "    if satr[i] == '(' or satr[i] == '[' or satr[i] == '{':\n",
    "        j = i + 1\n",
    "        while j < len(satr):\n",
    "            if satr[j] in QARSHI[satr[i]]:\n",
    "                print(\"Hato indexi:\", j)\n",
    "                breaking = True\n",
    "                break\n",
    "            if satr[j] == JUFT[satr[i]]:\n",
    "                break \n",
    "            \n",
    "            j += 1\n",
    "        i = j\n",
    "\n",
    "    elif satr[i] in ')]}':\n",
    "        print(\"Hato indexi:\", i)\n",
    "        breaking = True\n",
    "    \n",
    "    if breaking:\n",
    "        togri = False\n",
    "        break\n",
    "    togri = True\n",
    "    \n",
    "    i += 1\n",
    "\n",
    "if togri:\n",
    "    print(\"Tog'ri\")"
   ]
  },
  {
   "cell_type": "code",
   "execution_count": null,
   "id": "2d4ad76f",
   "metadata": {},
   "outputs": [],
   "source": []
  }
 ],
 "metadata": {
  "kernelspec": {
   "display_name": "Python 3 (ipykernel)",
   "language": "python",
   "name": "python3"
  },
  "language_info": {
   "codemirror_mode": {
    "name": "ipython",
    "version": 3
   },
   "file_extension": ".py",
   "mimetype": "text/x-python",
   "name": "python",
   "nbconvert_exporter": "python",
   "pygments_lexer": "ipython3",
   "version": "3.9.12"
  }
 },
 "nbformat": 4,
 "nbformat_minor": 5
}
