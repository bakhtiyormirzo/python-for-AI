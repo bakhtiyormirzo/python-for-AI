{
 "cells": [
  {
   "cell_type": "markdown",
   "id": "8cdab18d",
   "metadata": {},
   "source": [
    "# String problem solutions"
   ]
  },
  {
   "cell_type": "markdown",
   "id": "cc86bc27",
   "metadata": {},
   "source": [
    "**`String 1`**"
   ]
  },
  {
   "cell_type": "code",
   "execution_count": 30,
   "id": "25e9fc20",
   "metadata": {},
   "outputs": [
    {
     "name": "stdout",
     "output_type": "stream",
     "text": [
      "Belgini kiriting: a\n",
      "97\n"
     ]
    }
   ],
   "source": [
    "belgi = input(\"Belgini kiriting: \")\n",
    "print(ord(belgi))"
   ]
  },
  {
   "cell_type": "markdown",
   "id": "ca3ec780",
   "metadata": {},
   "source": [
    "**`String 2`**"
   ]
  },
  {
   "cell_type": "code",
   "execution_count": 6,
   "id": "fcdf593e",
   "metadata": {},
   "outputs": [
    {
     "name": "stdout",
     "output_type": "stream",
     "text": [
      "n (32<n<=126): 97\n",
      "a\n"
     ]
    }
   ],
   "source": [
    "n = int(input(\"n (32<n<=126): \"))\n",
    "print(chr(n))"
   ]
  },
  {
   "cell_type": "markdown",
   "id": "b6c81668",
   "metadata": {},
   "source": [
    "**`String 3`**"
   ]
  },
  {
   "cell_type": "code",
   "execution_count": 29,
   "id": "92ec7ff9",
   "metadata": {},
   "outputs": [
    {
     "name": "stdout",
     "output_type": "stream",
     "text": [
      "Belgini kiriting: b\n",
      "a c\n"
     ]
    }
   ],
   "source": [
    "belgi = input(\"Belgini kiriting: \")\n",
    "n = ord(belgi)\n",
    "print(chr(n-1), chr(n+1))"
   ]
  },
  {
   "cell_type": "markdown",
   "id": "e2d0cc9e",
   "metadata": {},
   "source": [
    "**`String 4`**"
   ]
  },
  {
   "cell_type": "code",
   "execution_count": 13,
   "id": "2caab4cb",
   "metadata": {},
   "outputs": [
    {
     "name": "stdout",
     "output_type": "stream",
     "text": [
      "n (1<n<=26): 26\n",
      "A B C D E F G H I J K L M N O P Q R S T U V W X Y Z "
     ]
    }
   ],
   "source": [
    "n = int(input(\"n (1<n<=26): \"))\n",
    "i = 65\n",
    "for _ in range(n):\n",
    "    print(chr(i), end=\" \")\n",
    "    i += 1"
   ]
  },
  {
   "cell_type": "markdown",
   "id": "79841bef",
   "metadata": {},
   "source": [
    "**`String 5`**"
   ]
  },
  {
   "cell_type": "code",
   "execution_count": 16,
   "id": "dbb5950d",
   "metadata": {},
   "outputs": [
    {
     "name": "stdout",
     "output_type": "stream",
     "text": [
      "n (1<n<=26): 26\n",
      "z y x w v u t s r q p o n m l k j i h g f e d c b a "
     ]
    }
   ],
   "source": [
    "n = int(input(\"n (1<n<=26): \"))\n",
    "i = 122\n",
    "for _ in range(n):\n",
    "    print(chr(i), end=\" \")\n",
    "    i -= 1"
   ]
  },
  {
   "cell_type": "markdown",
   "id": "b001f27f",
   "metadata": {},
   "source": [
    "**`String 6`**"
   ]
  },
  {
   "cell_type": "code",
   "execution_count": 28,
   "id": "622bcb7e",
   "metadata": {},
   "outputs": [
    {
     "name": "stdout",
     "output_type": "stream",
     "text": [
      "Belgini kiriting: 4\n",
      "digit\n"
     ]
    }
   ],
   "source": [
    "belgi = input(\"Belgini kiriting: \")\n",
    "n = ord(belgi)\n",
    "\n",
    "if 65<=n<=90 or 97<=n<=122:\n",
    "    print(\"lotin\")\n",
    "elif 48<=n<=57:\n",
    "    print(\"digit\")\n",
    "else:\n",
    "    print(0)"
   ]
  },
  {
   "cell_type": "markdown",
   "id": "3ac742a9",
   "metadata": {},
   "source": [
    "**`String 7`**"
   ]
  },
  {
   "cell_type": "code",
   "execution_count": 27,
   "id": "f7edd6a2",
   "metadata": {},
   "outputs": [
    {
     "name": "stdout",
     "output_type": "stream",
     "text": [
      "Satr: abcz\n",
      "97 122\n"
     ]
    }
   ],
   "source": [
    "s = input(\"Satr: \")\n",
    "print(ord(s[0]), ord(s[-1]))"
   ]
  },
  {
   "cell_type": "markdown",
   "id": "26b09e68",
   "metadata": {},
   "source": [
    "**`String 8`**"
   ]
  },
  {
   "cell_type": "code",
   "execution_count": 32,
   "id": "4e1abd2a",
   "metadata": {},
   "outputs": [
    {
     "name": "stdout",
     "output_type": "stream",
     "text": [
      "n = 5\n",
      "Belgini kiriting: A\n",
      "A A A A A "
     ]
    }
   ],
   "source": [
    "n = int(input(\"n = \"))\n",
    "belgi = input(\"Belgini kiriting: \")\n",
    "num = ord(belgi)\n",
    "\n",
    "for _ in range(n):\n",
    "    print(chr(num), end=\" \")"
   ]
  },
  {
   "cell_type": "markdown",
   "id": "123ea7ca",
   "metadata": {},
   "source": [
    "**`String 9`**"
   ]
  },
  {
   "cell_type": "code",
   "execution_count": 33,
   "id": "feed619e",
   "metadata": {},
   "outputs": [
    {
     "name": "stdout",
     "output_type": "stream",
     "text": [
      "Satr 1: abc\n",
      "Satr 2: hggf\n",
      "abchggf\n"
     ]
    }
   ],
   "source": [
    "s1 = input(\"Satr 1: \")\n",
    "s2 = input(\"Satr 2: \")\n",
    "s3 = s1 + s2\n",
    "print(s3)"
   ]
  },
  {
   "cell_type": "markdown",
   "id": "50d02350",
   "metadata": {},
   "source": [
    "**`String 10`**"
   ]
  },
  {
   "cell_type": "code",
   "execution_count": 34,
   "id": "8a5bfaee",
   "metadata": {},
   "outputs": [
    {
     "name": "stdout",
     "output_type": "stream",
     "text": [
      "Satr: abcd\n",
      "dcba\n"
     ]
    }
   ],
   "source": [
    "s = input(\"Satr: \")\n",
    "s_reverse = s[::-1]\n",
    "print(s_reverse)"
   ]
  },
  {
   "cell_type": "markdown",
   "id": "322141bb",
   "metadata": {},
   "source": [
    "**`String 11`**"
   ]
  },
  {
   "cell_type": "code",
   "execution_count": 35,
   "id": "95ec9ae9",
   "metadata": {},
   "outputs": [
    {
     "name": "stdout",
     "output_type": "stream",
     "text": [
      "Satr: abcd\n",
      "a b c d\n"
     ]
    }
   ],
   "source": [
    "s = input(\"Satr: \")\n",
    "s_probel = \" \".join(s)\n",
    "print(s_probel)"
   ]
  },
  {
   "cell_type": "markdown",
   "id": "551c0693",
   "metadata": {},
   "source": [
    "**`String 12`**"
   ]
  },
  {
   "cell_type": "code",
   "execution_count": 40,
   "id": "43ce0279",
   "metadata": {},
   "outputs": [
    {
     "name": "stdout",
     "output_type": "stream",
     "text": [
      "n = 3\n",
      "Satr: abcd\n",
      "a***b***c***d\n"
     ]
    }
   ],
   "source": [
    "n = int(input(\"n = \"))\n",
    "s = input(\"Satr: \")\n",
    "\n",
    "star = n * \"*\"\n",
    "s_new = f\"{star}\".join(s)\n",
    "print(s_new)"
   ]
  },
  {
   "cell_type": "markdown",
   "id": "994d8bf2",
   "metadata": {},
   "source": [
    "**`String 13`**"
   ]
  },
  {
   "cell_type": "code",
   "execution_count": 41,
   "id": "8d566280",
   "metadata": {},
   "outputs": [
    {
     "name": "stdout",
     "output_type": "stream",
     "text": [
      "Satr: 1234wesf\n",
      "4\n"
     ]
    }
   ],
   "source": [
    "s = input(\"Satr: \")\n",
    "\n",
    "count = 0\n",
    "for i in s:\n",
    "    if i.isdigit():\n",
    "        count += 1\n",
    "print(count)"
   ]
  },
  {
   "cell_type": "markdown",
   "id": "f20b2178",
   "metadata": {},
   "source": [
    "**`String 14`**"
   ]
  },
  {
   "cell_type": "code",
   "execution_count": 42,
   "id": "72d61100",
   "metadata": {},
   "outputs": [
    {
     "name": "stdout",
     "output_type": "stream",
     "text": [
      "Satr: ABCDasgdjah1653\n",
      "4\n"
     ]
    }
   ],
   "source": [
    "s = input(\"Satr: \")\n",
    "\n",
    "count = 0\n",
    "for i in s:\n",
    "    if 65<=ord(i)<=90:\n",
    "        count += 1\n",
    "print(count)"
   ]
  },
  {
   "cell_type": "markdown",
   "id": "63056f12",
   "metadata": {},
   "source": [
    "**`String 15`**"
   ]
  },
  {
   "cell_type": "code",
   "execution_count": 46,
   "id": "6767fbb8",
   "metadata": {},
   "outputs": [
    {
     "name": "stdout",
     "output_type": "stream",
     "text": [
      "Satr: abcASDتالبي\n",
      "8\n"
     ]
    }
   ],
   "source": [
    "s = input(\"Satr: \")\n",
    "\n",
    "count = 0\n",
    "for i in s:\n",
    "    if 97<=ord(i)<=122 or '\\u0600' <= i <= '\\u06FF' or '\\u0750' <= i <= '\\u077F' or '\\u08A0' <= i <= '\\u08FF' or '\\u0870' <= i <= '\\u089F':\n",
    "        count += 1\n",
    "print(count)"
   ]
  },
  {
   "cell_type": "markdown",
   "id": "08a6e197",
   "metadata": {},
   "source": [
    "**`String 16`**"
   ]
  },
  {
   "cell_type": "code",
   "execution_count": 54,
   "id": "d61ac956",
   "metadata": {},
   "outputs": [
    {
     "name": "stdout",
     "output_type": "stream",
     "text": [
      "Satr: ABCDabcd\n",
      "abcdabcd\n"
     ]
    }
   ],
   "source": [
    "s = input(\"Satr: \")\n",
    "diff = ord(\"a\") - ord(\"A\")\n",
    "n = len(s)\n",
    "i = 0\n",
    "while n > 0:\n",
    "    code = ord(s[i])\n",
    "    if 65<=code<=90:\n",
    "        code += diff\n",
    "        \n",
    "    s = s[:i] + f\"{chr(code)}\" + s[i+1:]\n",
    "    n -= 1\n",
    "    i += 1\n",
    "print(s)"
   ]
  },
  {
   "cell_type": "markdown",
   "id": "6af194ad",
   "metadata": {},
   "source": [
    "**`String 17`**"
   ]
  },
  {
   "cell_type": "code",
   "execution_count": 55,
   "id": "c25a50f4",
   "metadata": {},
   "outputs": [],
   "source": [
    "# ???"
   ]
  },
  {
   "cell_type": "markdown",
   "id": "d2e8b569",
   "metadata": {},
   "source": [
    "**`String 18`**"
   ]
  },
  {
   "cell_type": "code",
   "execution_count": 56,
   "id": "1aa68e4d",
   "metadata": {},
   "outputs": [
    {
     "name": "stdout",
     "output_type": "stream",
     "text": [
      "Satr: ABCDabcd\n",
      "abcdABCD\n"
     ]
    }
   ],
   "source": [
    "s = input(\"Satr: \")\n",
    "diff = ord(\"a\") - ord(\"A\")\n",
    "n = len(s)\n",
    "i = 0\n",
    "while n > 0:\n",
    "    code = ord(s[i])\n",
    "    if 65<=code<=90:\n",
    "        code += diff\n",
    "    elif 97<=code<=122:\n",
    "        code -= diff\n",
    "        \n",
    "    s = s[:i] + f\"{chr(code)}\" + s[i+1:]\n",
    "    n -= 1\n",
    "    i += 1\n",
    "print(s)"
   ]
  },
  {
   "cell_type": "markdown",
   "id": "ae2805e1",
   "metadata": {},
   "source": [
    "**`String 19`**"
   ]
  },
  {
   "cell_type": "code",
   "execution_count": 78,
   "id": "294a5dfc",
   "metadata": {},
   "outputs": [
    {
     "name": "stdout",
     "output_type": "stream",
     "text": [
      "Satr: 12.4\n",
      "haqiqiy\n"
     ]
    }
   ],
   "source": [
    "s = input(\"Satr: \")\n",
    "butun = False\n",
    "haqiqiy = False\n",
    "nol = False\n",
    "for i in s:\n",
    "    if i.isdigit():\n",
    "        butun = True\n",
    "    elif i == \".\":\n",
    "        haqiqiy = True\n",
    "    else:\n",
    "        nol = True\n",
    "\n",
    "if nol:\n",
    "    print(0)\n",
    "elif butun and haqiqiy:\n",
    "    print(\"haqiqiy\")\n",
    "else:\n",
    "    print(\"butun\")"
   ]
  },
  {
   "cell_type": "markdown",
   "id": "85c2b377",
   "metadata": {},
   "source": [
    "**`String 20`**"
   ]
  },
  {
   "cell_type": "code",
   "execution_count": 79,
   "id": "c80cd260",
   "metadata": {},
   "outputs": [
    {
     "name": "stdout",
     "output_type": "stream",
     "text": [
      "Satr: 12345\n",
      "1 2 3 4 5 "
     ]
    }
   ],
   "source": [
    "s = input(\"Satr: \")\n",
    "for i in s:\n",
    "    print(i, end=\" \")"
   ]
  },
  {
   "cell_type": "markdown",
   "id": "974cd361",
   "metadata": {},
   "source": [
    "**`String 21`**"
   ]
  },
  {
   "cell_type": "code",
   "execution_count": 82,
   "id": "cfc1e4ef",
   "metadata": {},
   "outputs": [
    {
     "name": "stdout",
     "output_type": "stream",
     "text": [
      "Satr: 12345\n",
      "5 4 3 2 1 "
     ]
    }
   ],
   "source": [
    "s = input(\"Satr: \")\n",
    "for i in range(len(s)-1, -1, -1):\n",
    "    print(s[i], end=\" \")"
   ]
  },
  {
   "cell_type": "markdown",
   "id": "bef1fefd",
   "metadata": {},
   "source": [
    "**`String 22`**"
   ]
  },
  {
   "cell_type": "code",
   "execution_count": 83,
   "id": "55fb3a7c",
   "metadata": {},
   "outputs": [
    {
     "name": "stdout",
     "output_type": "stream",
     "text": [
      "Satr: 123\n",
      "6\n"
     ]
    }
   ],
   "source": [
    "s = input(\"Satr: \")\n",
    "yig = 0\n",
    "for i in s:\n",
    "    yig += int(i)\n",
    "print(yig)"
   ]
  },
  {
   "cell_type": "markdown",
   "id": "6ce96a24",
   "metadata": {},
   "source": [
    "**`String 23`**"
   ]
  },
  {
   "cell_type": "code",
   "execution_count": 124,
   "id": "56f7079b",
   "metadata": {},
   "outputs": [
    {
     "name": "stdout",
     "output_type": "stream",
     "text": [
      "Satr: 1+2+3+4+10+550\n",
      "570\n"
     ]
    }
   ],
   "source": [
    "s = input(\"Satr: \")\n",
    "\n",
    "son = \"\"\n",
    "natija = 0\n",
    "first = True\n",
    "index = None\n",
    "i = 0\n",
    "while i < len(s):\n",
    "    if first:\n",
    "        if s[i].isdigit():\n",
    "            son += s[i]\n",
    "            i += 1\n",
    "            continue\n",
    "        else:\n",
    "            natija += int(son)\n",
    "            son = \"\"\n",
    "            first = False\n",
    "    if s[i].isdigit() == False:\n",
    "        if index != None:\n",
    "            if s[index] == \"+\":\n",
    "                natija += int(son)\n",
    "            else:\n",
    "                natija -= int(son)\n",
    "        son = \"\"\n",
    "        index = i\n",
    "    else:\n",
    "        son += s[i]\n",
    "    i += 1\n",
    "\n",
    "if s[index] == \"+\":\n",
    "    natija += int(son)\n",
    "else:\n",
    "    natija -= int(son)\n",
    "    \n",
    "print(natija)"
   ]
  },
  {
   "cell_type": "markdown",
   "id": "001a1f9e",
   "metadata": {},
   "source": [
    "**`String 24`**"
   ]
  },
  {
   "cell_type": "code",
   "execution_count": 134,
   "id": "25c3442f",
   "metadata": {},
   "outputs": [
    {
     "name": "stdout",
     "output_type": "stream",
     "text": [
      "Satr: 1111110111\n",
      "1015\n"
     ]
    }
   ],
   "source": [
    "s = input(\"Satr: \")\n",
    "\n",
    "s = s[::-1]\n",
    "\n",
    "daraja = 0\n",
    "natija = 0\n",
    "for i in s:\n",
    "    if i == \"1\":\n",
    "        natija += 2**daraja\n",
    "    daraja += 1\n",
    "print(natija)"
   ]
  },
  {
   "cell_type": "markdown",
   "id": "608590ef",
   "metadata": {},
   "source": [
    "**`String 25`**"
   ]
  },
  {
   "cell_type": "code",
   "execution_count": 135,
   "id": "27c6842d",
   "metadata": {},
   "outputs": [
    {
     "name": "stdout",
     "output_type": "stream",
     "text": [
      "n = 75\n",
      "75\n"
     ]
    }
   ],
   "source": [
    "n = input(\"n = \")\n",
    "n = int(n)\n",
    "natija = \"\"\n",
    "qoldiq = 0\n",
    "while n != 0:\n",
    "    qoldiq = n%10\n",
    "    natija = str(qoldiq) + natija\n",
    "    n //= 10\n",
    "print(natija)"
   ]
  },
  {
   "cell_type": "code",
   "execution_count": null,
   "id": "47ec28e1",
   "metadata": {},
   "outputs": [],
   "source": []
  }
 ],
 "metadata": {
  "kernelspec": {
   "display_name": "Python 3 (ipykernel)",
   "language": "python",
   "name": "python3"
  },
  "language_info": {
   "codemirror_mode": {
    "name": "ipython",
    "version": 3
   },
   "file_extension": ".py",
   "mimetype": "text/x-python",
   "name": "python",
   "nbconvert_exporter": "python",
   "pygments_lexer": "ipython3",
   "version": "3.9.12"
  }
 },
 "nbformat": 4,
 "nbformat_minor": 5
}
