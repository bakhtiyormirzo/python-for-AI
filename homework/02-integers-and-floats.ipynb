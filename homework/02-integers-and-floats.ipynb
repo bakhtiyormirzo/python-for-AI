{
 "cells": [
  {
   "cell_type": "markdown",
   "id": "5a8ea191",
   "metadata": {},
   "source": [
    "# Homework 2"
   ]
  },
  {
   "cell_type": "code",
   "execution_count": 4,
   "id": "f975a68b",
   "metadata": {},
   "outputs": [
    {
     "name": "stdout",
     "output_type": "stream",
     "text": [
      "Uzunlikni kiriting: 120\n",
      "1 metr bor, va  20 sm bor.\n"
     ]
    }
   ],
   "source": [
    "# 1-savol\n",
    "\n",
    "L = int(input(\"Uzunlikni kiriting: \"))\n",
    "metr = L // 100\n",
    "sm = L % 100\n",
    "print(metr, \"metr bor, va \", sm, \"sm bor.\")"
   ]
  },
  {
   "cell_type": "code",
   "execution_count": 8,
   "id": "b8c5f2bb",
   "metadata": {},
   "outputs": [
    {
     "name": "stdout",
     "output_type": "stream",
     "text": [
      "Uzunlikni kiriting: 1200\n",
      "1 tonna bor, va  200 kg bor.\n"
     ]
    }
   ],
   "source": [
    "# 2-savol\n",
    "\n",
    "T = int(input(\"Uzunlikni kiriting: \"))\n",
    "tonna = T // 1000\n",
    "kg = T % 1000\n",
    "print(tonna, \"tonna bor, va \", kg, \"kg bor.\")"
   ]
  },
  {
   "cell_type": "code",
   "execution_count": 12,
   "id": "c78ca7e6",
   "metadata": {},
   "outputs": [
    {
     "name": "stdout",
     "output_type": "stream",
     "text": [
      "Uzunlikni kiriting: 2050\n",
      "2 kb bor, va  2 bayt bor.\n"
     ]
    }
   ],
   "source": [
    "# 3-savol\n",
    "\n",
    "hotira = int(input(\"Uzunlikni kiriting: \"))\n",
    "kb = hotira // 1024\n",
    "bayt = hotira % 1024\n",
    "print(kb, \"kb bor, va \", bayt, \"bayt bor.\")"
   ]
  },
  {
   "cell_type": "code",
   "execution_count": 13,
   "id": "466bc815",
   "metadata": {},
   "outputs": [
    {
     "name": "stdout",
     "output_type": "stream",
     "text": [
      "Katta kesma uzunligi: 5\n",
      "Kichik kesma uzunligi: 2\n",
      "2 ta butun joylashtirish mumkin.\n"
     ]
    }
   ],
   "source": [
    "# 4-savol\n",
    "\n",
    "a = int(input(\"Katta kesma uzunligi: \"))\n",
    "b = int(input(\"Kichik kesma uzunligi: \"))\n",
    "\n",
    "butun = a // b\n",
    "print(butun, \"ta butun joylashtirish mumkin.\")"
   ]
  },
  {
   "cell_type": "code",
   "execution_count": 14,
   "id": "7c6e67cd",
   "metadata": {},
   "outputs": [
    {
     "name": "stdout",
     "output_type": "stream",
     "text": [
      "Katta kesma uzunligi: 5\n",
      "Kichik kesma uzunligi: 2\n",
      "2 ta butun joylashtirish mumkin, va 1 ta qoldiq qoladi.\n"
     ]
    }
   ],
   "source": [
    "# 5-savol\n",
    "\n",
    "a = int(input(\"Katta kesma uzunligi: \"))\n",
    "b = int(input(\"Kichik kesma uzunligi: \"))\n",
    "\n",
    "butun = a // b\n",
    "qoldiq = a % b\n",
    "print(butun, \"ta butun joylashtirish mumkin, va\", qoldiq, \"ta qoldiq qoladi.\")"
   ]
  },
  {
   "cell_type": "code",
   "execution_count": 16,
   "id": "d79ef6ae",
   "metadata": {},
   "outputs": [
    {
     "name": "stdout",
     "output_type": "stream",
     "text": [
      "Ikki xonalik son kiriting: 94\n",
      "9 soni o'nlik, va  4 soni birlik.\n"
     ]
    }
   ],
   "source": [
    "# 6-savol\n",
    "\n",
    "a = int(input(\"Ikki xonalik son kiriting: \"))\n",
    "\n",
    "onlik = a // 10\n",
    "birlik = a % 10\n",
    "print(onlik, \"soni o'nlik, va \", birlik, \"soni birlik.\")"
   ]
  },
  {
   "cell_type": "code",
   "execution_count": 18,
   "id": "eef5d8f9",
   "metadata": {},
   "outputs": [
    {
     "name": "stdout",
     "output_type": "stream",
     "text": [
      "Ikki xonalik son kiriting: 22\n",
      "Raqamlar yig'indisi 4 ga teng.\n"
     ]
    }
   ],
   "source": [
    "# 7-savol \n",
    "\n",
    "a = int(input(\"Ikki xonalik son kiriting: \"))\n",
    "\n",
    "onlik = a // 10\n",
    "birlik = a % 10\n",
    "print(\"Raqamlar yig'indisi\", onlik + birlik, \"ga teng.\")"
   ]
  },
  {
   "cell_type": "code",
   "execution_count": 23,
   "id": "c46499eb",
   "metadata": {},
   "outputs": [
    {
     "name": "stdout",
     "output_type": "stream",
     "text": [
      "Ikki xonalik son kiriting: 96\n",
      "Raqamlari almashirildi: 69\n"
     ]
    }
   ],
   "source": [
    "# 8-savol\n",
    "\n",
    "a = int(input(\"Ikki xonalik son kiriting: \"))\n",
    "\n",
    "onlik = a // 10\n",
    "birlik = a % 10\n",
    "print(\"Raqamlari almashirildi:\", birlik * 10 + onlik)"
   ]
  },
  {
   "cell_type": "code",
   "execution_count": 25,
   "id": "3f832ec0",
   "metadata": {},
   "outputs": [
    {
     "name": "stdout",
     "output_type": "stream",
     "text": [
      "Uch xonalik son kiriting: 256\n",
      "Yuzlar xonasidagi raqam: 2\n"
     ]
    }
   ],
   "source": [
    "# 9-savol\n",
    "\n",
    "a = int(input(\"Uch xonalik son kiriting: \"))\n",
    "\n",
    "yuzlar = a // 100\n",
    "print(\"Yuzlar xonasidagi raqam:\", yuzlar)"
   ]
  },
  {
   "cell_type": "code",
   "execution_count": 28,
   "id": "fec0dfa4",
   "metadata": {},
   "outputs": [
    {
     "name": "stdout",
     "output_type": "stream",
     "text": [
      "Uch xonalik son kiriting: 653\n",
      "Birlikda: 3 va on'likda: 5\n"
     ]
    }
   ],
   "source": [
    "# 10-savol\n",
    "\n",
    "a = int(input(\"Uch xonalik son kiriting: \"))\n",
    "\n",
    "birlik = a % 10\n",
    "onlik = (a // 10) % 10\n",
    "print(\"Birlikda:\", birlik, \"va on'likda:\", onlik)"
   ]
  },
  {
   "cell_type": "code",
   "execution_count": 30,
   "id": "80573dc3",
   "metadata": {},
   "outputs": [
    {
     "name": "stdout",
     "output_type": "stream",
     "text": [
      "Uch xonalik son kiriting: 198\n",
      "Raqamlar yig'indisi: 18\n"
     ]
    }
   ],
   "source": [
    "# 11-savol\n",
    "\n",
    "a = int(input(\"Uch xonalik son kiriting: \"))\n",
    "\n",
    "birlik = a % 10\n",
    "onlik = (a // 10) % 10\n",
    "yuzlik = a // 100\n",
    "print(\"Raqamlar yig'indisi:\", birlik + onlik + yuzlik)"
   ]
  },
  {
   "cell_type": "code",
   "execution_count": 31,
   "id": "67d807cc",
   "metadata": {},
   "outputs": [
    {
     "name": "stdout",
     "output_type": "stream",
     "text": [
      "Uch xonalik son kiriting: 123\n",
      "Raqamlari teskari qilindi: 321\n"
     ]
    }
   ],
   "source": [
    "# 12-savol\n",
    "\n",
    "a = int(input(\"Uch xonalik son kiriting: \"))\n",
    "\n",
    "birlik = a % 10\n",
    "onlik = (a // 10) % 10\n",
    "yuzlik = a // 100\n",
    "\n",
    "teskari = (birlik * 100) + (onlik * 10) + yuzlik\n",
    "print(\"Raqamlari teskari qilindi:\", teskari)"
   ]
  },
  {
   "cell_type": "code",
   "execution_count": 33,
   "id": "48666e67",
   "metadata": {},
   "outputs": [
    {
     "name": "stdout",
     "output_type": "stream",
     "text": [
      "Uch xonalik son kiriting: 951\n",
      "519\n"
     ]
    }
   ],
   "source": [
    "# 13-savol\n",
    "\n",
    "a = int(input(\"Uch xonalik son kiriting: \"))\n",
    "\n",
    "yuzlar = a // 100\n",
    "a = a % 100\n",
    "a = (a * 10) + yuzlar\n",
    "print(a)"
   ]
  },
  {
   "cell_type": "code",
   "execution_count": 36,
   "id": "987a50e7",
   "metadata": {},
   "outputs": [
    {
     "name": "stdout",
     "output_type": "stream",
     "text": [
      "Uch xonalik son kiriting: 952\n",
      "295\n"
     ]
    }
   ],
   "source": [
    "# 14-savol\n",
    "\n",
    "a = int(input(\"Uch xonalik son kiriting: \"))\n",
    "\n",
    "birlik = a % 10\n",
    "a = a // 10\n",
    "a = (birlik * 100) + a\n",
    "print(a)"
   ]
  },
  {
   "cell_type": "code",
   "execution_count": 39,
   "id": "4ab7d8fe",
   "metadata": {},
   "outputs": [
    {
     "name": "stdout",
     "output_type": "stream",
     "text": [
      "Uch xonalik son kiriting: 123\n",
      "Raqamlari almashtirildi: 213\n"
     ]
    }
   ],
   "source": [
    "# 15-savol\n",
    "\n",
    "a = int(input(\"Uch xonalik son kiriting: \"))\n",
    "\n",
    "birlik = a % 10\n",
    "onlik = (a // 10) % 10\n",
    "yuzlik = a // 100\n",
    "\n",
    "teskari = (onlik * 100) + (yuzlik * 10) + birlik\n",
    "print(\"Raqamlari almashtirildi:\", teskari)"
   ]
  },
  {
   "cell_type": "code",
   "execution_count": 40,
   "id": "4ee17db1",
   "metadata": {},
   "outputs": [
    {
     "name": "stdout",
     "output_type": "stream",
     "text": [
      "Uch xonalik son kiriting: 123\n",
      "Raqamlari almashtirildi: 132\n"
     ]
    }
   ],
   "source": [
    "# 16-savol\n",
    "\n",
    "a = int(input(\"Uch xonalik son kiriting: \"))\n",
    "\n",
    "birlik = a % 10\n",
    "onlik = (a // 10) % 10\n",
    "yuzlik = a // 100\n",
    "\n",
    "teskari = (yuzlik * 100) + (birlik * 10) + onlik\n",
    "print(\"Raqamlari almashtirildi:\", teskari)"
   ]
  },
  {
   "cell_type": "code",
   "execution_count": 43,
   "id": "89627811",
   "metadata": {},
   "outputs": [
    {
     "name": "stdout",
     "output_type": "stream",
     "text": [
      "To'rt xonalik son kiriting: 9864\n",
      "Yuzlik: 8\n"
     ]
    }
   ],
   "source": [
    "# 17-savol\n",
    "\n",
    "a = int(input(\"To'rt xonalik son kiriting: \"))\n",
    "\n",
    "yuzlik = (a // 100) % 10\n",
    "print(\"Yuzlik:\", yuzlik)"
   ]
  },
  {
   "cell_type": "code",
   "execution_count": 44,
   "id": "a6e967b2",
   "metadata": {},
   "outputs": [
    {
     "name": "stdout",
     "output_type": "stream",
     "text": [
      "To'rt xonalik son kiriting: 1234\n",
      "Minglik: 1\n"
     ]
    }
   ],
   "source": [
    "# 18-savol\n",
    "\n",
    "a = int(input(\"To'rt xonalik son kiriting: \"))\n",
    "\n",
    "minglik = a // 1000\n",
    "print(\"Minglik:\", minglik)"
   ]
  },
  {
   "cell_type": "code",
   "execution_count": 49,
   "id": "4a3e7cf2",
   "metadata": {},
   "outputs": [
    {
     "name": "stdout",
     "output_type": "stream",
     "text": [
      "Soniya kiritlsin: 125\n",
      "Kun boshidan boshlab to'liq 2 minut o'tdi.\n"
     ]
    }
   ],
   "source": [
    "# 19-savol\n",
    "\n",
    "soniya = int(input(\"Soniya kiritlsin: \"))\n",
    "\n",
    "minut = soniya // 60\n",
    "print(\"Kun boshidan boshlab to'liq\", minut, \"minut o'tdi.\")"
   ]
  },
  {
   "cell_type": "code",
   "execution_count": 52,
   "id": "5a4f6d8c",
   "metadata": {},
   "outputs": [
    {
     "name": "stdout",
     "output_type": "stream",
     "text": [
      "Soniya kiritlsin: 7200\n",
      "Kun boshidan boshlab to'liq 2 soat o'tdi.\n"
     ]
    }
   ],
   "source": [
    "# 20-savol\n",
    "\n",
    "soniya = int(input(\"Soniya kiritlsin: \"))\n",
    "\n",
    "soat = soniya // 3600\n",
    "print(\"Kun boshidan boshlab to'liq\", soat, \"soat o'tdi.\")"
   ]
  },
  {
   "cell_type": "code",
   "execution_count": 53,
   "id": "9cb19191",
   "metadata": {},
   "outputs": [
    {
     "name": "stdout",
     "output_type": "stream",
     "text": [
      "Soniya kiritlsin: 124\n",
      "Kun boshidan boshlab to'liq 2 minut, va 4 sekund o'tdi.\n"
     ]
    }
   ],
   "source": [
    "# 21-savol\n",
    "\n",
    "soniya = int(input(\"Soniya kiritlsin: \"))\n",
    "\n",
    "minut = soniya // 60\n",
    "sekund = soniya % 60\n",
    "print(\"Kun boshidan boshlab to'liq\", minut, \"minut, va\", sekund, \"sekund o'tdi.\")"
   ]
  },
  {
   "cell_type": "code",
   "execution_count": 55,
   "id": "d8a82006",
   "metadata": {},
   "outputs": [
    {
     "name": "stdout",
     "output_type": "stream",
     "text": [
      "Soniya kiritlsin: 7700\n",
      "2 soat, va 500 sekund o'tdi.\n"
     ]
    }
   ],
   "source": [
    "# 22-savol\n",
    "\n",
    "soniya = int(input(\"Soniya kiritlsin: \"))\n",
    "\n",
    "soat = soniya // 3600\n",
    "sekund = soniya % 3600\n",
    "print(soat, \"soat, va\", sekund, \"sekund o'tdi.\")"
   ]
  },
  {
   "cell_type": "code",
   "execution_count": 68,
   "id": "86fbf6cd",
   "metadata": {},
   "outputs": [
    {
     "name": "stdout",
     "output_type": "stream",
     "text": [
      "Soniya kiritlsin: 200\n",
      "0 soat, 3 minut, va 20 sekund o'tdi.\n"
     ]
    }
   ],
   "source": [
    "# 23-savol\n",
    "\n",
    "soniya = int(input(\"Soniya kiritlsin: \"))\n",
    "\n",
    "soat = soniya // 3600\n",
    "soniya = soniya - (soat * 3600)\n",
    "minut = soniya // 60\n",
    "sekund = soniya % 60\n",
    "print(soat, \"soat,\", minut, \"minut, va\", sekund, \"sekund o'tdi.\")"
   ]
  },
  {
   "cell_type": "code",
   "execution_count": 69,
   "id": "ed6ec184",
   "metadata": {},
   "outputs": [
    {
     "name": "stdout",
     "output_type": "stream",
     "text": [
      "1-365 oralig'idagi son kiritilsin: 10\n",
      "Haftaning 3 kuniga tog'ri keladi.\n"
     ]
    }
   ],
   "source": [
    "# 24-savol\n",
    "# 0-yakshanba, ..., 6-shanba.\n",
    "# 1-yanvar dushanba bolsa\n",
    "\n",
    "k = int(input(\"1-365 oralig'idagi son kiritilsin: \"))\n",
    "\n",
    "kun = k % 7\n",
    "print(\"Haftaning\", kun, \"kuniga tog'ri keladi.\")"
   ]
  },
  {
   "cell_type": "code",
   "execution_count": 86,
   "id": "ab5b22d1",
   "metadata": {},
   "outputs": [
    {
     "name": "stdout",
     "output_type": "stream",
     "text": [
      "1-365 oralig'idagi son kiritilsin: 13\n",
      "Haftaning 2 kuniga tog'ri keladi.\n"
     ]
    }
   ],
   "source": [
    "# 25-savol\n",
    "# 0-yakshanba, ..., 6-shanba.\n",
    "# 1-yanvar payshanba (3) bolsa\n",
    "\n",
    "k = int(input(\"1-365 oralig'idagi son kiritilsin: \"))\n",
    "\n",
    "kun = (k + 3) % 7\n",
    "print(\"Haftaning\", kun, \"kuniga tog'ri keladi.\")"
   ]
  },
  {
   "cell_type": "code",
   "execution_count": 77,
   "id": "c4cf856f",
   "metadata": {},
   "outputs": [
    {
     "name": "stdout",
     "output_type": "stream",
     "text": [
      "1-365 oralig'idagi son kiritilsin: 13\n",
      "Haftaning 7 kuniga tog'ri keladi.\n"
     ]
    }
   ],
   "source": [
    "# 26-savol\n",
    "# 1-dushanba, ..., 7-yakshanba.\n",
    "# 1-yanvar seshanba (2) bolsa\n",
    "\n",
    "k = int(input(\"1-365 oralig'idagi son kiritilsin: \"))\n",
    "\n",
    "kun = (k + 2) % 8 # dushanba 0 dan emas, 1 dan boshlanyakkani uchun\n",
    "print(\"Haftaning\", kun, \"kuniga tog'ri keladi.\")"
   ]
  },
  {
   "cell_type": "code",
   "execution_count": 82,
   "id": "d0120e54",
   "metadata": {},
   "outputs": [
    {
     "name": "stdout",
     "output_type": "stream",
     "text": [
      "1-365 oralig'idagi son kiritilsin: 2\n",
      "Haftaning 4 kuniga tog'ri keladi.\n"
     ]
    }
   ],
   "source": [
    "# 27-savol\n",
    "# 1-dushanba, ..., 7-yakshanba.\n",
    "# 1-yanvar yakshanba (1) bolsa\n",
    "\n",
    "k = int(input(\"1-365 oralig'idagi son kiritilsin: \"))\n",
    "\n",
    "kun = (k + 2) % 8 # dushanba 0 dan emas, 1 dan boshlanyakkani uchun\n",
    "print(\"Haftaning\", kun, \"kuniga tog'ri keladi.\")"
   ]
  },
  {
   "cell_type": "code",
   "execution_count": 85,
   "id": "18065a72",
   "metadata": {},
   "outputs": [
    {
     "name": "stdout",
     "output_type": "stream",
     "text": [
      "1-365 oraliqda son kiriting\n",
      ">>> 13\n",
      "1-yanvar haftaning nechanchi kuniga to`g`ri keladi\n",
      ">>> 2\n",
      "13-kun haftaning 7-kuniga to`g`ri keladi!\n"
     ]
    }
   ],
   "source": [
    "# 28-savol\n",
    "\n",
    "K = int(input(\"1-365 oraliqda son kiriting\\n>>> \"))\n",
    "N = int(input(\"1-yanvar haftaning nechanchi kuniga to`g`ri keladi\\n>>> \"))\n",
    "h = K-1%7 # Dushanba 0 emas 1 bo`lganligi uchun 1 ayirdim\n",
    "hafta_kuni = (h+N-1)%7+1\n",
    "print(f'{K}-kun haftaning {hafta_kuni}-kuniga to`g`ri keladi!')"
   ]
  },
  {
   "cell_type": "code",
   "execution_count": 88,
   "id": "28badae4",
   "metadata": {},
   "outputs": [
    {
     "name": "stdout",
     "output_type": "stream",
     "text": [
      "1-365 son kiritilsin: 10\n",
      "1-yanvar hafta kuni: 5\n"
     ]
    },
    {
     "data": {
      "text/plain": [
       "0"
      ]
     },
     "execution_count": 88,
     "metadata": {},
     "output_type": "execute_result"
    }
   ],
   "source": [
    "# 28-savol\n",
    "\n",
    "k = int(input(\"1-365 son kiritilsin: \"))\n",
    "n = int(input(\"1-yanvar hafta kuni: \"))\n",
    "\n",
    "javob = (k + n - 1) % 7\n",
    "javob"
   ]
  },
  {
   "cell_type": "code",
   "execution_count": 89,
   "id": "12b36c17",
   "metadata": {},
   "outputs": [
    {
     "name": "stdout",
     "output_type": "stream",
     "text": [
      "1-365 son kiritilsin: 10\n"
     ]
    },
    {
     "data": {
      "text/plain": [
       "0"
      ]
     },
     "execution_count": 89,
     "metadata": {},
     "output_type": "execute_result"
    }
   ],
   "source": [
    "k = int(input(\"1-365 son kiritilsin: \"))\n",
    "\n",
    "javob = (k + 4) % 7\n",
    "javob"
   ]
  },
  {
   "cell_type": "code",
   "execution_count": 92,
   "id": "a4f4717f",
   "metadata": {},
   "outputs": [
    {
     "name": "stdout",
     "output_type": "stream",
     "text": [
      "Soniya kiritilsin: 35000000\n",
      "1 yil, 1 oy, 15 kun, 2 soat, 13 minut, 20 sekund bor.\n"
     ]
    }
   ],
   "source": [
    "n = int(input(\"Soniya kiritilsin: \"))\n",
    "\n",
    "y = 360 * 24 * 3600\n",
    "o = 30 * 24 * 3600\n",
    "k = 24 * 3600\n",
    "\n",
    "yil = n // y\n",
    "n = n - (yil * y)\n",
    "\n",
    "oy = n // o\n",
    "n = n - (oy * o)\n",
    "\n",
    "kun = n // k\n",
    "n = n - (kun * k)\n",
    "\n",
    "soat = n // 3600\n",
    "n = n - (soat * 3600)\n",
    "\n",
    "minut = n // 60\n",
    "sec = n % 60\n",
    "\n",
    "print(yil, \"yil,\", oy, \"oy,\", kun, \"kun,\", soat,\"soat,\", minut,\"minut,\",sec,\"sekund bor.\")"
   ]
  },
  {
   "cell_type": "code",
   "execution_count": 94,
   "id": "21eca05e",
   "metadata": {},
   "outputs": [
    {
     "name": "stdout",
     "output_type": "stream",
     "text": [
      "a=2\n",
      "b=4\n",
      "a =  4 | b =  2\n"
     ]
    }
   ],
   "source": [
    "a = int(input(\"a=\"))\n",
    "b = int(input(\"b=\"))\n",
    "\n",
    "a = a + b\n",
    "b = a - b\n",
    "a = a - b\n",
    "\n",
    "print(\"a = \", a, \"|\", \"b = \", b)"
   ]
  },
  {
   "cell_type": "code",
   "execution_count": 95,
   "id": "54d922dc",
   "metadata": {},
   "outputs": [
    {
     "name": "stdout",
     "output_type": "stream",
     "text": [
      "a = 2\n",
      "b = 3\n",
      "c = 4\n",
      "a = 4, b = 2, c = 3\n"
     ]
    }
   ],
   "source": [
    "# uyga vazifa\n",
    "\n",
    "a = int(input(\"a = \"))\n",
    "b = int(input(\"b = \"))\n",
    "c = int(input(\"c = \"))\n",
    "\n",
    "a = a + b + c\n",
    "\n",
    "b = a - b - c\n",
    "c = a - b - c\n",
    "a = a - b - c\n",
    "\n",
    "print(f\"a = {a}, b = {b}, c = {c}\")"
   ]
  },
  {
   "cell_type": "code",
   "execution_count": 98,
   "id": "c012f86d",
   "metadata": {},
   "outputs": [
    {
     "name": "stdout",
     "output_type": "stream",
     "text": [
      "To'rt xonalik son kiriting: 1235\n",
      "11\n"
     ]
    }
   ],
   "source": [
    "a = int(input(\"To'rt xonalik son kiriting: \"))\n",
    "\n",
    "minglik = a // 1000\n",
    "yuzlik = (a // 100) % 10\n",
    "onlik = (a // 10) % 10\n",
    "birlik = a % 10\n",
    "print(minglik + yuzlik + onlik + birlik)"
   ]
  },
  {
   "cell_type": "code",
   "execution_count": 100,
   "id": "0e69b72c",
   "metadata": {},
   "outputs": [
    {
     "name": "stdout",
     "output_type": "stream",
     "text": [
      "uzun son kiriting: 16262662\n",
      "songi tort raqam:  2662\n"
     ]
    }
   ],
   "source": [
    "n = int(input(\"uzun son kiriting: \"))\n",
    "natija = n % 10000\n",
    "print(\"songi tort raqam: \", natija)"
   ]
  },
  {
   "cell_type": "code",
   "execution_count": 11,
   "id": "531a6c50",
   "metadata": {},
   "outputs": [
    {
     "name": "stdout",
     "output_type": "stream",
     "text": [
      "a = 5\n",
      "b = 4\n",
      "c = 2\n",
      "4.0 4.0\n"
     ]
    }
   ],
   "source": [
    "# 29-savol\n",
    "\n",
    "a = float(input(\"a = \"))\n",
    "b = float(input(\"b = \"))\n",
    "c = float(input(\"c = \"))\n",
    "\n",
    "butun1 = a // c\n",
    "butun2 = b // c\n",
    "butun = butun1 * butun2\n",
    "qoldiq = a * b - (butun * (c**2))\n",
    "\n",
    "print(butun, qoldiq)"
   ]
  },
  {
   "cell_type": "code",
   "execution_count": 8,
   "id": "356a2745",
   "metadata": {},
   "outputs": [
    {
     "name": "stdout",
     "output_type": "stream",
     "text": [
      "yil: 999\n",
      "999 - yil 10 - asrga to'g'ri keladi.\n"
     ]
    }
   ],
   "source": [
    "# 30-savol\n",
    "\n",
    "yil = int(input(\"yil: \"))\n",
    "\n",
    "asr = yil // 100 + 1\n",
    "\n",
    "print(yil, \"- yil\", asr, \"- asrga to'g'ri keladi.\")"
   ]
  },
  {
   "cell_type": "code",
   "execution_count": 9,
   "id": "0d3c483b",
   "metadata": {},
   "outputs": [
    {
     "name": "stdout",
     "output_type": "stream",
     "text": [
      "s = 3670\n",
      "1 70\n"
     ]
    }
   ],
   "source": [
    "s = int(input(\"s = \"))\n",
    "\n",
    "soat = s // 3600\n",
    "sec = s%3600\n",
    "\n",
    "print(soat, sec)"
   ]
  },
  {
   "cell_type": "code",
   "execution_count": null,
   "id": "fd28e33a",
   "metadata": {},
   "outputs": [],
   "source": []
  }
 ],
 "metadata": {
  "kernelspec": {
   "display_name": "Python 3 (ipykernel)",
   "language": "python",
   "name": "python3"
  },
  "language_info": {
   "codemirror_mode": {
    "name": "ipython",
    "version": 3
   },
   "file_extension": ".py",
   "mimetype": "text/x-python",
   "name": "python",
   "nbconvert_exporter": "python",
   "pygments_lexer": "ipython3",
   "version": "3.9.7"
  }
 },
 "nbformat": 4,
 "nbformat_minor": 5
}
