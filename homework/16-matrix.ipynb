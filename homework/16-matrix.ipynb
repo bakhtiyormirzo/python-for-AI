{
 "cells": [
  {
   "cell_type": "markdown",
   "id": "a591ebb5",
   "metadata": {},
   "source": [
    "**`Matrix 2`**"
   ]
  },
  {
   "cell_type": "code",
   "execution_count": 1,
   "id": "cedf4871",
   "metadata": {},
   "outputs": [
    {
     "name": "stdout",
     "output_type": "stream",
     "text": [
      "m = 5\n",
      "n = 4\n",
      "0 5 10 15\n",
      "0 5 10 15\n",
      "0 5 10 15\n",
      "0 5 10 15\n",
      "0 5 10 15\n"
     ]
    }
   ],
   "source": [
    "# m x n matrixni har bir j ustuni elementi, 5 * j ga teng bo'lsin\n",
    "# j = 0,1,2,3,...,n-1\n",
    "\n",
    "m = int(input(\"m = \"))\n",
    "n = int(input(\"n = \"))\n",
    "\n",
    "matrix = []\n",
    "for i in range(m):\n",
    "    massiv = []\n",
    "    for j in range(n):\n",
    "        massiv.append(5*j)\n",
    "    matrix.append(massiv)\n",
    "\n",
    "for i in matrix:\n",
    "    print(*i)"
   ]
  },
  {
   "cell_type": "markdown",
   "id": "580b0d92",
   "metadata": {},
   "source": [
    "**`Matrix 4`**"
   ]
  },
  {
   "cell_type": "code",
   "execution_count": 4,
   "id": "bbdc0c66",
   "metadata": {},
   "outputs": [
    {
     "name": "stdout",
     "output_type": "stream",
     "text": [
      "m = 4\n",
      "n = 3\n",
      "[9, 6, 9]\n",
      "9 6 9\n",
      "9 6 9\n",
      "9 6 9\n",
      "9 6 9\n"
     ]
    }
   ],
   "source": [
    "# har bir satri n ta sondan iborat bolgan massivdan \n",
    "# hosil qilingan m x n matrix hosil qiling\n",
    "\n",
    "from random import randint\n",
    "\n",
    "m = int(input(\"m = \"))\n",
    "n = int(input(\"n = \"))\n",
    "\n",
    "massiv = [randint(1,9) for i in range(n)]\n",
    "print(massiv)\n",
    "matrix = []\n",
    "for i in range(m):\n",
    "    matrix.append(massiv)\n",
    "    \n",
    "for i in matrix:\n",
    "    print(*i)"
   ]
  },
  {
   "cell_type": "markdown",
   "id": "a7baf210",
   "metadata": {},
   "source": [
    "**`Matrix 5`**"
   ]
  },
  {
   "cell_type": "code",
   "execution_count": 6,
   "id": "62142ac1",
   "metadata": {},
   "outputs": [
    {
     "name": "stdout",
     "output_type": "stream",
     "text": [
      "m = 5\n",
      "n = 4\n",
      "d = 3\n",
      "[2, 1, 3, 1, 2]\n",
      "2 5 8 11\n",
      "1 4 7 10\n",
      "3 6 9 12\n",
      "1 4 7 10\n",
      "2 5 8 11\n"
     ]
    }
   ],
   "source": [
    "m = int(input(\"m = \"))\n",
    "n = int(input(\"n = \"))\n",
    "d = int(input(\"d = \"))\n",
    "\n",
    "massiv_shablon = [randint(1,3) for i in range(m)]\n",
    "\n",
    "print(massiv_shablon)\n",
    "\n",
    "matrix=[]\n",
    "for i in range(m):\n",
    "    massiv=[massiv_shablon[i]]\n",
    "    for j in range(1,n):\n",
    "        massiv.append(massiv[-1]+d)\n",
    "    matrix.append(massiv)\n",
    "    \n",
    "for i in matrix:\n",
    "    print(*i)"
   ]
  },
  {
   "cell_type": "markdown",
   "id": "907d3bf2",
   "metadata": {},
   "source": [
    "**`Matrix 8`**"
   ]
  },
  {
   "cell_type": "code",
   "execution_count": 7,
   "id": "f62ba6ad",
   "metadata": {},
   "outputs": [
    {
     "name": "stdout",
     "output_type": "stream",
     "text": [
      "m = 4\n",
      "n = 5\n",
      "4 5 3 1 3\n",
      "7 7 9 3 6\n",
      "2 1 7 7 7\n",
      "3 3 7 2 2\n",
      "k = 3\n",
      "[3, 3, 7, 2, 2]\n",
      "1\n",
      "3\n",
      "7\n",
      "2\n"
     ]
    }
   ],
   "source": [
    "m = int(input(\"m = \"))\n",
    "n = int(input(\"n = \"))\n",
    "\n",
    "matrix = [[randint(1,9) for j in range(n)]for i in range(m)]\n",
    "\n",
    "for i in matrix:\n",
    "    print(*i)\n",
    "    \n",
    "k = int(input(\"k = \"))\n",
    "print(matrix[k])\n",
    "\n",
    "for i in matrix:\n",
    "    print(i[k])"
   ]
  },
  {
   "cell_type": "markdown",
   "id": "78c8dfbd",
   "metadata": {},
   "source": [
    "**`Matrix 10`**"
   ]
  },
  {
   "cell_type": "code",
   "execution_count": 8,
   "id": "bbde4206",
   "metadata": {},
   "outputs": [
    {
     "name": "stdout",
     "output_type": "stream",
     "text": [
      "m = 4\n",
      "n = 5\n",
      "6 4 3 5 4\n",
      "6 2 8 7 3\n",
      "2 6 6 2 1\n",
      "1 9 1 1 5\n",
      "\n",
      "4 5 \n",
      "2 7 \n",
      "6 2 \n",
      "9 1 \n"
     ]
    }
   ],
   "source": [
    "# m x n matrixni toq ustunlarini chiqarish\n",
    "\n",
    "m = int(input(\"m = \"))\n",
    "n = int(input(\"n = \"))\n",
    "\n",
    "matrix = [[randint(1,9) for j in range(n)]for i in range(m)]\n",
    "\n",
    "for i in matrix:\n",
    "    print(*i)\n",
    "\n",
    "print()\n",
    "\n",
    "for i in range(len(matrix)):\n",
    "    for j in range(1,len(matrix[0]),2):\n",
    "        print(matrix[i][j],end=\" \")\n",
    "    print()"
   ]
  },
  {
   "cell_type": "markdown",
   "id": "cb095edc",
   "metadata": {},
   "source": [
    "**`Matrix 12`**"
   ]
  },
  {
   "cell_type": "code",
   "execution_count": 9,
   "id": "3f581a13",
   "metadata": {},
   "outputs": [
    {
     "name": "stdout",
     "output_type": "stream",
     "text": [
      "m = 5\n",
      "n = 4\n",
      "3 7 4 7\n",
      "9 5 5 4\n",
      "5 8 2 2\n",
      "7 7 5 5\n",
      "3 2 2 7\n",
      "\n",
      "3 2 4 7 \n",
      "9 7 5 5 \n",
      "5 8 2 2 \n",
      "7 5 5 4 \n",
      "3 7 2 7 \n"
     ]
    }
   ],
   "source": [
    "# ustunni tepadan pastga, pastdan tepaga, tepadan pastga, ...\n",
    "# shu holatda chiqarilsin\n",
    "\n",
    "m = int(input(\"m = \"))\n",
    "n = int(input(\"n = \"))\n",
    "\n",
    "matrix = [[randint(1,9) for j in range(n)]for i in range(m)]\n",
    "\n",
    "for i in matrix:\n",
    "    print(*i)\n",
    "\n",
    "print()\n",
    "\n",
    "for i in range(len(matrix)):\n",
    "    for j in range(len(matrix[0])):\n",
    "        if j%2==0:\n",
    "            print(matrix[i][j],end=\" \")\n",
    "        else:\n",
    "            print(matrix[len(matrix)-i-1][j],end=\" \")\n",
    "    print()"
   ]
  },
  {
   "cell_type": "markdown",
   "id": "e87254eb",
   "metadata": {},
   "source": [
    "**`Tub sonlar with array`**"
   ]
  },
  {
   "cell_type": "code",
   "execution_count": null,
   "id": "e3f23385",
   "metadata": {},
   "outputs": [],
   "source": [
    "# sonni ildizigacha bo'lgan tub sonlarga bo'lish orqali\n",
    "# sonni tub yoki tub emaligini tekshirish"
   ]
  },
  {
   "cell_type": "code",
   "execution_count": 1,
   "id": "b33a9246",
   "metadata": {},
   "outputs": [
    {
     "name": "stdout",
     "output_type": "stream",
     "text": [
      "n = 1000\n",
      "Sanagich :  999 \n",
      " 2 3 5 7 11 13 17 19 23 29 31 37 41 43 47 53 59 61 67 71 73 79 83 89 97 101 103 107 109 113 127 131 137 139 149 151 157 163 167 173 179 181 191 193 197 199 211 223 227 229 233 239 241 251 257 263 269 271 277 281 283 293 307 311 313 317 331 337 347 349 353 359 367 373 379 383 389 397 401 409 419 421 431 433 439 443 449 457 461 463 467 479 487 491 499 503 509 521 523 541 547 557 563 569 571 577 587 593 599 601 607 613 617 619 631 641 643 647 653 659 661 673 677 683 691 701 709 719 727 733 739 743 751 757 761 769 773 787 797 809 811 821 823 827 829 839 853 857 859 863 877 881 883 887 907 911 919 929 937 941 947 953 967 971 977 983 991 997\n",
      "168\n"
     ]
    }
   ],
   "source": [
    "# Tub sonlar Nurgeldi\n",
    "n = int(input(\"n = \"))\n",
    "sana = 0\n",
    "tub_sonlar = [3,5,7]\n",
    "for i in range(11,n+1,2):\n",
    "    #sana += 1\n",
    "    if i%3==0 or i%5==0 or i%7==0:\n",
    "        sana+=1\n",
    "        continue\n",
    "    j = 3 if len(tub_sonlar)>3 else 0\n",
    "    while tub_sonlar[j]<=int(i**0.5):\n",
    "        sana+=1\n",
    "        if i%tub_sonlar[j]==0:\n",
    "            break\n",
    "        j += 1\n",
    "    else:\n",
    "        tub_sonlar.append(i)\n",
    "\n",
    "tub_sonlar.insert(0,2)\n",
    "print(\"Sanagich : \", sana, \"\\n\", *tub_sonlar)\n",
    "print(len(tub_sonlar))"
   ]
  },
  {
   "cell_type": "code",
   "execution_count": 2,
   "id": "731e42b2",
   "metadata": {},
   "outputs": [
    {
     "name": "stdout",
     "output_type": "stream",
     "text": [
      "n = 1000\n",
      "[2, 3, 5, 7, 11, 13, 17, 19, 23, 29, 31, 37, 41, 43, 47, 53, 59, 61, 67, 71, 73, 79, 83, 89, 97, 101, 103, 107, 109, 113, 127, 131, 137, 139, 149, 151, 157, 163, 167, 173, 179, 181, 191, 193, 197, 199, 211, 223, 227, 229, 233, 239, 241, 251, 257, 263, 269, 271, 277, 281, 283, 293, 307, 311, 313, 317, 331, 337, 347, 349, 353, 359, 367, 373, 379, 383, 389, 397, 401, 409, 419, 421, 431, 433, 439, 443, 449, 457, 461, 463, 467, 479, 487, 491, 499, 503, 509, 521, 523, 541, 547, 557, 563, 569, 571, 577, 587, 593, 599, 601, 607, 613, 617, 619, 631, 641, 643, 647, 653, 659, 661, 673, 677, 683, 691, 701, 709, 719, 727, 733, 739, 743, 751, 757, 761, 769, 773, 787, 797, 809, 811, 821, 823, 827, 829, 839, 853, 857, 859, 863, 877, 881, 883, 887, 907, 911, 919, 929, 937, 941, 947, 953, 967, 971, 977, 983, 991, 997]\n",
      "2462\n",
      "168\n"
     ]
    }
   ],
   "source": [
    "# Tubsonlar Farrux\n",
    "n = int(input(\"n = \"))\n",
    "Tub = [2,3,5,7]\n",
    "sanoq2 = 0\n",
    "for i in range(11,n+1,2):\n",
    "    flag = True\n",
    "    for j in Tub:\n",
    "        sanoq2+=1\n",
    "        if j>i**0.5:\n",
    "            flag = True\n",
    "            break\n",
    "        if i%j==0:\n",
    "            flag = False\n",
    "            break\n",
    "    if flag:\n",
    "        Tub.append(i)\n",
    "print(Tub)\n",
    "print(sanoq2)\n",
    "print(len(Tub))"
   ]
  },
  {
   "cell_type": "markdown",
   "id": "a18e5c3a",
   "metadata": {},
   "source": [
    "**`Matrix 15`**"
   ]
  },
  {
   "cell_type": "code",
   "execution_count": 4,
   "id": "ffe5a881",
   "metadata": {},
   "outputs": [
    {
     "name": "stdout",
     "output_type": "stream",
     "text": [
      "N=5\n",
      "\n",
      "1 2 3 4 5\n",
      "16 17 18 19 6\n",
      "15 24 25 20 7\n",
      "14 23 22 21 8\n",
      "13 12 11 10 9\n"
     ]
    }
   ],
   "source": [
    "# Matrix 15 by Mirzaliev\n",
    "\n",
    "n=int(input(\"N=\"))\n",
    "matrix=[[0 for i in range(n)] for j in range(n)]\n",
    "print()\n",
    "son=1\n",
    "for i in range(n-1):\n",
    "    for j in range(i,n-i):\n",
    "        matrix[i][j]=son\n",
    "        son+=1\n",
    "    for k in range(i+1,n-i):\n",
    "        matrix[k][n-1-i]=son\n",
    "        son+=1\n",
    "    for a in range(n-2-i,i-1,-1):\n",
    "        matrix[n-1-i][a]=son\n",
    "        son+=1\n",
    "    for b in range(n-2-i,i,-1):\n",
    "        matrix[b][i]=son\n",
    "        son+=1\n",
    "    if son==n**2-10:\n",
    "        break\n",
    "for i in matrix:\n",
    "    print(*i)"
   ]
  },
  {
   "cell_type": "code",
   "execution_count": 5,
   "id": "e1bc908f",
   "metadata": {},
   "outputs": [
    {
     "name": "stdout",
     "output_type": "stream",
     "text": [
      "N=6\n",
      "\n",
      "1 2 3 4 5 6\n",
      "20 21 22 23 24 7\n",
      "19 32 33 34 25 8\n",
      "18 31 36 35 26 9\n",
      "17 30 29 28 27 10\n",
      "16 15 14 13 12 11\n"
     ]
    }
   ],
   "source": [
    "# Matrix 15\n",
    "n=int(input(\"N=\"))\n",
    "matrix=[[0 for i in range(n)] for j in range(n)]\n",
    "print()\n",
    "\n",
    "son = 1\n",
    "ongga = 0; chapga = n-1; pastga = n-1; tepaga = 0\n",
    "\n",
    "for i in range(n//2):\n",
    "    for j in range(ongga,pastga):\n",
    "        matrix[ongga][j] = son\n",
    "        son+=1\n",
    "    for j in range(tepaga,chapga):\n",
    "        matrix[j][pastga] = son\n",
    "        son+=1\n",
    "    for j in range(chapga,tepaga,-1):\n",
    "        matrix[chapga][j] = son\n",
    "        son+=1\n",
    "    for j in range(pastga,ongga,-1):\n",
    "        matrix[j][tepaga] = son\n",
    "        son+=1\n",
    "    ongga+=1; chapga-=1; pastga-=1; tepaga+=1\n",
    "    \n",
    "if n%2==1:\n",
    "    matrix[n//2][n//2] = n**2\n",
    "    \n",
    "for i in matrix:\n",
    "    print(*i)"
   ]
  },
  {
   "cell_type": "code",
   "execution_count": 6,
   "id": "fcb21d0d",
   "metadata": {},
   "outputs": [
    {
     "name": "stdout",
     "output_type": "stream",
     "text": [
      "00 01 02 03 04 \n",
      "10 11 12 13 14 \n",
      "20 21 22 23 24 \n",
      "30 31 32 33 34 \n",
      "40 41 42 43 44 \n"
     ]
    }
   ],
   "source": [
    "for i in range(5):\n",
    "    for j in range(5):\n",
    "        print(f\"{i}{j} \",end=\"\")\n",
    "    print()"
   ]
  },
  {
   "cell_type": "markdown",
   "id": "370d0376",
   "metadata": {},
   "source": [
    "**`Matrix 16`**"
   ]
  },
  {
   "cell_type": "code",
   "execution_count": 2,
   "id": "c9635fb3",
   "metadata": {},
   "outputs": [
    {
     "name": "stdout",
     "output_type": "stream",
     "text": [
      "N=5\n",
      "\n",
      "1 16 15 14 13\n",
      "2 17 24 23 12\n",
      "3 18 25 22 11\n",
      "4 19 20 21 10\n",
      "5 6 7 8 9\n"
     ]
    }
   ],
   "source": [
    "n=int(input(\"N=\"))\n",
    "matrix=[[0 for i in range(n)] for j in range(n)]\n",
    "print()\n",
    "\n",
    "son = 1\n",
    "ongga = n-1; chapga = 0\n",
    "\n",
    "for i in range(n//2):\n",
    "    for j in range(chapga,ongga):\n",
    "        matrix[j][chapga] = son\n",
    "        son+=1\n",
    "    for j in range(chapga,ongga):\n",
    "        matrix[ongga][j] = son\n",
    "        son+=1\n",
    "    for j in range(ongga,chapga,-1):\n",
    "        matrix[j][ongga] = son\n",
    "        son+=1\n",
    "    for j in range(ongga,chapga,-1):\n",
    "        matrix[chapga][j] = son\n",
    "        son+=1\n",
    "    ongga-=1; chapga+=1\n",
    "    \n",
    "if n%2==1:\n",
    "    matrix[n//2][n//2] = n**2\n",
    "    \n",
    "for i in matrix:\n",
    "    print(*i)"
   ]
  },
  {
   "cell_type": "markdown",
   "id": "3cc8bf85",
   "metadata": {},
   "source": [
    "**`Matrix 19`**"
   ]
  },
  {
   "cell_type": "code",
   "execution_count": 9,
   "id": "307bf796",
   "metadata": {},
   "outputs": [
    {
     "name": "stdout",
     "output_type": "stream",
     "text": [
      "m = 6\n",
      "n = 5\n",
      "4 7 1 2 5\n",
      "9 4 2 2 4\n",
      "8 3 1 1 4\n",
      "1 3 9 2 7\n",
      "8 2 9 5 5\n",
      "4 6 1 1 1\n",
      "19\n",
      "21\n",
      "17\n",
      "22\n",
      "29\n",
      "13\n"
     ]
    }
   ],
   "source": [
    "from random import randint\n",
    "\n",
    "m = int(input(\"m = \"))\n",
    "n = int(input(\"n = \"))\n",
    "matrix = [[randint(1,9) for j in range(n)]for i in range(m)]\n",
    "\n",
    "for i in matrix:\n",
    "    print(*i)\n",
    "\n",
    "for i in range(len(matrix)):\n",
    "    print(sum(matrix[i]))"
   ]
  },
  {
   "cell_type": "markdown",
   "id": "340c0e7c",
   "metadata": {},
   "source": [
    "**`Matrix 20`**"
   ]
  },
  {
   "cell_type": "code",
   "execution_count": 10,
   "id": "2399727a",
   "metadata": {},
   "outputs": [
    {
     "name": "stdout",
     "output_type": "stream",
     "text": [
      "m = 6\n",
      "n = 5\n",
      "3 6 9 5 4\n",
      "6 7 7 3 7\n",
      "9 4 7 5 6\n",
      "3 8 5 9 9\n",
      "5 9 6 7 5\n",
      "9 5 4 7 5\n",
      "21870\n",
      "60480\n",
      "52920\n",
      "33075\n",
      "37800\n"
     ]
    }
   ],
   "source": [
    "from random import randint\n",
    "\n",
    "m = int(input(\"m = \"))\n",
    "n = int(input(\"n = \"))\n",
    "matrix = [[randint(1,9) for j in range(n)]for i in range(m)]\n",
    "\n",
    "for i in matrix:\n",
    "    print(*i)\n",
    "\n",
    "for j in range(len(matrix[0])):\n",
    "    P = 1\n",
    "    for i in range(len(matrix)):\n",
    "        P *= matrix[i][j]\n",
    "    print(P)"
   ]
  },
  {
   "cell_type": "markdown",
   "id": "14ce5d5f",
   "metadata": {},
   "source": [
    "**`Matrix 24`**"
   ]
  },
  {
   "cell_type": "code",
   "execution_count": 11,
   "id": "3afd4898",
   "metadata": {},
   "outputs": [
    {
     "name": "stdout",
     "output_type": "stream",
     "text": [
      "m=6\n",
      "n=5\n",
      "5 3 1 5 8\n",
      "2 4 7 4 4\n",
      "3 5 4 8 1\n",
      "9 3 1 6 8\n",
      "3 6 8 9 3\n",
      "1 1 8 9 5\n",
      "\n",
      "9 6 8 9 8\n"
     ]
    }
   ],
   "source": [
    "from random import randint\n",
    "m=int(input(\"m=\"))\n",
    "n=int(input(\"n=\"))\n",
    "matrix=[[randint(1,9) for j in range(n)] for i in range(m)]\n",
    "for i in matrix:\n",
    "    print(*i)\n",
    "print()\n",
    "\n",
    "maxi=matrix[0]\n",
    "for j in range(m):\n",
    "    for i in range(n):\n",
    "        if matrix[j][i]>maxi[i]:\n",
    "            maxi[i]=matrix[j][i]\n",
    "print(*maxi)"
   ]
  },
  {
   "cell_type": "markdown",
   "id": "908ceb06",
   "metadata": {},
   "source": [
    "**`Matrix 26`**"
   ]
  },
  {
   "cell_type": "code",
   "execution_count": 12,
   "id": "aff40f22",
   "metadata": {},
   "outputs": [
    {
     "name": "stdout",
     "output_type": "stream",
     "text": [
      "m = 6\n",
      "n = 5\n",
      "9 3 4 7 3\n",
      "5 4 1 3 3\n",
      "3 5 1 3 3\n",
      "3 1 7 4 4\n",
      "9 2 2 1 5\n",
      "7 3 3 9 7\n",
      "\n",
      "Max = 25515\n",
      "Index = 0\n"
     ]
    }
   ],
   "source": [
    "from random import randint\n",
    "m = int(input(\"m = \")) #satr\n",
    "n = int(input(\"n = \")) #ustun\n",
    "matrix = [[randint(1,9) for i in range(n)] for i in range(m)]\n",
    "for i in matrix:\n",
    "    print(*i)\n",
    "print()\n",
    "\n",
    "for i in range(n):\n",
    "    p = 1\n",
    "    for j in range(m):\n",
    "        p *= matrix[j][i]\n",
    "    if i==0:\n",
    "        kopaytma = p\n",
    "        index = i\n",
    "    elif kopaytma<p:\n",
    "        kopaytma = p\n",
    "        index = i\n",
    "print(\"Max =\",kopaytma)\n",
    "print(\"Index =\",index)"
   ]
  },
  {
   "cell_type": "markdown",
   "id": "f560d64e",
   "metadata": {},
   "source": [
    "**`Matrix 27`**"
   ]
  },
  {
   "cell_type": "code",
   "execution_count": 13,
   "id": "f4c18f21",
   "metadata": {},
   "outputs": [
    {
     "name": "stdout",
     "output_type": "stream",
     "text": [
      "m = 5\n",
      "n = 6\n",
      "8 1 5 7 3 7\n",
      "2 4 7 5 7 5\n",
      "8 6 4 6 3 7\n",
      "8 1 6 1 8 9\n",
      "4 5 4 5 6 6\n",
      "\n",
      "30 1\n",
      "7\n"
     ]
    }
   ],
   "source": [
    "m = int(input(\"m = \")) #satr\n",
    "n = int(input(\"n = \")) #ustun\n",
    "matrix = [[randint(1,9) for i in range(n)] for i in range(m)]\n",
    "for i in matrix:\n",
    "    print(*i)\n",
    "print()\n",
    "\n",
    "for i in range(len(matrix)):\n",
    "    if i==0:\n",
    "        mini = sum(matrix[i])\n",
    "        index = i\n",
    "    if mini>sum(matrix[i]):\n",
    "        mini = sum(matrix[i])\n",
    "        index = i\n",
    "print(mini,index)\n",
    "print(max(matrix[index]))"
   ]
  },
  {
   "cell_type": "code",
   "execution_count": null,
   "id": "8fbc4b74",
   "metadata": {},
   "outputs": [],
   "source": [
    "# Normalization\n",
    "\n",
    "x = [1,2,3,4,5,6,7,800,900,1000,5000]\n",
    "xmax = 5000\n",
    "xmin = 1\n",
    "\n",
    "xi = (xi - xmin) / (xmax - xmin)\n",
    "\n",
    "xi = (1 - 1) / (5000-1) = 0\n",
    "xi = (900-1) / (5000 - 1) = 0.18\n",
    "xi = (5000 - 1) / (5000 - 1)  = 1"
   ]
  },
  {
   "cell_type": "markdown",
   "id": "afe31d86",
   "metadata": {},
   "source": [
    "**`Matritsani matritsaga ko'paytirish`**"
   ]
  },
  {
   "cell_type": "code",
   "execution_count": 3,
   "id": "e6966561",
   "metadata": {},
   "outputs": [
    {
     "name": "stdout",
     "output_type": "stream",
     "text": [
      "m = 4\n",
      "n = 4\n",
      "a : \n",
      "7 1 8 7\n",
      "2 7 9 6\n",
      "3 9 8 5\n",
      "5 8 7 8\n",
      "b : \n",
      "7 1 4 6\n",
      "6 6 8 9\n",
      "6 5 3 6\n",
      "4 4 3 2\n",
      "a*b  :\n",
      "131 81 81 113\n",
      "134 113 109 141\n",
      "143 117 123 157\n",
      "157 120 129 160\n"
     ]
    }
   ],
   "source": [
    "from random import randint\n",
    "\n",
    "m = int(input(\"m = \"))\n",
    "n = int(input(\"n = \"))\n",
    "\n",
    "a = [[randint(1,10) for j in range(n)] for i in range(m)]\n",
    "b = [[randint(1,10) for j in range(m)] for i in range(n)]\n",
    "\n",
    "c = []\n",
    "\n",
    "print(\"a : \")\n",
    "for i in a:\n",
    "    print(*i)\n",
    "    \n",
    "print(\"b : \")\n",
    "for i in b:\n",
    "    print(*i)\n",
    "    \n",
    "m = len(a[0])\n",
    "n = len(a)\n",
    "\n",
    "for i in range(n):\n",
    "    array = []\n",
    "    for j in range(n):\n",
    "        s = 0\n",
    "        for k in range(m):\n",
    "            s += a[i][k]*b[k][j]\n",
    "        array.append(s)\n",
    "    c.append(array)\n",
    "    \n",
    "print(\"a*b  :\")\n",
    "for i in c:\n",
    "    print(*i)"
   ]
  },
  {
   "cell_type": "markdown",
   "id": "180eea52",
   "metadata": {},
   "source": [
    "**`Matrix 30`**"
   ]
  },
  {
   "cell_type": "code",
   "execution_count": 4,
   "id": "2423cf6c",
   "metadata": {},
   "outputs": [
    {
     "name": "stdout",
     "output_type": "stream",
     "text": [
      "m = 4\n",
      "n = 4\n",
      "4 3 8 10\n",
      "8 0 9 3\n",
      "0 5 1 10\n",
      "10 3 5 9\n",
      "s0 :  2\n",
      "s1 :  3\n",
      "s2 :  2\n",
      "s3 :  3\n"
     ]
    }
   ],
   "source": [
    "from random import randint\n",
    "m = int(input(\"m = \"))\n",
    "n = int(input(\"n = \"))\n",
    "matrix = [[randint(0,10) for j in range(n)] for _ in range(m)]\n",
    "\n",
    "for i in matrix:\n",
    "    print(*i)\n",
    "\n",
    "for i in range(n):\n",
    "    s = 0\n",
    "    for j in range(m):\n",
    "        s+=matrix[j][i]\n",
    "    s /= n\n",
    "    s1 = 0\n",
    "    for j in range(m):\n",
    "        if s < matrix[j][i]:\n",
    "            s1 += 1\n",
    "    print(f\"s{i} : \", s1)"
   ]
  },
  {
   "cell_type": "markdown",
   "id": "fdf04c33",
   "metadata": {},
   "source": [
    "**`Matrix 33`**"
   ]
  },
  {
   "cell_type": "code",
   "execution_count": 6,
   "id": "56f4c272",
   "metadata": {},
   "outputs": [
    {
     "name": "stdout",
     "output_type": "stream",
     "text": [
      "m=4\n",
      "n=4\n",
      "10 2 7 -10\n",
      "-4 3 -9 -10\n",
      "-5 6 7 -4\n",
      "-4 6 -10 -8\n",
      "\n",
      "2\n"
     ]
    }
   ],
   "source": [
    "def ochish(matrix):\n",
    "    for i in matrix:\n",
    "        print(*i)\n",
    "        \n",
    "from random import randint\n",
    "m=int(input(\"m=\"))\n",
    "n=int(input(\"n=\"))\n",
    "matrix=[[randint(-10,10) for i in range(n)] for j in range(m)]\n",
    "ochish(matrix)\n",
    "print()\n",
    "\n",
    "index=-1\n",
    "for i in range(n-1,-1,-1):\n",
    "    a=[]; musbat,manfiy=0,0\n",
    "    for j in range(m):\n",
    "        a.append(matrix[j][i])\n",
    "    for k in a:\n",
    "        if k>0:\n",
    "            musbat+=1\n",
    "        if k<0:\n",
    "            manfiy+=1\n",
    "    if musbat==manfiy and manfiy+musbat!=0:\n",
    "        index=i\n",
    "        break\n",
    "        \n",
    "if index>=0:\n",
    "    print(index)\n",
    "else:\n",
    "    print(\"bunday ustun yo`q\")"
   ]
  },
  {
   "cell_type": "markdown",
   "id": "d5bef7c0",
   "metadata": {},
   "source": [
    "**`Matrix 36`**"
   ]
  },
  {
   "cell_type": "code",
   "execution_count": 7,
   "id": "2293750d",
   "metadata": {},
   "outputs": [
    {
     "name": "stdout",
     "output_type": "stream",
     "text": [
      "m = 4\n",
      "n = 4\n",
      "1 1 2 2\n",
      "2 2 1 1\n",
      "2 2 1 1\n",
      "2 2 2 2\n",
      "Soni: 2\n"
     ]
    }
   ],
   "source": [
    "from random import randint\n",
    "m = int(input(\"m = \")) #satr\n",
    "n = int(input(\"n = \")) #ustun\n",
    "matrix = [[randint(1,2) for i in range(n)] for i in range(m)]\n",
    "for i in matrix:\n",
    "    print(*i)\n",
    "    \n",
    "sanoq = 0\n",
    "for i in range(1,m):\n",
    "    if sorted(matrix[i])==sorted(matrix[0]):\n",
    "        sanoq += 1\n",
    "print(\"Soni:\",sanoq)"
   ]
  },
  {
   "cell_type": "markdown",
   "id": "e66d6838",
   "metadata": {},
   "source": [
    "**`Matrix 40`**"
   ]
  },
  {
   "cell_type": "code",
   "execution_count": 9,
   "id": "29055e2b",
   "metadata": {},
   "outputs": [
    {
     "name": "stdout",
     "output_type": "stream",
     "text": [
      "m=5\n",
      "n=5\n",
      "9 6 5 4 3\n",
      "8 7 1 0 6\n",
      "2 2 7 3 8\n",
      "1 2 4 5 5\n",
      "0 2 7 8 0\n",
      "\n",
      "1\n"
     ]
    }
   ],
   "source": [
    "from random import randint\n",
    "m=int(input(\"m=\"))\n",
    "n=int(input(\"n=\"))\n",
    "matrix=[[randint(0,10) for i in range(n)] for j in range(m)]\n",
    "for i in matrix:\n",
    "    print(*i)\n",
    "    \n",
    "print(); flag=True\n",
    "\n",
    "for j in range(m-1,-1,-1):\n",
    "    for i in range(n):\n",
    "        if flag:\n",
    "            maxi=matrix[j].count(matrix[j][i])\n",
    "            flag=False\n",
    "        if maxi<matrix[j].count(matrix[j][i]):\n",
    "            maxi=matrix[j].count(matrix[j][i])\n",
    "            index=j\n",
    "print(index)"
   ]
  },
  {
   "cell_type": "markdown",
   "id": "038c0d18",
   "metadata": {},
   "source": [
    "**`Tub sonlar`**"
   ]
  },
  {
   "cell_type": "code",
   "execution_count": 1,
   "id": "e4390911",
   "metadata": {},
   "outputs": [
    {
     "name": "stdout",
     "output_type": "stream",
     "text": [
      "n=1000\n",
      "2 3 5 7 11 13 17 19 23 29 31 37 41 43 47 53 59 61 67 71 73 79 83 89 97 101 103 107 109 113 127 131 137 139 149 151 157 163 167 173 179 181 191 193 197 199 211 223 227 229 233 239 241 251 257 263 269 271 277 281 283 293 307 311 313 317 331 337 347 349 353 359 367 373 379 383 389 397 401 409 419 421 431 433 439 443 449 457 461 463 467 479 487 491 499 503 509 521 523 541 547 557 563 569 571 577 587 593 599 601 607 613 617 619 631 641 643 647 653 659 661 673 677 683 691 701 709 719 727 733 739 743 751 757 761 769 773 787 797 809 811 821 823 827 829 839 853 857 859 863 877 881 883 887 907 911 919 929 937 941 947 953 967 971 977 983 991 997\n",
      "Count= 2710 Time= 0:00:00.003824\n"
     ]
    }
   ],
   "source": [
    "# Sodiq\n",
    "\n",
    "from math import sqrt\n",
    "from datetime import datetime\n",
    "\n",
    "n = int(input('n='))\n",
    "\n",
    "start_time = datetime.now()\n",
    "\n",
    "i = 0\n",
    "tub=[2,3]\n",
    "temp_tub = [i for i in range(3,n+1,2) if i%3!=0]\n",
    "\n",
    "count = len(range(3,n+1,2))\n",
    "while tub[i]<int(sqrt(n))+1:\n",
    "    count+=1\n",
    "    elem = temp_tub[0]\n",
    "    temp_tub1 = temp_tub.copy()\n",
    "    count += len(temp_tub1)\n",
    "    temp_tub = [i for i in temp_tub1 if i%elem!=0]\n",
    "    tub.append(elem)\n",
    "    i+=1\n",
    "tub.extend(temp_tub)\n",
    "print(*tub)\n",
    "print('Count=',count, 'Time=',datetime.now() - start_time)"
   ]
  },
  {
   "cell_type": "code",
   "execution_count": 2,
   "id": "e4d5851a",
   "metadata": {},
   "outputs": [
    {
     "name": "stdout",
     "output_type": "stream",
     "text": [
      "n = 1000\n",
      "[2, 3, 5, 7, 11, 13, 17, 19, 23, 29, 31, 37, 41, 43, 47, 53, 59, 61, 67, 71, 73, 79, 83, 89, 97, 101, 103, 107, 109, 113, 127, 131, 137, 139, 149, 151, 157, 163, 167, 173, 179, 181, 191, 193, 197, 199, 211, 223, 227, 229, 233, 239, 241, 251, 257, 263, 269, 271, 277, 281, 283, 293, 307, 311, 313, 317, 331, 337, 347, 349, 353, 359, 367, 373, 379, 383, 389, 397, 401, 409, 419, 421, 431, 433, 439, 443, 449, 457, 461, 463, 467, 479, 487, 491, 499, 503, 509, 521, 523, 541, 547, 557, 563, 569, 571, 577, 587, 593, 599, 601, 607, 613, 617, 619, 631, 641, 643, 647, 653, 659, 661, 673, 677, 683, 691, 701, 709, 719, 727, 733, 739, 743, 751, 757, 761, 769, 773, 787, 797, 809, 811, 821, 823, 827, 829, 839, 853, 857, 859, 863, 877, 881, 883, 887, 907, 911, 919, 929, 937, 941, 947, 953, 967, 971, 977, 983, 991, 997]\n",
      "1970\n",
      "168\n"
     ]
    }
   ],
   "source": [
    "# Ibratillo\n",
    "\n",
    "n = int(input('n = '))\n",
    "tub = [3]\n",
    "h=0\n",
    "for i in range(5, n+1, 2):\n",
    "    for j in tub:\n",
    "        h+=1\n",
    "        if i%j==0:\n",
    "            break\n",
    "        if j>(i**0.5):\n",
    "            tub.append(i)\n",
    "            break\n",
    "tub.insert(0,2)\n",
    "print(tub)\n",
    "print(h)\n",
    "print(len(tub))"
   ]
  },
  {
   "cell_type": "code",
   "execution_count": 3,
   "id": "6a6fb744",
   "metadata": {},
   "outputs": [
    {
     "name": "stdout",
     "output_type": "stream",
     "text": [
      "N = 1000\n",
      "[2, 3, 5, 7, 11, 13, 17, 19, 23, 29, 31, 37, 41, 43, 47, 53, 59, 61, 67, 71, 73, 79, 83, 89, 97, 101, 103, 107, 109, 113, 127, 131, 137, 139, 149, 151, 157, 163, 167, 173, 179, 181, 191, 193, 197, 199, 211, 223, 227, 229, 233, 239, 241, 251, 257, 263, 269, 271, 277, 281, 283, 293, 307, 311, 313, 317, 331, 337, 347, 349, 353, 359, 367, 373, 379, 383, 389, 397, 401, 409, 419, 421, 431, 433, 439, 443, 449, 457, 461, 463, 467, 479, 487, 491, 499, 503, 509, 521, 523, 541, 547, 557, 563, 569, 571, 577, 587, 593, 599, 601, 607, 613, 617, 619, 631, 641, 643, 647, 653, 659, 661, 673, 677, 683, 691, 701, 709, 719, 727, 733, 739, 743, 751, 757, 761, 769, 773, 787, 797, 809, 811, 821, 823, 827, 829, 839, 853, 857, 859, 863, 877, 881, 883, 887, 907, 911, 919, 929, 937, 941, 947, 953, 967, 971, 977, 983, 991, 997]\n",
      "1949\n",
      "168\n"
     ]
    }
   ],
   "source": [
    "# Xursand Sobirov\n",
    "\n",
    "n = int(input(\"N = \"))\n",
    "tub = [3]\n",
    "sanagich = 0\n",
    "for i in range(5,n+1,2):\n",
    "    if i%3!=0:\n",
    "        for j in range(int(len(tub)**0.5)):\n",
    "            sanagich += 1\n",
    "            if i%tub[j]==0 or i**2==tub[j]:\n",
    "                break\n",
    "        else:\n",
    "            tub.append(i)\n",
    "tub.insert(0,2)\n",
    "print(tub)\n",
    "print(sanagich)\n",
    "print(len(tub))"
   ]
  },
  {
   "cell_type": "code",
   "execution_count": 4,
   "id": "830dbdf1",
   "metadata": {},
   "outputs": [
    {
     "name": "stdout",
     "output_type": "stream",
     "text": [
      "n = 1000\n",
      "sanoq: 1789\n",
      "[2, 3, 5, 7, 11, 13, 17, 19, 23, 29, 31, 37, 41, 43, 47, 53, 59, 61, 67, 71, 73, 79, 83, 89, 97, 101, 103, 107, 109, 113, 127, 131, 137, 139, 149, 151, 157, 163, 167, 173, 179, 181, 191, 193, 197, 199, 211, 223, 227, 229, 233, 239, 241, 251, 257, 263, 269, 271, 277, 281, 283, 293, 307, 311, 313, 317, 331, 337, 347, 349, 353, 359, 367, 373, 379, 383, 389, 397, 401, 409, 419, 421, 431, 433, 439, 443, 449, 457, 461, 463, 467, 479, 487, 491, 499, 503, 509, 521, 523, 541, 547, 557, 563, 569, 571, 577, 587, 593, 599, 601, 607, 613, 617, 619, 631, 641, 643, 647, 653, 659, 661, 673, 677, 683, 691, 701, 709, 719, 727, 733, 739, 743, 751, 757, 761, 769, 773, 787, 797, 809, 811, 821, 823, 827, 829, 839, 853, 857, 859, 863, 877, 881, 883, 887, 907, 911, 919, 929, 937, 941, 947, 953, 967, 971, 977, 983, 991, 997]\n",
      "uzunlik: 168\n"
     ]
    }
   ],
   "source": [
    "# Farrux\n",
    "\n",
    "# n = 1000 ; sanoq = 1789 ; uzunlik = 168\n",
    "n = int(input(\"n = \"))\n",
    "sanoq = 0\n",
    "tub = []\n",
    "for i in range(3,n+1,2):\n",
    "    if i==3 or i==5 or i==7:\n",
    "        sanoq+=1\n",
    "        tub.append(i)\n",
    "        continue\n",
    "    elif i%3==0 or i%5==0 or i%7==0 or (i**0.5)%1==0:\n",
    "        sanoq+=1\n",
    "        continue\n",
    "    flag = True\n",
    "    for j in tub:\n",
    "        sanoq+=1\n",
    "        if j>int(i**0.5):\n",
    "            break\n",
    "        elif i%j==0:\n",
    "            flag = False\n",
    "            break\n",
    "    if flag:\n",
    "        tub.append(i)\n",
    "tub.insert(0,2)\n",
    "print(\"sanoq:\",sanoq)\n",
    "print(tub)\n",
    "print(\"uzunlik:\",len(tub))"
   ]
  },
  {
   "cell_type": "code",
   "execution_count": 5,
   "id": "336c548b",
   "metadata": {},
   "outputs": [
    {
     "name": "stdout",
     "output_type": "stream",
     "text": [
      "n = 1000\n",
      "[2, 3, 5, 7, 11, 13, 17, 19, 23, 29, 31, 37, 41, 43, 47, 53, 59, 61, 67, 71, 73, 79, 83, 89, 97, 101, 103, 107, 109, 113, 127, 131, 137, 139, 149, 151, 157, 163, 167, 173, 179, 181, 191, 193, 197, 199, 211, 223, 227, 229, 233, 239, 241, 251, 257, 263, 269, 271, 277, 281, 283, 293, 307, 311, 313, 317, 331, 337, 347, 349, 353, 359, 367, 373, 379, 383, 389, 397, 401, 409, 419, 421, 431, 433, 439, 443, 449, 457, 461, 463, 467, 479, 487, 491, 499, 503, 509, 521, 523, 541, 547, 557, 563, 569, 571, 577, 587, 593, 599, 601, 607, 613, 617, 619, 631, 641, 643, 647, 653, 659, 661, 673, 677, 683, 691, 701, 709, 719, 727, 733, 739, 743, 751, 757, 761, 769, 773, 787, 797, 809, 811, 821, 823, 827, 829, 839, 853, 857, 859, 863, 877, 881, 883, 887, 907, 911, 919, 929, 937, 941, 947, 953, 967, 971, 977, 983, 991, 997]\n",
      "1804\n",
      "168\n"
     ]
    }
   ],
   "source": [
    "# Mirzaliev\n",
    "\n",
    "n = int(input(\"n = \"))\n",
    "tub = [3]\n",
    "sanoq=0;j=0; i=5\n",
    "while i<n:    \n",
    "    while int(i**0.5)>=tub[j]:\n",
    "        sanoq+=1\n",
    "        if i%tub[j]==0:\n",
    "            j=0\n",
    "            break\n",
    "        else:\n",
    "            j+=1\n",
    "    else:\n",
    "        tub.append(i)\n",
    "        j=0\n",
    "    i+=2\n",
    "tub.insert(0,2)\n",
    "print(tub)\n",
    "print(sanoq)\n",
    "print(len(tub))"
   ]
  },
  {
   "cell_type": "markdown",
   "id": "ec098563",
   "metadata": {},
   "source": [
    "**`Matrix 43`**"
   ]
  },
  {
   "cell_type": "code",
   "execution_count": 6,
   "id": "963a9534",
   "metadata": {},
   "outputs": [
    {
     "name": "stdout",
     "output_type": "stream",
     "text": [
      "2\n"
     ]
    }
   ],
   "source": [
    "# Matrix 43 By Sodiq\n",
    "matrix = [\n",
    "    [1,8,3,4,5],\n",
    "    [4,5,5,3,2],\n",
    "    [5,3,7,2,9],\n",
    "    [5,1,2,1,3]\n",
    "]\n",
    "count = 0\n",
    "for j in range(len(matrix[0])):\n",
    "    x = True\n",
    "    for i in range(len(matrix)):\n",
    "        if x:\n",
    "            k = matrix[i][j]\n",
    "            x = False\n",
    "            continue\n",
    "        if k>=matrix[i][j]:\n",
    "            k = matrix[i][j]\n",
    "        else:\n",
    "            break\n",
    "    else:\n",
    "        count+=1\n",
    "print(count)"
   ]
  },
  {
   "cell_type": "code",
   "execution_count": 8,
   "id": "170192b6",
   "metadata": {},
   "outputs": [
    {
     "name": "stdout",
     "output_type": "stream",
     "text": [
      "m = 5\n",
      "n = 5\n",
      "3 3 1 3 2\n",
      "3 3 2 1 3\n",
      "1 3 3 2 1\n",
      "1 2 1 1 3\n",
      "3 2 2 3 1\n",
      "1\n"
     ]
    }
   ],
   "source": [
    "# Ibratillo\n",
    "\n",
    "from random import randint\n",
    "m = int(input('m = '))\n",
    "n = int(input('n = '))\n",
    "a = [[randint(1,3) for j in range(n)] for i in range(m)]\n",
    "for i in a:\n",
    "    print(*i)\n",
    "\n",
    "# matrix ustunini satrga aylantishish\n",
    "aT = []\n",
    "for i in range(n):\n",
    "    s = []\n",
    "    for j in range(m):\n",
    "        s.append(a[j][i])\n",
    "    aT.append(s)\n",
    "    \n",
    "t = 0\n",
    "for i in range(n):\n",
    "    if sorted(aT[i], reverse = True)==aT[i]:\n",
    "        t+=1\n",
    "print(t)"
   ]
  },
  {
   "cell_type": "markdown",
   "id": "7c960158",
   "metadata": {},
   "source": [
    "**`Matrix 46`**"
   ]
  },
  {
   "cell_type": "code",
   "execution_count": 13,
   "id": "070122df",
   "metadata": {},
   "outputs": [
    {
     "name": "stdout",
     "output_type": "stream",
     "text": [
      "m=4\n",
      "n=5\n",
      "4 6 3 9 10\n",
      "6 4 10 9 7\n",
      "1 3 0 8 6\n",
      "5 5 10 9 8\n",
      "Nat= 8\n"
     ]
    }
   ],
   "source": [
    "from random import randint\n",
    "\n",
    "m=int(input(\"m=\"))\n",
    "n=int(input(\"n=\"))\n",
    "matrix=[[randint(0,10) for i in range(n)] for j in range(m)]\n",
    "for i in matrix:\n",
    "    print(*i)\n",
    "    \n",
    "natija=[]\n",
    "for j in range(m):\n",
    "        son=max(matrix[j]);k=0; index=0\n",
    "        # eng katta el. ko`p bo`lganda\n",
    "        for _ in range(matrix[j].count(son)):\n",
    "            index=matrix[j][k:].index(son)+k  # E'tibor beringlar\n",
    "            a=[]\n",
    "            for i in range(m):\n",
    "                a.append(matrix[i][index])\n",
    "            if min(a)==son:\n",
    "                natija.append(son)\n",
    "            k=index+1\n",
    "            \n",
    "if natija:\n",
    "    print(\"Nat=\",*natija)\n",
    "else:\n",
    "    print(0)"
   ]
  },
  {
   "cell_type": "markdown",
   "id": "f5ff5fb8",
   "metadata": {},
   "source": [
    "**`Matrix 50`**"
   ]
  },
  {
   "cell_type": "code",
   "execution_count": 12,
   "id": "0a970b85",
   "metadata": {},
   "outputs": [
    {
     "name": "stdout",
     "output_type": "stream",
     "text": [
      "m=5\n",
      "n=5\n",
      "8 5 6 2 5\n",
      "7 9 7 6 2\n",
      "7 6 3 4 3\n",
      "2 1 8 5 2\n",
      "9 5 1 4 1\n",
      "\n",
      "8 5 6 6 1\n",
      "7 1 7 2 2\n",
      "7 6 3 4 3\n",
      "9 9 1 5 2\n",
      "2 5 8 4 5\n",
      "\n"
     ]
    }
   ],
   "source": [
    "from random import randint\n",
    "\n",
    "m = int(input('m='))\n",
    "n = int(input('n='))\n",
    "matrix = [[randint(1,9) for _ in range(n)] for _ in range(m)]\n",
    "\n",
    "for i in matrix:\n",
    "    print(*i)\n",
    "print()\n",
    "\n",
    "for j in range(len(matrix[0])):\n",
    "    x = True\n",
    "    for i in range(len(matrix)):\n",
    "        if x:\n",
    "            mini = maxi = matrix[i][j]\n",
    "            index_mini, index_maxi = i, i\n",
    "            x = False\n",
    "        if maxi<matrix[i][j]:\n",
    "            maxi = matrix[i][j]\n",
    "            index_maxi = i\n",
    "        if mini>matrix[i][j]:\n",
    "            mini = matrix[i][j]\n",
    "            index_mini = i\n",
    "    matrix[index_maxi][j], matrix[index_mini][j] = matrix[index_mini][j], matrix[index_maxi][j]\n",
    "\n",
    "for i in matrix:\n",
    "    print(*i)\n",
    "print()"
   ]
  },
  {
   "cell_type": "markdown",
   "id": "23ae4151",
   "metadata": {},
   "source": [
    "**`Matrix 51`**"
   ]
  },
  {
   "cell_type": "code",
   "execution_count": 13,
   "id": "3cfe1ffb",
   "metadata": {},
   "outputs": [
    {
     "name": "stdout",
     "output_type": "stream",
     "text": [
      "m=5\n",
      "n=6\n",
      "64 93 56 70 35 26\n",
      "14 43 53 70 49 29\n",
      "31 50 85 82 73 45\n",
      "80 47 58 17 99 48\n",
      "73 60 94 57 81 85\n",
      "\n",
      "64 93 56 70 35 26\n",
      "80 47 58 17 99 48\n",
      "31 50 85 82 73 45\n",
      "14 43 53 70 49 29\n",
      "73 60 94 57 81 85\n"
     ]
    }
   ],
   "source": [
    "from random import randint\n",
    "\n",
    "m = int(input('m='))\n",
    "n = int(input('n='))\n",
    "matrix = [[randint(10,99) for _ in range(n)] for _ in range(m)]\n",
    "\n",
    "for i in matrix:\n",
    "    print(*i)\n",
    "print()\n",
    "\n",
    "mini = min(matrix[0])\n",
    "maxi = max(matrix[0])\n",
    "index_mini, index_maxi = 0, 0\n",
    "for j in range(1,m):\n",
    "    if min(matrix[j]) < mini:\n",
    "        mini = min(matrix[j])\n",
    "        index_mini = j\n",
    "    if max(matrix[j]) > maxi:\n",
    "        maxi = max(matrix[j])\n",
    "        index_maxi = j\n",
    "\n",
    "matrix[index_mini], matrix[index_maxi] = matrix[index_maxi], matrix[index_mini]\n",
    "\n",
    "for i in matrix:\n",
    "    print(*i)"
   ]
  },
  {
   "cell_type": "markdown",
   "id": "0aed0fea",
   "metadata": {},
   "source": [
    "**`Matrix 52`**"
   ]
  },
  {
   "cell_type": "code",
   "execution_count": 20,
   "id": "240dce36",
   "metadata": {},
   "outputs": [
    {
     "name": "stdout",
     "output_type": "stream",
     "text": [
      "m=5\n",
      "n=6\n",
      "91 69 83 90 21 32\n",
      "63 16 81 40 20 53\n",
      "31 44 63 11 69 72\n",
      "41 34 74 56 19 23\n",
      "55 25 26 48 41 35\n",
      "\n",
      "90 69 83 91 21 32\n",
      "40 16 81 63 20 53\n",
      "11 44 63 31 69 72\n",
      "56 34 74 41 19 23\n",
      "48 25 26 55 41 35\n"
     ]
    }
   ],
   "source": [
    "from random import randint\n",
    "\n",
    "m = int(input('m='))\n",
    "n = int(input('n='))\n",
    "matrix = [[randint(10,99) for _ in range(n)] for _ in range(m)]\n",
    "\n",
    "for i in matrix:\n",
    "    print(*i)\n",
    "print()\n",
    "\n",
    "\n",
    "# matrix ustunini satrga aylantishish\n",
    "temp_matrix = []\n",
    "for i in range(n):\n",
    "    s = []\n",
    "    for j in range(m):\n",
    "        s.append(matrix[j][i])\n",
    "    temp_matrix.append(s)\n",
    "    \n",
    "# eng kichik, katta elementlarni topish\n",
    "mini = min(temp_matrix[0])\n",
    "maxi = max(temp_matrix[0])\n",
    "index_mini, index_maxi = 0, 0\n",
    "for j in range(1,m):\n",
    "    if min(temp_matrix[j]) < mini:\n",
    "        mini = min(temp_matrix[j])\n",
    "        index_mini = j\n",
    "    if max(temp_matrix[j]) > maxi:\n",
    "        maxi = max(temp_matrix[j])\n",
    "        index_maxi = j\n",
    "\n",
    "# satrni almashtirish\n",
    "temp_matrix[index_mini], temp_matrix[index_maxi] = temp_matrix[index_maxi], temp_matrix[index_mini]\n",
    "  \n",
    "# satrni ustunga qaytarish\n",
    "matrix = []\n",
    "for i in range(m):\n",
    "    s = []\n",
    "    for j in range(n):\n",
    "        s.append(temp_matrix[j][i])\n",
    "    matrix.append(s)\n",
    "    \n",
    "for i in matrix:\n",
    "    print(*i)"
   ]
  },
  {
   "cell_type": "markdown",
   "id": "22cdac51",
   "metadata": {},
   "source": [
    "**`Matrix 53`**"
   ]
  },
  {
   "cell_type": "code",
   "execution_count": 49,
   "id": "ec0ffad1",
   "metadata": {},
   "outputs": [
    {
     "name": "stdout",
     "output_type": "stream",
     "text": [
      "1 2 3 4 -5 6 7\n",
      "2 3 4 -1 2 3 -4\n",
      "3 -4 5 3 2 1 5\n",
      "-3 4 5 6 -2 5 6\n",
      "-6 5 3 1 4 6 7\n",
      "\n",
      "5\n",
      "6 2 3 4 -5 1 7\n",
      "3 3 4 -1 2 2 -4\n",
      "1 -4 5 3 2 3 5\n",
      "5 4 5 6 -2 -3 6\n",
      "6 5 3 1 4 -6 7\n"
     ]
    }
   ],
   "source": [
    "m = 5\n",
    "n = 7\n",
    "matrix = [\n",
    "    [ 1, 2, 3, 4,-5, 6, 7],\n",
    "    [ 2, 3, 4,-1, 2, 3,-4],\n",
    "    [ 3,-4, 5, 3, 2, 1, 5],\n",
    "    [-3, 4, 5, 6,-2, 5, 6],\n",
    "    [-6, 5, 3, 1, 4, 6, 7]\n",
    "]\n",
    "\n",
    "for i in matrix:\n",
    "    print(*i)\n",
    "print()\n",
    "\n",
    "\n",
    "# matrix ustunini satrga aylantishish\n",
    "temp_matrix = []\n",
    "for i in range(n):\n",
    "    s = []\n",
    "    for j in range(m):\n",
    "        s.append(matrix[j][i])\n",
    "    temp_matrix.append(s)\n",
    "    \n",
    "index = None\n",
    "for j in range(n):\n",
    "    for i in range(m):\n",
    "        if temp_matrix[j][i] < 0:\n",
    "            break\n",
    "    else:\n",
    "        index = j\n",
    "if index != None:\n",
    "    temp_matrix[0], temp_matrix[index] = temp_matrix[index], temp_matrix[0]\n",
    "        \n",
    "# satrni ustunga qaytarish\n",
    "matrix = []\n",
    "for i in range(m):\n",
    "    s = []\n",
    "    for j in range(n):\n",
    "        s.append(temp_matrix[j][i])\n",
    "    matrix.append(s)\n",
    "    \n",
    "print(index)\n",
    "for i in matrix:\n",
    "    print(*i)"
   ]
  },
  {
   "cell_type": "markdown",
   "id": "c9e65dda",
   "metadata": {},
   "source": [
    "**`Matrix 54`**"
   ]
  },
  {
   "cell_type": "code",
   "execution_count": 47,
   "id": "1b20a922",
   "metadata": {},
   "outputs": [
    {
     "name": "stdout",
     "output_type": "stream",
     "text": [
      "-1 2 -3 -4 5 6 7\n",
      "-2 3 4 -1 -2 3 4\n",
      "-3 -4 5 -3 2 1 5\n",
      "-3 4 -5 -6 -2 5 6\n",
      "-6 -5 3 -1 4 6 7\n",
      "\n",
      "0\n",
      "7 2 -3 -4 5 6 -1\n",
      "4 3 4 -1 -2 3 -2\n",
      "5 -4 5 -3 2 1 -3\n",
      "6 4 -5 -6 -2 5 -3\n",
      "7 -5 3 -1 4 6 -6\n"
     ]
    }
   ],
   "source": [
    "m = 5\n",
    "n = 7\n",
    "matrix = [\n",
    "    [-1, 2,-3,-4, 5, 6,7],\n",
    "    [-2, 3, 4,-1,-2, 3,4],\n",
    "    [-3,-4, 5,-3, 2, 1,5],\n",
    "    [-3, 4,-5,-6,-2, 5,6],\n",
    "    [-6,-5, 3,-1, 4, 6,7]\n",
    "]\n",
    "\n",
    "for i in matrix:\n",
    "    print(*i)\n",
    "print()\n",
    "\n",
    "\n",
    "# matrix ustunini satrga aylantishish\n",
    "temp_matrix = []\n",
    "for i in range(n):\n",
    "    s = []\n",
    "    for j in range(m):\n",
    "        s.append(matrix[j][i])\n",
    "    temp_matrix.append(s)\n",
    "    \n",
    "index = None\n",
    "for j in range(n):\n",
    "    for i in range(m):\n",
    "        if temp_matrix[j][i] >= 0:\n",
    "            break\n",
    "    else:\n",
    "        index = j\n",
    "        break\n",
    "if index != None:\n",
    "    temp_matrix[-1], temp_matrix[index] = temp_matrix[index], temp_matrix[-1]\n",
    "        \n",
    "# satrni ustunga qaytarish\n",
    "matrix = []\n",
    "for i in range(m):\n",
    "    s = []\n",
    "    for j in range(n):\n",
    "        s.append(temp_matrix[j][i])\n",
    "    matrix.append(s)\n",
    "    \n",
    "print(index)\n",
    "for i in matrix:\n",
    "    print(*i)"
   ]
  },
  {
   "cell_type": "markdown",
   "id": "fd647c32",
   "metadata": {},
   "source": [
    "**`Matrix 55`**"
   ]
  },
  {
   "cell_type": "code",
   "execution_count": 54,
   "id": "b72c0207",
   "metadata": {},
   "outputs": [
    {
     "name": "stdout",
     "output_type": "stream",
     "text": [
      "m (juft son)=4\n",
      "n=5\n",
      "2 9 5 6 7\n",
      "9 3 6 5 9\n",
      "3 9 1 3 2\n",
      "3 3 6 8 5\n",
      "\n",
      "3 9 1 3 2\n",
      "3 3 6 8 5\n",
      "2 9 5 6 7\n",
      "9 3 6 5 9\n"
     ]
    }
   ],
   "source": [
    "from random import randint\n",
    "\n",
    "m = int(input('m (juft son)='))\n",
    "n = int(input('n='))\n",
    "matrix = [[randint(1,9) for _ in range(n)] for _ in range(m)]\n",
    "\n",
    "for i in matrix:\n",
    "    print(*i)\n",
    "print()\n",
    "\n",
    "# joy almashtirish\n",
    "for _ in range(m//2):\n",
    "    matrix.append(matrix[0])\n",
    "    matrix.remove(matrix[0])\n",
    "    \n",
    "for i in matrix:\n",
    "    print(*i)"
   ]
  },
  {
   "cell_type": "markdown",
   "id": "79bfb7f6",
   "metadata": {},
   "source": [
    "**`Matrix 56`**"
   ]
  },
  {
   "cell_type": "code",
   "execution_count": 56,
   "id": "09d29aa9",
   "metadata": {},
   "outputs": [
    {
     "name": "stdout",
     "output_type": "stream",
     "text": [
      "m=5\n",
      "n (juft son)=4\n",
      "6 5 9 9\n",
      "1 9 4 1\n",
      "3 7 3 4\n",
      "8 3 8 1\n",
      "2 8 8 5\n",
      "\n",
      "9 9 6 5\n",
      "4 1 1 9\n",
      "3 4 3 7\n",
      "8 1 8 3\n",
      "8 5 2 8\n"
     ]
    }
   ],
   "source": [
    "from random import randint\n",
    "\n",
    "m = int(input('m='))\n",
    "n = int(input('n (juft son)='))\n",
    "matrix = [[randint(1,9) for _ in range(n)] for _ in range(m)]\n",
    "\n",
    "for i in matrix:\n",
    "    print(*i)\n",
    "print()\n",
    "\n",
    "# matrix ustunini satrga aylantishish\n",
    "temp_matrix = []\n",
    "for i in range(n):\n",
    "    s = []\n",
    "    for j in range(m):\n",
    "        s.append(matrix[j][i])\n",
    "    temp_matrix.append(s)\n",
    "\n",
    "# joy almashtirish\n",
    "for _ in range(n//2):\n",
    "    temp_matrix.append(temp_matrix[0])\n",
    "    temp_matrix.remove(temp_matrix[0])\n",
    "    \n",
    "# satrni ustunga qaytarish\n",
    "matrix = []\n",
    "for i in range(m):\n",
    "    s = []\n",
    "    for j in range(n):\n",
    "        s.append(temp_matrix[j][i])\n",
    "    matrix.append(s)\n",
    "    \n",
    "for i in matrix:\n",
    "    print(*i)"
   ]
  },
  {
   "cell_type": "markdown",
   "id": "fd8d8626",
   "metadata": {},
   "source": [
    "**`Matrix 57`**"
   ]
  },
  {
   "cell_type": "code",
   "execution_count": 59,
   "id": "4172f453",
   "metadata": {},
   "outputs": [
    {
     "name": "stdout",
     "output_type": "stream",
     "text": [
      "m (juft son)=6\n",
      "n (juft son)=6\n",
      "9 7 8 6 9 6\n",
      "9 2 6 1 5 7\n",
      "1 5 5 8 9 4\n",
      "4 1 1 2 3 4\n",
      "7 7 5 2 3 6\n",
      "6 9 2 3 4 3\n",
      "\n",
      "2 3 4 6 9 6\n",
      "2 3 6 1 5 7\n",
      "3 4 3 8 9 4\n",
      "4 1 1 9 7 8\n",
      "7 7 5 9 2 6\n",
      "6 9 2 1 5 5\n"
     ]
    }
   ],
   "source": [
    "from random import randint\n",
    "\n",
    "m = int(input('m (juft son)='))\n",
    "n = int(input('n (juft son)='))\n",
    "matrix = [[randint(1,9) for _ in range(n)] for _ in range(m)]\n",
    "\n",
    "for i in matrix:\n",
    "    print(*i)\n",
    "print()\n",
    "\n",
    "for j in range(m//2):\n",
    "    for i in range(n//2):\n",
    "        matrix[j][i], matrix[j+m//2][i+n//2] = matrix[j+m//2][i+n//2], matrix[j][i]\n",
    "        \n",
    "for i in matrix:\n",
    "    print(*i)"
   ]
  },
  {
   "cell_type": "markdown",
   "id": "df164ed5",
   "metadata": {},
   "source": [
    "**`Matrix 58`**"
   ]
  },
  {
   "cell_type": "code",
   "execution_count": 63,
   "id": "d86de6a1",
   "metadata": {},
   "outputs": [
    {
     "name": "stdout",
     "output_type": "stream",
     "text": [
      "m (juft son)=4\n",
      "n (juft son)=4\n",
      "1 5 2 9\n",
      "7 9 3 2\n",
      "1 5 2 1\n",
      "3 8 5 7\n",
      "\n",
      "1 5 1 5\n",
      "7 9 3 8\n",
      "2 9 2 1\n",
      "3 2 5 7\n"
     ]
    }
   ],
   "source": [
    "from random import randint\n",
    "\n",
    "m = int(input('m (juft son)='))\n",
    "n = int(input('n (juft son)='))\n",
    "matrix = [[randint(1,9) for _ in range(n)] for _ in range(m)]\n",
    "\n",
    "for i in matrix:\n",
    "    print(*i)\n",
    "print()\n",
    "\n",
    "for j in range(m//2, m):\n",
    "    for i in range(n//2, n):\n",
    "        matrix[j][i-n//2], matrix[j-m//2][i] = matrix[j-m//2][i], matrix[j][i-n//2]\n",
    "        \n",
    "for i in matrix:\n",
    "    print(*i)"
   ]
  },
  {
   "cell_type": "markdown",
   "id": "b140741d",
   "metadata": {},
   "source": [
    "**`Matrix 59`**"
   ]
  },
  {
   "cell_type": "code",
   "execution_count": 73,
   "id": "4db1e64a",
   "metadata": {},
   "outputs": [
    {
     "name": "stdout",
     "output_type": "stream",
     "text": [
      "m=5\n",
      "n=5\n",
      "1 3 1 1 7\n",
      "9 2 8 3 7\n",
      "8 8 5 5 1\n",
      "6 9 5 6 7\n",
      "5 2 7 7 3\n",
      "\n",
      "5 2 7 7 3\n",
      "6 9 5 6 7\n",
      "8 8 5 5 1\n",
      "9 2 8 3 7\n",
      "1 3 1 1 7\n"
     ]
    }
   ],
   "source": [
    "from random import randint\n",
    "\n",
    "m = int(input('m='))\n",
    "n = int(input('n='))\n",
    "matrix = [[randint(1,9) for _ in range(n)] for _ in range(m)]\n",
    "\n",
    "for i in matrix:\n",
    "    print(*i)\n",
    "print()\n",
    "\n",
    "\n",
    "for i in range(n):\n",
    "    for j in range(m//2):\n",
    "        matrix[j][i], matrix[m-j-1][i] = matrix[m-j-1][i], matrix[j][i]\n",
    "    \n",
    "for i in matrix:\n",
    "    print(*i)"
   ]
  },
  {
   "cell_type": "markdown",
   "id": "15c49f62",
   "metadata": {},
   "source": [
    "**`Matrix 60`**"
   ]
  },
  {
   "cell_type": "code",
   "execution_count": 74,
   "id": "8e5ae7ed",
   "metadata": {},
   "outputs": [
    {
     "name": "stdout",
     "output_type": "stream",
     "text": [
      "m=5\n",
      "n=5\n",
      "3 6 7 4 5\n",
      "5 1 8 8 9\n",
      "4 1 1 4 3\n",
      "4 7 3 1 6\n",
      "6 8 6 1 4\n",
      "\n",
      "5 4 7 6 3\n",
      "9 8 8 1 5\n",
      "3 4 1 1 4\n",
      "6 1 3 7 4\n",
      "4 1 6 8 6\n"
     ]
    }
   ],
   "source": [
    "from random import randint\n",
    "\n",
    "m = int(input('m='))\n",
    "n = int(input('n='))\n",
    "matrix = [[randint(1,9) for _ in range(n)] for _ in range(m)]\n",
    "\n",
    "for i in matrix:\n",
    "    print(*i)\n",
    "print()\n",
    "\n",
    "for j in range(m):\n",
    "    for i in range(n//2):\n",
    "        matrix[j][i], matrix[j][n-i-1] = matrix[j][n-i-1], matrix[j][i]\n",
    "    \n",
    "for i in matrix:\n",
    "    print(*i)"
   ]
  },
  {
   "cell_type": "markdown",
   "id": "bb4ef81b",
   "metadata": {},
   "source": [
    "**`Matrix 67 versiya 1`**"
   ]
  },
  {
   "cell_type": "code",
   "execution_count": 37,
   "id": "6bc28568",
   "metadata": {},
   "outputs": [
    {
     "name": "stdout",
     "output_type": "stream",
     "text": [
      "m=3\n",
      "n=3\n",
      "-3 8 3\n",
      "6 3 -8\n",
      "-9 4 -7\n",
      "\n",
      "[1]\n",
      "[1]\n",
      "-3 3\n",
      "6 -8\n",
      "-9 -7\n"
     ]
    }
   ],
   "source": [
    "from random import randint\n",
    "\n",
    "m = int(input('m='))\n",
    "n = int(input('n='))\n",
    "matrix = [[randint(-9,9) for _ in range(n)] for _ in range(m)]\n",
    "\n",
    "for i in matrix:\n",
    "    print(*i)\n",
    "print()\n",
    "\n",
    "index = []\n",
    "for i in range(n):\n",
    "    for j in range(m):\n",
    "        if matrix[j][i] <= 0:\n",
    "            break\n",
    "    else:\n",
    "        index.append(i)\n",
    "\n",
    "index.sort()\n",
    "\n",
    "i = len(index) - 1\n",
    "while i >= 0:\n",
    "    for j in range(m):\n",
    "        matrix[j].pop(index[i])  \n",
    "    i -= 1\n",
    "\n",
    "for i in matrix: \n",
    "    print(*i)"
   ]
  },
  {
   "cell_type": "markdown",
   "id": "130b1f77",
   "metadata": {},
   "source": [
    "**`Matrix 67 versiya 2`**"
   ]
  },
  {
   "cell_type": "code",
   "execution_count": 3,
   "id": "0edcbf00",
   "metadata": {},
   "outputs": [
    {
     "name": "stdout",
     "output_type": "stream",
     "text": [
      "n = 5\n",
      "m = 5\n",
      "4 -1 2 3 -1\n",
      "1 5 -1 0 -1\n",
      "5 2 5 4 0\n",
      "0 3 1 1 2\n",
      "-1 1 -1 5 5\n",
      "\n",
      "4 -1 2 3 -1\n",
      "1 5 -1 0 -1\n",
      "5 2 5 4 0\n",
      "0 3 1 1 2\n",
      "-1 1 -1 5 5\n"
     ]
    }
   ],
   "source": [
    "from random import randint\n",
    "\n",
    "n = int(input(\"n = \"))\n",
    "m = int(input(\"m = \"))\n",
    "matrix = [[randint(-1,5) for j in range(m)] for i in range(n)]\n",
    "\n",
    "for i in matrix:\n",
    "    print(*i)\n",
    "\n",
    "print()\n",
    "j = 0\n",
    "while j<len(matrix[0]):\n",
    "    for i in range(len(matrix)):\n",
    "        if matrix[i][j] <= 0:\n",
    "            break\n",
    "    else:\n",
    "        for k in range(len(matrix)):\n",
    "            matrix[k].pop(j)\n",
    "        j-=1\n",
    "    j+=1\n",
    "            \n",
    "            \n",
    "for i in matrix:\n",
    "    print(*i)"
   ]
  },
  {
   "cell_type": "markdown",
   "id": "bdf6dce8",
   "metadata": {},
   "source": [
    "**`Matrix 69`**"
   ]
  },
  {
   "cell_type": "code",
   "execution_count": 4,
   "id": "951520d0",
   "metadata": {},
   "outputs": [
    {
     "name": "stdout",
     "output_type": "stream",
     "text": [
      "m=5\n",
      "n=5\n",
      "k=3\n",
      "6 1 9 3 7\n",
      "7 1 5 2 4\n",
      "1 8 5 7 1\n",
      "1 6 3 9 7\n",
      "3 4 8 8 8\n",
      "\n",
      "6 1 9 3 1 7\n",
      "7 1 5 2 1 4\n",
      "1 8 5 7 1 1\n",
      "1 6 3 9 1 7\n",
      "3 4 8 8 1 8\n"
     ]
    }
   ],
   "source": [
    "m = int(input('m='))\n",
    "n = int(input('n='))\n",
    "k = int(input('k='))\n",
    "matrix = [[randint(1,9) for _ in range(n)] for _ in range(m)]\n",
    "\n",
    "for i in matrix:\n",
    "    print(*i)\n",
    "print()\n",
    "\n",
    "while 0>k or k+1>=n:\n",
    "    print('k sonini 0<=k<m oraliqda kiriting!!!')\n",
    "    k = int(input('k='))\n",
    "\n",
    "\n",
    "for i in range(len(matrix)):\n",
    "    matrix[i].insert(k+1,1)\n",
    "        \n",
    "for i in matrix:\n",
    "    print(*i)"
   ]
  },
  {
   "cell_type": "markdown",
   "id": "51a6c668",
   "metadata": {},
   "source": [
    "**`Matrix 72`**"
   ]
  },
  {
   "cell_type": "code",
   "execution_count": 6,
   "id": "84ad46b7",
   "metadata": {},
   "outputs": [
    {
     "name": "stdout",
     "output_type": "stream",
     "text": [
      "m=5\n",
      "n=5\n",
      "5 9 9 8 7\n",
      "6 7 5 5 5\n",
      "9 7 7 7 9\n",
      "6 5 8 5 9\n",
      "6 8 8 6 5\n",
      "\n",
      "\n",
      "1 5 9 9 8 7\n",
      "1 6 7 5 5 5\n",
      "1 9 7 7 7 9\n",
      "1 6 5 8 5 9\n",
      "1 6 8 8 6 5\n"
     ]
    }
   ],
   "source": [
    "m = int(input('m='))\n",
    "n = int(input('n='))\n",
    "matrix = [[randint(5,9) for _ in range(n)] for _ in range(m)]\n",
    "\n",
    "for i in matrix:\n",
    "    print(*i)\n",
    "print()\n",
    "\n",
    "index = -1\n",
    "# birinchi uchragan musbat elementlardan tashkil topgan ustunni topish\n",
    "for j in range(len(matrix[0])):\n",
    "    for i in range(len(matrix)):\n",
    "        if matrix[i][j]<=0:\n",
    "            break\n",
    "    else:\n",
    "        index = j\n",
    "        break\n",
    "\n",
    "if index!=-1:\n",
    "    for i in range(len(matrix)):\n",
    "        matrix[i].insert(index,1)\n",
    "    \n",
    "print()\n",
    "for i in matrix:\n",
    "    print(*i)"
   ]
  },
  {
   "cell_type": "markdown",
   "id": "977472dd",
   "metadata": {},
   "source": [
    "**`Matrix 78`**"
   ]
  },
  {
   "cell_type": "code",
   "execution_count": 7,
   "id": "ecf92fe1",
   "metadata": {},
   "outputs": [
    {
     "name": "stdout",
     "output_type": "stream",
     "text": [
      "m = 4\n",
      "n = 5\n",
      "-4 -2 -1 -1 3\n",
      "0 0 1 -4 1\n",
      "-2 -4 -4 -4 -2\n",
      "0 2 0 3 1\n",
      "\n",
      "0 2 0 3 1\n",
      "-4 -2 -1 -1 3\n",
      "0 0 1 -4 1\n",
      "-2 -4 -4 -4 -2\n"
     ]
    }
   ],
   "source": [
    "m = int(input(\"m = \"))\n",
    "n = int(input(\"n = \"))\n",
    "matrix = [[randint(-5,3) for i in range(n)] for j in range(m)]\n",
    "for i in matrix:\n",
    "    print(*i)\n",
    "print()\n",
    "\n",
    "for _ in range(m):\n",
    "    for i in range(m-1):\n",
    "        if min(matrix[i])<min(matrix[i+1]):\n",
    "            matrix[i],matrix[i+1] = matrix[i+1],matrix[i]\n",
    "\n",
    "for i in matrix:\n",
    "    print(*i)"
   ]
  },
  {
   "cell_type": "markdown",
   "id": "595daf45",
   "metadata": {},
   "source": [
    "**`Matrix 79`**"
   ]
  },
  {
   "cell_type": "code",
   "execution_count": 8,
   "id": "8801b098",
   "metadata": {},
   "outputs": [
    {
     "name": "stdout",
     "output_type": "stream",
     "text": [
      "m = 5\n",
      "n = 5\n",
      "-2 -4 -2 -3 -4\n",
      "-3 2 3 -2 -4\n",
      "-3 -2 2 -1 2\n",
      "-4 -2 -1 -5 -2\n",
      "-5 -2 1 0 -2\n",
      "\n",
      "-2 -3 -4 -4 -2\n",
      "-3 -2 2 -4 3\n",
      "-3 -1 -2 2 2\n",
      "-4 -5 -2 -2 -1\n",
      "-5 0 -2 -2 1\n"
     ]
    }
   ],
   "source": [
    "m = int(input(\"m = \"))\n",
    "n = int(input(\"n = \"))\n",
    "matrix = [[randint(-5,3) for i in range(n)] for j in range(m)]\n",
    "for i in matrix:\n",
    "    print(*i)\n",
    "print()\n",
    "\n",
    "for _ in range(n):\n",
    "    for i in range(n-1):\n",
    "        maxi1 = matrix[0][i]\n",
    "        maxi2 = matrix[0][i+1]\n",
    "        for k in range(1,m):\n",
    "            if maxi1<matrix[k][i]:\n",
    "                maxi1 = matrix[k][i]\n",
    "        for k in range(1,m):\n",
    "            if maxi2<matrix[k][i+1]:\n",
    "                maxi2 = matrix[k][i+1]\n",
    "        if maxi1>maxi2:\n",
    "            for h in range(m):\n",
    "                matrix[h][i],matrix[h][i+1] = matrix[h][i+1],matrix[h][i]\n",
    "\n",
    "for i in matrix:\n",
    "    print(*i)"
   ]
  },
  {
   "cell_type": "code",
   "execution_count": null,
   "id": "e079bb99",
   "metadata": {},
   "outputs": [],
   "source": []
  }
 ],
 "metadata": {
  "kernelspec": {
   "display_name": "Python 3 (ipykernel)",
   "language": "python",
   "name": "python3"
  },
  "language_info": {
   "codemirror_mode": {
    "name": "ipython",
    "version": 3
   },
   "file_extension": ".py",
   "mimetype": "text/x-python",
   "name": "python",
   "nbconvert_exporter": "python",
   "pygments_lexer": "ipython3",
   "version": "3.9.12"
  }
 },
 "nbformat": 4,
 "nbformat_minor": 5
}
