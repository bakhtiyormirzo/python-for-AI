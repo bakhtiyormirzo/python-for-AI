{
 "cells": [
  {
   "cell_type": "markdown",
   "id": "15435059",
   "metadata": {},
   "source": [
    "**`File 1`**"
   ]
  },
  {
   "cell_type": "code",
   "execution_count": 3,
   "id": "23ca4b79",
   "metadata": {},
   "outputs": [
    {
     "name": "stdout",
     "output_type": "stream",
     "text": [
      "n = 10\n",
      "k = 5\n",
      "satr: file_01\n"
     ]
    }
   ],
   "source": [
    "n = int(input(\"n = \"))\n",
    "k = int(input(\"k = \"))\n",
    "satr = input(\"satr: \")\n",
    "\n",
    "f = open(f\"files/{satr}.txt\", \"x\")\n",
    "\n",
    "y = \"*\" * k\n",
    "for _ in range(n):\n",
    "    if _ == n-1:\n",
    "        f.write(f\"{y}\\n\")\n",
    "        break\n",
    "    f.write(f\"{y}\\n\")\n",
    "f.close()"
   ]
  },
  {
   "cell_type": "markdown",
   "id": "1dcafa13",
   "metadata": {},
   "source": [
    "**`File 2`**"
   ]
  },
  {
   "cell_type": "code",
   "execution_count": 15,
   "id": "41af1beb",
   "metadata": {},
   "outputs": [
    {
     "name": "stdout",
     "output_type": "stream",
     "text": [
      "n = 3\n",
      "satr: file_02\n"
     ]
    }
   ],
   "source": [
    "n = int(input(\"n = \"))\n",
    "satr = input(\"satr: \")\n",
    "\n",
    "f = open(f\"files/{satr}.txt\", \"x\")\n",
    "\n",
    "y = ord(\"a\")\n",
    "s = \"a\"\n",
    "for i in range(1,n+1):\n",
    "    f.write(f\"{s}\\n\")\n",
    "    s += chr(y+i)\n",
    "f.close()"
   ]
  },
  {
   "cell_type": "markdown",
   "id": "92c221e5",
   "metadata": {},
   "source": [
    "**`File 3`**"
   ]
  },
  {
   "cell_type": "code",
   "execution_count": 17,
   "id": "08a1ceea",
   "metadata": {},
   "outputs": [
    {
     "name": "stdout",
     "output_type": "stream",
     "text": [
      "n = 4\n",
      "satr: file_03\n"
     ]
    }
   ],
   "source": [
    "n = int(input(\"n = \"))\n",
    "satr = input(\"satr: \")\n",
    "\n",
    "f = open(f\"files/{satr}.txt\", \"x\")\n",
    "\n",
    "y = ord(\"A\")\n",
    "s = \"A\" + (\"*\" * (n-1))\n",
    "for i in range(1,n+1):\n",
    "    f.write(f\"{s}\\n\")\n",
    "    s = s[:i] + chr(y+i) + s[i+1:]\n",
    "f.close()"
   ]
  },
  {
   "cell_type": "markdown",
   "id": "88445dc9",
   "metadata": {},
   "source": [
    "**`File 4`**"
   ]
  },
  {
   "cell_type": "code",
   "execution_count": 21,
   "id": "ecd12559",
   "metadata": {},
   "outputs": [
    {
     "name": "stdout",
     "output_type": "stream",
     "text": [
      "Bu 4-savol fayli.\n"
     ]
    }
   ],
   "source": [
    "f = open(\"files/file_04.txt\", \"r\")\n",
    "s = f.read()\n",
    "f.close()\n",
    "print(s)"
   ]
  },
  {
   "cell_type": "markdown",
   "id": "d2bda32a",
   "metadata": {},
   "source": [
    "**`File 5`**"
   ]
  },
  {
   "cell_type": "code",
   "execution_count": 24,
   "id": "48faac81",
   "metadata": {},
   "outputs": [
    {
     "name": "stdout",
     "output_type": "stream",
     "text": [
      "satr: mashq yechildi.\n"
     ]
    }
   ],
   "source": [
    "f = open(\"files/file_05.txt\", \"a\")\n",
    "satr = input(\"satr: \")\n",
    "\n",
    "f.write(satr)\n",
    "f.close()"
   ]
  },
  {
   "cell_type": "markdown",
   "id": "7d6cff0c",
   "metadata": {},
   "source": [
    "**`File 6`**"
   ]
  },
  {
   "cell_type": "code",
   "execution_count": 25,
   "id": "cd91cdf0",
   "metadata": {},
   "outputs": [],
   "source": [
    "f1 = open(\"files/file_06.1.txt\", \"a\")\n",
    "f2 = open(\"files/file_06.2.txt\", \"r\")\n",
    "\n",
    "s2 = f2.read()\n",
    "f1.write(s2)\n",
    "\n",
    "f1.close()\n",
    "f2.close()"
   ]
  },
  {
   "cell_type": "markdown",
   "id": "71a9458b",
   "metadata": {},
   "source": [
    "**`File 7`**"
   ]
  },
  {
   "cell_type": "code",
   "execution_count": 29,
   "id": "8ee4f836",
   "metadata": {},
   "outputs": [
    {
     "name": "stdout",
     "output_type": "stream",
     "text": [
      "satr: Qo'shimcha text.\n"
     ]
    }
   ],
   "source": [
    "f = open(\"files/file_07.txt\", \"r+\")\n",
    "satr = input(\"satr: \")\n",
    "\n",
    "s = f.read()\n",
    "f.seek(0)\n",
    "f.write(satr+s)\n",
    "f.close()"
   ]
  },
  {
   "cell_type": "markdown",
   "id": "7956d12b",
   "metadata": {},
   "source": [
    "**`File 8`**"
   ]
  },
  {
   "cell_type": "code",
   "execution_count": 33,
   "id": "b9c5574c",
   "metadata": {},
   "outputs": [],
   "source": [
    "f1 = open(\"files/file_08.1.txt\", \"r+\")\n",
    "f2 = open(\"files/file_08.2.txt\", \"r\")\n",
    "\n",
    "s1 = f1.read()\n",
    "s2 = f2.read()\n",
    "f1.seek(0)\n",
    "f1.write(s2+s1)\n",
    "f1.close()\n",
    "f2.close()"
   ]
  },
  {
   "cell_type": "markdown",
   "id": "1daef72b",
   "metadata": {},
   "source": [
    "**`File 9`**"
   ]
  },
  {
   "cell_type": "code",
   "execution_count": 4,
   "id": "675381ee",
   "metadata": {},
   "outputs": [
    {
     "name": "stdout",
     "output_type": "stream",
     "text": [
      "k = 4\n"
     ]
    }
   ],
   "source": [
    "f = open(\"files/file_09.txt\", \"r+\")\n",
    "k = int(input(\"k = \"))\n",
    "\n",
    "s = f.readlines()\n",
    "if len(s) >= k:\n",
    "    s.insert(k, \"\\n\")\n",
    "    \n",
    "f.seek(0)\n",
    "f.writelines(s)\n",
    "f.close()"
   ]
  },
  {
   "cell_type": "markdown",
   "id": "ea7b51f0",
   "metadata": {},
   "source": [
    "**`File 10`**"
   ]
  },
  {
   "cell_type": "code",
   "execution_count": 45,
   "id": "27cab0b6",
   "metadata": {},
   "outputs": [
    {
     "name": "stdout",
     "output_type": "stream",
     "text": [
      "k = 5\n"
     ]
    }
   ],
   "source": [
    "f = open(\"files/file_10.txt\", \"r+\")\n",
    "k = int(input(\"k = \"))\n",
    "\n",
    "s = f.readlines()\n",
    "if len(s) > k:\n",
    "    s.insert(k, \"\\n\")\n",
    "    \n",
    "f.seek(0)\n",
    "for i in s:\n",
    "    f.write(i)\n",
    "f.close()"
   ]
  },
  {
   "cell_type": "markdown",
   "id": "3b0837a9",
   "metadata": {},
   "source": [
    "**`File 11`**"
   ]
  },
  {
   "cell_type": "code",
   "execution_count": 52,
   "id": "0aa8fcdb",
   "metadata": {},
   "outputs": [],
   "source": [
    "f = open(\"files/file_11.txt\", \"r+\")\n",
    "\n",
    "s = f.readlines()\n",
    "for i in range(len(s)):\n",
    "    if s[i] == \"\\n\":\n",
    "        s[i] = s[i] * 2\n",
    "        \n",
    "f.seek(0)\n",
    "s = \"\".join(s)\n",
    "f.write(s)\n",
    "f.close()"
   ]
  },
  {
   "cell_type": "markdown",
   "id": "70edf39f",
   "metadata": {},
   "source": [
    "**`File 12`**"
   ]
  },
  {
   "cell_type": "code",
   "execution_count": 55,
   "id": "a3bdf5f8",
   "metadata": {},
   "outputs": [
    {
     "name": "stdout",
     "output_type": "stream",
     "text": [
      "satr: Shu satrga almashtiriladi.\n"
     ]
    }
   ],
   "source": [
    "f = open(\"files/file_12.txt\", \"r+\")\n",
    "satr = input(\"satr: \")\n",
    "\n",
    "s = f.readlines()\n",
    "for i in range(len(s)):\n",
    "    if s[i] == \"\\n\":\n",
    "        s[i] = satr + \"\\n\"\n",
    "        \n",
    "f.seek(0)\n",
    "s = \"\".join(s)\n",
    "f.write(s)\n",
    "f.close()"
   ]
  },
  {
   "cell_type": "markdown",
   "id": "0a125087",
   "metadata": {},
   "source": [
    "**`File 13`**"
   ]
  },
  {
   "cell_type": "code",
   "execution_count": 103,
   "id": "ba6da673",
   "metadata": {},
   "outputs": [],
   "source": [
    "f = open(\"files/file_13.txt\", \"r\")\n",
    "s = f.readlines()\n",
    "f.close()\n",
    "\n",
    "s.pop(0)\n",
    "s.insert(0, \"\\n\")\n",
    "\n",
    "f = open(\"files/file_13.txt\", \"w\")\n",
    "\n",
    "s = \"\".join(s)\n",
    "f.write(s)\n",
    "f.close()"
   ]
  },
  {
   "cell_type": "markdown",
   "id": "1289df5d",
   "metadata": {},
   "source": [
    "**`File 14`**"
   ]
  },
  {
   "cell_type": "code",
   "execution_count": 77,
   "id": "b1f81175",
   "metadata": {},
   "outputs": [],
   "source": [
    "f = open(\"files/file_14.txt\", \"r\")\n",
    "s = f.readlines()\n",
    "f.close()\n",
    "\n",
    "s.pop(-1)\n",
    "\n",
    "f = open(\"files/file_14.txt\", \"w\")\n",
    "\n",
    "s = \"\".join(s)\n",
    "f.write(s)\n",
    "f.close()"
   ]
  },
  {
   "cell_type": "markdown",
   "id": "aabe3449",
   "metadata": {},
   "source": [
    "**`File 15`**"
   ]
  },
  {
   "cell_type": "code",
   "execution_count": 6,
   "id": "d95008f0",
   "metadata": {},
   "outputs": [
    {
     "name": "stdout",
     "output_type": "stream",
     "text": [
      "k = 4\n"
     ]
    }
   ],
   "source": [
    "k = int(input(\"k = \"))\n",
    "\n",
    "f = open(\"files/file_15.txt\", \"r\")\n",
    "s = f.readlines()\n",
    "f.close()\n",
    "\n",
    "if len(s) >= k:\n",
    "    s.pop(k-1)\n",
    "    \n",
    "f = open(\"files/file_15.txt\", \"w\")\n",
    "f.writelines(s)\n",
    "f.close()"
   ]
  },
  {
   "cell_type": "markdown",
   "id": "a4bd0cab",
   "metadata": {},
   "source": [
    "**`File 16`**"
   ]
  },
  {
   "cell_type": "code",
   "execution_count": 81,
   "id": "de77b673",
   "metadata": {},
   "outputs": [],
   "source": [
    "f = open(\"files/file_16.txt\", \"r\")\n",
    "s = f.readlines()\n",
    "f.close()\n",
    "\n",
    "i = 0\n",
    "while i < len(s):\n",
    "    if s[i] == \"\\n\":\n",
    "        s.remove(s[i])\n",
    "    else:\n",
    "        i += 1\n",
    "    \n",
    "f = open(\"files/file_16.txt\", \"w\")\n",
    "\n",
    "s = \"\".join(s)\n",
    "f.write(s)\n",
    "f.close()       "
   ]
  },
  {
   "cell_type": "markdown",
   "id": "3d1594e9",
   "metadata": {},
   "source": [
    "**`File 17`**"
   ]
  },
  {
   "cell_type": "code",
   "execution_count": 95,
   "id": "9b6b695a",
   "metadata": {},
   "outputs": [],
   "source": [
    "f1 = open(\"files/file_17.1.txt\", \"r\")\n",
    "f2 = open(\"files/file_17.2.txt\", \"r\")\n",
    "s1 = f1.readlines()\n",
    "s2 = f2.readlines()\n",
    "f1.close()\n",
    "f2.close()\n",
    "\n",
    "i = 1; j = 0\n",
    "while i < len(s1):\n",
    "    s1.insert(i, s2[j])\n",
    "    i += 2\n",
    "    j += 1\n",
    "    \n",
    "f = open(\"files/file_17.1.txt\", \"w\")\n",
    "\n",
    "s = \"\".join(s1)\n",
    "f.write(s)\n",
    "f.close()       "
   ]
  },
  {
   "cell_type": "markdown",
   "id": "913c01cf",
   "metadata": {},
   "source": [
    "**`File 18`**"
   ]
  },
  {
   "cell_type": "code",
   "execution_count": 102,
   "id": "dff767ab",
   "metadata": {},
   "outputs": [
    {
     "name": "stdout",
     "output_type": "stream",
     "text": [
      "k = 3\n"
     ]
    }
   ],
   "source": [
    "k = int(input(\"k = \"))\n",
    "\n",
    "f = open(\"files/file_18.txt\", \"r\")\n",
    "s = f.readlines()\n",
    "f.close()\n",
    "\n",
    "i = 0\n",
    "while i < len(s):\n",
    "    s[i] = s[i][k:]\n",
    "    i += 1\n",
    "\n",
    "f = open(\"files/file_18.txt\", \"w\")\n",
    "\n",
    "s = \"\".join(s)\n",
    "f.write(s)\n",
    "f.close()       "
   ]
  },
  {
   "cell_type": "markdown",
   "id": "3e35811e",
   "metadata": {},
   "source": [
    "**`File 19`**"
   ]
  },
  {
   "cell_type": "code",
   "execution_count": 101,
   "id": "6fcf60ec",
   "metadata": {},
   "outputs": [],
   "source": [
    "f = open(\"files/file_19.txt\", \"r\")\n",
    "s = f.readlines()\n",
    "f.close()\n",
    "\n",
    "s = \"\".join(s)\n",
    "s = s.swapcase()\n",
    "\n",
    "f = open(\"files/file_19.txt\", \"w\")\n",
    "\n",
    "f.write(s)\n",
    "f.close() "
   ]
  },
  {
   "cell_type": "markdown",
   "id": "064def9a",
   "metadata": {},
   "source": [
    "**`File 20`**"
   ]
  },
  {
   "cell_type": "code",
   "execution_count": 112,
   "id": "68062fea",
   "metadata": {},
   "outputs": [],
   "source": [
    "f = open(\"files/file_20.txt\", \"r\")\n",
    "s = f.readlines()\n",
    "f.close()\n",
    "\n",
    "i = 0\n",
    "while i < len(s):\n",
    "    L = s[i].split()\n",
    "    L = \" \".join(L)\n",
    "    s[i] = L + \"\\n\"\n",
    "    i += 1\n",
    "\n",
    "f = open(\"files/file_20.txt\", \"w\")\n",
    "s = \"\".join(s)\n",
    "f.write(s)\n",
    "f.close() "
   ]
  },
  {
   "cell_type": "markdown",
   "id": "6a8e558f",
   "metadata": {},
   "source": [
    "**`File 21`**"
   ]
  },
  {
   "cell_type": "code",
   "execution_count": 120,
   "id": "758e316f",
   "metadata": {},
   "outputs": [],
   "source": [
    "f = open(\"files/file_21.txt\", \"r\")\n",
    "s = f.readlines()\n",
    "f.close()\n",
    "\n",
    "s = s[:3]\n",
    "\n",
    "f = open(\"files/file_21.txt\", \"w\")\n",
    "s = \"\".join(s)\n",
    "f.write(s)\n",
    "f.close() "
   ]
  },
  {
   "cell_type": "markdown",
   "id": "97797f1f",
   "metadata": {},
   "source": [
    "**`File 22`**"
   ]
  },
  {
   "cell_type": "code",
   "execution_count": 121,
   "id": "18bff875",
   "metadata": {},
   "outputs": [
    {
     "name": "stdout",
     "output_type": "stream",
     "text": [
      "k = 4\n"
     ]
    }
   ],
   "source": [
    "k = int(input(\"k = \"))\n",
    "\n",
    "f = open(\"files/file_22.txt\", \"r\")\n",
    "s = f.readlines()\n",
    "f.close()\n",
    "\n",
    "s = s[:len(s)-k]\n",
    "\n",
    "f = open(\"files/file_22.txt\", \"w\")\n",
    "s = \"\".join(s)\n",
    "f.write(s)\n",
    "f.close() "
   ]
  },
  {
   "cell_type": "markdown",
   "id": "5fa6e726",
   "metadata": {},
   "source": [
    "**`File 23`**"
   ]
  },
  {
   "cell_type": "code",
   "execution_count": 118,
   "id": "65cca29f",
   "metadata": {},
   "outputs": [
    {
     "name": "stdout",
     "output_type": "stream",
     "text": [
      "k = 4\n"
     ]
    }
   ],
   "source": [
    "k = int(input(\"k = \"))\n",
    "\n",
    "f = open(\"files/file_23.1.txt\", \"r\")\n",
    "s = f.readlines()\n",
    "f.close()\n",
    "\n",
    "s = s[len(s)-k:]\n",
    "\n",
    "f = open(\"files/file_23.2.txt\", \"x\")\n",
    "s = \"\".join(s)\n",
    "f.write(s)\n",
    "f.close() "
   ]
  },
  {
   "cell_type": "markdown",
   "id": "ff542c8b",
   "metadata": {},
   "source": [
    "**`File 24`**"
   ]
  },
  {
   "cell_type": "code",
   "execution_count": 1,
   "id": "8fee53bc",
   "metadata": {},
   "outputs": [
    {
     "name": "stdout",
     "output_type": "stream",
     "text": [
      "4\n"
     ]
    }
   ],
   "source": [
    "with open(\"files/file_24.txt\",\"r+\") as f:\n",
    "    s = f.readlines()\n",
    "    \n",
    "    c = 0\n",
    "    for i in s:\n",
    "        if i[0] == \" \":\n",
    "            c += 1\n",
    "    print(c)"
   ]
  },
  {
   "cell_type": "markdown",
   "id": "37f18237",
   "metadata": {},
   "source": [
    "**`File 25`**"
   ]
  },
  {
   "cell_type": "code",
   "execution_count": 13,
   "id": "0d0da9ad",
   "metadata": {},
   "outputs": [
    {
     "name": "stdout",
     "output_type": "stream",
     "text": [
      "k = 3\n"
     ]
    }
   ],
   "source": [
    "k = int(input(\"k = \"))\n",
    "\n",
    "with open(\"files/file_25.txt\",\"r+\") as f:\n",
    "    s = f.readlines()\n",
    "    \n",
    "    if k <= len(s):\n",
    "        i = 0\n",
    "        while i < len(s[k-1]):\n",
    "            if s[k-1][i].isalpha():\n",
    "                break\n",
    "            s[k-1] = s[k-1][1:]\n",
    "            \n",
    "    f.seek(0)\n",
    "    s = \"\".join(s)\n",
    "    f.write(s)"
   ]
  },
  {
   "cell_type": "markdown",
   "id": "6135f75c",
   "metadata": {},
   "source": [
    "**`File 26`**"
   ]
  },
  {
   "cell_type": "code",
   "execution_count": 16,
   "id": "c3ce731c",
   "metadata": {},
   "outputs": [
    {
     "name": "stdout",
     "output_type": "stream",
     "text": [
      "6\n"
     ]
    }
   ],
   "source": [
    "with open(\"files/file_26.txt\",\"r+\") as f:\n",
    "    s = f.readlines()\n",
    "    \n",
    "    c = 0\n",
    "    for i in s:\n",
    "        if i.startswith(\" \"*5):\n",
    "            c += 1\n",
    "    print(c)"
   ]
  },
  {
   "cell_type": "markdown",
   "id": "df402809",
   "metadata": {},
   "source": [
    "**`File 27`**"
   ]
  },
  {
   "cell_type": "code",
   "execution_count": 25,
   "id": "035d034e",
   "metadata": {},
   "outputs": [
    {
     "name": "stdout",
     "output_type": "stream",
     "text": [
      "k = 2\n"
     ]
    }
   ],
   "source": [
    "k = int(input(\"k = \"))\n",
    "\n",
    "with open(\"files/file_27.txt\",\"r+\") as f:\n",
    "    s = f.readlines()\n",
    "    \n",
    "    if k <= len(s):\n",
    "        s[k-1] = s[k-1][5:]\n",
    "            \n",
    "    f.seek(0)\n",
    "    s = \"\".join(s)\n",
    "    f.write(s)"
   ]
  },
  {
   "cell_type": "markdown",
   "id": "8d87b333",
   "metadata": {},
   "source": [
    "**`File 28`**"
   ]
  },
  {
   "cell_type": "code",
   "execution_count": 26,
   "id": "c24de0f7",
   "metadata": {},
   "outputs": [],
   "source": [
    "with open(\"files/file_28.txt\",\"r+\") as f:\n",
    "    s = f.readlines()\n",
    "    \n",
    "    i = 1\n",
    "    while i <= len(s) - 2:\n",
    "        s.insert(i, \"\\n\")\n",
    "        i += 2\n",
    "        \n",
    "    f.seek(0)\n",
    "    s = \"\".join(s)\n",
    "    f.write(s)"
   ]
  },
  {
   "cell_type": "markdown",
   "id": "73b9f130",
   "metadata": {},
   "source": [
    "**`File 29`**"
   ]
  },
  {
   "cell_type": "code",
   "execution_count": 50,
   "id": "e26ca69e",
   "metadata": {},
   "outputs": [
    {
     "name": "stdout",
     "output_type": "stream",
     "text": [
      "ManaShuEngUzunSo'zBo'lishiKerak.\n"
     ]
    }
   ],
   "source": [
    "import string\n",
    "\n",
    "with open(\"files/file_29.txt\",\"r+\") as f:\n",
    "    para = f.readlines()\n",
    "    \n",
    "    maxi_word = \"\"\n",
    "    maxi_count = 0\n",
    "    c = 0\n",
    "    for i in range(len(para)):\n",
    "        words = para[i].split()\n",
    "        \n",
    "        for word in words:\n",
    "            \n",
    "            # NEGADIR SHU PUNKTUATSIYANI O'CHIRISH ISHLAMAYAPTI\n",
    "            if word.isalpha() == \"False\":\n",
    "                for char in string.punctuation:\n",
    "                    word = word.replace(char, '')\n",
    "                    \n",
    "            c = len(word)\n",
    "            if c > maxi_count:\n",
    "                maxi_count = c\n",
    "                maxi_word = word\n",
    "                \n",
    "    print(maxi_word)"
   ]
  },
  {
   "cell_type": "markdown",
   "id": "c60b6dbc",
   "metadata": {},
   "source": [
    "**`File 30`**"
   ]
  },
  {
   "cell_type": "code",
   "execution_count": 59,
   "id": "456c7fcf",
   "metadata": {},
   "outputs": [
    {
     "name": "stdout",
     "output_type": "stream",
     "text": [
      "ut\n"
     ]
    }
   ],
   "source": [
    "import string\n",
    "\n",
    "with open(\"files/file_30.txt\",\"r+\") as f:\n",
    "    para = f.readlines()\n",
    "    \n",
    "    mini_word = \"\"\n",
    "    mini_count = 20\n",
    "    c = 0\n",
    "    for i in range(len(para)):\n",
    "        words = para[i].split()\n",
    "        \n",
    "        for word in words:\n",
    "            \n",
    "            # NEGADIR SHU PUNKTUATSIYANI O'CHIRISH ISHLAMAYAPTI\n",
    "            if word.isalpha() == \"False\":\n",
    "                print(word)\n",
    "                for char in string.punctuation:\n",
    "                    word = word.replace(char, '')\n",
    "                    \n",
    "            c = len(word)\n",
    "            if c <= mini_count:\n",
    "                mini_count = c\n",
    "                mini_word = word\n",
    "                \n",
    "    print(mini_word)"
   ]
  },
  {
   "cell_type": "code",
   "execution_count": 75,
   "id": "cd6f7520",
   "metadata": {},
   "outputs": [],
   "source": [
    "\n",
    "word = \"wordy.\"\n",
    "x = word.isalpha()\n",
    "if x == \"False\":\n",
    "    print(1)\n",
    "    for i in string.punctuation:\n",
    "        print(i)\n",
    "        \n",
    "#print(word)"
   ]
  },
  {
   "cell_type": "code",
   "execution_count": 76,
   "id": "1f30c56c",
   "metadata": {},
   "outputs": [
    {
     "name": "stdout",
     "output_type": "stream",
     "text": [
      "False\n"
     ]
    }
   ],
   "source": [
    "word = \"wordy.\"\n",
    "x = word.isalpha()\n",
    "print(x)\n",
    "if x == \"False\":\n",
    "    print(1)\n",
    "    for i in string.punctuation:\n",
    "        print(i)\n",
    "        \n",
    "#print(word)"
   ]
  },
  {
   "cell_type": "code",
   "execution_count": null,
   "id": "8eaef742",
   "metadata": {},
   "outputs": [],
   "source": []
  }
 ],
 "metadata": {
  "kernelspec": {
   "display_name": "Python 3 (ipykernel)",
   "language": "python",
   "name": "python3"
  },
  "language_info": {
   "codemirror_mode": {
    "name": "ipython",
    "version": 3
   },
   "file_extension": ".py",
   "mimetype": "text/x-python",
   "name": "python",
   "nbconvert_exporter": "python",
   "pygments_lexer": "ipython3",
   "version": "3.9.12"
  }
 },
 "nbformat": 4,
 "nbformat_minor": 5
}
