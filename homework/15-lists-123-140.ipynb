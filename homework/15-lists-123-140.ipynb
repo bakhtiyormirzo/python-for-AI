{
 "cells": [
  {
   "cell_type": "markdown",
   "id": "0f20652d",
   "metadata": {},
   "source": [
    "# Arrays (Lists) 123-140"
   ]
  },
  {
   "cell_type": "code",
   "execution_count": 2,
   "id": "3b1a1fe7",
   "metadata": {},
   "outputs": [
    {
     "name": "stdout",
     "output_type": "stream",
     "text": [
      "n = 10\n",
      "[1, 2, 4, 4, 6, 6, 7, 8, 8, 9]\n",
      "[1, 1, 2, 2, 1, 2, 1]\n",
      "[1, 2, 4, 6, 7, 8, 9]\n",
      "k = 3\n",
      "[1, 2, 9, 6, 6, 7, 8, 8, 4, 4]\n"
     ]
    }
   ],
   "source": [
    "# N124\n",
    "\n",
    "from random import randint\n",
    "\n",
    "n = int(input(\"n = \"))\n",
    "a = [randint(1,9) for i in range(n)]\n",
    "print(a)\n",
    "\n",
    "x = a[0]\n",
    "b = []\n",
    "c = []\n",
    "\n",
    "b.append(1)\n",
    "c.append(x)\n",
    "\n",
    "j = 0\n",
    "for i in range(1,n):\n",
    "    if a[i]==x:\n",
    "        b[j]+=1\n",
    "    else:\n",
    "        x = a[i]\n",
    "        b.append(1)\n",
    "        c.append(x)\n",
    "        j += 1\n",
    "        \n",
    "print(b)\n",
    "print(c)\n",
    "\n",
    "k = int(input(\"k = \"))\n",
    "\n",
    "b[k-1],b[-1] = b[-1],b[k-1]\n",
    "c[k-1],c[-1] = c[-1],c[k-1]\n",
    "\n",
    "a.clear()\n",
    "\n",
    "for i in range(len(b)):\n",
    "    for j in range(b[i]):\n",
    "        a.append(c[i])\n",
    "        \n",
    "print(a)"
   ]
  },
  {
   "cell_type": "code",
   "execution_count": 4,
   "id": "f611e0f4",
   "metadata": {},
   "outputs": [
    {
     "name": "stdout",
     "output_type": "stream",
     "text": [
      "n = 10\n",
      "[3, 2, 2, 9, 3, 8, 3, 6, 9, 7]\n",
      "[1, 2, 1, 1, 1, 1, 1, 1, 1]\n",
      "[3, 2, 9, 3, 8, 3, 6, 9, 7]\n",
      "[3, 2, 2, 2, 9, 3, 8, 3, 6, 9, 7]\n"
     ]
    }
   ],
   "source": [
    "# N128\n",
    "\n",
    "n = int(input(\"n = \"))\n",
    "a = [randint(1,9) for i in range(n)]\n",
    "print(a)\n",
    "\n",
    "x = a[0]\n",
    "b = []\n",
    "c = []\n",
    "\n",
    "b.append(1)\n",
    "c.append(x)\n",
    "\n",
    "# Bu qism seriyalarga ajratish\n",
    "\n",
    "j = 0\n",
    "for i in range(1,n):\n",
    "    if a[i]==x:\n",
    "        b[j]+=1\n",
    "    else:\n",
    "        x = a[i]\n",
    "        b.append(1)\n",
    "        c.append(x)\n",
    "        j += 1\n",
    "        \n",
    "print(b)\n",
    "print(c)\n",
    "\n",
    "k = b.index(max(b))\n",
    "b[k] += 1\n",
    "\n",
    "a.clear()\n",
    "\n",
    "for i in range(len(b)):\n",
    "    for j in range(b[i]):\n",
    "        a.append(c[i])\n",
    "        \n",
    "print(a)"
   ]
  },
  {
   "cell_type": "code",
   "execution_count": 5,
   "id": "939248d8",
   "metadata": {},
   "outputs": [
    {
     "name": "stdout",
     "output_type": "stream",
     "text": [
      "n = 10\n",
      "[1, 3, -2, 4, 6, 6, -3, 3, -6, 6]\n",
      "[2, -1, -5, 4, 0, -3, 5, -2, 4, 2]\n",
      "6.324555320336759 9\n"
     ]
    }
   ],
   "source": [
    "# N133\n",
    "\n",
    "n = int(input(\"n = \"))\n",
    "x = [randint(-6,6) for i in range(n)]\n",
    "y = [randint(-6,6) for i in range(n)]\n",
    "print(x,y,sep=\"\\n\")\n",
    "\n",
    "flag = True\n",
    "index = 0\n",
    "\n",
    "for i in range(0,n):\n",
    "    uzunlik = (x[i]**2 + y[i]**2)**0.5\n",
    "    if flag and ((x[i]<0 and y[i]<0) or (x[i]>0 and y[i]>0)):\n",
    "        d = uzunlik\n",
    "        index = i\n",
    "        flag = False\n",
    "    elif ((x[i]<0 and y[i]<0) or (x[i]>0 and y[i]>0)) and d<uzunlik:\n",
    "        d = uzunlik\n",
    "        index = i\n",
    "if index:\n",
    "    print(d,index)\n",
    "else:\n",
    "    print(index)"
   ]
  },
  {
   "cell_type": "code",
   "execution_count": 7,
   "id": "f5808c3e",
   "metadata": {},
   "outputs": [
    {
     "name": "stdout",
     "output_type": "stream",
     "text": [
      "n = 10\n",
      "[-4, 3, 4, -2, 3, -5, 6, -1, 5, 4]\n",
      "[-2, 5, 2, 2, 4, 3, 5, 0, -4, 0]\n",
      "[-5, -4, -2, -1, 3, 3, 4, 4, 5, 6]\n",
      "[3, -2, 2, 0, 4, 5, 0, 2, -4, 5]\n"
     ]
    }
   ],
   "source": [
    "# N139 koordinata nuqtalarini o'sish tartibida joylashtirish\n",
    "\n",
    "n = int(input(\"n = \"))\n",
    "x = [randint(-6,6) for i in range(n)]\n",
    "y = [randint(-6,6) for i in range(n)]\n",
    "print(x,y,sep=\"\\n\")\n",
    "\n",
    "flag = True\n",
    "index = 0\n",
    "\n",
    "for i in range(0,n-1):\n",
    "    for j in range(i,n):\n",
    "        if (x[i]>x[j]) or (x[i]==x[j] and y[i]>y[j]):\n",
    "            x[i],x[j] = x[j],x[i]\n",
    "            y[i],y[j] = y[j],y[i]\n",
    "            \n",
    "print(x,y,sep=\"\\n\")"
   ]
  },
  {
   "cell_type": "code",
   "execution_count": 6,
   "id": "8655ab2f",
   "metadata": {},
   "outputs": [
    {
     "name": "stdout",
     "output_type": "stream",
     "text": [
      "n = 10\n",
      "[6, 1, -5, -4, 2, 3, 4, 0, 6, 2]\n",
      "[3, -4, -5, 1, 0, 1, 1, -2, 3, 4]\n",
      "[6, 6, 2, 4, 3, 2, 0, 1, -4, -5]\n",
      "[3, 3, 4, 1, 1, 0, -2, -4, 1, -5]\n"
     ]
    }
   ],
   "source": [
    "# N140 koordinata nuqtalarini kamayish tartibida joylashtirish\n",
    "\n",
    "n = int(input(\"n = \"))\n",
    "x = [randint(-6,6) for i in range(n)]\n",
    "y = [randint(-6,6) for i in range(n)]\n",
    "print(x,y,sep=\"\\n\")\n",
    "\n",
    "flag = True\n",
    "index = 0\n",
    "\n",
    "for i in range(0,n-1):\n",
    "    for j in range(i,n):\n",
    "        if (x[i]+y[i]<x[j]+y[j]) or (x[i]+y[i]==x[j]+y[j] and x[i]<x[j]):\n",
    "            x[i],x[j] = x[j],x[i]\n",
    "            y[i],y[j] = y[j],y[i]\n",
    "            \n",
    "print(x,y,sep=\"\\n\")"
   ]
  }
 ],
 "metadata": {
  "kernelspec": {
   "display_name": "Python 3 (ipykernel)",
   "language": "python",
   "name": "python3"
  },
  "language_info": {
   "codemirror_mode": {
    "name": "ipython",
    "version": 3
   },
   "file_extension": ".py",
   "mimetype": "text/x-python",
   "name": "python",
   "nbconvert_exporter": "python",
   "pygments_lexer": "ipython3",
   "version": "3.9.12"
  }
 },
 "nbformat": 4,
 "nbformat_minor": 5
}
