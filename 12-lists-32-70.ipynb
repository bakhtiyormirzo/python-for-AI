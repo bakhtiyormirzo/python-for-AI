{
 "cells": [
  {
   "cell_type": "markdown",
   "id": "39131661",
   "metadata": {},
   "source": [
    "# Arrays (Lists) 32-70"
   ]
  },
  {
   "cell_type": "code",
   "execution_count": 3,
   "id": "e5a09f7c",
   "metadata": {},
   "outputs": [
    {
     "name": "stdout",
     "output_type": "stream",
     "text": [
      "n = 8\n",
      "[8, 1, 8, 1, 8, 5, 7, 8]\n",
      "5\n"
     ]
    }
   ],
   "source": [
    "# N32 Lokal manimum\n",
    "\n",
    "from random import randint\n",
    "\n",
    "n = int(input(\"n = \"))\n",
    "a = [randint(1,10) for i in range(n)]\n",
    "print(a)\n",
    "\n",
    "yoq = True\n",
    "for i in range(1,n-1):\n",
    "    if a[i-1] > a[i] < a[i+1]:\n",
    "        mini = i\n",
    "        yoq = False\n",
    "        \n",
    "if yoq:\n",
    "    print(\"Lokal minimum yo'q\")\n",
    "else:\n",
    "    print(mini)"
   ]
  },
  {
   "cell_type": "code",
   "execution_count": 4,
   "id": "6f07e2d9",
   "metadata": {},
   "outputs": [
    {
     "name": "stdout",
     "output_type": "stream",
     "text": [
      "n = 7\n",
      "[2, 1, 1, 6, 7, 5, 3]\n",
      "4\n"
     ]
    }
   ],
   "source": [
    "# N33: Lokal maximum\n",
    "\n",
    "from random import randint\n",
    "\n",
    "n = int(input(\"n = \"))\n",
    "a = [randint(1,10) for i in range(n)]\n",
    "print(a)\n",
    "\n",
    "yoq = True\n",
    "for i in range(1,n-1):\n",
    "    if a[i-1] < a[i] > a[i+1]:\n",
    "        maxi = i\n",
    "        yoq = False\n",
    "        \n",
    "if yoq:\n",
    "    print(\"Lokal maksimum yo'q\")\n",
    "else:\n",
    "    print(maxi)"
   ]
  },
  {
   "cell_type": "code",
   "execution_count": 5,
   "id": "24fafe3d",
   "metadata": {},
   "outputs": [
    {
     "name": "stdout",
     "output_type": "stream",
     "text": [
      "n = 8\n",
      "[5, 6, 6, 9, 4, 9, 4, 5]\n",
      "4\n"
     ]
    }
   ],
   "source": [
    "# N34: lokal minimumlarni eng kattasi\n",
    "\n",
    "from random import randint\n",
    "\n",
    "n = int(input(\"n = \"))\n",
    "a = [randint(1,10) for i in range(n)]\n",
    "print(a)\n",
    "L = []\n",
    "\n",
    "yoq = True\n",
    "for i in range(1,n-1):\n",
    "    if a[i-1] > a[i] < a[i+1]:\n",
    "        L.append(a[i])\n",
    "        yoq = False\n",
    "        \n",
    "print(max(L))"
   ]
  },
  {
   "cell_type": "code",
   "execution_count": 7,
   "id": "e4ae166d",
   "metadata": {},
   "outputs": [
    {
     "name": "stdout",
     "output_type": "stream",
     "text": [
      "n = 8\n",
      "[4, 4, 10, 4, 3, 6, 1, 3]\n",
      "6\n"
     ]
    }
   ],
   "source": [
    "# N35: lokal maximumlarning eng kichigi\n",
    "\n",
    "from random import randint\n",
    "\n",
    "n = int(input(\"n = \"))\n",
    "a = [randint(1,10) for i in range(n)]\n",
    "print(a)\n",
    "L = []\n",
    "\n",
    "for i in range(1,n-1):\n",
    "    if a[i-1] < a[i] > a[i+1]:\n",
    "        L.append(a[i])\n",
    "        \n",
    "print(min(L))"
   ]
  },
  {
   "cell_type": "code",
   "execution_count": 8,
   "id": "309362a0",
   "metadata": {},
   "outputs": [
    {
     "name": "stdout",
     "output_type": "stream",
     "text": [
      "n = 9\n",
      "[10, 9, 8, 2, 4, 7, 9, 2, 7]\n",
      "9\n"
     ]
    }
   ],
   "source": [
    "# N36: lokal minimum yoki maximum \n",
    "# bo'lmagan sonlarning eng kattasi\n",
    "\n",
    "from random import randint\n",
    "\n",
    "n = int(input(\"n = \"))\n",
    "a = [randint(1,10) for i in range(n)]\n",
    "print(a)\n",
    "L = []\n",
    "yoq = True\n",
    "for i in range(1,n-1):\n",
    "    if a[i-1] < a[i] < a[i+1] or a[i-1] > a[i] > a[i+1]:\n",
    "        L.append(a[i])\n",
    "        yoq = False\n",
    "        \n",
    "if yoq:\n",
    "    print(0)\n",
    "else:\n",
    "    print(max(L))"
   ]
  },
  {
   "cell_type": "code",
   "execution_count": 9,
   "id": "7aae8864",
   "metadata": {},
   "outputs": [
    {
     "name": "stdout",
     "output_type": "stream",
     "text": [
      "1\n"
     ]
    }
   ],
   "source": [
    "# N37: monoton o'suvchi oraliqlar soni\n",
    "\n",
    "def monoton_osish(L):\n",
    "    i = 1\n",
    "    S = 0\n",
    "    while i < len(L)-1:\n",
    "        if L[i] > L[i-1] and L[i] > L[i+1]:\n",
    "            S += 1\n",
    "        i += 1\n",
    "    if L[-2] < L[-1]:\n",
    "        S += 1\n",
    "    return S\n",
    "\n",
    "#L = [20,87,11,4,5,3,5,64,5,4,34,5,6,34,22,89,33,45,22,10,30]\n",
    "L = [1,2,3,4,5,6,7,8,9,10]\n",
    "print(monoton_osish(L))"
   ]
  },
  {
   "cell_type": "code",
   "execution_count": 10,
   "id": "449e76c4",
   "metadata": {},
   "outputs": [
    {
     "name": "stdout",
     "output_type": "stream",
     "text": [
      "1\n"
     ]
    }
   ],
   "source": [
    "# N38: monoton kamayuvchi oraliqlar soni\n",
    "\n",
    "def monoton_kamayish(L):\n",
    "    i = 1\n",
    "    S = 0\n",
    "    while i < len(L)-1:\n",
    "        if L[i] < L[i-1] and L[i] < L[i+1]:\n",
    "            S += 1\n",
    "        i += 1\n",
    "    if L[-2] > L[-1]:\n",
    "        S += 1\n",
    "    return S\n",
    "\n",
    "#L = [20,87,11,4,5,3,5,64,5,4,34,5,6,34,22,89,33,45,22,10,30] # 7\n",
    "L = [10,9,8,7,6,5,4,3,2,1]\n",
    "print(monoton_kamayish(L))"
   ]
  },
  {
   "cell_type": "code",
   "execution_count": 11,
   "id": "27a5febb",
   "metadata": {},
   "outputs": [
    {
     "name": "stdout",
     "output_type": "stream",
     "text": [
      "15\n"
     ]
    }
   ],
   "source": [
    "# N39: monoton oraliqlar soni (37,38)\n",
    "\n",
    "def monoton_osish(L):\n",
    "    i = 1\n",
    "    S = 0\n",
    "    while i < len(L)-1:\n",
    "        if L[i] > L[i-1] and L[i] > L[i+1]:\n",
    "            S += 1\n",
    "        i += 1\n",
    "    if L[-2] < L[-1]:\n",
    "        S += 1\n",
    "    return S\n",
    "\n",
    "def monoton_kamayish(L):\n",
    "    i = 1\n",
    "    S = 0\n",
    "    while i < len(L)-1:\n",
    "        if L[i] < L[i-1] and L[i] < L[i+1]:\n",
    "            S += 1\n",
    "        i += 1\n",
    "    if L[-2] > L[-1]:\n",
    "        S += 1\n",
    "    return S\n",
    "\n",
    "L = [20,87,11,4,5,3,5,64,5,4,34,5,6,34,22,89,33,45,22,10,30]\n",
    "# kamayish: 7\n",
    "# o'sish: 8\n",
    "\n",
    "osish = monoton_osish(L)\n",
    "kamayish = monoton_kamayish(L) \n",
    "print(osish + kamayish)"
   ]
  },
  {
   "cell_type": "code",
   "execution_count": 12,
   "id": "1662b2fa",
   "metadata": {},
   "outputs": [
    {
     "name": "stdout",
     "output_type": "stream",
     "text": [
      "n = 9\n",
      "r = 2\n",
      "[5, 5, 3, 5, 10, 7, 5, 7, 4]\n",
      "3\n"
     ]
    }
   ],
   "source": [
    "# N40: massivedan R soniga eng yaqin son topilsin\n",
    "\n",
    "from random import randint\n",
    "\n",
    "def array40(a,r):\n",
    "    x = True\n",
    "    for i in range(len(a)):\n",
    "        if x:\n",
    "            mini1 = abs(a[i] - r)\n",
    "            yaqin = a[i]\n",
    "            x = False\n",
    "            continue\n",
    "        mini2 = abs(a[i] - r)\n",
    "        if mini2 < mini1:\n",
    "            mini1 = mini2\n",
    "            yaqin = a[i]\n",
    "    return yaqin\n",
    "\n",
    "n = int(input(\"n = \"))\n",
    "r = int(input(\"r = \"))\n",
    "a = [randint(1,10) for i in range(n)]\n",
    "print(a)\n",
    "print(array40(a,r))"
   ]
  },
  {
   "cell_type": "code",
   "execution_count": 13,
   "id": "39bc4b0f",
   "metadata": {},
   "outputs": [
    {
     "name": "stdout",
     "output_type": "stream",
     "text": [
      "n = 9\n",
      "[5, 3, 5, 4, 1, 8, 1, 3, 5]\n",
      "(5, 4)\n"
     ]
    }
   ],
   "source": [
    "# N41: yig'indisi eng katta bolgan, ikkita qo'shni element\n",
    "\n",
    "from random import randint\n",
    "\n",
    "def array41(a):\n",
    "    x = True\n",
    "    for i in range(len(a)-1):\n",
    "        if x:\n",
    "            maxi1 = a[i] + a[i+1]\n",
    "            son1 = a[i]\n",
    "            son2 = a[i+1]\n",
    "            x = False\n",
    "            continue\n",
    "        maxi2 = a[i] + a[i+1]\n",
    "        if maxi2 > maxi1:\n",
    "            son1 = a[i]\n",
    "            son2 = a[i+1]\n",
    "            maxi1 = maxi2\n",
    "    return son1, son2\n",
    "\n",
    "n = int(input(\"n = \"))\n",
    "a = [randint(1,10) for i in range(n)]\n",
    "\n",
    "print(a)\n",
    "print(array41(a))"
   ]
  },
  {
   "cell_type": "code",
   "execution_count": 14,
   "id": "1ac41ab7",
   "metadata": {},
   "outputs": [
    {
     "name": "stdout",
     "output_type": "stream",
     "text": [
      "n = 9\n",
      "r = 3\n",
      "[2, 4, 7, 9, 5, 9, 6, 8, 6]\n",
      "(2, 4)\n"
     ]
    }
   ],
   "source": [
    "# N42: yig'indisi R ga yaqin bo'lgan qo'shni sonlar\n",
    "\n",
    "from random import randint\n",
    "\n",
    "def array42(L,r):\n",
    "    x = True\n",
    "    for i in range(len(L)-1):\n",
    "        if x:\n",
    "            yaqin1 = abs(L[i] + L[i+1] - r) \n",
    "            son1 = L[i]\n",
    "            son2 = L[i+1]\n",
    "            x = False\n",
    "            continue\n",
    "        yaqin2 = abs(L[i] + L[i+1] - r) \n",
    "        if yaqin2 < yaqin1:\n",
    "            yaqin1 = yaqin2\n",
    "            son1 = L[i]\n",
    "            son2 = L[i+1]\n",
    "    return son1,son2\n",
    "\n",
    "n = int(input(\"n = \"))\n",
    "a = [randint(1,10) for i in range(n)]\n",
    "r = int(input(\"r = \"))\n",
    "\n",
    "print(a)\n",
    "print(array42(a,r))"
   ]
  },
  {
   "cell_type": "code",
   "execution_count": 15,
   "id": "09d1cba4",
   "metadata": {},
   "outputs": [
    {
     "name": "stdout",
     "output_type": "stream",
     "text": [
      "6\n"
     ]
    }
   ],
   "source": [
    "# N43: tartibli listdan har hil qiymatlarni chiqarish\n",
    "\n",
    "from random import randint\n",
    "\n",
    "a = [1,1,1,2,2,2,2,3,3,3,4,4,5,7,7]\n",
    "\n",
    "s = 1\n",
    "for i in range(1,len(a)):\n",
    "    if a[i] != a[i-1]:\n",
    "        s += 1\n",
    "print(s)"
   ]
  },
  {
   "cell_type": "code",
   "execution_count": 16,
   "id": "2e543d53",
   "metadata": {},
   "outputs": [
    {
     "name": "stdout",
     "output_type": "stream",
     "text": [
      "2 6 "
     ]
    }
   ],
   "source": [
    "# N44: ikkita bir xil elementlar indexi. versiya 1\n",
    "\n",
    "L = [2,3,4,5,6,7,4,9,1] # 2,6\n",
    "\n",
    "for i in range(len(L)):\n",
    "    if L.count(L[i]) == 2:\n",
    "        print(i, end=\" \")"
   ]
  },
  {
   "cell_type": "code",
   "execution_count": 18,
   "id": "efc8ada9",
   "metadata": {},
   "outputs": [
    {
     "name": "stdout",
     "output_type": "stream",
     "text": [
      "2 6\n"
     ]
    }
   ],
   "source": [
    "# N44: ikkita bir xil elementlar indexi. versiya 2\n",
    "\n",
    "L = [2,3,4,5,6,7,4,9,1] # 2,6\n",
    "\n",
    "breaked = False\n",
    "for i in range(len(L)):\n",
    "    skip = i\n",
    "    for j in range(len(L)):\n",
    "        if skip == j:\n",
    "            continue\n",
    "        \n",
    "        if L[i] == L[j]:\n",
    "            print(i,j)\n",
    "            breaked = True\n",
    "            break\n",
    "    if breaked:\n",
    "        break"
   ]
  },
  {
   "cell_type": "code",
   "execution_count": 19,
   "id": "6a1191c2",
   "metadata": {},
   "outputs": [
    {
     "name": "stdout",
     "output_type": "stream",
     "text": [
      "n = 9\n",
      "[5, 10, 4, 7, 1, 1, 4, 1, 1]\n",
      "(4, 5)\n"
     ]
    }
   ],
   "source": [
    "# N45: bir biriga eng yaqin qo'shnilar indexi\n",
    "\n",
    "from random import randint\n",
    "\n",
    "def array45(L):\n",
    "    x = True\n",
    "    for i in range(len(L)-1):\n",
    "        if x:\n",
    "            mini1 = abs(L[i] - L[i+1])\n",
    "            ind1 = i\n",
    "            ind2 = i+1\n",
    "            x = False\n",
    "            continue\n",
    "        mini2 = abs(L[i] - L[i+1])\n",
    "        if mini2 < mini1:\n",
    "            mini1 = mini2\n",
    "            ind1 = i\n",
    "            ind2 = i+1\n",
    "    return ind1,ind2\n",
    "\n",
    "n = int(input(\"n = \"))\n",
    "a = [randint(1,10) for i in range(n)]\n",
    "print(a)\n",
    "print(array45(a))"
   ]
  },
  {
   "cell_type": "code",
   "execution_count": 20,
   "id": "ccb7aa6d",
   "metadata": {},
   "outputs": [
    {
     "name": "stdout",
     "output_type": "stream",
     "text": [
      "n = 9\n",
      "r = 3\n",
      "[9, 5, 5, 8, 7, 2, 7, 5, 3]\n",
      "(2, 3)\n"
     ]
    }
   ],
   "source": [
    "# N46: yig'indisi R soniga eng yaqin ikkita element\n",
    "\n",
    "from random import randint\n",
    "\n",
    "def array46(L,r):\n",
    "    x = True\n",
    "    \n",
    "    for i in range(len(L)):\n",
    "        skip = i\n",
    "        for j in range(len(L)):\n",
    "            \n",
    "            if j == skip:\n",
    "                continue\n",
    "            \n",
    "            if x:\n",
    "                mini1 = abs(L[i] + L[j] - r)\n",
    "                son1 = L[i]\n",
    "                son2 = L[j]\n",
    "                x = False\n",
    "                continue\n",
    "                \n",
    "            mini2 = abs(L[i] + L[j] - r)\n",
    "            if mini2 < mini1:\n",
    "                mini1 = mini2\n",
    "                son1 = L[i]\n",
    "                son2 = L[j]\n",
    "            \n",
    "    return son1,son2\n",
    "\n",
    "n = int(input(\"n = \"))\n",
    "r = int(input(\"r = \"))\n",
    "a = [randint(1,10) for i in range(n)]\n",
    "print(a)\n",
    "print(array46(a,r))"
   ]
  },
  {
   "cell_type": "code",
   "execution_count": 31,
   "id": "1c0d12ed",
   "metadata": {},
   "outputs": [
    {
     "name": "stdout",
     "output_type": "stream",
     "text": [
      "n = 9\n",
      "[3, 3, 1, 1, 3, 2, 1, 4, 2]\n",
      "[3, 1, 2, 4]\n"
     ]
    }
   ],
   "source": [
    "# N47 versiya 1\n",
    "# massivdagi sonlardan faqat bittadan chiqaring\n",
    "# bir xil raqamlar faqat bir marta chiqsin\n",
    "\n",
    "from random import randint\n",
    "\n",
    "n = int(input(\"n = \"))\n",
    "L = [randint(1,5) for i in range(n)]\n",
    "print(L)\n",
    "\n",
    "a = []\n",
    "for i in range(len(L)):\n",
    "    if L[i] not in a:\n",
    "        a.append(L[i])\n",
    "\n",
    "print(a)"
   ]
  },
  {
   "cell_type": "code",
   "execution_count": 28,
   "id": "643c0c74",
   "metadata": {},
   "outputs": [
    {
     "name": "stdout",
     "output_type": "stream",
     "text": [
      "n = 7\n",
      "[2, 1, 2, 2, 2, 1, 1]\n",
      "[2, 1]\n"
     ]
    }
   ],
   "source": [
    "# N47 versiya 2\n",
    "\n",
    "from random import randint\n",
    "\n",
    "n = int(input(\"n = \"))\n",
    "a = [randint(1,2) for i in range(n)]\n",
    "print(a)\n",
    "\n",
    "i = 0\n",
    "\n",
    "while i < len(a):\n",
    "    if a.count(a[i]) > 1:\n",
    "        k = a[i]\n",
    "        for _ in range(a.count(a[i])):\n",
    "            a.remove(k)\n",
    "        a.insert(i,k)\n",
    "    i += 1\n",
    "\n",
    "print(a)"
   ]
  },
  {
   "cell_type": "code",
   "execution_count": 22,
   "id": "e7c9fa88",
   "metadata": {},
   "outputs": [
    {
     "name": "stdout",
     "output_type": "stream",
     "text": [
      "n = 9\n",
      "[10, 6, 4, 2, 4, 4, 10, 2, 3]\n",
      "4 soni 3 ta.\n"
     ]
    }
   ],
   "source": [
    "# N48: eng ko'p qatnashgan element sonini chiqaring\n",
    "\n",
    "from random import randint\n",
    "\n",
    "n = int(input(\"n = \"))\n",
    "L = [randint(1,10) for i in range(n)]\n",
    "print(L)\n",
    "\n",
    "x = True\n",
    "for i in range(len(L)):\n",
    "    if x:\n",
    "        maxi = L.count(L[i])\n",
    "        qiymat = L[i]\n",
    "        soni = L.count(L[i])\n",
    "        x = False\n",
    "    maxi1 = L.count(L[i])\n",
    "    if maxi < maxi1:\n",
    "        maxi = maxi1\n",
    "        qiymat = L[i]\n",
    "        soni = L.count(L[i])\n",
    "print(qiymat, \"soni\", soni, \"ta.\")"
   ]
  },
  {
   "cell_type": "code",
   "execution_count": 23,
   "id": "5c9246ff",
   "metadata": {},
   "outputs": [
    {
     "name": "stdout",
     "output_type": "stream",
     "text": [
      "n = 9\n",
      "[9, 1, 2, 8, 6, 6, 6, 2, 1]\n",
      "[1, 2, 3, 4, 5, 6, 7, 8]\n",
      "0\n"
     ]
    }
   ],
   "source": [
    "# N49\n",
    "\n",
    "from random import randint\n",
    "\n",
    "n = int(input(\"n = \"))\n",
    "L = [randint(1,10) for i in range(n)]\n",
    "print(L)\n",
    "\n",
    "a = [i for i in range(1,n)]\n",
    "print(a)\n",
    "\n",
    "for i in range(len(L)):\n",
    "    if L[i] not in a:\n",
    "        print(i)\n",
    "        break\n",
    "else:\n",
    "    print(0)"
   ]
  },
  {
   "cell_type": "code",
   "execution_count": 24,
   "id": "1f6ee897",
   "metadata": {},
   "outputs": [
    {
     "name": "stdout",
     "output_type": "stream",
     "text": [
      "n = 9\n",
      "[6, 9, 4, 10, 1, 6, 3, 10, 10]\n",
      "3\n"
     ]
    }
   ],
   "source": [
    "# N50: o'ng qo'shnisidan katta bo'lganlar soni\n",
    "\n",
    "from random import randint\n",
    "\n",
    "n = int(input(\"n = \"))\n",
    "L = [randint(1,10) for i in range(n)]\n",
    "print(L)\n",
    "\n",
    "s = 0\n",
    "for i in range(len(L)-1):\n",
    "    if L[i] > L[i+1]:\n",
    "        s += 1\n",
    "print(s)"
   ]
  },
  {
   "cell_type": "code",
   "execution_count": 25,
   "id": "fac114d3",
   "metadata": {},
   "outputs": [
    {
     "name": "stdout",
     "output_type": "stream",
     "text": [
      "n = 9\n",
      "[8, 5, 6, 2, 6, 5, 10, 3, 10]\n",
      "[2, 3, 9, 3, 8, 4, 4, 1, 9]\n",
      "[2, 3, 9, 3, 8, 4, 4, 1, 9]\n",
      "[8, 5, 6, 2, 6, 5, 10, 3, 10]\n"
     ]
    }
   ],
   "source": [
    "# N51\n",
    "\n",
    "from random import randint\n",
    "\n",
    "n = int(input(\"n = \"))\n",
    "a = [randint(1,10) for a in range(n)]\n",
    "b = [randint(1,10) for b in range(n)]\n",
    "print(a)\n",
    "print(b)\n",
    "\n",
    "a.append(b)\n",
    "b = a[:-1:]\n",
    "a = a[-1]\n",
    "print(a)\n",
    "print(b)"
   ]
  },
  {
   "cell_type": "code",
   "execution_count": 26,
   "id": "f09b6b51",
   "metadata": {},
   "outputs": [
    {
     "name": "stdout",
     "output_type": "stream",
     "text": [
      "n = 9\n",
      "[7, 4, 5, 6, 8, 9, 2, 9, 9]\n",
      "[3.5, 8, 2.5, 3.0, 4.0, 4.5, 4, 4.5, 4.5]\n"
     ]
    }
   ],
   "source": [
    "# N52\n",
    "\n",
    "from random import randint\n",
    "\n",
    "n = int(input(\"n = \"))\n",
    "a = [randint(1,10) for a in range(n)]\n",
    "print(a)\n",
    "\n",
    "b = []\n",
    "\n",
    "for i in range(len(a)):\n",
    "    if a[i] < 5:\n",
    "        b.append(2*a[i])\n",
    "    else:\n",
    "        b.append(a[i] / 2)\n",
    "print(b)"
   ]
  },
  {
   "cell_type": "code",
   "execution_count": 27,
   "id": "a542d88e",
   "metadata": {},
   "outputs": [
    {
     "name": "stdout",
     "output_type": "stream",
     "text": [
      "n = 9\n",
      "[4, 4, 3, 10, 2, 5, 4, 1, 2]\n",
      "[10, 2, 1, 5, 4, 8, 8, 8, 8]\n",
      "[10, 4, 3, 10, 4, 8, 8, 8, 8]\n"
     ]
    }
   ],
   "source": [
    "# N53\n",
    "\n",
    "from random import randint\n",
    "\n",
    "n = int(input(\"n = \"))\n",
    "a = [randint(1,10) for a in range(n)]\n",
    "b = [randint(1,10) for b in range(n)]\n",
    "print(a)\n",
    "print(b)\n",
    "\n",
    "c = []\n",
    "for i in range(n):\n",
    "    c.append(max(a[i], b[i]))\n",
    "print(c)"
   ]
  },
  {
   "cell_type": "code",
   "execution_count": 28,
   "id": "1e0ad7c9",
   "metadata": {},
   "outputs": [
    {
     "name": "stdout",
     "output_type": "stream",
     "text": [
      "n = 9\n",
      "[3, 2, 1, 4, 7, 1, 7, 3, 5]\n",
      "[2, 4] 2\n"
     ]
    }
   ],
   "source": [
    "# N54\n",
    "\n",
    "from random import randint\n",
    "\n",
    "n = int(input(\"n = \"))\n",
    "a = [randint(1,10) for a in range(n)]\n",
    "print(a)\n",
    "\n",
    "b = []\n",
    "for i in range(len(a)):\n",
    "    if a[i] % 2 == 0:\n",
    "        b.append(a[i])\n",
    "print(b, len(b))"
   ]
  },
  {
   "cell_type": "code",
   "execution_count": 29,
   "id": "40102a06",
   "metadata": {},
   "outputs": [
    {
     "name": "stdout",
     "output_type": "stream",
     "text": [
      "n = 9\n",
      "[8, 10, 9, 7, 1, 1, 5, 6, 4]\n",
      "[10, 7, 1, 6] 4\n"
     ]
    }
   ],
   "source": [
    "# N55\n",
    "\n",
    "from random import randint\n",
    "\n",
    "n = int(input(\"n = \"))\n",
    "a = [randint(1,10) for a in range(n)]\n",
    "print(a)\n",
    "\n",
    "b = []\n",
    "for i in range(1,len(a),2):\n",
    "    b.append(a[i])\n",
    "print(b, len(b))"
   ]
  },
  {
   "cell_type": "code",
   "execution_count": 30,
   "id": "15f6a612",
   "metadata": {},
   "outputs": [
    {
     "name": "stdout",
     "output_type": "stream",
     "text": [
      "n = 9\n",
      "[6, 7, 7, 2, 5, 10, 7, 6, 4]\n",
      "[6, 2, 7]\n"
     ]
    }
   ],
   "source": [
    "# N56\n",
    "\n",
    "from random import randint\n",
    "\n",
    "n = int(input(\"n = \"))\n",
    "a = [randint(1,10) for a in range(n)]\n",
    "print(a)\n",
    "\n",
    "b = a[::3]\n",
    "print(b)"
   ]
  },
  {
   "cell_type": "code",
   "execution_count": 31,
   "id": "031f99e7",
   "metadata": {},
   "outputs": [
    {
     "name": "stdout",
     "output_type": "stream",
     "text": [
      "n = 9\n",
      "[10, 5, 2, 3, 1, 6, 4, 10, 10]\n",
      "[10, 2, 1, 4, 10, 5, 3, 6, 10]\n"
     ]
    }
   ],
   "source": [
    "# N57\n",
    "\n",
    "from random import randint\n",
    "\n",
    "n = int(input(\"n = \"))\n",
    "a = [randint(1,10) for a in range(n)]\n",
    "print(a)\n",
    "\n",
    "b = a[::2] + a[1::2]\n",
    "print(b)"
   ]
  },
  {
   "cell_type": "code",
   "execution_count": 40,
   "id": "9f8c6a27",
   "metadata": {},
   "outputs": [
    {
     "name": "stdout",
     "output_type": "stream",
     "text": [
      "n = 5\n",
      "[3, 9, 10, 1, 5]\n",
      "[0, 3, 12, 22, 23]\n"
     ]
    }
   ],
   "source": [
    "# N58\n",
    "\n",
    "from random import randint\n",
    "\n",
    "n = int(input(\"n = \"))\n",
    "a = [randint(1,10) for a in range(n)]\n",
    "print(a)\n",
    "\n",
    "b = []\n",
    "for i in range(n):\n",
    "    b.append(sum(a[:i]))\n",
    "print(b)"
   ]
  },
  {
   "cell_type": "code",
   "execution_count": 41,
   "id": "47ff3a84",
   "metadata": {},
   "outputs": [
    {
     "name": "stdout",
     "output_type": "stream",
     "text": [
      "n = 5\n",
      "[5, 10, 10, 9, 1]\n",
      "[5.0, 7.5, 8.333333333333334, 8.5]\n"
     ]
    }
   ],
   "source": [
    "# N59\n",
    "\n",
    "from random import randint\n",
    "\n",
    "n = int(input(\"n = \"))\n",
    "a = [randint(1,10) for a in range(n)]\n",
    "print(a)\n",
    "\n",
    "b = []\n",
    "for i in range(n):\n",
    "    if i == 0:\n",
    "        continue\n",
    "    b.append(sum(a[:i]) / i)\n",
    "print(b)"
   ]
  },
  {
   "cell_type": "code",
   "execution_count": 42,
   "id": "7e47affc",
   "metadata": {},
   "outputs": [
    {
     "name": "stdout",
     "output_type": "stream",
     "text": [
      "n = 5\n",
      "[10, 3, 9, 2, 10]\n",
      "[34, 24, 21, 12, 10]\n"
     ]
    }
   ],
   "source": [
    "# N60\n",
    "\n",
    "from random import randint\n",
    "\n",
    "n = int(input(\"n = \"))\n",
    "a = [randint(1,10) for a in range(n)]\n",
    "print(a)\n",
    "\n",
    "b = []\n",
    "for i in range(n):\n",
    "    b.append(sum(a[i:]))\n",
    "print(b)"
   ]
  },
  {
   "cell_type": "code",
   "execution_count": 43,
   "id": "31a844bc",
   "metadata": {},
   "outputs": [
    {
     "name": "stdout",
     "output_type": "stream",
     "text": [
      "n = 5\n",
      "[6, 8, 2, 6, 3]\n",
      "[5.0, 4.75, 3.6666666666666665, 4.5, 3.0]\n"
     ]
    }
   ],
   "source": [
    "# N61\n",
    "\n",
    "from random import randint\n",
    "\n",
    "n = int(input(\"n = \"))\n",
    "a = [randint(1,10) for a in range(n)]\n",
    "print(a)\n",
    "\n",
    "b = []\n",
    "for i in range(n):\n",
    "    b.append(sum(a[i:]) / len(a[i:]))\n",
    "print(b)"
   ]
  },
  {
   "cell_type": "code",
   "execution_count": 46,
   "id": "993cb48d",
   "metadata": {},
   "outputs": [
    {
     "name": "stdout",
     "output_type": "stream",
     "text": [
      "n = 5\n",
      "[-4, 9, -9, -3, 5]\n",
      "massivedagi sonlar: 2 massiv: [9, 5]\n",
      "massivedagi sonlar: 3 massiv: [-4, -9, -3]\n"
     ]
    }
   ],
   "source": [
    "# N62\n",
    "\n",
    "from random import randint\n",
    "\n",
    "n = int(input(\"n = \"))\n",
    "a = [randint(-10,10) for a in range(n)]\n",
    "print(a)\n",
    "\n",
    "b = [] # musbat\n",
    "for i in range(n):\n",
    "    if a[i] > 0:\n",
    "        b.append(a[i])\n",
    "print(\"massivedagi sonlar:\", len(b), \"massiv:\", b)\n",
    "        \n",
    "c = [] # manfiy\n",
    "for i in range(n):\n",
    "    if a[i] < 0:\n",
    "        c.append(a[i])\n",
    "print(\"massivedagi sonlar:\", len(c), \"massiv:\", c)"
   ]
  },
  {
   "cell_type": "code",
   "execution_count": 67,
   "id": "d015f571",
   "metadata": {},
   "outputs": [
    {
     "name": "stdout",
     "output_type": "stream",
     "text": [
      "[1, 2, 5, 7, 11, 12, 20, 25, 32, 35, 40, 50]\n"
     ]
    }
   ],
   "source": [
    "# N63: versiya 1\n",
    "\n",
    "a = [1,7,11,20,32,50]\n",
    "b = [2,5,12,25,35,40]\n",
    "\n",
    "c = []\n",
    "i = 0; j = 0\n",
    "\n",
    "while i < len(a) and j < len(b):\n",
    "    if a[i] < b[j]:\n",
    "        c.append(a[i])\n",
    "        i += 1\n",
    "    else:\n",
    "        c.append(b[j])\n",
    "        j += 1\n",
    "        \n",
    "if a[-1] > b[-1]:\n",
    "    c.append(a[-1])\n",
    "else:\n",
    "    c.append(b[-1])\n",
    "    \n",
    "print(c)"
   ]
  },
  {
   "cell_type": "code",
   "execution_count": 9,
   "id": "1822f9ab",
   "metadata": {},
   "outputs": [
    {
     "name": "stdout",
     "output_type": "stream",
     "text": [
      "[1, 2, 5, 7, 11, 12, 20, 25, 32, 35, 40]\n"
     ]
    }
   ],
   "source": [
    "# N63: versiya 2\n",
    "\n",
    "a = [1,7,11,20,32,50]\n",
    "b = [2,5,12,25,35,40]\n",
    "\n",
    "c = []\n",
    "i = 0; j = 0\n",
    "\n",
    "while len(a) and len(b):\n",
    "    if a[0] < b[0]:\n",
    "        c.append(a.pop(0))\n",
    "    elif b[0] < a[0]:\n",
    "        c.append(b.pop(0))\n",
    "print(c)"
   ]
  },
  {
   "cell_type": "code",
   "execution_count": 27,
   "id": "0c79cc5a",
   "metadata": {},
   "outputs": [
    {
     "name": "stdout",
     "output_type": "stream",
     "text": [
      "[1, 2, 3, 4, 5, 7, 11, 12, 13, 20, 22, 25, 30, 32, 35, 40]\n"
     ]
    }
   ],
   "source": [
    "# N64\n",
    "\n",
    "a = [1,7,11,20,32,50]\n",
    "b = [2,5,12,25,35,40]\n",
    "c = [3,4,13,22,30,45]\n",
    "\n",
    "d = []\n",
    "\n",
    "while len(a) and len(b) and len(c):\n",
    "    if a[0] < b[0] and a[0] < c[0]:\n",
    "        d.append(a.pop(0))\n",
    "    elif b[0] < a[0] and b[0] < c[0]:\n",
    "        d.append(b.pop(0))\n",
    "    else: # c[0] < a[0] and c[0] < b[0]:\n",
    "        d.append(c.pop(0))\n",
    "print(d)"
   ]
  },
  {
   "cell_type": "code",
   "execution_count": 10,
   "id": "93218d47",
   "metadata": {},
   "outputs": [
    {
     "name": "stdout",
     "output_type": "stream",
     "text": [
      "n = 5\n",
      "k = 2\n",
      "[10, 3, 3, 1, 10]\n",
      "[20, 6, 6, 2, 20]\n"
     ]
    }
   ],
   "source": [
    "# N65\n",
    "\n",
    "from random import randint\n",
    "\n",
    "n = int(input(\"n = \"))\n",
    "k = int(input(\"k = \"))\n",
    "a = [randint(1,10) for a in range(n)]\n",
    "print(a)\n",
    "\n",
    "for i in range(len(a)):\n",
    "    a[i] = a[i] * k\n",
    "print(a)"
   ]
  },
  {
   "cell_type": "code",
   "execution_count": 11,
   "id": "96acfb43",
   "metadata": {},
   "outputs": [
    {
     "name": "stdout",
     "output_type": "stream",
     "text": [
      "n = 5\n",
      "[10, 6, 7, 2, 4]\n",
      "[100, 60, 7, 20, 40]\n"
     ]
    }
   ],
   "source": [
    "# N66\n",
    "\n",
    "from random import randint\n",
    "\n",
    "n = int(input(\"n = \"))\n",
    "a = [randint(1,10) for a in range(n)]\n",
    "print(a)\n",
    "\n",
    "juft = 1\n",
    "\n",
    "for i in range(len(a)):\n",
    "    if a[i] % 2 == 0:\n",
    "        juft = a[i]\n",
    "        break\n",
    "        \n",
    "if juft == 1:\n",
    "    print(a)\n",
    "else:\n",
    "    for i in range(len(a)):\n",
    "        if a[i] % 2 == 0:\n",
    "            a[i] = a[i] * juft\n",
    "    print(a)"
   ]
  },
  {
   "cell_type": "code",
   "execution_count": 14,
   "id": "7aaf644c",
   "metadata": {},
   "outputs": [
    {
     "name": "stdout",
     "output_type": "stream",
     "text": [
      "n = 5\n",
      "[3, 9, 8, 10, 9]\n",
      "[9, 27, 8, 10, 27]\n"
     ]
    }
   ],
   "source": [
    "# N67\n",
    "\n",
    "from random import randint\n",
    "\n",
    "n = int(input(\"n = \"))\n",
    "a = [randint(1,10) for a in range(n)]\n",
    "print(a)\n",
    "\n",
    "toq = 1\n",
    "\n",
    "for i in range(len(a)):\n",
    "    if a[i] % 2 == 1:\n",
    "        toq = a[i]\n",
    "        break\n",
    "        \n",
    "if toq == 1:\n",
    "    print(a)\n",
    "else:\n",
    "    for i in range(len(a)):\n",
    "        if a[i] % 2 == 1:\n",
    "            a[i] = a[i] * toq\n",
    "    print(a)"
   ]
  },
  {
   "cell_type": "code",
   "execution_count": 23,
   "id": "03909364",
   "metadata": {},
   "outputs": [
    {
     "name": "stdout",
     "output_type": "stream",
     "text": [
      "n = 5\n",
      "[8, 3, 5, 3, 1]\n",
      "[1, 3, 5, 3, 8]\n"
     ]
    }
   ],
   "source": [
    "# N68\n",
    "\n",
    "from random import randint\n",
    "\n",
    "n = int(input(\"n = \"))\n",
    "a = [randint(1,10) for a in range(n)]\n",
    "print(a)\n",
    "\n",
    "kich = min(a)\n",
    "kat = max(a)\n",
    "\n",
    "a[a.index(kich)], a[a.index(kat)] = kat, kich\n",
    "print(a)"
   ]
  },
  {
   "cell_type": "code",
   "execution_count": 25,
   "id": "27352bbb",
   "metadata": {},
   "outputs": [
    {
     "name": "stdout",
     "output_type": "stream",
     "text": [
      "n (juft) = 8\n",
      "[4, 7, 2, 9, 5, 9, 1, 1]\n",
      "[7, 4, 9, 2, 9, 5, 1, 1]\n"
     ]
    }
   ],
   "source": [
    "# N69\n",
    "\n",
    "from random import randint\n",
    "\n",
    "n = int(input(\"n (juft) = \"))\n",
    "a = [randint(1,10) for a in range(n)]\n",
    "print(a)\n",
    "\n",
    "for i in range(0,len(a)-1,2):\n",
    "    a[i], a[i+1] = a[i+1], a[i]\n",
    "\n",
    "print(a)"
   ]
  },
  {
   "cell_type": "code",
   "execution_count": 26,
   "id": "7f5b100e",
   "metadata": {},
   "outputs": [
    {
     "name": "stdout",
     "output_type": "stream",
     "text": [
      "n (juft) = 6\n",
      "[10, 3, 1, 1, 8, 7]\n",
      "[1, 8, 7, 10, 3, 1]\n"
     ]
    }
   ],
   "source": [
    "# N70\n",
    "\n",
    "from random import randint\n",
    "\n",
    "n = int(input(\"n (juft) = \"))\n",
    "a = [randint(1,10) for a in range(n)]\n",
    "print(a)\n",
    "\n",
    "a[:len(a)//2], a[len(a)//2:] = a[len(a)//2:], a[:len(a)//2]\n",
    "print(a)"
   ]
  }
 ],
 "metadata": {
  "kernelspec": {
   "display_name": "Python 3 (ipykernel)",
   "language": "python",
   "name": "python3"
  },
  "language_info": {
   "codemirror_mode": {
    "name": "ipython",
    "version": 3
   },
   "file_extension": ".py",
   "mimetype": "text/x-python",
   "name": "python",
   "nbconvert_exporter": "python",
   "pygments_lexer": "ipython3",
   "version": "3.9.7"
  }
 },
 "nbformat": 4,
 "nbformat_minor": 5
}
