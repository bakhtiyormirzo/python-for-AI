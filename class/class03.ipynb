{
 "cells": [
  {
   "cell_type": "markdown",
   "id": "192be3c2",
   "metadata": {},
   "source": [
    "# Homework review"
   ]
  },
  {
   "cell_type": "code",
   "execution_count": 4,
   "id": "b9ed7e84",
   "metadata": {},
   "outputs": [
    {
     "name": "stdout",
     "output_type": "stream",
     "text": [
      "x = 2\n",
      "y = 2\n",
      "z = 2\n",
      "1.4142135623730951\n"
     ]
    }
   ],
   "source": [
    "x = int(input(\"x = \"))\n",
    "y = int(input(\"y = \"))\n",
    "z = int(input(\"z = \"))\n",
    "\n",
    "natija = ((x**2) - (y**2) + (z**2)) ** (1/4)\n",
    "print(natija)"
   ]
  },
  {
   "cell_type": "code",
   "execution_count": 7,
   "id": "77804750",
   "metadata": {},
   "outputs": [
    {
     "name": "stdout",
     "output_type": "stream",
     "text": [
      "a = 3\n",
      "b = 3\n",
      "c = 3\n",
      "1.0 0.0\n"
     ]
    }
   ],
   "source": [
    "# a,b tomonli tortburchak ichiga sig'adigon c kvadratlar soni\n",
    "\n",
    "a = float(input(\"a = \"))\n",
    "b = float(input(\"b = \"))\n",
    "c = float(input(\"c = \"))\n",
    "\n",
    "butun1 = a // c\n",
    "butun2 = b // c\n",
    "butun = butun1 * butun2\n",
    "qoldiq = a * b - (butun * (c**2))\n",
    "\n",
    "print(butun, qoldiq)"
   ]
  },
  {
   "cell_type": "code",
   "execution_count": 8,
   "id": "6b263535",
   "metadata": {},
   "outputs": [
    {
     "name": "stdout",
     "output_type": "stream",
     "text": [
      "a = 4\n",
      "b = 4\n",
      "c = 4\n",
      "z = 4\n",
      "1 -48\n"
     ]
    }
   ],
   "source": [
    "# a,b,c tomonli kubni ichiga sig'adigon d kublar soni\n",
    "\n",
    "a = int(input(\"a = \"))\n",
    "b = int(input(\"b = \"))\n",
    "c = int(input(\"c = \"))\n",
    "\n",
    "d = int(input(\"z = \"))\n",
    "\n",
    "b1 = a // d\n",
    "b2 = b // d\n",
    "b3 = c // d\n",
    "b = b1 * b2 * b3\n",
    "\n",
    "qoldiq = a*b*c - (b * (d**3))\n",
    "\n",
    "print(b, qoldiq)"
   ]
  },
  {
   "cell_type": "markdown",
   "id": "040357bf",
   "metadata": {},
   "source": [
    "# Boolean"
   ]
  },
  {
   "cell_type": "code",
   "execution_count": 10,
   "id": "42c537a4",
   "metadata": {},
   "outputs": [
    {
     "name": "stdout",
     "output_type": "stream",
     "text": [
      "a = 2\n",
      "False\n"
     ]
    }
   ],
   "source": [
    "a = int(input(\"a = \"))\n",
    "print(a%2!=0)"
   ]
  },
  {
   "cell_type": "code",
   "execution_count": 12,
   "id": "d4bedaf6",
   "metadata": {},
   "outputs": [
    {
     "name": "stdout",
     "output_type": "stream",
     "text": [
      "a = 0\n",
      "False\n"
     ]
    }
   ],
   "source": [
    "a = int(input(\"a = \"))\n",
    "print(a<0)"
   ]
  },
  {
   "cell_type": "code",
   "execution_count": 13,
   "id": "3cfe6018",
   "metadata": {},
   "outputs": [
    {
     "name": "stdout",
     "output_type": "stream",
     "text": [
      "a = 2\n",
      "b = -1\n",
      "True\n"
     ]
    }
   ],
   "source": [
    "a = int(input(\"a = \"))\n",
    "b = int(input(\"b = \"))\n",
    "\n",
    "print(a>0 or b>0)"
   ]
  },
  {
   "cell_type": "code",
   "execution_count": 15,
   "id": "33795243",
   "metadata": {},
   "outputs": [
    {
     "name": "stdout",
     "output_type": "stream",
     "text": [
      "a = 2\n",
      "b = 3\n",
      "True\n"
     ]
    }
   ],
   "source": [
    "a = int(input(\"a = \"))\n",
    "b = int(input(\"b = \"))\n",
    "\n",
    "print((a%2==0 and b%2!=0) or (b%2==0 and a%2!=0))"
   ]
  },
  {
   "cell_type": "code",
   "execution_count": null,
   "id": "8abd4313",
   "metadata": {},
   "outputs": [],
   "source": []
  }
 ],
 "metadata": {
  "kernelspec": {
   "display_name": "Python 3 (ipykernel)",
   "language": "python",
   "name": "python3"
  },
  "language_info": {
   "codemirror_mode": {
    "name": "ipython",
    "version": 3
   },
   "file_extension": ".py",
   "mimetype": "text/x-python",
   "name": "python",
   "nbconvert_exporter": "python",
   "pygments_lexer": "ipython3",
   "version": "3.9.7"
  }
 },
 "nbformat": 4,
 "nbformat_minor": 5
}
