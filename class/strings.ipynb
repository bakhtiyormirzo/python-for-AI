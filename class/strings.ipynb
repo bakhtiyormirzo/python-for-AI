{
 "cells": [
  {
   "cell_type": "markdown",
   "id": "649cb614",
   "metadata": {},
   "source": [
    "# Satrlar - STRING"
   ]
  },
  {
   "cell_type": "code",
   "execution_count": null,
   "id": "f567d6fa",
   "metadata": {},
   "outputs": [],
   "source": [
    "int    - Oddiy sonlar, butun sonlar\n",
    "float  - Oddiy sonlar, haqiqiy sonlar\n",
    "bool   - Mantiqiy ifoda\n",
    "list   - Bu elementlar to`plami  []\n",
    "set    - Elementlar to`plami     {}\n",
    "tuple  - Elementlar to`plami     ()\n",
    "dict   - Keyga ega elementlar to`plami   {}"
   ]
  },
  {
   "cell_type": "code",
   "execution_count": null,
   "id": "6bd27df2",
   "metadata": {},
   "outputs": [],
   "source": [
    "str    - Belgilar to`plami - \"\", ''\n",
    "chr    - Bitta belgi bilan ishlovchi klass"
   ]
  },
  {
   "cell_type": "markdown",
   "id": "76248486",
   "metadata": {},
   "source": [
    "# Belgi nima?"
   ]
  },
  {
   "cell_type": "code",
   "execution_count": 1,
   "id": "da17633f",
   "metadata": {},
   "outputs": [
    {
     "data": {
      "text/plain": [
       "'\\\\'"
      ]
     },
     "execution_count": 1,
     "metadata": {},
     "output_type": "execute_result"
    }
   ],
   "source": [
    "chr(92)"
   ]
  },
  {
   "cell_type": "code",
   "execution_count": 2,
   "id": "e2c62fe4",
   "metadata": {},
   "outputs": [
    {
     "data": {
      "text/plain": [
       "92"
      ]
     },
     "execution_count": 2,
     "metadata": {},
     "output_type": "execute_result"
    }
   ],
   "source": [
    "ord(\"\\\\\")"
   ]
  },
  {
   "cell_type": "code",
   "execution_count": 3,
   "id": "c01b06af",
   "metadata": {},
   "outputs": [
    {
     "name": "stdout",
     "output_type": "stream",
     "text": [
      "\u0000 \u0001 \u0002 \u0003 \u0004 \u0005 \u0006 \u0007 \b \t \n",
      " \u000b",
      " \f",
      " \r",
      " \u000e \u000f \u0010 \u0011 \u0012 \u0013 \u0014 \u0015 \u0016 \u0017 \u0018 \u0019 \u001a \u001b \u001c",
      " \u001d",
      " \u001e",
      " \u001f   ! \" # $ % & ' ( ) * + , - . / 0 1 2 3 4 5 6 7 8 9 : ; < = > ? @ A B C D E F G H I J K L M N O P Q R S T U V W X Y Z [ \\ ] ^ _ ` a b c d e f g h i j k l m n o p q r s t u v w x y z { | } ~       ",
      "                             ¡ ¢ £ ¤ ¥ ¦ § ¨ © ª « ¬ ­ ® ¯ ° ± ² ³ ´ µ ¶ · ¸ ¹ º » ¼ ½ ¾ ¿ À Á Â Ã Ä Å Æ Ç È É Ê Ë Ì Í Î Ï Ð Ñ Ò Ó Ô Õ Ö × Ø Ù Ú Û Ü Ý Þ ß à á â ã ä å æ ç è é ê ë ì í î ï ð ñ ò ó ô õ ö ÷ ø ù ú û ü ý þ "
     ]
    }
   ],
   "source": [
    "for i in range(255):\n",
    "    print(chr(i),end=\" \")"
   ]
  },
  {
   "cell_type": "markdown",
   "id": "b4313b38",
   "metadata": {},
   "source": [
    "# Unicode"
   ]
  },
  {
   "cell_type": "code",
   "execution_count": 4,
   "id": "0554ae87",
   "metadata": {},
   "outputs": [
    {
     "name": "stdout",
     "output_type": "stream",
     "text": [
      "⚠\n"
     ]
    }
   ],
   "source": [
    "print(\"\\u26A0\")"
   ]
  },
  {
   "cell_type": "markdown",
   "id": "92eb875a",
   "metadata": {},
   "source": [
    "# String"
   ]
  },
  {
   "cell_type": "code",
   "execution_count": 5,
   "id": "756f408a",
   "metadata": {},
   "outputs": [
    {
     "data": {
      "text/plain": [
       "['__add__',\n",
       " '__class__',\n",
       " '__contains__',\n",
       " '__delattr__',\n",
       " '__dir__',\n",
       " '__doc__',\n",
       " '__eq__',\n",
       " '__format__',\n",
       " '__ge__',\n",
       " '__getattribute__',\n",
       " '__getitem__',\n",
       " '__getnewargs__',\n",
       " '__gt__',\n",
       " '__hash__',\n",
       " '__init__',\n",
       " '__init_subclass__',\n",
       " '__iter__',\n",
       " '__le__',\n",
       " '__len__',\n",
       " '__lt__',\n",
       " '__mod__',\n",
       " '__mul__',\n",
       " '__ne__',\n",
       " '__new__',\n",
       " '__reduce__',\n",
       " '__reduce_ex__',\n",
       " '__repr__',\n",
       " '__rmod__',\n",
       " '__rmul__',\n",
       " '__setattr__',\n",
       " '__sizeof__',\n",
       " '__str__',\n",
       " '__subclasshook__',\n",
       " 'capitalize',\n",
       " 'casefold',\n",
       " 'center',\n",
       " 'count',\n",
       " 'encode',\n",
       " 'endswith',\n",
       " 'expandtabs',\n",
       " 'find',\n",
       " 'format',\n",
       " 'format_map',\n",
       " 'index',\n",
       " 'isalnum',\n",
       " 'isalpha',\n",
       " 'isascii',\n",
       " 'isdecimal',\n",
       " 'isdigit',\n",
       " 'isidentifier',\n",
       " 'islower',\n",
       " 'isnumeric',\n",
       " 'isprintable',\n",
       " 'isspace',\n",
       " 'istitle',\n",
       " 'isupper',\n",
       " 'join',\n",
       " 'ljust',\n",
       " 'lower',\n",
       " 'lstrip',\n",
       " 'maketrans',\n",
       " 'partition',\n",
       " 'removeprefix',\n",
       " 'removesuffix',\n",
       " 'replace',\n",
       " 'rfind',\n",
       " 'rindex',\n",
       " 'rjust',\n",
       " 'rpartition',\n",
       " 'rsplit',\n",
       " 'rstrip',\n",
       " 'split',\n",
       " 'splitlines',\n",
       " 'startswith',\n",
       " 'strip',\n",
       " 'swapcase',\n",
       " 'title',\n",
       " 'translate',\n",
       " 'upper',\n",
       " 'zfill']"
      ]
     },
     "execution_count": 5,
     "metadata": {},
     "output_type": "execute_result"
    }
   ],
   "source": [
    "dir(str)"
   ]
  },
  {
   "cell_type": "code",
   "execution_count": 6,
   "id": "097399bc",
   "metadata": {},
   "outputs": [
    {
     "data": {
      "text/plain": [
       "'Salom'"
      ]
     },
     "execution_count": 6,
     "metadata": {},
     "output_type": "execute_result"
    }
   ],
   "source": [
    "string_1 = 'Salom'\n",
    "string_1"
   ]
  },
  {
   "cell_type": "code",
   "execution_count": 7,
   "id": "1d2075bd",
   "metadata": {},
   "outputs": [
    {
     "data": {
      "text/plain": [
       "'Salom'"
      ]
     },
     "execution_count": 7,
     "metadata": {},
     "output_type": "execute_result"
    }
   ],
   "source": [
    "string_2 = \"Salom\"\n",
    "string_2"
   ]
  },
  {
   "cell_type": "code",
   "execution_count": 8,
   "id": "a33a4fdd",
   "metadata": {},
   "outputs": [
    {
     "name": "stdout",
     "output_type": "stream",
     "text": [
      "Kirit = erta\n"
     ]
    },
    {
     "data": {
      "text/plain": [
       "'erta'"
      ]
     },
     "execution_count": 8,
     "metadata": {},
     "output_type": "execute_result"
    }
   ],
   "source": [
    "string_3 = input(\"Kirit = \")\n",
    "string_3"
   ]
  },
  {
   "cell_type": "code",
   "execution_count": 9,
   "id": "07d00181",
   "metadata": {},
   "outputs": [
    {
     "name": "stdout",
     "output_type": "stream",
     "text": [
      "\n",
      "Uzbekistan (UK: /ʊzˌbɛkɪˈstɑːn, ʌz-, -ˈstæn/, US: /ʊzˈbɛkɪstæn, -stɑːn/;[13][14] Uzbek: \n",
      "Oʻzbekiston, pronounced [ozbekiˈstɒn]), officially the Republic of Uzbekistan \n",
      "(Uzbek: Oʻzbekiston Respublikasi), is a doubly landlocked country in Central Asia. \n",
      "It is surrounded by five landlocked countries: Kazakhstan to the north; Kyrgyzstan \n",
      "to the northeast; Tajikistan to the southeast; Afghanistan to the south; and Turkmenistan \n",
      "to the south-west. Its capital and largest city is Tashkent. Uzbekistan is part of the \n",
      "Turkic languages world, as well as a member of the Organization of Turkic States. \n",
      "Uzbek language is the majority-spoken language in Uzbekistan. Islam is the predominant \n",
      "religion in Uzbekistan, most Uzbeks being Sunni Muslims.[15]\n",
      "\n",
      "The first recorded settlers in what is now Uzbekistan were Eastern Iranian nomads, \n",
      "known as Scythians, who founded kingdoms in Khwarazm (8th–6th centuries BC), Bactria \n",
      "(8th–6th centuries BC), Sogdia (8th–6th centuries BC), Fergana (3rd century BC – sixth century AD), \n",
      "and Margiana (3rd century BC – sixth century AD).[16] The area was incorporated into \n",
      "the Iranian Achaemenid Empire and, after a period of Macedonian rule, was ruled by the \n",
      "Iranian Parthian Empire and later by the Sasanian Empire, until the Muslim conquest \n",
      "of Persia in the seventh century. The Early Muslim conquests and the subsequent \n",
      "Samanid Empire converted most of the people, including the local ruling classes, \n",
      "into adherents of Islam. During this period, cities such as Samarkand, Khiva, and \n",
      "Bukhara began to grow rich from the Silk Road, and witnessed the emergence of \n",
      "leading figures of the Islamic Golden Age, including Muhammad al-Bukhari, Al-Tirmidhi, \n",
      "al Khwarizmi, al-Biruni, Avicenna and Omar Khayyam. The local Khwarazmian dynasty and \n",
      "Central Asia as a whole were decimated by the Mongol invasion in the 13th century, \n",
      "after which the region became dominated by Turkic peoples. The city of Shahrisabz was\n",
      "the birthplace of the Turco-Mongol conqueror Timur (Tamerlane), who in the 14th \n",
      "century established the Timurid Empire and was proclaimed the Supreme Emir of Turan \n",
      "with his capital in Samarkand, which became a centre of science under the rule of \n",
      "Ulugh Beg, giving birth to the Timurid Renaissance. The territories of the Timurid \n",
      "dynasty were conquered by Uzbek Shaybanids in the 16th century, moving the centre of \n",
      "power to Bukhara. The region was split into three states: the Khanate of Khiva, Khanate \n",
      "of Kokand and Emirate of Bukhara. Conquests by Emperor Babur towards the east led to \n",
      "the foundation of India's newest invasions as Mughal Empire. All of Central Asia was \n",
      "gradually incorporated into the Russian Empire during the 19th century, with Tashkent \n",
      "becoming the political center of Russian Turkestan. In 1924, national delimitation created \n",
      "the Uzbek Soviet Socialist Republic as an independent republic within the Soviet Union. \n",
      "Following the dissolution of the Soviet Union, it declared independence as the Republic of \n",
      "Uzbekistan on 31 August 1991.\n",
      "\n"
     ]
    }
   ],
   "source": [
    "a = \"\"\"\n",
    "Uzbekistan (UK: /ʊzˌbɛkɪˈstɑːn, ʌz-, -ˈstæn/, US: /ʊzˈbɛkɪstæn, -stɑːn/;[13][14] Uzbek: \n",
    "Oʻzbekiston, pronounced [ozbekiˈstɒn]), officially the Republic of Uzbekistan \n",
    "(Uzbek: Oʻzbekiston Respublikasi), is a doubly landlocked country in Central Asia. \n",
    "It is surrounded by five landlocked countries: Kazakhstan to the north; Kyrgyzstan \n",
    "to the northeast; Tajikistan to the southeast; Afghanistan to the south; and Turkmenistan \n",
    "to the south-west. Its capital and largest city is Tashkent. Uzbekistan is part of the \n",
    "Turkic languages world, as well as a member of the Organization of Turkic States. \n",
    "Uzbek language is the majority-spoken language in Uzbekistan. Islam is the predominant \n",
    "religion in Uzbekistan, most Uzbeks being Sunni Muslims.[15]\n",
    "\n",
    "The first recorded settlers in what is now Uzbekistan were Eastern Iranian nomads, \n",
    "known as Scythians, who founded kingdoms in Khwarazm (8th–6th centuries BC), Bactria \n",
    "(8th–6th centuries BC), Sogdia (8th–6th centuries BC), Fergana (3rd century BC – sixth century AD), \n",
    "and Margiana (3rd century BC – sixth century AD).[16] The area was incorporated into \n",
    "the Iranian Achaemenid Empire and, after a period of Macedonian rule, was ruled by the \n",
    "Iranian Parthian Empire and later by the Sasanian Empire, until the Muslim conquest \n",
    "of Persia in the seventh century. The Early Muslim conquests and the subsequent \n",
    "Samanid Empire converted most of the people, including the local ruling classes, \n",
    "into adherents of Islam. During this period, cities such as Samarkand, Khiva, and \n",
    "Bukhara began to grow rich from the Silk Road, and witnessed the emergence of \n",
    "leading figures of the Islamic Golden Age, including Muhammad al-Bukhari, Al-Tirmidhi, \n",
    "al Khwarizmi, al-Biruni, Avicenna and Omar Khayyam. The local Khwarazmian dynasty and \n",
    "Central Asia as a whole were decimated by the Mongol invasion in the 13th century, \n",
    "after which the region became dominated by Turkic peoples. The city of Shahrisabz was\n",
    "the birthplace of the Turco-Mongol conqueror Timur (Tamerlane), who in the 14th \n",
    "century established the Timurid Empire and was proclaimed the Supreme Emir of Turan \n",
    "with his capital in Samarkand, which became a centre of science under the rule of \n",
    "Ulugh Beg, giving birth to the Timurid Renaissance. The territories of the Timurid \n",
    "dynasty were conquered by Uzbek Shaybanids in the 16th century, moving the centre of \n",
    "power to Bukhara. The region was split into three states: the Khanate of Khiva, Khanate \n",
    "of Kokand and Emirate of Bukhara. Conquests by Emperor Babur towards the east led to \n",
    "the foundation of India's newest invasions as Mughal Empire. All of Central Asia was \n",
    "gradually incorporated into the Russian Empire during the 19th century, with Tashkent \n",
    "becoming the political center of Russian Turkestan. In 1924, national delimitation created \n",
    "the Uzbek Soviet Socialist Republic as an independent republic within the Soviet Union. \n",
    "Following the dissolution of the Soviet Union, it declared independence as the Republic of \n",
    "Uzbekistan on 31 August 1991.\n",
    "\"\"\"\n",
    "print(a)"
   ]
  },
  {
   "cell_type": "code",
   "execution_count": 10,
   "id": "b9ffa07c",
   "metadata": {},
   "outputs": [
    {
     "name": "stdout",
     "output_type": "stream",
     "text": [
      "Uzbekistan (UK: /ʊzˌbɛkɪˈstɑːn, ʌz-, -ˈstæn/, US: /ʊzˈbɛkɪstæn, -stɑːn/;[13][14] Uzbek:\n",
      " Oʻzbekiston, pronounced [ozbekiˈstɒn]), officially the Republic of Uzbekistan \n"
     ]
    }
   ],
   "source": [
    "string_4 = \"Uzbekistan (UK: /ʊzˌbɛkɪˈstɑːn, ʌz-, -ˈstæn/, US: /ʊzˈbɛkɪstæn, -stɑːn/;[13][14] Uzbek:\\n Oʻzbekiston, pronounced [ozbekiˈstɒn]), officially the Republic of Uzbekistan \"\n",
    "print(string_4)"
   ]
  },
  {
   "cell_type": "markdown",
   "id": "da1d0f31",
   "metadata": {},
   "source": [
    "# Yana belgilar"
   ]
  },
  {
   "cell_type": "code",
   "execution_count": 11,
   "id": "da71a04a",
   "metadata": {},
   "outputs": [
    {
     "name": "stdout",
     "output_type": "stream",
     "text": [
      "a\n",
      "b\n"
     ]
    }
   ],
   "source": [
    "print(\"a\\nb\")"
   ]
  },
  {
   "cell_type": "code",
   "execution_count": 12,
   "id": "19855e86",
   "metadata": {},
   "outputs": [
    {
     "name": "stdout",
     "output_type": "stream",
     "text": [
      "a\tb\n"
     ]
    }
   ],
   "source": [
    "print(\"a\\tb\")"
   ]
  },
  {
   "cell_type": "markdown",
   "id": "ef253c07",
   "metadata": {},
   "source": [
    "# Indeksatsiya"
   ]
  },
  {
   "cell_type": "code",
   "execution_count": 13,
   "id": "e9782cfa",
   "metadata": {},
   "outputs": [
    {
     "data": {
      "text/plain": [
       "'S'"
      ]
     },
     "execution_count": 13,
     "metadata": {},
     "output_type": "execute_result"
    }
   ],
   "source": [
    "string_1[0]"
   ]
  },
  {
   "cell_type": "code",
   "execution_count": 14,
   "id": "bdf16863",
   "metadata": {},
   "outputs": [
    {
     "data": {
      "text/plain": [
       "'Salom'"
      ]
     },
     "execution_count": 14,
     "metadata": {},
     "output_type": "execute_result"
    }
   ],
   "source": [
    "string_1[0:]"
   ]
  },
  {
   "cell_type": "code",
   "execution_count": 15,
   "id": "c9e81dee",
   "metadata": {},
   "outputs": [
    {
     "data": {
      "text/plain": [
       "'Slm'"
      ]
     },
     "execution_count": 15,
     "metadata": {},
     "output_type": "execute_result"
    }
   ],
   "source": [
    "string_1[0:5:2]"
   ]
  },
  {
   "cell_type": "markdown",
   "id": "3fc7c82a",
   "metadata": {},
   "source": [
    "# String xususiyatlari\n",
    "* O'zgartirib bo'lmaydi"
   ]
  },
  {
   "cell_type": "code",
   "execution_count": 16,
   "id": "c113be98",
   "metadata": {},
   "outputs": [
    {
     "data": {
      "text/plain": [
       "'Salom'"
      ]
     },
     "execution_count": 16,
     "metadata": {},
     "output_type": "execute_result"
    }
   ],
   "source": [
    "string_1"
   ]
  },
  {
   "cell_type": "code",
   "execution_count": 17,
   "id": "6005caec",
   "metadata": {},
   "outputs": [
    {
     "ename": "TypeError",
     "evalue": "'str' object does not support item assignment",
     "output_type": "error",
     "traceback": [
      "\u001b[0;31m---------------------------------------------------------------------------\u001b[0m",
      "\u001b[0;31mTypeError\u001b[0m                                 Traceback (most recent call last)",
      "Input \u001b[0;32mIn [17]\u001b[0m, in \u001b[0;36m<cell line: 2>\u001b[0;34m()\u001b[0m\n\u001b[1;32m      1\u001b[0m \u001b[38;5;66;03m# Atayin yozilgan\u001b[39;00m\n\u001b[0;32m----> 2\u001b[0m string_1[\u001b[38;5;241m0\u001b[39m] \u001b[38;5;241m=\u001b[39m \u001b[38;5;124m\"\u001b[39m\u001b[38;5;124mHello\u001b[39m\u001b[38;5;124m\"\u001b[39m\n",
      "\u001b[0;31mTypeError\u001b[0m: 'str' object does not support item assignment"
     ]
    }
   ],
   "source": [
    "# Atayin yozilgan\n",
    "string_1[0] = \"Hello\""
   ]
  },
  {
   "cell_type": "code",
   "execution_count": 18,
   "id": "a55eea30",
   "metadata": {},
   "outputs": [
    {
     "ename": "AttributeError",
     "evalue": "'str' object has no attribute 'remove'",
     "output_type": "error",
     "traceback": [
      "\u001b[0;31m---------------------------------------------------------------------------\u001b[0m",
      "\u001b[0;31mAttributeError\u001b[0m                            Traceback (most recent call last)",
      "Input \u001b[0;32mIn [18]\u001b[0m, in \u001b[0;36m<cell line: 2>\u001b[0;34m()\u001b[0m\n\u001b[1;32m      1\u001b[0m \u001b[38;5;66;03m# Atayin yozilgan\u001b[39;00m\n\u001b[0;32m----> 2\u001b[0m \u001b[43mstring_1\u001b[49m\u001b[38;5;241;43m.\u001b[39;49m\u001b[43mremove\u001b[49m(\u001b[38;5;124m\"\u001b[39m\u001b[38;5;124mS\u001b[39m\u001b[38;5;124m\"\u001b[39m)\n",
      "\u001b[0;31mAttributeError\u001b[0m: 'str' object has no attribute 'remove'"
     ]
    }
   ],
   "source": [
    "# Atayin yozilgan\n",
    "string_1.remove(\"S\")"
   ]
  },
  {
   "cell_type": "markdown",
   "id": "1d066daa",
   "metadata": {},
   "source": [
    "# String methods"
   ]
  },
  {
   "cell_type": "code",
   "execution_count": 19,
   "id": "49a23700",
   "metadata": {},
   "outputs": [],
   "source": [
    "string_5 = \"\"\"\n",
    "Uzbekistan (UK: /ʊzˌbɛkɪˈstɑːn, ʌz-, -ˈstæn/, US: /ʊzˈbɛkɪstæn, -stɑːn/;[13][14] Uzbek: \n",
    "Oʻzbekiston, pronounced [ozbekiˈstɒn]), officially the Republic of Uzbekistan \n",
    "(Uzbek: Oʻzbekiston Respublikasi), is a doubly landlocked country in Central Asia. \n",
    "It is surrounded by five landlocked countries: Kazakhstan to the north; Kyrgyzstan \n",
    "to the northeast; Tajikistan to the southeast; Afghanistan to the south; and Turkmenistan \n",
    "to the south-west. Its capital and largest city is Tashkent. Uzbekistan is part of the \n",
    "Turkic languages world, as well as a member of the Organization of Turkic States. \n",
    "Uzbek language is the majority-spoken language in Uzbekistan. Islam is the predominant \n",
    "religion in Uzbekistan, most Uzbeks being Sunni Muslims.[15]\n",
    "\n",
    "The first recorded settlers in what is now Uzbekistan were Eastern Iranian nomads, \n",
    "known as Scythians, who founded kingdoms in Khwarazm (8th–6th centuries BC), Bactria \n",
    "(8th–6th centuries BC), Sogdia (8th–6th centuries BC), Fergana (3rd century BC – sixth century AD), \n",
    "and Margiana (3rd century BC – sixth century AD).[16] The area was incorporated into \n",
    "the Iranian Achaemenid Empire and, after a period of Macedonian rule, was ruled by the \n",
    "Iranian Parthian Empire and later by the Sasanian Empire, until the Muslim conquest \n",
    "of Persia in the seventh century. The Early Muslim conquests and the subsequent \n",
    "Samanid Empire converted most of the people, including the local ruling classes, \n",
    "into adherents of Islam. During this period, cities such as Samarkand, Khiva, and \n",
    "Bukhara began to grow rich from the Silk Road, and witnessed the emergence of \n",
    "leading figures of the Islamic Golden Age, including Muhammad al-Bukhari, Al-Tirmidhi, \n",
    "al Khwarizmi, al-Biruni, Avicenna and Omar Khayyam. The local Khwarazmian dynasty and \n",
    "Central Asia as a whole were decimated by the Mongol invasion in the 13th century, \n",
    "after which the region became dominated by Turkic peoples. The city of Shahrisabz was\n",
    "the birthplace of the Turco-Mongol conqueror Timur (Tamerlane), who in the 14th \n",
    "century established the Timurid Empire and was proclaimed the Supreme Emir of Turan \n",
    "with his capital in Samarkand, which became a centre of science under the rule of \n",
    "Ulugh Beg, giving birth to the Timurid Renaissance. The territories of the Timurid \n",
    "dynasty were conquered by Uzbek Shaybanids in the 16th century, moving the centre of \n",
    "power to Bukhara. The region was split into three states: the Khanate of Khiva, Khanate \n",
    "of Kokand and Emirate of Bukhara. Conquests by Emperor Babur towards the east led to \n",
    "the foundation of India's newest invasions as Mughal Empire. All of Central Asia was \n",
    "gradually incorporated into the Russian Empire during the 19th century, with Tashkent \n",
    "becoming the political center of Russian Turkestan. In 1924, national delimitation created \n",
    "the Uzbek Soviet Socialist Republic as an independent republic within the Soviet Union. \n",
    "Following the dissolution of the Soviet Union, it declared independence as the Republic of \n",
    "Uzbekistan on 31 August 1991.\n",
    "\"\"\""
   ]
  },
  {
   "cell_type": "code",
   "execution_count": 20,
   "id": "fe919762",
   "metadata": {},
   "outputs": [
    {
     "name": "stdout",
     "output_type": "stream",
     "text": [
      "\n",
      "Uzbekistan (UK: /ʊzˌbɛkɪˈstɑːn, ʌz-, -ˈstæn/, US: /ʊzˈbɛkɪstæn, -stɑːn/;[13][14] Uzbek: \n",
      "Oʻzbekiston, pronounced [ozbekiˈstɒn]), officially the Republic of Uzbekistan \n",
      "(Uzbek: Oʻzbekiston Respublikasi), is a doubly landlocked country in Central Asia. \n",
      "It is surrounded by five landlocked countries: Kazakhstan to the north; Kyrgyzstan \n",
      "to the northeast; Tajikistan to the southeast; Afghanistan to the south; and Turkmenistan \n",
      "to the south-west. Its capital and largest city is Tashkent. Uzbekistan is part of the \n",
      "Turkic languages world, as well as a member of the Organization of Turkic States. \n",
      "Uzbek language is the majority-spoken language in Uzbekistan. Islam is the predominant \n",
      "religion in Uzbekistan, most Uzbeks being Sunni Muslims.[15]\n",
      "\n",
      "The first recorded settlers in what is now Uzbekistan were Eastern Iranian nomads, \n",
      "known as Scythians, who founded kingdoms in Khwarazm (8th–6th centuries BC), Bactria \n",
      "(8th–6th centuries BC), Sogdia (8th–6th centuries BC), Fergana (3rd century BC – sixth century AD), \n",
      "and Margiana (3rd century BC – sixth century AD).[16] The area was incorporated into \n",
      "the Iranian Achaemenid Empire and, after a period of Macedonian rule, was ruled by the \n",
      "Iranian Parthian Empire and later by the Sasanian Empire, until the Muslim conquest \n",
      "of Persia in the seventh century. The Early Muslim conquests and the subsequent \n",
      "Samanid Empire converted most of the people, including the local ruling classes, \n",
      "into adherents of Islam. During this period, cities such as Samarkand, Khiva, and \n",
      "Bukhara began to grow rich from the Silk Road, and witnessed the emergence of \n",
      "leading figures of the Islamic Golden Age, including Muhammad al-Bukhari, Al-Tirmidhi, \n",
      "al Khwarizmi, al-Biruni, Avicenna and Omar Khayyam. The local Khwarazmian dynasty and \n",
      "Central Asia as a whole were decimated by the Mongol invasion in the 13th century, \n",
      "after which the region became dominated by Turkic peoples. The city of Shahrisabz was\n",
      "the birthplace of the Turco-Mongol conqueror Timur (Tamerlane), who in the 14th \n",
      "century established the Timurid Empire and was proclaimed the Supreme Emir of Turan \n",
      "with his capital in Samarkand, which became a centre of science under the rule of \n",
      "Ulugh Beg, giving birth to the Timurid Renaissance. The territories of the Timurid \n",
      "dynasty were conquered by Uzbek Shaybanids in the 16th century, moving the centre of \n",
      "power to Bukhara. The region was split into three states: the Khanate of Khiva, Khanate \n",
      "of Kokand and Emirate of Bukhara. Conquests by Emperor Babur towards the east led to \n",
      "the foundation of India's newest invasions as Mughal Empire. All of Central Asia was \n",
      "gradually incorporated into the Russian Empire during the 19th century, with Tashkent \n",
      "becoming the political center of Russian Turkestan. In 1924, national delimitation created \n",
      "the Uzbek Soviet Socialist Republic as an independent republic within the Soviet Union. \n",
      "Following the dissolution of the Soviet Union, it declared independence as the Republic of \n",
      "Uzbekistan on 31 August 1991.\n",
      "\n"
     ]
    }
   ],
   "source": [
    "print(string_5)"
   ]
  },
  {
   "cell_type": "code",
   "execution_count": 21,
   "id": "e630100e",
   "metadata": {},
   "outputs": [
    {
     "data": {
      "text/plain": [
       "'\\n'"
      ]
     },
     "execution_count": 21,
     "metadata": {},
     "output_type": "execute_result"
    }
   ],
   "source": [
    "string_5[0]"
   ]
  },
  {
   "cell_type": "markdown",
   "id": "158c5ae9",
   "metadata": {},
   "source": [
    "**`count`**"
   ]
  },
  {
   "cell_type": "code",
   "execution_count": 22,
   "id": "41975542",
   "metadata": {},
   "outputs": [
    {
     "data": {
      "text/plain": [
       "13"
      ]
     },
     "execution_count": 22,
     "metadata": {},
     "output_type": "execute_result"
    }
   ],
   "source": [
    "string_5.count(\"Uzbek\")"
   ]
  },
  {
   "cell_type": "code",
   "execution_count": 23,
   "id": "850b9b02",
   "metadata": {},
   "outputs": [
    {
     "data": {
      "text/plain": [
       "12"
      ]
     },
     "execution_count": 23,
     "metadata": {},
     "output_type": "execute_result"
    }
   ],
   "source": [
    "string_5.count(\"A\")"
   ]
  },
  {
   "cell_type": "code",
   "execution_count": 24,
   "id": "180b86a2",
   "metadata": {},
   "outputs": [
    {
     "data": {
      "text/plain": [
       "1"
      ]
     },
     "execution_count": 24,
     "metadata": {},
     "output_type": "execute_result"
    }
   ],
   "source": [
    "# s.count(\"value\", start, end)\n",
    "string_5.count(\"Uzbek\",2,90)"
   ]
  },
  {
   "cell_type": "markdown",
   "id": "ca7c541a",
   "metadata": {},
   "source": [
    "**`find`**"
   ]
  },
  {
   "cell_type": "code",
   "execution_count": 25,
   "id": "190c8669",
   "metadata": {},
   "outputs": [
    {
     "data": {
      "text/plain": [
       "1"
      ]
     },
     "execution_count": 25,
     "metadata": {},
     "output_type": "execute_result"
    }
   ],
   "source": [
    "string_5.find(\"Uzbek\")"
   ]
  },
  {
   "cell_type": "code",
   "execution_count": 26,
   "id": "a7a37d33",
   "metadata": {},
   "outputs": [
    {
     "data": {
      "text/plain": [
       "82"
      ]
     },
     "execution_count": 26,
     "metadata": {},
     "output_type": "execute_result"
    }
   ],
   "source": [
    "string_5.find(\"Uzbek\",2,90)"
   ]
  },
  {
   "cell_type": "code",
   "execution_count": 27,
   "id": "009a7324",
   "metadata": {},
   "outputs": [
    {
     "data": {
      "text/plain": [
       "-1"
      ]
     },
     "execution_count": 27,
     "metadata": {},
     "output_type": "execute_result"
    }
   ],
   "source": [
    "string_5.find(\"TTt\",2,90)"
   ]
  },
  {
   "cell_type": "markdown",
   "id": "33c6fa01",
   "metadata": {},
   "source": [
    "**`index`**"
   ]
  },
  {
   "cell_type": "code",
   "execution_count": 28,
   "id": "5954f389",
   "metadata": {},
   "outputs": [
    {
     "data": {
      "text/plain": [
       "1"
      ]
     },
     "execution_count": 28,
     "metadata": {},
     "output_type": "execute_result"
    }
   ],
   "source": [
    "string_5.index(\"Uzbek\")"
   ]
  },
  {
   "cell_type": "code",
   "execution_count": 29,
   "id": "4cec1c38",
   "metadata": {},
   "outputs": [
    {
     "data": {
      "text/plain": [
       "82"
      ]
     },
     "execution_count": 29,
     "metadata": {},
     "output_type": "execute_result"
    }
   ],
   "source": [
    "string_5.index(\"Uzbek\",2,90)"
   ]
  },
  {
   "cell_type": "code",
   "execution_count": 30,
   "id": "1d0e2892",
   "metadata": {},
   "outputs": [
    {
     "ename": "ValueError",
     "evalue": "substring not found",
     "output_type": "error",
     "traceback": [
      "\u001b[0;31m---------------------------------------------------------------------------\u001b[0m",
      "\u001b[0;31mValueError\u001b[0m                                Traceback (most recent call last)",
      "Input \u001b[0;32mIn [30]\u001b[0m, in \u001b[0;36m<cell line: 1>\u001b[0;34m()\u001b[0m\n\u001b[0;32m----> 1\u001b[0m \u001b[43mstring_5\u001b[49m\u001b[38;5;241;43m.\u001b[39;49m\u001b[43mindex\u001b[49m\u001b[43m(\u001b[49m\u001b[38;5;124;43m\"\u001b[39;49m\u001b[38;5;124;43mTTt\u001b[39;49m\u001b[38;5;124;43m\"\u001b[39;49m\u001b[43m,\u001b[49m\u001b[38;5;241;43m2\u001b[39;49m\u001b[43m,\u001b[49m\u001b[38;5;241;43m90\u001b[39;49m\u001b[43m)\u001b[49m\n",
      "\u001b[0;31mValueError\u001b[0m: substring not found"
     ]
    }
   ],
   "source": [
    "string_5.index(\"TTt\",2,90)"
   ]
  },
  {
   "cell_type": "markdown",
   "id": "23ec8858",
   "metadata": {},
   "source": [
    "**`capitalize`**"
   ]
  },
  {
   "cell_type": "code",
   "execution_count": 31,
   "id": "7bb56e59",
   "metadata": {},
   "outputs": [
    {
     "data": {
      "text/plain": [
       "'Hello'"
      ]
     },
     "execution_count": 31,
     "metadata": {},
     "output_type": "execute_result"
    }
   ],
   "source": [
    "string_6 = \"hello\"\n",
    "string_6.capitalize()"
   ]
  },
  {
   "cell_type": "markdown",
   "id": "48d3f34f",
   "metadata": {},
   "source": [
    "**`upper`**"
   ]
  },
  {
   "cell_type": "code",
   "execution_count": 32,
   "id": "43e1aa26",
   "metadata": {},
   "outputs": [
    {
     "data": {
      "text/plain": [
       "'HELLO'"
      ]
     },
     "execution_count": 32,
     "metadata": {},
     "output_type": "execute_result"
    }
   ],
   "source": [
    "string_6 = \"hello\"\n",
    "string_6.upper()"
   ]
  },
  {
   "cell_type": "markdown",
   "id": "bfbcf3cf",
   "metadata": {},
   "source": [
    "**`lower`**"
   ]
  },
  {
   "cell_type": "code",
   "execution_count": 33,
   "id": "be7ae2c1",
   "metadata": {},
   "outputs": [
    {
     "name": "stdout",
     "output_type": "stream",
     "text": [
      "hello\n",
      "HELLO\n"
     ]
    }
   ],
   "source": [
    "string_6 = \"HELLO\"\n",
    "print(string_6.lower())\n",
    "print(string_6)"
   ]
  },
  {
   "cell_type": "markdown",
   "id": "4f671c5e",
   "metadata": {},
   "source": [
    "**`center`**"
   ]
  },
  {
   "cell_type": "code",
   "execution_count": 34,
   "id": "13eba8e9",
   "metadata": {},
   "outputs": [
    {
     "data": {
      "text/plain": [
       "'                                            Hello Dunyo                                             '"
      ]
     },
     "execution_count": 34,
     "metadata": {},
     "output_type": "execute_result"
    }
   ],
   "source": [
    "string_7 = \"Hello Dunyo\"\n",
    "string_7.center(100)"
   ]
  },
  {
   "cell_type": "markdown",
   "id": "75cf1aad",
   "metadata": {},
   "source": [
    "**`replace`**"
   ]
  },
  {
   "cell_type": "code",
   "execution_count": 35,
   "id": "0f747192",
   "metadata": {},
   "outputs": [
    {
     "name": "stdout",
     "output_type": "stream",
     "text": [
      "Salom Dunyo\n",
      "Hello Dunyo\n"
     ]
    }
   ],
   "source": [
    "string_8 = \"Hello Dunyo\"\n",
    "print(string_8.replace(\"Hello\",\"Salom\"))\n",
    "print(string_8)"
   ]
  },
  {
   "cell_type": "code",
   "execution_count": 36,
   "id": "a0e4180c",
   "metadata": {},
   "outputs": [
    {
     "name": "stdout",
     "output_type": "stream",
     "text": [
      "\n",
      "Uzbekistan (UK: /ʊzˌbɛkɪˈstɑːn, ʌz-, -ˈstæn/, US: /ʊzˈbɛkɪstæn, -stɑːn/;[13][14] Uzbek: \n",
      "Oʻzbekiston, pronounced [ozbekiˈstɒn]), officially the Republic of Uzbekistan \n",
      "(Uzbek: Oʻzbekiston Respublikasi), is a doubly landlocked country in Central Asia. \n",
      "It is surrounded by five landlocked countries: Kazakhstan to the north; Kyrgyzstan \n",
      "to the northeast; Tajikistan to the southeast; Afghanistan to the south; and Turkmenistan \n",
      "to the south-west. Its capital and largest city is Tashkent. Uzbekistan is part of the \n",
      "Turkic languages world, as well as a member of the Organization of Turkic States. \n",
      "Uzbek language is the majority-spoken language in Uzbekistan. Islam is the predominant \n",
      "religion in Uzbekistan, most Uzbeks being Sunni Muslims.[15]\n",
      "\n",
      "The first recorded settlers in what is now Uzbekistan were Eastern Iranian nomads, \n",
      "known as Scythians, who founded kingdoms in Khwarazm (8th–6th centuries BC), Bactria \n",
      "(8th–6th centuries BC), Sogdia (8th–6th centuries BC), Fergana (3rd century BC – sixth century AD), \n",
      "and Margiana (3rd century BC – sixth century AD).[16] The area was incorporated into \n",
      "the Iranian Achaemenid Empire and, after a period of Macedonian rule, was ruled by the \n",
      "Iranian Parthian Empire and later by the Sasanian Empire, until the Muslim conquest \n",
      "of Persia in the seventh century. The Early Muslim conquests and the subsequent \n",
      "Samanid Empire converted most of the people, including the local ruling classes, \n",
      "into adherents of Islam. During this period, cities such as Samarkand, Khiva, and \n",
      "Bukhara began to grow rich from the Silk Road, and witnessed the emergence of \n",
      "leading figures of the Islamic Golden Age, including Muhammad al-Bukhari, Al-Tirmidhi, \n",
      "al Khwarizmi, al-Biruni, Avicenna and Omar Khayyam. The local Khwarazmian dynasty and \n",
      "Central Asia as a whole were decimated by the Mongol invasion in the 13th century, \n",
      "after which the region became dominated by Turkic peoples. The city of Shahrisabz was\n",
      "the birthplace of the Turco-Mongol conqueror Timur (Tamerlane), who in the 14th \n",
      "century established the Timurid Empire and was proclaimed the Supreme Emir of Turan \n",
      "with his capital in Samarkand, which became a centre of science under the rule of \n",
      "Ulugh Beg, giving birth to the Timurid Renaissance. The territories of the Timurid \n",
      "dynasty were conquered by Uzbek Shaybanids in the 16th century, moving the centre of \n",
      "power to Bukhara. The region was split into three states: the Khanate of Khiva, Khanate \n",
      "of Kokand and Emirate of Bukhara. Conquests by Emperor Babur towards the east led to \n",
      "the foundation of India's newest invasions as Mughal Empire. All of Central Asia was \n",
      "gradually incorporated into the Russian Empire during the 19th century, with Tashkent \n",
      "becoming the political center of Russian Turkestan. In 1924, national delimitation created \n",
      "the Uzbek Soviet Socialist Republic as an independent republic within the Soviet Union. \n",
      "Following the dissolution of the Soviet Union, it declared independence as the Republic of \n",
      "Uzbekistan on 31 August 1991.\n",
      "\n"
     ]
    }
   ],
   "source": [
    "print(string_5)"
   ]
  },
  {
   "cell_type": "markdown",
   "id": "cb91e1c5",
   "metadata": {},
   "source": [
    "**`strip`**"
   ]
  },
  {
   "cell_type": "code",
   "execution_count": 37,
   "id": "468dfa58",
   "metadata": {},
   "outputs": [
    {
     "data": {
      "text/plain": [
       "'Salom  hello  S'"
      ]
     },
     "execution_count": 37,
     "metadata": {},
     "output_type": "execute_result"
    }
   ],
   "source": [
    "string_9 = \"   Salom  hello  S \"\n",
    "string_9.strip()"
   ]
  },
  {
   "cell_type": "markdown",
   "id": "c3d5017b",
   "metadata": {},
   "source": [
    "**`rstrip`**"
   ]
  },
  {
   "cell_type": "code",
   "execution_count": 38,
   "id": "ee11ffcd",
   "metadata": {},
   "outputs": [
    {
     "data": {
      "text/plain": [
       "'   Salom  hello  S'"
      ]
     },
     "execution_count": 38,
     "metadata": {},
     "output_type": "execute_result"
    }
   ],
   "source": [
    "string_9 = \"   Salom  hello  S \"\n",
    "string_9.rstrip()"
   ]
  },
  {
   "cell_type": "markdown",
   "id": "e65d4710",
   "metadata": {},
   "source": [
    "**`lstrip`**"
   ]
  },
  {
   "cell_type": "code",
   "execution_count": 39,
   "id": "e5c1e056",
   "metadata": {},
   "outputs": [
    {
     "data": {
      "text/plain": [
       "'Salom  hello  S '"
      ]
     },
     "execution_count": 39,
     "metadata": {},
     "output_type": "execute_result"
    }
   ],
   "source": [
    "string_9 = \"   Salom  hello  S \"\n",
    "string_9.lstrip()"
   ]
  }
 ],
 "metadata": {
  "kernelspec": {
   "display_name": "Python 3 (ipykernel)",
   "language": "python",
   "name": "python3"
  },
  "language_info": {
   "codemirror_mode": {
    "name": "ipython",
    "version": 3
   },
   "file_extension": ".py",
   "mimetype": "text/x-python",
   "name": "python",
   "nbconvert_exporter": "python",
   "pygments_lexer": "ipython3",
   "version": "3.9.12"
  }
 },
 "nbformat": 4,
 "nbformat_minor": 5
}
