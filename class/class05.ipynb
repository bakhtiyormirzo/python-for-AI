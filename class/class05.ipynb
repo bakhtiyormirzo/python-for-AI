{
 "cells": [
  {
   "cell_type": "code",
   "execution_count": 2,
   "id": "6fabc4ad",
   "metadata": {},
   "outputs": [
    {
     "name": "stdout",
     "output_type": "stream",
     "text": [
      "balandligi: a = 4\n",
      "uzunligi: b = 5\n",
      "eni: c = 6\n",
      "x = 7\n",
      "y = 5\n",
      "True\n"
     ]
    }
   ],
   "source": [
    "# G'isht\n",
    "\n",
    "a = int(input(\"balandligi: a = \"))\n",
    "b = int(input(\"uzunligi: b = \"))\n",
    "c = int(input(\"eni: c = \"))\n",
    "\n",
    "x = int(input(\"x = \"))\n",
    "y = int(input(\"y = \"))\n",
    "\n",
    "print(x>a and y>b or a<y and b<x or a<x and c<y or a<y and c<x or b<x and c<y or b<y and c<x)"
   ]
  },
  {
   "cell_type": "code",
   "execution_count": 11,
   "id": "e96797f7",
   "metadata": {},
   "outputs": [
    {
     "name": "stdout",
     "output_type": "stream",
     "text": [
      "x = 1200\n",
      "366\n"
     ]
    }
   ],
   "source": [
    "# kabisa yili\n",
    "\n",
    "x = int(input(\"x = \"))\n",
    "\n",
    "if x % 4 == 0 and x % 100 == 0 and x % 400 != 0:\n",
    "    print(\"366\")\n",
    "else:\n",
    "    print(\"365\")"
   ]
  },
  {
   "cell_type": "code",
   "execution_count": null,
   "id": "20369afb",
   "metadata": {},
   "outputs": [],
   "source": [
    "# if-4\n",
    "\n",
    "a = float(input(\"a = \"))\n",
    "b = float(input(\"b = \"))\n",
    "c = float(input(\"c = \"))\n",
    "\n",
    "x = 0\n",
    "if a > 0:\n",
    "    x+=1\n",
    "if b > 0:\n",
    "    x+=1\n",
    "if c > 0:\n",
    "    x+=1\n",
    "    \n",
    "print(x)"
   ]
  },
  {
   "cell_type": "code",
   "execution_count": 12,
   "id": "99451933",
   "metadata": {},
   "outputs": [
    {
     "name": "stdout",
     "output_type": "stream",
     "text": [
      "a = 2\n",
      "b = 1\n",
      "2.0 1.0\n"
     ]
    }
   ],
   "source": [
    "# if-9\n",
    "\n",
    "a = float(input(\"a = \"))\n",
    "b = float(input(\"b = \"))\n",
    "\n",
    "if a<b:\n",
    "    print(b,a)\n",
    "else:\n",
    "    a = a + b\n",
    "    b = a - b\n",
    "    a = a - b\n",
    "    print(b,a)"
   ]
  },
  {
   "cell_type": "code",
   "execution_count": null,
   "id": "dec39236",
   "metadata": {},
   "outputs": [],
   "source": [
    "a = float(input(\"a = \"))\n",
    "b = float(input(\"b = \"))\n",
    "c = float(input(\"c = \"))\n",
    "d = float(input(\"d = \"))\n",
    "\n",
    "mus = 0\n",
    "man = 0\n",
    "\n",
    "if a>0:\n",
    "    mus += 1\n",
    "if a<0:\n",
    "    man += 1\n",
    "    \n",
    "if b>0:\n",
    "    mus += 1\n",
    "if b<0:\n",
    "    man += 1\n",
    "    \n",
    "if c>0:\n",
    "    mus += 1\n",
    "if c<0:\n",
    "    man += 1\n",
    "\n",
    "if d>0:\n",
    "    mus += 1\n",
    "if d<0:\n",
    "    man += 1\n",
    "\n",
    "print(\"manfiylar:\",man, \"musbatlar:\",man)"
   ]
  },
  {
   "cell_type": "code",
   "execution_count": 14,
   "id": "d1134575",
   "metadata": {},
   "outputs": [
    {
     "name": "stdout",
     "output_type": "stream",
     "text": [
      "x = -1\n",
      "-3\n"
     ]
    }
   ],
   "source": [
    "x = int(input(\"x = \"))\n",
    "\n",
    "if x>0:\n",
    "    print(x+1)\n",
    "if x<0:\n",
    "    print(x-2)\n",
    "if x == 0:\n",
    "    x = 10\n",
    "    print(x)"
   ]
  },
  {
   "cell_type": "code",
   "execution_count": null,
   "id": "c4d1bc51",
   "metadata": {},
   "outputs": [],
   "source": [
    "# if-13\n",
    "\n",
    "a = int(input(\"a = \"))\n",
    "b = int(input(\"b = \"))\n",
    "c = int(input(\"c = \"))\n",
    "\n",
    "if a<b and a<c:\n",
    "    print(a)\n",
    "if b<a and b<c:\n",
    "    print(b)\n",
    "if c<a and c<b:\n",
    "    print(c)\n"
   ]
  },
  {
   "cell_type": "code",
   "execution_count": 15,
   "id": "c21f340f",
   "metadata": {},
   "outputs": [
    {
     "name": "stdout",
     "output_type": "stream",
     "text": [
      "a = 2\n",
      "b = 3\n",
      "c = 4\n",
      "3\n"
     ]
    }
   ],
   "source": [
    "# if - o'rtancha son\n",
    "\n",
    "a = int(input(\"a = \"))\n",
    "b = int(input(\"b = \"))\n",
    "c = int(input(\"c = \"))\n",
    "\n",
    "if a>b and a<c or a<b and a>c:\n",
    "    print(a)\n",
    "if b>a and b<c or b<a and b>c:\n",
    "    print(b)\n",
    "if c>a and c<b or c<a and c>b:\n",
    "    print(c)"
   ]
  },
  {
   "cell_type": "code",
   "execution_count": 19,
   "id": "0e5baa17",
   "metadata": {},
   "outputs": [
    {
     "name": "stdout",
     "output_type": "stream",
     "text": [
      "x = 12\n",
      "y = 13\n",
      "z = 15\n",
      "13 15\n"
     ]
    }
   ],
   "source": [
    "x = int(input(\"x = \"))\n",
    "y = int(input(\"y = \"))\n",
    "z = int(input(\"z = \"))\n",
    "\n",
    "a = x+y\n",
    "b = x+z\n",
    "c = y+z\n",
    "\n",
    "if a>b and a>c:\n",
    "    print(x,y)\n",
    "if b>a and b>c:\n",
    "    print(x,z)\n",
    "if c>a and c>b:\n",
    "    print(y,z)"
   ]
  },
  {
   "cell_type": "code",
   "execution_count": 20,
   "id": "58943da6",
   "metadata": {},
   "outputs": [
    {
     "name": "stdout",
     "output_type": "stream",
     "text": [
      "a = 1\n",
      "b = 2\n",
      "c = 3\n",
      "2 3\n"
     ]
    }
   ],
   "source": [
    "# if-15\n",
    "\n",
    "a = int(input(\"a = \"))\n",
    "b = int(input(\"b = \"))\n",
    "c = int(input(\"c = \"))\n",
    "\n",
    "if a<b and a<c:\n",
    "    print(b,c)\n",
    "if b<a and b<c:\n",
    "    print(a,c)\n",
    "if c<a and c<b:\n",
    "    print(a,b)"
   ]
  },
  {
   "cell_type": "code",
   "execution_count": 23,
   "id": "4a697ea2",
   "metadata": {},
   "outputs": [
    {
     "name": "stdout",
     "output_type": "stream",
     "text": [
      "a = 2\n",
      "b = 1\n",
      "c = 3\n",
      "-2 -1 -3\n"
     ]
    }
   ],
   "source": [
    "# if-16\n",
    "\n",
    "a = int(input(\"a = \"))\n",
    "b = int(input(\"b = \"))\n",
    "c = int(input(\"c = \"))\n",
    "\n",
    "if a < b and b < c:\n",
    "    a *= 2\n",
    "    b *= 2\n",
    "    c *= 2\n",
    "    print(a,b,c)\n",
    "else:\n",
    "    a = -a\n",
    "    b = -b\n",
    "    c = -c\n",
    "    print(a,b,c)"
   ]
  },
  {
   "cell_type": "code",
   "execution_count": 24,
   "id": "c8fc45e0",
   "metadata": {},
   "outputs": [
    {
     "name": "stdout",
     "output_type": "stream",
     "text": [
      "a = 2\n",
      "b = 2\n",
      "c = 3\n",
      "d = 2\n",
      "3\n"
     ]
    }
   ],
   "source": [
    "# if-19\n",
    "\n",
    "a = int(input(\"a = \"))\n",
    "b = int(input(\"b = \"))\n",
    "c = int(input(\"c = \"))\n",
    "d = int(input(\"d = \"))\n",
    "\n",
    "if a != b and a != c:\n",
    "    print(\"1\")\n",
    "if b != a and b != c:\n",
    "    print(\"2\")\n",
    "if c != a and c != b:\n",
    "    print(\"3\")\n",
    "if d != a and d != b:\n",
    "    print(\"4\")\n",
    "    "
   ]
  },
  {
   "cell_type": "code",
   "execution_count": 25,
   "id": "e9bc475d",
   "metadata": {},
   "outputs": [
    {
     "name": "stdout",
     "output_type": "stream",
     "text": [
      "a = 1\n",
      "b = 3\n",
      "c = 5\n",
      "3\n"
     ]
    }
   ],
   "source": [
    "#if-20\n",
    "\n",
    "a = int(input(\"a = \"))\n",
    "b = int(input(\"b = \"))\n",
    "c = int(input(\"c = \"))\n",
    "\n",
    "if abs(a-b) < abs(a-c):\n",
    "    print(b)\n",
    "else:\n",
    "    print(c)"
   ]
  },
  {
   "cell_type": "markdown",
   "id": "fd925787",
   "metadata": {},
   "source": [
    "# If 20+"
   ]
  },
  {
   "cell_type": "code",
   "execution_count": 30,
   "id": "d99f2c7a",
   "metadata": {},
   "outputs": [
    {
     "name": "stdout",
     "output_type": "stream",
     "text": [
      "x = 2\n",
      "y = 3\n",
      "3\n"
     ]
    }
   ],
   "source": [
    "# 21-savol\n",
    "\n",
    "x = int(input(\"x = \"))\n",
    "y = int(input(\"y = \"))\n",
    "\n",
    "if x == 0 and y == 0:\n",
    "    print(\"0\")\n",
    "elif x != 0 and y == 0:\n",
    "    print(\"1\")\n",
    "elif x == 0 and y != 0:\n",
    "    print(\"2\")\n",
    "else:\n",
    "    print(\"3\")"
   ]
  },
  {
   "cell_type": "code",
   "execution_count": 3,
   "id": "3b824027",
   "metadata": {},
   "outputs": [
    {
     "name": "stdout",
     "output_type": "stream",
     "text": [
      "x = 1\n",
      "y = -2\n",
      "4\n"
     ]
    }
   ],
   "source": [
    "# 22-savol\n",
    "\n",
    "x = int(input(\"x = \"))\n",
    "y = int(input(\"y = \"))\n",
    "\n",
    "if x > 0 and y > 0:\n",
    "    print(\"1\")\n",
    "elif x < 0 and y > 0:\n",
    "    print(\"2\")\n",
    "elif x < 0 and y < 0:\n",
    "    print(\"3\")\n",
    "else:\n",
    "    print(\"4\")\n"
   ]
  },
  {
   "cell_type": "code",
   "execution_count": 6,
   "id": "eb3b5acc",
   "metadata": {},
   "outputs": [
    {
     "name": "stdout",
     "output_type": "stream",
     "text": [
      "x1 = 2\n",
      "y1 = 1\n",
      "x2 = 5\n",
      "y2 = 1\n",
      "x3 = 2\n",
      "y3 = 4\n",
      "x4 =  5 ; y4 =  4\n"
     ]
    }
   ],
   "source": [
    "# 23-savol\n",
    "\n",
    "x1 = int(input(\"x1 = \"))\n",
    "y1 = int(input(\"y1 = \"))\n",
    "x2 = int(input(\"x2 = \"))\n",
    "y2 = int(input(\"y2 = \"))\n",
    "x3 = int(input(\"x3 = \"))\n",
    "y3 = int(input(\"y3 = \"))\n",
    "\n",
    "if x1 == x3 and y1 == y2:\n",
    "    x4 = x2\n",
    "    y4 = y3\n",
    "    print(\"x4 = \", x4, \";\", \"y4 = \", y4 )\n",
    "\n",
    "elif  x2 == x3 and y1 == y2:\n",
    "    x4 = x1\n",
    "    y4 = y3\n",
    "    print(\"x4 = \", x4, \";\", \"y4 = \", y4 )\n",
    "\n",
    "elif x1 == x2 and y2 == y3:\n",
    "    x4 = x3\n",
    "    y4 = y1\n",
    "    print(\"x4 = \", x4, \";\", \"y4 = \", y4 )\n",
    "\n",
    "else:\n",
    "    x4 = x2\n",
    "    y4 = y1\n",
    "    print(\"x4 = \", x4, \";\", \"y4 = \", y4 )"
   ]
  },
  {
   "cell_type": "code",
   "execution_count": 8,
   "id": "8f6a434a",
   "metadata": {},
   "outputs": [
    {
     "name": "stdout",
     "output_type": "stream",
     "text": [
      "x = 1\n",
      "1.682941969615793\n"
     ]
    }
   ],
   "source": [
    "# 24-savol\n",
    "\n",
    "import math\n",
    "\n",
    "x = float(input(\"x = \"))\n",
    "\n",
    "if x > 0:\n",
    "    print(2 * math.sin(x))\n",
    "else:\n",
    "    print(x - 6)"
   ]
  },
  {
   "cell_type": "code",
   "execution_count": 10,
   "id": "714ebee2",
   "metadata": {},
   "outputs": [
    {
     "name": "stdout",
     "output_type": "stream",
     "text": [
      "x = 3\n",
      "6\n"
     ]
    }
   ],
   "source": [
    "# 25-savol\n",
    "\n",
    "x = float(input(\"x = \"))\n",
    "\n",
    "if x < -2 or x > 2:\n",
    "    print(2 * x)\n",
    "else:\n",
    "    print(-3 * x)"
   ]
  },
  {
   "cell_type": "code",
   "execution_count": 14,
   "id": "44ea349b",
   "metadata": {},
   "outputs": [
    {
     "name": "stdout",
     "output_type": "stream",
     "text": [
      "x = 4\n",
      "4\n"
     ]
    }
   ],
   "source": [
    "# 26-savol\n",
    "\n",
    "x = float(input(\"x = \"))\n",
    "\n",
    "if x <= 0:\n",
    "    x = -x\n",
    "    print(x)\n",
    "elif x > 0 and x < 2:\n",
    "    x = x ** 2\n",
    "    print(x)\n",
    "else:\n",
    "    print(\"4\")"
   ]
  },
  {
   "cell_type": "code",
   "execution_count": 36,
   "id": "720760cc",
   "metadata": {},
   "outputs": [
    {
     "name": "stdout",
     "output_type": "stream",
     "text": [
      "x = 0.9\n",
      "1\n"
     ]
    }
   ],
   "source": [
    "# 27-savol \n",
    "\n",
    "x = float(input(\"x = \"))\n",
    "\n",
    "if x < 0:\n",
    "    x = -x\n",
    "    print(x)\n",
    "elif int(x) % 2 == 0:\n",
    "    print(\"1\")\n",
    "else:\n",
    "    print(\"-1\")"
   ]
  },
  {
   "cell_type": "code",
   "execution_count": 43,
   "id": "0a151e4a",
   "metadata": {},
   "outputs": [
    {
     "name": "stdout",
     "output_type": "stream",
     "text": [
      "x = 2096\n",
      "Kabisa yili\n"
     ]
    }
   ],
   "source": [
    "# 28-savol: kabisa yili\n",
    "\n",
    "x = int(input(\"x = \"))\n",
    "\n",
    "kabisa = False\n",
    "\n",
    "if x % 4 == 0:\n",
    "    kabisa = True\n",
    "if x % 100 == 0 and x % 400 != 0:\n",
    "    kabisa = False\n",
    "\n",
    "if kabisa:\n",
    "    print(\"Kabisa yili\")\n",
    "else:\n",
    "    print(\"Kabisa emas\")"
   ]
  },
  {
   "cell_type": "code",
   "execution_count": 21,
   "id": "bd0b3072",
   "metadata": {},
   "outputs": [
    {
     "name": "stdout",
     "output_type": "stream",
     "text": [
      "x = -10\n",
      "Manfiy juft son\n"
     ]
    }
   ],
   "source": [
    "# 29-savol\n",
    "\n",
    "x = int(input(\"x = \"))\n",
    "\n",
    "if x > 0 and x % 2 == 0:\n",
    "    print(\"Musbat juft son\")\n",
    "elif x > 0 and x % 2 != 0:\n",
    "    print(\"Musbat toq son\")\n",
    "elif x < 0 and x % 2 == 0:\n",
    "    print(\"Manfiy juft son\")\n",
    "else:\n",
    "    print(\"Manfiy toq son\")\n",
    "\n",
    "    "
   ]
  },
  {
   "cell_type": "code",
   "execution_count": 28,
   "id": "b5ba3db7",
   "metadata": {},
   "outputs": [
    {
     "name": "stdout",
     "output_type": "stream",
     "text": [
      "x = 777\n",
      "Uch xonalik toq son\n"
     ]
    }
   ],
   "source": [
    "# 30-savol\n",
    "\n",
    "x = int(input(\"x = \"))\n",
    "\n",
    "if x // 10 == 0 and x % 2 == 0:\n",
    "    print(\"Bir xonalik juft son\")\n",
    "elif x // 10 == 0 and x % 2 != 0:\n",
    "    print(\"Bir xonalik toq son\")\n",
    "elif x // 100 == 0 and x % 2 == 0:\n",
    "    print(\"Ikki xonalik juft son\")\n",
    "elif x // 100 == 0 and x % 2 != 0:\n",
    "    print(\"Ikki xonalik toq son\")\n",
    "elif x // 1000 == 0 and x % 2 == 0:\n",
    "    print(\"Uch xonalik juft son\")\n",
    "else:\n",
    "    print(\"Uch xonalik toq son\")"
   ]
  },
  {
   "cell_type": "code",
   "execution_count": 47,
   "id": "1a9f6b34",
   "metadata": {},
   "outputs": [
    {
     "name": "stdout",
     "output_type": "stream",
     "text": [
      "x = 99\n",
      "To'qson to'qqiz \n"
     ]
    }
   ],
   "source": [
    "# if junior\n",
    "\n",
    "x = int(input(\"x = \"))\n",
    "\n",
    "onlik = x//10\n",
    "birlik = x%10\n",
    "s = \"\"\n",
    "\n",
    "if onlik == 1:\n",
    "    s += \"O'n \"\n",
    "elif onlik == 2:\n",
    "    s += \"Yigirma \"\n",
    "elif onlik == 3:\n",
    "    s += \"O'ttiz \"\n",
    "elif onlik == 4:\n",
    "    s += \"Qirq \"\n",
    "elif onlik == 5:\n",
    "    s += \"Ellik \"\n",
    "elif onlik == 6:\n",
    "    s += \"Oltmish \"\n",
    "elif onlik == 7:\n",
    "    s += \"Yetmish \"\n",
    "elif onlik == 8:\n",
    "    s += \"Sakson \"\n",
    "else:\n",
    "    s += \"To'qson \"\n",
    "\n",
    "if birlik == 1:\n",
    "    s += \"bir \"\n",
    "elif birlik == 2:\n",
    "    s += \"ikki \"\n",
    "elif birlik == 3:\n",
    "    s += \"uch \"\n",
    "elif birlik == 4:\n",
    "    s += \"to'rt \"\n",
    "elif birlik == 5:\n",
    "    s += \"besh \"\n",
    "elif birlik == 6:\n",
    "    s += \"olti \"\n",
    "elif birlik == 7:\n",
    "    s += \"yetti \"\n",
    "elif birlik == 8:\n",
    "    s += \"sakkiz \"\n",
    "else:\n",
    "    s += \"to'qqiz \"\n",
    "\n",
    "print(s)"
   ]
  },
  {
   "cell_type": "code",
   "execution_count": 50,
   "id": "c452fc5c",
   "metadata": {},
   "outputs": [
    {
     "name": "stdout",
     "output_type": "stream",
     "text": [
      "x = 122\n",
      "Noto'g'ri raqam kiritildi\n"
     ]
    }
   ],
   "source": [
    "# boholash sistemasi\n",
    "\n",
    "x = int(input(\"x = \"))\n",
    "\n",
    "if x >= 86 and x <= 100:\n",
    "    print(5)\n",
    "elif x >= 71 and x <= 85:\n",
    "    print(4)\n",
    "elif x >= 56 and x <= 70:\n",
    "    print(3)\n",
    "elif x <= 55 and x >= 0:\n",
    "    print(2)\n",
    "else:\n",
    "    print(\"Noto'g'ri raqam kiritildi\")"
   ]
  },
  {
   "cell_type": "code",
   "execution_count": null,
   "id": "45e05139",
   "metadata": {},
   "outputs": [],
   "source": [
    "x = int(input(\"x = \"))\n",
    "y = int(input(\"y = \"))\n",
    "z = input(\"amal: \")\n",
    "\n",
    "if z == \"-\":\n",
    "    print(x-y)\n",
    "elif z == \"+\":\n",
    "    print(x+y)\n",
    "elif z == \"*\":\n",
    "    print(x*y)\n",
    "elif z == \"/\":\n",
    "    print(x/y)\n",
    "elif z == \"//\":\n",
    "    print(x//y)\n",
    "else:\n",
    "    print(x**y)\n",
    "    "
   ]
  }
 ],
 "metadata": {
  "kernelspec": {
   "display_name": "Python 3 (ipykernel)",
   "language": "python",
   "name": "python3"
  },
  "language_info": {
   "codemirror_mode": {
    "name": "ipython",
    "version": 3
   },
   "file_extension": ".py",
   "mimetype": "text/x-python",
   "name": "python",
   "nbconvert_exporter": "python",
   "pygments_lexer": "ipython3",
   "version": "3.9.7"
  }
 },
 "nbformat": 4,
 "nbformat_minor": 5
}
