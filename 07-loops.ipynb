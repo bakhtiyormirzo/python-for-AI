{
 "cells": [
  {
   "cell_type": "code",
   "execution_count": 4,
   "id": "aacb9226",
   "metadata": {},
   "outputs": [],
   "source": [
    "import math"
   ]
  },
  {
   "cell_type": "code",
   "execution_count": 1,
   "id": "4868d1dc",
   "metadata": {},
   "outputs": [
    {
     "name": "stdout",
     "output_type": "stream",
     "text": [
      "n = 30\n",
      "1 2 3 5 6 10 15 30 "
     ]
    }
   ],
   "source": [
    "# 1\n",
    "\n",
    "n = int(input(\"n = \"))\n",
    "\n",
    "for i in range(1, n+1):\n",
    "    if n % i == 0:\n",
    "        print(i, end=\" \")"
   ]
  },
  {
   "cell_type": "code",
   "execution_count": 2,
   "id": "ea2d9175",
   "metadata": {},
   "outputs": [
    {
     "name": "stdout",
     "output_type": "stream",
     "text": [
      "n = 15\n",
      "24\n"
     ]
    }
   ],
   "source": [
    "# 2\n",
    "\n",
    "n = int(input(\"n = \"))\n",
    "s = 0\n",
    "\n",
    "for i in range(1, n+1):\n",
    "    if n % i == 0:\n",
    "        s += i\n",
    "print(s)"
   ]
  },
  {
   "cell_type": "code",
   "execution_count": 3,
   "id": "ba6bbd7f",
   "metadata": {},
   "outputs": [
    {
     "name": "stdout",
     "output_type": "stream",
     "text": [
      "n = 6\n",
      "True\n"
     ]
    }
   ],
   "source": [
    "# 3\n",
    "\n",
    "n = int(input(\"n = \"))\n",
    "\n",
    "def muk(a):\n",
    "    s = 0\n",
    "    for i in range(1,a):\n",
    "        if a%i==0:\n",
    "            s+=i\n",
    "            \n",
    "    if a == s:\n",
    "        return True\n",
    "    return False\n",
    "\n",
    "print(muk(n))"
   ]
  },
  {
   "cell_type": "code",
   "execution_count": 4,
   "id": "a96e9244",
   "metadata": {},
   "outputs": [
    {
     "name": "stdout",
     "output_type": "stream",
     "text": [
      "n = 50\n",
      "3 6 9 12 18 21 24 27 33 36 39 42 48 "
     ]
    }
   ],
   "source": [
    "# 5\n",
    "\n",
    "n = int(input(\"n = \"))\n",
    "\n",
    "for i in range(1, n):\n",
    "    if i % 3 == 0 and i % 5 != 0:\n",
    "        print(i, end=\" \")\n",
    "        "
   ]
  },
  {
   "cell_type": "code",
   "execution_count": 10,
   "id": "3f107a5d",
   "metadata": {},
   "outputs": [
    {
     "name": "stdout",
     "output_type": "stream",
     "text": [
      "n = 15\n",
      "3 4 5\n",
      "4 3 5\n",
      "5 12 13\n",
      "6 8 10\n",
      "8 6 10\n",
      "12 5 13\n"
     ]
    }
   ],
   "source": [
    "# 8: n gacha bo'lgan pifagor sonlarini chiqarish: veriya N1 \n",
    "\n",
    "n = int(input(\"n = \"))\n",
    "\n",
    "for a in range(1, n):\n",
    "    for b in range(1, n):\n",
    "        for c in range(1, n):\n",
    "            if c**2 == a**2 + b**2: # or a**2 == c**2 + b**2 or b**2 == a**2 + c**2:\n",
    "                print(a,b,c)"
   ]
  },
  {
   "cell_type": "code",
   "execution_count": 18,
   "id": "04fae976",
   "metadata": {},
   "outputs": [
    {
     "name": "stdout",
     "output_type": "stream",
     "text": [
      "n = 20\n",
      "3 4 5\n",
      "8 6 10\n",
      "5 12 13\n",
      "15 8 17\n",
      "12 16 20\n"
     ]
    }
   ],
   "source": [
    "# 9: n gacha bo'lgan pifagor sonlarini chiqarish: veriya N2 optimal\n",
    "\n",
    "n = int(input(\"n = \"))\n",
    "\n",
    "c = 0\n",
    "g = 1\n",
    "\n",
    "while c < n:\n",
    "    for i in range(1, g) :\n",
    "        a = g * g - i * i\n",
    "        b = 2 * g * i\n",
    "        c = g * g + i * i\n",
    " \n",
    "        #print(i, g)\n",
    "        if c > n :\n",
    "            break\n",
    " \n",
    "        print(a, b, c)\n",
    " \n",
    "    g += 1"
   ]
  },
  {
   "cell_type": "code",
   "execution_count": 19,
   "id": "ffebac72",
   "metadata": {},
   "outputs": [
    {
     "name": "stdout",
     "output_type": "stream",
     "text": [
      "n = 20\n",
      "1.5961632439130233\n"
     ]
    }
   ],
   "source": [
    "# 11.a\n",
    "\n",
    "n = int(input(\"n = \"))\n",
    "s = 0\n",
    "\n",
    "for i in range(1,n+1):\n",
    "    s += 1/i**2\n",
    "\n",
    "print(s)"
   ]
  },
  {
   "cell_type": "code",
   "execution_count": 20,
   "id": "9e8cead5",
   "metadata": {},
   "outputs": [
    {
     "name": "stdout",
     "output_type": "stream",
     "text": [
      "n = 20\n",
      "1.2008678419584364\n"
     ]
    }
   ],
   "source": [
    "# 11.b\n",
    "\n",
    "n = int(input(\"n = \"))\n",
    "s = 0\n",
    "\n",
    "for i in range(1,n+1):\n",
    "    s += 1/i**3\n",
    "\n",
    "print(s)"
   ]
  },
  {
   "cell_type": "code",
   "execution_count": 5,
   "id": "bc1e967d",
   "metadata": {},
   "outputs": [
    {
     "name": "stdout",
     "output_type": "stream",
     "text": [
      "n = 20\n",
      "1.7182818284590455\n"
     ]
    }
   ],
   "source": [
    "# 11.c\n",
    "\n",
    "n = int(input(\"n = \"))\n",
    "s = 0\n",
    "\n",
    "for i in range(1,n+1):\n",
    "    s += 1/math.factorial(i)\n",
    "\n",
    "print(s)"
   ]
  },
  {
   "cell_type": "code",
   "execution_count": 6,
   "id": "a18d51a2",
   "metadata": {},
   "outputs": [
    {
     "name": "stdout",
     "output_type": "stream",
     "text": [
      "n = 20\n",
      "0.39904081097825583\n"
     ]
    }
   ],
   "source": [
    "# 11.d\n",
    "\n",
    "n = int(input(\"n = \"))\n",
    "s = 0\n",
    "\n",
    "for i in range(1,n+1):\n",
    "    s += 1/(2*i)**2\n",
    "\n",
    "print(s)"
   ]
  },
  {
   "cell_type": "code",
   "execution_count": 8,
   "id": "19acdbe3",
   "metadata": {},
   "outputs": [
    {
     "name": "stdout",
     "output_type": "stream",
     "text": [
      "n = 100\n",
      "0.0\n"
     ]
    }
   ],
   "source": [
    "# 11.e\n",
    "\n",
    "n = int(input(\"n = \"))\n",
    "s = 0\n",
    "\n",
    "for i in range(2,n+1):\n",
    "    s *= (i+1)/(i+2)\n",
    "\n",
    "print(s)"
   ]
  },
  {
   "cell_type": "code",
   "execution_count": 9,
   "id": "a002d6b1",
   "metadata": {},
   "outputs": [
    {
     "name": "stdout",
     "output_type": "stream",
     "text": [
      "n = 20\n",
      "18.305044815986243\n"
     ]
    }
   ],
   "source": [
    "# 11.f\n",
    "\n",
    "n = int(input(\"n = \"))\n",
    "s = 1/math.sin(1)\n",
    "\n",
    "for i in range(2,n+1):\n",
    "    s += 1 / (math.sin(1) + math.sin(i))\n",
    "\n",
    "print(s)"
   ]
  },
  {
   "cell_type": "code",
   "execution_count": 10,
   "id": "e979c3cf",
   "metadata": {},
   "outputs": [
    {
     "name": "stdout",
     "output_type": "stream",
     "text": [
      "n = 20\n",
      "9.210556198797098\n"
     ]
    }
   ],
   "source": [
    "# 11.g\n",
    "\n",
    "n = int(input(\"n = \"))\n",
    "s = math.cos(1) / math.sin(1)\n",
    "\n",
    "for i in range(2,n+1):\n",
    "    s += (math.cos(1) + math.cos(i)) / (math.sin(1) + math.sin(i))\n",
    "\n",
    "print(s)"
   ]
  }
 ],
 "metadata": {
  "kernelspec": {
   "display_name": "Python 3 (ipykernel)",
   "language": "python",
   "name": "python3"
  },
  "language_info": {
   "codemirror_mode": {
    "name": "ipython",
    "version": 3
   },
   "file_extension": ".py",
   "mimetype": "text/x-python",
   "name": "python",
   "nbconvert_exporter": "python",
   "pygments_lexer": "ipython3",
   "version": "3.9.7"
  }
 },
 "nbformat": 4,
 "nbformat_minor": 5
}
