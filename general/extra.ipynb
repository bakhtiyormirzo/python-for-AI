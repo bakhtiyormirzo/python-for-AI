{
 "cells": [
  {
   "cell_type": "code",
   "execution_count": 12,
   "id": "8ae0f065",
   "metadata": {},
   "outputs": [
    {
     "name": "stdout",
     "output_type": "stream",
     "text": [
      "x = 2\n",
      "y = -3\n",
      "-6\n"
     ]
    }
   ],
   "source": [
    "# kopaytmani qo'shish va ayrish ammalari bilan topish\n",
    "# while \n",
    "\n",
    "x = int(input(\"x = \"))\n",
    "y = int(input(\"y = \"))\n",
    "xc = x\n",
    "\n",
    "if x == 0 or y == 0:\n",
    "    print(0)\n",
    "elif x < 0 and y < 0:\n",
    "    x, y = abs(x), abs(y)\n",
    "    while y > 1:\n",
    "        x += abs(xc)\n",
    "        y -= 1\n",
    "    print(x)\n",
    "    \n",
    "elif x < 0:\n",
    "    x = abs(x)\n",
    "    while y > 1:\n",
    "        x += abs(xc)\n",
    "        y -= 1\n",
    "    print(-x)\n",
    "\n",
    "elif y < 0:\n",
    "    y = abs(y)\n",
    "    while y > 1:\n",
    "        x += xc\n",
    "        y -= 1\n",
    "    print(-x)\n",
    "    \n",
    "else:\n",
    "    while y > 1:\n",
    "        x += xc\n",
    "        y -= 1\n",
    "    print(x)"
   ]
  },
  {
   "cell_type": "code",
   "execution_count": 18,
   "id": "3dae34a1",
   "metadata": {},
   "outputs": [
    {
     "name": "stdout",
     "output_type": "stream",
     "text": [
      "x = 4\n",
      "y = -5\n",
      "-20\n"
     ]
    }
   ],
   "source": [
    "# kopaytmani qo'shish va ayrish ammalari bilan topish\n",
    "# recursion \n",
    "\n",
    "def kopaytir(x, y):\n",
    "    if x == 0 or y == 0:\n",
    "        return 0\n",
    "    elif x < 0 and y < 0:\n",
    "        return kopaytir(abs(x), abs(y))\n",
    "    elif x < 0:\n",
    "        return -kopaytir(abs(x), y)\n",
    "    elif y < 0:\n",
    "        return -kopaytir(x, abs(y))\n",
    "    else:\n",
    "        return x + kopaytir(x, y-1)\n",
    "\n",
    "x = int(input(\"x = \"))\n",
    "y = int(input(\"y = \"))\n",
    "print(kopaytir(x,y))"
   ]
  },
  {
   "cell_type": "code",
   "execution_count": 4,
   "id": "7024dd41",
   "metadata": {},
   "outputs": [
    {
     "name": "stdout",
     "output_type": "stream",
     "text": [
      "x = 10\n",
      "y = 2\n",
      "5\n"
     ]
    }
   ],
   "source": [
    "# bo'linmani qo'shish va ayrish amallari bilan topish\n",
    "\n",
    "x = int(input(\"x = \"))\n",
    "y = int(input(\"y = \"))\n",
    "yc = y\n",
    "if x == 0 or y == 0:\n",
    "    print(0)\n",
    "elif x > y and x > 0 and y > 0:\n",
    "    count = 1\n",
    "    while y+yc <= x:\n",
    "        count += 1\n",
    "        y += yc\n",
    "    if y == x:\n",
    "        print(count)\n",
    "    else:\n",
    "        rem = x - y\n",
    "        \n",
    "        print(\"butun:\", count, \"qoldiq:\",rem)\n",
    "else:\n",
    "    print(\"Buni yechimi topilmadi\")"
   ]
  }
 ],
 "metadata": {
  "kernelspec": {
   "display_name": "Python 3 (ipykernel)",
   "language": "python",
   "name": "python3"
  },
  "language_info": {
   "codemirror_mode": {
    "name": "ipython",
    "version": 3
   },
   "file_extension": ".py",
   "mimetype": "text/x-python",
   "name": "python",
   "nbconvert_exporter": "python",
   "pygments_lexer": "ipython3",
   "version": "3.9.7"
  }
 },
 "nbformat": 4,
 "nbformat_minor": 5
}
