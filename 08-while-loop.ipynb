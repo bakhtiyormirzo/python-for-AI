{
 "cells": [
  {
   "cell_type": "code",
   "execution_count": 2,
   "id": "6b55e61b",
   "metadata": {},
   "outputs": [
    {
     "name": "stdout",
     "output_type": "stream",
     "text": [
      "a = 25\n",
      "b = 4\n",
      "1\n"
     ]
    }
   ],
   "source": [
    "# N1: a uzunlikdagi kesmani b uzunligda kesganda, qancha qoldiq qolishini topish\n",
    "\n",
    "a = int(input(\"a = \"))\n",
    "b = int(input(\"b = \"))\n",
    "\n",
    "while a > 0:\n",
    "    a -= b\n",
    "    \n",
    "    if a < 0:\n",
    "        print(a+b)"
   ]
  },
  {
   "cell_type": "code",
   "execution_count": 3,
   "id": "79625e5a",
   "metadata": {},
   "outputs": [
    {
     "name": "stdout",
     "output_type": "stream",
     "text": [
      "a = 25\n",
      "b = 4\n",
      "6\n"
     ]
    }
   ],
   "source": [
    "# N2: a uzunlikdagi kesmani nechta teng b uzunligda kesish mumkin\n",
    "\n",
    "a = int(input(\"a = \"))\n",
    "b = int(input(\"b = \"))\n",
    "\n",
    "son = 0\n",
    "while a > 0:\n",
    "    a -= b\n",
    "\n",
    "    if a > 0:\n",
    "        son += 1\n",
    "print(son)"
   ]
  },
  {
   "cell_type": "code",
   "execution_count": 4,
   "id": "ecf8308f",
   "metadata": {},
   "outputs": [
    {
     "name": "stdout",
     "output_type": "stream",
     "text": [
      "n = 25\n",
      "k = 4\n",
      "Butun:  6  |  Qoldiq:  1\n"
     ]
    }
   ],
   "source": [
    "# N3: n sonini k soniga bolganda butun va qoldiq qismlarini bo'lish va kopaytirish amallariz topish\n",
    "\n",
    "n = int(input(\"n = \"))\n",
    "k = int(input(\"k = \"))\n",
    "\n",
    "q = 0\n",
    "b = 0\n",
    "while n > 0:\n",
    "    n -= k\n",
    "    \n",
    "    if n > 0:\n",
    "        b += 1\n",
    "        q = n\n",
    "print(\"Butun: \", b, \" | \", \"Qoldiq: \", q)"
   ]
  },
  {
   "cell_type": "code",
   "execution_count": 5,
   "id": "551fb7ab",
   "metadata": {},
   "outputs": [
    {
     "name": "stdout",
     "output_type": "stream",
     "text": [
      "n = 27\n",
      "3 - ning darajasi\n"
     ]
    }
   ],
   "source": [
    "# N4: son 3 ning darajasiligini tekshirish\n",
    "\n",
    "n = abs(int(input(\"n = \")))\n",
    "\n",
    "while n > 0:\n",
    "    n -= 3\n",
    "    \n",
    "if n == 0:\n",
    "    print(\"3 - ning darajasi\")\n",
    "else:\n",
    "    print(\"3 - ning darajasi emas\")"
   ]
  },
  {
   "cell_type": "code",
   "execution_count": 84,
   "id": "d7c2b401",
   "metadata": {},
   "outputs": [
    {
     "name": "stdout",
     "output_type": "stream",
     "text": [
      "n = 32\n",
      "5\n"
     ]
    }
   ],
   "source": [
    "# N5: n = 2 ** k. k ni topish\n",
    "\n",
    "n = abs(int(input(\"n = \")))\n",
    "k = 0\n",
    "\n",
    "while n > 0:\n",
    "    k += 1\n",
    "    n //= 2\n",
    "k -= 1\n",
    "print(k)"
   ]
  },
  {
   "cell_type": "code",
   "execution_count": 15,
   "id": "28ccfb2a",
   "metadata": {},
   "outputs": [
    {
     "name": "stdout",
     "output_type": "stream",
     "text": [
      "n = 12\n",
      "46080\n"
     ]
    }
   ],
   "source": [
    "# N6\n",
    "\n",
    "n = abs(int(input(\"n = \")))\n",
    "\n",
    "s = 1\n",
    "\n",
    "while n > 0:\n",
    "    s *= n\n",
    "    n -= 2\n",
    "    \n",
    "print(s)"
   ]
  },
  {
   "cell_type": "code",
   "execution_count": 20,
   "id": "fb6dda36",
   "metadata": {},
   "outputs": [
    {
     "name": "stdout",
     "output_type": "stream",
     "text": [
      "n = 25\n",
      "6\n"
     ]
    }
   ],
   "source": [
    "# N7\n",
    "\n",
    "n = abs(int(input(\"n = \")))\n",
    "\n",
    "k = 0\n",
    "\n",
    "while k**2 <= n:\n",
    "    k += 1\n",
    "    \n",
    "print(k)"
   ]
  },
  {
   "cell_type": "code",
   "execution_count": 22,
   "id": "d62c9473",
   "metadata": {},
   "outputs": [
    {
     "name": "stdout",
     "output_type": "stream",
     "text": [
      "n = 100\n",
      "9\n"
     ]
    }
   ],
   "source": [
    "# N8\n",
    "\n",
    "n = abs(int(input(\"n = \")))\n",
    "\n",
    "k = n // 2\n",
    "\n",
    "while k**2 >= n:\n",
    "    k -= 1\n",
    "    \n",
    "print(k)"
   ]
  },
  {
   "cell_type": "code",
   "execution_count": 23,
   "id": "81e73ed9",
   "metadata": {},
   "outputs": [
    {
     "name": "stdout",
     "output_type": "stream",
     "text": [
      "n = 100\n",
      "5\n"
     ]
    }
   ],
   "source": [
    "# N9\n",
    "\n",
    "n = abs(int(input(\"n = \")))\n",
    "\n",
    "k = 0\n",
    "while 3 ** k < n:\n",
    "    k += 1\n",
    "print(k)"
   ]
  },
  {
   "cell_type": "code",
   "execution_count": 24,
   "id": "95beb86e",
   "metadata": {},
   "outputs": [
    {
     "name": "stdout",
     "output_type": "stream",
     "text": [
      "n = 100\n",
      "4\n"
     ]
    }
   ],
   "source": [
    "# N10\n",
    "\n",
    "n = abs(int(input(\"n = \")))\n",
    "\n",
    "k = n\n",
    "\n",
    "while 3 ** k > n:\n",
    "    k -= 1\n",
    "    \n",
    "print(k)"
   ]
  },
  {
   "cell_type": "code",
   "execution_count": 25,
   "id": "14767234",
   "metadata": {},
   "outputs": [
    {
     "name": "stdout",
     "output_type": "stream",
     "text": [
      "n = 12\n",
      "6 15\n"
     ]
    }
   ],
   "source": [
    "# N11\n",
    "\n",
    "n = abs(int(input(\"n = \")))\n",
    "\n",
    "k = 0\n",
    "s = 1\n",
    "while k < n:\n",
    "    k += s\n",
    "    s += 1\n",
    "    \n",
    "print(s, k)"
   ]
  },
  {
   "cell_type": "code",
   "execution_count": 50,
   "id": "c98d2c61",
   "metadata": {},
   "outputs": [
    {
     "name": "stdout",
     "output_type": "stream",
     "text": [
      "n = 20\n",
      "5 15\n"
     ]
    }
   ],
   "source": [
    "# N12\n",
    "\n",
    "n = abs(int(input(\"n = \")))\n",
    "\n",
    "k = 0\n",
    "s = 1\n",
    "while k < n:\n",
    "    k += s\n",
    "    s += 1\n",
    "\n",
    "s -= 1\n",
    "k -= s\n",
    "s -= 1\n",
    "print(s, k)"
   ]
  },
  {
   "cell_type": "code",
   "execution_count": 43,
   "id": "cdc5222b",
   "metadata": {},
   "outputs": [
    {
     "name": "stdout",
     "output_type": "stream",
     "text": [
      "n = 12\n",
      "91381 12.000003051665617\n"
     ]
    }
   ],
   "source": [
    "# N13\n",
    "\n",
    "n = abs(int(input(\"n = \")))\n",
    "\n",
    "k = 0\n",
    "s = 1\n",
    "while k < n:\n",
    "    k += 1/s\n",
    "    s += 1\n",
    "    \n",
    "print(s, k)"
   ]
  },
  {
   "cell_type": "code",
   "execution_count": 51,
   "id": "9dcdb554",
   "metadata": {},
   "outputs": [
    {
     "name": "stdout",
     "output_type": "stream",
     "text": [
      "n = 12\n",
      "91379 11.999992108351982\n"
     ]
    }
   ],
   "source": [
    "# N14\n",
    "\n",
    "n = abs(int(input(\"n = \")))\n",
    "\n",
    "k = 0\n",
    "s = 1\n",
    "while k < n:\n",
    "    k += 1/s\n",
    "    s += 1\n",
    "\n",
    "s -= 1\n",
    "k -= 1/s\n",
    "s -= 1\n",
    "print(s, k)"
   ]
  },
  {
   "cell_type": "code",
   "execution_count": 53,
   "id": "cb36b62d",
   "metadata": {},
   "outputs": [
    {
     "name": "stdout",
     "output_type": "stream",
     "text": [
      "s = 100\n",
      "p% = 2\n",
      "203.98873437157042 36\n"
     ]
    }
   ],
   "source": [
    "# N15\n",
    "\n",
    "s = abs(int(input(\"s = \")))\n",
    "p = abs(int(input(\"p% = \")))\n",
    "\n",
    "oy = 0\n",
    "pul = s\n",
    "\n",
    "while pul < 2*s:\n",
    "    pul += pul * p/100\n",
    "    oy += 1\n",
    "\n",
    "print(pul, oy)"
   ]
  },
  {
   "cell_type": "code",
   "execution_count": 54,
   "id": "2f372be0",
   "metadata": {},
   "outputs": [
    {
     "name": "stdout",
     "output_type": "stream",
     "text": [
      "s = 100\n",
      "p% = 5\n",
      "62 205.93802448270546\n"
     ]
    }
   ],
   "source": [
    "# N16\n",
    "\n",
    "s = abs(int(input(\"s = \")))\n",
    "p = abs(int(input(\"p% = \")))\n",
    "\n",
    "kun = 0\n",
    "yugur = 10\n",
    "\n",
    "while yugur < 200:\n",
    "    yugur += yugur * p/100\n",
    "    kun += 1\n",
    "\n",
    "print(kun, yugur)"
   ]
  },
  {
   "cell_type": "code",
   "execution_count": 58,
   "id": "1298c815",
   "metadata": {},
   "outputs": [
    {
     "name": "stdout",
     "output_type": "stream",
     "text": [
      "n = 22\n",
      "m = 5\n",
      "4 2\n"
     ]
    }
   ],
   "source": [
    "# N17\n",
    "\n",
    "n = abs(int(input(\"n = \")))\n",
    "m = abs(int(input(\"m = \")))\n",
    "\n",
    "a = max(n,m)\n",
    "b = min(n,m)\n",
    "butun = 0\n",
    "while a > 0:\n",
    "    a -= b\n",
    "    butun += 1\n",
    "a += b\n",
    "butun -= 1\n",
    "print(butun, a)"
   ]
  },
  {
   "cell_type": "code",
   "execution_count": 63,
   "id": "8a80f64c",
   "metadata": {},
   "outputs": [
    {
     "name": "stdout",
     "output_type": "stream",
     "text": [
      "n = 123456789\n",
      "987654321\n"
     ]
    }
   ],
   "source": [
    "# N18: n sonini raqamlarini teskarisiga chiqarish\n",
    "\n",
    "n = int(input(\"n = \"))\n",
    "\n",
    "a = n % 10\n",
    "n //= 10\n",
    "b = 10\n",
    "while n > 0:\n",
    "    a = a * b + (n % 10)\n",
    "    n //= 10\n",
    "    \n",
    "print(a)"
   ]
  },
  {
   "cell_type": "code",
   "execution_count": 67,
   "id": "bb37e200",
   "metadata": {},
   "outputs": [
    {
     "name": "stdout",
     "output_type": "stream",
     "text": [
      "n = 1234\n",
      "Yig'indi:  10 | raqamlar soni:  4\n"
     ]
    }
   ],
   "source": [
    "# N19\n",
    "\n",
    "n = int(input(\"n = \"))\n",
    "\n",
    "raqamlar = 0\n",
    "yigindi = 0\n",
    "while n > 0:\n",
    "    yigindi += n % 10\n",
    "    n //= 10\n",
    "    raqamlar += 1\n",
    "print(\"Yig'indi: \", yigindi, \"| raqamlar soni: \", raqamlar)"
   ]
  },
  {
   "cell_type": "code",
   "execution_count": 72,
   "id": "99e62744",
   "metadata": {},
   "outputs": [
    {
     "name": "stdout",
     "output_type": "stream",
     "text": [
      "n = 1445\n",
      "2 raqami yo'q.\n"
     ]
    }
   ],
   "source": [
    "# N20\n",
    "\n",
    "n = int(input(\"n = \"))\n",
    "\n",
    "bor = False\n",
    "while n > 0:\n",
    "    if n % 10 == 2:\n",
    "        bor = True\n",
    "        break\n",
    "    n //= 10\n",
    "    \n",
    "if bor:\n",
    "    print(\"2 raqami bor.\")\n",
    "else:\n",
    "    print(\"2 raqami yo'q.\")"
   ]
  },
  {
   "cell_type": "code",
   "execution_count": 74,
   "id": "e91ce4a7",
   "metadata": {},
   "outputs": [
    {
     "name": "stdout",
     "output_type": "stream",
     "text": [
      "n = 246\n",
      "Toq raqami yo'q.\n"
     ]
    }
   ],
   "source": [
    "# N21\n",
    "\n",
    "n = int(input(\"n = \"))\n",
    "\n",
    "bor = False\n",
    "while n > 0:\n",
    "    if n % 2 == 1:\n",
    "        bor = True\n",
    "        break\n",
    "    n //= 10\n",
    "    \n",
    "if bor:\n",
    "    print(\"Toq raqami bor.\")\n",
    "else:\n",
    "    print(\"Toq raqami yo'q.\")"
   ]
  },
  {
   "cell_type": "code",
   "execution_count": 79,
   "id": "33791a70",
   "metadata": {},
   "outputs": [
    {
     "name": "stdout",
     "output_type": "stream",
     "text": [
      "n = 11\n",
      "Tub son.\n"
     ]
    }
   ],
   "source": [
    "# N22\n",
    "\n",
    "n = int(input(\"n = \"))\n",
    "\n",
    "s = 0\n",
    "k = n\n",
    "while k > 0:\n",
    "    if n % k == 0:\n",
    "        s += 1\n",
    "    k -= 1\n",
    "\n",
    "if s == 2:\n",
    "    print(\"Tub son.\")\n",
    "else:\n",
    "    print(\"Tub emas.\")"
   ]
  },
  {
   "cell_type": "code",
   "execution_count": 82,
   "id": "6a72e640",
   "metadata": {},
   "outputs": [
    {
     "name": "stdout",
     "output_type": "stream",
     "text": [
      "a = 20\n",
      "b = 30\n",
      "10\n"
     ]
    }
   ],
   "source": [
    "# N23\n",
    "\n",
    "a = int(input(\"a = \"))\n",
    "b = int(input(\"b = \"))\n",
    "\n",
    "m = min(a,b)\n",
    "\n",
    "while m > 0:\n",
    "    if a % m == 0 and b % m == 0:\n",
    "        print(m)\n",
    "        break\n",
    "    m -= 1"
   ]
  },
  {
   "cell_type": "code",
   "execution_count": 85,
   "id": "af4be96f",
   "metadata": {},
   "outputs": [
    {
     "name": "stdout",
     "output_type": "stream",
     "text": [
      "n = 21\n",
      "Fibonachi soni\n"
     ]
    }
   ],
   "source": [
    "# N24\n",
    "\n",
    "n = int(input(\"n = \"))\n",
    "\n",
    "f1 = 0\n",
    "f2 = 1\n",
    "fn = f1 + f2\n",
    "\n",
    "while fn < n:\n",
    "    f1 = f2\n",
    "    f2 = fn\n",
    "    fn = f1 + f2\n",
    "    \n",
    "if fn == n:\n",
    "    print(\"Fibonachi soni\")\n",
    "else:\n",
    "    print(\"Fibonachi soni emas\")"
   ]
  },
  {
   "cell_type": "code",
   "execution_count": 89,
   "id": "fb3c96cf",
   "metadata": {},
   "outputs": [
    {
     "name": "stdout",
     "output_type": "stream",
     "text": [
      "n = 5\n",
      "8\n"
     ]
    }
   ],
   "source": [
    "# N25\n",
    "\n",
    "n = int(input(\"n = \"))\n",
    "\n",
    "f1 = 0\n",
    "f2 = 1\n",
    "fn = f1 + f2\n",
    "\n",
    "while fn < n:\n",
    "    f1 = f2\n",
    "    f2 = fn\n",
    "    fn = f1 + f2\n",
    "    \n",
    "f1 = f2\n",
    "f2 = fn\n",
    "fn = f1 + f2\n",
    "print(fn)"
   ]
  },
  {
   "cell_type": "code",
   "execution_count": 95,
   "id": "7ff57555",
   "metadata": {},
   "outputs": [
    {
     "name": "stdout",
     "output_type": "stream",
     "text": [
      "n = 5\n",
      "Oldingi:  3\n",
      "Keyingi:  8\n"
     ]
    }
   ],
   "source": [
    "# N26\n",
    "\n",
    "n = int(input(\"n = \"))\n",
    "\n",
    "f1 = 0\n",
    "f2 = 1\n",
    "fn = f1 + f2\n",
    "\n",
    "while fn < n:\n",
    "    f1 = f2\n",
    "    f2 = fn\n",
    "    fn = f1 + f2\n",
    "\n",
    "oldingi = fn - f1    \n",
    "print(\"Oldingi: \",oldingi)\n",
    "f1 = f2\n",
    "f2 = fn\n",
    "keyingi = f1 + f2\n",
    "print(\"Keyingi: \",keyingi)"
   ]
  },
  {
   "cell_type": "code",
   "execution_count": 98,
   "id": "55a345d8",
   "metadata": {},
   "outputs": [
    {
     "name": "stdout",
     "output_type": "stream",
     "text": [
      "n = 5\n",
      "6\n"
     ]
    }
   ],
   "source": [
    "# N27\n",
    "\n",
    "n = int(input(\"n = \"))\n",
    "\n",
    "f1 = 0\n",
    "f2 = 1\n",
    "fn = f1 + f2\n",
    "had = 3\n",
    "\n",
    "while fn != n:\n",
    "    f1 = f2\n",
    "    f2 = fn\n",
    "    fn = f1 + f2\n",
    "    had += 1\n",
    "\n",
    "print(had)"
   ]
  },
  {
   "cell_type": "code",
   "execution_count": 101,
   "id": "15a46453",
   "metadata": {},
   "outputs": [
    {
     "name": "stdout",
     "output_type": "stream",
     "text": [
      "e = 150\n",
      "2 2 2.5\n"
     ]
    }
   ],
   "source": [
    "# N28\n",
    "\n",
    "e = int(input(\"e = \"))\n",
    "\n",
    "a1 = 2\n",
    "ak = 2 + 1/a1\n",
    "k = 2\n",
    "\n",
    "while abs(ak - a1) >= e:\n",
    "    a1 = ak\n",
    "    ak = 2 + 1/a1\n",
    "    k += 1\n",
    "\n",
    "print(k, a1, ak)"
   ]
  },
  {
   "cell_type": "code",
   "execution_count": 105,
   "id": "aa8fd449",
   "metadata": {},
   "outputs": [
    {
     "name": "stdout",
     "output_type": "stream",
     "text": [
      "e = 50\n",
      "3 2 1.6666666666666667\n"
     ]
    }
   ],
   "source": [
    "# N29\n",
    "\n",
    "e = int(input(\"e = \"))\n",
    "\n",
    "a1 = 1\n",
    "a2 = 2\n",
    "ak = (a1 + 2 * a2) / 3\n",
    "k = 3\n",
    "\n",
    "while abs(ak - a1) >= e:\n",
    "    a1 = a2\n",
    "    a2 = ak\n",
    "    ak = (a1 + 2 * a2) / 3\n",
    "    k += 1\n",
    "    \n",
    "print(k, a2, ak)"
   ]
  },
  {
   "cell_type": "code",
   "execution_count": 114,
   "id": "644ed411",
   "metadata": {},
   "outputs": [
    {
     "name": "stdout",
     "output_type": "stream",
     "text": [
      "a = 5\n",
      "b = 10\n",
      "c = 1\n",
      "5\n",
      "10\n",
      "50\n"
     ]
    }
   ],
   "source": [
    "# N30\n",
    "\n",
    "a = int(input(\"a = \"))\n",
    "b = int(input(\"b = \"))\n",
    "c = int(input(\"c = \"))\n",
    "\n",
    "# a tomonga netcha c kesma sigishini topish\n",
    "s1 = 0\n",
    "while a > 0:\n",
    "    a -= c\n",
    "    s1 += 1\n",
    "    \n",
    "# b tomonga netcha c kesma sigishini topish\n",
    "s2 = 0\n",
    "while b > 0:\n",
    "    b -= c\n",
    "    s2 += 1\n",
    "\n",
    "# jami kvadratlar sonini topish\n",
    "s3 = s1\n",
    "while s2 > 0:\n",
    "    s1 += s3\n",
    "    s2 -= 1\n",
    "javob = s1-s3\n",
    "\n",
    "print(javob)"
   ]
  }
 ],
 "metadata": {
  "kernelspec": {
   "display_name": "Python 3 (ipykernel)",
   "language": "python",
   "name": "python3"
  },
  "language_info": {
   "codemirror_mode": {
    "name": "ipython",
    "version": 3
   },
   "file_extension": ".py",
   "mimetype": "text/x-python",
   "name": "python",
   "nbconvert_exporter": "python",
   "pygments_lexer": "ipython3",
   "version": "3.9.7"
  }
 },
 "nbformat": 4,
 "nbformat_minor": 5
}
