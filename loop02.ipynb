{
 "cells": [
  {
   "cell_type": "code",
   "execution_count": 37,
   "id": "415ac5b0",
   "metadata": {},
   "outputs": [
    {
     "name": "stdout",
     "output_type": "stream",
     "text": [
      "n = 5\n",
      "x = 1\n",
      "x = 2\n",
      "x = 3\n",
      "x = 4\n",
      "x = 5\n",
      "15\n"
     ]
    }
   ],
   "source": [
    "# 1.  n natural soni berilgan. 1 dan n gacha bo’lgan sonlarning yig'indisini \n",
    "# hisoblovchi dastur tuzing. \n",
    "# Kiritish: 7\n",
    "# 1 2 3 4 5 6 7\n",
    "# Natural sonlarning yig'indisi: 28\n",
    "\n",
    "n = int(input(\"n = \"))\n",
    "\n",
    "c = 0\n",
    "for i in range(n):\n",
    "    x = int(input(\"x = \"))\n",
    "    c += x\n",
    "print(c)"
   ]
  },
  {
   "cell_type": "code",
   "execution_count": 38,
   "id": "0292866c",
   "metadata": {},
   "outputs": [
    {
     "name": "stdout",
     "output_type": "stream",
     "text": [
      "n = 47\n",
      "Tub\n"
     ]
    }
   ],
   "source": [
    "# 3. Kiritilgan sonning tub yoki tub emasligini aniqlovchi dastur tuzing. \n",
    "# Kiritish: 47\n",
    "# Chiqarish: Tub\n",
    "\n",
    "n = int(input(\"n = \"))\n",
    "\n",
    "def tub_tezroq(n):\n",
    "    if n < 2:\n",
    "        return False\n",
    "    if n == 2:\n",
    "        return True\n",
    "    if n % 2 == 0:\n",
    "        return False\n",
    "    for i in range(3,n,2):\n",
    "        if n%i == 0:\n",
    "            return False\n",
    "    return True\n",
    "\n",
    "if tub_tezroq(n):\n",
    "    print(\"Tub\")\n",
    "else:\n",
    "    print(\"Tub emas\")"
   ]
  },
  {
   "cell_type": "code",
   "execution_count": 41,
   "id": "d7b06119",
   "metadata": {},
   "outputs": [
    {
     "name": "stdout",
     "output_type": "stream",
     "text": [
      "n = 100\n",
      "2 3 5 7 11 13 17 19 23 29 31 37 41 43 47 53 59 61 67 71 73 79 83 89 97 \n",
      "1 dan 100 gacha bo'lgan tub sonlarning umumiy soni:  25\n"
     ]
    }
   ],
   "source": [
    "# 4. 1 dan n gacha bo’lgan sonlar oralig’idagi tub sonlarni va ularning sonini \n",
    "# ekranga chiqaruvchi dastur tuzing \n",
    "# Kiritish: 100\n",
    "# Chiqarish:\n",
    "# 2 3 5 7 11 13 17 19 23 29 31 37 41 43 47 53 59 61 67 71 73 79 83 89 97\n",
    "# 1 dan 100 gacha bo'lgan tub sonlarning umumiy soni: 25\n",
    "\n",
    "n = int(input(\"n = \"))\n",
    "son = 0\n",
    "\n",
    "def tub_tezroq(n):\n",
    "    if n < 2:\n",
    "        return False\n",
    "    if n == 2:\n",
    "        return True\n",
    "    if n % 2 == 0:\n",
    "        return False\n",
    "    for i in range(3,n,2):\n",
    "        if n%i == 0:\n",
    "            return False\n",
    "    return True\n",
    "\n",
    "for i in range(1,n):\n",
    "    if tub_tezroq(i):\n",
    "        print(i, end=\" \")\n",
    "        son += 1\n",
    "print()\n",
    "print(f\"1 dan {n} gacha bo'lgan tub sonlarning umumiy soni: \", son)"
   ]
  },
  {
   "cell_type": "code",
   "execution_count": 42,
   "id": "a8f56d89",
   "metadata": {},
   "outputs": [
    {
     "name": "stdout",
     "output_type": "stream",
     "text": [
      "n = 5\n",
      "120\n"
     ]
    }
   ],
   "source": [
    "# 5. n soni berilgan. n faktorialni hisoblovchi dastur tuzing ( n!=1*2*3*…*n ).\n",
    "# Kiritish: 5\n",
    "# Chiqarish: 120 \n",
    "\n",
    "n = int(input(\"n = \"))\n",
    "fact = 1\n",
    "\n",
    "for i in range(1,n+1):\n",
    "    fact *= i\n",
    "print(fact)"
   ]
  },
  {
   "cell_type": "code",
   "execution_count": 43,
   "id": "ea7f4901",
   "metadata": {},
   "outputs": [
    {
     "name": "stdout",
     "output_type": "stream",
     "text": [
      "n = 50\n",
      "47\n"
     ]
    }
   ],
   "source": [
    "# 6. n soni berilgan. n gacha bo’lgan tub sonlarning oxirgisini aniqlovchi dastur \n",
    "# tuzing. \n",
    "# Kiritish: 50\n",
    "# Chiqarish: 47\n",
    "\n",
    "n = int(input(\"n = \"))\n",
    "oxirgi = 0\n",
    "\n",
    "def tub_tezroq(n):\n",
    "    if n < 2:\n",
    "        return False\n",
    "    if n == 2:\n",
    "        return True\n",
    "    if n % 2 == 0:\n",
    "        return False\n",
    "    for i in range(3,n,2):\n",
    "        if n%i == 0:\n",
    "            return False\n",
    "    return True\n",
    "\n",
    "for i in range(1,n):\n",
    "    if tub_tezroq(i):\n",
    "        oxirgi = i\n",
    "print(oxirgi)"
   ]
  },
  {
   "cell_type": "code",
   "execution_count": 44,
   "id": "e8f7e15a",
   "metadata": {},
   "outputs": [
    {
     "name": "stdout",
     "output_type": "stream",
     "text": [
      "a = 45\n",
      "b = 135\n",
      "45\n"
     ]
    }
   ],
   "source": [
    "# 7. Ikki sonning eng katta umumiy bo'linuvchisini (EKUB) aniqlovchi dastur tuzing.\n",
    "# Kiritish: 45\n",
    "#          135\n",
    "# Chiqarish: 45\n",
    "\n",
    "a = int(input(\"a = \"))\n",
    "b = int(input(\"b = \"))\n",
    "r = min(a,b)\n",
    "ekub = 1\n",
    "\n",
    "for i in range(2,r+1):\n",
    "    if a % i == 0 and b % i == 0:\n",
    "        ekub = i\n",
    "print(ekub)"
   ]
  },
  {
   "cell_type": "code",
   "execution_count": 47,
   "id": "22573ae6",
   "metadata": {},
   "outputs": [
    {
     "name": "stdout",
     "output_type": "stream",
     "text": [
      "n = 147852\n",
      "27\n"
     ]
    }
   ],
   "source": [
    "# 8.  Berilgan sonning raqamlari yig'indisini aniqlovchi dastur tuzing.\n",
    "# Kiritish: 147852 \n",
    "# Chiqarish: 27\n",
    "\n",
    "n = int(input(\"n = \"))\n",
    "yigindi = 0\n",
    "\n",
    "for i in str(n):\n",
    "    yigindi += int(i)\n",
    "print(yigindi)"
   ]
  },
  {
   "cell_type": "code",
   "execution_count": 30,
   "id": "450315b0",
   "metadata": {},
   "outputs": [
    {
     "name": "stdout",
     "output_type": "stream",
     "text": [
      "n = 3\n",
      "10\n"
     ]
    }
   ],
   "source": [
    "# 9.   n soni berilgan. \n",
    "# (1) + (1 + 2) + (1 + 2 + 3) + (1 + 2 + 3 + 4) + ... + (1 + 2 + 3 +…n) ni \n",
    "# hisoblovchi dastur tuzing.\n",
    "# Kiritish: 3 \n",
    "# Chiqarish: 10\n",
    "\n",
    "n = int(input(\"n = \"))\n",
    "yigindi = 0\n",
    "jam = 0\n",
    "for i in range(1,n+1):\n",
    "    jam += i\n",
    "    yigindi += jam\n",
    "        \n",
    "print(yigindi)"
   ]
  },
  {
   "cell_type": "code",
   "execution_count": 54,
   "id": "b0dc8376",
   "metadata": {},
   "outputs": [
    {
     "name": "stdout",
     "output_type": "stream",
     "text": [
      "n = 3\n",
      "n = 4\n",
      "n = 5\n",
      "n = -4\n",
      "n = -5\n",
      "n = -1\n",
      "min:  3\n",
      "max:  5\n",
      "jami musbat sonlar:  3\n"
     ]
    }
   ],
   "source": [
    "# 10. Oxiri -1 bilan tugovchi sonlar ketma-ketligi berilgan, shu ketma-ketlikda\n",
    "# nechta musbat son borligini va Maksimum, minimum qiymatlarini topuvchi dastur\n",
    "# tuzing?\n",
    "\n",
    "run = True\n",
    "\n",
    "c = 0\n",
    "n_min = None\n",
    "n_max = None\n",
    "first = True\n",
    "\n",
    "while run:\n",
    "    n = int(input(\"n = \"))\n",
    "    if n == -1:\n",
    "        run = False\n",
    "        break\n",
    "    if n > 0 and first:\n",
    "        n_min = n\n",
    "        n_max = n\n",
    "        c += 1\n",
    "        first = False\n",
    "        continue\n",
    "    if n > 0:\n",
    "        c += 1\n",
    "        if n > n_max:\n",
    "            n_max = n\n",
    "        if n < n_min:\n",
    "            n_min = n\n",
    "print(\"min: \", n_min)\n",
    "print(\"max: \", n_max)\n",
    "print(\"jami musbat sonlar: \", c)"
   ]
  },
  {
   "cell_type": "code",
   "execution_count": 5,
   "id": "b2bc0d99",
   "metadata": {},
   "outputs": [
    {
     "name": "stdout",
     "output_type": "stream",
     "text": [
      "n = 25\n",
      "4 6 8 9 10 12 14 15 16 18 20 21 22 24 25 "
     ]
    }
   ],
   "source": [
    "# 11. n soni berilgan. Berilgan songacha bo’lgan murakkab sonlarni ekranga \n",
    "# chiqaruvchi dastur tuzing. \n",
    "# Kiritish: 25\n",
    "# Chiqarish: 4 6 8 9 10 12 14 15 16 18 20 21 22 24 25\n",
    "\n",
    "n = int(input(\"n = \"))\n",
    "\n",
    "def murakkab(a):\n",
    "    b = 0\n",
    "    for j in range(1,a+1):\n",
    "        if a % j == 0:\n",
    "            b += 1\n",
    "    if b > 2:\n",
    "        return True\n",
    "    return False\n",
    "\n",
    "for i in range(1, n+1):\n",
    "    if murakkab(i):\n",
    "        print(i, end=\" \")"
   ]
  },
  {
   "cell_type": "code",
   "execution_count": 14,
   "id": "1bbe9ba0",
   "metadata": {},
   "outputs": [
    {
     "name": "stdout",
     "output_type": "stream",
     "text": [
      "n = 4\n",
      "# # # #\n",
      "# # # #\n",
      "# # # #\n",
      "# # # #\n"
     ]
    }
   ],
   "source": [
    "# 12. n soni berilgan. Tomoni n ga teng bo’lgan kvadrat yasang. Kvadratni \n",
    "#  << # >> belgisi bilan bosib chiqaruvchi dastur tuzing.  \n",
    "# Kiritish: 4\n",
    "# Chiqarish:\n",
    "# # # #\n",
    "# # # #\n",
    "# # # #\n",
    "# # # # \n",
    "\n",
    "n = int(input(\"n = \"))\n",
    "\n",
    "for i in range(n):\n",
    "    for j in range(n-1):\n",
    "        print(\"#\", end=\" \")\n",
    "    print(\"#\")"
   ]
  },
  {
   "cell_type": "code",
   "execution_count": 44,
   "id": "5edc38d3",
   "metadata": {},
   "outputs": [
    {
     "name": "stdout",
     "output_type": "stream",
     "text": [
      "n = 5\n",
      "1 x 1 = 1  2 x 1 = 2  3 x 1 = 3  4 x 1 = 4  5 x 1 = 5  6 x 1 = 6  7 x 1 = 7  8 x 1 = 8  9 x 1 = 9  \n",
      "1 x 2 = 2  2 x 2 = 4  3 x 2 = 6  4 x 2 = 8  5 x 2 = 10  6 x 2 = 12  7 x 2 = 14  8 x 2 = 16  9 x 2 = 18  \n",
      "1 x 3 = 3  2 x 3 = 6  3 x 3 = 9  4 x 3 = 12  5 x 3 = 15  6 x 3 = 18  7 x 3 = 21  8 x 3 = 24  9 x 3 = 27  \n",
      "1 x 4 = 4  2 x 4 = 8  3 x 4 = 12  4 x 4 = 16  5 x 4 = 20  6 x 4 = 24  7 x 4 = 28  8 x 4 = 32  9 x 4 = 36  \n",
      "1 x 5 = 5  2 x 5 = 10  3 x 5 = 15  4 x 5 = 20  5 x 5 = 25  6 x 5 = 30  7 x 5 = 35  8 x 5 = 40  9 x 5 = 45  \n"
     ]
    }
   ],
   "source": [
    "# 13. 1 dan n gacha vertikal ravishda ko'paytirish jadvalini ko'rsatuvchi dastur \n",
    "# yozing. \n",
    "# Kiritish: 5\n",
    "# Chiqarish:  \n",
    "# 1x1 = 1    2x1 = 2      3x1 = 3     4x1 = 4     5x1 = 5\n",
    "# 1x2 = 2    2x2 = 4      3x2 = 6     4x2 = 8     5x2 = 10\n",
    "# 1x3 = 3    2x3 = 6      3x3 = 9     4x3 = 12    5x3 = 15\n",
    "# 1x4 = 4    2x4 = 8      3x4 = 12    4x4 = 16    5x4 = 20\n",
    "# 1x5 = 5    2x5 = 10     3x5 = 15    4x5 = 20    5x5 = 25\n",
    "# 1x6 = 6    2x6 = 12.    3x6 = 18    4x6 = 24    5x6 = 30\n",
    "# 1x7 = 7    2x7 = 14     3x7 = 21    4x7 = 28    5x7 = 35\n",
    "# 1x8 = 8    2x8 = 16     3x8 = 24    4x8 = 32    5x8 = 40\n",
    "# 1x9 = 9    2x9 = 18     3x9 = 27    4x9 = 36    5x9 = 45\n",
    "# 1x10 = 10  2x10 = 20    3x10 = 30   4x10 = 40   5x10 = 50\n",
    "\n",
    "n = int(input(\"n = \"))\n",
    "\n",
    "for i in range(1, n+1):\n",
    "    for j in range(1, 10):\n",
    "        print(j, \"x\", i, \"=\", i*j, end=\"  \")\n",
    "    print()"
   ]
  },
  {
   "cell_type": "code",
   "execution_count": 4,
   "id": "c909c5cb",
   "metadata": {},
   "outputs": [
    {
     "name": "stdout",
     "output_type": "stream",
     "text": [
      "n = 10\n",
      "1 3 5 7 9 \n",
      "Yig'indi:  25\n"
     ]
    }
   ],
   "source": [
    "# 14. N musbat soni berilgan. Dastlabki N ta toq sonlarni ekranga chiqaruvchi va \n",
    "# ularning yig’indisini aniqlovchi dastur tuzing.\n",
    "# Kiritish: 10 \n",
    "# Chiqarish: 1 3 5 7 9  .........  25\n",
    "\n",
    "n = int(input(\"n = \"))\n",
    "c = 0\n",
    "\n",
    "for i in range(1, n+1):\n",
    "    if i % 2 == 1:\n",
    "        print(i, end=\" \")\n",
    "        c += i\n",
    "print()\n",
    "print(\"Yig'indi: \", c)"
   ]
  },
  {
   "cell_type": "code",
   "execution_count": 3,
   "id": "0dd893da",
   "metadata": {},
   "outputs": [
    {
     "name": "stdout",
     "output_type": "stream",
     "text": [
      "n = 10\n",
      "2 4 6 8 10 \n",
      "Yig'indi:  30\n"
     ]
    }
   ],
   "source": [
    "# 15. N musbat soni berilgan. Dastlabki Nta juft sonlarni ekranga chiqaruvchi \n",
    "# va ularning yig’indisini aniqlovchi dastur tuzing.\n",
    "# Kiritish: 10 \n",
    "# Chiqarish: 2 4 6 8 10             Yig'indisi = 30 \n",
    "\n",
    "n = int(input(\"n = \"))\n",
    "c = 0\n",
    "\n",
    "for i in range(1, n+1):\n",
    "    if i % 2 == 0:\n",
    "        print(i, end=\" \")\n",
    "        c += i\n",
    "print()\n",
    "print(\"Yig'indi: \", c)"
   ]
  },
  {
   "cell_type": "code",
   "execution_count": 26,
   "id": "c8a14552",
   "metadata": {},
   "outputs": [
    {
     "name": "stdout",
     "output_type": "stream",
     "text": [
      "n = 5\n",
      "12345\n"
     ]
    }
   ],
   "source": [
    "# 16. 1 + 11 + 111 + 1111 + …+ n qatorlarining yig'indisini aniqlovchi dastur tuzing. \n",
    "# Kiritish: 5\n",
    "# Chiqarish: 12345\n",
    "\n",
    "n = int(input(\"n = \"))\n",
    "c = 0\n",
    "s = \"\"\n",
    "\n",
    "for i in range(1, n+1):\n",
    "    s = \"1\" * i\n",
    "    c += int(s)\n",
    "print(c)"
   ]
  },
  {
   "cell_type": "code",
   "execution_count": 27,
   "id": "8494b74a",
   "metadata": {},
   "outputs": [
    {
     "name": "stdout",
     "output_type": "stream",
     "text": [
      "n (n>1) = 10\n",
      "1 1 2 3 5 8 13 21 34 55 "
     ]
    }
   ],
   "source": [
    "# 17. Fibonachchi sonlarining dastlabki n tasini ekranga chiqaruvchi dastur tuzing.\n",
    "# Kiritish: 10\n",
    "# Chiqarish: 1 1 2 3 5 8 13 21 34 55\n",
    "\n",
    "n = abs(int(input(\"n (n>1) = \")))\n",
    "\n",
    "k1 = 1\n",
    "k2 = 1\n",
    "\n",
    "print(k1, k2, end=\" \")\n",
    "\n",
    "for i in range(3,n+1):\n",
    "    k3 = k1 + k2\n",
    "    \n",
    "    print(k3, end=\" \")\n",
    "    \n",
    "    k1 = k2\n",
    "    k2 = k3"
   ]
  },
  {
   "cell_type": "code",
   "execution_count": 18,
   "id": "51837357",
   "metadata": {},
   "outputs": [],
   "source": [
    "# 18. S musbat soni berilgan. Ushbu sonni ikki tub son yig’indisi ko’rinishida \n",
    "# ifodalash mumkinligini aniqlovchi dastur tuzing. Shu sonlarni ekranga chiqaring.\n",
    "# Kiritish: 20\n",
    "# Chiqarish: Mumkin – 3 va 17\n",
    "\n"
   ]
  },
  {
   "cell_type": "code",
   "execution_count": 36,
   "id": "fb241990",
   "metadata": {},
   "outputs": [
    {
     "name": "stdout",
     "output_type": "stream",
     "text": [
      "n = 5\n",
      "* \n",
      "* * \n",
      "* * * \n",
      "* * * * \n",
      "* * * * * \n"
     ]
    }
   ],
   "source": [
    "# 19. n musbat soni berilgan. Yulduzcha yordamida to'g'ri burchakli uchburchak \n",
    "# shaklini  ekranga chiqaruvchi dastur tuzing. \n",
    "# Kiritish: 5 \n",
    "# Chiqarish:\n",
    "# *\n",
    "# **\n",
    "# ***\n",
    "# ****\n",
    "# *****\n",
    "\n",
    "n = int(input(\"n = \"))\n",
    "\n",
    "for i in range(1, n+1):\n",
    "    for j in range(1, i+1):\n",
    "        print(\"*\", end=\" \")\n",
    "    print()"
   ]
  },
  {
   "cell_type": "code",
   "execution_count": 35,
   "id": "66553675",
   "metadata": {},
   "outputs": [
    {
     "name": "stdout",
     "output_type": "stream",
     "text": [
      "n = 5\n",
      "1 \n",
      "1 2 \n",
      "1 2 3 \n",
      "1 2 3 4 \n",
      "1 2 3 4 5 \n"
     ]
    }
   ],
   "source": [
    "# 20. n musbat soni berilgan. Ekranga quyidagi “sonli uchburchak”ni chiqaruvchi \n",
    "# dastur tuzing. \n",
    "# Kiritish: 5\n",
    "# Chiqarish: \n",
    "# 1\n",
    "# 12\n",
    "# 123\n",
    "# 1234\n",
    "# 12345\n",
    "\n",
    "n = int(input(\"n = \"))\n",
    "\n",
    "for i in range(1, n+1):\n",
    "    for j in range(1, i+1):\n",
    "        print(j, end=\" \")\n",
    "    print()"
   ]
  },
  {
   "cell_type": "code",
   "execution_count": 37,
   "id": "c7da0941",
   "metadata": {},
   "outputs": [
    {
     "name": "stdout",
     "output_type": "stream",
     "text": [
      "n = 5\n",
      "1 \n",
      "2 2 \n",
      "3 3 3 \n",
      "4 4 4 4 \n",
      "5 5 5 5 5 \n"
     ]
    }
   ],
   "source": [
    "# 21. n musbat soni berilgan. Ekranga quyidagi “sonli uchburchak”ni chiqaruvchi \n",
    "# dastur tuzing. \n",
    "# Kiritish: 5\n",
    "# Chiqarish:\n",
    "# 1                                                                                                             \n",
    "# 22                                                                                                      \n",
    "# 333                                                                                                         \n",
    "# 4444                                                                                                         \n",
    "# 55555\n",
    "\n",
    "n = int(input(\"n = \"))\n",
    "\n",
    "for i in range(1, n+1):\n",
    "    for j in range(1, i+1):\n",
    "        print(i, end=\" \")\n",
    "    print()"
   ]
  },
  {
   "cell_type": "code",
   "execution_count": 39,
   "id": "1f53fc46",
   "metadata": {},
   "outputs": [
    {
     "name": "stdout",
     "output_type": "stream",
     "text": [
      "n = 5\n",
      "1 \n",
      "2 3 \n",
      "4 5 6 \n",
      "7 8 9 10 \n",
      "11 12 13 14 15 \n"
     ]
    }
   ],
   "source": [
    "# 22. n musbat soni berilgan. Ekranga quyidagi “sonli uchburchak”ni chiqaruvchi \n",
    "# dastur tuzing. \n",
    "# Kiritish: 5\n",
    "# Chiqarish:                                                                                   \n",
    "# 1                                                                                  \n",
    "# 2 3                                                                                                         \n",
    "# 4 5 6                                                                                                       \n",
    "# 7 8 9 10 \n",
    "# 11 12 13 14 15\n",
    "\n",
    "n = int(input(\"n = \"))\n",
    "c = 1\n",
    "for i in range(1, n+1):\n",
    "    for j in range(1, i+1):\n",
    "        print(c, end=\" \")\n",
    "        c += 1\n",
    "    print()"
   ]
  },
  {
   "cell_type": "code",
   "execution_count": 64,
   "id": "2c31d414",
   "metadata": {},
   "outputs": [
    {
     "name": "stdout",
     "output_type": "stream",
     "text": [
      "n = 4\n",
      "    1 \n",
      "   2 3 \n",
      "  4 5 6 \n",
      " 7 8 9 10 \n"
     ]
    }
   ],
   "source": [
    "# 23. n musbat soni berilgan. Ekranga quyidagi “sonli piramida”ni chiqaruvchi \n",
    "# dastur tuzing. \n",
    "# Kiritish: 4\n",
    "# Chiqarish:\n",
    "#    1                                                               \n",
    "#   2 3                                                        \n",
    "#  4 5 6                                                             \n",
    "# 7 8 9 10 \n",
    "\n",
    "n = int(input(\"n = \"))\n",
    "c = 1\n",
    "for i in range(n):\n",
    "    \n",
    "    for j in range(n - i):\n",
    "        print(end=\" \")\n",
    "        \n",
    "    for j in range(i + 1):\n",
    "        print(c, end=\" \")\n",
    "        c += 1\n",
    "    print()"
   ]
  },
  {
   "cell_type": "code",
   "execution_count": 65,
   "id": "231c2adf",
   "metadata": {},
   "outputs": [
    {
     "name": "stdout",
     "output_type": "stream",
     "text": [
      "n = 5\n",
      "     * \n",
      "    * * \n",
      "   * * * \n",
      "  * * * * \n",
      " * * * * * \n"
     ]
    }
   ],
   "source": [
    "# 24. n musbat soni berilgan. Ekranga n qatordan iborat “yulduzchali piramida” \n",
    "# ni chiqaruvchi dastur tuzing:\n",
    "# Kiritish: 5\n",
    "# Chiqarish:                                                \n",
    "#        *                                                              \n",
    "#       * *                                                             \n",
    "#      * * *                                                            \n",
    "#     * * * *                                                           \n",
    "#    * * * * *\n",
    "\n",
    "n = int(input(\"n = \"))\n",
    "\n",
    "for i in range(n):\n",
    "    \n",
    "    for j in range(n - i):\n",
    "        print(end=\" \")\n",
    "        \n",
    "    for j in range(i + 1):\n",
    "        print(\"*\", end=\" \")\n",
    "       \n",
    "    print()"
   ]
  },
  {
   "cell_type": "code",
   "execution_count": 66,
   "id": "814d3574",
   "metadata": {},
   "outputs": [
    {
     "name": "stdout",
     "output_type": "stream",
     "text": [
      "n = 5\n",
      "     1 \n",
      "    2 2 \n",
      "   3 3 3 \n",
      "  4 4 4 4 \n",
      " 5 5 5 5 5 \n"
     ]
    }
   ],
   "source": [
    "# 25. n musbat soni berilgan. Ekranga quyidagi “sonli piramida”ni chiqaruvchi \n",
    "# dastur tuzing.\n",
    "# Kiritish: 5\n",
    "# Chiqarish:                                              \n",
    "#        1                                                              \n",
    "#       2 2                                                             \n",
    "#      3 3 3                                                            \n",
    "#     4 4 4 4                                                           \n",
    "#    5 5 5 5 5  \n",
    "\n",
    "n = int(input(\"n = \"))\n",
    "c = 1\n",
    "for i in range(n):\n",
    "    \n",
    "    for j in range(n - i):\n",
    "        print(end=\" \")\n",
    "        \n",
    "    for j in range(i + 1):\n",
    "        print(c, end=\" \")\n",
    "    c += 1\n",
    "    print()"
   ]
  },
  {
   "cell_type": "code",
   "execution_count": 67,
   "id": "c08b0968",
   "metadata": {},
   "outputs": [
    {
     "name": "stdout",
     "output_type": "stream",
     "text": [
      "n = 5\n",
      "     * \n",
      "    * * \n",
      "   * * * \n",
      "  * * * * \n",
      " * * * * * \n"
     ]
    }
   ],
   "source": [
    "# 26. n musbat soni berilgan. Ekranga quyidagi toq qatorli “sonli piramida”ni \n",
    "# chiqaruvchi dastur tuzing.\n",
    "# Kiritish: 5\n",
    "# Chiqarish:                                                             \n",
    "#    *                                                                  \n",
    "#   ***                                                                 \n",
    "#  *****                                                                \n",
    "# ******* \n",
    "\n",
    "n = int(input(\"n = \"))\n",
    "\n",
    "for i in range(n):\n",
    "    \n",
    "    for j in range(n - i):\n",
    "        print(end=\" \")\n",
    "        \n",
    "    for j in range(i + 1):\n",
    "        print(\"*\", end=\" \")\n",
    "       \n",
    "    print()"
   ]
  },
  {
   "cell_type": "code",
   "execution_count": 79,
   "id": "2bd60be5",
   "metadata": {},
   "outputs": [
    {
     "name": "stdout",
     "output_type": "stream",
     "text": [
      "n = 5\n",
      "1\n",
      "01\n",
      "101\n",
      "0101\n",
      "10101\n"
     ]
    }
   ],
   "source": [
    "# 27. n musbat soni berilgan. Ekranga n qatorli Floyd uchburchagini chiqaruvchi \n",
    "# dastur tuzing.\n",
    "# Kiritish: 5\n",
    "# Chiqarish:                                             \n",
    "# 1                                                                      \n",
    "# 01                                                                     \n",
    "# 101                                                                    \n",
    "# 0101                                                                   \n",
    "# 10101\n",
    "\n",
    "n = int(input(\"n = \"))\n",
    "\n",
    "for i in range(1, n+1):\n",
    "    for j in range(1, i+1):\n",
    "        if (i + j) % 2 == 0: \n",
    "            print(\"1\", end=\"\")\n",
    "        else:\n",
    "            print(\"0\", end=\"\")  \n",
    "    print()"
   ]
  },
  {
   "cell_type": "code",
   "execution_count": 12,
   "id": "879b1769",
   "metadata": {},
   "outputs": [
    {
     "name": "stdout",
     "output_type": "stream",
     "text": [
      "n = 5\n",
      "     * \n",
      "    * * \n",
      "   * * * \n",
      "  * * * * \n",
      " * * * * * \n",
      " * * * * * \n",
      "  * * * * \n",
      "   * * * \n",
      "    * * \n",
      "     * \n"
     ]
    }
   ],
   "source": [
    "# 28. n musbat soni berilgan. Tomoni n ta yulduzchadan iborat bo’lgan romb shaklini \n",
    "# yasovchi dastur tuzing.\n",
    "# Kiritish: 5\n",
    "# Chiqarish:\n",
    "                                                                       \n",
    "#     *                                                                  \n",
    "#    ***                                                                 \n",
    "#   *****                                                                \n",
    "#  *******                                                               \n",
    "# *********                                                              \n",
    "#  *******                                                               \n",
    "#   *****                                                                \n",
    "#    ***                                                                 \n",
    "#     *\n",
    "\n",
    "n = int(input(\"n = \"))\n",
    "\n",
    "for i in range(n):\n",
    "    \n",
    "    for j in range(n - i):\n",
    "        print(end=\" \")\n",
    "        \n",
    "    for j in range(i + 1):\n",
    "        print(\"*\", end=\" \")\n",
    "       \n",
    "    print()\n",
    "\n",
    "for i in range(n):\n",
    "    \n",
    "    for j in range(i + 1):\n",
    "        print(end=\" \")\n",
    "        \n",
    "    for j in range(n - i):\n",
    "        print(\"*\", end=\" \")\n",
    "    \n",
    "    print()"
   ]
  },
  {
   "cell_type": "code",
   "execution_count": 1,
   "id": "9ae93ebc",
   "metadata": {},
   "outputs": [
    {
     "name": "stdout",
     "output_type": "stream",
     "text": [
      "n = 5\n",
      "    *\n",
      "   ***\n",
      "  *****\n",
      " *******\n",
      "*********\n",
      " *******\n",
      "  *****\n",
      "   ***\n",
      "    *\n"
     ]
    }
   ],
   "source": [
    "# 28. 2-variant.\n",
    "\n",
    "n = int(input('n = '))\n",
    "\n",
    "for i in range(1,n+1):\n",
    "    for j in range(n-i):\n",
    "        print(\" \",end='')\n",
    "    for j in range(2*i-1):\n",
    "        print('*',end='')\n",
    "    print()\n",
    "    \n",
    "for i in range(n-1,0,-1):\n",
    "    for j in range(n-i):\n",
    "        print(' ',end='')\n",
    "    for j in range(2*i-1):\n",
    "        print('*',end='')\n",
    "    print()"
   ]
  },
  {
   "cell_type": "code",
   "execution_count": 29,
   "id": "9e804297",
   "metadata": {},
   "outputs": [
    {
     "name": "stdout",
     "output_type": "stream",
     "text": [
      "n = 5\n",
      "      1 \n",
      "     1 1 \n",
      "    1 2 1 \n",
      "   1 3 3 1 \n",
      "  1 4 6 4 1 \n"
     ]
    }
   ],
   "source": [
    "# 29. n musbat soni berilgan. n-darajali Paskal uchburchagini piramida ko’rinishida \n",
    "# ekranga chiqaruvchi dastur tuzing.\n",
    "# Kiritish: 5\n",
    "# Chiqarish:                                  \n",
    "#          1                                                            \n",
    "#        1   1                                                          \n",
    "#      1   2   1                                                        \n",
    "#    1   3   3   1                                                      \n",
    "#  1   4   6   4   1\n",
    "import math\n",
    "\n",
    "n = int(input(\"n = \"))\n",
    "\n",
    "for i in range(n):\n",
    "    \n",
    "    for j in range(n - i + 1):\n",
    "        print(end=\" \")\n",
    "        \n",
    "    for j in range(i + 1): #(n r) -> n! / r! * (n - r)!\n",
    "        natija = math.factorial(i) // (math.factorial(j) * math.factorial(i - j))\n",
    "        print(natija, end=\" \")\n",
    "    \n",
    "    print()"
   ]
  },
  {
   "cell_type": "code",
   "execution_count": 49,
   "id": "3128898d",
   "metadata": {},
   "outputs": [
    {
     "name": "stdout",
     "output_type": "stream",
     "text": [
      "n = 5\n",
      "      1 \n",
      "     1 1 \n",
      "    1 2 1 \n",
      "   1 3 3 1 \n",
      "  1 4 6 4 1 \n"
     ]
    }
   ],
   "source": [
    "# 30. n musbat soni berilgan. Ekranga quyidagi “sonli piramida”ni chiqaruvchi dastur \n",
    "# tuzing.\n",
    "# Kiritish: 5\n",
    "# Chiqarish:\n",
    "#         1                                                                  \n",
    "#        121                                                                 \n",
    "#       12321                                                                \n",
    "#      1234321                                                               \n",
    "#     123454321\n",
    "\n",
    "import math\n",
    "\n",
    "n = int(input(\"n = \"))\n",
    "\n",
    "for i in range(n):\n",
    "    \n",
    "    for j in range(n - i + 1):\n",
    "        print(end=\" \")\n",
    "        \n",
    "    for j in range(i + 1): #(n r) -> n! / r! * (n - r)!\n",
    "        natija = math.factorial(i) // (math.factorial(j) * math.factorial(i - j))\n",
    "        print(natija, end=\" \")\n",
    "    \n",
    "    print()"
   ]
  },
  {
   "cell_type": "code",
   "execution_count": 2,
   "id": "adda4d65",
   "metadata": {},
   "outputs": [
    {
     "name": "stdout",
     "output_type": "stream",
     "text": [
      "n = 5\n",
      "    1\n",
      "   232\n",
      "  34543\n",
      " 4567654\n",
      "567898765\n"
     ]
    }
   ],
   "source": [
    "# 31.  n musbat soni berilgan. Ekranga quyidagi “sonli piramida”ni chiqaruvchi \n",
    "# dastur tuzing.\n",
    "# Kiritish: 5\n",
    "# Chiqarish:   \n",
    "#       1                                                                  \n",
    "#      232                                                                 \n",
    "#     34543                                                                \n",
    "#    4567654                                                               \n",
    "#   567898765\n",
    "\n",
    "n = int(input(\"n = \"))\n",
    "\n",
    "for i in range(1, n+1):\n",
    "    for j in range(n - i):\n",
    "        print(' ', end='')\n",
    "        \n",
    "    for j in range(i, 2*i):\n",
    "        print(j, end='')\n",
    "        \n",
    "    for j in range(2*i-2, i-1, -1):\n",
    "        print(j, end='')\n",
    "        \n",
    "    print()"
   ]
  },
  {
   "cell_type": "code",
   "execution_count": 4,
   "id": "aabcd746",
   "metadata": {},
   "outputs": [
    {
     "name": "stdout",
     "output_type": "stream",
     "text": [
      "n = 5\n",
      "0 1 2 3 4 \n",
      "1 0 1 2 3 \n",
      "2 1 0 1 2 \n",
      "3 2 1 0 1 \n",
      "4 3 2 1 0 \n"
     ]
    }
   ],
   "source": [
    "# 32. n musbat soni berilgan. Quyidagi ko’rinishdagi kvadratni ekranga chiqaruvchi \n",
    "# dastur tuzing.\n",
    "# Kiritish: 5\n",
    "# Chiqarish:\n",
    "# 0 1 2 3 4\n",
    "# 1 0 1 2 3\n",
    "# 2 1 0 1 2\n",
    "# 3 2 1 0 1\n",
    "# 4 3 2 1 0\n",
    "\n",
    "# Kiritish: 8\n",
    "# Chiqarish:                                                                                      \n",
    "# 0 1 2 3 4 5 6 7                                                                                        \n",
    "# 1 0 1 2 3 4 5 6                                                                                        \n",
    "# 2 1 0 1 2 3 4 5                                                                                        \n",
    "# 3 2 1 0 1 2 3 4                                                                                        \n",
    "# 4 3 2 1 0 1 2 3                                                                                        \n",
    "# 5 4 3 2 1 0 1 2                                                                                        \n",
    "# 6 5 4 3 2 1 0 1                                                                                        \n",
    "# 7 6 5 4 3 2 1 0\n",
    "\n",
    "n = int(input(\"n = \"))\n",
    "\n",
    "for i in range(n):\n",
    "    for j in range(n):\n",
    "        print(abs(i-j),sep='',end=' ')\n",
    "    print()"
   ]
  },
  {
   "cell_type": "code",
   "execution_count": 7,
   "id": "ba976713",
   "metadata": {},
   "outputs": [
    {
     "name": "stdout",
     "output_type": "stream",
     "text": [
      "n = 35\n",
      "100011\n"
     ]
    }
   ],
   "source": [
    "# 33. O'nli sanoq sistemasidagi sonlarni ikkilik sanoq sistemasiga o’tkazib beruvchi \n",
    "# dastur tuzing. \n",
    "# Kiritish: 35\n",
    "# Chiqarish: 100011\n",
    "\n",
    "n = int(input(\"n = \"))\n",
    "\n",
    "s = \"\"\n",
    "while n > 0:\n",
    "    if n % 2 == 0:\n",
    "        s = \"0\" + s\n",
    "    else:\n",
    "        s = \"1\" + s\n",
    "    n //= 2\n",
    "print(s)"
   ]
  },
  {
   "cell_type": "code",
   "execution_count": 8,
   "id": "e8de986f",
   "metadata": {},
   "outputs": [
    {
     "name": "stdout",
     "output_type": "stream",
     "text": [
      "n = 15\n",
      "17\n"
     ]
    }
   ],
   "source": [
    "# 34. O'nli sanoq sistemasidagi sonlarni sakkizlik sanoq sistemasiga o’tkazib \n",
    "# beruvchi dastur tuzing. \n",
    "# Kiritish: 15\n",
    "# Chiqarish: 17\n",
    "\n",
    "n = int(input(\"n = \"))\n",
    "\n",
    "s = \"\"\n",
    "while n > 0:\n",
    "    s = str(n % 8) + s\n",
    "    n //= 8\n",
    "print(s)"
   ]
  },
  {
   "cell_type": "code",
   "execution_count": 11,
   "id": "09e5fbab",
   "metadata": {},
   "outputs": [
    {
     "name": "stdout",
     "output_type": "stream",
     "text": [
      "n = 1011\n",
      "11\n"
     ]
    }
   ],
   "source": [
    "# 35. Ikkilik sanoq sistemasidagi sonlarni o’nlik sanoq sistemasiga o’tkazib beruvchi \n",
    "# dastur tuzing. \n",
    "# Kiritish: 1011\n",
    "# Chiqarish: 11\n",
    "\n",
    "n = int(input(\"n = \"))\n",
    "\n",
    "s = \"\"\n",
    "daraja = 0\n",
    "natija = 0\n",
    "\n",
    "while n > 0:\n",
    "    if n % 10 == 1:\n",
    "        natija += 2**daraja\n",
    "        daraja += 1\n",
    "    else:\n",
    "        daraja += 1\n",
    "    n //= 10\n",
    "print(natija)"
   ]
  },
  {
   "cell_type": "code",
   "execution_count": 33,
   "id": "7c9fb58c",
   "metadata": {},
   "outputs": [
    {
     "name": "stdout",
     "output_type": "stream",
     "text": [
      "a = 220\n",
      "b = 284\n",
      "Do'st sonlar\n"
     ]
    }
   ],
   "source": [
    "# 36. Do'st sonlar. Har birining bo'vchilari yig'indisi, ikkinchisini qiymatiga teng.\n",
    "# input: 220, 284\n",
    "# output: Do'st sonlar\n",
    "\n",
    "a = int(input(\"a = \"))\n",
    "b = int(input(\"b = \"))\n",
    "\n",
    "x = max(a,b)\n",
    "y = min(a,b)\n",
    "s1 = 0\n",
    "s2 = 0\n",
    "\n",
    "for i in range(1, x):\n",
    "    \n",
    "    if x % i == 0:\n",
    "        s1 += i\n",
    "        \n",
    "    if y > i and y % i == 0:\n",
    "        s2 += i\n",
    "            \n",
    "if s1 == y and s2 == x:\n",
    "    print(\"Do'st sonlar\")\n",
    "else:\n",
    "    print(\"Do'st sonlar emas\")\n"
   ]
  },
  {
   "cell_type": "code",
   "execution_count": 35,
   "id": "de38960e",
   "metadata": {},
   "outputs": [
    {
     "name": "stdout",
     "output_type": "stream",
     "text": [
      "n = 35\n",
      "2 3 5 7 11 13 17 19 23 29 31 "
     ]
    }
   ],
   "source": [
    "# 37. tub sonlar: optimal\n",
    "\n",
    "n = int(input(\"n = \"))\n",
    "\n",
    "def tub_tezroq(n):\n",
    "    if n < 2:\n",
    "        return False\n",
    "    if n == 2:\n",
    "        return True\n",
    "    if n % 2 == 0:\n",
    "        return False\n",
    "    for i in range(3,n,2):\n",
    "        if n%i == 0:\n",
    "            return False\n",
    "    return True\n",
    "\n",
    "for i in range(1,n):\n",
    "    if tub_tezroq(i):\n",
    "        print(i, end=\" \")"
   ]
  }
 ],
 "metadata": {
  "kernelspec": {
   "display_name": "Python 3 (ipykernel)",
   "language": "python",
   "name": "python3"
  },
  "language_info": {
   "codemirror_mode": {
    "name": "ipython",
    "version": 3
   },
   "file_extension": ".py",
   "mimetype": "text/x-python",
   "name": "python",
   "nbconvert_exporter": "python",
   "pygments_lexer": "ipython3",
   "version": "3.9.7"
  }
 },
 "nbformat": 4,
 "nbformat_minor": 5
}
