{
 "cells": [
  {
   "cell_type": "markdown",
   "id": "fa2a7a0c",
   "metadata": {},
   "source": [
    "# Homework 3"
   ]
  },
  {
   "cell_type": "code",
   "execution_count": 1,
   "id": "3569749c",
   "metadata": {},
   "outputs": [
    {
     "name": "stdout",
     "output_type": "stream",
     "text": [
      "a = 2\n",
      "True\n"
     ]
    }
   ],
   "source": [
    "# 1-savol\n",
    "\n",
    "a = int(input(\"a = \"))\n",
    "print(a>0)"
   ]
  },
  {
   "cell_type": "code",
   "execution_count": 2,
   "id": "ac221872",
   "metadata": {},
   "outputs": [
    {
     "name": "stdout",
     "output_type": "stream",
     "text": [
      "a = 3\n",
      "True\n"
     ]
    }
   ],
   "source": [
    "# 2-savol\n",
    "\n",
    "a = int(input(\"a = \"))\n",
    "print(a%2==1)"
   ]
  },
  {
   "cell_type": "code",
   "execution_count": 3,
   "id": "4147e72e",
   "metadata": {},
   "outputs": [
    {
     "name": "stdout",
     "output_type": "stream",
     "text": [
      "a = 2\n",
      "True\n"
     ]
    }
   ],
   "source": [
    "# 3-savol\n",
    "\n",
    "a = int(input(\"a = \"))\n",
    "print(a%2==0)"
   ]
  },
  {
   "cell_type": "code",
   "execution_count": 4,
   "id": "5368caa7",
   "metadata": {},
   "outputs": [
    {
     "name": "stdout",
     "output_type": "stream",
     "text": [
      "a = 3\n",
      "b = 3\n",
      "True\n"
     ]
    }
   ],
   "source": [
    "# 4-savol\n",
    "\n",
    "a = int(input(\"a = \"))\n",
    "b = int(input(\"b = \"))\n",
    "print(a > 2 and b <= 3)"
   ]
  },
  {
   "cell_type": "code",
   "execution_count": 5,
   "id": "6f957f1d",
   "metadata": {},
   "outputs": [
    {
     "name": "stdout",
     "output_type": "stream",
     "text": [
      "a = 1\n",
      "b = -3\n",
      "True\n"
     ]
    }
   ],
   "source": [
    "# 5-savol\n",
    "\n",
    "a = int(input(\"a = \"))\n",
    "b = int(input(\"b = \"))\n",
    "print(a >= 0 and b < -2)"
   ]
  },
  {
   "cell_type": "code",
   "execution_count": 6,
   "id": "3602cec2",
   "metadata": {},
   "outputs": [
    {
     "name": "stdout",
     "output_type": "stream",
     "text": [
      "a = 1\n",
      "b = 23\n",
      "c = 34\n",
      "True\n"
     ]
    }
   ],
   "source": [
    "# 6-savol\n",
    "\n",
    "a = int(input(\"a = \"))\n",
    "b = int(input(\"b = \"))\n",
    "c = int(input(\"c = \"))\n",
    "print(a <= b and b <= c)"
   ]
  },
  {
   "cell_type": "code",
   "execution_count": 7,
   "id": "df45fcdf",
   "metadata": {},
   "outputs": [
    {
     "name": "stdout",
     "output_type": "stream",
     "text": [
      "a = 1\n",
      "b = 2\n",
      "c = 3\n",
      "True\n"
     ]
    }
   ],
   "source": [
    "# 7-savol\n",
    "\n",
    "a = int(input(\"a = \"))\n",
    "b = int(input(\"b = \"))\n",
    "c = int(input(\"c = \"))\n",
    "print(a < b and b < c)"
   ]
  },
  {
   "cell_type": "code",
   "execution_count": 9,
   "id": "39d439d3",
   "metadata": {},
   "outputs": [
    {
     "name": "stdout",
     "output_type": "stream",
     "text": [
      "a = 3\n",
      "b = 5\n",
      "True\n"
     ]
    }
   ],
   "source": [
    "# 8-savol\n",
    "\n",
    "a = int(input(\"a = \"))\n",
    "b = int(input(\"b = \"))\n",
    "print(a % 2 == 1 and b % 2 == 1)"
   ]
  },
  {
   "cell_type": "code",
   "execution_count": 10,
   "id": "848e4555",
   "metadata": {},
   "outputs": [
    {
     "name": "stdout",
     "output_type": "stream",
     "text": [
      "a = 2\n",
      "b = 3\n",
      "True\n"
     ]
    }
   ],
   "source": [
    "# 9-savol\n",
    "\n",
    "a = int(input(\"a = \"))\n",
    "b = int(input(\"b = \"))\n",
    "print(a % 2 == 1 or b % 2 == 1)"
   ]
  },
  {
   "cell_type": "code",
   "execution_count": 13,
   "id": "ebf47b5f",
   "metadata": {},
   "outputs": [
    {
     "name": "stdout",
     "output_type": "stream",
     "text": [
      "a = 5\n",
      "b = 4\n",
      "True\n"
     ]
    }
   ],
   "source": [
    "# 10-savol\n",
    "\n",
    "a = int(input(\"a = \"))\n",
    "b = int(input(\"b = \"))\n",
    "print((a % 2 == 1 and b % 2 == 0) or (a % 2 == 0 and b % 2 == 1))"
   ]
  },
  {
   "cell_type": "code",
   "execution_count": 16,
   "id": "2cb7d3ab",
   "metadata": {},
   "outputs": [
    {
     "name": "stdout",
     "output_type": "stream",
     "text": [
      "a = 2\n",
      "b = 4\n",
      "True\n"
     ]
    }
   ],
   "source": [
    "# 11-savol\n",
    "\n",
    "a = int(input(\"a = \"))\n",
    "b = int(input(\"b = \"))\n",
    "print((a % 2 == 1 and b % 2 == 1) or (a % 2 == 0 and b % 2 == 0))"
   ]
  },
  {
   "cell_type": "code",
   "execution_count": 18,
   "id": "e9dc9753",
   "metadata": {},
   "outputs": [
    {
     "name": "stdout",
     "output_type": "stream",
     "text": [
      "a = -1\n",
      "b = 0\n",
      "c = 2\n",
      "False\n"
     ]
    }
   ],
   "source": [
    "# 12-savol\n",
    "\n",
    "a = int(input(\"a = \"))\n",
    "b = int(input(\"b = \"))\n",
    "c = int(input(\"c = \"))\n",
    "\n",
    "print(a > 0 and b > 0 and c > 0)"
   ]
  },
  {
   "cell_type": "code",
   "execution_count": 19,
   "id": "f6815c6f",
   "metadata": {},
   "outputs": [
    {
     "name": "stdout",
     "output_type": "stream",
     "text": [
      "a = 1\n",
      "b = -2\n",
      "c = 0\n",
      "True\n"
     ]
    }
   ],
   "source": [
    "# 13-savol\n",
    "\n",
    "a = int(input(\"a = \"))\n",
    "b = int(input(\"b = \"))\n",
    "c = int(input(\"c = \"))\n",
    "\n",
    "print(a > 0 or b > 0 or c > 0)"
   ]
  },
  {
   "cell_type": "code",
   "execution_count": 21,
   "id": "1898b0cd",
   "metadata": {},
   "outputs": [
    {
     "name": "stdout",
     "output_type": "stream",
     "text": [
      "a = -1\n",
      "b = 9\n",
      "c = -3444\n",
      "True\n"
     ]
    }
   ],
   "source": [
    "# 14-savol\n",
    "\n",
    "a = int(input(\"a = \"))\n",
    "b = int(input(\"b = \"))\n",
    "c = int(input(\"c = \"))\n",
    "\n",
    "print((a > 0 and b <= 0 and c <= 0) or (a <= 0 and b > 0 and c <= 0) or (a <= 0 and b <= 0 and c > 0))"
   ]
  },
  {
   "cell_type": "code",
   "execution_count": 23,
   "id": "c82c4150",
   "metadata": {},
   "outputs": [
    {
     "name": "stdout",
     "output_type": "stream",
     "text": [
      "a = 2\n",
      "b = 3\n",
      "c = -3\n",
      "True\n"
     ]
    }
   ],
   "source": [
    "# 15-savol\n",
    "\n",
    "a = int(input(\"a = \"))\n",
    "b = int(input(\"b = \"))\n",
    "c = int(input(\"c = \"))\n",
    "\n",
    "print((a > 0 and b > 0 and c <= 0) or (a > 0 and b <= 0 and c > 0) or (a <= 0 and b > 0 and c > 0))"
   ]
  },
  {
   "cell_type": "code",
   "execution_count": 24,
   "id": "eefa8be9",
   "metadata": {},
   "outputs": [
    {
     "name": "stdout",
     "output_type": "stream",
     "text": [
      "a = 12\n",
      "True\n"
     ]
    }
   ],
   "source": [
    "# 16-savol\n",
    "\n",
    "a = int(input(\"a = \"))\n",
    "print(a // 100 == 0 and a % 2 == 0)"
   ]
  },
  {
   "cell_type": "code",
   "execution_count": 27,
   "id": "58dce3a9",
   "metadata": {},
   "outputs": [
    {
     "name": "stdout",
     "output_type": "stream",
     "text": [
      "a = 125\n",
      "True\n"
     ]
    }
   ],
   "source": [
    "# 17-savol\n",
    "\n",
    "a = int(input(\"a = \"))\n",
    "print(a // 1000 == 0 and a % 2 != 0)"
   ]
  },
  {
   "cell_type": "code",
   "execution_count": 32,
   "id": "31142155",
   "metadata": {},
   "outputs": [
    {
     "name": "stdout",
     "output_type": "stream",
     "text": [
      "a = 1\n",
      "b = 2\n",
      "c = 3\n",
      "False\n"
     ]
    }
   ],
   "source": [
    "# 18-savol\n",
    "\n",
    "a = int(input(\"a = \"))\n",
    "b = int(input(\"b = \"))\n",
    "c = int(input(\"c = \"))\n",
    "\n",
    "print((a == b or a == c or b == c))"
   ]
  },
  {
   "cell_type": "code",
   "execution_count": 3,
   "id": "ad5ec236",
   "metadata": {},
   "outputs": [
    {
     "name": "stdout",
     "output_type": "stream",
     "text": [
      "a = -1\n",
      "b = 1\n",
      "c = 2\n",
      "True\n"
     ]
    }
   ],
   "source": [
    "# 19-savol\n",
    "\n",
    "a = int(input(\"a = \"))\n",
    "b = int(input(\"b = \"))\n",
    "c = int(input(\"c = \"))\n",
    "\n",
    "print((a == (-1) * b or a == (-1) * c or b == (-1) * c))"
   ]
  },
  {
   "cell_type": "code",
   "execution_count": 33,
   "id": "3437fd31",
   "metadata": {},
   "outputs": [
    {
     "name": "stdout",
     "output_type": "stream",
     "text": [
      "Uch xonalik son: 123\n",
      "True\n"
     ]
    }
   ],
   "source": [
    "# 20-savol\n",
    "\n",
    "a = int(input(\"Uch xonalik son: \"))\n",
    "\n",
    "birlik = a % 10\n",
    "onlik = (a // 10) % 10\n",
    "yuzlik = (a // 100) % 10\n",
    "\n",
    "print(birlik != onlik and birlik != yuzlik and onlik != yuzlik)"
   ]
  },
  {
   "cell_type": "code",
   "execution_count": 5,
   "id": "fa2c37f0",
   "metadata": {},
   "outputs": [
    {
     "name": "stdout",
     "output_type": "stream",
     "text": [
      "Uch xonalik son: 321\n",
      "True\n"
     ]
    }
   ],
   "source": [
    "# 21-savol\n",
    "\n",
    "a = int(input(\"Uch xonalik son: \"))\n",
    "\n",
    "birlik = a % 10\n",
    "onlik = (a // 10) % 10\n",
    "yuzlik = (a // 100) % 10\n",
    "\n",
    "print(birlik < onlik and onlik < yuzlik)"
   ]
  },
  {
   "cell_type": "code",
   "execution_count": 7,
   "id": "81ebab34",
   "metadata": {},
   "outputs": [
    {
     "name": "stdout",
     "output_type": "stream",
     "text": [
      "Uch xonalik son: 321\n",
      "True\n"
     ]
    }
   ],
   "source": [
    "# 22-savol\n",
    "\n",
    "a = int(input(\"Uch xonalik son: \"))\n",
    "\n",
    "birlik = a % 10\n",
    "onlik = (a // 10) % 10\n",
    "yuzlik = (a // 100) % 10\n",
    "\n",
    "print(birlik < onlik and onlik < yuzlik or birlik > onlik and onlik > yuzlik)"
   ]
  },
  {
   "cell_type": "code",
   "execution_count": 8,
   "id": "1008016d",
   "metadata": {},
   "outputs": [
    {
     "name": "stdout",
     "output_type": "stream",
     "text": [
      "Uch xonalik son: 121\n",
      "True\n"
     ]
    }
   ],
   "source": [
    "# 23-savol\n",
    "\n",
    "a = int(input(\"Uch xonalik son: \"))\n",
    "\n",
    "birlik = a % 10\n",
    "yuzlik = (a // 100) % 10\n",
    "\n",
    "print(birlik == yuzlik)"
   ]
  },
  {
   "cell_type": "code",
   "execution_count": 12,
   "id": "e1d38cdb",
   "metadata": {},
   "outputs": [
    {
     "name": "stdout",
     "output_type": "stream",
     "text": [
      "a = 7\n",
      "b = 4\n",
      "c = 1\n",
      "False\n"
     ]
    }
   ],
   "source": [
    "# 24-savol\n",
    "\n",
    "a = int(input(\"a = \"))\n",
    "b = int(input(\"b = \"))\n",
    "c = int(input(\"c = \"))\n",
    "\n",
    "d = b**2 - 4 * a * c\n",
    "\n",
    "print(d >= 0)"
   ]
  },
  {
   "cell_type": "code",
   "execution_count": 13,
   "id": "92649f04",
   "metadata": {},
   "outputs": [
    {
     "name": "stdout",
     "output_type": "stream",
     "text": [
      "x = -1\n",
      "y = 2\n",
      "True\n"
     ]
    }
   ],
   "source": [
    "# 25-savol 2-chorakda\n",
    "\n",
    "x = int(input(\"x = \"))\n",
    "y = int(input(\"y = \"))\n",
    "\n",
    "print(x < 0 and y > 0)"
   ]
  },
  {
   "cell_type": "code",
   "execution_count": 14,
   "id": "49818ad8",
   "metadata": {},
   "outputs": [
    {
     "name": "stdout",
     "output_type": "stream",
     "text": [
      "x = 2\n",
      "y = -1\n",
      "True\n"
     ]
    }
   ],
   "source": [
    "# 26-savol 4-chorakda\n",
    "\n",
    "x = int(input(\"x = \"))\n",
    "y = int(input(\"y = \"))\n",
    "\n",
    "print(x > 0 and y < 0)"
   ]
  },
  {
   "cell_type": "code",
   "execution_count": 15,
   "id": "87c3a475",
   "metadata": {},
   "outputs": [
    {
     "name": "stdout",
     "output_type": "stream",
     "text": [
      "x = -1\n",
      "y = -2\n",
      "True\n"
     ]
    }
   ],
   "source": [
    "# 27-savol 2- yoki 3-chorakda\n",
    "\n",
    "x = int(input(\"x = \"))\n",
    "y = int(input(\"y = \"))\n",
    "\n",
    "print(x < 0 and y > 0 or x < 0 and y < 0)"
   ]
  },
  {
   "cell_type": "code",
   "execution_count": 17,
   "id": "c8220504",
   "metadata": {},
   "outputs": [
    {
     "name": "stdout",
     "output_type": "stream",
     "text": [
      "x = -1\n",
      "y = -2\n",
      "True\n"
     ]
    }
   ],
   "source": [
    "# 28-savol 1- yoki 3-chorakda\n",
    "\n",
    "x = int(input(\"x = \"))\n",
    "y = int(input(\"y = \"))\n",
    "\n",
    "print(x > 0 and y > 0 or x < 0 and y < 0)"
   ]
  },
  {
   "cell_type": "code",
   "execution_count": 18,
   "id": "3c46520e",
   "metadata": {},
   "outputs": [
    {
     "name": "stdout",
     "output_type": "stream",
     "text": [
      "x = 2\n",
      "y = 3\n",
      "x1 = 1\n",
      "y1 = 5\n",
      "x2 = 5\n",
      "y2 = 1\n",
      "True\n"
     ]
    }
   ],
   "source": [
    "# 29-savol\n",
    "\n",
    "x = int(input(\"x = \"))\n",
    "y = int(input(\"y = \"))\n",
    "x1 = int(input(\"x1 = \"))\n",
    "y1 = int(input(\"y1 = \"))\n",
    "x2 = int(input(\"x2 = \"))\n",
    "y2 = int(input(\"y2 = \"))\n",
    "\n",
    "\n",
    "print(x > x1 and x < x2 and y > y2 and y < y1)"
   ]
  },
  {
   "cell_type": "code",
   "execution_count": 22,
   "id": "2323efb1",
   "metadata": {},
   "outputs": [
    {
     "name": "stdout",
     "output_type": "stream",
     "text": [
      "a = 4\n",
      "b = 4\n",
      "c = 4\n",
      "True\n"
     ]
    }
   ],
   "source": [
    "# 30-savol: teng tomonli uchburchak\n",
    "\n",
    "a = int(input(\"a = \"))\n",
    "b = int(input(\"b = \"))\n",
    "c = int(input(\"c = \"))\n",
    "\n",
    "print(a == b and a == c)"
   ]
  },
  {
   "cell_type": "code",
   "execution_count": 20,
   "id": "5027e333",
   "metadata": {},
   "outputs": [
    {
     "name": "stdout",
     "output_type": "stream",
     "text": [
      "a = 1\n",
      "b = 5\n",
      "c = 5\n",
      "True\n"
     ]
    }
   ],
   "source": [
    "# 31-savol\n",
    "\n",
    "a = int(input(\"a = \"))\n",
    "b = int(input(\"b = \"))\n",
    "c = int(input(\"c = \"))\n",
    "\n",
    "print(a == b or a == b or b == c)"
   ]
  },
  {
   "cell_type": "code",
   "execution_count": 25,
   "id": "a998858c",
   "metadata": {},
   "outputs": [
    {
     "name": "stdout",
     "output_type": "stream",
     "text": [
      "a = 3\n",
      "b = 5\n",
      "c = 6\n",
      "True\n"
     ]
    }
   ],
   "source": [
    "# 32-savol\n",
    "\n",
    "a = int(input(\"a = \"))\n",
    "b = int(input(\"b = \"))\n",
    "c = int(input(\"c = \"))\n",
    "\n",
    "print((2 * a == c or 2 * b == c) or (2 * a == b or 2 * c == b) or (2 * b == a or 2 * c == a))"
   ]
  },
  {
   "cell_type": "code",
   "execution_count": 27,
   "id": "fed138e4",
   "metadata": {},
   "outputs": [
    {
     "name": "stdout",
     "output_type": "stream",
     "text": [
      "a = 3\n",
      "b = 4\n",
      "c = 5\n",
      "True\n"
     ]
    }
   ],
   "source": [
    "# 33-savol\n",
    "\n",
    "a = int(input(\"a = \"))\n",
    "b = int(input(\"b = \"))\n",
    "c = int(input(\"c = \"))\n",
    "\n",
    "print(a > b - c and b > a - c and c > a - b and a < b + c and b < a + c and c < a + b)"
   ]
  },
  {
   "cell_type": "code",
   "execution_count": 28,
   "id": "1d675c12",
   "metadata": {},
   "outputs": [
    {
     "name": "stdout",
     "output_type": "stream",
     "text": [
      "1-8 oralig'idagi son: 5\n",
      "1-8 oralig'idagi son: 6\n",
      "True\n"
     ]
    }
   ],
   "source": [
    "# 34-savol\n",
    "\n",
    "x = int(input(\"1-8 oralig'idagi son: \"))\n",
    "y = int(input(\"1-8 oralig'idagi son: \"))\n",
    "\n",
    "print( (x + y) % 2 == 1)"
   ]
  },
  {
   "cell_type": "code",
   "execution_count": 29,
   "id": "a077452e",
   "metadata": {},
   "outputs": [
    {
     "name": "stdout",
     "output_type": "stream",
     "text": [
      "1-8 oralig'idagi son: 5\n",
      "1-8 oralig'idagi son: 6\n",
      "1-8 oralig'idagi son: 4\n",
      "1-8 oralig'idagi son: 5\n",
      "True\n"
     ]
    }
   ],
   "source": [
    "# 35-savol\n",
    "\n",
    "x1 = int(input(\"1-8 oralig'idagi son: \"))\n",
    "y1 = int(input(\"1-8 oralig'idagi son: \"))\n",
    "x2 = int(input(\"1-8 oralig'idagi son: \"))\n",
    "y2 = int(input(\"1-8 oralig'idagi son: \"))\n",
    "\n",
    "print((x1 + y1) % 2 == 0 and (x2 + y2) % 2 == 0 or (x1 + y1) % 2 == 1 and (x2 + y2) % 2 == 1)"
   ]
  },
  {
   "cell_type": "code",
   "execution_count": 31,
   "id": "2d69a22a",
   "metadata": {},
   "outputs": [
    {
     "name": "stdout",
     "output_type": "stream",
     "text": [
      "1-8 oralig'idagi son: 4\n",
      "1-8 oralig'idagi son: 3\n",
      "1-8 oralig'idagi son: 7\n",
      "1-8 oralig'idagi son: 3\n",
      "True\n"
     ]
    }
   ],
   "source": [
    "# 36-savol: ruh\n",
    "\n",
    "x1 = int(input(\"1-8 oralig'idagi son: \"))\n",
    "y1 = int(input(\"1-8 oralig'idagi son: \"))\n",
    "x2 = int(input(\"1-8 oralig'idagi son: \"))\n",
    "y2 = int(input(\"1-8 oralig'idagi son: \"))\n",
    "\n",
    "print(x1 == x2 or y1 == y2)"
   ]
  },
  {
   "cell_type": "code",
   "execution_count": 32,
   "id": "d3c1093d",
   "metadata": {},
   "outputs": [
    {
     "name": "stdout",
     "output_type": "stream",
     "text": [
      "1-8 oralig'idagi son: 4\n",
      "1-8 oralig'idagi son: 2\n",
      "1-8 oralig'idagi son: 3\n",
      "1-8 oralig'idagi son: 2\n",
      "True\n"
     ]
    }
   ],
   "source": [
    "# 37-savol: shox\n",
    "\n",
    "x1 = int(input(\"1-8 oralig'idagi son: \"))\n",
    "y1 = int(input(\"1-8 oralig'idagi son: \"))\n",
    "x2 = int(input(\"1-8 oralig'idagi son: \"))\n",
    "y2 = int(input(\"1-8 oralig'idagi son: \"))\n",
    "\n",
    "print( (x1 == x2 and abs(y1 - y2) == 1) or (y1 == y2 and abs(x1 - x2) == 1))"
   ]
  },
  {
   "cell_type": "code",
   "execution_count": 33,
   "id": "3336ad1c",
   "metadata": {},
   "outputs": [
    {
     "name": "stdout",
     "output_type": "stream",
     "text": [
      "1-8 oralig'idagi son: 5\n",
      "1-8 oralig'idagi son: 3\n",
      "1-8 oralig'idagi son: 7\n",
      "1-8 oralig'idagi son: 1\n",
      "True\n"
     ]
    }
   ],
   "source": [
    "# 38-savol: fil\n",
    "\n",
    "x1 = int(input(\"1-8 oralig'idagi son: \"))\n",
    "y1 = int(input(\"1-8 oralig'idagi son: \"))\n",
    "x2 = int(input(\"1-8 oralig'idagi son: \"))\n",
    "y2 = int(input(\"1-8 oralig'idagi son: \"))\n",
    "\n",
    "print(abs(x1 - x2) == abs(y1 - y2))"
   ]
  },
  {
   "cell_type": "code",
   "execution_count": 36,
   "id": "e6bc2dc8",
   "metadata": {},
   "outputs": [
    {
     "name": "stdout",
     "output_type": "stream",
     "text": [
      "1-8 oralig'idagi son: 5\n",
      "1-8 oralig'idagi son: 3\n",
      "1-8 oralig'idagi son: 8\n",
      "1-8 oralig'idagi son: 6\n",
      "True\n"
     ]
    }
   ],
   "source": [
    "# 39-savol: farzn\n",
    "\n",
    "x1 = int(input(\"1-8 oralig'idagi son: \"))\n",
    "y1 = int(input(\"1-8 oralig'idagi son: \"))\n",
    "x2 = int(input(\"1-8 oralig'idagi son: \"))\n",
    "y2 = int(input(\"1-8 oralig'idagi son: \"))\n",
    "\n",
    "print((x1 == x2 or y1 == y2) or (abs(x1 - x2) == abs(y1 - y2)))"
   ]
  },
  {
   "cell_type": "code",
   "execution_count": 38,
   "id": "7546ba1b",
   "metadata": {},
   "outputs": [
    {
     "name": "stdout",
     "output_type": "stream",
     "text": [
      "1-8 oralig'idagi son: 8\n",
      "1-8 oralig'idagi son: 8\n",
      "1-8 oralig'idagi son: 7\n",
      "1-8 oralig'idagi son: 6\n",
      "True\n"
     ]
    }
   ],
   "source": [
    "# 40-savol: ot\n",
    "\n",
    "x1 = int(input(\"1-8 oralig'idagi son: \"))\n",
    "y1 = int(input(\"1-8 oralig'idagi son: \"))\n",
    "x2 = int(input(\"1-8 oralig'idagi son: \"))\n",
    "y2 = int(input(\"1-8 oralig'idagi son: \"))\n",
    "\n",
    "print( (abs(x1 - x2) == 1 and abs(y1 - y2) == 2) or (abs(x1 - x2) == 2 and abs(y1 - y2) == 1))"
   ]
  }
 ],
 "metadata": {
  "kernelspec": {
   "display_name": "Python 3 (ipykernel)",
   "language": "python",
   "name": "python3"
  },
  "language_info": {
   "codemirror_mode": {
    "name": "ipython",
    "version": 3
   },
   "file_extension": ".py",
   "mimetype": "text/x-python",
   "name": "python",
   "nbconvert_exporter": "python",
   "pygments_lexer": "ipython3",
   "version": "3.9.7"
  }
 },
 "nbformat": 4,
 "nbformat_minor": 5
}
